{
 "cells": [
  {
   "cell_type": "markdown",
   "id": "73abe856",
   "metadata": {},
   "source": [
    "# Units\n",
    "\n",
    "In ***Synthesizer*** all quantities a user interacts with (that are not dimensionless) have units associated to them to avoid confusion. We implement this functionality with the ***unyt*** package. \n",
    "\n",
    "When interfacing with ***Synthesizer*** objects and methods a user should provide quantites with units attached to them. This can be easily achieved with the ***unyt*** package."
   ]
  },
  {
   "cell_type": "code",
   "execution_count": 1,
   "id": "6e7269d6",
   "metadata": {
    "execution": {
     "iopub.execute_input": "2023-10-19T09:00:13.597834Z",
     "iopub.status.busy": "2023-10-19T09:00:13.596851Z",
     "iopub.status.idle": "2023-10-19T09:00:14.477484Z",
     "shell.execute_reply": "2023-10-19T09:00:14.476510Z"
    }
   },
   "outputs": [
    {
     "name": "stdout",
     "output_type": "stream",
     "text": [
      "1 Mpc\n",
      "x is now a unyt_quantity: type(x)= <class 'unyt.array.unyt_quantity'>\n"
     ]
    }
   ],
   "source": [
    "from unyt import Mpc\n",
    "\n",
    "\n",
    "# Define a variable with units \n",
    "x = 1 * Mpc\n",
    "\n",
    "print(x)\n",
    "print(\"x is now a unyt_quantity: type(x)=\", type(x))"
   ]
  },
  {
   "cell_type": "markdown",
   "id": "7fd94ede",
   "metadata": {},
   "source": [
    "All unit functionality in ***Synthesizer*** is house in the `units` module. In this module we have defined a dictionary containing the default units of all attributes throughout ***Synthesizer***."
   ]
  },
  {
   "cell_type": "code",
   "execution_count": 2,
   "id": "7dcfa700",
   "metadata": {
    "execution": {
     "iopub.execute_input": "2023-10-19T09:00:14.481732Z",
     "iopub.status.busy": "2023-10-19T09:00:14.481365Z",
     "iopub.status.idle": "2023-10-19T09:00:16.471542Z",
     "shell.execute_reply": "2023-10-19T09:00:16.470639Z"
    }
   },
   "outputs": [
    {
     "name": "stdout",
     "output_type": "stream",
     "text": [
      "{'lam': Å, 'obslam': Å, 'wavelength': Å, 'original_lam': Å, 'lam_min': Å, 'lam_max': Å, 'lam_eff': Å, 'lam_fwhm': Å, 'mean_lams': Å, 'pivot_lams': Å, 'nu': Hz, 'obsnu': Hz, 'nuz': Hz, 'original_nu': Hz, 'luminosity': erg/s, 'lnu': erg/(Hz*s), 'llam': erg/(s*Å), 'continuum': erg/(Hz*s), 'flux': erg/(cm**2*s), 'fnu': nJy, 'ew': Å, 'coordinates': Mpc, 'smoothing_lengths': Mpc, 'softening_length': Mpc, 'velocities': km/s, 'masses': unyt_quantity(1., 'Msun'), 'initial_masses': unyt_quantity(1., 'Msun'), 'current_masses': unyt_quantity(1., 'Msun'), 'ages': yr, 'accretion_rate': unyt_quantity(1., 'Msun/yr'), 'bol_luminosity': erg/s, 'bb_temperature': K}\n"
     ]
    }
   ],
   "source": [
    "from synthesizer.units import default_units\n",
    "\n",
    "\n",
    "print(default_units)"
   ]
  },
  {
   "cell_type": "markdown",
   "id": "5a671fb3",
   "metadata": {},
   "source": [
    "As you can see, most units are defined symbollically, however, you may notice units such as `Msun` (the default used for masses) is defined as a compound unit in terms of `kg`s. Shortly we will cover working with the quantities returned by ***Synthesizer*** and how compound units work in practice.\n",
    "\n",
    "## The `Units` object\n",
    "\n",
    "The unit system is defined by the `Units` object. This object contains a collection of attributes defining the units associated to each quantity throughout ***Synthesizer*** which is not dimensionless. Importantly, `Units` is a `Singleton` object. This means there can only ever be one instance of `Units`, if a second is instantiated then the first is returned. This ensures that the unit system remains consistent when running ***Synthesizer***."
   ]
  },
  {
   "cell_type": "code",
   "execution_count": 3,
   "id": "cc9bbeda",
   "metadata": {
    "execution": {
     "iopub.execute_input": "2023-10-19T09:00:16.475823Z",
     "iopub.status.busy": "2023-10-19T09:00:16.475473Z",
     "iopub.status.idle": "2023-10-19T09:00:16.481016Z",
     "shell.execute_reply": "2023-10-19T09:00:16.479860Z"
    }
   },
   "outputs": [
    {
     "name": "stdout",
     "output_type": "stream",
     "text": [
      "Both units instances are the same object: True\n"
     ]
    }
   ],
   "source": [
    "from synthesizer.units import Units\n",
    "\n",
    "# Define multiple Units instances\n",
    "units1 = Units()\n",
    "units2 = Units()\n",
    "\n",
    "print(\"Both units instances are the same object:\", units1 is units2)"
   ]
  },
  {
   "cell_type": "markdown",
   "id": "15300808",
   "metadata": {},
   "source": [
    "You can take a look at the unit system by printing the instance of `Units`."
   ]
  },
  {
   "cell_type": "code",
   "execution_count": 4,
   "id": "861b8c98",
   "metadata": {
    "execution": {
     "iopub.execute_input": "2023-10-19T09:00:16.484867Z",
     "iopub.status.busy": "2023-10-19T09:00:16.484579Z",
     "iopub.status.idle": "2023-10-19T09:00:16.490224Z",
     "shell.execute_reply": "2023-10-19T09:00:16.489373Z"
    }
   },
   "outputs": [
    {
     "name": "stdout",
     "output_type": "stream",
     "text": [
      "Unit System: \n",
      "lam:                Å\n",
      "obslam:             Å\n",
      "wavelength:         Å\n",
      "original_lam:       Å\n",
      "lam_min:            Å\n",
      "lam_max:            Å\n",
      "lam_eff:            Å\n",
      "lam_fwhm:           Å\n",
      "mean_lams:          Å\n",
      "pivot_lams:         Å\n",
      "nu:                 Hz\n",
      "obsnu:              Hz\n",
      "nuz:                Hz\n",
      "original_nu:        Hz\n",
      "luminosity:         erg/s\n",
      "lnu:                erg/(Hz*s)\n",
      "llam:               erg/(s*Å)\n",
      "continuum:          erg/(Hz*s)\n",
      "flux:               erg/(cm**2*s)\n",
      "fnu:                nJy\n",
      "ew:                 Å\n",
      "coordinates:        Mpc\n",
      "smoothing_lengths:  Mpc\n",
      "softening_length:   Mpc\n",
      "velocities:         km/s\n",
      "masses:             0.9999999999999999 Msun\n",
      "initial_masses:     0.9999999999999999 Msun\n",
      "current_masses:     0.9999999999999999 Msun\n",
      "ages:               yr\n",
      "accretion_rate:     0.9999999999999999 Msun/yr\n",
      "bol_luminosity:     erg/s\n",
      "bb_temperature:     K\n",
      "\n"
     ]
    }
   ],
   "source": [
    "print(units1)"
   ]
  },
  {
   "cell_type": "markdown",
   "id": "6abbd577",
   "metadata": {},
   "source": [
    "## Modifying the default unit system\n",
    "\n",
    "If the default unit system works for your needs then you don't need to do anything. You will never interact with the `Units` object and all quantites will have the default units associated to them automatically. However, if you need to change one or more of the units used you can import `Units` and instantiate it with a dictionary of the modified quantities.\n"
   ]
  },
  {
   "cell_type": "code",
   "execution_count": 5,
   "id": "3ad7727b",
   "metadata": {
    "execution": {
     "iopub.execute_input": "2023-10-19T09:00:16.494662Z",
     "iopub.status.busy": "2023-10-19T09:00:16.493949Z",
     "iopub.status.idle": "2023-10-19T09:00:16.500753Z",
     "shell.execute_reply": "2023-10-19T09:00:16.499792Z"
    }
   },
   "outputs": [
    {
     "name": "stdout",
     "output_type": "stream",
     "text": [
      "WARNING! Units are already set. \n",
      "Any modified units will not take effect. \n",
      "Units should be configured before running anything else... \n",
      "but you could (and shouldn't) force it: Units(new_units_dict, force=True).\n",
      "\n",
      "Unit System: \n",
      "lam:                Å\n",
      "obslam:             Å\n",
      "wavelength:         Å\n",
      "original_lam:       Å\n",
      "lam_min:            Å\n",
      "lam_max:            Å\n",
      "lam_eff:            Å\n",
      "lam_fwhm:           Å\n",
      "mean_lams:          Å\n",
      "pivot_lams:         Å\n",
      "nu:                 Hz\n",
      "obsnu:              Hz\n",
      "nuz:                Hz\n",
      "original_nu:        Hz\n",
      "luminosity:         erg/s\n",
      "lnu:                erg/(Hz*s)\n",
      "llam:               erg/(s*Å)\n",
      "continuum:          erg/(Hz*s)\n",
      "flux:               erg/(cm**2*s)\n",
      "fnu:                nJy\n",
      "ew:                 Å\n",
      "coordinates:        Mpc\n",
      "smoothing_lengths:  Mpc\n",
      "softening_length:   Mpc\n",
      "velocities:         km/s\n",
      "masses:             0.9999999999999999 Msun\n",
      "initial_masses:     0.9999999999999999 Msun\n",
      "current_masses:     0.9999999999999999 Msun\n",
      "ages:               yr\n",
      "accretion_rate:     0.9999999999999999 Msun/yr\n",
      "bol_luminosity:     erg/s\n",
      "bb_temperature:     K\n",
      "\n"
     ]
    }
   ],
   "source": [
    "from unyt import kpc, Myr\n",
    "\n",
    "\n",
    "# Make the dictionary containing the units we want to change\n",
    "new_units = {'coordinates': kpc, 'smoothing_lengths': kpc, 'softening_length': kpc, 'ages': Myr}\n",
    "\n",
    "# Set up the modified unit system\n",
    "units = Units(new_units)\n",
    "\n",
    "print()\n",
    "print(units)"
   ]
  },
  {
   "cell_type": "markdown",
   "id": "b2216885",
   "metadata": {},
   "source": [
    "Something has gone wrong... but recall that the unit system will return the original if one exists, so actually this should be completely expected.\n",
    "\n",
    "This issue highlights the need to set up `Units` **before** doing anything else. If any computations have been done the `Units` instance will exist and will not be modifiable after the fact. However, should you fall in this trap the code will warn you as above, no hidden gotchas here!\n",
    "\n",
    "Now, lets go against the advise above and use the **highly inadviasble** force argument to get a new Unit system but note, **in a real use case forcing a modified unit system WILL NOT convert existing quantities to the new unit system**."
   ]
  },
  {
   "cell_type": "code",
   "execution_count": 6,
   "id": "1b2ce6f0",
   "metadata": {
    "execution": {
     "iopub.execute_input": "2023-10-19T09:00:16.505365Z",
     "iopub.status.busy": "2023-10-19T09:00:16.504532Z",
     "iopub.status.idle": "2023-10-19T09:00:16.511913Z",
     "shell.execute_reply": "2023-10-19T09:00:16.511024Z"
    }
   },
   "outputs": [
    {
     "name": "stdout",
     "output_type": "stream",
     "text": [
      "Redefining unit system:\n",
      "coordinates: kpc\n",
      "smoothing_lengths: kpc\n",
      "softening_length: kpc\n",
      "ages: Myr\n",
      "\n",
      "Unit System: \n",
      "lam:                Å\n",
      "obslam:             Å\n",
      "wavelength:         Å\n",
      "original_lam:       Å\n",
      "lam_min:            Å\n",
      "lam_max:            Å\n",
      "lam_eff:            Å\n",
      "lam_fwhm:           Å\n",
      "mean_lams:          Å\n",
      "pivot_lams:         Å\n",
      "nu:                 Hz\n",
      "obsnu:              Hz\n",
      "nuz:                Hz\n",
      "original_nu:        Hz\n",
      "luminosity:         erg/s\n",
      "lnu:                erg/(Hz*s)\n",
      "llam:               erg/(s*Å)\n",
      "continuum:          erg/(Hz*s)\n",
      "flux:               erg/(cm**2*s)\n",
      "fnu:                nJy\n",
      "ew:                 Å\n",
      "coordinates:        kpc\n",
      "smoothing_lengths:  kpc\n",
      "softening_length:   kpc\n",
      "velocities:         km/s\n",
      "masses:             0.9999999999999999 Msun\n",
      "initial_masses:     0.9999999999999999 Msun\n",
      "current_masses:     0.9999999999999999 Msun\n",
      "ages:               Myr\n",
      "accretion_rate:     0.9999999999999999 Msun/yr\n",
      "bol_luminosity:     erg/s\n",
      "bb_temperature:     K\n",
      "\n"
     ]
    }
   ],
   "source": [
    "# Set up the modified unit system\n",
    "units = Units(new_units, force=True)\n",
    "\n",
    "print()\n",
    "print(units)"
   ]
  },
  {
   "cell_type": "markdown",
   "id": "66d9fba2",
   "metadata": {},
   "source": [
    "## Working with `Quantity`s\n",
    "\n",
    "As previously mentioned, there is no need to work with the `Units` object itself beyond intially defining a modified unit system. Beyond this all unit operations are handled \"behind the scenes\". This hidden functionality is enabled by the `Qunatity` object. \n",
    "\n",
    "All attributes on ***Synthesizer*** objects which carry units are in fact `Quantity`s. `Quantitiy`s carry a reference to the global unit system and extract the appropriate units depending on the name of the variable storing the `Quantity`. As such a user will never instantiate a quantity themselves but there usage is important. \n",
    "\n",
    "The one simple thing to keep in mind is how to return the value with or without units. This is achieved by the application or omission of a leading underscore to a variable name. \n",
    "\n",
    "Lets create an `Sed` which has a wavelength array stored under `lam`. Note that since we are not explictly passing units the default unit system is assumed."
   ]
  },
  {
   "cell_type": "code",
   "execution_count": 7,
   "id": "90d3dee4",
   "metadata": {
    "execution": {
     "iopub.execute_input": "2023-10-19T09:00:16.516744Z",
     "iopub.status.busy": "2023-10-19T09:00:16.516205Z",
     "iopub.status.idle": "2023-10-19T09:00:16.524488Z",
     "shell.execute_reply": "2023-10-19T09:00:16.523409Z"
    }
   },
   "outputs": [],
   "source": [
    "import numpy as np\n",
    "from synthesizer.sed import Sed\n",
    "\n",
    "\n",
    "# Make an sed with arbitrary arguments\n",
    "sed = Sed(lam=np.linspace(10, 1000, 10), lnu=np.ones(10))"
   ]
  },
  {
   "cell_type": "markdown",
   "id": "56379b6a",
   "metadata": {},
   "source": [
    "We can access this attribute with units as you would expect to access any attribute."
   ]
  },
  {
   "cell_type": "code",
   "execution_count": 8,
   "id": "5428bafb",
   "metadata": {
    "execution": {
     "iopub.execute_input": "2023-10-19T09:00:16.528459Z",
     "iopub.status.busy": "2023-10-19T09:00:16.527910Z",
     "iopub.status.idle": "2023-10-19T09:00:16.533478Z",
     "shell.execute_reply": "2023-10-19T09:00:16.532643Z"
    }
   },
   "outputs": [
    {
     "name": "stdout",
     "output_type": "stream",
     "text": [
      "[  10.  120.  230.  340.  450.  560.  670.  780.  890. 1000.] Å\n"
     ]
    }
   ],
   "source": [
    "print(sed.lam)"
   ]
  },
  {
   "cell_type": "markdown",
   "id": "67d252c4",
   "metadata": {},
   "source": [
    "Or we can append a leading underscore and return it without units."
   ]
  },
  {
   "cell_type": "code",
   "execution_count": 9,
   "id": "bede4ad7",
   "metadata": {
    "execution": {
     "iopub.execute_input": "2023-10-19T09:00:16.537440Z",
     "iopub.status.busy": "2023-10-19T09:00:16.536731Z",
     "iopub.status.idle": "2023-10-19T09:00:16.542048Z",
     "shell.execute_reply": "2023-10-19T09:00:16.541216Z"
    }
   },
   "outputs": [
    {
     "name": "stdout",
     "output_type": "stream",
     "text": [
      "[  10.  120.  230.  340.  450.  560.  670.  780.  890. 1000.]\n"
     ]
    }
   ],
   "source": [
    "print(sed._lam)"
   ]
  },
  {
   "cell_type": "markdown",
   "id": "f2c13e38",
   "metadata": {},
   "source": [
    "In the case of compound units this is marginly messier. Lets demonstrate with some `Stars`."
   ]
  },
  {
   "cell_type": "code",
   "execution_count": 10,
   "id": "f486e240",
   "metadata": {
    "execution": {
     "iopub.execute_input": "2023-10-19T09:00:16.546145Z",
     "iopub.status.busy": "2023-10-19T09:00:16.545398Z",
     "iopub.status.idle": "2023-10-19T09:00:16.550178Z",
     "shell.execute_reply": "2023-10-19T09:00:16.549369Z"
    }
   },
   "outputs": [],
   "source": [
    "from synthesizer.particle.stars import Stars\n",
    "\n",
    "\n",
    "# Create a dummy Stars object\n",
    "stars = Stars(initial_masses=np.random.rand(10), ages=np.ones(10), metallicities=np.ones(10))"
   ]
  },
  {
   "cell_type": "markdown",
   "id": "68c42568",
   "metadata": {},
   "source": [
    "If we print the `initial_masses` with units we get the compound version in `kg`."
   ]
  },
  {
   "cell_type": "code",
   "execution_count": 11,
   "id": "0bbebc98",
   "metadata": {
    "execution": {
     "iopub.execute_input": "2023-10-19T09:00:16.554404Z",
     "iopub.status.busy": "2023-10-19T09:00:16.553742Z",
     "iopub.status.idle": "2023-10-19T09:00:16.559425Z",
     "shell.execute_reply": "2023-10-19T09:00:16.558495Z"
    }
   },
   "outputs": [
    {
     "name": "stdout",
     "output_type": "stream",
     "text": [
      "[0.49642318 0.58198317 0.93894223 0.81276698 0.11181957 0.17934533\n",
      " 0.60391287 0.25120091 0.5269162  0.53161873] Msun\n"
     ]
    }
   ],
   "source": [
    "print(stars.initial_masses)"
   ]
  },
  {
   "cell_type": "markdown",
   "id": "69fb800d",
   "metadata": {},
   "source": [
    "However, if we extract the values alone we get the values we expect in $M_\\odot$."
   ]
  },
  {
   "cell_type": "code",
   "execution_count": 12,
   "id": "84df0365",
   "metadata": {
    "execution": {
     "iopub.execute_input": "2023-10-19T09:00:16.568870Z",
     "iopub.status.busy": "2023-10-19T09:00:16.568574Z",
     "iopub.status.idle": "2023-10-19T09:00:16.573659Z",
     "shell.execute_reply": "2023-10-19T09:00:16.572849Z"
    }
   },
   "outputs": [
    {
     "name": "stdout",
     "output_type": "stream",
     "text": [
      "[0.49642318 0.58198317 0.93894223 0.81276698 0.11181957 0.17934533\n",
      " 0.60391287 0.25120091 0.5269162  0.53161873]\n"
     ]
    }
   ],
   "source": [
    "print(stars._initial_masses)"
   ]
  },
  {
   "cell_type": "markdown",
   "id": "6c5a4386",
   "metadata": {},
   "source": [
    "Its worth keeping this in mind whenever extracting masses from ***Synthesizer*** objects.\n",
    "\n",
    "### Automatic unit conversion\n",
    "\n",
    "Finally lets utilise some automatic unit conversion. If we have a mixture of properties to input to a ***Synthesizer*** object, all with different units to the global unit system, we don't have to convert them all before inputting them. As long as we pass them to ***Synthesizer*** with ***unyt*** units attached, the conversion will be handled automatically. Here we use a Stars object again to demonstrate."
   ]
  },
  {
   "cell_type": "code",
   "execution_count": 13,
   "id": "3276790f",
   "metadata": {
    "execution": {
     "iopub.execute_input": "2023-10-19T09:00:16.577610Z",
     "iopub.status.busy": "2023-10-19T09:00:16.577122Z",
     "iopub.status.idle": "2023-10-19T09:00:16.586553Z",
     "shell.execute_reply": "2023-10-19T09:00:16.585703Z"
    }
   },
   "outputs": [
    {
     "name": "stdout",
     "output_type": "stream",
     "text": [
      "stars.initial_masses[0]= 2.988683824984409 Msun = 2.9886838249844097 Msun\n",
      "stars.ages[0]= 1000000.0 yr\n",
      "stars.coordinates[0]= [0.86110655 0.68158134 0.68775774] Mpc\n",
      "stars.smoothing_lengths[0]= 0.013048452070342444 Mpc\n"
     ]
    }
   ],
   "source": [
    "from unyt import Mpc, g, m\n",
    "\n",
    "\n",
    "# Create a dummy Stars object\n",
    "stars = Stars(initial_masses=np.random.rand(10) * 10 ** 34. * g, \n",
    "              ages=np.ones(10) * Myr, \n",
    "              metallicities=np.ones(10), \n",
    "              coordinates=np.random.rand(10, 3) * Mpc, \n",
    "              smoothing_lengths=np.random.rand(10) * 10**22. * m)\n",
    "\n",
    "print(\"stars.initial_masses[0]=\", stars.initial_masses[0], \"=\", stars._initial_masses[0], \"Msun\")\n",
    "print(\"stars.ages[0]=\", stars.ages[0])\n",
    "print(\"stars.coordinates[0]=\", stars.coordinates[0])\n",
    "print(\"stars.smoothing_lengths[0]=\", stars.smoothing_lengths[0])"
   ]
  }
 ],
 "metadata": {
  "language_info": {
   "codemirror_mode": {
    "name": "ipython",
    "version": 3
   },
   "file_extension": ".py",
   "mimetype": "text/x-python",
   "name": "python",
   "nbconvert_exporter": "python",
   "pygments_lexer": "ipython3",
   "version": "3.10.13"
  }
 },
 "nbformat": 4,
 "nbformat_minor": 5
}
