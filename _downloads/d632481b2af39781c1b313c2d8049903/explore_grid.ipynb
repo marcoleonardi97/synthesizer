{
  "cells": [
    {
      "cell_type": "markdown",
      "metadata": {},
      "source": [
        "\n# Explore a grid\n\nThis example allows us to load a HDF5 grid file and explore the corresponding Grid object.\n"
      ]
    },
    {
      "cell_type": "code",
      "execution_count": null,
      "metadata": {
        "collapsed": false
      },
      "outputs": [],
      "source": [
        "import h5py\nimport os\nfrom synthesizer.grid import Grid\n\nif __name__ == \"__main__\":\n    # Get the location of this script, __file__ is the absolute path of this\n    # script, however we just want to directory\n    # script_path = os.path.abspath(os.path.dirname(__file__))\n\n    # Define the grid\n    grid_name = \"test_grid\"\n    grid_dir = \"../../tests/test_grid/\"\n\n    # explore HDF5 grid\n    with h5py.File(f\"{grid_dir}/{grid_name}.hdf5\", \"r\") as hf:\n        for k, v in hf.attrs.items():\n            print(\"    -\", k, \":\", v)\n\n        hf.visit(print)\n\n    # open grid object\n    grid = Grid(grid_name, grid_dir=grid_dir)\n    print(grid)"
      ]
    }
  ],
  "metadata": {
    "kernelspec": {
      "display_name": "Python 3",
      "language": "python",
      "name": "python3"
    },
    "language_info": {
      "codemirror_mode": {
        "name": "ipython",
        "version": 3
      },
      "file_extension": ".py",
      "mimetype": "text/x-python",
      "name": "python",
      "nbconvert_exporter": "python",
      "pygments_lexer": "ipython3",
      "version": "3.10.12"
    }
  },
  "nbformat": 4,
  "nbformat_minor": 0
}