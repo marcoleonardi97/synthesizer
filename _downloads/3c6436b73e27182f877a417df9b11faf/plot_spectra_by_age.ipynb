{
  "cells": [
    {
      "cell_type": "markdown",
      "metadata": {},
      "source": [
        "\n# Plot spectra by age\n\nThis example plots all the spectra for a single metallicity.\n"
      ]
    },
    {
      "cell_type": "code",
      "execution_count": null,
      "metadata": {
        "collapsed": false
      },
      "outputs": [],
      "source": [
        "import argparse\nimport glob\nimport os\nimport numpy as np\nimport matplotlib as mpl\nimport matplotlib.pyplot as plt\nimport matplotlib.cm as cm\nimport cmasher as cmr\n\n\nfrom synthesizer.utils import fnu_to_flam\nfrom synthesizer.grid import Grid\n\n\n# colourmap to use\ncmap = cmr.bubblegum\n\n# mapping of age to colour\nnorm = mpl.colors.Normalize(vmin=5.0, vmax=11.0)\n\n\ndef plot_spectra_age(grid, target_Z, spec_name=\"incident\"):\n    # get closest metallicity grid point\n    grid_point = grid.get_grid_point((grid.log10age[0], target_Z))\n    # metallicity grid point\n    iZ = grid_point[1]\n\n    # get actual metallicity for that grid point and print it\n    Z = grid.metallicity[iZ]\n    # print(f'target metallicity: {target_Z:.2f}')\n    # print(f'metallicity: {Z:.2f}')\n\n    # initialise plot\n    fig = plt.figure(figsize=(3.5, 5.0))\n\n    left = 0.15\n    height = 0.8\n    bottom = 0.1\n    width = 0.8\n\n    # define main ax\n    ax = fig.add_axes((left, bottom, width, height))\n\n    # define colourbar ax\n    cax = fig.add_axes((left, bottom + height, width, 0.02))\n\n    # add colourbar\n    cbar = fig.colorbar(\n        cm.ScalarMappable(norm=norm, cmap=cmap), cax=cax, orientation=\"horizontal\"\n    )  # add the colourbar\n\n    # colourbar formatting and labelling\n    cax.xaxis.tick_top()\n    cax.xaxis.set_label_position(\"top\")\n    cax.set_xlabel(r\"$\\rm \\log_{10}(age/yr)$\")\n\n    # loop over log10ages\n    for ia, log10age in enumerate(grid.log10age):\n        # get spectra\n        Lnu = grid.spectra[spec_name][ia, iZ, :]\n        # Lnu = fnu_to_flam(grid.lam, Lnu)\n\n        # plot spectra\n        ax.plot(\n            np.log10(grid.lam), np.log10(Lnu), c=cmap(norm(log10age)), lw=1, alpha=0.8\n        )\n\n    # plot Lyman and Balmer limits for reference\n    for wv in [912.0, 3646.0]:\n        ax.axvline(np.log10(wv), c=\"k\", lw=1, alpha=0.5)\n\n    # add model name\n    ax.text(2.1, 21.5, grid.grid_name, fontsize=8)\n\n    # set wavelength range (log(Angstrom))\n    ax.set_xlim([2.0, 4.0])\n\n    # set luminosity range\n    ax.set_ylim([10.0, 22])\n\n    # add labels\n    ax.set_xlabel(r\"$\\rm log_{10}(\\lambda/\\AA)$\")\n    ax.set_ylabel(r\"$\\rm log_{10}(L_{\\nu}/erg\\ s^{-1}\\ Hz^{-1} M_{\\odot}^{-1})$\")\n\n    # return figure and axes for further use\n    return fig, ax\n\n\nif __name__ == \"__main__\":\n    # Get the location of this script, __file__ is the absolute path of this script, however we just want to directory\n    # script_path = os.path.abspath(os.path.dirname(__file__))\n\n    # Define the path to the test grid\n    # test_grid_dir = script_path + \"/../../tests/test_grid/\"\n    test_grid_dir = \"../../tests/test_grid/\"\n\n    parser = argparse.ArgumentParser(\n        description=(\"Create a plot of all spectra for a given metallicity in a grid\")\n    )\n\n    # The name of the grid. Defaults to the test grid.\n    parser.add_argument(\n        \"-grid_name\", \"--grid_name\", type=str, required=False, default=\"test_grid\"\n    )\n\n    # The path to the grid directory. Defaults to the test grid directory.\n    parser.add_argument(\n        \"-grid_dir\", \"--grid_dir\", type=str, required=False, default=test_grid_dir\n    )\n\n    # The target metallicity. The code function will find the closest metallicity and report it back. The rationale behind this is that this code can easily be adapted to explore other grids.\n    parser.add_argument(\"-Z\", \"--Z\", type=float, required=False, default=0.01)\n\n    # Flag whether to show the figure. Figure is saved in current directory using \"spectra_age_{grid_name}\"\n    parser.add_argument(\"-show\", \"--show\", action=argparse.BooleanOptionalAction)\n\n    # Flag whether to save the figure.\n    parser.add_argument(\"-save\", \"--save\", action=argparse.BooleanOptionalAction)\n\n    # Flag whether to analyse all grids in the provided directory.\n    parser.add_argument(\"-all\", \"--all\", action=argparse.BooleanOptionalAction)\n\n    # Get dictionary of arguments\n    args = parser.parse_args()\n\n    # If all grids are requested get a list of the grids in the grid_dir directory.\n    if args.all:\n        grid_filenames = list(\n            map(os.path.basename, glob.glob(args.grid_dir + \"*.hdf5\"))\n        )\n\n        print(grid_filenames)\n\n        # Remove extension\n        grid_names = list(map(lambda x: \".\".join(x.split(\".\")[:-1]), grid_filenames))\n\n        print(grid_names)\n\n    # Else use the provided grid name\n    else:\n        grid_names = [args.grid_name]\n\n    # loop over all grid_names\n    for grid_name in grid_names:\n        print(grid_name)\n\n        # Initialise grid\n        grid = Grid(grid_name, grid_dir=args.grid_dir)\n\n        # Create figure\n        fig, ax = plot_spectra_age(grid, args.Z)\n\n        # show figure if requested\n        if args.show:\n            plt.show()\n\n        # save figure if requested\n        if args.save:\n            fig.savefig(f\"spectra_age_{grid_name}.pdf\")"
      ]
    }
  ],
  "metadata": {
    "kernelspec": {
      "display_name": "Python 3",
      "language": "python",
      "name": "python3"
    },
    "language_info": {
      "codemirror_mode": {
        "name": "ipython",
        "version": 3
      },
      "file_extension": ".py",
      "mimetype": "text/x-python",
      "name": "python",
      "nbconvert_exporter": "python",
      "pygments_lexer": "ipython3",
      "version": "3.10.13"
    }
  },
  "nbformat": 4,
  "nbformat_minor": 0
}