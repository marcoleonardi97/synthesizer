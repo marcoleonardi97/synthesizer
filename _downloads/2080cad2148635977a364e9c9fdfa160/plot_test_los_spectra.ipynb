{
  "cells": [
    {
      "cell_type": "markdown",
      "metadata": {},
      "source": [
        "\n# Line of sight example\n\nTest the calculation of tau_v along the line of sight\nto each star particle\n"
      ]
    },
    {
      "cell_type": "code",
      "execution_count": null,
      "metadata": {
        "collapsed": false
      },
      "outputs": [],
      "source": [
        "from synthesizer.kernel_functions import Kernel\nfrom synthesizer.load_data.load_camels import load_CAMELS_IllustrisTNG\n\ngals = load_CAMELS_IllustrisTNG(\n    \"../../tests/data/\",\n    snap_name=\"camels_snap.hdf5\",\n    group_name=\"camels_subhalo.hdf5\",\n    group_dir=\"../../tests/data/\",\n)\n\nkernel = Kernel()\nkernel.get_kernel()\n\ngals[1].calculate_los_tau_v(kappa=0.3, kernel=kernel.get_kernel())"
      ]
    }
  ],
  "metadata": {
    "kernelspec": {
      "display_name": "Python 3",
      "language": "python",
      "name": "python3"
    },
    "language_info": {
      "codemirror_mode": {
        "name": "ipython",
        "version": 3
      },
      "file_extension": ".py",
      "mimetype": "text/x-python",
      "name": "python",
      "nbconvert_exporter": "python",
      "pygments_lexer": "ipython3",
      "version": "3.10.15"
    }
  },
  "nbformat": 4,
  "nbformat_minor": 0
}