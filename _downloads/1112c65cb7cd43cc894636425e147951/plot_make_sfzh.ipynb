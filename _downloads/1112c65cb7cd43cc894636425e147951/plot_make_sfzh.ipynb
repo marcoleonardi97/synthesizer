{
  "cells": [
    {
      "cell_type": "markdown",
      "metadata": {},
      "source": [
        "\n# Generate parametric SFZH\n\nExample for generating a parametric star formation and metal enrichment history\n- shows how to generate star formation histories assuming diffferent parameterisations\n- shows how to combine star formation histories\n"
      ]
    },
    {
      "cell_type": "code",
      "execution_count": null,
      "metadata": {
        "collapsed": false
      },
      "outputs": [],
      "source": [
        "import numpy as np\nimport matplotlib.pyplot as plt\nfrom unyt import yr, Myr\n\nfrom synthesizer.parametric.sfzh import SFH, ZH, generate_sfzh, generate_sfzh_from_array\n\n# from synthesizer.plt import single, single_histxy, mlabel\n\n# TODO: SFH currently reliant on sfzh to get binned history\n# TODO: need new binning method for SFH class\n\n\nif __name__ == \"__main__\":\n    # --- define a age and metallicity grid. In practice these are pulled from the SPS model.\n    log10ages = np.arange(6.0, 10.5, 0.1)\n    log10metallicities = np.arange(-5.0, -1.5, 0.25)\n    metallicities = 10**log10metallicities\n\n    # --- define the SFH as an array and the metallicity as a number\n\n    sfh = np.ones(len(log10ages))\n    Z = 0.01\n    sfzh = generate_sfzh_from_array(log10ages, metallicities, sfh, Z)\n    print(sfzh)\n    sfzh.plot()\n\n    # --- define the parameters of the star formation and metal enrichment histories\n\n    Z_p = {\"log10Z\": -2.5}  # can also use linear metallicity e.g. {'Z': 0.01}\n    Zh = ZH.deltaConstant(Z_p)\n    print(Zh)  # print summary\n\n    # --- make a constant SFH\n\n    sfh_p = {\"duration\": 100 * Myr}\n    sfh = SFH.Constant(sfh_p)  # constant star formation\n    print(sfh)  # print summary\n\n    constant = generate_sfzh(log10ages, metallicities, sfh, Zh)\n    print(constant)  # print summary of the star formation history\n    constant.plot()\n\n    # --- make an exponential SFH\n\n    sfh_p = {\"tau\": 100 * Myr, \"max_age\": 200 * Myr}\n    sfh = SFH.TruncatedExponential(sfh_p)  # constant star formation\n    print(sfh)  # print summary of the star formation history\n\n    exponential = generate_sfzh(log10ages, metallicities, sfh, Zh)\n    print(exponential)  # print summary of the star formation history\n    exponential.plot()\n\n    # --- add them together\n\n    combined = constant + exponential\n    print(combined)  # print summary of the star formation history\n    combined.plot()"
      ]
    }
  ],
  "metadata": {
    "kernelspec": {
      "display_name": "Python 3",
      "language": "python",
      "name": "python3"
    },
    "language_info": {
      "codemirror_mode": {
        "name": "ipython",
        "version": 3
      },
      "file_extension": ".py",
      "mimetype": "text/x-python",
      "name": "python",
      "nbconvert_exporter": "python",
      "pygments_lexer": "ipython3",
      "version": "3.10.12"
    }
  },
  "nbformat": 4,
  "nbformat_minor": 0
}