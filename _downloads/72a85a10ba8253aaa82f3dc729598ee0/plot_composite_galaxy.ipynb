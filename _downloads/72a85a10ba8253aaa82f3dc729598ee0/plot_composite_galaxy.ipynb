{
  "cells": [
    {
      "cell_type": "markdown",
      "metadata": {},
      "source": [
        "\n# Generate composite image example\n\nExample for generating a composite galaxy\nphotometry. This example will:\n- build two parametric \"galaxies\" (see make_sfzh)\n- calculate spectral luminosity density of each\n- make images of both\n"
      ]
    },
    {
      "cell_type": "code",
      "execution_count": null,
      "metadata": {
        "collapsed": false
      },
      "outputs": [],
      "source": [
        "from unyt import Myr, kpc\nimport matplotlib.pyplot as plt\nimport numpy as np\n\nfrom synthesizer.grid import Grid\nfrom synthesizer.parametric.morphology import Sersic2D\nfrom synthesizer.parametric.sfzh import SFH, ZH\nfrom synthesizer.parametric.sfzh import generate_sfzh, generate_instant_sfzh\nfrom synthesizer.parametric.galaxy import Galaxy\nfrom synthesizer.filters import UVJ\n\n\nif __name__ == \"__main__\":\n    # Get the location of this script, __file__ is the absolute path of this\n    # script, however we just want to directory\n    # script_path = os.path.abspath(os.path.dirname(__file__))\n\n    # Define the grid\n    grid_name = \"test_grid\"\n    grid_dir = \"../../tests/test_grid/\"\n    grid = Grid(grid_name, grid_dir=grid_dir, new_lam=np.logspace(3, 4.2, 1000))\n\n    # Get a UVJ filter collection\n    filters = UVJ()\n\n    # Define geometry of the images\n    resolution = 0.05 * kpc  # resolution in kpc\n    npix = 50  # number of pixels wide\n    fov = resolution.value * npix * kpc  # field-of-view\n\n    # ===================== Make Disk =====================\n\n    # Define morphology\n    morph = Sersic2D(r_eff_kpc=1.0 * kpc, n=1.0, ellip=0.5, theta=35.0)\n\n    # Define the parameters of the star formation and metal enrichment\n    # histories\n    sfh_p = {\"duration\": 10 * Myr}\n    Z_p = {\"log10Z\": -2.0}  # can also use linear metallicity e.g. {'Z': 0.01}\n    stellar_mass = 10**8.5\n\n    # Define the functional form of the star formation and metal enrichment\n    # histories\n    sfh = SFH.Constant(sfh_p)  # constant star formation\n    Zh = ZH.deltaConstant(Z_p)  # constant metallicity\n\n    # Get the 2D star formation and metal enrichment history for the given\n    # SPS grid. This is (age, Z).\n    sfzh = generate_sfzh(\n        grid.log10age, grid.metallicity, sfh, Zh, stellar_mass=stellar_mass\n    )\n\n    # Initialise Galaxy object\n    disk = Galaxy(morph=morph, sfzh=sfzh)\n\n    # Generate stellar spectra\n    disk.get_spectra_incident(grid)\n\n    # Make images\n    disk_img = disk.make_images(\n        resolution=resolution,\n        filters=filters,\n        sed=disk.spectra[\"incident\"],\n        fov=fov,\n    )\n\n    print(disk)\n\n    # Make and plot an rgb image\n    disk_img.make_rgb_image(rgb_filters={\"R\": \"J\", \"G\": \"V\", \"B\": \"U\"})\n    fig, ax, _ = disk_img.plot_rgb_image(show=True)\n\n    # ===================== Make Bulge =====================\n\n    # Define bulge morphology\n    morph = Sersic2D(r_eff_kpc=1.0 * kpc, n=4.0)\n\n    # Define the parameters of the star formation and metal enrichment\n    # histories\n    stellar_mass = 2e10\n    sfzh = generate_instant_sfzh(\n        grid.log10age, grid.metallicity, 10.0, 0.01, stellar_mass=stellar_mass\n    )\n\n    # Get galaxy object\n    bulge = Galaxy(morph=morph, sfzh=sfzh)\n\n    # Get specrtra\n    bulge.get_spectra_incident(grid)\n\n    # make images\n    bulge_img = bulge.make_images(\n        resolution=resolution,\n        filters=filters,\n        sed=bulge.spectra[\"incident\"],\n        fov=fov,\n    )\n\n    print(bulge)\n\n    # Make and plot an rgb image\n    bulge_img.make_rgb_image(rgb_filters={\"R\": \"J\", \"G\": \"V\", \"B\": \"U\"})\n    fig, ax, _ = bulge_img.plot_rgb_image(show=True)\n\n    # ===================== Make Composite =====================\n\n    # Combine galaxy objects\n    combined = disk + bulge\n\n    print(combined)\n\n    # Combine images\n    total = disk_img + bulge_img\n\n    # Make and plot an rgb image\n    total.make_rgb_image(rgb_filters={\"R\": \"J\", \"G\": \"V\", \"B\": \"U\"})\n    fig, ax, _ = total.plot_rgb_image(show=True)\n\n    # Plot the spectra of both components\n\n    sed = disk.spectra[\"incident\"]\n    plt.plot(np.log10(sed.lam), np.log10(sed.lnu), lw=1, alpha=0.8, c=\"b\", label=\"disk\")\n\n    sed = bulge.spectra[\"incident\"]\n    plt.plot(\n        np.log10(sed.lam), np.log10(sed.lnu), lw=1, alpha=0.8, c=\"r\", label=\"bulge\"\n    )\n\n    sed = combined.spectra[\"incident\"]\n    plt.plot(\n        np.log10(sed.lam), np.log10(sed.lnu), lw=2, alpha=0.8, c=\"k\", label=\"combined\"\n    )\n\n    plt.xlim(3.0, 4.3)\n    plt.legend(fontsize=8, labelspacing=0.0)\n    plt.xlabel(r\"$\\rm log_{10}(\\lambda_{obs}/\\AA)$\")\n    plt.ylabel(r\"$\\rm log_{10}(f_{\\nu}/nJy)$\")\n\n    plt.show()"
      ]
    }
  ],
  "metadata": {
    "kernelspec": {
      "display_name": "Python 3",
      "language": "python",
      "name": "python3"
    },
    "language_info": {
      "codemirror_mode": {
        "name": "ipython",
        "version": 3
      },
      "file_extension": ".py",
      "mimetype": "text/x-python",
      "name": "python",
      "nbconvert_exporter": "python",
      "pygments_lexer": "ipython3",
      "version": "3.10.13"
    }
  },
  "nbformat": 4,
  "nbformat_minor": 0
}