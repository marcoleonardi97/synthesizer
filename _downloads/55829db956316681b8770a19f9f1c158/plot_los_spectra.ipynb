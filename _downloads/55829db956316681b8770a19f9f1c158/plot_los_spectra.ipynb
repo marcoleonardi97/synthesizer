{
  "cells": [
    {
      "cell_type": "markdown",
      "metadata": {},
      "source": [
        "\n# Plot line of sight diagnostics\n\nThis example shows how to compute line of sight dust surface densities,\nand plots some diagnostics.\n"
      ]
    },
    {
      "cell_type": "code",
      "execution_count": null,
      "metadata": {
        "collapsed": false
      },
      "outputs": [],
      "source": [
        "import time\n\nimport matplotlib.pyplot as plt\nimport numpy as np\nfrom scipy.spatial import cKDTree\nfrom unyt import Mpc, Msun, Myr\n\nfrom synthesizer.emission_models import TotalEmission\nfrom synthesizer.emission_models.attenuation import PowerLaw\nfrom synthesizer.grid import Grid\nfrom synthesizer.kernel_functions import Kernel\nfrom synthesizer.parametric import SFH, ZDist\nfrom synthesizer.parametric import Stars as ParametricStars\nfrom synthesizer.particle.galaxy import Galaxy\nfrom synthesizer.particle.gas import Gas\nfrom synthesizer.particle.particles import CoordinateGenerator\nfrom synthesizer.particle.stars import sample_sfhz\n\nplt.rcParams[\"font.family\"] = \"DeJavu Serif\"\nplt.rcParams[\"font.serif\"] = [\"Times New Roman\"]\n\n\ndef calculate_smoothing_lengths(positions, num_neighbors=56):\n    \"\"\"Calculate the SPH smoothing lengths for a set of coordinates.\"\"\"\n    tree = cKDTree(positions)\n    distances, _ = tree.query(positions, k=num_neighbors + 1)\n\n    # The k-th nearest neighbor distance (k = num_neighbors)\n    kth_distances = distances[:, num_neighbors]\n\n    # Set the smoothing length to the k-th nearest neighbor\n    # distance divided by 2.0\n    smoothing_lengths = kth_distances / 2.0\n\n    return smoothing_lengths\n\n\n# Set the seed\nnp.random.seed(42)\n\nstart = time.time()\n\n# Get the location of this script, __file__ is the absolute path of this\n# script, however we just want to directory\n# script_path = os.path.abspath(os.path.dirname(__file__))\n\n# Define the grid\ngrid_name = \"test_grid\"\ngrid_dir = \"../../tests/test_grid/\"\ngrid = Grid(grid_name, grid_dir=grid_dir)\n\n# Define the model\nmodel = TotalEmission(\n    grid,\n    tau_v=\"tau_v\",\n    dust_curve=PowerLaw(slope=-1),\n    fesc=0.1,\n    per_particle=True,\n)\n\n# Define the grid (normally this would be defined by an SPS grid)\nlog10ages = np.arange(6.0, 10.5, 0.1)\nmetallicities = 10 ** np.arange(-5.0, -1.5, 0.1)\nZ_p = {\"metallicity\": 0.01}\nmetal_dist = ZDist.DeltaConstant(**Z_p)\nsfh_p = {\"duration\": 100 * Myr}\nsfh = SFH.Constant(**sfh_p)  # constant star formation\n\n# Generate the star formation metallicity history\nmass = 10**10 * Msun\nparam_stars = ParametricStars(\n    log10ages,\n    metallicities,\n    sf_hist=sfh,\n    metal_dist=metal_dist,\n    initial_mass=mass,\n)\n\n# How many stars and gas particles?\nnstars = 1000\nngas = 1000\n\n# Generate some random coordinates\ncoords = CoordinateGenerator.generate_3D_gaussian(nstars)\n\n# Calculate smoothing lengths\nsmls = calculate_smoothing_lengths(coords)\n\n# Sample the SFZH, producing a Stars object\n# we will also pass some keyword arguments for attributes\n# we will need for imaging\nstars = sample_sfhz(\n    param_stars.sfzh,\n    param_stars.log10ages,\n    param_stars.log10metallicities,\n    nstars,\n    coordinates=coords * Mpc,\n    current_masses=np.full(nstars, 10**8.7 / nstars) * Msun,\n    smoothing_lengths=smls * Mpc,\n    redshift=1,\n)\n\n# Now make the gas\n\n# Generate some random coordinates\ncoords = CoordinateGenerator.generate_3D_gaussian(ngas)\n\n# Calculate the smoothing lengths\nsmls = calculate_smoothing_lengths(coords)\n\ngas = Gas(\n    masses=np.random.uniform(10**6, 10**6.5, ngas) * Msun,\n    metallicities=np.random.uniform(0.01, 0.05, ngas),\n    coordinates=coords * Mpc,\n    smoothing_lengths=smls * Mpc,\n    dust_to_metal_ratio=0.2,\n)\n\n# Create galaxy object\ngalaxy = Galaxy(\"Galaxy\", stars=stars, gas=gas, redshift=1)\n\n\n# Get the SPH kernel\nsph_kernel = Kernel()\nkernel_data = sph_kernel.get_kernel()\n\n# Calculate the tau_vs\ngalaxy.get_stellar_los_tau_v(\n    kappa=0.07,\n    kernel=kernel_data,\n    force_loop=False,\n)\n\n# Get the spectra (this will automatically use the tau_vs we just calculated\n# since the emission model has tau_v=\"tau_v\")\ngalaxy.stars.get_spectra(model)\n\n# Integrate the particle spectra\ngalaxy.integrate_particle_spectra()\n\n# Plot the Sed\ngalaxy.plot_spectra(show=True, combined_spectra=False, stellar_spectra=True)"
      ]
    }
  ],
  "metadata": {
    "kernelspec": {
      "display_name": "Python 3",
      "language": "python",
      "name": "python3"
    },
    "language_info": {
      "codemirror_mode": {
        "name": "ipython",
        "version": 3
      },
      "file_extension": ".py",
      "mimetype": "text/x-python",
      "name": "python",
      "nbconvert_exporter": "python",
      "pygments_lexer": "ipython3",
      "version": "3.10.15"
    }
  },
  "nbformat": 4,
  "nbformat_minor": 0
}