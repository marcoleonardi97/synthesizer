{
  "cells": [
    {
      "cell_type": "markdown",
      "metadata": {},
      "source": [
        "\n# Filters example\n\nA demonstration of filter and filter collections creation and usage.\n"
      ]
    },
    {
      "cell_type": "code",
      "execution_count": null,
      "metadata": {
        "collapsed": false
      },
      "outputs": [],
      "source": [
        "import numpy as np\n\nfrom synthesizer.filters import UVJ, Filter, FilterCollection\n\n# Define some wavelengths (in A) over which we want to define our filters\nlams = np.linspace(2000, 55000, 1000)\n\n# Define an individual filter from SVO.\nfilt = Filter(\"JWST/NIRCam.F200W\", new_lam=lams)\n\n# And define a fake transmission curve.\ntrans = np.zeros(lams.size)\ntrans[int(lams.size / 4) : int(lams.size / 2)] = 1\n\n# You can either define a FilterCollection from a single filter type\nfs = [f\"JWST/NIRCam.{f}\" for f in [\"F070W\", \"F444W\"]]\nfc1 = FilterCollection(filter_codes=fs, new_lam=lams)\n\n# ... or a mixture assuming the wavelengths are in the same unit system.\nfs = [f\"JWST/NIRCam.{f}\" for f in [\"F090W\", \"F250M\"]]\ntophats = {\n    \"U\": {\"lam_eff\": 3650, \"lam_fwhm\": 660},\n    \"V\": {\"lam_eff\": 5510, \"lam_fwhm\": 880},\n    \"J\": {\"lam_eff\": 12200, \"lam_fwhm\": 2130},\n}\ngenerics = {\"filter1\": trans}\nfc2 = FilterCollection(\n    filter_codes=fs, tophat_dict=tophats, generic_dict=generics, new_lam=lams\n)\n\n# You can get the length of a FilterCollection.\nprint(\"We have %d filters\" % len(fc2))\n\n# Loop over it as if it were a list.\nprint(\"My Filters:\")\nfor f in fc2:\n    print(f.filter_code)\n\n# Compare FilterCollections.\nif fc2 == fc2:\n    print(\"This is the same filter collection!\")\nif fc2 != fc1:\n    print(\"These are not the same filter collection!\")\n\n# Add filters to simply combine filter collections and individual filters\nfc = fc1 + filt\nfc += fc2\n\n# Print out the new filter codes.\nprint(\"My combined Filters:\", fc.filter_codes)\n\n# You can even easily plot the transmission curves with a helper method.\nfc.plot_transmission_curves()\n\n# There's also a helper function to create the above UVJ filter set.\nfc = UVJ(new_lam=lams)\nfc.plot_transmission_curves()"
      ]
    }
  ],
  "metadata": {
    "kernelspec": {
      "display_name": "Python 3",
      "language": "python",
      "name": "python3"
    },
    "language_info": {
      "codemirror_mode": {
        "name": "ipython",
        "version": 3
      },
      "file_extension": ".py",
      "mimetype": "text/x-python",
      "name": "python",
      "nbconvert_exporter": "python",
      "pygments_lexer": "ipython3",
      "version": "3.10.15"
    }
  },
  "nbformat": 4,
  "nbformat_minor": 0
}