{
  "cells": [
    {
      "cell_type": "markdown",
      "metadata": {},
      "source": [
        "\n# Compare Single star particle to instantaneous SFZH\n\nA sanity check example for a single star in both parametric and particle\nobjects. These should give indistinguishable results.\n"
      ]
    },
    {
      "cell_type": "code",
      "execution_count": null,
      "metadata": {
        "collapsed": false
      },
      "outputs": [],
      "source": [
        "import matplotlib.pyplot as plt\nimport numpy as np\nfrom matplotlib.colors import Normalize\nfrom mpl_toolkits.axes_grid1 import make_axes_locatable\n\nfrom synthesizer.emission_models import TransmittedEmission\nfrom synthesizer.grid import Grid\nfrom synthesizer.parametric import Stars as ParametricStars\nfrom synthesizer.particle import Stars as ParticleStars\n\n# Define the grid\ngrid_name = \"test_grid\"\ngrid_dir = \"../../tests/test_grid/\"\ngrid = Grid(grid_name, grid_dir=grid_dir)\n\n# Define the emission model\nmodel = TransmittedEmission(grid)\n\n# Define the parametric stars\nstars = ParametricStars(\n    grid.log10age,\n    grid.metallicity,\n    sf_hist=1e7,\n    metal_dist=0.01,\n    initial_mass=1,\n)\n\n# Plot the SFZH\nstars.plot_sfzh()\n\n# Compute the parametric sed\nsed = stars.get_spectra(model)\n\n# Create the particle stars object\npart_stars = ParticleStars(\n    initial_masses=np.array([1.0]),\n    ages=np.array([1e7]),\n    metallicities=np.array([0.01]),\n)\n\n# Calculate the particle SFZH grid (equivalent to grid weights)\npart_sfzh = part_stars.get_sfzh(grid, grid_assignment_method=\"cic\")\n\n# Plot the SFZH\npart_stars.plot_sfzh(grid, grid_assignment_method=\"cic\")\n\n# Create the figure and axes for the comparison\nfig, ax = plt.subplots()\nax.grid(True)\n\n# Plot the grid points\nx, y = np.meshgrid(grid.log10age, grid.metallicity)\nax.scatter(\n    x.flatten(),\n    np.log10(y.flatten()),\n    marker=\".\",\n    color=\"grey\",\n    alpha=0.3,\n)\n\n# Plot the stellar particle properties\nax.scatter(\n    part_stars.log10ages,\n    part_stars.log10metallicities,\n    marker=\"*\",\n    zorder=10,\n    color=\"gold\",\n)\n\n# Plot the particle SFZH\nplt_part_sfzh = np.full_like(part_sfzh, np.nan)\nplt_part_sfzh[part_sfzh > 0] = part_sfzh[part_sfzh > 0]\npcm2 = ax.pcolormesh(\n    grid.log10age,\n    np.log10(grid.metallicity),\n    plt_part_sfzh.T,\n    cmap=\"plasma\",\n    norm=Normalize(vmin=np.min(part_sfzh[part_sfzh > 0]), vmax=1.0, clip=True),\n    alpha=0.8,\n)\n\n# Plot the parametric SFZH\nplt_para_sfzh = np.full_like(stars.sfzh, np.nan)\nplt_para_sfzh[stars.sfzh > 0] = stars.sfzh[stars.sfzh > 0]\npcm1 = ax.pcolormesh(\n    grid.log10age,\n    np.log10(grid.metallicity),\n    plt_para_sfzh.T,\n    cmap=\"Greys_r\",\n    alpha=0.8,\n    norm=Normalize(\n        vmin=np.min(stars.sfzh[stars.sfzh > 0]), vmax=1.0, clip=True\n    ),\n)\n\n\n# Create colorbars on the right for each mesh\ndivider = make_axes_locatable(ax)\ncax1 = divider.append_axes(\"right\", size=\"5%\", pad=0.1)\ncbar1 = fig.colorbar(pcm1, cax=cax1, label=\"Parametric SFZH\")\n\n# Create colorbars on the top for each mesh\ncax2 = divider.append_axes(\"top\", size=\"5%\", pad=0.1)\ncbar2 = plt.colorbar(\n    pcm2,\n    cax=cax2,\n    orientation=\"horizontal\",\n    label=\"Particle SFZH\",\n    ticklocation=\"top\",\n)\n\n# Label axes\nax.set_xlabel(r\"$\\log_{10}(\\mathrm{Age}/\\mathrm{yr})$\")\nax.set_ylabel(r\"$\\log_{10}(Z)$\")\n\nplt.show()\n\npart_sed = part_stars.get_spectra(model, grid_assignment_method=\"cic\")\nplt.figure(2)\nplt.plot(np.log10(sed.lam), np.log10(sed.lnu), label=\"parametric\")\nplt.plot(\n    np.log10(part_sed.lam),\n    np.log10(part_sed.lnu),\n    label=\"particle\",\n    linestyle=\"--\",\n)\nplt.legend()\nplt.xlim([2, 5])\nplt.ylim([18, 22])\nplt.show()"
      ]
    }
  ],
  "metadata": {
    "kernelspec": {
      "display_name": "Python 3",
      "language": "python",
      "name": "python3"
    },
    "language_info": {
      "codemirror_mode": {
        "name": "ipython",
        "version": 3
      },
      "file_extension": ".py",
      "mimetype": "text/x-python",
      "name": "python",
      "nbconvert_exporter": "python",
      "pygments_lexer": "ipython3",
      "version": "3.10.14"
    }
  },
  "nbformat": 4,
  "nbformat_minor": 0
}