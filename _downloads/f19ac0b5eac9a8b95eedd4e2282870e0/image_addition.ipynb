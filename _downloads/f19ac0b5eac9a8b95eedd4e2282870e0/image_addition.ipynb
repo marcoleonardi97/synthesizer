{
  "cells": [
    {
      "cell_type": "markdown",
      "metadata": {},
      "source": [
        "\n# Image addition example\n\nAn example of how to do image addition and testing error functionality.\n"
      ]
    },
    {
      "cell_type": "code",
      "execution_count": null,
      "metadata": {
        "collapsed": false
      },
      "outputs": [],
      "source": [
        "import os\nimport numpy as np\nfrom unyt import kpc\n\nfrom synthesizer.grid import Grid\nfrom synthesizer.exceptions import InconsistentAddition\nfrom synthesizer.filters import FilterCollection as Filters\nfrom synthesizer.parametric.morphology import Sersic2D\nfrom synthesizer.imaging.images import ParametricImage, ParticleImage\nfrom synthesizer.parametric.galaxy import Galaxy\nfrom synthesizer.parametric.sfzh import generate_instant_sfzh\n\n# First set up some stuff so we can make demonstration images.\n\n# Get the location of this script, __file__ is the absolute path of this\n# script, however we just want the directory\n# script_path = os.path.abspath(os.path.dirname(__file__))\n\n# Define the grid\ngrid_name = \"test_grid\"\ngrid_dir = \"../../tests/test_grid/\"\ngrid = Grid(grid_name, grid_dir=grid_dir)\n\n# Define the parameters of the star formation and metal enrichment histories\nstellar_mass = 1e10\nsfzh = generate_instant_sfzh(\n    grid.log10age, grid.metallicity, 10., 0.01,\n    stellar_mass=stellar_mass)\n\n# Define an arbitrary morphology to feed the imaging\nmorph = Sersic2D(r_eff_kpc=1.0 * kpc, n=1.0, ellip=0.5, theta=35.0)\n\n# Get galaxy object\ngalaxy = Galaxy(morph=morph, sfzh=sfzh)\n\n# Get specrtra\nsed = galaxy.get_spectra_incident(grid)\n\n# Create a filter collection\nfilter_codes1 = [\"JWST/NIRCam.F090W\", \"JWST/NIRCam.F150W\", \"JWST/NIRCam.F200W\"]\nfilter_codes2 = filter_codes1[:-1]\nfilters1 = Filters(filter_codes1)\nfilters2 = Filters(filter_codes2)\n\nfake_img = np.zeros((100, 100))\n\n# Create fake image objects\nimg1 = ParticleImage(\n    resolution=0.5 * kpc,\n    npix=100,\n    fov=None,\n    filters=(),\n    positions=np.zeros((100, 3)) * kpc,\n    pixel_values=np.ones(100),\n)\nimg2 = ParticleImage(\n    resolution=0.4 * kpc,\n    npix=100,\n    fov=None,\n    filters=(),\n    positions=np.zeros((100, 3)) * kpc,\n    pixel_values=np.ones(100),\n)\nimg_with_filters1 = ParametricImage(\n    morphology=morph,\n    sed=sed,\n    resolution=0.5 * kpc,\n    npix=100,\n    fov=None,\n    filters=filters1,\n)\nimg_with_filters2 = ParametricImage(\n    morphology=morph,\n    sed=sed,\n    resolution=0.5 * kpc,\n    npix=100,\n    fov=None,\n    filters=filters2,\n)\nimg1.img = fake_img\nimg2.img = fake_img\nfor f in filter_codes1:\n    img_with_filters1.imgs[f] = fake_img\nfor f in filter_codes2:\n    img_with_filters2.imgs[f] = fake_img\n\n# Add images\ncomposite = img1 + img1 + img1\ncomposite_with_filters = img_with_filters1 + img_with_filters1\ncomposite_mixed1 = img1 + img_with_filters1\ncomposite_mixed2 = img_with_filters1 + img1\n\n# Added images preserve a history of what objects were added\nprint(\"Example of image nesting from img1 + img2 + img3:\", composite.combined_imgs)\n\nprint(\"Error Demonstration:\")\n\n# Demonstrate errors\ntry:\n    broken = img1 + img2\nexcept InconsistentAddition as e:\n    print(e)\ntry:\n    broken = img_with_filters1 + img_with_filters2\nexcept InconsistentAddition as e:\n    print(e)"
      ]
    }
  ],
  "metadata": {
    "kernelspec": {
      "display_name": "Python 3",
      "language": "python",
      "name": "python3"
    },
    "language_info": {
      "codemirror_mode": {
        "name": "ipython",
        "version": 3
      },
      "file_extension": ".py",
      "mimetype": "text/x-python",
      "name": "python",
      "nbconvert_exporter": "python",
      "pygments_lexer": "ipython3",
      "version": "3.10.12"
    }
  },
  "nbformat": 4,
  "nbformat_minor": 0
}