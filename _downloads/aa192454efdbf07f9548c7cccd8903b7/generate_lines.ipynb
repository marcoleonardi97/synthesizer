{
  "cells": [
    {
      "cell_type": "markdown",
      "metadata": {},
      "source": [
        "\n# Generating Lines from a Parametric Galaxy\n\nIn this example we're going to generate emission line predictions for a\nparametric galaxy.\n"
      ]
    },
    {
      "cell_type": "code",
      "execution_count": null,
      "metadata": {
        "collapsed": false
      },
      "outputs": [],
      "source": [
        "import synthesizer.line_ratios as line_ratios\nfrom synthesizer.grid import Grid\nfrom synthesizer.parametric import SFH, Stars, ZDist\nfrom synthesizer.parametric.galaxy import Galaxy\nfrom unyt import Myr\n\n# Begin by defining and initialising the grid. By setting `read_spectra`\n# to `False` we can avoid reading in the spectra reducing the memory footprint.\ngrid_name = \"test_grid\"\ngrid_dir = \"../../../tests/test_grid/\"\ngrid = Grid(grid_name, grid_dir=grid_dir, read_spectra=False)\n\n# Let's now build a galaxy following the other tutorials:\n# Define the functional form of the star formation and metal\n# enrichment histories\n\n# Constant star formation\nsfh = SFH.Constant(duration=100 * Myr)\n\n# Constant metallicity\nmetal_dist = ZDist.DeltaConstant(log10metallicity=-2.0)\n\n# Get the 2D star formation and metal enrichment history\n# for the given SPS grid. This is (age, Z).\nstars = Stars(\n    grid.log10age,\n    grid.metallicity,\n    sf_hist=sfh,\n    metal_dist=metal_dist,\n    initial_mass=10**8.5,\n)\n\n# Create the Galaxy object\ngalaxy = Galaxy(stars)\n\n# Print a summary of the Galaxy object\nprint(galaxy)\n\n# Let's define a list of lines that we're interested in. Note that we can\n# provide multiples which are automatically summed as if they were blended.\nline_ids = [\n    line_ratios.Hb,  # \"H 1 4861.32A\"\n    line_ratios.O3b,  # \"O 3 4958.91A\"\n    line_ratios.O3r,  # \"O 3 5006.84A\"\n    line_ratios.O3,  # [\"O 3 4958.91A\", \"O 3 5006.84A\"]\n    line_ratios.O3\n    + \",\"\n    + line_ratios.Hb,  # [\"O 3 4958.91A\", \"O 3 5006.84A\", \"H 1 4861.32A\"]\n]\n\n# Next, let's get the intrinsic line properties:\nlines = galaxy.stars.get_line_intrinsic(grid, line_ids)\n\n# This produces a LineCollection object which has some useful methods and\n# information.\nprint(lines)\n\n# Let's now examine individual lines (or doublets):\nfor line in lines:\n    print(line)\n\n# Those lines are now associated with the `Galaxy` object, revealed by\n# using the print function:\nprint(galaxy)\n\n# Next, lets get the attenuated line properties:\nlines_att = galaxy.stars.get_line_attenuated(\n    grid, line_ids, fesc=0.0, tau_v_nebular=0.0, tau_v_stellar=0.5\n)\nprint(lines_att)"
      ]
    }
  ],
  "metadata": {
    "kernelspec": {
      "display_name": "Python 3",
      "language": "python",
      "name": "python3"
    },
    "language_info": {
      "codemirror_mode": {
        "name": "ipython",
        "version": 3
      },
      "file_extension": ".py",
      "mimetype": "text/x-python",
      "name": "python",
      "nbconvert_exporter": "python",
      "pygments_lexer": "ipython3",
      "version": "3.10.14"
    }
  },
  "nbformat": 4,
  "nbformat_minor": 0
}