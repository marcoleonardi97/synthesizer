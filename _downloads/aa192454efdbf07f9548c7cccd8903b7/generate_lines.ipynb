{
  "cells": [
    {
      "cell_type": "markdown",
      "metadata": {},
      "source": [
        "\n# Generate lines from parametric galaxy\n\nExample for generating a emission lines for a parametric galaxy. This example\nwill:\n- show the available lines to a grid\n- build a parametric galaxy (see make_stars and make_sed)\n- calculate intrinsic line properties\n- calculate dust-attenuated line properties\n"
      ]
    },
    {
      "cell_type": "code",
      "execution_count": null,
      "metadata": {
        "collapsed": false
      },
      "outputs": [],
      "source": [
        "from synthesizer.grid import Grid\nfrom synthesizer.parametric import SFH, ZDist, Stars\nfrom synthesizer.parametric.galaxy import Galaxy\nfrom unyt import Myr\n\n\nif __name__ == \"__main__\":\n    # Get the location of this script, __file__ is the absolute path of this\n    # script, however we just want to directory\n    # script_path = os.path.abspath(os.path.dirname(__file__))\n\n    # Define the grid\n    grid_name = \"test_grid\"\n    grid_dir = \"../../tests/test_grid/\"\n\n    # open the grid\n    grid = Grid(\n        grid_name, grid_dir=grid_dir, read_spectra=False, read_lines=True\n    )\n\n    # define the functional form of the star formation and metal enrichment\n    # histories\n    sfh = SFH.Constant(duration=100 * Myr)\n    metal_dist = ZDist.DeltaConstant(log10metallicity=-2.0)\n\n    # get the 2D star formation and metal enrichment history for the given SPS\n    # grid and print summary.\n    stars = Stars(\n        grid.log10age, grid.metallicity, sf_hist=sfh, metal_dist=metal_dist\n    )\n    print(stars)\n\n    # create the Galaxy object and print a summary\n    galaxy = Galaxy(stars)\n    print(galaxy)\n\n    # define list of lines that we're interested in. Note that we can provide\n    # multiples which are automatically summed\n    line_ids = [\n        \"H 1 4862.69A\",\n        \"O 3 4958.91A\",\n        \"O 3 5006.84A\",\n        [\"O 3 4958.91A\", \"O 3 5006.84A\"],\n    ]\n\n    # create the Lines dictionary which contains line objects\n    lines = galaxy.stars.get_line_intrinsic(grid, line_ids)\n    print(\"-\" * 50)\n    print(\"INTRINSIC\")\n    for line in lines:\n        print(line)\n\n    # calculate attenuated line properties assuming uniform dust (should\n    # leave EW unchanged)\n    lines = galaxy.stars.get_line_screen(grid, line_ids, tau_v=0.5)\n    print(lines)\n    print(\"-\" * 50)\n    print(\"SCREEN\")\n    for line in lines:\n        print(line)\n\n    # calculate attenuated line properties assuming different dust affecting\n    # stellar and nebular components\n    lines = galaxy.stars.get_line_attenuated(\n        grid, line_ids, tau_v_stellar=0.1, tau_v_nebular=0.5\n    )\n\n    print(\"-\" * 50)\n    print(\"ATTENUATED\")\n    for line in lines:\n        print(line)"
      ]
    }
  ],
  "metadata": {
    "kernelspec": {
      "display_name": "Python 3",
      "language": "python",
      "name": "python3"
    },
    "language_info": {
      "codemirror_mode": {
        "name": "ipython",
        "version": 3
      },
      "file_extension": ".py",
      "mimetype": "text/x-python",
      "name": "python",
      "nbconvert_exporter": "python",
      "pygments_lexer": "ipython3",
      "version": "3.10.13"
    }
  },
  "nbformat": 4,
  "nbformat_minor": 0
}