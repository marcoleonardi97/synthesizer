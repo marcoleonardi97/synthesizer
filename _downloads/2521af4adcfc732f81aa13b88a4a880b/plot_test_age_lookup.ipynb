{
  "cells": [
    {
      "cell_type": "markdown",
      "metadata": {},
      "source": [
        "\n# Age lookup test\n\nTest using a lookup grid for particle ages (calculated\nfrom the scsale factor representation native to most\ncosmological snapshot outputs), and compare to the direct\nastropy calculation. Show dependence of relative error\non lookup grid resolution.\n"
      ]
    },
    {
      "cell_type": "code",
      "execution_count": null,
      "metadata": {
        "collapsed": false
      },
      "outputs": [],
      "source": [
        "import h5py\nimport matplotlib.pyplot as plt\nimport numpy as np\nfrom astropy.cosmology import Planck15\n\nfrom synthesizer.load_data.utils import age_lookup_table, lookup_age\n\n# get scale factors from test file\nwith h5py.File(\"../../tests/data/camels_snap.hdf5\", \"r\") as hf:\n    form_time = hf[\"PartType4/GFM_StellarFormationTime\"][:]\n\n# Calculate ages of these explicitly using astropy\npart_ages_proper = Planck15.age(1.0 / form_time - 1)\n\nfig, ax = plt.subplots(1, 1)\n\n# Loop over different look up grid resolutions\nfor delta_a in [1e-2, 1e-3, 1e-4, 1e-5, 5e-6]:\n    # create the lookup grid\n    scale_factors, ages = age_lookup_table(Planck15, delta_a=delta_a)\n\n    # Look up the ages for the particles\n    part_ages = lookup_age(form_time, scale_factors, ages)\n\n    ax.scatter(\n        part_ages_proper,\n        np.log10(np.abs((part_ages - part_ages_proper).value)),\n        s=1,\n        alpha=1,\n        label=delta_a,\n    )\n\nax.legend(title=r\"$\\Delta a$:\")\nax.set_ylabel(r\"$\\Delta \\mathrm{log_{10} \\, age \\;\\; (Gyr)}$\")\nplt.show()"
      ]
    }
  ],
  "metadata": {
    "kernelspec": {
      "display_name": "Python 3",
      "language": "python",
      "name": "python3"
    },
    "language_info": {
      "codemirror_mode": {
        "name": "ipython",
        "version": 3
      },
      "file_extension": ".py",
      "mimetype": "text/x-python",
      "name": "python",
      "nbconvert_exporter": "python",
      "pygments_lexer": "ipython3",
      "version": "3.10.15"
    }
  },
  "nbformat": 4,
  "nbformat_minor": 0
}