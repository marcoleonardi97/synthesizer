{
  "cells": [
    {
      "cell_type": "markdown",
      "metadata": {},
      "source": [
        "\n# Plot quiescent UVJ diagram\n"
      ]
    },
    {
      "cell_type": "code",
      "execution_count": null,
      "metadata": {
        "collapsed": false
      },
      "outputs": [],
      "source": [
        "import cmasher as cmr\nimport matplotlib.pyplot as plt\nimport numpy as np\nfrom astropy.table import Table\nfrom synthesizer.filters import UVJ\nfrom synthesizer.grid import Grid\n\n\ndef simple_UVJ(grid, target_metallicity=0.01):\n    \"\"\"Calculate UVJ colours as a function of age for single metallicity\"\"\"\n\n    iZ = grid.get_nearest_index(target_metallicity, grid.metallicity)\n\n    fc = UVJ(new_lam=grid.lam)\n    # fc.plot_transmission_curves()\n\n    for ia, log10age in enumerate(grid.log10age):\n        sed = grid.get_spectra(\n            (ia, iZ)\n        )  # creates an SED object from a given grid point\n\n        # --- now calculate the observed frame spectra\n\n        sed.get_fnu0()  # generate dummy observed frame spectra.\n\n        # --- measure broadband fluxes\n        sed.get_photo_fnu(fc)\n\n        print(\n            (\n                f\"log10(age/Myr): {log10age - 6:.1f} \"\n                f'U-V: {sed.measure_colour(\"U\", \"V\"):.2f} '\n                f'V-J: {sed.measure_colour(\"V\", \"J\"):.2f}'\n            )\n        )\n\n\ndef UVJ_metallicity(grid):\n    \"\"\"\n    Calculate UVJ as a function of metallicity and save as a .ecsv file\n    and make a figure\n    \"\"\"\n\n    fc = UVJ(new_lam=grid.lam)\n\n    table = Table()\n    table.meta[\"metallicities\"] = list(grid.metallicity)\n    table[\"log10ages\"] = grid.log10age\n\n    for iZ, Z in enumerate(grid.metallicity):\n        for f in \"UVJ\":\n            table[f\"{Z}_{f}\"] = np.zeros(len(grid.log10age))\n\n        for ia, log10age in enumerate(grid.log10age):\n            sed = grid.get_spectra(\n                (ia, iZ)\n            )  # creates an SED object from a given grid point\n\n            # --- now calculate the observed frame spectra\n\n            sed.get_fnu0()  # generate dummy observed frame spectra.\n\n            # --- measure broadband fluxes\n            sed.get_photo_fnu(fc)\n\n            for f in \"UVJ\":\n                table[f\"{Z}_{f}\"][ia] = sed.photo_fnu[f]\n\n    # --- make plot\n\n    fig, axes = plt.subplots(\n        2, 1, figsize=(3.5, 4.5), sharex=True, sharey=True\n    )\n    plt.subplots_adjust(\n        left=0.15, top=0.975, bottom=0.1, right=0.95, wspace=0.0, hspace=0.0\n    )\n\n    colors = cmr.take_cmap_colors(\"cmr.bubblegum\", len(grid.metallicity))\n\n    for Z, c in zip(grid.metallicity, colors):\n        x = table[\"log10ages\"] - 6.0\n\n        for i, (f1, f2) in enumerate([\"UV\", \"VJ\"]):\n            y = 2.5 * np.log10(table[f\"{Z}_{f2}\"] / table[f\"{Z}_{f1}\"])\n            axes[i].plot(x, y, color=c, lw=1, label=f\"Z={Z}\")\n\n    for i, (f1, f2) in enumerate([\"UV\", \"VJ\"]):\n        axes[i].set_ylabel(rf\"$\\rm {f1}-{f2}$\")\n\n    axes[0].legend(fontsize=6, labelspacing=0.0)\n    axes[1].set_xlabel(r\"$\\rm \\log_{10}(age/Myr)$\")\n\n    return table, fig, axes\n\n\nif __name__ == \"__main__\":\n    grid_dir = \"../../tests/test_grid\"\n    grid_name = \"test_grid\"\n\n    grid = Grid(grid_name, grid_dir=grid_dir)\n\n    simple_UVJ(grid)\n\n    table, fig, axes = UVJ_metallicity(grid)\n    plt.show()\n\n    # table.write(f'data/{grid_name}_UVJ.ecsv', overwrite=True)"
      ]
    }
  ],
  "metadata": {
    "kernelspec": {
      "display_name": "Python 3",
      "language": "python",
      "name": "python3"
    },
    "language_info": {
      "codemirror_mode": {
        "name": "ipython",
        "version": 3
      },
      "file_extension": ".py",
      "mimetype": "text/x-python",
      "name": "python",
      "nbconvert_exporter": "python",
      "pygments_lexer": "ipython3",
      "version": "3.10.14"
    }
  },
  "nbformat": 4,
  "nbformat_minor": 0
}