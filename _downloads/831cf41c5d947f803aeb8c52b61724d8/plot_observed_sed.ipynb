{
  "cells": [
    {
      "cell_type": "markdown",
      "metadata": {},
      "source": [
        "\n# Generate parametric observed SED\n\nExample for generating the *observed* spectrum for a parametric galaxy\nincluding photometry. This example will:\n- build a parametric galaxy (see make_sfzh and make_sed)\n- calculate spectral luminosity density (see make_sed)\n- calculate observed frame spectra (requires comsology and redshift)\n- calculate observed frame fluxes\n"
      ]
    },
    {
      "cell_type": "code",
      "execution_count": null,
      "metadata": {
        "collapsed": false
      },
      "outputs": [],
      "source": [
        "from astropy.cosmology import Planck18 as cosmo\nfrom synthesizer.filters import FilterCollection\nfrom synthesizer.grid import Grid\nfrom synthesizer.igm import Madau96\nfrom synthesizer.parametric import SFH, Stars, ZDist\nfrom synthesizer.parametric.galaxy import Galaxy\nfrom unyt import Myr\n\nif __name__ == \"__main__\":\n    # Get the location of this script, __file__ is the absolute path of this\n    # script, however we just want to directory\n    # script_path = os.path.abspath(os.path.dirname(__file__))\n\n    # Define the grid\n    grid_name = \"test_grid\"\n    grid_dir = \"../../tests/test_grid/\"\n    grid = Grid(grid_name, grid_dir=grid_dir)\n\n    # define filters\n    filter_codes = [\n        f\"JWST/NIRCam.{f}\"\n        for f in [\n            \"F090W\",\n            \"F115W\",\n            \"F150W\",\n            \"F200W\",\n            \"F277W\",\n            \"F356W\",\n            \"F444W\",\n        ]\n    ]  # define a list of filter codes\n    filter_codes += [f\"JWST/MIRI.{f}\" for f in [\"F770W\"]]\n    fc = FilterCollection(filter_codes, new_lam=grid.lam)\n\n    # define the parameters of the star formation and metal enrichment\n    # histories\n    sfh_p = {\"duration\": 10 * Myr}\n    Z_p = {\n        \"log10metallicity\": -2.0\n    }  # can also use linear metallicity e.g. {'Z': 0.01}\n    stellar_mass = 1e8\n\n    # define the functional form of the star formation and metal enrichment\n    # histories\n    sfh = SFH.Constant(**sfh_p)  # constant star formation\n    metal_dist = ZDist.DeltaConstant(**Z_p)  # constant metallicity\n\n    # get the 2D star formation and metal enrichment history for the given SPS\n    # grid. This is (age, Z).\n    stars = Stars(\n        grid.log10age,\n        grid.metallicity,\n        sf_hist=sfh,\n        metal_dist=metal_dist,\n        initial_mass=stellar_mass,\n    )\n\n    # Define redshift\n    z = 10.0\n\n    # create a galaxy object\n    galaxy = Galaxy(stars, redshift=z)\n\n    # generate spectra using pacman model (complex)\n    sed = galaxy.stars.get_spectra_pacman(\n        grid,\n        fesc=0.5,\n        fesc_LyA=0.5,\n        tau_v=0.1,\n    )\n\n    # now calculate the observed frame spectra\n    sed.get_fnu(\n        cosmo,\n        z,\n        igm=Madau96,\n    )  # generate observed frame spectra, assume Madau96 IGM model\n\n    # measure broadband fluxes\n    fluxes = sed.get_photo_fluxes(fc)\n\n    # print broadband fluxes\n    for filter, flux in fluxes.items():\n        print(f\"{filter}: {flux:.2f}\")\n\n    # Calculate the observed spectra for all stellar spectra\n    galaxy.get_observed_spectra(cosmo, igm=Madau96)\n\n    # make plot of observed including broadband fluxes (if filter collection\n    # object given)\n    galaxy.plot_observed_spectra(\n        filters=fc,\n        show=True,\n        combined_spectra=False,\n        stellar_spectra=True,\n    )"
      ]
    }
  ],
  "metadata": {
    "kernelspec": {
      "display_name": "Python 3",
      "language": "python",
      "name": "python3"
    },
    "language_info": {
      "codemirror_mode": {
        "name": "ipython",
        "version": 3
      },
      "file_extension": ".py",
      "mimetype": "text/x-python",
      "name": "python",
      "nbconvert_exporter": "python",
      "pygments_lexer": "ipython3",
      "version": "3.10.13"
    }
  },
  "nbformat": 4,
  "nbformat_minor": 0
}