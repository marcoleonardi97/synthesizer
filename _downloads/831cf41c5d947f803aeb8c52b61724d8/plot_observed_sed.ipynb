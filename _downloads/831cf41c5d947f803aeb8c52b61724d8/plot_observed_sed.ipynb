{
  "cells": [
    {
      "cell_type": "markdown",
      "metadata": {},
      "source": [
        "\n# Generate parametric observed SED\n\nExample for generating the *observed* spectrum for a parametric galaxy \nincluding photometry. This example will:\n- build a parametric galaxy (see make_sfzh and make_sed)\n- calculate spectral luminosity density (see make_sed)\n- calculate observed frame spectra (requires comsology and redshift)\n- calculate observed frame fluxes\n"
      ]
    },
    {
      "cell_type": "code",
      "execution_count": null,
      "metadata": {
        "collapsed": false
      },
      "outputs": [],
      "source": [
        "from synthesizer.filters import FilterCollection\nfrom synthesizer.grid import Grid\nfrom synthesizer.parametric import SFH, ZDist, Stars\nfrom synthesizer.parametric.galaxy import Galaxy\nfrom unyt import Myr\nfrom synthesizer.igm import Madau96\nfrom astropy.cosmology import Planck18 as cosmo\n\n\nif __name__ == \"__main__\":\n    # Get the location of this script, __file__ is the absolute path of this\n    # script, however we just want to directory\n    # script_path = os.path.abspath(os.path.dirname(__file__))\n\n    # Define the grid\n    grid_name = \"test_grid\"\n    grid_dir = \"../../tests/test_grid/\"\n    grid = Grid(grid_name, grid_dir=grid_dir)\n\n    # define filters\n    filter_codes = [\n        f\"JWST/NIRCam.{f}\"\n        for f in [\"F090W\", \"F115W\", \"F150W\", \"F200W\", \"F277W\", \"F356W\", \n                  \"F444W\"]\n    ]  # define a list of filter codes\n    filter_codes += [f\"JWST/MIRI.{f}\" for f in [\"F770W\"]]\n    fc = FilterCollection(filter_codes)\n\n    # define the parameters of the star formation and metal enrichment \n    # histories\n    sfh_p = {\"duration\": 10 * Myr}\n    Z_p = {\"log10metallicity\": -2.0}  # can also use linear metallicity e.g. {'Z': 0.01}\n    stellar_mass = 1e8\n\n    # define the functional form of the star formation and metal enrichment \n    # histories\n    sfh = SFH.Constant(**sfh_p)  # constant star formation\n    metal_dist = ZDist.DeltaConstant(**Z_p)  # constant metallicity\n\n    # get the 2D star formation and metal enrichment history for the given SPS \n    # grid. This is (age, Z).\n    stars = Stars(\n        grid.log10age,\n        grid.metallicity,\n        sf_hist_func=sfh,\n        metal_dist_func=metal_dist,\n        initial_mass=stellar_mass,\n    )\n\n    # create a galaxy object\n    galaxy = Galaxy(stars)\n\n    # generate spectra using pacman model (complex)\n    sed = galaxy.stars.get_spectra_pacman(grid, fesc=0.5, fesc_LyA=0.5, tau_v=0.1)\n\n    # now calculate the observed frame spectra\n    z = 10.0  # redshift\n    sed.get_fnu(\n        cosmo, z, igm=Madau96\n    )  # generate observed frame spectra, assume Madau96 IGM model\n\n    # measure broadband fluxes\n    fluxes = sed.get_broadband_fluxes(fc)\n\n    # print broadband fluxes\n    for filter, flux in fluxes.items():\n        print(f\"{filter}: {flux:.2f}\")\n\n    # make plot of observed including broadband fluxes (if filter collection \n    # object given)\n    galaxy.plot_observed_spectra(cosmo,\n                                 z,\n                                 fc=fc,\n                                 # spectra_to_plot=[\"total\"],\n                                 show=True)"
      ]
    }
  ],
  "metadata": {
    "kernelspec": {
      "display_name": "Python 3",
      "language": "python",
      "name": "python3"
    },
    "language_info": {
      "codemirror_mode": {
        "name": "ipython",
        "version": 3
      },
      "file_extension": ".py",
      "mimetype": "text/x-python",
      "name": "python",
      "nbconvert_exporter": "python",
      "pygments_lexer": "ipython3",
      "version": "3.10.13"
    }
  },
  "nbformat": 4,
  "nbformat_minor": 0
}