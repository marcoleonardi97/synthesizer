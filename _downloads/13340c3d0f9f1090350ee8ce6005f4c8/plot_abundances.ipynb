{
  "cells": [
    {
      "cell_type": "markdown",
      "metadata": {},
      "source": [
        "\n# Abundances example\n\nDemonstrate the use of the abundances module\n"
      ]
    },
    {
      "cell_type": "code",
      "execution_count": null,
      "metadata": {
        "collapsed": false
      },
      "outputs": [],
      "source": [
        "from synthesizer.abundances import (\n    Abundances,\n    plot_abundance_pattern,\n    plot_multiple_abundance_patterns,\n)\n\n\n# by default Abundances creates a solar abundance pattern with no depletion\na1 = Abundances()\nprint(a1)\n\n# you can access the logarithmic abundances (log10(X/H)) of an element like this:\nprint(f\"log10(O/H): {a1.total['O']:.2f}\")\n# or this\nprint(f\"log10(O/H): {a1['O']:.2f}\")\n\n# we can change the metallicity\na2 = Abundances(Z=0.01)\nprint(a2)\n\n\n# or alpha-enhancement\na3 = Abundances(Z=0.01, alpha=0.6)\nprint(a3)\n\n# we can print a relative solar abundance like this:\nprint(f\"[O/Fe] = {a3.solar_relative_abundance('O', ref_element='Fe'):.2f}\")\n# or like this:\nprint(f\"[O/Fe] = {a3['[O/Fe]']:.2f}\")\n\n# there are also a helper functions for plotting one or more abundance patterns, here we plot two abundance patterns with different alpha abundances\nplot_multiple_abundance_patterns(\n    [a2, a3], labels=[r\"Z=0.01\", r\"Z=0.01; \\alpha = 0.6\"], show=True, ylim=[-7.0, -3.0]\n)\n\n\n# or the dust-to-metal ratio\na4 = Abundances(Z=0.01, d2m=0.3)\nprint(a4)\n\n# when d2m > 0.0 total, gas, and dust abundance patterns are provided e.g.\n\nprint(f'log10(C/H) total: {a4.total[\"C\"]:.2f}')\nprint(f'log10(C/H) gas: {a4.gas[\"C\"]:.2f}')\nprint(f'log10(C/H) dust: {a4.dust[\"C\"]:.2f}')\n\n# we can plot the abundance pattern of each component\n\nplot_abundance_pattern(a4, show=True, ylim=[-7.0, -3.0], lines=[\"total\", \"gas\", \"dust\"])"
      ]
    }
  ],
  "metadata": {
    "kernelspec": {
      "display_name": "Python 3",
      "language": "python",
      "name": "python3"
    },
    "language_info": {
      "codemirror_mode": {
        "name": "ipython",
        "version": 3
      },
      "file_extension": ".py",
      "mimetype": "text/x-python",
      "name": "python",
      "nbconvert_exporter": "python",
      "pygments_lexer": "ipython3",
      "version": "3.10.13"
    }
  },
  "nbformat": 4,
  "nbformat_minor": 0
}