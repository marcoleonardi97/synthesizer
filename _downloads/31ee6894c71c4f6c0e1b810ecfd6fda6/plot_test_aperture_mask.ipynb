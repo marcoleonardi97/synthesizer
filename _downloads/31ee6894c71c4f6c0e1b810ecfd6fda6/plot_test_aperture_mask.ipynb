{
  "cells": [
    {
      "cell_type": "markdown",
      "metadata": {},
      "source": [
        "\n# Aperture Mask Example\n\nShow how to implement fixed spherical apertures\nwhen getting the emission from galaxy objects.\n"
      ]
    },
    {
      "cell_type": "code",
      "execution_count": null,
      "metadata": {
        "collapsed": false
      },
      "outputs": [],
      "source": [
        "import matplotlib.pyplot as plt\nimport numpy as np\nfrom unyt import kpc\n\nfrom synthesizer.emission_models import IncidentEmission\nfrom synthesizer.grid import Grid\nfrom synthesizer.load_data.load_camels import load_CAMELS_IllustrisTNG\n\ngrid_dir = \"../../tests/test_grid\"\ngrid_name = \"test_grid\"\ngrid = Grid(grid_name, grid_dir=grid_dir)\n\ngals = load_CAMELS_IllustrisTNG(\n    \"../../tests/data/\",\n    snap_name=\"camels_snap.hdf5\",\n    group_name=\"camels_subhalo.hdf5\",\n    group_dir=\"../../tests/data/\",\n)\n\n# Define an emission model\nmodel = IncidentEmission(grid)\n\n# Select a single galaxy\ngal = gals[1]\n\n# Test calculating the centre manually\nprint(\"Galaxy centre from file: gal.centre\", gal.centre)\n\nprint(\n    \"Stars centre adopted from parent galaxy: gal.stars.centre\",\n    gal.stars.centre,\n)\n\ngal.stars.calculate_centre_of_mass()\n\nprint(\"Stars centre of mass: gal.stars.centre = \", gal.stars.centre)\n\nprint(\"Galaxy centre unchanged: gal.centre = \", gal.centre)\n\nfig, ax = plt.subplots(1, 1)\n\nfor aperture_radius in np.array([30, 10, 5, 2, 1, 0.5]) * kpc:\n    spec = gal.stars.get_spectra(model, aperture=aperture_radius)\n\n    ax.loglog(spec.lam, spec.lnu, label=f\"Aperture: {aperture_radius.value}\")\n\nax.set_ylim(1e20, 1e30)\nax.set_xlim(1e2, 2e4)\nax.legend()\nax.set_xlabel(\"$\\\\lambda \\\\,/\\\\, \\\\AA$\")\nax.set_ylabel(\"$L_{\\\\lambda} / \\\\mathrm{erg / Hz / s}$\")\n\nplt.show()"
      ]
    }
  ],
  "metadata": {
    "kernelspec": {
      "display_name": "Python 3",
      "language": "python",
      "name": "python3"
    },
    "language_info": {
      "codemirror_mode": {
        "name": "ipython",
        "version": 3
      },
      "file_extension": ".py",
      "mimetype": "text/x-python",
      "name": "python",
      "nbconvert_exporter": "python",
      "pygments_lexer": "ipython3",
      "version": "3.10.14"
    }
  },
  "nbformat": 4,
  "nbformat_minor": 0
}