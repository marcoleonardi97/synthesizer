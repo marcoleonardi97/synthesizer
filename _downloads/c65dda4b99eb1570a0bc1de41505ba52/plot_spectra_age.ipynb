{
  "cells": [
    {
      "cell_type": "markdown",
      "metadata": {},
      "source": [
        "\n# Plot Spectra by age\n\nPlot all spectra in a grid by their age, for a given metallicity\n"
      ]
    },
    {
      "cell_type": "code",
      "execution_count": null,
      "metadata": {
        "collapsed": false
      },
      "outputs": [],
      "source": [
        "from synthesizer.utils import fnu_to_flam\nfrom synthesizer.grid import Grid\nimport numpy as np\nimport matplotlib as mpl\nimport matplotlib.pyplot as plt\nimport matplotlib.cm as cm\nimport cmasher as cmr\n\n\ndef plot_spectra_age(grid, log10Z=-2.0, spec_name=\"incident\"):\n    cmap = cmr.bubblegum\n    norm = mpl.colors.Normalize(vmin=5.0, vmax=11.0)\n\n    iZ = grid.get_nearest_index(log10Z, grid.metallicity)\n    print(f\"closest metallicity: {log10Z:.2f}\")\n\n    fig = plt.figure(figsize=(3.5, 5.0))\n\n    left = 0.15\n    height = 0.8\n    bottom = 0.1\n    width = 0.8\n\n    ax = fig.add_axes((left, bottom, width, height))\n\n    cax = fig.add_axes((left, bottom + height, width, 0.02))\n\n    cbar = fig.colorbar(\n        cm.ScalarMappable(norm=norm, cmap=cmap), cax=cax, orientation=\"horizontal\"\n    )  # add the colourbar\n    cax.xaxis.tick_top()\n    cax.xaxis.set_label_position(\"top\")\n    cax.set_xlabel(r\"$\\rm \\log_{10}(age/yr)$\")\n\n    for ia, log10age in enumerate(grid.log10age):\n        Lnu = grid.spectra[spec_name][ia, iZ, :]\n        # Lnu = fnu_to_flam(grid.lam, Lnu)\n        ax.plot(\n            np.log10(grid.lam), np.log10(Lnu), c=cmap(norm(log10age)), lw=1, alpha=0.8\n        )\n\n    for wv in [912.0, 3646.0]:\n        ax.axvline(np.log10(wv), c=\"k\", lw=1, alpha=0.5)\n\n    ax.set_xlim([2.0, 4.0])\n    ax.set_ylim([10.0, 22])\n    ax.legend(fontsize=5, labelspacing=0.0)\n    ax.set_xlabel(r\"$\\rm log_{10}(\\lambda/\\AA)$\")\n    ax.set_ylabel(r\"$\\rm log_{10}(L_{\\nu}/erg\\ s^{-1}\\ Hz^{-1} M_{\\odot}^{-1})$\")\n\n    return fig, ax\n\n\nif __name__ == \"__main__\":\n    grid_dir = \"../../tests/test_grid\"\n    grid_name = \"test_grid\"\n\n    grid = Grid(grid_name, grid_dir=grid_dir)\n    log10Z = -2.0\n\n    fig, ax = plot_spectra_age(grid, log10Z=log10Z)\n    plt.show()\n    # fig.savefig(f'figs/spectra_age_{sps_name}.pdf')"
      ]
    }
  ],
  "metadata": {
    "kernelspec": {
      "display_name": "Python 3",
      "language": "python",
      "name": "python3"
    },
    "language_info": {
      "codemirror_mode": {
        "name": "ipython",
        "version": 3
      },
      "file_extension": ".py",
      "mimetype": "text/x-python",
      "name": "python",
      "nbconvert_exporter": "python",
      "pygments_lexer": "ipython3",
      "version": "3.10.13"
    }
  },
  "nbformat": 4,
  "nbformat_minor": 0
}