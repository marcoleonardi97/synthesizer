{
  "cells": [
    {
      "cell_type": "markdown",
      "metadata": {},
      "source": [
        "\n# Plot spectra example\n\nThis example demonstrates how to extract a spectra directly from a grid and\nplots all the available spectra.\n\nNOTE: this only works on 2D grids at the moment\n"
      ]
    },
    {
      "cell_type": "code",
      "execution_count": null,
      "metadata": {
        "collapsed": false
      },
      "outputs": [],
      "source": [
        "import argparse\nfrom synthesizer.grid import Grid\nimport numpy as np\nimport matplotlib.pyplot as plt\n\n\nif __name__ == \"__main__\":\n    # Get the location of this script, __file__ is the absolute path of this\n    # script, however we just want to directory\n    # script_path = os.path.abspath(os.path.dirname(__file__))\n\n    # define the test grid dir\n    # test_grid_dir = script_path + \"/../../tests/test_grid/\"\n    test_grid_dir = \"../../tests/test_grid/\"\n\n    # initialise argument parser\n    parser = argparse.ArgumentParser(\n        description=(\n            \"Create a plot of all spectra types for a given metallicity and \\\n            age\"\n        )\n    )\n\n    # The name of the grid. Defaults to the test grid.\n    parser.add_argument(\n        \"-grid_name\",\n        \"--grid_name\",\n        type=str,\n        required=False,\n        default=\"test_grid\",\n    )\n\n    # The path to the grid directory. Defaults to the test grid directory.\n    parser.add_argument(\n        \"-grid_dir\",\n        \"--grid_dir\",\n        type=str,\n        required=False,\n        default=test_grid_dir,\n    )\n\n    # The target metallicity. The code function will find the closest\n    # metallicity and report it back. The rationale behind this is\n    # that this code can easily be adapted to explore other grids.\n    parser.add_argument(\n        \"-metallicity\", type=float, required=False, default=0.01\n    )\n\n    # The target log10(age/yr). The code function will find the closest\n    # metallicity and report it back. The rationale behind this is that\n    # this code can easily be adapted to explore other grids.\n    parser.add_argument(\"-log10age\", type=float, required=False, default=6.0)\n\n    # Get dictionary of arguments\n    args = parser.parse_args()\n\n    # initialise grid\n    grid = Grid(args.grid_name, grid_dir=args.grid_dir)\n\n    # get the grid point for this log10age and metallicity\n    grid_point = grid.get_grid_point((args.log10age, args.metallicity))\n\n    # loop over available spectra and plot\n    for spec_name in grid.available_spectra:\n        # get Sed object\n        sed = grid.get_spectra(grid_point, spectra_id=spec_name)\n        # print summary of SED object\n        print(sed)\n        plt.plot(\n            np.log10(sed.lam),\n            np.log10(sed.lnu),\n            lw=1,\n            alpha=0.8,\n            label=spec_name,\n        )\n\n    plt.xlim([2.0, 4.0])\n    plt.ylim([18.0, 23])\n    plt.legend(fontsize=8, labelspacing=0.0)\n    plt.xlabel(r\"$\\rm log_{10}(\\lambda/\\AA)$\")\n    plt.ylabel(r\"$\\rm log_{10}(L_{\\nu}/erg\\ s^{-1}\\ Hz^{-1} M_{\\odot}^{-1})$\")\n    plt.show()"
      ]
    }
  ],
  "metadata": {
    "kernelspec": {
      "display_name": "Python 3",
      "language": "python",
      "name": "python3"
    },
    "language_info": {
      "codemirror_mode": {
        "name": "ipython",
        "version": 3
      },
      "file_extension": ".py",
      "mimetype": "text/x-python",
      "name": "python",
      "nbconvert_exporter": "python",
      "pygments_lexer": "ipython3",
      "version": "3.10.13"
    }
  },
  "nbformat": 4,
  "nbformat_minor": 0
}