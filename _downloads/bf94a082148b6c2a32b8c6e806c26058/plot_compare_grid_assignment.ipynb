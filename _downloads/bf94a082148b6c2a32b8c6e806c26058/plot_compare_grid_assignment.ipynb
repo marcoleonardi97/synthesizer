{
  "cells": [
    {
      "cell_type": "markdown",
      "metadata": {},
      "source": [
        "\n# Compare SPS grid assignment methods\n\nThis example compares a the cloud in cell (CIC) and nearest grid point (NGP)\ngrid assignment methods. These methods dictate how mass is assigned to\nspectra in the SPS grids.\n"
      ]
    },
    {
      "cell_type": "code",
      "execution_count": null,
      "metadata": {
        "collapsed": false
      },
      "outputs": [],
      "source": [
        "import matplotlib.pyplot as plt\nfrom unyt import Msun, Myr\n\nfrom synthesizer.emission_models import IncidentEmission\nfrom synthesizer.grid import Grid\nfrom synthesizer.parametric import SFH, ZDist\nfrom synthesizer.parametric import Stars as ParametricStars\nfrom synthesizer.particle.galaxy import Galaxy as ParticleGalaxy\nfrom synthesizer.particle.stars import sample_sfhz\n\n# Define the grid\ngrid_name = \"test_grid\"\ngrid_dir = \"../../tests/test_grid/\"\ngrid = Grid(grid_name, grid_dir=grid_dir)\n\n# Define the emission model\nmodel = IncidentEmission(grid)\n\n# Define the SFH and metallicity distribution\nZ_p = {\"metallicity\": 0.01}\nmetal_dist = ZDist.DeltaConstant(**Z_p)\nsfh_p = {\"duration\": 100 * Myr}\nsfh = SFH.Constant(**sfh_p)\n\n# Define the parametric stars\nsfzh = ParametricStars(\n    grid.log10age,\n    grid.metallicity,\n    sf_hist=sfh,\n    metal_dist=metal_dist,\n    initial_mass=10**9 * Msun,\n)\n\n# How many particles?\nnstar = 10**5\n\n# Get the stars object\nstars = sample_sfhz(\n    sfzh.sfzh,\n    sfzh.log10ages,\n    sfzh.log10metallicities,\n    nstar,\n    initial_mass=10**9 / nstar * Msun,\n)\n\n# Create galaxy object\nparticle_galaxy = ParticleGalaxy(stars=stars)\n\n# Calculate the stars SEDs using both grid assignment schemes\ncic_sed = particle_galaxy.stars.get_spectra(\n    model,\n    grid_assignment_method=\"cic\",\n)\nngp_sed = particle_galaxy.stars.get_spectra(\n    model,\n    grid_assignment_method=\"ngp\",\n)\n\n# Setup the plot\nfig = plt.figure()\nax = fig.add_subplot(111)\nresi_ax = ax.twinx()\nax.grid(True)\n\nresi_ax.semilogx(\n    ngp_sed.lam,\n    ngp_sed.lnu / cic_sed.lnu,\n    color=\"m\",\n    linestyle=\"dotted\",\n    label=\"Residual\",\n    alpha=0.6,\n)\nax.loglog(\n    cic_sed.lam,\n    cic_sed.lnu,\n    label=\"CIC\",\n)\nax.loglog(\n    ngp_sed.lam,\n    ngp_sed.lnu,\n    label=\"NGP\",\n)\n\n\nresi_ax.set_ylabel(\"NGP / CIC\")\nx_units = str(cic_sed.lam.units)\ny_units = str(cic_sed.lnu.units)\nax.set_xlabel(r\"$\\lambda/[\\mathrm{\" + x_units + r\"}]$\")\nax.set_ylabel(r\"$L_{\\nu}/[\\mathrm{\" + y_units + r\"}]$\")\n\nax.legend()\nresi_ax.legend(loc=\"upper left\")\nax.set_xlim(10**2.0, 10**5.2)\nax.set_ylim(10**25.0, 10**30.0)\nplt.show()"
      ]
    }
  ],
  "metadata": {
    "kernelspec": {
      "display_name": "Python 3",
      "language": "python",
      "name": "python3"
    },
    "language_info": {
      "codemirror_mode": {
        "name": "ipython",
        "version": 3
      },
      "file_extension": ".py",
      "mimetype": "text/x-python",
      "name": "python",
      "nbconvert_exporter": "python",
      "pygments_lexer": "ipython3",
      "version": "3.10.15"
    }
  },
  "nbformat": 4,
  "nbformat_minor": 0
}