{
  "cells": [
    {
      "cell_type": "markdown",
      "metadata": {},
      "source": [
        "\n# Create image example\n\nExample for generating a rest-frame physical scale image. This example will:\n- Build a parametric galaxy (see make_sfzh and make_sed)\n- Define its morphology\n- Calculate rest-frame luminosities for the UVJ bands\n- Make an image of the galaxy, including an RGB image.\n"
      ]
    },
    {
      "cell_type": "code",
      "execution_count": null,
      "metadata": {
        "collapsed": false
      },
      "outputs": [],
      "source": [
        "import matplotlib.pyplot as plt\nfrom synthesizer.filters import UVJ\nfrom synthesizer.grid import Grid\nfrom synthesizer.imaging import ImageCollection\nfrom synthesizer.parametric import SFH, Stars, ZDist\nfrom synthesizer.parametric.galaxy import Galaxy\nfrom synthesizer.parametric.morphology import Sersic2D\nfrom unyt import Myr, kpc\n\nif __name__ == \"__main__\":\n    # Define the morphology using a simple effective radius and slope\n    morph = Sersic2D(r_eff=1 * kpc, sersic_index=1.0, ellipticity=0.5)\n\n    # Get the location of this script, __file__ is the absolute path of this\n    # script, however we just want to directory\n    # script_path = os.path.abspath(os.path.dirname(__file__))\n\n    # Define the grid\n    grid_name = \"test_grid\"\n    grid_dir = \"../../tests/test_grid/\"\n    grid = Grid(grid_name, grid_dir=grid_dir)\n\n    # Define the SFZDist\n    Z_p = {\"metallicity\": 0.01}\n    metal_dist = ZDist.DeltaConstant(**Z_p)\n    sfh_p = {\"duration\": 100 * Myr}\n    sfh = SFH.Constant(**sfh_p)  # constant star formation\n    sfzh = Stars(\n        grid.log10age,\n        grid.metallicity,\n        sf_hist=sfh,\n        metal_dist=metal_dist,\n        initial_mass=10**9,\n        morphology=morph,\n    )\n\n    # Initialise a parametric Galaxy\n    galaxy = Galaxy(sfzh)\n\n    # Generate stellar spectra\n    galaxy.stars.get_spectra_incident(grid)\n\n    # Get a UVJ filter set\n    filters = UVJ()\n\n    # Get photometry\n    galaxy.stars.spectra[\"incident\"].get_photo_luminosities(filters)\n\n    # Define geometry of the images\n    resolution = 0.01 * kpc  # resolution in kpc\n    npix = 100\n    fov = resolution.value * npix * kpc\n\n    # Generate images using the low level image methods\n    img = ImageCollection(\n        resolution=resolution,\n        fov=fov,\n    )\n\n    # Get the photometric images\n    img.get_imgs_smoothed(\n        photometry=galaxy.stars.spectra[\"incident\"].photo_luminosities,\n        density_grid=morph.get_density_grid(resolution, img.npix),\n    )\n\n    # Make and plot an rgb image\n    img.make_rgb_image(rgb_filters={\"R\": \"J\", \"G\": \"V\", \"B\": \"U\"})\n    fig, ax, _ = img.plot_rgb_image()\n\n    plt.show()\n\n    # We can also do the same with a helper function on the galaxy object\n    img = galaxy.get_images_luminosity(\n        resolution=resolution,\n        stellar_photometry=\"incident\",\n        fov=fov,\n    )\n\n    # and... print an ASCII representation\n    img[\"J\"].print_ascii()"
      ]
    }
  ],
  "metadata": {
    "kernelspec": {
      "display_name": "Python 3",
      "language": "python",
      "name": "python3"
    },
    "language_info": {
      "codemirror_mode": {
        "name": "ipython",
        "version": 3
      },
      "file_extension": ".py",
      "mimetype": "text/x-python",
      "name": "python",
      "nbconvert_exporter": "python",
      "pygments_lexer": "ipython3",
      "version": "3.10.14"
    }
  },
  "nbformat": 4,
  "nbformat_minor": 0
}