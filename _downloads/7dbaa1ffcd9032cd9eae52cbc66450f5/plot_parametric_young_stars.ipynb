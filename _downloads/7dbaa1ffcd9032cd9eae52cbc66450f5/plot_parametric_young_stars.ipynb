{
  "cells": [
    {
      "cell_type": "markdown",
      "metadata": {},
      "source": [
        "\n# Parametric Young Stars Example\n\nTest the effect on the intrinsic emission of assuming a\nparametric SFH for young star particles.\n\nThis is now implemented within call to `generate_lnu`\non a parametric stars object.\n"
      ]
    },
    {
      "cell_type": "code",
      "execution_count": null,
      "metadata": {
        "collapsed": false
      },
      "outputs": [],
      "source": [
        "import matplotlib.pyplot as plt\nimport numpy as np\nfrom synthesizer.emission_models import IncidentEmission\nfrom synthesizer.grid import Grid\nfrom synthesizer.load_data.load_camels import load_CAMELS_IllustrisTNG\nfrom synthesizer.parametric import SFH, Stars\nfrom synthesizer.parametric.galaxy import Galaxy\nfrom unyt import Myr\n\nif __name__ == \"__main__\":\n    grid_dir = \"../../tests/test_grid\"\n    grid_name = \"test_grid\"\n    grid = Grid(grid_name, grid_dir=grid_dir)\n\n    gals = load_CAMELS_IllustrisTNG(\n        \"../../tests/data/\",\n        snap_name=\"camels_snap.hdf5\",\n        group_name=\"camels_subhalo.hdf5\",\n        group_dir=\"../../tests/data/\",\n    )\n\n    # Define the emission model\n    model = IncidentEmission(grid)\n\n    # Select a single galaxy\n    gal = gals[1]\n\n    # Age limit at which we replace star particles\n    age_lim = 500 * Myr\n\n    \"\"\"\n    We first demonstrate the process *manually*.\n    This also allows us to obtain the SFH of each parametric\n    model for plotting purposes.\n    \"\"\"\n    # First, filter for star particles\n    pmask = gal.stars.ages < age_lim\n\n    stars = []\n    # Loop through each young star particle\n    for _pmask in np.where(pmask)[0]:\n        # Initialise SFH object\n        sfh = SFH.Constant(duration=age_lim)\n\n        # Create a parametric stars object\n        stars.append(\n            Stars(\n                grid.log10age,\n                grid.metallicity,\n                sf_hist=sfh,\n                metal_dist=gal.stars.metallicities[_pmask],\n                initial_mass=gal.stars.initial_masses[_pmask],\n            )\n        )\n\n    # Sum each individual Stars object\n    stars = sum(stars[1:], stars[0])\n\n    # Create a parametric galaxy\n    para_gal = Galaxy(stars)\n\n    para_spec = para_gal.stars.get_spectra(model)\n    part_spec = gal.stars.get_spectra(model)\n    part_spec_old = gal.stars.get_spectra(\n        model,\n        mask={\"incident\": {\"attr\": \"ages\", \"op\": \">\", \"thresh\": age_lim}},\n    )\n\n    \"\"\"\n    We can also do this directly from call to `generate_lnu`,\n    as well as any downstream `get_spectra_*` methods.\n    This shows an example on `get_spectra_incident`, supplying\n    the optional `parametric_young_stars` keyword argument.\n    \"\"\"\n\n    combined_spec = gal.stars.get_spectra(\n        model, parametric_young_stars=age_lim\n    )\n\n    assert (combined_spec.lnu == (part_spec_old.lnu + para_spec.lnu)).all()\n\n    \"\"\"\n    Plot intrinsic emission from pure particle, parametric\n    and parametric + particle models\n    \"\"\"\n    fig, (ax1, ax2) = plt.subplots(1, 2, figsize=(10, 5))\n\n    ax1.loglog(\n        para_spec.lam, para_spec.lnu, label=\"Parametric young\", color=\"C0\"\n    )\n    ax1.loglog(\n        part_spec_old.lam, part_spec_old.lnu, label=\"Particle old\", color=\"C3\"\n    )\n    ax1.loglog(\n        part_spec.lam,\n        part_spec.lnu,\n        label=\"Particle all\",\n        color=\"C1\",\n        linestyle=\"dashed\",\n    )\n    ax1.loglog(\n        part_spec.lam,\n        part_spec_old.lnu + para_spec.lnu,\n        label=\"Para + Part\",\n        color=\"C2\",\n    )\n    ax1.set_ylim(1e20, 1e30)\n    ax1.set_xlim(1e2, 2e4)\n    ax1.legend()\n    ax1.set_xlabel(\"$\\\\lambda \\\\,/\\\\, \\\\AA$\")\n    ax1.set_ylabel(\"$L_{\\\\lambda} / \\\\mathrm{erg / Hz / s}$\")\n\n    \"\"\"\n    Plot SFH from particles and parametric\n    \"\"\"\n    binLimits = np.linspace(5, 10, 30)\n\n    ax2.hist(\n        np.log10(np.hstack([gal.stars.ages[~pmask].value, stars.ages.value])),\n        histtype=\"step\",\n        weights=np.hstack(\n            [gal.stars.initial_masses[~pmask].value, stars.sf_hist]\n        ),\n        bins=binLimits,\n        log=True,\n        label=\"Particle + Parametric\",\n        color=\"C2\",\n        linewidth=3,\n    )\n    ax2.hist(\n        np.log10(gal.stars.ages),\n        histtype=\"step\",\n        weights=gal.stars.initial_masses.value,\n        bins=binLimits,\n        log=True,\n        label=\"All Particles\",\n        color=\"C1\",\n        linestyle=\"dashed\",\n        linewidth=3,\n    )\n    ax2.hist(\n        np.log10(stars.ages.value),\n        histtype=\"step\",\n        weights=stars.sf_hist,\n        bins=binLimits,\n        log=True,\n        label=\"Young Parametric\",\n        color=\"C0\",\n        linewidth=3,\n        linestyle=\"dashed\",\n    )\n    ax2.legend()\n    # plt.show()\n    ax2.set_xlabel(\"$\\\\mathrm{log_{10} Age \\\\,/\\\\, yr}$\")\n    ax2.set_ylabel(\"$\\\\mathrm{log_{10} (Mass \\\\,/\\\\, M_{\\\\odot})}$\")\n\n    plt.show()"
      ]
    }
  ],
  "metadata": {
    "kernelspec": {
      "display_name": "Python 3",
      "language": "python",
      "name": "python3"
    },
    "language_info": {
      "codemirror_mode": {
        "name": "ipython",
        "version": 3
      },
      "file_extension": ".py",
      "mimetype": "text/x-python",
      "name": "python",
      "nbconvert_exporter": "python",
      "pygments_lexer": "ipython3",
      "version": "3.10.14"
    }
  },
  "nbformat": 4,
  "nbformat_minor": 0
}