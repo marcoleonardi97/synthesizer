{
  "cells": [
    {
      "cell_type": "markdown",
      "metadata": {},
      "source": [
        "\n# Create survey photometry\n\nThis example shows how to create a survey of fake galaxies generated using a\n2D SFZH, and make images of each of these galaxies.\n"
      ]
    },
    {
      "cell_type": "code",
      "execution_count": null,
      "metadata": {
        "collapsed": false
      },
      "outputs": [],
      "source": [
        "import os\nimport time\nimport random\nimport numpy as np\nfrom scipy import signal\nimport matplotlib as mpl\nimport matplotlib.pyplot as plt\nimport matplotlib.gridspec as gridspec\nfrom unyt import yr, Myr, kpc, arcsec\n\nfrom synthesizer.grid import Grid\nfrom synthesizer.parametric.sfzh import SFH, ZH, generate_sfzh\nfrom synthesizer.particle.stars import sample_sfhz\nfrom synthesizer.particle.stars import Stars\nfrom synthesizer.particle.galaxy import Galaxy\nfrom synthesizer.particle.particles import CoordinateGenerator\nfrom synthesizer.filters import FilterCollection as Filters\nfrom synthesizer.kernel_functions import quintic\nfrom synthesizer.survey import Survey\nfrom astropy.cosmology import Planck18 as cosmo\n\nplt.rcParams[\"font.family\"] = \"DeJavu Serif\"\nplt.rcParams[\"font.serif\"] = [\"Times New Roman\"]\n\n# Set the seed\nnp.random.seed(45)\n\nstart = time.time()\n\n# Get the location of this script, __file__ is the absolute path of this\n# script, however we just want to directory\n# script_path = os.path.abspath(os.path.dirname(__file__))\n\n# Define the grid\ngrid_name = \"test_grid\"\ngrid_dir = \"../../tests/test_grid/\"\ngrid = Grid(grid_name, grid_dir=grid_dir)\n\nprint(\"Grid dimensions: (%d, %d)\" % (grid.log10age.size,\n                                     grid.metallicity.size))\n\n# What redshift are we testing?\nredshift = 8\n\n# Create an empty Survey object\nsurvey = Survey(super_resolution_factor=1)\n\n# Lets make filter sets for two different instruments\nhst_filter_codes = [\"HST/WFC3_IR.F105W\", \"HST/WFC3_IR.F125W\"]\nwebb_filter_codes = [\n    \"JWST/NIRCam.F090W\",\n    \"JWST/NIRCam.F150W\",\n    \"JWST/NIRCam.F200W\",\n]\nhst_filters = Filters(hst_filter_codes, new_lam=grid.lam)\nwebb_filters = Filters(webb_filter_codes, new_lam=grid.lam)\n\n# Let's add these instruments to the survey\nsurvey.add_photometric_instrument(filters=hst_filters, label=\"HST/WFC3_IR\")\nsurvey.add_photometric_instrument(filters=webb_filters, label=\"JWST/NIRCam\")\n\n# Define the grid (normally this would be defined by an SPS grid)\nlog10ages = np.arange(6.0, 10.5, 0.1)\nmetallicities = 10 ** np.arange(-5.0, -1.5, 0.1)\nZ_p = {\"Z\": 0.01}\nZh = ZH.deltaConstant(Z_p)\nsfh_p = {\"duration\": 100 * Myr}\nsfh = SFH.Constant(sfh_p)  # constant star formation\n\n# Make some fake galaxies\nngalaxies = 1000\ngalaxies = []\nfor igal in range(ngalaxies):\n    # Generate the star formation metallicity history\n    mass = np.random.uniform(10**6, 10**10, 1)[0]\n    sfzh = generate_sfzh(log10ages, metallicities, sfh, Zh, stellar_mass=mass)\n\n    # Create stars object\n    n = random.randint(100, 1000)\n\n    # Generate some random coordinates\n    coords = CoordinateGenerator.generate_3D_gaussian(n)\n\n    # Calculate the smoothing lengths from radii\n    cent = np.mean(coords, axis=0)\n    rs = np.sqrt(\n        (coords[:, 0] - cent[0]) ** 2\n        + (coords[:, 1] - cent[1]) ** 2\n        + (coords[:, 2] - cent[2]) ** 2\n    )\n    rs[rs < 0.2] = 0.6  # Set a lower bound on the \"smoothing length\"\n\n    # Sample the SFZH, producing a Stars object\n    # we will also pass some keyword arguments for attributes\n    # we will need for imaging\n    stars = sample_sfhz(\n        sfzh,\n        n,\n        coordinates=coords,\n        current_masses=np.full(n, 10**8.7 / n),\n        smoothing_lengths=rs / 2,\n        redshift=1,\n    )\n\n    # Create galaxy object\n    galaxy = Galaxy(name=\"Galaxy%d\" % igal, stars=stars, redshift=1)\n\n    # Include this galaxy\n    galaxies.append(galaxy)\n\n# Store galaxies in the survey\nsurvey.add_galaxies(galaxies)\n\n# Get the SEDs\nsurvey.get_spectra(grid, spectra_type=\"incident\", rest_frame=False, redshift=redshift)\n\n# Make images for each galaxy in this survey\nsurvey.get_photometry(spectra_type=\"incident\")\n\nprint(\n    \"Total runtime (including creation, not including plotting):\", time.time() - start\n)\n\n# Get stellar masses\nms = []\nfor gal in galaxies:\n    ms.append(gal.stellar_mass)\n\n# Set up plot\nfig = plt.figure(figsize=(3.5, 3.5))\nax = fig.add_subplot(111)\nax.grid(True)\nax.loglog()\n\n# Loop over filters\nfor f in survey.photometry:\n    # Get photometry\n    phot = survey.photometry[f]\n\n    # Plot the scatter for this filter\n    ax.scatter(ms, phot, marker=\".\", label=f)\n\nax.set_ylabel(\"$F /$ [nJy] \")\nax.set_xlabel(\"$M / \\mathrm{M}_\\odot$\")\n\nax.legend(\n    loc=\"upper center\",\n    bbox_to_anchor=(0.5, -0.15),\n    fancybox=True,\n    shadow=True,\n    ncol=2,\n)\n\n# Plot the image\n# plt.savefig(script_path + \"/plots/survey_photometry_test.png\", bbox_inches=\"tight\", dpi=300)\nplt.show()"
      ]
    }
  ],
  "metadata": {
    "kernelspec": {
      "display_name": "Python 3",
      "language": "python",
      "name": "python3"
    },
    "language_info": {
      "codemirror_mode": {
        "name": "ipython",
        "version": 3
      },
      "file_extension": ".py",
      "mimetype": "text/x-python",
      "name": "python",
      "nbconvert_exporter": "python",
      "pygments_lexer": "ipython3",
      "version": "3.10.13"
    }
  },
  "nbformat": 4,
  "nbformat_minor": 0
}