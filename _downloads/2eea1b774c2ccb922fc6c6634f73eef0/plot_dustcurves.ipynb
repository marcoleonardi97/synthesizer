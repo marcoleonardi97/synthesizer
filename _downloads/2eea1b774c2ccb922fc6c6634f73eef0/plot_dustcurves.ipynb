{
  "cells": [
    {
      "cell_type": "markdown",
      "metadata": {},
      "source": [
        "\n# Dust curves example\n\nPlot dust curves\n"
      ]
    },
    {
      "cell_type": "code",
      "execution_count": null,
      "metadata": {
        "collapsed": false
      },
      "outputs": [],
      "source": [
        "import cmasher as cmr\nimport matplotlib.pyplot as plt\nimport numpy as np\nfrom unyt import Angstrom\n\nfrom synthesizer.emission_models import attenuation\n\nmodels = [\n    \"PowerLaw\",\n    \"Calzetti2000\",\n    \"MWN18\",\n    \"GrainsWD01\",\n    \"GrainsWD01\",\n    \"GrainsWD01\",\n    \"ParametricLi08\",\n    \"ParametricLi08\",\n    \"ParametricLi08\",\n    \"ParametricLi08\",\n]\n\nparams = [\n    {\"slope\": -1.0},\n    {\"slope\": 0.0, \"cent_lam\": 0.2175, \"ampl\": 1.26, \"gamma\": 0.0356},\n    {},\n    {\"model\": \"MW\"},\n    {\"model\": \"SMC\"},\n    {\"model\": \"LMC\"},\n    {\"model\": \"MW\"},\n    {\"model\": \"LMC\"},\n    {\"model\": \"SMC\"},\n    {\"model\": \"Calzetti\"},\n]\n\ncolors = cmr.take_cmap_colors(\"cmr.guppy\", len(models))\n\nlam = np.arange(1000, 10000, 10) * Angstrom\n\nfig = plt.figure(figsize=(8, 6))\nax = fig.add_subplot(111)\n\nfor ii, (model, param) in enumerate(zip(models, params)):\n    emodel = getattr(attenuation, model)(**param)\n\n    ax.plot(\n        lam, emodel.get_tau(lam), color=colors[ii], label=f\"{model}, {param}\"\n    )\n\nax.set_xlabel(r\"$\\lambda/(\\AA)$\", fontsize=12)\nax.set_ylabel(r\"A$_{\\lambda}/$A$_{V}$\", fontsize=12)\nax.set_yticks(np.arange(0, 14))\nax.set_xlim(np.min(lam), np.max(lam))\n\nax.legend(fontsize=10)\nax.grid(True)\n\nplt.show()"
      ]
    }
  ],
  "metadata": {
    "kernelspec": {
      "display_name": "Python 3",
      "language": "python",
      "name": "python3"
    },
    "language_info": {
      "codemirror_mode": {
        "name": "ipython",
        "version": 3
      },
      "file_extension": ".py",
      "mimetype": "text/x-python",
      "name": "python",
      "nbconvert_exporter": "python",
      "pygments_lexer": "ipython3",
      "version": "3.10.14"
    }
  },
  "nbformat": 4,
  "nbformat_minor": 0
}