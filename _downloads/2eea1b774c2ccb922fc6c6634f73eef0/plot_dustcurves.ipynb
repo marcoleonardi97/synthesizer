{
  "cells": [
    {
      "cell_type": "markdown",
      "metadata": {},
      "source": [
        "\n# Dust curves example\n\nPlot dust curves\n"
      ]
    },
    {
      "cell_type": "code",
      "execution_count": null,
      "metadata": {
        "collapsed": false
      },
      "outputs": [],
      "source": [
        "import matplotlib.pyplot as plt\nimport numpy as np\nfrom unyt import Angstrom\n\nfrom synthesizer.dust import attenuation\n\nimport cmasher as cmr\n\nmodels = [\n    \"PowerLaw\",\n    'Calzetti2000',\n    # \"MW_N18\",\n    \"GrainsWD01\",\n    \"GrainsWD01\",\n    \"GrainsWD01\",\n]\n\nparams = [\n    {\"slope\": -1.0},\n    {'slope': 0., 'x0': 0.2175, 'ampl': 1.26, 'gamma': 0.0356},\n    {\"model\": \"MW\"},\n    {\"model\": \"SMC\"},\n    {\"model\": \"LMC\"},\n]\n\ncolors = cmr.take_cmap_colors(\"cmr.guppy\", len(models))\n\nlam = np.arange(1000, 10000, 10) * Angstrom\n\nfor ii, (model, param) in enumerate(zip(models, params)):\n    emodel = getattr(attenuation, model)(params=param)\n\n    plt.plot(lam, emodel.tau(lam), color=colors[ii], label=f\"{model}, {param}\")\n\nplt.xlabel(r\"$\\lambda/(\\AA)$\", fontsize=12)\nplt.ylabel(r\"A$_{\\lambda}/$A$_{V}$\", fontsize=12)\nplt.yticks(np.arange(0, 10))\nplt.xlim(np.min(lam), np.max(lam))\n\nplt.legend(frameon=False, fontsize=10)\nplt.grid()\n\nplt.show()"
      ]
    }
  ],
  "metadata": {
    "kernelspec": {
      "display_name": "Python 3",
      "language": "python",
      "name": "python3"
    },
    "language_info": {
      "codemirror_mode": {
        "name": "ipython",
        "version": 3
      },
      "file_extension": ".py",
      "mimetype": "text/x-python",
      "name": "python",
      "nbconvert_exporter": "python",
      "pygments_lexer": "ipython3",
      "version": "3.10.13"
    }
  },
  "nbformat": 4,
  "nbformat_minor": 0
}