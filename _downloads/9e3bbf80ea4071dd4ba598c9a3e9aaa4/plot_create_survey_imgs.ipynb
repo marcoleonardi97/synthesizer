{
  "cells": [
    {
      "cell_type": "markdown",
      "metadata": {},
      "source": [
        "\n# Create survey images\n\nThis example shows how to create a survey of fake galaxies generated using a\n2D SFZH, and make images of each of these galaxies.\n"
      ]
    },
    {
      "cell_type": "code",
      "execution_count": null,
      "metadata": {
        "collapsed": false
      },
      "outputs": [],
      "source": [
        "import os\nimport time\nimport numpy as np\nfrom scipy import signal\nimport matplotlib as mpl\nimport matplotlib.pyplot as plt\nimport matplotlib.gridspec as gridspec\nfrom unyt import yr, Myr, kpc, arcsec, Mpc\n\nfrom synthesizer.grid import Grid\nfrom synthesizer.parametric.sfzh import SFH, ZH, generate_sfzh\nfrom synthesizer.particle.stars import sample_sfhz\nfrom synthesizer.particle.stars import Stars\nfrom synthesizer.particle.galaxy import Galaxy\nfrom synthesizer.particle.particles import CoordinateGenerator\nfrom synthesizer.filters import FilterCollection as Filters\nfrom synthesizer.kernel_functions import quintic\nfrom synthesizer.survey import Survey\nfrom astropy.cosmology import Planck18 as cosmo\n\nplt.rcParams[\"font.family\"] = \"DeJavu Serif\"\nplt.rcParams[\"font.serif\"] = [\"Times New Roman\"]\n\n# Set the seed\nnp.random.seed(42)\n\nstart = time.time()\n\n# Get the location of this script, __file__ is the absolute path of this\n# script, however we just want to directory\n# script_path = os.path.abspath(os.path.dirname(__file__))\n\n# Define the grid\ngrid_name = \"test_grid\"\ngrid_dir = \"../../tests/test_grid/\"\ngrid = Grid(grid_name, grid_dir=grid_dir)\n\n# What redshift are we testing?\nredshift = 4\n\n# Create an empty Survey object\nsurvey = Survey(super_resolution_factor=2, fov=15)\n\n# Lets make filter sets for two different instruments\nhst_filter_codes = [\"HST/WFC3_IR.F105W\", \"HST/WFC3_IR.F125W\"]\nwebb_filter_codes = [\n    \"JWST/NIRCam.F090W\",\n    \"JWST/NIRCam.F150W\",\n    \"JWST/NIRCam.F200W\",\n]\nhst_filters = Filters(hst_filter_codes, new_lam=grid.lam)\nwebb_filters = Filters(webb_filter_codes, new_lam=grid.lam)\n\n# Create a fake PSF for each instrument (normalising the kernels)\nhst_psf = np.outer(signal.windows.gaussian(25, 4), signal.windows.gaussian(25, 5))\nhst_psf /= np.sum(hst_psf)\nwebb_psf = np.outer(signal.windows.gaussian(50, 6), signal.windows.gaussian(50, 6))\nwebb_psf /= np.sum(webb_psf)\nhst_psfs = {f: hst_psf for f in hst_filters.filter_codes}\nwebb_psfs = {f: webb_psf for f in webb_filters.filter_codes}\n\n# Lets define some depths in magnitudes\nhst_depths = {f: 46.0 for f in hst_filters.filter_codes}\nwebb_depths = {f: 46.0 for f in webb_filters.filter_codes}\n\n# Let's add these instruments to the survey\nsurvey.add_photometric_instrument(\n    filters=hst_filters,\n    resolution=0.5 * Mpc,\n    label=\"HST/WFC3_IR\",\n    psfs=hst_psfs,\n    depths=hst_depths,\n    snrs=5,\n    apertures=3,\n)\nsurvey.add_photometric_instrument(\n    filters=webb_filters,\n    resolution=0.1 * Mpc,\n    label=\"JWST/NIRCam\",\n    psfs=webb_psfs,\n    depths=webb_depths,\n    snrs=5,\n    apertures=3,\n)\n\n# We need to convert the our depths into flux to be consistent with the images.\nsurvey.convert_mag_depth_to_lnu(redshift)\n\n# Define the grid (normally this would be defined by an SPS grid)\nlog10ages = np.arange(6.0, 10.5, 0.1)\nmetallicities = 10 ** np.arange(-5.0, -1.5, 0.1)\nZ_p = {\"Z\": 0.01}\nZh = ZH.deltaConstant(Z_p)\nsfh_p = {\"duration\": 100 * Myr}\nsfh = SFH.Constant(sfh_p)  # constant star formation\n\n# Define a FOV to be updated by the particle distribution\nfov = survey.fov\n\n# Make some fake galaxies\nngalaxies = 5\ngalaxies = []\nfor igal in range(ngalaxies):\n    # Generate the star formation metallicity history\n    mass = 10**10\n    sfzh = generate_sfzh(log10ages, metallicities, sfh, Zh, stellar_mass=mass)\n\n    # Define the number of stars\n    n = 1000\n\n    # Generate some random coordinates\n    coords = CoordinateGenerator.generate_3D_gaussian(n)\n\n    # Calculate the smoothing lengths from radii\n    cent = np.mean(coords, axis=0)\n    rs = np.sqrt(\n        (coords[:, 0] - cent[0]) ** 2\n        + (coords[:, 1] - cent[1]) ** 2\n        + (coords[:, 2] - cent[2]) ** 2\n    )\n    rs[rs < 0.2] = 0.6  # Set a lower bound on the \"smoothing length\"\n\n    # Sample the SFZH, producing a Stars object\n    # we will also pass some keyword arguments for attributes\n    # we will need for imaging\n    stars = sample_sfhz(\n        sfzh,\n        n,\n        coordinates=coords,\n        current_masses=np.full(n, 10**8.7 / n),\n        smoothing_lengths=rs / 2,\n        redshift=1,\n    )\n\n    # Compute width of stellar distribution\n    width = (np.max(coords) - np.min(coords)) * Mpc\n\n    # Update the FOV\n    if width > fov:\n        fov = width\n\n    # Create galaxy object\n    galaxy = Galaxy(\"Galaxy%d\" % igal, stars=stars, redshift=1)\n\n    # Include this galaxy\n    galaxies.append(galaxy)\n\n# Define image properties\nfov = (width.value + 1) * Mpc\n\n# Set the fov in the survey\nprint(\"Image FOV:\", fov)\nsurvey.fov = fov\n\n# Store galaxies in the survey\nsurvey.add_galaxies(galaxies)\n\n# Calculate the SEDs\nsurvey.get_particle_spectra(grid, \"incident\", redshift=redshift, rest_frame=False)\n\n# Make images for each galaxy in this survey\nsurvey.make_images(\n    img_type=\"smoothed\",\n    spectra_type=\"incident\",\n    kernel_func=quintic,\n    rest_frame=False,\n    cosmo=cosmo,\n)\n\nprint(\n    \"Total runtime (including creation, not including plotting):\", time.time() - start\n)\n\n# Set up plot\nfig = plt.figure(figsize=(3.5 * survey.nfilters, 3.5 * survey.ngalaxies))\ngs = gridspec.GridSpec(survey.ngalaxies, survey.nfilters)\n\n# Create top row\naxes = np.empty((survey.ngalaxies, survey.nfilters), dtype=object)\nfor i in range(survey.ngalaxies):\n    for j in range(survey.nfilters):\n        axes[i, j] = fig.add_subplot(gs[i, j])\n\n# Create a mask for which plots are populated\npopulated = np.zeros((survey.ngalaxies, survey.nfilters))\n\n# Loop over instruments\nfor inst in survey.imgs:\n    # Loop over galaxies\n    for i, img in enumerate(survey.imgs[inst]):\n        # Find the next cell in this row\n        j = 0\n        while populated[i, j] != 0:\n            j += 1\n\n        # Label the edge\n        if j == 0:\n            axes[i, j].set_ylabel(survey.galaxies[i].name)\n\n        # Loop over filters in this instrument\n        for fcode in img.imgs:\n            axes[i, j].imshow(img.imgs_noise[fcode], cmap=\"Greys_r\")\n            print(img.imgs_noise[fcode].max())\n            print(img.noise_arrs[fcode].max())\n\n            # Label the top row\n            if i == 0:\n                axes[i, j].set_title(fcode)\n\n            # Record that we put an image here\n            populated[i, j] = 1\n            j += 1\n\n# Plot the image\n# plt.savefig(script_path + \"/plots/survey_img_test.png\", bbox_inches=\"tight\", dpi=300)\nplt.show()"
      ]
    }
  ],
  "metadata": {
    "kernelspec": {
      "display_name": "Python 3",
      "language": "python",
      "name": "python3"
    },
    "language_info": {
      "codemirror_mode": {
        "name": "ipython",
        "version": 3
      },
      "file_extension": ".py",
      "mimetype": "text/x-python",
      "name": "python",
      "nbconvert_exporter": "python",
      "pygments_lexer": "ipython3",
      "version": "3.10.13"
    }
  },
  "nbformat": 4,
  "nbformat_minor": 0
}