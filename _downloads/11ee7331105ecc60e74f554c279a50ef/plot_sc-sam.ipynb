{
  "cells": [
    {
      "cell_type": "markdown",
      "metadata": {},
      "source": [
        "\n# SC-SAM example\n\nLoad SC-SAM example data into a list of galaxy objects.\n"
      ]
    },
    {
      "cell_type": "code",
      "execution_count": null,
      "metadata": {
        "collapsed": false
      },
      "outputs": [],
      "source": [
        "import matplotlib.pyplot as plt\nimport numpy as np\nfrom synthesizer.grid import Grid\nfrom synthesizer.load_data.load_scsam import load_SCSAM\n\nif __name__ == \"__main__\":\n    # Define the grid\n    grid_name = \"test_grid.hdf5\"\n    grid_dir = \"../../tests/test_grid/\"\n    grid = Grid(grid_name, grid_dir=grid_dir)\n\n    # Load example SC-SAM SF history (just contains 10 galaxies)\n    test_data = \"../../tests/data/sc-sam_sfhist.dat\"\n    # Obtain galaxy objects using different methods:\n    # Particle method\n    particle_galaxies, _, _ = load_SCSAM(test_data, \"particle\")\n    # Paramteric method, interpolating the grid using scipy's\n    # nearest ND interpolator\n    parametric_NNI_galaxies, _, _ = load_SCSAM(\n        test_data, \"parametric_NNI\", grid\n    )\n    # Paramteric method, interpolating the grid using scipy's\n    # regular grid interpolator\n    parametric_RGI_galaxies, _, _ = load_SCSAM(\n        test_data, \"parametric_RGI\", grid\n    )\n\n    # Set up arrays to store galaxy SEDs\n    particle_SEDs = []\n    parametric_NNI_SEDs = []\n    parametric_RGI_SEDs = []\n\n    # Spectrum that we want\n    # (e.g. incident, nebular, intrinsic, emergent)\n    spectrum = \"emergent\"\n\n    # Loop over each galaxy object\n    for i in range(len(particle_galaxies)):\n        # Get SEDs for the particle galaxy object\n        particle_galaxy = particle_galaxies[i]\n        particle_galaxy.stars.get_spectra_incident(grid)\n        particle_galaxy.stars.get_spectra_reprocessed(grid, fesc=0.1)\n        particle_galaxy.stars.get_spectra_screen(grid, tau_v=0.33)\n        particle_sed = particle_galaxy.stars.spectra[spectrum]\n        particle_SEDs.append(particle_sed.lnu)\n\n        # Get SEDs for the parametric NNI galaxy object\n        parametric_NNI_galaxy = parametric_NNI_galaxies[i]\n        parametric_NNI_galaxy.stars.get_spectra_incident(grid)\n        parametric_NNI_galaxy.stars.get_spectra_reprocessed(grid, fesc=0.1)\n        parametric_NNI_galaxy.stars.get_spectra_screen(grid, tau_v=0.33)\n        parametric_sed = parametric_NNI_galaxy.stars.spectra[spectrum]\n        parametric_NNI_SEDs.append(parametric_sed.lnu)\n\n        # Get SEDs for the parametric RGI galaxy object\n        parametric_RGI_galaxy = parametric_RGI_galaxies[i]\n        parametric_RGI_galaxy.stars.get_spectra_incident(grid)\n        parametric_RGI_galaxy.stars.get_spectra_reprocessed(grid, fesc=0.1)\n        parametric_RGI_galaxy.stars.get_spectra_screen(grid, tau_v=0.33)\n        parametric_sed = parametric_RGI_galaxy.stars.spectra[spectrum]\n        parametric_RGI_SEDs.append(parametric_sed.lnu)\n\n    # Plot SEDs\n    for lnu in particle_SEDs:\n        plt.plot(np.log10(particle_sed.lam), np.log10(lnu))\n        plt.xlabel(r\"$\\log_{10}(\\lambda/\\rm{\\AA})$\")\n        plt.ylabel(\n            r\"$\\log_{10}(L_\\nu/\\rm{erg\\,s^{-1}\\,Hz^{-1}\\,M_{\\odot}^{-1}})$\"\n        )\n        plt.xlim(0, 8)\n        plt.ylim(10, 35)\n        plt.title(f\"simple particle method - {spectrum}\")\n        plt.grid(color=\"whitesmoke\")\n    plt.show()\n\n    for lnu in parametric_NNI_SEDs:\n        plt.plot(np.log10(parametric_sed.lam), np.log10(lnu))\n        plt.xlabel(r\"$\\log_{10}(\\lambda/\\rm{\\AA})$\")\n        plt.ylabel(\n            r\"$\\log_{10}(L_\\nu/\\rm{erg\\,s^{-1}\\,Hz^{-1}\\,M_{\\odot}^{-1}})$\"\n        )\n        plt.xlim(0, 8)\n        plt.ylim(10, 35)\n        plt.title(f\"NNI parametric method - {spectrum}\")\n        plt.grid(color=\"whitesmoke\")\n    plt.show()\n\n    for lnu in parametric_RGI_SEDs:\n        plt.plot(np.log10(parametric_sed.lam), np.log10(lnu))\n        plt.xlabel(r\"$\\log_{10}(\\lambda/\\rm{\\AA})$\")\n        plt.ylabel(\n            r\"$\\log_{10}(L_\\nu/\\rm{erg\\,s^{-1}\\,Hz^{-1}\\,M_{\\odot}^{-1}})$\"\n        )\n        plt.xlim(0, 8)\n        plt.ylim(10, 35)\n        plt.title(f\"RGI parametric method - {spectrum}\")\n        plt.grid(color=\"whitesmoke\")\n    plt.show()"
      ]
    }
  ],
  "metadata": {
    "kernelspec": {
      "display_name": "Python 3",
      "language": "python",
      "name": "python3"
    },
    "language_info": {
      "codemirror_mode": {
        "name": "ipython",
        "version": 3
      },
      "file_extension": ".py",
      "mimetype": "text/x-python",
      "name": "python",
      "nbconvert_exporter": "python",
      "pygments_lexer": "ipython3",
      "version": "3.10.13"
    }
  },
  "nbformat": 4,
  "nbformat_minor": 0
}