{
  "cells": [
    {
      "cell_type": "markdown",
      "metadata": {},
      "source": [
        "\n# Generate mock coordinates\n"
      ]
    },
    {
      "cell_type": "code",
      "execution_count": null,
      "metadata": {
        "collapsed": false
      },
      "outputs": [],
      "source": [
        "import os\nimport matplotlib.pyplot as plt\n\nfrom synthesizer.particle.particles import CoordinateGenerator\nfrom synthesizer.particle.image import ImageGenerator\n\n\n# Get the location of this script, __file__ is the absolute path of this\n# script, however we just want to directory\n# script_path = os.path.abspath(os.path.dirname(__file__))\n\n# --- create a set of particles assuming a 3D gaussian\ncoords = CoordinateGenerator.generate_3D_gaussian(10000)\n\nprint(coords)\nprint(coords.shape)\n\n# --- make a basic (histogram) image from these coordinates\nimage = ImageGenerator.generate_histogram(coords, size_pixels=50, pixel_scale=0.2)\n\nfig, ax = image.make_image_plot()  # show=True)\n# plt.savefig(script_path + '/plots/coodinates_example.png',\n#             bbox_inches='tight'); plt.close()\nplt.show()"
      ]
    }
  ],
  "metadata": {
    "kernelspec": {
      "display_name": "Python 3",
      "language": "python",
      "name": "python3"
    },
    "language_info": {
      "codemirror_mode": {
        "name": "ipython",
        "version": 3
      },
      "file_extension": ".py",
      "mimetype": "text/x-python",
      "name": "python",
      "nbconvert_exporter": "python",
      "pygments_lexer": "ipython3",
      "version": "3.10.13"
    }
  },
  "nbformat": 4,
  "nbformat_minor": 0
}