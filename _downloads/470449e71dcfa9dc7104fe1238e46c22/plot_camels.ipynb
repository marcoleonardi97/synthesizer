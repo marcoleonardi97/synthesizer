{
  "cells": [
    {
      "cell_type": "markdown",
      "metadata": {},
      "source": [
        "\n# CAMELS example\n\nLoad CAMELS example data into a galaxy object\n"
      ]
    },
    {
      "cell_type": "code",
      "execution_count": null,
      "metadata": {
        "collapsed": false
      },
      "outputs": [],
      "source": [
        "import os\nimport numpy as np\nimport matplotlib.pyplot as plt\n\nfrom synthesizer.grid import Grid\nfrom synthesizer.sed import Sed\nfrom synthesizer.load_data import load_CAMELS_IllustrisTNG\nfrom synthesizer.filters import UVJ\n\nfrom synthesizer.particle.galaxy import Galaxy\n\n\nif __name__ == \"__main__\":\n    # Get the location of this script, __file__ is the absolute path of this\n    # script, however we just want to directory\n    # script_path = os.path.abspath(os.path.dirname(__file__))\n\n    # Define the grid\n    grid_name = \"test_grid\"\n    # grid_dir = script_path + \"/../../tests/test_grid/\"\n    grid_dir = \"../../tests/test_grid/\"\n    grid = Grid(grid_name, grid_dir=grid_dir)\n\n    # now load some example CAMELS data using the dedicated data loader\n    gals = load_CAMELS_IllustrisTNG(\n        \"../../tests/data/\",\n        snap_name=\"camels_snap.hdf5\",\n        fof_name=\"camels_subhalo.hdf5\",\n    )\n\n    \"\"\" calculate the spectra for a single galaxy\n        here we set the `sed_object` flag to automatically assign\n        to an sed object \"\"\"\n    _g = gals[0]\n\n    _spec = _g.get_spectra_incident(grid)\n    _g.plot_spectra()\n    plt.show()\n\n    # for label, _spec in _g.spectra.items():\n    #     plt.loglog(_spec.lam, _spec.lnu, label=label)\n    # plt.xlabel('$\\lambda \\,/\\, \\\\AA$')\n    # plt.ylabel('$L_{\\\\nu} \\,/\\, \\mathrm{erg \\; s^{-1} \\; Hz^{-1}}$')\n    # plt.legend()\n    # plt.show()\n\n    spec = _g.get_spectra_nebular(grid)\n    _g.plot_spectra()\n    plt.show()\n\n    spec = _g.get_spectra_reprocessed(grid, fesc=0.1)\n    _g.plot_spectra()\n    plt.show()\n\n    spec = _g.get_spectra_screen(grid, tau_v=0.32)\n    _g.plot_spectra()\n    plt.show()\n\n    spec = _g.get_spectra_CharlotFall(grid, tau_v_ISM=0.33, tau_v_BC=0.67)\n    _g.plot_spectra()\n    plt.show()\n\n    \"\"\" multiple galaxies\n        Here we leave the `sed_object` flag as the default (False), \n        and combine into a single sed object afterwards \"\"\"\n    _specs = np.vstack(\n        [\n            _g.get_spectra_CharlotFall(grid, tau_v_ISM=0.33, tau_v_BC=0.67)._lnu\n            for _g in gals\n        ]\n    )\n\n    _specs = Sed(lam=grid.lam, lnu=_specs)\n\n    plt.loglog(grid.lam, _specs.lnu.T)\n    plt.xlabel(\"$\\lambda \\,/\\, \\\\AA$\")\n    plt.ylabel(\"$L_{\\\\nu} \\,/\\, \\mathrm{erg \\; s^{-1} \\; Hz^{-1}}$\")\n    plt.show()\n\n    \"\"\" calculate broadband luminosities \"\"\"\n    # first get rest frame 'flux'\n    _spec.get_fnu0()\n\n    # define a filter collection object (UVJ default)\n    fc = UVJ(new_lam=grid.lam)\n\n    _UVJ = _spec.get_broadband_fluxes(fc)\n    print(_UVJ)\n\n    \"\"\" do for multiple, plot UVJ diagram \"\"\"\n\n    # first filter by stellar mass\n    mstar = np.log10(np.array([np.sum(_g.stars.initial_masses) for _g in gals]) * 1e10)\n    mask = np.where(mstar > 8)[0]\n\n    _specs = np.vstack(\n        [\n            gals[_g].get_spectra_CharlotFall(grid, tau_v_ISM=0.33, tau_v_BC=0.67)._lnu\n            for _g in mask\n        ]\n    )\n\n    _specs = Sed(lam=grid.lam, lnu=_specs)\n    _specs.get_fnu0()\n    _UVJ = _specs.get_broadband_fluxes(fc)\n\n    UV = _UVJ[\"U\"] / _UVJ[\"V\"]\n    VJ = _UVJ[\"V\"] / _UVJ[\"J\"]\n\n    plt.scatter(VJ, UV, c=mstar[mask], s=40)\n    plt.xlabel(\"VJ\")\n    plt.ylabel(\"UV\")\n    plt.colorbar(label=\"$\\mathrm{log_{10}} \\, M_{\\star} \\,/\\, \\mathrm{M_{\\odot}}$\")\n    plt.show()"
      ]
    }
  ],
  "metadata": {
    "kernelspec": {
      "display_name": "Python 3",
      "language": "python",
      "name": "python3"
    },
    "language_info": {
      "codemirror_mode": {
        "name": "ipython",
        "version": 3
      },
      "file_extension": ".py",
      "mimetype": "text/x-python",
      "name": "python",
      "nbconvert_exporter": "python",
      "pygments_lexer": "ipython3",
      "version": "3.10.13"
    }
  },
  "nbformat": 4,
  "nbformat_minor": 0
}