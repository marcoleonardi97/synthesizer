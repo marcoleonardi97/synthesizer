{
  "cells": [
    {
      "cell_type": "markdown",
      "metadata": {},
      "source": [
        "\n# Plot ionising luminosity\n\nMakes a plot of the specific ionising luminosity for a\ngiven choice of grid and ion.\n"
      ]
    },
    {
      "cell_type": "code",
      "execution_count": null,
      "metadata": {
        "collapsed": false
      },
      "outputs": [],
      "source": [
        "import argparse\n\nimport matplotlib.pyplot as plt\n\nfrom synthesizer.grid import Grid\n\nif __name__ == \"__main__\":\n    # Get the location of this script, __file__ is the absolute path of this\n    # script, however we just want to directory\n    # script_path = os.path.abspath(os.path.dirname(__file__))\n\n    # define the test grid dir\n    # test_grid_dir = script_path + \"/../../tests/test_grid/\"\n    test_grid_dir = \"../../tests/test_grid/\"\n\n    # initialise argument parser\n    parser = argparse.ArgumentParser(\n        description=(\n            \"Create a plot of all spectra types for a given metallicity and \\\n            age\"\n        )\n    )\n\n    # The name of the grid. Defaults to the test grid.\n    parser.add_argument(\n        \"-grid_name\",\n        \"--grid_name\",\n        type=str,\n        required=False,\n        default=\"test_grid\",\n    )\n\n    # The path to the grid directory. Defaults to the test grid directory.\n    parser.add_argument(\n        \"-grid_dir\",\n        \"--grid_dir\",\n        type=str,\n        required=False,\n        default=test_grid_dir,\n    )\n\n    # The desired ion.\n    parser.add_argument(\"-ion\", type=str, required=False, default=\"HI\")\n\n    # Get dictionary of arguments\n    args = parser.parse_args()\n\n    # initialise grid\n    grid = Grid(args.grid_name, grid_dir=args.grid_dir)\n\n    # plot grid of HI ionising luminosities\n    fig, ax = grid.plot_specific_ionising_lum(ion=args.ion)\n    plt.show()"
      ]
    }
  ],
  "metadata": {
    "kernelspec": {
      "display_name": "Python 3",
      "language": "python",
      "name": "python3"
    },
    "language_info": {
      "codemirror_mode": {
        "name": "ipython",
        "version": 3
      },
      "file_extension": ".py",
      "mimetype": "text/x-python",
      "name": "python",
      "nbconvert_exporter": "python",
      "pygments_lexer": "ipython3",
      "version": "3.10.14"
    }
  },
  "nbformat": 4,
  "nbformat_minor": 0
}