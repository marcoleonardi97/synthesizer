{
  "cells": [
    {
      "cell_type": "markdown",
      "metadata": {},
      "source": [
        "\n# Generate parametric galaxy SED\n\nExample for generating the rest-frame spectrum for a parametric galaxy\nincluding photometry. This example will:\n- build a parametric galaxy (see make_sfzh)\n- calculate spectral luminosity density\n"
      ]
    },
    {
      "cell_type": "code",
      "execution_count": null,
      "metadata": {
        "collapsed": false
      },
      "outputs": [],
      "source": [
        "from synthesizer.filters import FilterCollection\nfrom synthesizer.grid import Grid\nfrom synthesizer.parametric import SFH, Stars, ZDist\nfrom synthesizer.parametric.galaxy import Galaxy\nfrom unyt import Myr, yr\n\nif __name__ == \"__main__\":\n    # Get the location of this script, __file__ is the absolute path of this\n    # script, however we just want to directory\n    # script_path = os.path.abspath(os.path.dirname(__file__))\n\n    # Define the grid\n    grid_name = \"test_grid\"\n    grid_dir = \"../../tests/test_grid/\"\n    grid = Grid(grid_name, grid_dir=grid_dir)\n\n    # define the parameters of the star formation and metal enrichment\n    # histories\n    sfh_p = {\"duration\": 10 * Myr}\n    Z_p = {\n        \"log10metallicity\": -2.0\n    }  # can also use linear metallicity e.g. {'Z': 0.01}\n    stellar_mass = 1e8\n\n    # define the functional form of the star formation and metal enrichment\n    # histories\n    sfh = SFH.Constant(**sfh_p)  # constant star formation\n    print(sfh)  # print sfh summary\n\n    metal_dist = ZDist.DeltaConstant(**Z_p)  # constant metallicity\n\n    # get the 2D star formation and metal enrichment history for the given SPS\n    # grid.\n    stars = Stars(\n        grid.log10age,\n        grid.metallicity,\n        sf_hist=sfh,\n        metal_dist=metal_dist,\n        initial_mass=stellar_mass,\n    )\n\n    # create a galaxy object\n    galaxy = Galaxy(stars)\n\n    # generate pure stellar spectra alone\n    galaxy.stars.get_spectra_incident(grid)\n    print(\"Pure stellar spectra\")\n    galaxy.plot_spectra(\n        show=True, combined_spectra=False, stellar_spectra=True\n    )\n\n    # generate intrinsic spectra (which includes reprocessing by gas)\n    galaxy.stars.get_spectra_reprocessed(grid, fesc=0.5)\n    print(\"Intrinsic spectra\")\n    galaxy.plot_spectra(\n        show=True, combined_spectra=False, stellar_spectra=True\n    )\n\n    # # --- simple dust and gas screen\n    galaxy.stars.get_spectra_screen(grid, tau_v=0.1)\n    print(\"Simple dust and gas screen\")\n    galaxy.plot_spectra(\n        show=True, combined_spectra=False, stellar_spectra=True\n    )\n\n    # --- CF00 model\n    galaxy.stars.get_spectra_CharlotFall(\n        grid, tau_v_ISM=0.1, tau_v_BC=0.1, alpha_ISM=-0.7, alpha_BC=-1.3\n    )\n    print(\"CF00 model\")\n    galaxy.plot_spectra(\n        show=True, combined_spectra=False, stellar_spectra=True\n    )\n\n    # # --- pacman model\n    galaxy.stars.get_spectra_pacman(grid, tau_v=0.1, fesc=0.5)\n    print(\"Pacman model\")\n    galaxy.plot_spectra(\n        show=True, combined_spectra=False, stellar_spectra=True\n    )\n\n    # pacman model (no Lyman-alpha escape and no dust)\n    galaxy.stars.get_spectra_pacman(grid, fesc=0.0, fesc_LyA=0.0)\n    print(\"Pacman model (no Ly-alpha escape, and no dust)\")\n    galaxy.plot_spectra(\n        show=True, combined_spectra=False, stellar_spectra=True\n    )\n\n    # # --- pacman model (complex)\n    galaxy.stars.get_spectra_pacman(grid, fesc=0.0, fesc_LyA=0.5, tau_v=0.6)\n    print(\"Pacman model (complex)\")\n    galaxy.plot_spectra(\n        show=True, combined_spectra=False, stellar_spectra=True\n    )\n\n    # --- CF00 model implemented within pacman model\n    galaxy.stars.get_spectra_pacman(\n        grid,\n        fesc=0.1,\n        fesc_LyA=0.1,\n        tau_v=[1.0, 1.0],\n        alpha=[-1, -1],\n        young_old_thresh=1e7 * yr,\n    )\n    print(\"CF00 implemented within the Pacman model\")\n    galaxy.plot_spectra(\n        show=True, combined_spectra=False, stellar_spectra=True\n    )\n\n    # print galaxy summary\n    print(galaxy)\n\n    sed = galaxy.stars.spectra[\"attenuated\"]\n    print(sed)\n\n    # generate broadband photometry using 3 top-hat filters\n    tophats = {\n        \"U\": {\"lam_eff\": 3650, \"lam_fwhm\": 660},\n        \"V\": {\"lam_eff\": 5510, \"lam_fwhm\": 880},\n        \"J\": {\"lam_eff\": 12200, \"lam_fwhm\": 2130},\n    }\n    fc = FilterCollection(tophat_dict=tophats, new_lam=grid.lam)\n\n    bb_lnu = sed.get_photo_luminosities(fc)\n    print(bb_lnu)"
      ]
    }
  ],
  "metadata": {
    "kernelspec": {
      "display_name": "Python 3",
      "language": "python",
      "name": "python3"
    },
    "language_info": {
      "codemirror_mode": {
        "name": "ipython",
        "version": 3
      },
      "file_extension": ".py",
      "mimetype": "text/x-python",
      "name": "python",
      "nbconvert_exporter": "python",
      "pygments_lexer": "ipython3",
      "version": "3.10.13"
    }
  },
  "nbformat": 4,
  "nbformat_minor": 0
}