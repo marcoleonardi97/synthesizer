{
  "cells": [
    {
      "cell_type": "markdown",
      "metadata": {},
      "source": [
        "\n# Generate parametric galaxy SED\n\nExample for generating the rest-frame spectrum for a parametric galaxy\nincluding photometry. This example will:\n- build a parametric galaxy (see make_sfzh)\n- calculate spectral luminosity density\n"
      ]
    },
    {
      "cell_type": "code",
      "execution_count": null,
      "metadata": {
        "collapsed": false
      },
      "outputs": [],
      "source": [
        "from synthesizer.emission_models import (\n    AttenuatedEmission,\n    BimodalPacmanEmission,\n    CharlotFall2000,\n    IncidentEmission,\n    PacmanEmission,\n    ReprocessedEmission,\n)\nfrom synthesizer.emission_models.attenuation import PowerLaw\nfrom synthesizer.filters import FilterCollection\nfrom synthesizer.grid import Grid\nfrom synthesizer.parametric import SFH, Stars, ZDist\nfrom synthesizer.parametric.galaxy import Galaxy\nfrom unyt import Myr\n\nif __name__ == \"__main__\":\n    # Define the grid\n    grid_name = \"test_grid\"\n    grid_dir = \"../../tests/test_grid/\"\n    grid = Grid(grid_name, grid_dir=grid_dir)\n\n    # Define the parameters of the star formation and metal enrichment\n    # histories\n    sfh_p = {\"duration\": 10 * Myr}\n    Z_p = {\n        \"log10metallicity\": -2.0\n    }  # can also use linear metallicity e.g. {'Z': 0.01}\n    stellar_mass = 1e8\n\n    # Define the functional form of the star formation and metal enrichment\n    # histories\n    sfh = SFH.Constant(**sfh_p)  # constant star formation\n    print(sfh)  # print sfh summary\n\n    metal_dist = ZDist.DeltaConstant(**Z_p)  # constant metallicity\n\n    # Get the 2D star formation and metal enrichment history for the given SPS\n    # grid.\n    stars = Stars(\n        grid.log10age,\n        grid.metallicity,\n        sf_hist=sfh,\n        metal_dist=metal_dist,\n        initial_mass=stellar_mass,\n    )\n\n    # Create a galaxy object\n    galaxy = Galaxy(stars)\n\n    # Generate pure stellar spectra alone\n    incident = IncidentEmission(grid)\n    galaxy.stars.get_spectra(incident)\n    print(\"Pure stellar spectra\")\n    galaxy.plot_spectra(\n        show=True, combined_spectra=False, stellar_spectra=True\n    )\n\n    # Generate intrinsic spectra (which includes reprocessing by gas)\n    reprocessed = ReprocessedEmission(grid, fesc=0.5)\n    galaxy.stars.get_spectra(reprocessed)\n    print(\"Intrinsic spectra\")\n    galaxy.plot_spectra(\n        show=True, combined_spectra=False, stellar_spectra=True\n    )\n\n    # Simple dust and gas screen\n    attenuated = AttenuatedEmission(\n        tau_v=0.1,\n        apply_dust_to=reprocessed,\n        dust_curve=PowerLaw(slope=-1),\n        emitter=\"stellar\",\n    )\n    galaxy.stars.get_spectra(attenuated)\n    print(\"Simple dust and gas screen\")\n    galaxy.plot_spectra(\n        show=True, combined_spectra=False, stellar_spectra=True\n    )\n\n    # --- CF00 model\n    cf00 = CharlotFall2000(\n        grid=grid,\n        tau_v_ism=0.1,\n        tau_v_nebular=0.1,\n        dust_curve_ism=PowerLaw(slope=-0.7),\n        dust_curve_nebular=PowerLaw(slope=-1.3),\n    )\n    galaxy.stars.get_spectra(cf00)\n    print(\"CF00 model\")\n    galaxy.plot_spectra(\n        show=True, combined_spectra=False, stellar_spectra=True\n    )\n\n    # # --- pacman model\n    pc_fesc = PacmanEmission(\n        grid,\n        tau_v=0.1,\n        dust_curve=PowerLaw(slope=-1),\n        fesc=0.5,\n    )\n    galaxy.stars.get_spectra(pc_fesc)\n    print(\"Pacman model\")\n    galaxy.plot_spectra(\n        show=True, combined_spectra=False, stellar_spectra=True\n    )\n\n    # Pacman model (no Lyman-alpha escape and no dust)\n    pc_lya = PacmanEmission(\n        grid,\n        tau_v=0.1,\n        dust_curve=PowerLaw(slope=-1),\n        fesc_ly_alpha=0.0,\n    )\n    galaxy.stars.get_spectra(pc_lya)\n    print(\"Pacman model (no Ly-alpha escape, and no dust)\")\n    galaxy.plot_spectra(\n        show=True, combined_spectra=False, stellar_spectra=True\n    )\n\n    # # --- pacman model (complex)\n    pc_complex = PacmanEmission(\n        grid,\n        tau_v=0.6,\n        dust_curve=PowerLaw(slope=-1),\n        fesc=0.0,\n        fesc_ly_alpha=0.5,\n    )\n    galaxy.stars.get_spectra(pc_complex)\n    print(\"Pacman model (complex)\")\n    galaxy.plot_spectra(\n        show=True, combined_spectra=False, stellar_spectra=True\n    )\n\n    # --- CF00 model implemented within pacman model\n    cf_with_fesc = BimodalPacmanEmission(\n        grid,\n        tau_v_ism=0.1,\n        tau_v_nebular=0.1,\n        dust_curve_ism=PowerLaw(slope=-1),\n        dust_curve_nebular=PowerLaw(slope=-1),\n        fesc=0.1,\n        fesc_ly_alpha=0.1,\n    )\n    galaxy.stars.get_spectra(cf_with_fesc)\n    print(\"CF00 implemented within the Pacman model\")\n    galaxy.plot_spectra(\n        show=True, combined_spectra=False, stellar_spectra=True\n    )\n\n    # Print galaxy summary\n    print(galaxy)\n\n    sed = galaxy.stars.spectra[\"attenuated\"]\n    print(sed)\n\n    # Generate broadband photometry using 3 top-hat filters\n    tophats = {\n        \"U\": {\"lam_eff\": 3650, \"lam_fwhm\": 660},\n        \"V\": {\"lam_eff\": 5510, \"lam_fwhm\": 880},\n        \"J\": {\"lam_eff\": 12200, \"lam_fwhm\": 2130},\n    }\n    fc = FilterCollection(tophat_dict=tophats, new_lam=grid.lam)\n\n    bb_lnu = sed.get_photo_luminosities(fc)\n    print(bb_lnu)"
      ]
    }
  ],
  "metadata": {
    "kernelspec": {
      "display_name": "Python 3",
      "language": "python",
      "name": "python3"
    },
    "language_info": {
      "codemirror_mode": {
        "name": "ipython",
        "version": 3
      },
      "file_extension": ".py",
      "mimetype": "text/x-python",
      "name": "python",
      "nbconvert_exporter": "python",
      "pygments_lexer": "ipython3",
      "version": "3.10.14"
    }
  },
  "nbformat": 4,
  "nbformat_minor": 0
}