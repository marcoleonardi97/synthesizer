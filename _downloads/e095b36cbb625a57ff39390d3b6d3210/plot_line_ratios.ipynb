{
  "cells": [
    {
      "cell_type": "markdown",
      "metadata": {},
      "source": [
        "\n# Plot line ratios\n\nThis example generates line-ratios vs. Z for all available line ratios\n"
      ]
    },
    {
      "cell_type": "code",
      "execution_count": null,
      "metadata": {
        "collapsed": false
      },
      "outputs": [],
      "source": [
        "import matplotlib.pyplot as plt\nimport numpy as np\nfrom synthesizer.grid import Grid, get_available_lines\nfrom synthesizer.line import LineRatios\n\nif __name__ == \"__main__\":\n    grid_name = \"test_grid\"\n    grid_dir = \"../../tests/test_grid/\"\n    grid = Grid(grid_name, grid_dir=grid_dir, read_spectra=False, read_lines=True)\n\n    # grid_names = [\n    #     'bpass-2.2.1-bin_chabrier03-0.1,300.0_cloudy-geometryspherical',\n    #     'bpass-2.2.1-bin_chabrier03-0.1,300.0_cloudy-grainsFalse',\n    #     'bpass-2.2.1-bin_chabrier03-0.1,300.0_cloudy-d2m0.0-grainsFalse',\n    #     'bpass-2.2.1-bin_chabrier03-0.1,300.0_cloudy',\n    # ]\n\n    line_ratios = LineRatios()\n\n    fig, axes = plt.subplots(\n        len(line_ratios.available_ratios), 1, sharex=True, figsize=(4, 10)\n    )\n    plt.subplots_adjust(\n        bottom=0.1, wspace=0.0, hspace=0.0, top=0.95, left=0.2, right=0.95\n    )\n\n    # for grid_name in grid_names:\n    # grid = Grid(grid_name, grid_dir=grid_dir, read_spectra=False, read_lines=True)\n\n    Zsun = grid.metallicity / 0.0124\n\n    ia = 0  # 1 Myr\n\n    lines = grid.get_lines_info(grid.line_list, (ia, 0))\n\n    limits = {}\n\n    # or loop over availalable ratios\n    for ratio_id, ax in zip(lines.available_ratios, axes):\n        ratios = []\n        for iZ, Z in enumerate(grid.metallicity):\n            grid_point = (ia, iZ)\n            lines = grid.get_lines_info(grid.line_list, grid_point)\n            ratios.append(lines.get_ratio(ratio_id))\n\n        limits[ratio_id] = (np.min(ratios) * 0.5, np.max(ratios) * 2)\n\n        ax.plot(Zsun, ratios, label=grid_name)\n\n    for ratio_id, ax in zip(lines.available_ratios, axes):\n        ax.set_xlim([0.01, 1])\n        ax.set_ylim(limits[ratio_id])\n        ax.set_xscale(\"log\")\n        ax.set_yscale(\"log\")\n        ax.set_ylabel(ratio_id)\n\n    axes[-1].set_xlabel(\"Z\")\n\n    axes[0].legend(fontsize=7)\n\n    plt.show()\n    # fig.savefig('figs/line_ratios.pdf')"
      ]
    }
  ],
  "metadata": {
    "kernelspec": {
      "display_name": "Python 3",
      "language": "python",
      "name": "python3"
    },
    "language_info": {
      "codemirror_mode": {
        "name": "ipython",
        "version": 3
      },
      "file_extension": ".py",
      "mimetype": "text/x-python",
      "name": "python",
      "nbconvert_exporter": "python",
      "pygments_lexer": "ipython3",
      "version": "3.10.13"
    }
  },
  "nbformat": 4,
  "nbformat_minor": 0
}