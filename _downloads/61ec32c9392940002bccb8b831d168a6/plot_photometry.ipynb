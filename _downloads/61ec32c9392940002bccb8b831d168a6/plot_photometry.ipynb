{
  "cells": [
    {
      "cell_type": "markdown",
      "metadata": {},
      "source": [
        "\n# Photometry example\n\nAn example demonstrating the observed spectrum for a parametric galaxy\nincluding photometry. This example will:\n- build a parametric galaxy (see make_stars and make_sed).\n- calculate spectral luminosity density (see make_sed).\n- calculate observed frame spectra (requires comsology and redshift).\n- calculate observed frame fluxes at various redshifts.\n- calculate photometry.\n- plot the redshift evolution of photometry.\n"
      ]
    },
    {
      "cell_type": "code",
      "execution_count": null,
      "metadata": {
        "collapsed": false
      },
      "outputs": [],
      "source": [
        "import matplotlib.gridspec as gridspec\nimport matplotlib.pyplot as plt\nfrom astropy.cosmology import Planck18 as cosmo\nfrom unyt import Msun, Myr\n\nfrom synthesizer.emission_models import PacmanEmission\nfrom synthesizer.emission_models.attenuation import PowerLaw\nfrom synthesizer.emission_models.attenuation.igm import Madau96\nfrom synthesizer.filters import FilterCollection\nfrom synthesizer.grid import Grid\nfrom synthesizer.parametric import SFH, Stars, ZDist\nfrom synthesizer.parametric.galaxy import Galaxy\n\nif __name__ == \"__main__\":\n    # Get the location of this script, __file__ is the absolute path of this\n    # script, however we just want to directory\n    # script_path = os.path.abspath(os.path.dirname(__file__))\n\n    # Define the grid\n    grid_name = \"test_grid\"\n    grid_dir = \"../../tests/test_grid/\"\n    grid = Grid(grid_name, grid_dir=grid_dir)\n\n    # Define the emission model\n    model = PacmanEmission(\n        grid,\n        tau_v=0.1,\n        dust_curve=PowerLaw(slope=-1),\n        fesc=0.5,\n        fesc_ly_alpha=0.5,\n    )\n\n    # define the parameters of the star formation and metal\n    # enrichment histories\n    sfh_p = {\"max_age\": 10 * Myr}\n    Z_p = {\n        \"log10metallicity\": -2.0\n    }  # can also use linear metallicity e.g. {'Z': 0.01}\n    stellar_mass = 1e9 * Msun\n\n    # define the functional form of the star formation and metal\n    # enrichment histories\n    sfh = SFH.Constant(**sfh_p)  # constant star formation\n    metal_dist = ZDist.DeltaConstant(**Z_p)  # constant metallicity\n\n    # get the 2D star formation and metal enrichment history for the given\n    # SPS grid. This is (age, Z).\n    stars = Stars(\n        grid.log10age,\n        grid.metallicity,\n        sf_hist=sfh,\n        metal_dist=metal_dist,\n        initial_mass=stellar_mass,\n    )\n\n    # create a galaxy object\n    galaxy = Galaxy(stars)\n\n    # Define Filters\n    filter_codes = [\n        f\"JWST/NIRCam.{f}\"\n        for f in [\n            \"F090W\",\n            \"F115W\",\n            \"F150W\",\n            \"F200W\",\n            \"F277W\",\n            \"F356W\",\n            \"F444W\",\n        ]\n    ]\n    filter_codes += [f\"JWST/MIRI.{f}\" for f in [\"F770W\"]]\n    filters = FilterCollection(filter_codes=filter_codes, new_lam=grid.lam)\n\n    # Get the color for each filter\n    colors = {\n        f: plt.rcParams[\"axes.prop_cycle\"].by_key()[\"color\"][ind]\n        for ind, f in enumerate(filter_codes)\n    }\n\n    # Now calculate the observed frame spectra for a range of redshifts\n    zs = list(range(3, 12, 2))\n    seds = {}\n    for z in zs:\n        # Generate spectra using pacman model (complex)\n        seds[z] = galaxy.stars.get_spectra(model)\n\n        # Generate observed frame spectra\n        seds[z].get_fnu(cosmo, z, igm=Madau96)\n\n    # Set up plot\n    fig = plt.figure(figsize=(5, 3.5 * len(zs)))\n    gs = gridspec.GridSpec(len(zs), 1, hspace=0.0)\n\n    # Loop over redshifts\n    for ind, z in enumerate(zs):\n        # Set up the axis object\n        ax = fig.add_subplot(gs[ind])\n        ax.grid(True)\n        ax.loglog()\n        ax.set_xlim(10**3, 10**5.5)\n        ax.set_ylim(10**2, 10**4.5)\n\n        ax.text(\n            0.05,\n            0.1,\n            f\"$z={z:.1f}$\",\n            bbox=dict(\n                boxstyle=\"round,pad=0.3\", fc=\"w\", ec=\"k\", lw=1, alpha=0.8\n            ),\n            transform=ax.transAxes,\n            horizontalalignment=\"left\",\n        )\n\n        # Plot the SED\n        if ind == 0:\n            ax.plot(\n                seds[z].obslam,\n                seds[z]._fnu,\n                color=\"k\",\n                linestyle=\"--\",\n                label=\"SED\",\n                zorder=0,\n            )\n        else:\n            ax.plot(\n                seds[z].obslam,\n                seds[z]._fnu,\n                color=\"k\",\n                linestyle=\"--\",\n                zorder=0,\n            )\n\n        # Make the first legend\n        if ind == 0:\n            ax.legend()\n\n        # Turn off the x axis\n        if ind < len(zs) - 1:\n            ax.tick_params(\n                axis=\"x\",  # changes apply to the x-axis\n                which=\"both\",  # both major and minor ticks are affected\n                bottom=False,  # ticks along the bottom edge are off\n                top=False,  # ticks along the top edge are off\n                labelbottom=False,\n            )  # labels along the bottom edge are off\n\n        # Loop over the filters\n        for f in filters:\n            # Calculate the photometry\n            phot = f.apply_filter(seds[z]._fnu, nu=seds[z]._obsnu)\n\n            # Plot the transmitted portion of the SED\n            if ind == len(zs) - 1:\n                ax.plot(\n                    seds[z].obslam,\n                    seds[z]._fnu * f._shifted_t,\n                    color=colors[f.filter_code],\n                    label=f.filter_code,\n                    zorder=1,\n                )\n            else:\n                ax.plot(\n                    seds[z].obslam,\n                    seds[z]._fnu * f._shifted_t,\n                    color=colors[f.filter_code],\n                    zorder=1,\n                )\n\n            # Plot the photometry\n            ax.scatter(\n                f.pivwv(),\n                phot,\n                s=50,\n                color=colors[f.filter_code],\n                marker=\"D\",\n                zorder=2,\n            )\n\n        # Make the second legened\n        if ind == len(zs) - 1:\n            ax.legend(\n                loc=\"upper center\",\n                bbox_to_anchor=(0.5, -0.3),\n                fancybox=True,\n                shadow=True,\n                ncol=3,\n            )\n\n    plt.show()\n    # fig.savefig(script_path + \"/plots/photometry_from_flux.png\",\n    #             bbox_inches=\"tight\", dpi=300)"
      ]
    }
  ],
  "metadata": {
    "kernelspec": {
      "display_name": "Python 3",
      "language": "python",
      "name": "python3"
    },
    "language_info": {
      "codemirror_mode": {
        "name": "ipython",
        "version": 3
      },
      "file_extension": ".py",
      "mimetype": "text/x-python",
      "name": "python",
      "nbconvert_exporter": "python",
      "pygments_lexer": "ipython3",
      "version": "3.10.15"
    }
  },
  "nbformat": 4,
  "nbformat_minor": 0
}