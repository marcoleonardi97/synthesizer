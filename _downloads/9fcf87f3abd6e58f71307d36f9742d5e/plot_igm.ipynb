{
  "cells": [
    {
      "cell_type": "markdown",
      "metadata": {},
      "source": [
        "\n# IGM transmission example\n\nPlot IGM transmission curves (Inoue+14 & Madau+96\n"
      ]
    },
    {
      "cell_type": "code",
      "execution_count": null,
      "metadata": {
        "collapsed": false
      },
      "outputs": [],
      "source": [
        "import cmasher as cmr\nimport matplotlib.pyplot as plt\nimport numpy as np\nfrom synthesizer.igm import Inoue14, Madau96\n\nlam = np.arange(0, 20000)\n\n\nredshifts = [3.0, 5.0, 7.0]\ncolors = cmr.take_cmap_colors(\"cmr.guppy\", len(redshifts))\n\nfor IGM, ls in zip([Inoue14, Madau96], [\"-\", \":\"]):\n    igm = IGM()\n    for z, color in zip(redshifts, colors):\n        plt.plot(lam, igm.T(z, lam), ls=ls, c=color, label=f\"{igm.name} z={z}\")\n\nplt.legend()\nplt.xlabel(r\"$\\lambda_{obs}/\\AA$\")\nplt.ylabel(r\"$T$\")\nplt.ylim([0, 1.1])\nplt.show()\n# plt.savefig('../docs/source/images/img.png', bbox_inches='tight', dpi=200)"
      ]
    }
  ],
  "metadata": {
    "kernelspec": {
      "display_name": "Python 3",
      "language": "python",
      "name": "python3"
    },
    "language_info": {
      "codemirror_mode": {
        "name": "ipython",
        "version": 3
      },
      "file_extension": ".py",
      "mimetype": "text/x-python",
      "name": "python",
      "nbconvert_exporter": "python",
      "pygments_lexer": "ipython3",
      "version": "3.10.14"
    }
  },
  "nbformat": 4,
  "nbformat_minor": 0
}