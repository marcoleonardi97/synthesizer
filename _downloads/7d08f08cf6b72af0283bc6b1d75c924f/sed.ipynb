{
  "cells": [
    {
      "cell_type": "markdown",
      "metadata": {},
      "source": [
        "\n# SED object example\n\nExample for creating an Sed object straight from the Grid. This example will:\n- extract an Sed from a grid point\n- demonstrating adding two Sed objects together\n"
      ]
    },
    {
      "cell_type": "code",
      "execution_count": null,
      "metadata": {
        "collapsed": false
      },
      "outputs": [],
      "source": [
        "import os\nimport sys\nimport numpy as np\n\nfrom synthesizer.sed import Sed\nfrom synthesizer.grid import Grid\n\n\n# Get the location of this script, __file__ is the absolute path of this\n# script, however we just want to directory\n# script_path = os.path.abspath(os.path.dirname(__file__))\n\n# Define the grid\ngrid_name = \"test_grid\"\ngrid_dir = \"../../tests/test_grid/\"\ngrid = Grid(grid_name, grid_dir=grid_dir)\ngrid_point = (5, 5)\n\nsed1 = grid.get_sed(grid_point)  # get stellar SED at ia = 5, iZ = 5\nsed2 = grid.get_sed((3, 5))  # get stellar SED at ia = 5, iZ = 5\n\n# add together two Seds (MAGIC!)\nsed = sed1 + sed2\n\nprint(sed)\n\n# calculate UV continuum slope\n\n\n# calcualte Balmer break\n\n# calcualte fluxes\n\n\n# print(\"Beta\")\n# print(\"1D:\", _sed.return_beta())\n# print(\"2D:\", _sed_2d.return_beta())\n#\n# print(\"Beta from spectra\")\n# print(\"1D:\", _sed.return_beta_spec())\n# print(\"2D:\", _sed_2d.return_beta_spec())\n#\n# print(\"Balmer break\")\n# print(\"1D:\", _sed.get_balmer_break())\n# print(\"2D:\", _sed_2d.get_balmer_break())\n#\n# print(\"Broadband luminosities\")\n# fs = [f'JWST/NIRCam.{f}' for f in ['F200W', 'F356W']]\n# fc = FilterCollection(fs, new_lam=_sed.lam)\n#\n# print(\"1D:\", _sed.get_broadband_luminosities(fc))\n# print(\"2D:\", _sed_2d.get_broadband_luminosities(fc))\n#\n# print(\"1D:\", _sed.get_broadband_fluxes(fc))\n# print(\"2D:\", _sed_2d.get_broadband_fluxes(fc))"
      ]
    }
  ],
  "metadata": {
    "kernelspec": {
      "display_name": "Python 3",
      "language": "python",
      "name": "python3"
    },
    "language_info": {
      "codemirror_mode": {
        "name": "ipython",
        "version": 3
      },
      "file_extension": ".py",
      "mimetype": "text/x-python",
      "name": "python",
      "nbconvert_exporter": "python",
      "pygments_lexer": "ipython3",
      "version": "3.10.13"
    }
  },
  "nbformat": 4,
  "nbformat_minor": 0
}