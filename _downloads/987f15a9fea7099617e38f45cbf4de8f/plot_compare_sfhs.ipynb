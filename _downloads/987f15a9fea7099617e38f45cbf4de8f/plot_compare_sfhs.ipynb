{
  "cells": [
    {
      "cell_type": "markdown",
      "metadata": {},
      "source": [
        "\n# Compare different parametric star formation history models\n\nExample comparing different parametric star formation histories.\n"
      ]
    },
    {
      "cell_type": "code",
      "execution_count": null,
      "metadata": {
        "collapsed": false
      },
      "outputs": [],
      "source": [
        "import matplotlib.pyplot as plt\nimport numpy as np\nfrom unyt import Myr\n\nfrom synthesizer.parametric.sf_hist import (\n    Constant,\n    DelayedExponential,\n    DoublePowerLaw,\n    Exponential,\n    Gaussian,\n    LogNormal,\n)\n\nmodels = [\n    [Constant, {\"max_age\": 500 * Myr}],\n    [Constant, {\"max_age\": 5000 * Myr, \"min_age\": 4000 * Myr}],\n    [Gaussian, {\"peak_age\": 2000 * Myr, \"sigma\": 500 * Myr}],\n    [Exponential, {\"tau\": -1000 * Myr, \"max_age\": 10000 * Myr}],\n    [Exponential, {\"tau\": 10000 * Myr, \"max_age\": 10000 * Myr}],\n    [DelayedExponential, {\"tau\": 1000 * Myr, \"max_age\": 8000 * Myr}],\n    [LogNormal, {\"tau\": 0.5, \"peak_age\": 4000 * Myr, \"max_age\": 8000 * Myr}],\n    [\n        DoublePowerLaw,\n        {\n            \"alpha\": -2,\n            \"beta\": 2.0,\n            \"peak_age\": 3000 * Myr,\n            \"max_age\": 8000 * Myr,\n        },\n    ],\n]\n\n\nfor model, p in models:\n    # initialise SFH model\n    sfh = model(**p)\n\n    # get star formation history\n    age, sfr = sfh.calculate_sfh()\n\n    # normalise to the peak\n    sfr = sfr / np.max(sfr)\n\n    # express the parameters as a string for use in a label\n    parameter_str = \" \".join([f\"{k}={v}\" for k, v in p.items()])\n\n    # make label\n    label = rf\"{model.__name__} \" + parameter_str\n\n    plt.plot(age, sfr, label=label)\n\nplt.ylim([0, 2])\nplt.xlabel(\"age/Myr\")\nplt.ylabel(\"SFR/(Msun/yr)\")\nplt.legend(loc=\"upper left\", fontsize=6)\nplt.show()"
      ]
    }
  ],
  "metadata": {
    "kernelspec": {
      "display_name": "Python 3",
      "language": "python",
      "name": "python3"
    },
    "language_info": {
      "codemirror_mode": {
        "name": "ipython",
        "version": 3
      },
      "file_extension": ".py",
      "mimetype": "text/x-python",
      "name": "python",
      "nbconvert_exporter": "python",
      "pygments_lexer": "ipython3",
      "version": "3.10.14"
    }
  },
  "nbformat": 4,
  "nbformat_minor": 0
}