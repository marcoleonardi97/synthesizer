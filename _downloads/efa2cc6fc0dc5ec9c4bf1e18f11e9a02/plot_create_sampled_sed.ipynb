{
  "cells": [
    {
      "cell_type": "markdown",
      "metadata": {},
      "source": [
        "\n# Create sampled SED\n\nthis example generates a sample of star particles from a 2D SFZH. In this case it is generated from a parametric star formation history with constant star formation.\n"
      ]
    },
    {
      "cell_type": "code",
      "execution_count": null,
      "metadata": {
        "collapsed": false
      },
      "outputs": [],
      "source": [
        "import numpy as np\nimport matplotlib.pyplot as plt\nfrom unyt import Myr\n\nfrom synthesizer.grid import Grid\nfrom synthesizer.parametric import SFH, ZDist\nfrom synthesizer.parametric import Stars as ParametricStars\nfrom synthesizer.particle.stars import sample_sfhz\nfrom synthesizer.particle.galaxy import Galaxy\n\n\n# Define the grid\ngrid_name = \"test_grid\"\ngrid_dir = \"../../tests/test_grid/\"\ngrid = Grid(grid_name, grid_dir=grid_dir)\n\n# --- define the grid (normally this would be defined by an SPS grid)\nlog10ages = np.arange(6.0, 10.5, 0.1)\nmetallicities = 10 ** np.arange(-5.0, -1.5, 0.1)\n\n# --- define the parameters of the star formation and metal enrichment histories\n\nZ_p = {\"metallicity\": 0.01}\nmetal_dist = ZDist.DeltaConstant(**Z_p)\n\nsfh_p = {\"duration\": 100 * Myr}\nsfh = SFH.Constant(**sfh_p)  # constant star formation\nsfzh = ParametricStars(log10ages, metallicities, sf_hist=sfh, metal_dist=metal_dist)\nprint(sfzh)\n# sfzh.plot()\n\n\n# --- create stars object\n\nN = 100  # number of particles for sampling\nstars = sample_sfhz(sfzh.sfzh, sfzh.log10ages, sfzh.log10metallicities, N)\n\n# --- create galaxy object\n\ngalaxy = Galaxy(stars=stars)\n\n# --- this generates stellar and intrinsic spectra\n# galaxy.generate_intrinsic_spectra(grid, fesc=0.0) # calculate only integrated SEDs\n# calculates for every star particle, slow but necessary for LOS.\ngalaxy.stars.get_spectra_incident(grid)\n\n# --- generate dust screen\n# galaxy.get_screen(0.5) # tau_v\n\n# --- generate CF00 variable dust screen\n# galaxy.get_CF00(grid, 0.5, 0.5) # grid, tau_v_BC, tau_v_ISM\n\n# --- generate for los model\n# TODO: to be implemented\n# tau_vs = np.ones(N) * 0.5\n# galaxy.get_los(tau_vs)  # grid, tau_v_BC, tau_v_ISM\n\nfor sed_type, sed in galaxy.stars.spectra.items():\n    plt.plot(np.log10(sed.lam), np.log10(sed.lnu), label=sed_type)\n\nplt.legend()\nplt.xlim([2, 5])\nplt.ylim([10, 24])\nplt.show()"
      ]
    }
  ],
  "metadata": {
    "kernelspec": {
      "display_name": "Python 3",
      "language": "python",
      "name": "python3"
    },
    "language_info": {
      "codemirror_mode": {
        "name": "ipython",
        "version": 3
      },
      "file_extension": ".py",
      "mimetype": "text/x-python",
      "name": "python",
      "nbconvert_exporter": "python",
      "pygments_lexer": "ipython3",
      "version": "3.10.13"
    }
  },
  "nbformat": 4,
  "nbformat_minor": 0
}