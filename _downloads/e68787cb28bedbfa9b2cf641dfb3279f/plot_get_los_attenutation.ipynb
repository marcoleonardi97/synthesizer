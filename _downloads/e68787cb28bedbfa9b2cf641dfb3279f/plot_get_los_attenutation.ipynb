{
  "cells": [
    {
      "cell_type": "markdown",
      "metadata": {},
      "source": [
        "\n# Plot line of sight diagnostics\n\nThis example shows how to compute line of sight dust surface densities,\nand plots some diagnostics.\n"
      ]
    },
    {
      "cell_type": "code",
      "execution_count": null,
      "metadata": {
        "collapsed": false
      },
      "outputs": [],
      "source": [
        "import time\nimport numpy as np\nimport matplotlib.pyplot as plt\nfrom unyt import Myr\n\nfrom synthesizer.grid import Grid\nfrom synthesizer.parametric import SFH, ZDist\nfrom synthesizer.parametric import Stars as ParametricStars\nfrom synthesizer.particle.stars import sample_sfhz\nfrom synthesizer.particle.gas import Gas\nfrom synthesizer.particle.galaxy import Galaxy\nfrom synthesizer.particle.particles import CoordinateGenerator\n\n\nplt.rcParams[\"font.family\"] = \"DeJavu Serif\"\nplt.rcParams[\"font.serif\"] = [\"Times New Roman\"]\n\n# Set the seed\nnp.random.seed(42)\n\nstart = time.time()\n\n# Get the location of this script, __file__ is the absolute path of this\n# script, however we just want to directory\n# script_path = os.path.abspath(os.path.dirname(__file__))\n\n# Define the grid\ngrid_name = \"test_grid\"\ngrid_dir = \"../../tests/test_grid/\"\ngrid = Grid(grid_name, grid_dir=grid_dir)\n\n# Define the grid (normally this would be defined by an SPS grid)\nlog10ages = np.arange(6.0, 10.5, 0.1)\nmetallicities = 10 ** np.arange(-5.0, -1.5, 0.1)\nZ_p = {\"metallicity\": 0.01}\nmetal_dist = ZDist.DeltaConstant(**Z_p)\nsfh_p = {\"duration\": 100 * Myr}\nsfh = SFH.Constant(**sfh_p)  # constant star formation\n\n# Generate the star formation metallicity history\nmass = 10**10\nparam_stars = ParametricStars(\n    log10ages,\n    metallicities,\n    sf_hist=sfh,\n    metal_dist=metal_dist,\n    initial_mass=mass,\n)\n\nfor n in [10, 100]:  # , 1000, 10000]:\n    xs = []\n    loop_ys = []\n    tree_ys = []\n    precision = []\n    for ngas in np.logspace(np.log10(n), 6, 20, dtype=int):\n        # Make a fake galaxy\n\n        # First make the stars\n\n        # Generate some random coordinates\n        coords = CoordinateGenerator.generate_3D_gaussian(n)\n\n        # Calculate the smoothing lengths from radii\n        cent = np.mean(coords, axis=0)\n        rs = np.sqrt(\n            (coords[:, 0] - cent[0]) ** 2\n            + (coords[:, 1] - cent[1]) ** 2\n            + (coords[:, 2] - cent[2]) ** 2\n        )\n        rs[rs < 0.2] = 0.6  # Set a lower bound on the \"smoothing length\"\n\n        # Sample the SFZH, producing a Stars object\n        # we will also pass some keyword arguments for attributes\n        # we will need for imaging\n        stars = sample_sfhz(\n            param_stars.sfzh,\n            param_stars.log10ages,\n            param_stars.log10metallicities,\n            n,\n            coordinates=coords,\n            current_masses=np.full(n, 10**8.7 / n),\n            smoothing_lengths=rs / 2,\n            redshift=1,\n        )\n\n        # Now make the gas\n\n        # Generate some random coordinates\n        coords = CoordinateGenerator.generate_3D_gaussian(ngas)\n\n        # Calculate the smoothing lengths from radii\n        cent = np.mean(coords, axis=0)\n        rs = np.sqrt(\n            (coords[:, 0] - cent[0]) ** 2\n            + (coords[:, 1] - cent[1]) ** 2\n            + (coords[:, 2] - cent[2]) ** 2\n        )\n        rs[rs < 0.2] = 0.6  # Set a lower bound on the \"smoothing length\"\n\n        gas = Gas(\n            masses=np.random.uniform(10**6, 10**6.5, ngas),\n            metallicities=np.random.uniform(0.01, 0.05, ngas),\n            coordinates=coords,\n            smoothing_lengths=rs / 4,\n            dust_to_metal_ratio=0.2,\n        )\n\n        # Create galaxy object\n        galaxy = Galaxy(\"Galaxy\", stars=stars, gas=gas, redshift=1)\n\n        # Create a fake kernel\n        kernel = np.random.normal(0.5, 0.25, 100)\n        kernel = np.sort(kernel)[::-1]\n        kernel /= np.sum(kernel)\n\n        # Calculate the tau_vs\n        start = time.time()\n        tau_v = galaxy.calculate_los_tau_v(\n            kappa=0.07, kernel=kernel, force_loop=1\n        )\n        loop_time = time.time() - start\n        loop_sum = np.sum(tau_v)\n\n        # Calculate the tau_vs\n        start = time.time()\n        tau_v = galaxy.calculate_los_tau_v(kappa=0.07, kernel=kernel)\n        tree_time = time.time() - start\n        tree_sum = np.sum(tau_v)\n\n        xs.append(n * ngas)\n        loop_ys.append(loop_time)\n        tree_ys.append(tree_time)\n        precision.append(np.abs(tree_sum - loop_sum) / loop_sum * 100)\n\n        print(\n            f\"LOS calculation with tree took {tree_time:.4f} \"\n            f\"seconds for nstar={n} and ngas={ngas}\"\n        )\n        print(\n            f\"LOS calculation with loop took {loop_time:.4f} \"\n            f\"seconds for nstar={n} and ngas={ngas}\"\n        )\n        print(\n            \"Ratio in wallclock: \"\n            f\"Time_loop/Time_tree={loop_time / tree_time:.4f}\"\n        )\n        print(\n            f\"Tree gave={tree_sum:.2f} Loop gave={loop_sum:.2f} \"\n            \"Normalised residual=\"\n            f\"{np.abs(tree_sum - loop_sum) / loop_sum * 100:.4f}\"\n        )\n\n    xs = np.array(xs)\n    sinds = np.argsort(xs)\n    xs = xs[sinds]\n    loop_ys = np.array(loop_ys)[sinds]\n    tree_ys = np.array(tree_ys)[sinds]\n    precision = np.array(precision)[sinds]\n\n    fig = plt.figure()\n    ax = fig.add_subplot(111)\n    ax.loglog()\n    ax.grid()\n\n    ax.plot(xs, loop_ys, label=\"Loop\")\n    ax.plot(xs, tree_ys, label=\"Tree\")\n\n    ax.set_ylabel(\"Wallclock (s)\")\n    ax.set_xlabel(r\"$N_\\star N_\\mathrm{gas}$\")\n\n    ax.legend()\n\n    plt.show()\n    # fig.savefig(\"../los_timing_nstar%d.png\" % n,\n    #     dpi=100, bbox_inches=\"tight\")\n\n    fig = plt.figure()\n    ax = fig.add_subplot(111)\n    ax.semilogx()\n    ax.grid()\n\n    ax.plot(xs, precision, label=\"Loop / Tree\")\n\n    ax.set_ylabel(\n        r\"$|\\tau_{V, tree} - \\tau_{V, loop}|\" r\" / \\tau_{V, loop}$ (%)\"\n    )\n    ax.set_xlabel(\"$N_\\\\star N_\\\\mathrm{gas}$\")\n\n    ax.legend()\n\n    # fig.savefig(\"../los_precision_nstar%d.png\" % n,\n    #     dpi=100, bbox_inches=\"tight\")\n    plt.show()"
      ]
    }
  ],
  "metadata": {
    "kernelspec": {
      "display_name": "Python 3",
      "language": "python",
      "name": "python3"
    },
    "language_info": {
      "codemirror_mode": {
        "name": "ipython",
        "version": 3
      },
      "file_extension": ".py",
      "mimetype": "text/x-python",
      "name": "python",
      "nbconvert_exporter": "python",
      "pygments_lexer": "ipython3",
      "version": "3.10.13"
    }
  },
  "nbformat": 4,
  "nbformat_minor": 0
}