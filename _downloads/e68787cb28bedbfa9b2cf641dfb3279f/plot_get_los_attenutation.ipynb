{
  "cells": [
    {
      "cell_type": "markdown",
      "metadata": {},
      "source": [
        "\n# Plot line of sight optical depth calculations\n\nThis example shows how to compute line of sight optical depths and compares\nthe simple loop method with the complex tree method.\n"
      ]
    },
    {
      "cell_type": "code",
      "execution_count": null,
      "metadata": {
        "collapsed": false
      },
      "outputs": [],
      "source": [
        "import time\n\nimport matplotlib.pyplot as plt\nimport numpy as np\nfrom scipy.spatial import cKDTree\nfrom unyt import Mpc, Msun, Myr\n\nfrom synthesizer.grid import Grid\nfrom synthesizer.kernel_functions import Kernel\nfrom synthesizer.parametric import SFH, ZDist\nfrom synthesizer.parametric import Stars as ParametricStars\nfrom synthesizer.particle.galaxy import Galaxy\nfrom synthesizer.particle.gas import Gas\nfrom synthesizer.particle.particles import CoordinateGenerator\nfrom synthesizer.particle.stars import sample_sfhz\n\n\ndef calculate_smoothing_lengths(positions, num_neighbors=56):\n    \"\"\"Calculate the SPH smoothing lengths for a set of coordinates.\"\"\"\n    tree = cKDTree(positions)\n    distances, _ = tree.query(positions, k=num_neighbors + 1)\n\n    # The k-th nearest neighbor distance (k = num_neighbors)\n    kth_distances = distances[:, num_neighbors]\n\n    # Set the smoothing length to the k-th nearest neighbor\n    # distance divided by 2.0\n    smoothing_lengths = kth_distances / 2.0\n\n    return smoothing_lengths\n\n\nplt.rcParams[\"font.family\"] = \"DeJavu Serif\"\nplt.rcParams[\"font.serif\"] = [\"Times New Roman\"]\n\n# Set the seed\nnp.random.seed(42)\n\nstart = time.time()\n\n# Get the location of this script, __file__ is the absolute path of this\n# script, however we just want to directory\n# script_path = os.path.abspath(os.path.dirname(__file__))\n\n# Define the grid\ngrid_name = \"test_grid\"\ngrid_dir = \"../../tests/test_grid/\"\ngrid = Grid(grid_name, grid_dir=grid_dir)\n\n# Define the grid (normally this would be defined by an SPS grid)\nlog10ages = np.arange(6.0, 10.5, 0.1)\nmetallicities = 10 ** np.arange(-5.0, -1.5, 0.1)\nZ_p = {\"metallicity\": 0.01}\nmetal_dist = ZDist.DeltaConstant(**Z_p)\nsfh_p = {\"duration\": 100 * Myr}\nsfh = SFH.Constant(**sfh_p)  # constant star formation\n\n# Generate the star formation metallicity history\nmass = 10**10 * Msun\nparam_stars = ParametricStars(\n    log10ages,\n    metallicities,\n    sf_hist=sfh,\n    metal_dist=metal_dist,\n    initial_mass=mass,\n)\n\nxs = {}\nloop_ys = {}\ntree_ys = {}\nprecision = {}\n\nn = 100\n\n# First make the stars\n\n# Generate some random coordinates\ncoords = (\n    CoordinateGenerator.generate_3D_gaussian(\n        n,\n        mean=np.array([50, 50, 50]),\n    )\n    * Mpc\n)\n\n# Calculate the smoothing lengths\nsmls = calculate_smoothing_lengths(coords, num_neighbors=56) * Mpc\n\n# Sample the SFZH, producing a Stars object\n# we will also pass some keyword arguments for attributes\n# we will need for imaging\nstars = sample_sfhz(\n    param_stars.sfzh,\n    param_stars.log10ages,\n    param_stars.log10metallicities,\n    n,\n    coordinates=coords,\n    current_masses=np.full(n, 10**8.7 / n) * Msun,\n    smoothing_lengths=smls,\n    redshift=1,\n)\n\nngas = 1000\n\n# Now make the gas\n\n# Generate some random coordinates\ncoords = (\n    CoordinateGenerator.generate_3D_gaussian(\n        ngas,\n        mean=np.array([50, 50, 50]),\n    )\n    * Mpc\n)\n\n# Calculate the smoothing lengths\nsmls = calculate_smoothing_lengths(coords, num_neighbors=56) * Mpc\n\ngas = Gas(\n    masses=np.random.uniform(10**6, 10**6.5, ngas) * Msun,\n    metallicities=np.random.uniform(0.01, 0.05, ngas),\n    coordinates=coords,\n    smoothing_lengths=smls,\n    dust_to_metal_ratio=0.2,\n)\n\n# Create galaxy object\ngalaxy = Galaxy(\"Galaxy\", stars=stars, gas=gas, redshift=1)\n\n# Get the kernel\nkernel = Kernel().get_kernel()\n\n# Calculate the tau_vs\nstart = time.time()\nloop_tau_v = galaxy.calculate_los_tau_v(\n    kappa=0.07,\n    kernel=kernel,\n    force_loop=1,\n)\nloop_time = time.time() - start\nloop_sum = np.sum(loop_tau_v)\n\n# Calculate the tau_vs\nstart = time.time()\ntree_tau_v = galaxy.calculate_los_tau_v(\n    kappa=0.07,\n    kernel=kernel,\n    min_count=100,\n)\ntree_time = time.time() - start\ntree_sum = np.sum(tree_tau_v)\n\nprint(\n    f\"LOS calculation with tree took {tree_time:.4f} \"\n    f\"seconds for nstar={n} and ngas={ngas}\"\n)\nprint(\n    f\"LOS calculation with loop took {loop_time:.4f} \"\n    f\"seconds for nstar={n} and ngas={ngas}\"\n)\nprint(\n    \"Ratio in wallclock: \" f\"Time_loop/Time_tree={loop_time / tree_time:.4f}\"\n)\nprint(\n    f\"Tree gave={tree_sum:.2e} Loop gave={loop_sum:.2e} \"\n    \"Normalised residual=\"\n    f\"{np.abs(tree_sum - loop_sum) / loop_sum * 100:.4f}\"\n)\nprint()\n\n# Plot the optical depths against each other.\nfig, ax = plt.subplots()\nax.scatter(tree_tau_v, loop_tau_v, s=1)\n\nax.set_xscale(\"log\")\nax.set_yscale(\"log\")\nax.set_xlabel(\"Tree method\")\nax.set_ylabel(\"Loop method\")\n\nplt.show()"
      ]
    }
  ],
  "metadata": {
    "kernelspec": {
      "display_name": "Python 3",
      "language": "python",
      "name": "python3"
    },
    "language_info": {
      "codemirror_mode": {
        "name": "ipython",
        "version": 3
      },
      "file_extension": ".py",
      "mimetype": "text/x-python",
      "name": "python",
      "nbconvert_exporter": "python",
      "pygments_lexer": "ipython3",
      "version": "3.10.15"
    }
  },
  "nbformat": 4,
  "nbformat_minor": 0
}