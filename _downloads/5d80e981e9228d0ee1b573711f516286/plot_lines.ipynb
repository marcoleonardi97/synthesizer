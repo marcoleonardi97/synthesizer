{
  "cells": [
    {
      "cell_type": "markdown",
      "metadata": {},
      "source": [
        "\n# Get lines example\n\nThis example demonstrates how to:\n- get a list of lines associated with a grid\n- initialise a grid object with lines\n- get line quantities for a single grid point\n- ad hoc load an additional line\n"
      ]
    },
    {
      "cell_type": "code",
      "execution_count": null,
      "metadata": {
        "collapsed": false
      },
      "outputs": [],
      "source": [
        "import matplotlib.pyplot as plt\nfrom synthesizer.grid import Grid\n\nif __name__ == \"__main__\":\n    # Get the location of this script, __file__ is the absolute path of this\n    # script, however we just want to directory\n    # script_path = os.path.abspath(os.path.dirname(__file__))\n\n    # Define the grid\n    grid_name = \"test_grid\"\n    grid_dir = \"../../tests/test_grid/\"\n\n    # initialise grid\n    grid = Grid(grid_name, grid_dir=grid_dir, read_lines=True)\n\n    # get list of lines\n    print(grid.line_list)\n\n    # choose age and metallicity\n    log10age = 6.0  # log10(age/yr)\n    metallicity = 0.01  # metallicity\n\n    # get the grid point for this log10age and metallicity\n    grid_point = grid.get_grid_point((log10age, metallicity))\n\n    # get information on one line\n    line = grid.get_line_info(\"H 1 4862.69A\", grid_point)\n    print(line)\n\n    # or a combination of lines, e.g. a doublet\n    line = grid.get_lines_info(\n        [\"H 1 4862.69A\", \"O 3 4958.91A\", \"O 3 5006.84A\"], grid_point\n    )\n    print(line)\n\n    # create a line collection from all lines\n    lines = grid.get_lines_info(grid.line_list, grid_point)\n    print(lines)\n\n    # we can measure line ratios\n    ratio_id = \"BalmerDecrement\"\n    ratio = lines.get_ratio(ratio_id)  # R23, R2, R3, ...\n    print(f\"{ratio_id}: {ratio:.2f}\")\n\n    # or loop over availalable ratios\n    for ratio_id in lines.available_ratios:\n        ratio = lines.get_ratio(ratio_id)\n        print(f\"{ratio_id}: {ratio:.2f}\")\n\n    # we can plot a ratio against metallicity by looping over the metallicity \n    # grid\n    ratio_id = \"R23\"\n    ia = 0  # 1 Myr old for test grid\n    ratios = []\n    for iZ, Z in enumerate(grid.metallicity):\n        grid_point = (ia, iZ)\n        lines = grid.get_lines_info(grid.line_list, grid_point)\n        ratios.append(lines.get_ratio(ratio_id))\n\n    Zsun = grid.metallicity / 0.0124\n    plt.plot(Zsun, ratios)\n    plt.xlim([0.01, 1])\n    plt.ylim([1, 20])\n    plt.xscale(\"log\")\n    plt.yscale(\"log\")\n    plt.xlabel(r\"$Z/Z_{\\odot}$\")\n    plt.ylabel(lines.get_ratio_label(ratio_id))\n    plt.show()\n\n    # we can also generate \"diagrams\" pairs of line ratios like the BPT diagram\n    diagram_id = \"BPT-NII\"\n    ia = 0  # 1 Myr old for test grid\n    x = []\n    y = []\n    for iZ, Z in enumerate(grid.metallicity):\n        grid_point = (ia, iZ)\n        lines = grid.get_lines_info(grid.line_list, grid_point)\n        x_, y_ = lines.get_diagram(diagram_id)\n        x.append(x_)\n        y.append(y_)\n\n    plt.plot(x, y)\n    plt.xlim([0.01, 10])\n    plt.ylim([0.05, 20])\n    plt.xscale(\"log\")\n    plt.yscale(\"log\")\n\n    # grab x and y labels, this time use \"fancy\" label ids\n    xlabel, ylabel = lines.get_diagram_label(diagram_id, fancy=True)\n\n    plt.xlabel(xlabel)\n    plt.ylabel(ylabel)\n    plt.show()"
      ]
    }
  ],
  "metadata": {
    "kernelspec": {
      "display_name": "Python 3",
      "language": "python",
      "name": "python3"
    },
    "language_info": {
      "codemirror_mode": {
        "name": "ipython",
        "version": 3
      },
      "file_extension": ".py",
      "mimetype": "text/x-python",
      "name": "python",
      "nbconvert_exporter": "python",
      "pygments_lexer": "ipython3",
      "version": "3.10.13"
    }
  },
  "nbformat": 4,
  "nbformat_minor": 0
}