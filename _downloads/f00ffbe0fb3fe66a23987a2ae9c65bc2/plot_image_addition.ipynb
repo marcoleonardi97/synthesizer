{
  "cells": [
    {
      "cell_type": "markdown",
      "metadata": {},
      "source": [
        "\n# Image addition example\n\nAn example of how to do image addition and testing error functionality.\n"
      ]
    },
    {
      "cell_type": "code",
      "execution_count": null,
      "metadata": {
        "collapsed": false
      },
      "outputs": [],
      "source": [
        "import numpy as np\nfrom unyt import Myr, kpc\n\nfrom synthesizer.emission_models import IncidentEmission\nfrom synthesizer.exceptions import InconsistentAddition\nfrom synthesizer.filters import FilterCollection as Filters\nfrom synthesizer.grid import Grid\nfrom synthesizer.imaging import Image, ImageCollection\nfrom synthesizer.parametric import Stars\nfrom synthesizer.parametric.galaxy import Galaxy\nfrom synthesizer.parametric.morphology import Sersic2D\n\nif __name__ == \"__main__\":\n    # First set up some stuff so we can make demonstration images.\n\n    # Get the location of this script, __file__ is the absolute path of this\n    # script, however we just want the directory\n    # script_path = os.path.abspath(os.path.dirname(__file__))\n\n    # Define the grid\n    grid_name = \"test_grid\"\n    grid_dir = \"../../tests/test_grid/\"\n    grid = Grid(grid_name, grid_dir=grid_dir)\n\n    # Define an arbitrary morphology to feed the imaging\n    morph = Sersic2D(\n        r_eff=1.0 * kpc, sersic_index=1.0, ellipticity=0.5, theta=35.0\n    )\n\n    # Define the parameters of the star formation and metal enrichment\n    # histories\n    stellar_mass = 1e10\n    stars = Stars(\n        grid.log10age,\n        grid.metallicity,\n        sf_hist=10.0 * Myr,\n        metal_dist=0.01,\n        initial_mass=stellar_mass,\n        morphology=morph,\n    )\n\n    # Define the emission model\n    model = IncidentEmission(grid)\n\n    # Get galaxy object\n    galaxy = Galaxy(stars=stars)\n\n    # Get specrtra\n    sed = galaxy.stars.get_spectra(model)\n\n    # Create a filter collection\n    filter_codes1 = [\n        \"JWST/NIRCam.F090W\",\n        \"JWST/NIRCam.F150W\",\n        \"JWST/NIRCam.F200W\",\n    ]\n    filter_codes2 = filter_codes1[:-1]\n    filters1 = Filters(filter_codes1)\n    filters2 = Filters(filter_codes2)\n\n    fake_img = np.zeros((100, 100))\n\n    # Create fake dicts of images we'll put in image collections\n    fakes_imgs1 = {f: fake_img for f in filter_codes1}\n    fakes_imgs2 = {f: fake_img for f in filter_codes2}\n\n    # Create fake image objects\n    res1 = 0.5 * kpc\n    res2 = 0.4 * kpc\n    img1 = Image(resolution=res1, fov=100 * res1, img=fake_img)\n    img2 = Image(resolution=res2, fov=100 * res2, img=fake_img)\n    img_with_filters1 = ImageCollection(\n        resolution=res1,\n        fov=100 * res1,\n        imgs=fakes_imgs1,\n    )\n    img_with_filters2 = ImageCollection(\n        resolution=res1,\n        fov=100 * res1,\n        imgs=fakes_imgs2,\n    )\n\n    # Add images\n    composite = img1 + img1 + img1\n    composite_with_filters = img_with_filters1 + img_with_filters1\n\n    print(\"Error Demonstration:\")\n\n    # Demonstrate errors\n    try:\n        broken = img1 + img2\n    except InconsistentAddition as e:\n        print(e)"
      ]
    }
  ],
  "metadata": {
    "kernelspec": {
      "display_name": "Python 3",
      "language": "python",
      "name": "python3"
    },
    "language_info": {
      "codemirror_mode": {
        "name": "ipython",
        "version": 3
      },
      "file_extension": ".py",
      "mimetype": "text/x-python",
      "name": "python",
      "nbconvert_exporter": "python",
      "pygments_lexer": "ipython3",
      "version": "3.10.14"
    }
  },
  "nbformat": 4,
  "nbformat_minor": 0
}