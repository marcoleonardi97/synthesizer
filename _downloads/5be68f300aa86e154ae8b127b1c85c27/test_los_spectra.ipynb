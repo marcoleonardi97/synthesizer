{
  "cells": [
    {
      "cell_type": "markdown",
      "metadata": {},
      "source": [
        "\n# Line of sight example\n\nTest the calculation of tau_v along the line of sight\nto each star particle\n"
      ]
    },
    {
      "cell_type": "code",
      "execution_count": null,
      "metadata": {
        "collapsed": false
      },
      "outputs": [],
      "source": [
        "from synthesizer.load_data import load_CAMELS_IllustrisTNG\nfrom synthesizer.kernel_functions import kernel\n\ngals = load_CAMELS_IllustrisTNG(\n    \"../../tests/data/\",\n    snap_name=\"camels_snap.hdf5\",\n    fof_name=\"camels_subhalo.hdf5\",\n    fof_dir=\"../../tests/data/\",\n)\n\nkern = kernel()\nkern.get_kernel()\n\ngals[0].calculate_los_tau_v(kappa=0.3, kernel=kern.get_kernel())"
      ]
    }
  ],
  "metadata": {
    "kernelspec": {
      "display_name": "Python 3",
      "language": "python",
      "name": "python3"
    },
    "language_info": {
      "codemirror_mode": {
        "name": "ipython",
        "version": 3
      },
      "file_extension": ".py",
      "mimetype": "text/x-python",
      "name": "python",
      "nbconvert_exporter": "python",
      "pygments_lexer": "ipython3",
      "version": "3.10.13"
    }
  },
  "nbformat": 4,
  "nbformat_minor": 0
}