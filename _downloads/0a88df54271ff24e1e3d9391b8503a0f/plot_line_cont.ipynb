{
  "cells": [
    {
      "cell_type": "markdown",
      "metadata": {},
      "source": [
        "\n# Plot the line continuum for a given grid point\n\nDemonstrate how to create spectra using a collection of line luminosities\ninstead of the default approach. Mostly for testing purposes.\n"
      ]
    },
    {
      "cell_type": "code",
      "execution_count": null,
      "metadata": {
        "collapsed": false
      },
      "outputs": [],
      "source": [
        "import matplotlib.pyplot as plt\nimport numpy as np\nfrom unyt import Hz, c, erg, s\n\nfrom synthesizer.grid import Grid\nfrom synthesizer.sed import Sed\n\n# define grid\ngrid_name = \"test_grid\"\ngrid_dir = \"../../tests/test_grid/\"\ngrid = Grid(grid_name, grid_dir=grid_dir, read_lines=True)\n\n# define grid point\ngrid_point = grid.get_grid_point((6.5, 0.01))\n\n# get an Sed\nsed = grid.get_spectra(grid_point, spectra_id=\"linecont\")\n\n\nplt.plot(np.log10(sed.lam), np.log10(sed.lnu))\nplt.xlim([2.0, 5.0])\nplt.ylim([18.0, 23])\nplt.xlabel(r\"$\\rm log_{10}(\\lambda/\\AA)$\")\nplt.ylabel(r\"$\\rm log_{10}(L_{\\nu}/erg\\ s^{-1}\\ Hz^{-1} M_{\\odot}^{-1})$\")\nplt.show()\n\nprint(grid.available_lines)\n\n\nlnu = (np.zeros(len(sed.lam)) + 1) * erg / s / Hz\n\nlc = grid.get_lines(grid_point)\n\nfor line in lc:\n    idx = (np.abs(sed.lam - line.wavelength)).argmin()\n    dl = 0.5 * (sed.lam[idx + 1] - sed.lam[idx - 1])\n    n = c / line.wavelength\n    llnu = line.wavelength * (line.luminosity / n) / dl\n    print(line.id, llnu)\n    lnu[idx] += llnu.to(\"erg/s/Hz\")\n\nlinecont = Sed(lam=sed.lam, lnu=lnu)\n\nprint(np.max(linecont.lnu))\nprint(np.max(sed.lnu))\n\nplt.plot(np.log10(sed.lam), np.log10(sed.lnu), alpha=0.5, c=\"r\")\n# plt.plot(np.log10(linecont.lam), np.log10(linecont.lnu), alpha=0.5, c='b')\nplt.scatter(\n    np.log10(linecont.lam), np.log10(linecont.lnu), alpha=0.5, color=\"b\", s=1\n)\nplt.xlim([2.0, 5.0])\nplt.ylim([18.0, 23])\nplt.xlabel(r\"$\\rm log_{10}(\\lambda/\\AA)$\")\nplt.ylabel(r\"$\\rm log_{10}(L_{\\nu}/erg\\ s^{-1}\\ Hz^{-1} M_{\\odot}^{-1})$\")\nplt.show()\n\nplt.plot(np.log10(sed.lam), sed.lnu, alpha=0.5, c=\"r\")\n# plt.plot(np.log10(linecont.lam), np.log10(linecont.lnu), alpha=0.5, c='b')\nplt.scatter(np.log10(linecont.lam), linecont.lnu, alpha=0.5, color=\"b\", s=1)\nplt.xlim([2.0, 5.0])\nplt.ylim([0, 0.3e23])\nplt.xlabel(r\"$\\rm log_{10}(\\lambda/\\AA)$\")\nplt.ylabel(r\"$\\rm L_{\\nu}/erg\\ s^{-1}\\ Hz^{-1} M_{\\odot}^{-1}$\")\nplt.show()"
      ]
    }
  ],
  "metadata": {
    "kernelspec": {
      "display_name": "Python 3",
      "language": "python",
      "name": "python3"
    },
    "language_info": {
      "codemirror_mode": {
        "name": "ipython",
        "version": 3
      },
      "file_extension": ".py",
      "mimetype": "text/x-python",
      "name": "python",
      "nbconvert_exporter": "python",
      "pygments_lexer": "ipython3",
      "version": "3.10.14"
    }
  },
  "nbformat": 4,
  "nbformat_minor": 0
}