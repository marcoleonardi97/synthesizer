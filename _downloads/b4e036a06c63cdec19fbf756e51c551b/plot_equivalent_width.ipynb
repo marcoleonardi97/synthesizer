{
  "cells": [
    {
      "cell_type": "markdown",
      "metadata": {},
      "source": [
        "\n# Plot equivalent width for UV indices\n\nExample for generating the equivalent width for a set of UV indices from a parametric galaxy\n- build a parametric galaxy (see make_sfzh)\n- calculate equivalent width (see sed.py)\n"
      ]
    },
    {
      "cell_type": "code",
      "execution_count": null,
      "metadata": {
        "collapsed": false
      },
      "outputs": [],
      "source": [
        "import matplotlib.pyplot as plt\n\nfrom synthesizer.grid import Grid\nfrom synthesizer.parametric.sfzh import SFH, ZH, generate_sfzh\nfrom synthesizer.parametric.galaxy import Galaxy as Galaxy\nfrom synthesizer.sed import uv_indices\nfrom unyt import yr, Myr\n\n\ndef get_ew(index, Z, smass, grid, EqW, mode):\n    sfh_p = {\"duration\": 100 * Myr}\n\n    Z_p = {\"Z\": Z}  # can also use linear metallicity e.g. {'Z': 0.01}\n    stellar_mass = smass\n\n    # --- define the functional form of the star formation and metal enrichment histories\n    sfh = SFH.Constant(sfh_p)  # constant star formation\n    print(sfh)  # print sfh summary\n\n    Zh = ZH.deltaConstant(Z_p)  # constant metallicity\n\n    # --- get 2D star formation and metal enrichment history for the given SPS grid. This is (age, Z).\n    sfzh = generate_sfzh(\n        grid.log10age, grid.metallicity, sfh, Zh, stellar_mass=stellar_mass\n    )\n\n    # --- create a galaxy object\n    galaxy = Galaxy(sfzh)\n\n    # --- generate equivalent widths\n    if mode == 0:\n        galaxy.get_spectra_incident(grid)\n    else:\n        galaxy.get_spectra_intrinsic(grid, fesc=0.5)\n\n    EqW.append(galaxy.get_equivalent_width(index))\n    return EqW\n\n\ndef equivalent_width(grids, index, index_uv):\n    # -- Calculate the equivalent width for each defined index\n    for i, idx in enumerate(index):\n        grid = Grid(grids, grid_dir=grid_dir)\n\n        # --- define the parameters of the star formation and metal enrichment histories\n        Z = grid.metallicity\n        stellar_mass = 1e8\n        EqW = []\n\n        # Compute each index for each metallicity in the grid.\n        for k in range(0, len(Z)):\n            EqW = get_ew(idx, Z[k], stellar_mass, grid, EqW, 0)\n\n        print(EqW)\n\n        # Configure plot figure\n        plt.rcParams[\"figure.dpi\"] = 200\n        plt.subplot(3, 3, i + 1)\n        plt.grid(True)\n\n        if i == 0 or i == 3 or i == 6:\n            plt.ylabel(\"EW (\\u212B)\", fontsize=8)\n        if i > 5:\n            plt.xlabel(\"Z\", fontsize=8)\n\n        if index_uv[i] == 1501 or index_uv[i] == 1719:\n            label = \"UV_\" + str(index_uv[i])\n        else:\n            label = \"F\" + str(index_uv[i])\n\n        _, y_max = plt.ylim()\n\n        plt.title(label, fontsize=8, transform=plt.gca().transAxes, y=0.8)\n\n        plt.scatter(\n            grid.metallicity,\n            EqW,\n            color=\"white\",\n            edgecolors=\"grey\",\n            alpha=1.0,\n            zorder=10,\n            linewidth=0.5,\n            s=10,\n        )\n        plt.semilogx(grid.metallicity, EqW, linewidth=0.75, color=\"grey\")\n        EqW.clear()\n\n        plt.tight_layout()\n\n        if i == len(index) - 1:\n            plt.show()\n\n\nif __name__ == \"__main__\":\n    grid_dir = \"../../tests/test_grid\"  # Change this directory to your own.\n    grid_name = \"test_grid\"  # Change this to the appropriate .hdf5\n\n    indices = uv_indices()  # Retrieve UV indices\n    index = indices[:, 0]  # [i[0] for i in indices]\n\n    equivalent_width(grid_name, indices, index)"
      ]
    }
  ],
  "metadata": {
    "kernelspec": {
      "display_name": "Python 3",
      "language": "python",
      "name": "python3"
    },
    "language_info": {
      "codemirror_mode": {
        "name": "ipython",
        "version": 3
      },
      "file_extension": ".py",
      "mimetype": "text/x-python",
      "name": "python",
      "nbconvert_exporter": "python",
      "pygments_lexer": "ipython3",
      "version": "3.10.12"
    }
  },
  "nbformat": 4,
  "nbformat_minor": 0
}