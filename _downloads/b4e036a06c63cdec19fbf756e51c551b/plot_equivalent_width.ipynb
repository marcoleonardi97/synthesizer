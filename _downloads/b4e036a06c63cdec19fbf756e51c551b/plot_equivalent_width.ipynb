{
  "cells": [
    {
      "cell_type": "markdown",
      "metadata": {},
      "source": [
        "\n# Plot equivalent width for UV indices\n\nExample for generating the equivalent width for a set of UV indices from a parametric galaxy\n- build a parametric galaxy (see make_sfzh)\n- calculate equivalent width (see sed.py)\n"
      ]
    },
    {
      "cell_type": "code",
      "execution_count": null,
      "metadata": {
        "collapsed": false
      },
      "outputs": [],
      "source": [
        "import matplotlib.pyplot as plt\nimport numpy as np\n\nfrom synthesizer.grid import Grid\nfrom synthesizer.parametric import SFH, ZDist, Stars\nfrom synthesizer.parametric.galaxy import Galaxy\nfrom unyt import Myr, Angstrom, unyt_array\n\n\ndef set_index():\n    \"\"\"\n    A function to define a dictionary of uv indices.\n\n    Each index has a defined absorption window.\n    A pseudo-continuum is defined, made up of a blue and red shifted window.\n\n    Returns:\n        tuple: A tuple containing the following lists:\n            - index (int): List of UV indices.\n            - index_window (int): List of absorption window bounds.\n            - blue_window (int): List of blue shifted window bounds.\n            - red_window (int): List of red shifted window bounds.\n    \"\"\"\n\n    index = [1370, 1400, 1425, 1460, 1501, 1533, 1550, 1719, 1853]\n    index_window = [\n        [1360, 1380],\n        [1385, 1410],\n        [1413, 1435],\n        [1450, 1470],\n        [1496, 1506],\n        [1530, 1537],\n        [1530, 1560],\n        [1705, 1729],\n        [1838, 1858],\n    ]\n    blue_window = [\n        [1345, 1354],\n        [1345, 1354],\n        [1345, 1354],\n        [1436, 1447],\n        [1482, 1491],\n        [1482, 1491],\n        [1482, 1491],\n        [1675, 1684],\n        [1797, 1807],\n    ]\n    red_window = [\n        [1436, 1447],\n        [1436, 1447],\n        [1436, 1447],\n        [1482, 1491],\n        [1583, 1593],\n        [1583, 1593],\n        [1583, 1593],\n        [1751, 1761],\n        [1871, 1883],\n    ]\n\n    return index, index_window, blue_window, red_window\n\n\ndef equivalent_width(grids, uv_index, index_window, blue_window, red_window):\n    \"\"\"\n    Calculate equivalent widths for specified UV indices.\n\n    Args:\n        grids (str): Grid name.\n        uv_index (list): List of UV indices to calculate equivalent widths for.\n        index_window (list): List of index window bounds.\n        blue_window (list): List of blue shifted window bounds.\n        red_window (list): List of red shifted window bounds.\n\n    Returns:\n        None\n    \"\"\"\n\n    # -- Calculate the equivalent width for each defined index\n    for i, index in enumerate(uv_index):\n        grid = Grid(grids, grid_dir=grid_dir)\n\n        # --- define the parameters of the star formation and metal enrichment histories\n        Z = grid.metallicity\n        stellar_mass = 1e8\n        eqw = []\n\n        # Compute each index for each metallicity in the grid.\n        feature, blue, red = index_window[i], blue_window[i], red_window[i]\n\n        for k in range(0, len(Z)):\n            eqw.append(\n                measure_equivalent_width(\n                    index, feature, blue, red, Z[k], stellar_mass, grid, eqw, 0\n                )\n            )\n\n        print(\"Mean Equivalent width [\", index, \"]:\", np.mean(eqw))\n\n        # Configure plot figure\n        plt.rcParams[\"figure.dpi\"] = 200\n        plt.subplot(3, 3, i + 1)\n        plt.grid(True)\n\n        if i == 0 or i == 3 or i == 6:\n            plt.ylabel(\"EW (\\u212B)\", fontsize=8)\n        if i > 5:\n            plt.xlabel(\"metallicity\", fontsize=8)\n\n        if index == 1501 or index == 1719:\n            label = \"UV_\" + str(index)\n        else:\n            label = \"F\" + str(index)\n\n        _, y_max = plt.ylim()\n\n        plt.title(label, fontsize=8, transform=plt.gca().transAxes, y=0.8)\n\n        if len(np.array(eqw).shape) != 1:\n            grid.metallicity = [[x, x] for x in grid.metallicity]\n\n        plt.scatter(\n            grid.metallicity,\n            eqw,\n            color=\"white\",\n            edgecolors=\"grey\",\n            alpha=1.0,\n            zorder=10,\n            linewidth=0.5,\n            s=10,\n        )\n        plt.semilogx(grid.metallicity, eqw, linewidth=0.75, color=\"grey\")\n        eqw.clear()\n        grid.metallicity = Z\n\n        plt.tight_layout()\n\n        if i == len(uv_index) - 1:\n            plt.show()\n\n\ndef measure_equivalent_width(\n    index, feature, blue, red, Z, smass, grid, eqw, mode\n):\n    \"\"\"\n    Calculate equivalent width for a specified UV index.\n\n    Args:\n        index (int): The UV index for which the equivalent width is calculated.\n        Z (float): Metallicity.\n        smass (float): Stellar mass.\n        grid (Grid): The grid object.\n        eqw (float): Initial equivalent width.\n        mode (str): Calculation mode.\n\n    Returns:\n        float: The calculated equivalent width.\n\n    Raises:\n        ValueError: If mode is invalid.\n    \"\"\"\n\n    stellar_mass = smass\n\n    Z_p = {\"metallicity\": Z}\n    metal_dist = ZDist.DeltaConstant(**Z_p)  # constant metallicity\n    sfh_p = {\"duration\": 100 * Myr}\n    sfh = SFH.Constant(**sfh_p)  # constant star formation\n\n    # --- get 2D star formation and metal enrichment history for the\n    # given SPS grid. This is (age, Z).\n    sfzh = Stars(\n        grid.log10age,\n        grid.metallicity,\n        sf_hist=sfh,\n        metal_dist=metal_dist,\n        initial_mass=stellar_mass,\n    )\n\n    # --- create a galaxy object\n    galaxy = Galaxy(sfzh)\n\n    # --- generate spectra\n    if mode == 0:\n        sed = galaxy.stars.get_spectra_incident(grid)\n    else:\n        sed = galaxy.stars.get_spectra_intrinsic(grid, fesc=0.5)\n\n    return sed.measure_index(\n        feature,\n        blue,\n        red,\n    )\n\n\nif __name__ == \"__main__\":\n    grid_name = \"test_grid\"\n    grid_dir = \"../../tests/test_grid/\"\n\n    (\n        index,\n        index_window,\n        blue_window,\n        red_window,\n    ) = set_index()  # Retrieve UV indices\n\n    equivalent_width(grid_name, index, index_window, blue_window, red_window)"
      ]
    }
  ],
  "metadata": {
    "kernelspec": {
      "display_name": "Python 3",
      "language": "python",
      "name": "python3"
    },
    "language_info": {
      "codemirror_mode": {
        "name": "ipython",
        "version": 3
      },
      "file_extension": ".py",
      "mimetype": "text/x-python",
      "name": "python",
      "nbconvert_exporter": "python",
      "pygments_lexer": "ipython3",
      "version": "3.10.13"
    }
  },
  "nbformat": 4,
  "nbformat_minor": 0
}