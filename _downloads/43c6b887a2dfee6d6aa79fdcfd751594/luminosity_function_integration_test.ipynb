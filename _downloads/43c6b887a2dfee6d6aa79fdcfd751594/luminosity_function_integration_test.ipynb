{
  "cells": [
    {
      "cell_type": "markdown",
      "metadata": {},
      "source": [
        "\n# Camels luminosity function example\n\nUse test cosmological simulation data (from the [CAMELS simulations](\nhttps://www.camel-simulations.org/)) to generate SDSS photometry and\nplot the luminosity functions.\n\nNote: this is an integration test, and requires the full camels\nsnapshot and subhalo catalogue. These can be downloaded from the\ntests/data/ folder using the `download_camels.sh` script (an internet\nconnection is required).\n"
      ]
    },
    {
      "cell_type": "code",
      "execution_count": null,
      "metadata": {
        "collapsed": false
      },
      "outputs": [],
      "source": [
        "import matplotlib.pyplot as plt\nimport numpy as np\n\nfrom synthesizer.conversions import lnu_to_absolute_mag\nfrom synthesizer.emission_models import IncidentEmission\nfrom synthesizer.filters import FilterCollection\nfrom synthesizer.grid import Grid\nfrom synthesizer.load_data.load_camels import load_CAMELS_IllustrisTNG\n\n\ndef calc_df(x, volume, binLimits):\n    hist, dummy = np.histogram(x, bins=binLimits)\n    hist = np.float64(hist)\n    phi = (hist / volume) / (binLimits[1] - binLimits[0])\n\n    phi_sigma = (np.sqrt(hist) / volume) / (\n        binLimits[1] - binLimits[0]\n    )  # Poisson errors\n\n    return phi, phi_sigma, hist\n\n\nh = 0.6711\ngrid_dir = \"../../tests/test_grid\"\ngrid_name = \"test_grid\"\ngrid = Grid(grid_name, grid_dir=grid_dir)\nincident = IncidentEmission(grid)\n\nfilter_codes = [f\"SLOAN/SDSS.{f}\" for f in [\"g\"]]\nfc = FilterCollection(filter_codes=filter_codes, new_lam=grid.lam)\n\ngals = load_CAMELS_IllustrisTNG(\n    \"../../tests/data/\",\n    snap_name=\"CV_0_snap_086.hdf5\",\n    group_name=\"CV_0_fof_subhalo_tab_086.hdf5\",\n)\n\n# Filter by stellar mass\nmstar_mask = np.array([np.sum(g.stars.masses) > 1e9 for g in gals])\ngals = [g for g, _m in zip(gals, mstar_mask) if _m]\n\n# Calculate g-band magnitudes\nspecs = np.vstack([g.stars.get_spectra(incident).lnu for g in gals])\nphot = np.vstack(\n    [g.stars.get_photo_lnu(fc)[\"incident\"][\"SLOAN/SDSS.g\"] for g in gals]\n)\nmags = lnu_to_absolute_mag(phot)\n\n# Calculate g-band luminosity function\nbinlims = np.linspace(-25, -16, 12)\nbins = binlims[:-1] + (binlims[1] - binlims[0]) / 2\nphi, phi_sigma, _ = calc_df(mags, (25 / h) ** 3, binlims)\n\n# Plot luminosity function\nfig, ax = plt.subplots(1, 1)\n\nax.plot(bins, np.log10(phi), label=\"Current version\")\n\n# Previous 'working' version LF for reference\n# Commit hash:\n# b683b81e5de1e8c6ab6938d047cab54e7c5a2fdf\nphi_previous = [\n    -np.inf,\n    -np.inf,\n    -4.63,\n    -3.63,\n    -3.23,\n    -2.66,\n    -2.59,\n    -2.85,\n    -2.73,\n    -2.89,\n    -3.33,\n]\n\nax.plot(bins, phi_previous, label=\"Previous version\", ls=\"dashed\")\n\nax.legend()\nax.set_xlabel(\"$m_{g}^{AB}$\")\nax.set_ylabel(r\"$\\phi \\,/\\, \\mathrm{Mpc^{-3} \\; dex^{-1}}$\")\n\nplt.show()\n# plt.savefig('test_lf.png'); plt.close()"
      ]
    }
  ],
  "metadata": {
    "kernelspec": {
      "display_name": "Python 3",
      "language": "python",
      "name": "python3"
    },
    "language_info": {
      "codemirror_mode": {
        "name": "ipython",
        "version": 3
      },
      "file_extension": ".py",
      "mimetype": "text/x-python",
      "name": "python",
      "nbconvert_exporter": "python",
      "pygments_lexer": "ipython3",
      "version": "3.10.15"
    }
  },
  "nbformat": 4,
  "nbformat_minor": 0
}