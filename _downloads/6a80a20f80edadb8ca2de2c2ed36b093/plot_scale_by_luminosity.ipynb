{
  "cells": [
    {
      "cell_type": "markdown",
      "metadata": {},
      "source": [
        "\n# An example showing how to scale a galaxy's mass by luminosity/flux.\n\nParametric galaxies scale their brightness based on their initial stellar\nmass which is passed at instantiation. This example shows how a galaxy\ncan later be scaled in terms of mass to achieve a particular brightness in\na particular filter.\n"
      ]
    },
    {
      "cell_type": "code",
      "execution_count": null,
      "metadata": {
        "collapsed": false
      },
      "outputs": [],
      "source": [
        "import matplotlib.pyplot as plt\nimport numpy as np\nfrom astropy.cosmology import Planck18 as cosmo\nfrom matplotlib.lines import Line2D\nfrom unyt import Hz, Msun, Myr, erg, nJy, s\n\nfrom synthesizer import galaxy\nfrom synthesizer.conversions import apparent_mag_to_fnu, fnu_to_lnu\nfrom synthesizer.emission_models import PacmanEmission\nfrom synthesizer.emission_models.attenuation import PowerLaw\nfrom synthesizer.filters import Filter\nfrom synthesizer.grid import Grid\nfrom synthesizer.parametric import SFH, Stars, ZDist\n\n# Set up a figure to plot on\nfig = plt.figure()\nax_lum = fig.add_subplot(111)\n\n# Set up the flux y axis\nax_flux = ax_lum.twinx()\n\n# Enforce logscale\nax_lum.loglog()\nax_flux.loglog()\n\n# Define the grid\ngrid_name = \"test_grid\"\ngrid_dir = \"../../tests/test_grid/\"\ngrid = Grid(grid_name, grid_dir=grid_dir)\n\n# Define the emission model\nmodel = PacmanEmission(\n    grid,\n    fesc=0.5,\n    fesc_ly_alpha=0.5,\n    tau_v=0.1,\n    dust_curve=PowerLaw(slope=-1),\n)\n\n# Set up the SFH\nsfh = SFH.Constant(max_age=100 * Myr)\n\n# Set up the metallicity distribution\nmetal_dist = ZDist.Normal(mean=0.01, sigma=0.005)\n\n# Get the stellar population\nstars = Stars(\n    grid.log10age,\n    grid.metallicity,\n    sf_hist=sfh,\n    metal_dist=metal_dist,\n    initial_mass=10**9 * Msun,\n)\n\n# And make a galaxy containing this stellar population\nredshift = 12\ngal = galaxy(stars=stars, redshift=redshift)\n\n# Generate spectra using pacman model (complex)\ngal.stars.get_spectra(model)\n\n# Get the observed spectra\ngal.get_observed_spectra(cosmo=cosmo)\n\n# Plot the original spectra\nax_lum.plot(\n    gal.stars.spectra[\"attenuated\"]._lam,\n    gal.stars.spectra[\"attenuated\"]._lnu,\n    color=\"m\",\n    linestyle=\"--\",\n    alpha=0.7,\n)\nax_flux.plot(\n    gal.stars.spectra[\"attenuated\"]._obslam,\n    gal.stars.spectra[\"attenuated\"]._fnu,\n    color=\"m\",\n    label=(\n        r\"Original ($\\log_{10}(M_\\star / M_\\odot)\"\n        + f\"={np.log10(gal.stars.initial_mass):.2f})$\"\n    ),\n    alpha=0.7,\n)\n\n# Define a filter in which we will scale the galaxy\nf = Filter(filter_code=\"JWST/NIRCam.F150W\", new_lam=grid.lam)\n\n# First lets scale by luminosity\nscale_lum = 10**25.0 * erg / s / Hz\ngal.stars.scale_mass_by_luminosity(\n    lum=scale_lum,\n    scale_filter=f,\n    spectra_type=\"attenuated\",\n)\n\n# Plot the luminosity scaled spectra\nax_lum.plot(\n    gal.stars.spectra[\"attenuated\"]._lam,\n    gal.stars.spectra[\"attenuated\"]._lnu,\n    color=\"c\",\n    linestyle=\"--\",\n    alpha=0.7,\n)\nax_flux.plot(\n    gal.stars.spectra[\"attenuated\"]._obslam,\n    gal.stars.spectra[\"attenuated\"]._fnu,\n    color=\"c\",\n    label=(\n        r\"Luminosity scaled ($\\log_{10}(M_\\star / M_\\odot)\"\n        + f\"={np.log10(gal.stars.initial_mass):.2f})$\"\n    ),\n    alpha=0.7,\n)\n\n# And scale by flux\nscale_flux = apparent_mag_to_fnu(20)\nprint(scale_flux)\ngal.stars.scale_mass_by_flux(\n    flux=scale_flux,\n    scale_filter=f,\n    spectra_type=\"attenuated\",\n)\n\n# Plot the luminosity scaled spectra\nax_lum.plot(\n    gal.stars.spectra[\"attenuated\"]._lam,\n    gal.stars.spectra[\"attenuated\"]._lnu,\n    color=\"orange\",\n    linestyle=\"--\",\n    alpha=0.7,\n)\nax_flux.plot(\n    gal.stars.spectra[\"attenuated\"]._obslam,\n    gal.stars.spectra[\"attenuated\"]._fnu,\n    color=\"orange\",\n    label=(\n        r\"Flux scaled ($\\log_{10}(M_\\star / M_\\odot)\"\n        + f\"={np.log10(gal.stars.initial_mass):.2f})$\"\n    ),\n    alpha=0.7,\n)\n\n# Label axes\nx_units = str(gal.stars.spectra[\"attenuated\"].lam.units)\ny_units_lnu = str(gal.stars.spectra[\"attenuated\"].lnu.units)\ny_units_fnu = str(gal.stars.spectra[\"attenuated\"].fnu.units)\nax_lum.set_xlabel(r\"$\\lambda/[\\mathrm{\" + x_units + r\"}]$\")\nax_lum.set_ylabel(r\"$L_{\\nu}/[\\mathrm{\" + y_units_lnu + r\"}]$\")\nax_flux.set_ylabel(r\"$F_{\\nu}/[\\mathrm{\" + y_units_fnu + r\"}]$\")\n\n\n# Make the legend\nlegend_handles = [\n    Line2D([0], [0], color=\"k\", linestyle=\"--\"),\n    Line2D([0], [0], color=\"k\", linestyle=\"-\"),\n]\nlegend_labels = [\"Luminosity\", \"Flux\"]\nax_flux.legend(loc=\"upper right\")\nax_lum.legend(handles=legend_handles, labels=legend_labels, loc=\"upper left\")\n\nax_lum.set_ylim(\n    fnu_to_lnu(10**-4 * nJy, cosmo, redshift=redshift),\n    fnu_to_lnu(10**12.5 * nJy, cosmo, redshift=redshift),\n)\nax_flux.set_ylim(10**-4, 10**12.5)\nax_lum.set_xlim(10**2, None)\nax_flux.set_xlim(10**2, None)\nplt.show()"
      ]
    }
  ],
  "metadata": {
    "kernelspec": {
      "display_name": "Python 3",
      "language": "python",
      "name": "python3"
    },
    "language_info": {
      "codemirror_mode": {
        "name": "ipython",
        "version": 3
      },
      "file_extension": ".py",
      "mimetype": "text/x-python",
      "name": "python",
      "nbconvert_exporter": "python",
      "pygments_lexer": "ipython3",
      "version": "3.10.14"
    }
  },
  "nbformat": 4,
  "nbformat_minor": 0
}