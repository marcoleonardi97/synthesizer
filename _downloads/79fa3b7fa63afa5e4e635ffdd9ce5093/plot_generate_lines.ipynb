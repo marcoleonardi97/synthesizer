{
  "cells": [
    {
      "cell_type": "markdown",
      "metadata": {},
      "source": [
        "\n# Generating Lines from a Parametric Galaxy\n\nIn this example we're going to generate emission line predictions for a\nparametric galaxy.\n"
      ]
    },
    {
      "cell_type": "code",
      "execution_count": null,
      "metadata": {
        "collapsed": false
      },
      "outputs": [],
      "source": [
        "import synthesizer.line_ratios as line_ratios\nfrom synthesizer.emission_models import AttenuatedEmission, IncidentEmission\nfrom synthesizer.emission_models.attenuation import PowerLaw\nfrom synthesizer.grid import Grid\nfrom synthesizer.parametric import SFH, Stars, ZDist\nfrom synthesizer.parametric.galaxy import Galaxy\nfrom unyt import Myr\n\nif __name__ == \"__main__\":\n    # Begin by defining and initialising the grid.\n    grid_name = \"test_grid\"\n    grid_dir = \"../../tests/test_grid/\"\n    grid = Grid(grid_name, grid_dir=grid_dir)\n\n    # Define the emission model\n    incident = IncidentEmission(grid)\n\n    # Let's now build a galaxy following the other tutorials:\n    # Define the functional form of the star formation and metal\n    # enrichment histories\n\n    # Constant star formation\n    sfh = SFH.Constant(max_age=100 * Myr)\n\n    # Constant metallicity\n    metal_dist = ZDist.DeltaConstant(log10metallicity=-2.0)\n\n    # Get the 2D star formation and metal enrichment history\n    # for the given SPS grid. This is (age, Z).\n    stars = Stars(\n        grid.log10age,\n        grid.metallicity,\n        sf_hist=sfh,\n        metal_dist=metal_dist,\n        initial_mass=10**8.5,\n    )\n\n    # Create the Galaxy object\n    galaxy = Galaxy(stars)\n\n    # Print a summary of the Galaxy object\n    print(galaxy)\n\n    # Let's define a list of lines that we're interested in. Note that we can\n    # provide multiples which are automatically summed as if they were blended.\n    line_ids = [\n        line_ratios.Hb,  # \"H 1 4861.32A\"\n        line_ratios.O3b,  # \"O 3 4958.91A\"\n        line_ratios.O3r,  # \"O 3 5006.84A\"\n        line_ratios.O3,  # [\"O 3 4958.91A\", \"O 3 5006.84A\"]\n        line_ratios.O3\n        + \",\"\n        + line_ratios.Hb,  # [\"O 3 4958.91A\", \"O 3 5006.84A\", \"H 1 4861.32A\"]\n    ]\n\n    # Next, let's get the intrinsic line properties:\n    lines = galaxy.stars.get_lines(line_ids, incident)\n\n    # This produces a LineCollection object which has some useful methods and\n    # information.\n    print(lines)\n\n    # Let's now examine individual lines (or doublets):\n    for line in lines:\n        print(line)\n\n    # Those lines are now associated with the `Galaxy` object, revealed by\n    # using the print function:\n    print(galaxy)\n\n    # Next, lets get the attenuated line properties:\n    model = AttenuatedEmission(\n        emitter=\"stellar\",\n        tau_v=1.0,\n        dust_curve=PowerLaw(slope=-1),\n        apply_dust_to=incident,\n    )\n\n    lines_att = galaxy.stars.get_lines(\n        line_ids,\n        model,\n    )\n    print(lines_att)"
      ]
    }
  ],
  "metadata": {
    "kernelspec": {
      "display_name": "Python 3",
      "language": "python",
      "name": "python3"
    },
    "language_info": {
      "codemirror_mode": {
        "name": "ipython",
        "version": 3
      },
      "file_extension": ".py",
      "mimetype": "text/x-python",
      "name": "python",
      "nbconvert_exporter": "python",
      "pygments_lexer": "ipython3",
      "version": "3.10.14"
    }
  },
  "nbformat": 4,
  "nbformat_minor": 0
}