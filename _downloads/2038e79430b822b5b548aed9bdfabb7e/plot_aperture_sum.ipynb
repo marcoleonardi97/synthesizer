{
  "cells": [
    {
      "cell_type": "markdown",
      "metadata": {},
      "source": [
        "\n# Get sum of image inside an aperture\n\nThis example shows how to get the sum of the image inside an aperture.\nIt will create a fake image containing all ones and then calculate the sum\ninside various apertures, comparing to the expected value.\n"
      ]
    },
    {
      "cell_type": "code",
      "execution_count": null,
      "metadata": {
        "collapsed": false
      },
      "outputs": [],
      "source": [
        "import time\n\nimport matplotlib.pyplot as plt\nimport numpy as np\nfrom synthesizer.imaging.image import Image\nfrom unyt import Hz, Mpc, erg, s\n\n# Define the resolution of the image\nres = 100\n\n# Set up the fake image\nimg = Image(\n    resolution=1 * Mpc,\n    fov=res * Mpc,\n    img=np.ones((res, res)) * erg / s / Hz,\n)\n\n# Define the apertures\napp_radii = np.logspace(-1, np.log10(res / 2), 100) * Mpc\n\n# Compute the theoretical sum for each aperture\ntheoretical_sum = np.pi * app_radii**2\n\n# Define the aperture centre (we'll use the centre of the image which\n# is the same as not passing a centre)\n# This should be in pixel coordinates\ncentre = np.array([res / 2, res / 2])\n\n# Calculate the sum inside the apertures\nresults = []\ntimes = []\nfor ind, r in enumerate(app_radii):\n    start = time.time()\n    sum_ = img.get_signal_in_aperture(r, centre, nthreads=1)\n    results.append(sum_)\n    times.append(time.time() - start)\n\n# Convert to an array\nresults = np.array(results)\n\n# Plot the residual between truth and calculation\nfig = plt.figure()\nax = fig.add_subplot(111)\nax.grid()\nax.scatter(theoretical_sum, results)\nax.set_xlabel(\"Theoretical sum\")\nax.set_ylabel(\"Calculated sum\")\nax.set_title(f\"Pixel count: ({res}x{res})\")\nplt.show()\nplt.close(fig)"
      ]
    }
  ],
  "metadata": {
    "kernelspec": {
      "display_name": "Python 3",
      "language": "python",
      "name": "python3"
    },
    "language_info": {
      "codemirror_mode": {
        "name": "ipython",
        "version": 3
      },
      "file_extension": ".py",
      "mimetype": "text/x-python",
      "name": "python",
      "nbconvert_exporter": "python",
      "pygments_lexer": "ipython3",
      "version": "3.10.14"
    }
  },
  "nbformat": 4,
  "nbformat_minor": 0
}