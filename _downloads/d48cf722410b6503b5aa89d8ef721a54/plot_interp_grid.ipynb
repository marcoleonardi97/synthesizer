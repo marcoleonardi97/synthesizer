{
  "cells": [
    {
      "cell_type": "markdown",
      "metadata": {},
      "source": [
        "\n# Example of grid spectra interpolation\n\nDemonstrates the interpolation of grid spectra at the point of instantiation.\n- Instantiates grids using different resolution wavelength arrays.\n- Plots and compares them with the file version.\n"
      ]
    },
    {
      "cell_type": "code",
      "execution_count": null,
      "metadata": {
        "collapsed": false
      },
      "outputs": [],
      "source": [
        "import time\nimport numpy as np\nimport matplotlib.pyplot as plt\n\nfrom synthesizer.grid import Grid\n\n\nif __name__ == \"__main__\":\n\n    # Define the unmodified grid\n    grid_name = \"test_grid\"\n    grid_dir = \"../../tests/test_grid/\"\n    start = time.time()\n    grid = Grid(grid_name, grid_dir=grid_dir)\n    print(f\"Instatiating unmodified grid took {time.time() - start:.2f} seconds\")\n\n    # Define new wavelength arrays\n    vhi_new_lams = np.logspace(2, 5, 10000)\n    hi_new_lams = np.logspace(2, 5, 1000)\n    low_new_lams = np.logspace(2, 5, 100)\n\n    # Instantiate new grids\n    start = time.time()\n    vhi_grid = Grid(grid_name, grid_dir=grid_dir, new_lam=vhi_new_lams)\n    print(f\"Instatiating very high resolution grid took {time.time() - start:.2f} seconds\")\n    start = time.time()\n    hi_grid = Grid(grid_name, grid_dir=grid_dir, new_lam=hi_new_lams)\n    print(f\"Instatiating high resolution grid took {time.time() - start:.2f} seconds\")\n    start = time.time()\n    low_grid = Grid(grid_name, grid_dir=grid_dir, new_lam=low_new_lams)\n    print(f\"Instatiating low resolution grid took {time.time() - start:.2f} seconds\")\n\n    # Set up plot\n    fig = plt.figure(figsize=(5, 3.5))\n    ax = fig.add_subplot(111)\n    ax.grid(True)\n    ax.loglog()\n\n    ax.plot(grid.lam, grid.spectra[\"incident\"][25, 5, :], label=\"Unmodified\")\n\n    ax.plot(vhi_grid.lam, vhi_grid.spectra[\"incident\"][25, 5, :], label=\"Very High\")\n    ax.plot(hi_grid.lam, hi_grid.spectra[\"incident\"][25, 5, :], label=\"High\")\n    ax.plot(low_grid.lam, low_grid.spectra[\"incident\"][25, 5, :], label=\"Low\")\n\n    ax.set_xlabel(r\"$\\lambda/\\AA$\")\n    ax.set_ylabel(r\"$L_{\\nu}/erg\\ s^{-1}\\ Hz^{-1} M_{\\odot}^{-1}$\")\n\n    ax.legend()\n\n    plt.show()"
      ]
    }
  ],
  "metadata": {
    "kernelspec": {
      "display_name": "Python 3",
      "language": "python",
      "name": "python3"
    },
    "language_info": {
      "codemirror_mode": {
        "name": "ipython",
        "version": 3
      },
      "file_extension": ".py",
      "mimetype": "text/x-python",
      "name": "python",
      "nbconvert_exporter": "python",
      "pygments_lexer": "ipython3",
      "version": "3.10.13"
    }
  },
  "nbformat": 4,
  "nbformat_minor": 0
}