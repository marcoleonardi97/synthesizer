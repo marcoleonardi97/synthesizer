{
  "cells": [
    {
      "cell_type": "markdown",
      "metadata": {},
      "source": [
        "\n# Example of grid spectra interpolation\n\nDemonstrates the interpolation of grid spectra at the point of instantiation.\n- Instantiates grids using different interpolation schemes.\n- Plots and compares them with the file version.\n"
      ]
    },
    {
      "cell_type": "code",
      "execution_count": null,
      "metadata": {
        "collapsed": false
      },
      "outputs": [],
      "source": [
        "import time\nimport numpy as np\nimport matplotlib.pyplot as plt\n\nfrom synthesizer.grid import Grid\n\n\nif __name__ == \"__main__\":\n\n    # Define the unmodified grid\n    grid_name = \"test_grid\"\n    grid_dir = \"../../tests/test_grid/\"\n    start = time.time()\n    grid = Grid(grid_name, grid_dir=grid_dir)\n    print(f\"Instatiating unmodified grid took {time.time() - start:.2f} seconds\")\n\n    # Define new wavelength arrays\n    vhi_new_lams = np.logspace(2, 5, 10000)\n    hi_new_lams = np.logspace(2, 5, 1000)\n    low_new_lams = np.logspace(2, 5, 100)\n\n    # Instantiate new grids\n    start = time.time()\n    vhi_lin_grid = Grid(grid_name, grid_dir=grid_dir, new_lam=vhi_new_lams,\n                        interp_kind=\"linear\")\n    print(f\"Instatiating very high resolution (linear) grid took {time.time() - start:.2f} seconds\")\n    start = time.time()\n    hi_lin_grid = Grid(grid_name, grid_dir=grid_dir, new_lam=hi_new_lams,\n                       interp_kind=\"linear\")\n    print(f\"Instatiating high resolution (linear) grid took {time.time() - start:.2f} seconds\")\n    start = time.time()\n    low_lin_grid = Grid(grid_name, grid_dir=grid_dir, new_lam=low_new_lams,\n                        interp_kind=\"linear\")\n    print(f\"Instatiating low resolution (linear) grid took {time.time() - start:.2f} seconds\")\n\n    start = time.time()\n    vhi_cub_grid = Grid(grid_name, grid_dir=grid_dir, new_lam=vhi_new_lams,\n                        interp_kind=\"cubic\")\n    print(f\"Instatiating very high resolution (cubic) grid took {time.time() - start:.2f} seconds\")\n    start = time.time()\n    hi_cub_grid = Grid(grid_name, grid_dir=grid_dir, new_lam=hi_new_lams,\n                       interp_kind=\"cubic\")\n    print(f\"Instatiating high resolution (cubic) grid took {time.time() - start:.2f} seconds\")\n    start = time.time()\n    low_cub_grid = Grid(grid_name, grid_dir=grid_dir, new_lam=low_new_lams,\n                        interp_kind=\"cubic\")\n    print(f\"Instatiating low resolution (cubic) grid took {time.time() - start:.2f} seconds\")\n\n    # Set up plot\n    fig = plt.figure(figsize=(5, 3.5))\n    ax = fig.add_subplot(111)\n    ax.grid(True)\n    ax.loglog()\n\n    ax.plot(grid.lam, grid.spectra[\"incident\"][25, 5, :], label=\"Unmodified\")\n\n    ax.plot(vhi_lin_grid.lam, vhi_lin_grid.spectra[\"incident\"][25, 5, :], label=\"Very High (Linear)\")\n    ax.plot(hi_lin_grid.lam, hi_lin_grid.spectra[\"incident\"][25, 5, :], label=\"High (Linear)\")\n    ax.plot(low_lin_grid.lam, low_lin_grid.spectra[\"incident\"][25, 5, :], label=\"Low (Linear)\")\n    ax.plot(vhi_cub_grid.lam, vhi_cub_grid.spectra[\"incident\"][25, 5, :], label=\"Very High (Cubic)\")\n    ax.plot(hi_cub_grid.lam, hi_cub_grid.spectra[\"incident\"][25, 5, :], label=\"High (Cubic)\")\n    ax.plot(low_cub_grid.lam, low_cub_grid.spectra[\"incident\"][25, 5, :], label=\"Low (Cubic)\")\n\n    ax.set_xlabel(r\"$\\lambda/\\AA$\")\n    ax.set_ylabel(r\"$L_{\\nu}/erg\\ s^{-1}\\ Hz^{-1} M_{\\odot}^{-1}$\")\n\n    ax.legend()\n\n    plt.show()"
      ]
    }
  ],
  "metadata": {
    "kernelspec": {
      "display_name": "Python 3",
      "language": "python",
      "name": "python3"
    },
    "language_info": {
      "codemirror_mode": {
        "name": "ipython",
        "version": 3
      },
      "file_extension": ".py",
      "mimetype": "text/x-python",
      "name": "python",
      "nbconvert_exporter": "python",
      "pygments_lexer": "ipython3",
      "version": "3.10.13"
    }
  },
  "nbformat": 4,
  "nbformat_minor": 0
}