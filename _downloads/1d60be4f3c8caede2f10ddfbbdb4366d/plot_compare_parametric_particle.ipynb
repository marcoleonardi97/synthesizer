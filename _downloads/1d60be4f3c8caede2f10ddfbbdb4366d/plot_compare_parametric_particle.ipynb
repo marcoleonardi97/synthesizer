{
  "cells": [
    {
      "cell_type": "markdown",
      "metadata": {},
      "source": [
        "\n# Compare parametric and particle SEDs\n\nThis example compares a sampled and binned (parametric) SED for different\nnumbers of particles\n"
      ]
    },
    {
      "cell_type": "code",
      "execution_count": null,
      "metadata": {
        "collapsed": false
      },
      "outputs": [],
      "source": [
        "import numpy as np\nimport matplotlib.pyplot as plt\nfrom unyt import Myr\n\nfrom synthesizer.grid import Grid\nfrom synthesizer.parametric import SFH, ZDist\nfrom synthesizer.parametric import Stars as ParametricStars\nfrom synthesizer.particle.stars import sample_sfhz\nfrom synthesizer.parametric.galaxy import Galaxy as ParametricGalaxy\nfrom synthesizer.particle.galaxy import Galaxy as ParticleGalaxy\n\n\n# Define the grid\ngrid_name = \"test_grid\"\ngrid_dir = \"../../tests/test_grid/\"\ngrid = Grid(grid_name, grid_dir=grid_dir)\n\n# Define the SFH and metallicity distribution\nZ_p = {\"metallicity\": 0.01}\nmetal_dist = ZDist.DeltaConstant(**Z_p)\nsfh_p = {\"duration\": 100 * Myr}\nsfh = SFH.Constant(**sfh_p)\n\n# Define the parametric stars\nsfzh = ParametricStars(\n    grid.log10age,\n    grid.metallicity,\n    sf_hist=sfh,\n    metal_dist=metal_dist,\n    initial_mass=1,\n)\n\n# Compute the parametric sed\nparametric_galaxy = ParametricGalaxy(sfzh)\nparametric_galaxy.stars.get_spectra_incident(grid)\nsed = parametric_galaxy.stars.spectra[\"incident\"]\nplt.plot(\n    np.log10(sed.lam),\n    np.log10(sed.lnu),\n    label=\"parametric\",\n    lw=4,\n    c=\"k\",\n    alpha=0.3,\n)\n\n\n# Compute the particle Sed for a range of particle samples\nfor nstar in [1, 10, 100, 1000]:\n    # Get the stars object\n    stars = sample_sfhz(\n        sfzh.sfzh,\n        sfzh.log10ages,\n        sfzh.log10metallicities,\n        nstar,\n        initial_mass=1 / nstar,\n    )\n\n    # Get the particle galaxy\n    particle_galaxy = ParticleGalaxy(stars=stars)\n\n    # Calculate the stars SEDs using nearest grid point\n    ngp_sed = particle_galaxy.stars.get_spectra_incident(\n        grid, grid_assignment_method=\"ngp\"\n    )\n\n    plt.plot(\n        np.log10(ngp_sed.lam),\n        np.log10(ngp_sed.lnu),\n        label=f\"particle (N={nstar})\",\n    )\n\n\nplt.legend()\nplt.xlim([2, 5])\nplt.ylim([18, 22])\nplt.show()"
      ]
    }
  ],
  "metadata": {
    "kernelspec": {
      "display_name": "Python 3",
      "language": "python",
      "name": "python3"
    },
    "language_info": {
      "codemirror_mode": {
        "name": "ipython",
        "version": 3
      },
      "file_extension": ".py",
      "mimetype": "text/x-python",
      "name": "python",
      "nbconvert_exporter": "python",
      "pygments_lexer": "ipython3",
      "version": "3.10.13"
    }
  },
  "nbformat": 4,
  "nbformat_minor": 0
}