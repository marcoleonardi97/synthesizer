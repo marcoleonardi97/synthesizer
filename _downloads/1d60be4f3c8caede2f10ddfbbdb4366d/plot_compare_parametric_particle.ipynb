{
  "cells": [
    {
      "cell_type": "markdown",
      "metadata": {},
      "source": [
        "\n# Compare parametric and particle SEDs\n\nThis example compares a sampled and binned (parametric) SED for different numbers of particles\n"
      ]
    },
    {
      "cell_type": "code",
      "execution_count": null,
      "metadata": {
        "collapsed": false
      },
      "outputs": [],
      "source": [
        "import os\nimport numpy as np\nimport matplotlib.pyplot as plt\nfrom unyt import yr, Myr\n\nfrom synthesizer.grid import Grid\nfrom synthesizer.parametric.sfzh import SFH, ZH, generate_sfzh\nfrom synthesizer.particle.stars import sample_sfhz\nfrom synthesizer.particle.stars import Stars\nfrom synthesizer.parametric.galaxy import Galaxy as ParametricGalaxy\nfrom synthesizer.particle.galaxy import Galaxy as ParticleGalaxy\n\n\n# --- initialise the SPS grid\n# grid_name = 'bpass-v2.2.1-bin_chab-100_cloudy-v17.03_log10Uref-2'\n# grid = Grid(grid_name)\n\n# Get the location of this script, __file__ is the absolute path of this\n# script, however we just want to directory\n# script_path = os.path.abspath(os.path.dirname(__file__))\n\n# Define the grid\ngrid_name = \"test_grid\"\ngrid_dir = \"../../tests/test_grid/\"\ngrid = Grid(grid_name, grid_dir=grid_dir)\n\n# --- define the binned (parametric star formation history)\n\nZ_p = {\"Z\": 0.01}\nZh = ZH.deltaConstant(Z_p)\nsfh_p = {\"duration\": 100 * Myr}\nsfh = SFH.Constant(sfh_p)  # constant star formation\nsfzh = generate_sfzh(grid.log10age, grid.metallicity, sfh, Zh)\n\n\n# --------------------------------------------\n# CREATE PARAMETRIC SED\n\nparametric_galaxy = ParametricGalaxy(sfzh)\nparametric_galaxy.get_spectra_incident(grid)\nsed = parametric_galaxy.spectra[\"incident\"]\nplt.plot(\n    np.log10(sed.lam), np.log10(sed.lnu), label=\"parametric\", lw=4, c=\"k\", alpha=0.3\n)\n\n\n# --------------------------------------------\n# CREATE PARTICLE SED\n\nfor N in [1, 10, 100, 1000]:\n    # --- create stars object\n    stars = sample_sfhz(sfzh, N)\n    # ensure that the total mass = 1 irrespective of N. This can be also acheived by setting the mass of the star particles in sample_sfhz but this will be easier most of the time.\n    stars.renormalise_mass(1.0)\n\n    # --- create galaxy object\n    particle_galaxy = ParticleGalaxy(stars=stars)\n\n    # --- this generates stellar and intrinsic spectra\n    # particle_galaxy.generate_spectra(grid, fesc=0.0, integrated=True)\n\n    # Calculate the stars SEDs\n    particle_galaxy.get_spectra_incident(grid)\n\n    sed = particle_galaxy.spectra[\"incident\"]\n    plt.plot(np.log10(sed.lam), np.log10(sed.lnu), label=f\"particle (N={N})\")\n\n\nplt.legend()\nplt.xlim([2, 5])\nplt.ylim([10, 22])\n# plt.savefig(script_path + '/plots/compare_parametric_particle.png', dpi=200, bbox_inches='tight'); plt.close()\nplt.show()"
      ]
    }
  ],
  "metadata": {
    "kernelspec": {
      "display_name": "Python 3",
      "language": "python",
      "name": "python3"
    },
    "language_info": {
      "codemirror_mode": {
        "name": "ipython",
        "version": 3
      },
      "file_extension": ".py",
      "mimetype": "text/x-python",
      "name": "python",
      "nbconvert_exporter": "python",
      "pygments_lexer": "ipython3",
      "version": "3.10.12"
    }
  },
  "nbformat": 4,
  "nbformat_minor": 0
}