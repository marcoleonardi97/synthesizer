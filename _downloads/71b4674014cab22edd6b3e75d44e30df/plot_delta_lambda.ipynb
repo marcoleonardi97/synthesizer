{
  "cells": [
    {
      "cell_type": "markdown",
      "metadata": {},
      "source": [
        "\n# Plot delta_lambda for a grid.\n\nThis script demonstrates how to generate delta_lambda from a provided grid.\nIt includes the following steps:\n- Builds a parametric galaxy using make_sfzh.\n- Retrieves delta_lambda for the galaxy using the grid.\n"
      ]
    },
    {
      "cell_type": "code",
      "execution_count": null,
      "metadata": {
        "collapsed": false
      },
      "outputs": [],
      "source": [
        "import matplotlib.pyplot as plt\nimport numpy as np\nfrom unyt import Myr\n\nfrom synthesizer.emission_models import IncidentEmission\nfrom synthesizer.grid import Grid\nfrom synthesizer.parametric import SFH, Stars, ZDist\nfrom synthesizer.parametric.galaxy import Galaxy\n\nif __name__ == \"__main__\":\n    # Define the grid\n    grid_name = \"test_grid\"\n    grid_dir = \"../../tests/test_grid/\"\n    grid = Grid(grid_name, grid_dir=grid_dir)\n\n    # Define the emission model\n    model = IncidentEmission(grid)\n\n    # define the parameters of the star formation and metal enrichment\n    # histories\n    sfh_p = {\"max_age\": 10 * Myr}\n    Z_p = {\n        \"log10metallicity\": -2.0\n    }  # can also use linear metallicity e.g. {'Z': 0.01}\n    stellar_mass = 1e8\n\n    # define the functional form of the star formation and metal enrichment\n    # histories\n    sfh = SFH.Constant(**sfh_p)  # constant star formation\n    metal_dist = ZDist.DeltaConstant(**Z_p)  # constant metallicity\n\n    # get the 2D star formation and metal enrichment history for the given SPS\n    # grid. This is (age, Z).\n    stars = Stars(\n        grid.log10age,\n        grid.metallicity,\n        sf_hist=sfh,\n        metal_dist=metal_dist,\n        initial_mass=stellar_mass,\n    )\n\n    # Define redshift\n    z = 10.0\n\n    # create a galaxy object\n    galaxy = Galaxy(stars, redshift=z)\n\n    # Delta lambda model for pure stellar spectra\n    galaxy.stars.get_spectra(model)\n    lam, delta_lam = Grid.get_delta_lambda(grid)\n    print(\"Mean delta: \", np.mean(delta_lam))\n\n    figsize = (10, 5)\n\n    fig = plt.figure(figsize=figsize)\n\n    left = 0.15\n    height = 0.6\n    bottom = 0.1\n    width = 0.8\n\n    ax = fig.add_axes((left, bottom, width, height))\n\n    ypeak = np.min(delta_lam)\n    ylimits = np.mean(delta_lam)\n\n    ax.plot(np.log10(lam)[:-1], delta_lam, lw=1, alpha=0.8, label=grid_name)\n\n    xlim = [2.6, 4.2]\n    ylim = [ypeak - ylimits, ypeak + ylimits]\n\n    ax.set_xlim(xlim)\n    ax.set_ylim(ylim)\n\n    ax.legend(fontsize=8, labelspacing=0.0)\n    ax.set_xlabel(r\"$\\rm log_{10}(\\lambda/\\AA)$\")\n    ax.set_ylabel(r\"$\\rm \u0394(\\lambda/\\AA)$\")\n\n    plt.show()"
      ]
    }
  ],
  "metadata": {
    "kernelspec": {
      "display_name": "Python 3",
      "language": "python",
      "name": "python3"
    },
    "language_info": {
      "codemirror_mode": {
        "name": "ipython",
        "version": 3
      },
      "file_extension": ".py",
      "mimetype": "text/x-python",
      "name": "python",
      "nbconvert_exporter": "python",
      "pygments_lexer": "ipython3",
      "version": "3.10.15"
    }
  },
  "nbformat": 4,
  "nbformat_minor": 0
}