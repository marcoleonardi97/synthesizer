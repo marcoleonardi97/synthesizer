{
 "cells": [
  {
   "cell_type": "markdown",
   "metadata": {},
   "source": [
    "# Line of Sight Calculations\n",
    "\n",
    "For particle `Galaxies` its possible to compute line of sight column densities from the particle distribtions. These line of sight calculations will compute the line of sight column density for one particle component based on another. In this example we will show how to compute the column density of the gas component from the perspective of the star particles.\n",
    "\n",
    "Before demonstrating this we need to generate a galaxy to demonstrate with."
   ]
  },
  {
   "cell_type": "code",
   "execution_count": 1,
   "metadata": {
    "execution": {
     "iopub.execute_input": "2024-09-27T08:49:30.790051Z",
     "iopub.status.busy": "2024-09-27T08:49:30.789853Z",
     "iopub.status.idle": "2024-09-27T08:49:33.222416Z",
     "shell.execute_reply": "2024-09-27T08:49:33.221679Z"
    }
   },
   "outputs": [
    {
     "name": "stderr",
     "output_type": "stream",
     "text": [
      "/home/runner/work/synthesizer/synthesizer/src/synthesizer/particle/galaxy.py:120: RuntimeWarning: Star forming gas particle mask not provided, setting sf_gas_mass and sf_gas_metallicity to `None`\n",
      "  self.calculate_integrated_gas_properties()\n"
     ]
    }
   ],
   "source": [
    "import matplotlib.pyplot as plt\n",
    "import numpy as np\n",
    "from scipy.spatial import cKDTree\n",
    "from unyt import Myr\n",
    "\n",
    "from synthesizer.kernel_functions import Kernel\n",
    "from synthesizer.parametric import SFH, ZDist\n",
    "from synthesizer.parametric import Stars as ParametricStars\n",
    "from synthesizer.particle import BlackHoles, Galaxy\n",
    "from synthesizer.particle.gas import Gas\n",
    "from synthesizer.particle.particles import CoordinateGenerator\n",
    "from synthesizer.particle.stars import sample_sfhz\n",
    "\n",
    "\n",
    "def calculate_smoothing_lengths(positions, num_neighbors=56):\n",
    "    \"\"\"Calculate the SPH smoothing lengths for a set of coordinates.\"\"\"\n",
    "    tree = cKDTree(positions)\n",
    "    distances, _ = tree.query(positions, k=num_neighbors + 1)\n",
    "\n",
    "    # The k-th nearest neighbor distance (k = num_neighbors)\n",
    "    kth_distances = distances[:, num_neighbors]\n",
    "\n",
    "    # Set the smoothing length to the k-th nearest neighbor\n",
    "    # distance divided by 2.0\n",
    "    smoothing_lengths = kth_distances / 2.0\n",
    "\n",
    "    return smoothing_lengths\n",
    "\n",
    "\n",
    "# Define the grid (normally this would be defined by an SPS grid)\n",
    "log10ages = np.arange(6.0, 10.5, 0.1)\n",
    "metallicities = 10 ** np.arange(-5.0, -1.5, 0.1)\n",
    "Z_p = {\"metallicity\": 0.01}\n",
    "metal_dist = ZDist.DeltaConstant(**Z_p)\n",
    "sfh_p = {\"max_age\": 100 * Myr}\n",
    "sfh = SFH.Constant(**sfh_p)  # constant star formation\n",
    "\n",
    "\n",
    "# Generate the star formation metallicity history\n",
    "mass = 10**10\n",
    "param_stars = ParametricStars(\n",
    "    log10ages,\n",
    "    metallicities,\n",
    "    sf_hist=sfh,\n",
    "    metal_dist=metal_dist,\n",
    "    initial_mass=mass,\n",
    ")\n",
    "\n",
    "# Define the number of particles\n",
    "nstars = 1000\n",
    "ngas = 10000\n",
    "\n",
    "# Generate some random coordinates\n",
    "coords = CoordinateGenerator.generate_3D_gaussian(nstars)\n",
    "\n",
    "# Calculate the smoothing lengths\n",
    "smls = calculate_smoothing_lengths(coords)\n",
    "\n",
    "# Sample the parametric SFZH, producing a particle Stars object\n",
    "# we will also pass some keyword arguments for some example attributes\n",
    "part_stars = sample_sfhz(\n",
    "    sfzh=param_stars.sfzh,\n",
    "    log10ages=param_stars.log10ages,\n",
    "    log10metallicities=param_stars.log10metallicities,\n",
    "    coordinates=coords,\n",
    "    smoothing_lengths=smls,\n",
    "    nstar=nstars,\n",
    "    current_masses=np.full(nstars, 10**8.7 / nstars),\n",
    "    redshift=1,\n",
    ")\n",
    "\n",
    "# Make fake properties\n",
    "n = 4\n",
    "masses = 10 ** np.random.uniform(low=7, high=9, size=n)  # Msun\n",
    "coordinates = np.random.normal(0, 1.5, (n, 3))  # cMpc\n",
    "accretion_rates = 10 ** np.random.uniform(\n",
    "    low=-2, high=1, size=n\n",
    ")  # Msun  # Msun / yr\n",
    "metallicities = np.full(n, 0.01)\n",
    "\n",
    "# And get the black holes object\n",
    "blackholes = BlackHoles(\n",
    "    masses=masses,\n",
    "    coordinates=coordinates,\n",
    "    accretion_rates=accretion_rates,\n",
    "    metallicities=metallicities,\n",
    ")\n",
    "\n",
    "# Generate some random coordinates\n",
    "coords = CoordinateGenerator.generate_3D_gaussian(ngas)\n",
    "\n",
    "# Calculate the smoothing lengths\n",
    "smls = calculate_smoothing_lengths(coords)\n",
    "\n",
    "gas = Gas(\n",
    "    masses=np.random.uniform(10**6, 10**6.5, ngas),\n",
    "    metallicities=np.random.uniform(0.01, 0.05, ngas),\n",
    "    coordinates=coords,\n",
    "    smoothing_lengths=smls,\n",
    "    dust_to_metal_ratio=0.2,\n",
    ")\n",
    "\n",
    "# And create the galaxy\n",
    "galaxy = Galaxy(\n",
    "    stars=part_stars,\n",
    "    gas=gas,\n",
    "    black_holes=blackholes,\n",
    "    redshift=1,\n",
    ")\n",
    "\n",
    "kernel = Kernel().get_kernel()"
   ]
  },
  {
   "cell_type": "markdown",
   "metadata": {},
   "source": [
    "## Atrbitrary column densities\n",
    "\n",
    "If we want the gas column density for the stellar component we can call `stars.get_los_column_density` with the gas component as the argument. This method requires a string giving the name of the attribute to use for the column density, here we'll use the gas ``\"masses\"``, and also requires an SPH kernel to describe the gas particles (defined in the ``synthesizer.kernel_functions`` module)."
   ]
  },
  {
   "cell_type": "code",
   "execution_count": 2,
   "metadata": {
    "execution": {
     "iopub.execute_input": "2024-09-27T08:49:33.225017Z",
     "iopub.status.busy": "2024-09-27T08:49:33.224705Z",
     "iopub.status.idle": "2024-09-27T08:49:33.234418Z",
     "shell.execute_reply": "2024-09-27T08:49:33.233765Z"
    }
   },
   "outputs": [],
   "source": [
    "metal_col_density = galaxy.stars.get_los_column_density(\n",
    "    galaxy.gas,\n",
    "    \"masses\",\n",
    "    kernel=kernel,\n",
    ")"
   ]
  },
  {
   "cell_type": "markdown",
   "metadata": {},
   "source": [
    "This will return an array of the column densities for each star particle. Note, that this does not attach the column density to the component or galaxy. Lets plot a histogram to see what we got."
   ]
  },
  {
   "cell_type": "code",
   "execution_count": 3,
   "metadata": {
    "execution": {
     "iopub.execute_input": "2024-09-27T08:49:33.236649Z",
     "iopub.status.busy": "2024-09-27T08:49:33.236187Z",
     "iopub.status.idle": "2024-09-27T08:49:33.383398Z",
     "shell.execute_reply": "2024-09-27T08:49:33.382721Z"
    }
   },
   "outputs": [
    {
     "data": {
      "image/png": "[encoded data removed]",
      "text/plain": [
       "<Figure size 640x480 with 1 Axes>"
      ]
     },
     "metadata": {},
     "output_type": "display_data"
    }
   ],
   "source": [
    "fig, ax = plt.subplots()\n",
    "ax.hist(metal_col_density, bins=30, histtype=\"step\")\n",
    "ax.set_xlabel(\"Metal column density\")\n",
    "ax.set_ylabel(\"$N$\")\n",
    "plt.show()\n",
    "plt.close(fig)"
   ]
  },
  {
   "cell_type": "markdown",
   "metadata": {},
   "source": [
    "If instead we wanted the dust column density for the galaxies black holes we instead call `black_holes.get_los_column_density` with the gas component, ``\"dust_masses\"``, and the SPH kernel."
   ]
  },
  {
   "cell_type": "code",
   "execution_count": 4,
   "metadata": {
    "execution": {
     "iopub.execute_input": "2024-09-27T08:49:33.385777Z",
     "iopub.status.busy": "2024-09-27T08:49:33.385392Z",
     "iopub.status.idle": "2024-09-27T08:49:33.389483Z",
     "shell.execute_reply": "2024-09-27T08:49:33.388938Z"
    }
   },
   "outputs": [
    {
     "name": "stdout",
     "output_type": "stream",
     "text": [
      "[5362489.69338226  114765.95263332 6678301.17350153 1827192.97041679]\n"
     ]
    }
   ],
   "source": [
    "dust_bh_col_density = galaxy.black_holes.get_los_column_density(\n",
    "    galaxy.gas,\n",
    "    \"dust_masses\",\n",
    "    kernel=kernel,\n",
    ")\n",
    "print(dust_bh_col_density)"
   ]
  },
  {
   "cell_type": "markdown",
   "metadata": {},
   "source": [
    "## Line of sight optical depth\n",
    "\n",
    "A special case of line of sight column density calculation is the calculation of line of sight optical depths (as described in (Vijayan+20)[https://ui.adsabs.harvard.edu/abs/2021MNRAS.501.3289V/abstract]). These compute the line of sight optical depth based on the dust column density along the line of sight of an emitting particle. \n",
    "\n",
    "A galaxy contains ``get_stellar_los_tau_v`` and ``get_black_hole_los_tau_v`` methods for these calculations for stellar and black hole optical depths respectively. Unlike the arbitrary column densities, these methods will attach the optical depth to the component under the ``tau_v`` attribute as well as returning the optical depths. These methods require the dust opacity (``kappa``) and an SPH kernel. Below we demonstrate how to compute the optical depth for both galaxy components.\n",
    "\n"
   ]
  },
  {
   "cell_type": "code",
   "execution_count": 5,
   "metadata": {
    "execution": {
     "iopub.execute_input": "2024-09-27T08:49:33.391602Z",
     "iopub.status.busy": "2024-09-27T08:49:33.391205Z",
     "iopub.status.idle": "2024-09-27T08:49:33.667236Z",
     "shell.execute_reply": "2024-09-27T08:49:33.666642Z"
    }
   },
   "outputs": [
    {
     "data": {
      "image/png": "[encoded data removed]",
      "text/plain": [
       "<Figure size 640x480 with 1 Axes>"
      ]
     },
     "metadata": {},
     "output_type": "display_data"
    }
   ],
   "source": [
    "stellar_tau_v = galaxy.get_stellar_los_tau_v(\n",
    "    kappa=0.07,\n",
    "    kernel=kernel,\n",
    ")\n",
    "bh_tau_v = galaxy.get_black_hole_los_tau_v(\n",
    "    kappa=0.07,\n",
    "    kernel=kernel,\n",
    ")\n",
    "\n",
    "fig, ax = plt.subplots()\n",
    "ax.hist(stellar_tau_v, bins=30, histtype=\"step\", label=\"Stars\")\n",
    "ax.hist(bh_tau_v, bins=30, histtype=\"step\", label=\"BHs\")\n",
    "ax.set_xlabel(\"Optical Depths\")\n",
    "ax.set_ylabel(\"$N$\")\n",
    "ax.set_yscale(\"log\")\n",
    "ax.legend()\n",
    "plt.show()\n",
    "plt.close(fig)"
   ]
  }
 ],
 "metadata": {
  "language_info": {
   "codemirror_mode": {
    "name": "ipython",
    "version": 3
   },
   "file_extension": ".py",
   "mimetype": "text/x-python",
   "name": "python",
   "nbconvert_exporter": "python",
   "pygments_lexer": "ipython3",
   "version": "3.10.15"
  }
 },
 "nbformat": 4,
 "nbformat_minor": 2
}
