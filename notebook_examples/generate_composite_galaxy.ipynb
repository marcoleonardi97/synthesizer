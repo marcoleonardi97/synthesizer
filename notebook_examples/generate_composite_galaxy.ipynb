{
 "cells": [
  {
   "attachments": {},
   "cell_type": "markdown",
   "id": "ba211680-a2c0-4f33-a431-4ff581c251b5",
   "metadata": {},
   "source": [
    "# Generate composite galaxy\n",
    "\n",
    "Finall, in this example we're going to demonstrate how to make a composite galaxy, including with imaging. For more information on defining parametric morphology see the Imaging examples."
   ]
  },
  {
   "cell_type": "code",
   "execution_count": 1,
   "id": "2a773383-be4c-49d8-9baf-a04d84dba68b",
   "metadata": {
    "execution": {
     "iopub.execute_input": "2024-10-09T10:04:20.320033Z",
     "iopub.status.busy": "2024-10-09T10:04:20.319463Z",
     "iopub.status.idle": "2024-10-09T10:04:22.102851Z",
     "shell.execute_reply": "2024-10-09T10:04:22.102161Z"
    }
   },
   "outputs": [],
   "source": [
    "import matplotlib.pyplot as plt\n",
    "import numpy as np\n",
    "from unyt import Myr, kpc, angstrom, Msun\n",
    "\n",
    "from synthesizer.emission_models import IncidentEmission\n",
    "from synthesizer.filters import UVJ\n",
    "from synthesizer.grid import Grid\n",
    "from synthesizer.parametric import SFH, Stars, ZDist\n",
    "from synthesizer.parametric.galaxy import Galaxy\n",
    "from synthesizer.parametric.morphology import Sersic2D"
   ]
  },
  {
   "attachments": {},
   "cell_type": "markdown",
   "id": "903fea3f",
   "metadata": {},
   "source": [
    "Let's begin by defining the geometry of the images:"
   ]
  },
  {
   "cell_type": "code",
   "execution_count": 2,
   "id": "fa6d1c47-e456-43c4-ae77-e3c8811b636d",
   "metadata": {
    "execution": {
     "iopub.execute_input": "2024-10-09T10:04:22.105704Z",
     "iopub.status.busy": "2024-10-09T10:04:22.105053Z",
     "iopub.status.idle": "2024-10-09T10:04:22.108539Z",
     "shell.execute_reply": "2024-10-09T10:04:22.108002Z"
    }
   },
   "outputs": [],
   "source": [
    "# Define geometry of the images\n",
    "resolution = 0.1 * kpc  # resolution in kpc\n",
    "npix = 50\n",
    "fov = resolution * npix"
   ]
  },
  {
   "attachments": {},
   "cell_type": "markdown",
   "id": "3eb9117b",
   "metadata": {},
   "source": [
    "And initialising the `Grid` object:"
   ]
  },
  {
   "cell_type": "code",
   "execution_count": 3,
   "id": "3ae48d36",
   "metadata": {
    "execution": {
     "iopub.execute_input": "2024-10-09T10:04:22.110799Z",
     "iopub.status.busy": "2024-10-09T10:04:22.110304Z",
     "iopub.status.idle": "2024-10-09T10:04:22.668412Z",
     "shell.execute_reply": "2024-10-09T10:04:22.667681Z"
    }
   },
   "outputs": [],
   "source": [
    "grid_dir = \"../../../tests/test_grid\"\n",
    "grid_name = \"test_grid\"\n",
    "grid = Grid(grid_name, grid_dir=grid_dir, new_lam=np.logspace(3, 4.2, 1000) * angstrom)"
   ]
  },
  {
   "attachments": {},
   "cell_type": "markdown",
   "id": "68b78fad",
   "metadata": {},
   "source": [
    "And initialising a `FilterCollection`, in this case the rest-frame UVJ filters."
   ]
  },
  {
   "cell_type": "code",
   "execution_count": 4,
   "id": "2662abe8",
   "metadata": {
    "execution": {
     "iopub.execute_input": "2024-10-09T10:04:22.671125Z",
     "iopub.status.busy": "2024-10-09T10:04:22.670726Z",
     "iopub.status.idle": "2024-10-09T10:04:22.678801Z",
     "shell.execute_reply": "2024-10-09T10:04:22.678148Z"
    }
   },
   "outputs": [],
   "source": [
    "filters = UVJ(new_lam=grid.lam)"
   ]
  },
  {
   "attachments": {},
   "cell_type": "markdown",
   "id": "86fd926d-fe81-4b44-9b18-56b0e05f2fc7",
   "metadata": {},
   "source": [
    "## Disk\n",
    "\n",
    "Let's now build the disk component of our composite galaxy."
   ]
  },
  {
   "attachments": {},
   "cell_type": "markdown",
   "id": "e97b95bd",
   "metadata": {},
   "source": [
    "Starting by defining the morphology:"
   ]
  },
  {
   "cell_type": "code",
   "execution_count": 5,
   "id": "d9ccb893-b4e6-40cc-9559-48aaed45bf6f",
   "metadata": {
    "execution": {
     "iopub.execute_input": "2024-10-09T10:04:22.681034Z",
     "iopub.status.busy": "2024-10-09T10:04:22.680684Z",
     "iopub.status.idle": "2024-10-09T10:04:22.684056Z",
     "shell.execute_reply": "2024-10-09T10:04:22.683547Z"
    }
   },
   "outputs": [],
   "source": [
    "morph = Sersic2D(\n",
    "    r_eff=2.0 * kpc, sersic_index=1.0, ellipticity=0.5, theta=35.0\n",
    ")"
   ]
  },
  {
   "cell_type": "markdown",
   "id": "0315f5ba-8b69-4c11-bf9d-ea1acb28c741",
   "metadata": {},
   "source": [
    "Define the parameters of the star formation and metal enrichment histories"
   ]
  },
  {
   "cell_type": "code",
   "execution_count": 6,
   "id": "93205536-a548-474c-a898-77b6c5b5d121",
   "metadata": {
    "execution": {
     "iopub.execute_input": "2024-10-09T10:04:22.686252Z",
     "iopub.status.busy": "2024-10-09T10:04:22.685882Z",
     "iopub.status.idle": "2024-10-09T10:04:22.688933Z",
     "shell.execute_reply": "2024-10-09T10:04:22.688408Z"
    }
   },
   "outputs": [],
   "source": [
    "sfh_p = {\"max_age\": 10 * Myr}\n",
    "Z_p = {\n",
    "    \"log10metallicity\": -2.0\n",
    "}  # can also use linear metallicity e.g. {'Z': 0.01}\n",
    "stellar_mass = 10**9.5 * Msun"
   ]
  },
  {
   "cell_type": "markdown",
   "id": "36bb140c-76a9-48aa-b4a5-cbb21e182474",
   "metadata": {},
   "source": [
    "Define the functional form of the star formation and metal enrichment histories"
   ]
  },
  {
   "cell_type": "code",
   "execution_count": 7,
   "id": "d22e8b5b-38a3-4b51-b4ef-301c1cf332f5",
   "metadata": {
    "execution": {
     "iopub.execute_input": "2024-10-09T10:04:22.690816Z",
     "iopub.status.busy": "2024-10-09T10:04:22.690635Z",
     "iopub.status.idle": "2024-10-09T10:04:22.693808Z",
     "shell.execute_reply": "2024-10-09T10:04:22.693249Z"
    }
   },
   "outputs": [],
   "source": [
    "sfh = SFH.Constant(**sfh_p)  # constant star formation\n",
    "metal_dist = ZDist.DeltaConstant(**Z_p)  # constant metallicity"
   ]
  },
  {
   "cell_type": "markdown",
   "id": "a78f4ece-be0b-47c4-b9ee-3c6279dd6966",
   "metadata": {},
   "source": [
    "Get the 2D star formation and metal enrichment history for the given SPS grid. This is (age, Z)."
   ]
  },
  {
   "cell_type": "code",
   "execution_count": 8,
   "id": "3908a4b6-7d7b-486c-972f-6ba9524be96e",
   "metadata": {
    "execution": {
     "iopub.execute_input": "2024-10-09T10:04:22.695662Z",
     "iopub.status.busy": "2024-10-09T10:04:22.695450Z",
     "iopub.status.idle": "2024-10-09T10:04:22.706115Z",
     "shell.execute_reply": "2024-10-09T10:04:22.705592Z"
    }
   },
   "outputs": [],
   "source": [
    "stars = Stars(\n",
    "    grid.log10age,\n",
    "    grid.metallicity,\n",
    "    sf_hist=sfh,\n",
    "    metal_dist=metal_dist,\n",
    "    initial_mass=stellar_mass,\n",
    "    morphology=morph,\n",
    ")"
   ]
  },
  {
   "attachments": {},
   "cell_type": "markdown",
   "id": "5e835351-ed22-41d7-9c97-ea2824ec10eb",
   "metadata": {},
   "source": [
    "Initialise the Galaxy object, make an image and plot it. In this case, we can make a colour image using our UVJ filters:"
   ]
  },
  {
   "cell_type": "code",
   "execution_count": 9,
   "id": "4df2837c-42be-40f2-b14e-17ec4e440a91",
   "metadata": {
    "execution": {
     "iopub.execute_input": "2024-10-09T10:04:22.708256Z",
     "iopub.status.busy": "2024-10-09T10:04:22.707809Z",
     "iopub.status.idle": "2024-10-09T10:04:22.753237Z",
     "shell.execute_reply": "2024-10-09T10:04:22.752654Z"
    }
   },
   "outputs": [
    {
     "name": "stdout",
     "output_type": "stream",
     "text": [
      "+-------------------------------------------------------------------------------+\n",
      "|                                    GALAXY                                     |\n",
      "+---------------+---------------------------------------------------------------+\n",
      "| Attribute     | Value                                                         |\n",
      "+---------------+---------------------------------------------------------------+\n",
      "| galaxy_type   | 'Parametric'                                                  |\n",
      "+---------------+---------------------------------------------------------------+\n",
      "| stars         | <synthesizer.parametric.stars.Stars object at 0x7fc0483b2f80> |\n",
      "+---------------+---------------------------------------------------------------+\n",
      "| name          | 'parametric galaxy'                                           |\n",
      "+---------------+---------------------------------------------------------------+\n",
      "| sfzh (51, 13) | 0.00e+00 -> 5.84e+08 (Mean: 4.77e+06)                         |\n",
      "+---------------+---------------------------------------------------------------+\n"
     ]
    },
    {
     "data": {
      "image/png": "[encoded data removed]",
      "text/plain": [
       "<Figure size 640x480 with 1 Axes>"
      ]
     },
     "metadata": {},
     "output_type": "display_data"
    }
   ],
   "source": [
    "# Initialise Galaxy object\n",
    "disk = Galaxy(stars=stars)\n",
    "\n",
    "# Generate stellar spectra\n",
    "incident = IncidentEmission(grid)\n",
    "disk.stars.get_spectra(incident)\n",
    "\n",
    "# Get photometry\n",
    "disk.get_photo_lnu(filters)\n",
    "\n",
    "# Make images\n",
    "disk_img = disk.get_images_luminosity(\n",
    "    resolution=resolution,\n",
    "    fov=fov,\n",
    "    emission_model=incident,\n",
    ")\n",
    "\n",
    "print(disk)\n",
    "\n",
    "# Make and plot an rgb image\n",
    "disk_img.make_rgb_image(rgb_filters={\"R\": \"J\", \"G\": \"V\", \"B\": \"U\"})\n",
    "fig, ax, _ = disk_img.plot_rgb_image(show=True)"
   ]
  },
  {
   "cell_type": "markdown",
   "id": "ee40720d-c096-4093-9f25-a44773c505c4",
   "metadata": {},
   "source": [
    "## Bulge"
   ]
  },
  {
   "cell_type": "markdown",
   "id": "15192c1b",
   "metadata": {},
   "source": [
    "Lets do the same but make a Bulge this time to combine."
   ]
  },
  {
   "cell_type": "code",
   "execution_count": 10,
   "id": "be1f5e64-3561-46df-82e2-c7d3dcc1fbf3",
   "metadata": {
    "execution": {
     "iopub.execute_input": "2024-10-09T10:04:22.755457Z",
     "iopub.status.busy": "2024-10-09T10:04:22.755251Z",
     "iopub.status.idle": "2024-10-09T10:04:22.791419Z",
     "shell.execute_reply": "2024-10-09T10:04:22.790875Z"
    }
   },
   "outputs": [
    {
     "data": {
      "image/png": "[encoded data removed]",
      "text/plain": [
       "<Figure size 640x480 with 1 Axes>"
      ]
     },
     "metadata": {},
     "output_type": "display_data"
    }
   ],
   "source": [
    "# Define bulge morphology\n",
    "morph = Sersic2D(r_eff=0.5 * kpc, sersic_index=4.0)\n",
    "\n",
    "# Define the parameters of the star formation and metal enrichment histories\n",
    "stellar_mass = 10**9.2 * Msun\n",
    "stars = Stars(\n",
    "    grid.log10age,\n",
    "    grid.metallicity,\n",
    "    sf_hist=10.0 * Myr,\n",
    "    metal_dist=0.01,\n",
    "    morphology=morph,\n",
    "    initial_mass=stellar_mass,\n",
    ")\n",
    "\n",
    "# Get galaxy object\n",
    "bulge = Galaxy(stars=stars)\n",
    "\n",
    "# Get spectra\n",
    "bulge.stars.get_spectra(incident)\n",
    "\n",
    "# Get photometry\n",
    "bulge.get_photo_lnu(filters)\n",
    "\n",
    "# make images\n",
    "bulge_img = bulge.get_images_luminosity(\n",
    "    resolution=resolution,\n",
    "    fov=fov,\n",
    "    emission_model=incident,\n",
    ")\n",
    "\n",
    "# Make and plot an rgb image\n",
    "bulge_img.make_rgb_image(rgb_filters={\"R\": \"J\", \"G\": \"V\", \"B\": \"U\"})\n",
    "fig, ax, _ = bulge_img.plot_rgb_image(show=True)"
   ]
  },
  {
   "cell_type": "markdown",
   "id": "223f8dd2-c2df-4bf2-b1c4-c81ee2c17b97",
   "metadata": {},
   "source": [
    "## Total\n",
    "\n",
    "Finally we can combine the disk and bulge together to make a composite galaxy."
   ]
  },
  {
   "cell_type": "code",
   "execution_count": 11,
   "id": "5ef512d4-f3c2-4df0-a457-834a3796d8cc",
   "metadata": {
    "execution": {
     "iopub.execute_input": "2024-10-09T10:04:22.793637Z",
     "iopub.status.busy": "2024-10-09T10:04:22.793411Z",
     "iopub.status.idle": "2024-10-09T10:04:22.828619Z",
     "shell.execute_reply": "2024-10-09T10:04:22.828040Z"
    }
   },
   "outputs": [
    {
     "name": "stdout",
     "output_type": "stream",
     "text": [
      "+-------------------------------------------------------------------------------+\n",
      "|                                    GALAXY                                     |\n",
      "+---------------+---------------------------------------------------------------+\n",
      "| Attribute     | Value                                                         |\n",
      "+---------------+---------------------------------------------------------------+\n",
      "| galaxy_type   | 'Parametric'                                                  |\n",
      "+---------------+---------------------------------------------------------------+\n",
      "| stars         | <synthesizer.parametric.stars.Stars object at 0x7fbffb1b9900> |\n",
      "+---------------+---------------------------------------------------------------+\n",
      "| name          | 'parametric galaxy'                                           |\n",
      "+---------------+---------------------------------------------------------------+\n",
      "| sfzh (51, 13) | 0.00e+00 -> 1.91e+09 (Mean: 7.16e+06)                         |\n",
      "+---------------+---------------------------------------------------------------+\n"
     ]
    },
    {
     "data": {
      "image/png": "[encoded data removed]",
      "text/plain": [
       "<Figure size 640x480 with 1 Axes>"
      ]
     },
     "metadata": {},
     "output_type": "display_data"
    }
   ],
   "source": [
    "# Combine galaxy objects\n",
    "combined = disk + bulge\n",
    "\n",
    "print(combined)\n",
    "\n",
    "# Combine images\n",
    "total = disk_img + bulge_img\n",
    "\n",
    "# Make and plot an rgb image\n",
    "total.make_rgb_image(rgb_filters={\"R\": \"J\", \"G\": \"V\", \"B\": \"U\"})\n",
    "fig, ax, _ = total.plot_rgb_image(show=True)"
   ]
  },
  {
   "cell_type": "markdown",
   "id": "7d8cddec",
   "metadata": {},
   "source": [
    "And plot the spectra for good measure..."
   ]
  },
  {
   "cell_type": "code",
   "execution_count": 12,
   "id": "b720c199",
   "metadata": {
    "execution": {
     "iopub.execute_input": "2024-10-09T10:04:22.830726Z",
     "iopub.status.busy": "2024-10-09T10:04:22.830529Z",
     "iopub.status.idle": "2024-10-09T10:04:23.233016Z",
     "shell.execute_reply": "2024-10-09T10:04:23.232271Z"
    }
   },
   "outputs": [
    {
     "data": {
      "image/png": "[encoded data removed]",
      "text/plain": [
       "<Figure size 600x500 with 1 Axes>"
      ]
     },
     "metadata": {},
     "output_type": "display_data"
    },
    {
     "data": {
      "text/plain": [
       "(<Figure size 600x500 with 1 Axes>,\n",
       " <Axes: xlabel='$\\\\lambda/[\\\\mathrm{\\\\AA}]$', ylabel='$L_{\\\\nu}/[\\\\mathrm{\\\\rm{erg} \\\\ / \\\\ \\\\rm{Hz \\\\cdot \\\\rm{s}}}]$'>)"
      ]
     },
     "execution_count": 12,
     "metadata": {},
     "output_type": "execute_result"
    }
   ],
   "source": [
    "from synthesizer.sed import plot_spectra\n",
    "\n",
    "plot_spectra(\n",
    "    spectra={\"Combined\": combined.stars.spectra[\"incident\"], \"Disk\": disk.stars.spectra[\"incident\"], \"Bulge\": bulge.stars.spectra[\"incident\"],},\n",
    "    show=True,\n",
    "    ylimits=(10**29., 10**31.),\n",
    "    xlimits=(900, 10**4.3),\n",
    "    figsize=(6, 5)\n",
    ")"
   ]
  }
 ],
 "metadata": {
  "language_info": {
   "codemirror_mode": {
    "name": "ipython",
    "version": 3
   },
   "file_extension": ".py",
   "mimetype": "text/x-python",
   "name": "python",
   "nbconvert_exporter": "python",
   "pygments_lexer": "ipython3",
   "version": "3.10.15"
  }
 },
 "nbformat": 4,
 "nbformat_minor": 5
}
