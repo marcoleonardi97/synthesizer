{
 "cells": [
  {
   "attachments": {},
   "cell_type": "markdown",
   "metadata": {},
   "source": [
    "# Abundances\n",
    "\n",
    "Synthesizer can be used to generate abundance patterns, in total and for gas and dust individually, for a given metallicity, alpha ehancement, and arbitrary element scalings.\n",
    "\n",
    "At present this functionality is only utilised when creating cloudy input scripts. These scripts are used to calculate nebular line and continuum emission for a given incident spectral energy distribution and gas abundance pattern."
   ]
  },
  {
   "cell_type": "code",
   "execution_count": 1,
   "metadata": {
    "execution": {
     "iopub.execute_input": "2024-10-17T21:22:02.299516Z",
     "iopub.status.busy": "2024-10-17T21:22:02.298966Z",
     "iopub.status.idle": "2024-10-17T21:22:04.040219Z",
     "shell.execute_reply": "2024-10-17T21:22:04.039502Z"
    }
   },
   "outputs": [],
   "source": [
    "import matplotlib.pyplot as plt\n",
    "import numpy as np\n",
    "\n",
    "from synthesizer.abundances import (\n",
    "    Abundances,\n",
    "    abundance_scalings,\n",
    "    depletion_models,\n",
    "    plot_abundance_pattern,\n",
    "    plot_multiple_abundance_patterns,\n",
    "    reference_abundance_patterns,\n",
    ")"
   ]
  },
  {
   "attachments": {},
   "cell_type": "markdown",
   "metadata": {},
   "source": [
    "by default initialising `Abundances` creates a solar abundance pattern with no depletion. The default solar abundance pattern is Asplund et al. (2009), though this can be changed if desired. "
   ]
  },
  {
   "cell_type": "code",
   "execution_count": 2,
   "metadata": {
    "execution": {
     "iopub.execute_input": "2024-10-17T21:22:04.042922Z",
     "iopub.status.busy": "2024-10-17T21:22:04.042621Z",
     "iopub.status.idle": "2024-10-17T21:22:04.049226Z",
     "shell.execute_reply": "2024-10-17T21:22:04.048611Z"
    }
   },
   "outputs": [
    {
     "data": {
      "text/plain": [
       "True"
      ]
     },
     "execution_count": 2,
     "metadata": {},
     "output_type": "execute_result"
    }
   ],
   "source": [
    "a0 = Abundances()\n",
    "\n",
    "isinstance(Abundances, type)"
   ]
  },
  {
   "attachments": {},
   "cell_type": "markdown",
   "metadata": {},
   "source": [
    "like most synthesizer objects we can explore the important attributes of an object by using `print()`:"
   ]
  },
  {
   "cell_type": "code",
   "execution_count": 3,
   "metadata": {
    "execution": {
     "iopub.execute_input": "2024-10-17T21:22:04.079425Z",
     "iopub.status.busy": "2024-10-17T21:22:04.079008Z",
     "iopub.status.idle": "2024-10-17T21:22:04.082958Z",
     "shell.execute_reply": "2024-10-17T21:22:04.082395Z"
    }
   },
   "outputs": [
    {
     "name": "stdout",
     "output_type": "stream",
     "text": [
      "--------------------\n",
      "ABUNDANCE PATTERN SUMMARY\n",
      "X: 0.710\n",
      "Y: 0.275\n",
      "Z: 0.015\n",
      "Z/Z_ref: 1\n",
      "alpha: 0.000\n",
      "dust mass fraction: 0.0\n",
      "dust-to-metal ratio: 0.0\n",
      "----------\n",
      "Element          log10(X/H)       log10(X/H)+12    [X/H]            depletion        log10(X/H)_gas   log10(X/H)_dust \n",
      "hydrogen         0.00             12.00            0.00             1.00             0.00             -inf            \n",
      "helium           -1.01            10.99            0.08             1.00             -1.01            -inf            \n",
      "lithium          -8.70            3.30             0.02             1.00             -8.70            -inf            \n",
      "beryllium        -10.66           1.34             0.02             1.00             -10.66           -inf            \n",
      "boron            -9.17            2.83             0.02             1.00             -9.17            -inf            \n",
      "carbon           -3.56            8.44             0.02             1.00             -3.56            -inf            \n",
      "nitrogen         -4.19            7.81             0.02             1.00             -4.19            -inf            \n",
      "oxygen           -3.22            8.78             0.02             1.00             -3.22            -inf            \n",
      "fluorine         -7.54            4.46             0.02             1.00             -7.54            -inf            \n",
      "neon             -3.89            8.11             0.02             1.00             -3.89            -inf            \n",
      "sodium           -5.77            6.23             0.02             1.00             -5.77            -inf            \n",
      "magnesium        -4.42            7.58             0.02             1.00             -4.42            -inf            \n",
      "aluminium        -5.55            6.45             0.02             1.00             -5.55            -inf            \n",
      "silicon          -4.48            7.52             0.02             1.00             -4.48            -inf            \n",
      "phosphorus       -6.57            5.43             0.02             1.00             -6.57            -inf            \n",
      "sulphur          -4.86            7.14             0.02             1.00             -4.86            -inf            \n",
      "chlorine         -6.73            5.27             0.02             1.00             -6.73            -inf            \n",
      "argon            -5.58            6.42             0.02             1.00             -5.58            -inf            \n",
      "potassium        -6.94            5.06             0.02             1.00             -6.94            -inf            \n",
      "calcium          -5.66            6.34             0.02             1.00             -5.66            -inf            \n",
      "scandium         -8.82            3.18             0.02             1.00             -8.82            -inf            \n",
      "titanium         -7.05            4.95             0.02             1.00             -7.05            -inf            \n",
      "vanadium         -8.09            3.91             0.02             1.00             -8.09            -inf            \n",
      "chromium         -6.36            5.64             0.02             1.00             -6.36            -inf            \n",
      "manganese        -6.56            5.44             0.02             1.00             -6.56            -inf            \n",
      "iron             -4.46            7.54             0.02             1.00             -4.46            -inf            \n",
      "cobalt           -7.05            4.95             0.02             1.00             -7.05            -inf            \n",
      "nickel           -5.78            6.22             0.02             1.00             -5.78            -inf            \n",
      "copper           -7.80            4.20             0.02             1.00             -7.80            -inf            \n",
      "zinc             -7.42            4.58             0.02             1.00             -7.42            -inf            \n",
      "--------------------\n"
     ]
    }
   ],
   "source": [
    "print(a0)"
   ]
  },
  {
   "attachments": {},
   "cell_type": "markdown",
   "metadata": {},
   "source": [
    "You can access the logarithmic abundances ($\\log_{10}(N_X/N_H)$) of an element like this:"
   ]
  },
  {
   "cell_type": "code",
   "execution_count": 4,
   "metadata": {
    "execution": {
     "iopub.execute_input": "2024-10-17T21:22:04.084986Z",
     "iopub.status.busy": "2024-10-17T21:22:04.084786Z",
     "iopub.status.idle": "2024-10-17T21:22:04.088012Z",
     "shell.execute_reply": "2024-10-17T21:22:04.087491Z"
    }
   },
   "outputs": [
    {
     "name": "stdout",
     "output_type": "stream",
     "text": [
      "log10(O/H): -3.22\n",
      "log10(O/H): -3.22\n"
     ]
    }
   ],
   "source": [
    "print(f\"log10(O/H): {a0.total['O']:.2f}\")\n",
    "print(f\"log10(O/H): {a0['O']:.2f}\")"
   ]
  },
  {
   "attachments": {},
   "cell_type": "markdown",
   "metadata": {},
   "source": [
    "## Solar abundance pattern\n",
    "\n",
    "As noted, there are several reference abundance patterns built into synthesizer. These can be accessed from `synthesizer.abundances.reference_abundance_patterns`:"
   ]
  },
  {
   "cell_type": "code",
   "execution_count": 5,
   "metadata": {
    "execution": {
     "iopub.execute_input": "2024-10-17T21:22:04.090113Z",
     "iopub.status.busy": "2024-10-17T21:22:04.089766Z",
     "iopub.status.idle": "2024-10-17T21:22:04.093695Z",
     "shell.execute_reply": "2024-10-17T21:22:04.093176Z"
    }
   },
   "outputs": [
    {
     "data": {
      "text/plain": [
       "['Asplund2009', 'GalacticConcordance', 'Gutkin2016']"
      ]
     },
     "execution_count": 5,
     "metadata": {},
     "output_type": "execute_result"
    }
   ],
   "source": [
    "reference_abundance_patterns.available_patterns"
   ]
  },
  {
   "cell_type": "code",
   "execution_count": 6,
   "metadata": {
    "execution": {
     "iopub.execute_input": "2024-10-17T21:22:04.095574Z",
     "iopub.status.busy": "2024-10-17T21:22:04.095224Z",
     "iopub.status.idle": "2024-10-17T21:22:04.099752Z",
     "shell.execute_reply": "2024-10-17T21:22:04.099186Z"
    }
   },
   "outputs": [
    {
     "data": {
      "text/plain": [
       "{'H': 0.0,\n",
       " 'He': -1.07,\n",
       " 'Li': -10.95,\n",
       " 'Be': -10.62,\n",
       " 'B': -9.3,\n",
       " 'C': -3.57,\n",
       " 'N': -4.17,\n",
       " 'O': -3.31,\n",
       " 'F': -7.44,\n",
       " 'Ne': -4.07,\n",
       " 'Na': -5.07,\n",
       " 'Mg': -4.4,\n",
       " 'Al': -5.55,\n",
       " 'Si': -4.49,\n",
       " 'P': -6.59,\n",
       " 'S': -4.88,\n",
       " 'Cl': -6.5,\n",
       " 'Ar': -5.6,\n",
       " 'K': -6.97,\n",
       " 'Ca': -5.66,\n",
       " 'Sc': -8.85,\n",
       " 'Ti': -7.05,\n",
       " 'V': -8.07,\n",
       " 'Cr': -6.36,\n",
       " 'Mn': -6.57,\n",
       " 'Fe': -4.5,\n",
       " 'Co': -7.01,\n",
       " 'Ni': -5.78,\n",
       " 'Cu': -7.81,\n",
       " 'Zn': -7.44}"
      ]
     },
     "execution_count": 6,
     "metadata": {},
     "output_type": "execute_result"
    }
   ],
   "source": [
    "reference = reference_abundance_patterns.Asplund2009()\n",
    "reference.ads\n",
    "reference.abundance"
   ]
  },
  {
   "cell_type": "code",
   "execution_count": 7,
   "metadata": {
    "execution": {
     "iopub.execute_input": "2024-10-17T21:22:04.101619Z",
     "iopub.status.busy": "2024-10-17T21:22:04.101402Z",
     "iopub.status.idle": "2024-10-17T21:22:04.104829Z",
     "shell.execute_reply": "2024-10-17T21:22:04.104302Z"
    }
   },
   "outputs": [
    {
     "name": "stdout",
     "output_type": "stream",
     "text": [
      "--------------------\n",
      "ABUNDANCE PATTERN SUMMARY\n",
      "X: 0.709\n",
      "Y: 0.276\n",
      "Z: 0.015\n",
      "Z/Z_ref: 1\n",
      "alpha: 0.000\n",
      "dust mass fraction: 0.0\n",
      "dust-to-metal ratio: 0.0\n",
      "----------\n",
      "Element          log10(X/H)       log10(X/H)+12    [X/H]            depletion        log10(X/H)_gas   log10(X/H)_dust \n",
      "hydrogen         0.00             12.00            0.00             1.00             0.00             -inf            \n",
      "helium           -1.01            10.99            -0.00            1.00             -1.01            -inf            \n",
      "lithium          -10.99           1.01             0.00             1.00             -10.99           -inf            \n",
      "beryllium        -10.63           1.37             0.00             1.00             -10.63           -inf            \n",
      "boron            -9.47            2.53             0.00             1.00             -9.47            -inf            \n",
      "carbon           -3.53            8.47             0.00             1.00             -3.53            -inf            \n",
      "nitrogen         -4.32            7.68             0.00             1.00             -4.32            -inf            \n",
      "oxygen           -3.17            8.83             0.00             1.00             -3.17            -inf            \n",
      "fluorine         -7.44            4.56             0.00             1.00             -7.44            -inf            \n",
      "neon             -4.01            7.99             0.00             1.00             -4.01            -inf            \n",
      "sodium           -5.70            6.30             0.00             1.00             -5.70            -inf            \n",
      "magnesium        -4.45            7.55             0.00             1.00             -4.45            -inf            \n",
      "aluminium        -5.56            6.44             0.00             1.00             -5.56            -inf            \n",
      "silicon          -4.48            7.52             0.00             1.00             -4.48            -inf            \n",
      "phosphorus       -6.57            5.43             0.00             1.00             -6.57            -inf            \n",
      "sulphur          -4.87            7.13             0.00             1.00             -4.87            -inf            \n",
      "chlorine         -6.53            5.47             0.00             1.00             -6.53            -inf            \n",
      "argon            -5.63            6.37             0.00             1.00             -5.63            -inf            \n",
      "potassium        -6.92            5.08             0.00             1.00             -6.92            -inf            \n",
      "calcium          -5.67            6.33             0.00             1.00             -5.67            -inf            \n",
      "scandium         -8.86            3.14             0.00             1.00             -8.86            -inf            \n",
      "titanium         -7.01            4.99             0.00             1.00             -7.01            -inf            \n",
      "vanadium         -8.03            3.97             0.00             1.00             -8.03            -inf            \n",
      "chromium         -6.36            5.64             0.00             1.00             -6.36            -inf            \n",
      "manganese        -6.64            5.36             0.00             1.00             -6.64            -inf            \n",
      "iron             -4.51            7.49             0.00             1.00             -4.51            -inf            \n",
      "cobalt           -7.11            4.89             0.00             1.00             -7.11            -inf            \n",
      "nickel           -5.78            6.22             0.00             1.00             -5.78            -inf            \n",
      "copper           -7.82            4.18             0.00             1.00             -7.82            -inf            \n",
      "zinc             -7.43            4.57             0.00             1.00             -7.43            -inf            \n",
      "--------------------\n"
     ]
    }
   ],
   "source": [
    "a1 = Abundances(reference=reference_abundance_patterns.Gutkin2016)\n",
    "print(a1)"
   ]
  },
  {
   "attachments": {},
   "cell_type": "markdown",
   "metadata": {},
   "source": [
    "Solar abundance classes can also be called using a string representation of the name."
   ]
  },
  {
   "cell_type": "code",
   "execution_count": 8,
   "metadata": {
    "execution": {
     "iopub.execute_input": "2024-10-17T21:22:04.107129Z",
     "iopub.status.busy": "2024-10-17T21:22:04.106669Z",
     "iopub.status.idle": "2024-10-17T21:22:04.110165Z",
     "shell.execute_reply": "2024-10-17T21:22:04.109622Z"
    }
   },
   "outputs": [
    {
     "name": "stdout",
     "output_type": "stream",
     "text": [
      "--------------------\n",
      "ABUNDANCE PATTERN SUMMARY\n",
      "X: 0.709\n",
      "Y: 0.276\n",
      "Z: 0.015\n",
      "Z/Z_ref: 1\n",
      "alpha: 0.000\n",
      "dust mass fraction: 0.0\n",
      "dust-to-metal ratio: 0.0\n",
      "----------\n",
      "Element          log10(X/H)       log10(X/H)+12    [X/H]            depletion        log10(X/H)_gas   log10(X/H)_dust \n",
      "hydrogen         0.00             12.00            0.00             1.00             0.00             -inf            \n",
      "helium           -1.01            10.99            -0.00            1.00             -1.01            -inf            \n",
      "lithium          -10.99           1.01             0.00             1.00             -10.99           -inf            \n",
      "beryllium        -10.63           1.37             0.00             1.00             -10.63           -inf            \n",
      "boron            -9.47            2.53             0.00             1.00             -9.47            -inf            \n",
      "carbon           -3.53            8.47             0.00             1.00             -3.53            -inf            \n",
      "nitrogen         -4.32            7.68             0.00             1.00             -4.32            -inf            \n",
      "oxygen           -3.17            8.83             0.00             1.00             -3.17            -inf            \n",
      "fluorine         -7.44            4.56             0.00             1.00             -7.44            -inf            \n",
      "neon             -4.01            7.99             0.00             1.00             -4.01            -inf            \n",
      "sodium           -5.70            6.30             0.00             1.00             -5.70            -inf            \n",
      "magnesium        -4.45            7.55             0.00             1.00             -4.45            -inf            \n",
      "aluminium        -5.56            6.44             0.00             1.00             -5.56            -inf            \n",
      "silicon          -4.48            7.52             0.00             1.00             -4.48            -inf            \n",
      "phosphorus       -6.57            5.43             0.00             1.00             -6.57            -inf            \n",
      "sulphur          -4.87            7.13             0.00             1.00             -4.87            -inf            \n",
      "chlorine         -6.53            5.47             0.00             1.00             -6.53            -inf            \n",
      "argon            -5.63            6.37             0.00             1.00             -5.63            -inf            \n",
      "potassium        -6.92            5.08             0.00             1.00             -6.92            -inf            \n",
      "calcium          -5.67            6.33             0.00             1.00             -5.67            -inf            \n",
      "scandium         -8.86            3.14             0.00             1.00             -8.86            -inf            \n",
      "titanium         -7.01            4.99             0.00             1.00             -7.01            -inf            \n",
      "vanadium         -8.03            3.97             0.00             1.00             -8.03            -inf            \n",
      "chromium         -6.36            5.64             0.00             1.00             -6.36            -inf            \n",
      "manganese        -6.64            5.36             0.00             1.00             -6.64            -inf            \n",
      "iron             -4.51            7.49             0.00             1.00             -4.51            -inf            \n",
      "cobalt           -7.11            4.89             0.00             1.00             -7.11            -inf            \n",
      "nickel           -5.78            6.22             0.00             1.00             -5.78            -inf            \n",
      "copper           -7.82            4.18             0.00             1.00             -7.82            -inf            \n",
      "zinc             -7.43            4.57             0.00             1.00             -7.43            -inf            \n",
      "--------------------\n"
     ]
    }
   ],
   "source": [
    "a1 = Abundances(reference=\"Gutkin2016\")\n",
    "print(a1)"
   ]
  },
  {
   "attachments": {},
   "cell_type": "markdown",
   "metadata": {},
   "source": [
    "## Metallicity\n",
    "\n",
    "We can specify a different metallicity. By default abundances are scaled from the Solar abundances provided through an optional argument (default Asplund et a. 2009). However, as we will see later, it is possible to set a different $\\alpha$-enhancement or set arbitrary element scalings."
   ]
  },
  {
   "cell_type": "code",
   "execution_count": 9,
   "metadata": {
    "execution": {
     "iopub.execute_input": "2024-10-17T21:22:04.112106Z",
     "iopub.status.busy": "2024-10-17T21:22:04.111914Z",
     "iopub.status.idle": "2024-10-17T21:22:04.115778Z",
     "shell.execute_reply": "2024-10-17T21:22:04.115231Z"
    }
   },
   "outputs": [
    {
     "name": "stdout",
     "output_type": "stream",
     "text": [
      "--------------------\n",
      "ABUNDANCE PATTERN SUMMARY\n",
      "X: 0.724\n",
      "Y: 0.266\n",
      "Z: 0.010\n",
      "Z/Z_ref: 0.67\n",
      "alpha: 0.000\n",
      "dust mass fraction: 0.0\n",
      "dust-to-metal ratio: 0.0\n",
      "----------\n",
      "Element          log10(X/H)       log10(X/H)+12    [X/H]            depletion        log10(X/H)_gas   log10(X/H)_dust \n",
      "hydrogen         0.00             12.00            0.00             1.00             0.00             -inf            \n",
      "helium           -1.04            10.96            0.05             1.00             -1.04            -inf            \n",
      "lithium          -8.89            3.11             -0.16            1.00             -8.89            -inf            \n",
      "beryllium        -10.84           1.16             -0.16            1.00             -10.84           -inf            \n",
      "boron            -9.36            2.64             -0.16            1.00             -9.36            -inf            \n",
      "carbon           -3.74            8.26             -0.16            1.00             -3.74            -inf            \n",
      "nitrogen         -4.37            7.63             -0.16            1.00             -4.37            -inf            \n",
      "oxygen           -3.40            8.60             -0.16            1.00             -3.40            -inf            \n",
      "fluorine         -7.72            4.28             -0.16            1.00             -7.72            -inf            \n",
      "neon             -4.07            7.93             -0.16            1.00             -4.07            -inf            \n",
      "sodium           -5.95            6.05             -0.16            1.00             -5.95            -inf            \n",
      "magnesium        -4.60            7.40             -0.16            1.00             -4.60            -inf            \n",
      "aluminium        -5.73            6.27             -0.16            1.00             -5.73            -inf            \n",
      "silicon          -4.66            7.34             -0.16            1.00             -4.66            -inf            \n",
      "phosphorus       -6.75            5.25             -0.16            1.00             -6.75            -inf            \n",
      "sulphur          -5.04            6.96             -0.16            1.00             -5.04            -inf            \n",
      "chlorine         -6.91            5.09             -0.16            1.00             -6.91            -inf            \n",
      "argon            -5.76            6.24             -0.16            1.00             -5.76            -inf            \n",
      "potassium        -7.12            4.88             -0.16            1.00             -7.12            -inf            \n",
      "calcium          -5.84            6.16             -0.16            1.00             -5.84            -inf            \n",
      "scandium         -9.00            3.00             -0.16            1.00             -9.00            -inf            \n",
      "titanium         -7.23            4.77             -0.16            1.00             -7.23            -inf            \n",
      "vanadium         -8.27            3.73             -0.16            1.00             -8.27            -inf            \n",
      "chromium         -6.54            5.46             -0.16            1.00             -6.54            -inf            \n",
      "manganese        -6.74            5.26             -0.16            1.00             -6.74            -inf            \n",
      "iron             -4.64            7.36             -0.16            1.00             -4.64            -inf            \n",
      "cobalt           -7.23            4.77             -0.16            1.00             -7.23            -inf            \n",
      "nickel           -5.96            6.04             -0.16            1.00             -5.96            -inf            \n",
      "copper           -7.98            4.02             -0.16            1.00             -7.98            -inf            \n",
      "zinc             -7.60            4.40             -0.16            1.00             -7.60            -inf            \n",
      "--------------------\n"
     ]
    }
   ],
   "source": [
    "a2 = Abundances(metallicity=0.01)\n",
    "print(a2)"
   ]
  },
  {
   "attachments": {},
   "cell_type": "markdown",
   "metadata": {},
   "source": [
    "## $\\alpha$-enhancement\n",
    "\n",
    "We can also generate abundance patterns assuming different $\\alpha$-enhancements. In this case it is necessary to re-scale the non-$\\alpha$ elements to recover the input metallicity."
   ]
  },
  {
   "cell_type": "code",
   "execution_count": 10,
   "metadata": {
    "execution": {
     "iopub.execute_input": "2024-10-17T21:22:04.117679Z",
     "iopub.status.busy": "2024-10-17T21:22:04.117466Z",
     "iopub.status.idle": "2024-10-17T21:22:04.121322Z",
     "shell.execute_reply": "2024-10-17T21:22:04.120757Z"
    }
   },
   "outputs": [
    {
     "name": "stdout",
     "output_type": "stream",
     "text": [
      "--------------------\n",
      "ABUNDANCE PATTERN SUMMARY\n",
      "X: 0.710\n",
      "Y: 0.275\n",
      "Z: 0.015\n",
      "Z/Z_ref: 1\n",
      "alpha: 0.600\n",
      "dust mass fraction: 0.0\n",
      "dust-to-metal ratio: 0.0\n",
      "----------\n",
      "Element          log10(X/H)       log10(X/H)+12    [X/H]            depletion        log10(X/H)_gas   log10(X/H)_dust \n",
      "hydrogen         0.00             12.00            0.00             1.00             0.00             -inf            \n",
      "helium           -1.01            10.99            0.08             1.00             -1.01            -inf            \n",
      "lithium          -9.19            2.81             -0.47            1.00             -9.19            -inf            \n",
      "beryllium        -11.15           0.85             -0.47            1.00             -11.15           -inf            \n",
      "boron            -9.66            2.34             -0.47            1.00             -9.66            -inf            \n",
      "carbon           -4.04            7.96             -0.47            1.00             -4.04            -inf            \n",
      "nitrogen         -4.68            7.32             -0.47            1.00             -4.68            -inf            \n",
      "oxygen           -3.11            8.89             0.13             1.00             -3.11            -inf            \n",
      "fluorine         -8.03            3.97             -0.47            1.00             -8.03            -inf            \n",
      "neon             -3.78            8.22             0.13             1.00             -3.78            -inf            \n",
      "sodium           -6.26            5.74             -0.47            1.00             -6.26            -inf            \n",
      "magnesium        -4.31            7.69             0.13             1.00             -4.31            -inf            \n",
      "aluminium        -6.04            5.96             -0.47            1.00             -6.04            -inf            \n",
      "silicon          -4.37            7.63             0.13             1.00             -4.37            -inf            \n",
      "phosphorus       -7.06            4.94             -0.47            1.00             -7.06            -inf            \n",
      "sulphur          -4.75            7.25             0.13             1.00             -4.75            -inf            \n",
      "chlorine         -7.22            4.78             -0.47            1.00             -7.22            -inf            \n",
      "argon            -5.47            6.53             0.13             1.00             -5.47            -inf            \n",
      "potassium        -7.43            4.57             -0.47            1.00             -7.43            -inf            \n",
      "calcium          -5.55            6.45             0.13             1.00             -5.55            -inf            \n",
      "scandium         -9.31            2.69             -0.47            1.00             -9.31            -inf            \n",
      "titanium         -6.94            5.06             0.13             1.00             -6.94            -inf            \n",
      "vanadium         -8.58            3.42             -0.47            1.00             -8.58            -inf            \n",
      "chromium         -6.85            5.15             -0.47            1.00             -6.85            -inf            \n",
      "manganese        -7.05            4.95             -0.47            1.00             -7.05            -inf            \n",
      "iron             -4.95            7.05             -0.47            1.00             -4.95            -inf            \n",
      "cobalt           -7.54            4.46             -0.47            1.00             -7.54            -inf            \n",
      "nickel           -6.27            5.73             -0.47            1.00             -6.27            -inf            \n",
      "copper           -8.29            3.71             -0.47            1.00             -8.29            -inf            \n",
      "zinc             -7.91            4.09             -0.47            1.00             -7.91            -inf            \n",
      "--------------------\n"
     ]
    }
   ],
   "source": [
    "a3 = Abundances(alpha=0.6)\n",
    "print(a3)"
   ]
  },
  {
   "attachments": {},
   "cell_type": "markdown",
   "metadata": {},
   "source": [
    "We can print a relative solar abundance like this:"
   ]
  },
  {
   "cell_type": "code",
   "execution_count": 11,
   "metadata": {
    "execution": {
     "iopub.execute_input": "2024-10-17T21:22:04.123368Z",
     "iopub.status.busy": "2024-10-17T21:22:04.122996Z",
     "iopub.status.idle": "2024-10-17T21:22:04.126653Z",
     "shell.execute_reply": "2024-10-17T21:22:04.126107Z"
    }
   },
   "outputs": [
    {
     "name": "stdout",
     "output_type": "stream",
     "text": [
      "[O/Fe] = 0.60\n",
      "[O/Fe] = 0.60\n",
      "[B/Fe] = 0.00\n"
     ]
    }
   ],
   "source": [
    "print(f\"[O/Fe] = {a3.reference_relative_abundance('O', ref_element='Fe'):.2f}\")\n",
    "print(f\"[O/Fe] = {a3['[O/Fe]']:.2f}\")\n",
    "print(f\"[B/Fe] = {a3['[B/Fe]']:.2f}\")"
   ]
  },
  {
   "attachments": {},
   "cell_type": "markdown",
   "metadata": {},
   "source": [
    "That, is, as expected given that we set $\\alpha=0.6$."
   ]
  },
  {
   "attachments": {},
   "cell_type": "markdown",
   "metadata": {},
   "source": [
    "## Depletion\n",
    "\n",
    "To account for metals being locked up in dust, we can also specify a depletion pattern. It is possible to either provide a dictionary of values or specify one of the in-built patterns. "
   ]
  },
  {
   "cell_type": "code",
   "execution_count": 12,
   "metadata": {
    "execution": {
     "iopub.execute_input": "2024-10-17T21:22:04.128866Z",
     "iopub.status.busy": "2024-10-17T21:22:04.128520Z",
     "iopub.status.idle": "2024-10-17T21:22:04.132682Z",
     "shell.execute_reply": "2024-10-17T21:22:04.132142Z"
    }
   },
   "outputs": [
    {
     "name": "stdout",
     "output_type": "stream",
     "text": [
      "--------------------\n",
      "ABUNDANCE PATTERN SUMMARY\n",
      "X: 0.724\n",
      "Y: 0.266\n",
      "Z: 0.010\n",
      "Z/Z_ref: 0.67\n",
      "alpha: 0.000\n",
      "dust mass fraction: 2.486382257427241e-05\n",
      "dust-to-metal ratio: 0.002486382257427241\n",
      "----------\n",
      "Element          log10(X/H)       log10(X/H)+12    [X/H]            depletion        log10(X/H)_gas   log10(X/H)_dust \n",
      "hydrogen         0.00             12.00            0.00             1.00             0.00             -inf            \n",
      "helium           -1.04            10.96            0.05             1.00             -1.04            -inf            \n",
      "lithium          -8.89            3.11             -0.16            1.00             -8.89            -inf            \n",
      "beryllium        -10.84           1.16             -0.16            1.00             -10.84           -inf            \n",
      "boron            -9.36            2.64             -0.16            1.00             -9.36            -inf            \n",
      "carbon           -3.74            8.26             -0.16            0.99             -3.74            -5.74           \n",
      "nitrogen         -4.37            7.63             -0.16            1.00             -4.37            -inf            \n",
      "oxygen           -3.40            8.60             -0.16            1.00             -3.40            -inf            \n",
      "fluorine         -7.72            4.28             -0.16            1.00             -7.72            -inf            \n",
      "neon             -4.07            7.93             -0.16            1.00             -4.07            -inf            \n",
      "sodium           -5.95            6.05             -0.16            1.00             -5.95            -inf            \n",
      "magnesium        -4.60            7.40             -0.16            1.00             -4.60            -inf            \n",
      "aluminium        -5.73            6.27             -0.16            1.00             -5.73            -inf            \n",
      "silicon          -4.66            7.34             -0.16            1.00             -4.66            -inf            \n",
      "phosphorus       -6.75            5.25             -0.16            1.00             -6.75            -inf            \n",
      "sulphur          -5.04            6.96             -0.16            1.00             -5.04            -inf            \n",
      "chlorine         -6.91            5.09             -0.16            1.00             -6.91            -inf            \n",
      "argon            -5.76            6.24             -0.16            1.00             -5.76            -inf            \n",
      "potassium        -7.12            4.88             -0.16            1.00             -7.12            -inf            \n",
      "calcium          -5.84            6.16             -0.16            1.00             -5.84            -inf            \n",
      "scandium         -9.00            3.00             -0.16            1.00             -9.00            -inf            \n",
      "titanium         -7.23            4.77             -0.16            1.00             -7.23            -inf            \n",
      "vanadium         -8.27            3.73             -0.16            1.00             -8.27            -inf            \n",
      "chromium         -6.54            5.46             -0.16            1.00             -6.54            -inf            \n",
      "manganese        -6.74            5.26             -0.16            1.00             -6.74            -inf            \n",
      "iron             -4.64            7.36             -0.16            0.99             -4.65            -6.64           \n",
      "cobalt           -7.23            4.77             -0.16            1.00             -7.23            -inf            \n",
      "nickel           -5.96            6.04             -0.16            1.00             -5.96            -inf            \n",
      "copper           -7.98            4.02             -0.16            1.00             -7.98            -inf            \n",
      "zinc             -7.60            4.40             -0.16            1.00             -7.60            -inf            \n",
      "--------------------\n"
     ]
    }
   ],
   "source": [
    "# assume 99% of Carbon and Iron are depleted on to dust\n",
    "depletion = {\"C\": 0.99, \"Fe\": 0.99}\n",
    "\n",
    "# calculate the abundance patterns, now included gas and dust separately\n",
    "a4 = Abundances(metallicity=0.01, depletion=depletion)\n",
    "print(a4)"
   ]
  },
  {
   "cell_type": "code",
   "execution_count": 13,
   "metadata": {
    "execution": {
     "iopub.execute_input": "2024-10-17T21:22:04.134541Z",
     "iopub.status.busy": "2024-10-17T21:22:04.134339Z",
     "iopub.status.idle": "2024-10-17T21:22:04.138480Z",
     "shell.execute_reply": "2024-10-17T21:22:04.137925Z"
    }
   },
   "outputs": [
    {
     "name": "stdout",
     "output_type": "stream",
     "text": [
      "--------------------\n",
      "ABUNDANCE PATTERN SUMMARY\n",
      "X: 0.708\n",
      "Y: 0.276\n",
      "Z: 0.016\n",
      "Z/Z_ref: 1\n",
      "alpha: 0.000\n",
      "dust mass fraction: 0.0062629182900424815\n",
      "dust-to-metal ratio: 0.40146912115656935\n",
      "----------\n",
      "Element          log10(X/H)       log10(X/H)+12    [X/H]            depletion        log10(X/H)_gas   log10(X/H)_dust \n",
      "hydrogen         0.00             12.00            0.00             1.00             0.00             -inf            \n",
      "helium           -1.01            10.99            -0.00            1.00             -1.01            -inf            \n",
      "lithium          -10.98           1.02             0.01             0.16             -11.77           -11.05          \n",
      "beryllium        -10.62           1.38             0.01             0.60             -10.84           -11.01          \n",
      "boron            -9.46            2.54             0.01             0.13             -10.34           -9.52           \n",
      "carbon           -3.52            8.48             0.01             0.50             -3.82            -3.82           \n",
      "nitrogen         -4.31            7.69             0.01             1.00             -4.31            -inf            \n",
      "oxygen           -3.16            8.84             0.01             0.70             -3.31            -3.68           \n",
      "fluorine         -7.43            4.57             0.01             0.30             -7.95            -7.58           \n",
      "neon             -4.00            8.00             0.01             1.00             -4.00            -inf            \n",
      "sodium           -5.69            6.31             0.01             0.25             -6.29            -5.81           \n",
      "magnesium        -4.44            7.56             0.01             0.20             -5.13            -4.53           \n",
      "aluminium        -5.55            6.45             0.01             0.02             -7.24            -5.55           \n",
      "silicon          -4.47            7.53             0.01             0.10             -5.47            -4.51           \n",
      "phosphorus       -6.56            5.44             0.01             0.25             -7.16            -6.68           \n",
      "sulphur          -4.86            7.14             0.01             1.00             -4.86            -inf            \n",
      "chlorine         -6.52            5.48             0.01             0.50             -6.82            -6.82           \n",
      "argon            -5.62            6.38             0.01             1.00             -5.62            -inf            \n",
      "potassium        -6.91            5.09             0.01             0.30             -7.43            -7.06           \n",
      "calcium          -5.66            6.34             0.01             0.00             -8.18            -5.66           \n",
      "scandium         -8.85            3.15             0.01             0.01             -11.15           -8.85           \n",
      "titanium         -7.00            5.00             0.01             0.01             -9.09            -7.00           \n",
      "vanadium         -8.02            3.98             0.01             0.01             -10.24           -8.02           \n",
      "chromium         -6.35            5.65             0.01             0.01             -8.57            -6.35           \n",
      "manganese        -6.63            5.37             0.01             0.05             -7.93            -6.65           \n",
      "iron             -4.50            7.50             0.01             0.01             -6.50            -4.50           \n",
      "cobalt           -7.10            4.90             0.01             0.01             -9.10            -7.10           \n",
      "nickel           -5.77            6.23             0.01             0.04             -7.16            -5.78           \n",
      "copper           -7.81            4.19             0.01             0.10             -8.81            -7.85           \n",
      "zinc             -7.42            4.58             0.01             0.25             -8.02            -7.54           \n",
      "--------------------\n"
     ]
    }
   ],
   "source": [
    "a5 = Abundances(\n",
    "    metallicity=0.0156,\n",
    "    reference=reference_abundance_patterns.Gutkin2016,\n",
    "    depletion_model=depletion_models.Gutkin2016,\n",
    ")\n",
    "print(a5)"
   ]
  },
  {
   "cell_type": "code",
   "execution_count": 14,
   "metadata": {
    "execution": {
     "iopub.execute_input": "2024-10-17T21:22:04.140456Z",
     "iopub.status.busy": "2024-10-17T21:22:04.140079Z",
     "iopub.status.idle": "2024-10-17T21:22:04.144183Z",
     "shell.execute_reply": "2024-10-17T21:22:04.143634Z"
    }
   },
   "outputs": [
    {
     "name": "stdout",
     "output_type": "stream",
     "text": [
      "--------------------\n",
      "ABUNDANCE PATTERN SUMMARY\n",
      "X: 0.708\n",
      "Y: 0.276\n",
      "Z: 0.016\n",
      "Z/Z_ref: 1\n",
      "alpha: 0.000\n",
      "dust mass fraction: 0.007361330259064843\n",
      "dust-to-metal ratio: 0.4718801448118489\n",
      "----------\n",
      "Element          log10(X/H)       log10(X/H)+12    [X/H]            depletion        log10(X/H)_gas   log10(X/H)_dust \n",
      "hydrogen         0.00             12.00            0.00             1.00             0.00             -inf            \n",
      "helium           -1.01            10.99            -0.00            1.00             -1.01            -inf            \n",
      "lithium          -10.98           1.02             0.01             0.16             -11.77           -11.05          \n",
      "beryllium        -10.62           1.38             0.01             0.60             -10.84           -11.01          \n",
      "boron            -9.46            2.54             0.01             0.13             -10.34           -9.52           \n",
      "carbon           -3.52            8.48             0.01             0.40             -3.91            -3.74           \n",
      "nitrogen         -4.31            7.69             0.01             1.00             -4.31            -inf            \n",
      "oxygen           -3.16            8.84             0.01             0.60             -3.38            -3.55           \n",
      "fluorine         -7.43            4.57             0.01             0.30             -7.95            -7.58           \n",
      "neon             -4.00            8.00             0.01             1.00             -4.00            -inf            \n",
      "sodium           -5.69            6.31             0.01             0.20             -6.38            -5.78           \n",
      "magnesium        -4.44            7.56             0.01             0.20             -5.13            -4.53           \n",
      "aluminium        -5.55            6.45             0.01             0.01             -7.55            -5.55           \n",
      "silicon          -4.47            7.53             0.01             0.03             -5.99            -4.48           \n",
      "phosphorus       -6.56            5.44             0.01             0.25             -7.16            -6.68           \n",
      "sulphur          -4.86            7.14             0.01             1.00             -4.86            -inf            \n",
      "chlorine         -6.52            5.48             0.01             0.40             -6.91            -6.74           \n",
      "argon            -5.62            6.38             0.01             1.00             -5.62            -inf            \n",
      "potassium        -6.91            5.09             0.01             0.30             -7.43            -7.06           \n",
      "calcium          -5.66            6.34             0.01             0.00             -9.66            -5.66           \n",
      "scandium         -8.85            3.15             0.01             0.01             -11.15           -8.85           \n",
      "titanium         -7.00            5.00             0.01             0.01             -9.09            -7.00           \n",
      "vanadium         -8.02            3.98             0.01             0.01             -10.24           -8.02           \n",
      "chromium         -6.35            5.65             0.01             0.01             -8.57            -6.35           \n",
      "manganese        -6.63            5.37             0.01             0.05             -7.93            -6.65           \n",
      "iron             -4.50            7.50             0.01             0.01             -6.50            -4.50           \n",
      "cobalt           -7.10            4.90             0.01             0.01             -9.10            -7.10           \n",
      "nickel           -5.77            6.23             0.01             0.01             -7.77            -5.77           \n",
      "copper           -7.81            4.19             0.01             0.10             -8.81            -7.85           \n",
      "zinc             -7.42            4.58             0.01             0.25             -8.02            -7.54           \n",
      "--------------------\n"
     ]
    }
   ],
   "source": [
    "a6 = Abundances(\n",
    "    metallicity=0.0156,\n",
    "    reference=reference_abundance_patterns.Gutkin2016,\n",
    "    depletion_model=depletion_models.CloudyClassic,\n",
    ")\n",
    "print(a6)"
   ]
  },
  {
   "cell_type": "code",
   "execution_count": 15,
   "metadata": {
    "execution": {
     "iopub.execute_input": "2024-10-17T21:22:04.146229Z",
     "iopub.status.busy": "2024-10-17T21:22:04.145858Z",
     "iopub.status.idle": "2024-10-17T21:22:04.149858Z",
     "shell.execute_reply": "2024-10-17T21:22:04.149324Z"
    }
   },
   "outputs": [
    {
     "name": "stdout",
     "output_type": "stream",
     "text": [
      "--------------------\n",
      "ABUNDANCE PATTERN SUMMARY\n",
      "X: 0.708\n",
      "Y: 0.276\n",
      "Z: 0.016\n",
      "Z/Z_ref: 1\n",
      "alpha: 0.000\n",
      "dust mass fraction: 0.005665821639073615\n",
      "dust-to-metal ratio: 0.3631936948124112\n",
      "----------\n",
      "Element          log10(X/H)       log10(X/H)+12    [X/H]            depletion        log10(X/H)_gas   log10(X/H)_dust \n",
      "hydrogen         0.00             12.00            0.00             1.00             0.00             -inf            \n",
      "helium           -1.01            10.99            -0.00            1.00             -1.01            -inf            \n",
      "lithium          -10.98           1.02             0.01             0.15             -11.79           -11.05          \n",
      "beryllium        -10.62           1.38             0.01             1.00             -10.62           -inf            \n",
      "boron            -9.46            2.54             0.01             1.00             -9.46            -inf            \n",
      "carbon           -3.52            8.48             0.01             0.69             -3.68            -4.02           \n",
      "nitrogen         -4.31            7.69             0.01             0.78             -4.42            -4.96           \n",
      "oxygen           -3.16            8.84             0.01             0.75             -3.28            -3.75           \n",
      "fluorine         -7.43            4.57             0.01             1.00             -7.43            -inf            \n",
      "neon             -4.00            8.00             0.01             1.00             -4.00            -inf            \n",
      "sodium           -5.69            6.31             0.01             0.01             -7.71            -5.69           \n",
      "magnesium        -4.44            7.56             0.01             0.17             -5.21            -4.52           \n",
      "aluminium        -5.55            6.45             0.01             0.03             -7.03            -5.56           \n",
      "silicon          -4.47            7.53             0.01             0.16             -5.25            -4.54           \n",
      "phosphorus       -6.56            5.44             0.01             0.66             -6.73            -7.03           \n",
      "sulphur          -4.86            7.14             0.01             0.53             -5.13            -5.18           \n",
      "chlorine         -6.52            5.48             0.01             0.67             -6.69            -7.00           \n",
      "argon            -5.62            6.38             0.01             0.41             -6.01            -5.84           \n",
      "potassium        -6.91            5.09             0.01             0.12             -7.83            -6.96           \n",
      "calcium          -5.66            6.34             0.01             0.00             -8.33            -5.66           \n",
      "scandium         -8.85            3.15             0.01             1.00             -8.85            -inf            \n",
      "titanium         -7.00            5.00             0.01             0.01             -9.10            -7.00           \n",
      "vanadium         -8.02            3.98             0.01             1.00             -8.02            -inf            \n",
      "chromium         -6.35            5.65             0.01             0.03             -7.90            -6.36           \n",
      "manganese        -6.63            5.37             0.01             0.05             -7.96            -6.65           \n",
      "iron             -4.50            7.50             0.01             0.03             -6.08            -4.51           \n",
      "cobalt           -7.10            4.90             0.01             1.00             -7.10            -inf            \n",
      "nickel           -5.77            6.23             0.01             0.02             -7.45            -5.77           \n",
      "copper           -7.81            4.19             0.01             0.11             -8.76            -7.86           \n",
      "zinc             -7.42            4.58             0.01             0.57             -7.66            -7.78           \n",
      "--------------------\n"
     ]
    }
   ],
   "source": [
    "a7 = Abundances(\n",
    "    metallicity=0.0156,\n",
    "    reference=reference_abundance_patterns.Gutkin2016,\n",
    "    depletion_model=depletion_models.Jenkins2009_Gunasekera2021,\n",
    ")\n",
    "print(a7)"
   ]
  },
  {
   "attachments": {},
   "cell_type": "markdown",
   "metadata": {},
   "source": [
    "When specifying an in-built pattern it's also possible to specify an optional scaling parameter depending on the particular model.\n",
    "\n",
    "Below we explore the effect of $F_{*}$ on the depletion factors for N, O, and S. "
   ]
  },
  {
   "cell_type": "code",
   "execution_count": 16,
   "metadata": {
    "execution": {
     "iopub.execute_input": "2024-10-17T21:22:04.151805Z",
     "iopub.status.busy": "2024-10-17T21:22:04.151608Z",
     "iopub.status.idle": "2024-10-17T21:22:04.156785Z",
     "shell.execute_reply": "2024-10-17T21:22:04.156233Z"
    }
   },
   "outputs": [
    {
     "name": "stdout",
     "output_type": "stream",
     "text": [
      "N -----\n",
      "0.0 0.78 -0.11\n",
      "0.5 0.78 -0.11\n",
      "1.0 0.78 -0.11\n",
      "O -----\n",
      "0.0 0.97 -0.01\n",
      "0.5 0.75 -0.13\n",
      "1.0 0.57 -0.24\n",
      "S -----\n",
      "0.0 1.00 0.00\n",
      "0.5 0.53 -0.27\n",
      "1.0 0.19 -0.71\n"
     ]
    }
   ],
   "source": [
    "for element in [\"N\", \"O\", \"S\"]:\n",
    "    print(element, \"-\" * 5)\n",
    "    for fstar in [0.0, 0.5, 1.0]:\n",
    "        depletion = depletion_models.Jenkins2009_Gunasekera2021(\n",
    "            fstar\n",
    "        ).depletion[element]\n",
    "        print(f\"{fstar} {depletion:.2f} {np.log10(depletion):.2f}\")"
   ]
  },
  {
   "attachments": {},
   "cell_type": "markdown",
   "metadata": {},
   "source": [
    "Next, we explore the effect of $F_{*}$ on the dust mass fraction and dust-to-metal ratio ($\\xi_{d}$):"
   ]
  },
  {
   "cell_type": "code",
   "execution_count": 17,
   "metadata": {
    "execution": {
     "iopub.execute_input": "2024-10-17T21:22:04.158797Z",
     "iopub.status.busy": "2024-10-17T21:22:04.158602Z",
     "iopub.status.idle": "2024-10-17T21:22:04.164450Z",
     "shell.execute_reply": "2024-10-17T21:22:04.163929Z"
    }
   },
   "outputs": [
    {
     "name": "stdout",
     "output_type": "stream",
     "text": [
      "F_* dust_abundance dust_mass_fraction dust_to_metal_ratio\n",
      "0.0 0.00017 0.0028 0.18\n",
      "0.1 0.00022 0.0035 0.22\n",
      "0.25 0.00029 0.0044 0.28\n",
      "0.5 0.00039 0.0057 0.36\n",
      "1.0 0.00055 0.0075 0.48\n"
     ]
    }
   ],
   "source": [
    "print(\"F_*\", \"dust_abundance\", \"dust_mass_fraction\", \"dust_to_metal_ratio\")\n",
    "for fstar in [0.0, 0.1, 0.25, 0.5, 1.0]:\n",
    "    a = Abundances(\n",
    "        metallicity=0.0156,\n",
    "        reference=reference_abundance_patterns.Gutkin2016,\n",
    "        depletion_model=depletion_models.Jenkins2009_Gunasekera2021,\n",
    "        depletion_scale=fstar,\n",
    "    )\n",
    "    print(\n",
    "        fstar,\n",
    "        f\"{a.dust_abundance:.2g}\",\n",
    "        f\"{a.dust_mass_fraction:.2g}\",\n",
    "        f\"{a.dust_to_metal_ratio:.2g}\",\n",
    "    )"
   ]
  },
  {
   "attachments": {},
   "cell_type": "markdown",
   "metadata": {},
   "source": [
    "We can also adjust the depletion scale in place and recalculate the dust mass:"
   ]
  },
  {
   "cell_type": "code",
   "execution_count": 18,
   "metadata": {
    "execution": {
     "iopub.execute_input": "2024-10-17T21:22:04.166313Z",
     "iopub.status.busy": "2024-10-17T21:22:04.166118Z",
     "iopub.status.idle": "2024-10-17T21:22:04.170981Z",
     "shell.execute_reply": "2024-10-17T21:22:04.170468Z"
    }
   },
   "outputs": [
    {
     "name": "stdout",
     "output_type": "stream",
     "text": [
      "0.00039\n",
      "0.00055\n",
      "0.00039\n"
     ]
    }
   ],
   "source": [
    "a = Abundances(\n",
    "    metallicity=0.0156,\n",
    "    reference=reference_abundance_patterns.Gutkin2016,\n",
    "    depletion_model=depletion_models.Jenkins2009_Gunasekera2021,\n",
    "    depletion_scale=0.5,\n",
    ")\n",
    "\n",
    "print(f\"{a.dust_abundance:.2g}\")\n",
    "\n",
    "a.add_depletion(\n",
    "    depletion_model=\"Jenkins2009_Gunasekera2021\", depletion_scale=1.0\n",
    ")\n",
    "\n",
    "print(f\"{a.dust_abundance:.2g}\")\n",
    "\n",
    "a.add_depletion(\n",
    "    depletion_model=\"Jenkins2009_Gunasekera2021\", depletion_scale=0.5\n",
    ")\n",
    "\n",
    "print(f\"{a.dust_abundance:.2g}\")"
   ]
  },
  {
   "cell_type": "code",
   "execution_count": 19,
   "metadata": {
    "execution": {
     "iopub.execute_input": "2024-10-17T21:22:04.173184Z",
     "iopub.status.busy": "2024-10-17T21:22:04.172723Z",
     "iopub.status.idle": "2024-10-17T21:22:04.178898Z",
     "shell.execute_reply": "2024-10-17T21:22:04.178379Z"
    }
   },
   "outputs": [
    {
     "name": "stdout",
     "output_type": "stream",
     "text": [
      "0.0 0.0057 0.0028\n",
      "        0.49\n",
      "0.1 0.0057 0.0035\n",
      "        0.61\n",
      "0.25 0.0057 0.0044\n",
      "        0.77\n",
      "0.5 0.0057 0.0057\n",
      "        1.00\n",
      "1.0 0.0057 0.0075\n",
      "        1.33\n"
     ]
    }
   ],
   "source": [
    "# define default model\n",
    "a = Abundances(\n",
    "    metallicity=0.0156,\n",
    "    reference=reference_abundance_patterns.Gutkin2016,\n",
    "    depletion_model=depletion_models.Jenkins2009_Gunasekera2021,\n",
    "    depletion_scale=0.5,\n",
    ")\n",
    "\n",
    "\n",
    "default_dust_mass_fraction = a.dust_mass_fraction\n",
    "\n",
    "# vary fstar and recalaculate the dust_mass_fraction\n",
    "for fstar in [0.0, 0.1, 0.25, 0.5, 1.0]:\n",
    "    # recalcualte for different fstar\n",
    "    a.add_depletion(\n",
    "        depletion_model=\"Jenkins2009_Gunasekera2021\", depletion_scale=fstar\n",
    "    )\n",
    "\n",
    "    dust_mass_fraction = a.dust_mass_fraction\n",
    "\n",
    "    print(\n",
    "        f\"\"\"{fstar} {default_dust_mass_fraction:.4f} {dust_mass_fraction:.4f}\n",
    "        {dust_mass_fraction/default_dust_mass_fraction:.2f}\"\"\"\n",
    "    )"
   ]
  },
  {
   "attachments": {},
   "cell_type": "markdown",
   "metadata": {},
   "source": [
    "When the depletion is applied the total, gas, and dust abundance patterns are provided e.g."
   ]
  },
  {
   "cell_type": "code",
   "execution_count": 20,
   "metadata": {
    "execution": {
     "iopub.execute_input": "2024-10-17T21:22:04.180756Z",
     "iopub.status.busy": "2024-10-17T21:22:04.180550Z",
     "iopub.status.idle": "2024-10-17T21:22:04.183861Z",
     "shell.execute_reply": "2024-10-17T21:22:04.183360Z"
    }
   },
   "outputs": [
    {
     "name": "stdout",
     "output_type": "stream",
     "text": [
      "log10(C_total/H) : -3.52\n",
      "log10(C_gas/H) : -3.68\n",
      "log10(C_dust/H) : -4.02\n"
     ]
    }
   ],
   "source": [
    "print(f'log10(C_total/H) : {a7.total[\"C\"]:.2f}')\n",
    "print(f'log10(C_gas/H) : {a7.gas[\"C\"]:.2f}')\n",
    "print(f'log10(C_dust/H) : {a7.dust[\"C\"]:.2f}')"
   ]
  },
  {
   "attachments": {},
   "cell_type": "markdown",
   "metadata": {},
   "source": [
    "## Arbitrary element scaling\n",
    "\n",
    "We can also change the abundance of any specific element (or set of elements), with the abundances of other elements rescaled self-consistently to yield the correct metallicity. \n",
    "\n",
    "If the abundance is a float it is the logarithmic abundance ($\\log_{10}(X/H)$) while if it is a string it is one of the in-built functions that scale the abundance with metallicity (e.g. the model proposed by Dopita et al. 2006). Note, combining this with a non-zero `alpha` can lead to a mild inconsistency."
   ]
  },
  {
   "attachments": {},
   "cell_type": "markdown",
   "metadata": {},
   "source": [
    "Using a float for the absolute abundance (relative to H):"
   ]
  },
  {
   "cell_type": "code",
   "execution_count": 21,
   "metadata": {
    "execution": {
     "iopub.execute_input": "2024-10-17T21:22:04.186055Z",
     "iopub.status.busy": "2024-10-17T21:22:04.185697Z",
     "iopub.status.idle": "2024-10-17T21:22:04.189374Z",
     "shell.execute_reply": "2024-10-17T21:22:04.188770Z"
    }
   },
   "outputs": [
    {
     "name": "stdout",
     "output_type": "stream",
     "text": [
      "--------------------\n",
      "ABUNDANCE PATTERN SUMMARY\n",
      "X: 0.714\n",
      "Y: 0.272\n",
      "Z: 0.013\n",
      "Z/Z_ref: 0.89\n",
      "alpha: 0.000\n",
      "dust mass fraction: 0.0\n",
      "dust-to-metal ratio: 0.0\n",
      "----------\n",
      "Element          log10(X/H)       log10(X/H)+12    [X/H]            depletion        log10(X/H)_gas   log10(X/H)_dust \n",
      "hydrogen         0.00             12.00            0.00             1.00             0.00             -inf            \n",
      "helium           -1.02            10.98            0.07             1.00             -1.02            -inf            \n",
      "lithium          -8.74            3.26             -0.02            1.00             -8.74            -inf            \n",
      "beryllium        -10.70           1.30             -0.02            1.00             -10.70           -inf            \n",
      "boron            -9.21            2.79             -0.02            1.00             -9.21            -inf            \n",
      "carbon           -3.60            8.40             -0.02            1.00             -3.60            -inf            \n",
      "nitrogen         -4.50            7.50             -0.29            1.00             -4.50            -inf            \n",
      "oxygen           -3.26            8.74             -0.02            1.00             -3.26            -inf            \n",
      "fluorine         -7.58            4.42             -0.02            1.00             -7.58            -inf            \n",
      "neon             -3.93            8.07             -0.02            1.00             -3.93            -inf            \n",
      "sodium           -5.81            6.19             -0.02            1.00             -5.81            -inf            \n",
      "magnesium        -4.46            7.54             -0.02            1.00             -4.46            -inf            \n",
      "aluminium        -5.59            6.41             -0.02            1.00             -5.59            -inf            \n",
      "silicon          -4.52            7.48             -0.02            1.00             -4.52            -inf            \n",
      "phosphorus       -6.61            5.39             -0.02            1.00             -6.61            -inf            \n",
      "sulphur          -4.90            7.10             -0.02            1.00             -4.90            -inf            \n",
      "chlorine         -6.77            5.23             -0.02            1.00             -6.77            -inf            \n",
      "argon            -5.62            6.38             -0.02            1.00             -5.62            -inf            \n",
      "potassium        -6.98            5.02             -0.02            1.00             -6.98            -inf            \n",
      "calcium          -5.70            6.30             -0.02            1.00             -5.70            -inf            \n",
      "scandium         -8.86            3.14             -0.02            1.00             -8.86            -inf            \n",
      "titanium         -7.09            4.91             -0.02            1.00             -7.09            -inf            \n",
      "vanadium         -8.13            3.87             -0.02            1.00             -8.13            -inf            \n",
      "chromium         -6.40            5.60             -0.02            1.00             -6.40            -inf            \n",
      "manganese        -6.60            5.40             -0.02            1.00             -6.60            -inf            \n",
      "iron             -4.50            7.50             -0.02            1.00             -4.50            -inf            \n",
      "cobalt           -7.09            4.91             -0.02            1.00             -7.09            -inf            \n",
      "nickel           -5.82            6.18             -0.02            1.00             -5.82            -inf            \n",
      "copper           -7.84            4.16             -0.02            1.00             -7.84            -inf            \n",
      "zinc             -7.46            4.54             -0.02            1.00             -7.46            -inf            \n",
      "--------------------\n"
     ]
    }
   ],
   "source": [
    "a8 = Abundances(metallicity=0.0134, abundances={\"nitrogen\": -4.5})\n",
    "print(a8)"
   ]
  },
  {
   "attachments": {},
   "cell_type": "markdown",
   "metadata": {},
   "source": [
    "Providing an abundance relative to another element:"
   ]
  },
  {
   "cell_type": "code",
   "execution_count": 22,
   "metadata": {
    "execution": {
     "iopub.execute_input": "2024-10-17T21:22:04.191670Z",
     "iopub.status.busy": "2024-10-17T21:22:04.191293Z",
     "iopub.status.idle": "2024-10-17T21:22:04.195443Z",
     "shell.execute_reply": "2024-10-17T21:22:04.194936Z"
    }
   },
   "outputs": [
    {
     "name": "stdout",
     "output_type": "stream",
     "text": [
      "--------------------\n",
      "ABUNDANCE PATTERN SUMMARY\n",
      "X: 0.714\n",
      "Y: 0.272\n",
      "Z: 0.013\n",
      "Z/Z_ref: 0.89\n",
      "alpha: 0.000\n",
      "dust mass fraction: 0.0\n",
      "dust-to-metal ratio: 0.0\n",
      "----------\n",
      "Element          log10(X/H)       log10(X/H)+12    [X/H]            depletion        log10(X/H)_gas   log10(X/H)_dust \n",
      "hydrogen         0.00             12.00            0.00             1.00             0.00             -inf            \n",
      "helium           -1.02            10.98            0.07             1.00             -1.02            -inf            \n",
      "lithium          -8.80            3.20             -0.08            1.00             -8.80            -inf            \n",
      "beryllium        -10.76           1.24             -0.08            1.00             -10.76           -inf            \n",
      "boron            -9.27            2.73             -0.08            1.00             -9.27            -inf            \n",
      "carbon           -3.65            8.35             -0.08            1.00             -3.65            -inf            \n",
      "nitrogen         -3.72            8.28             0.49             1.00             -3.72            -inf            \n",
      "oxygen           -3.32            8.68             -0.08            1.00             -3.32            -inf            \n",
      "fluorine         -7.64            4.36             -0.08            1.00             -7.64            -inf            \n",
      "neon             -3.99            8.01             -0.08            1.00             -3.99            -inf            \n",
      "sodium           -5.87            6.13             -0.08            1.00             -5.87            -inf            \n",
      "magnesium        -4.52            7.48             -0.08            1.00             -4.52            -inf            \n",
      "aluminium        -5.65            6.35             -0.08            1.00             -5.65            -inf            \n",
      "silicon          -4.58            7.42             -0.08            1.00             -4.58            -inf            \n",
      "phosphorus       -6.67            5.33             -0.08            1.00             -6.67            -inf            \n",
      "sulphur          -4.96            7.04             -0.08            1.00             -4.96            -inf            \n",
      "chlorine         -6.83            5.17             -0.08            1.00             -6.83            -inf            \n",
      "argon            -5.68            6.32             -0.08            1.00             -5.68            -inf            \n",
      "potassium        -7.04            4.96             -0.08            1.00             -7.04            -inf            \n",
      "calcium          -5.76            6.24             -0.08            1.00             -5.76            -inf            \n",
      "scandium         -8.92            3.08             -0.08            1.00             -8.92            -inf            \n",
      "titanium         -7.15            4.85             -0.08            1.00             -7.15            -inf            \n",
      "vanadium         -8.19            3.81             -0.08            1.00             -8.19            -inf            \n",
      "chromium         -6.46            5.54             -0.08            1.00             -6.46            -inf            \n",
      "manganese        -6.66            5.34             -0.08            1.00             -6.66            -inf            \n",
      "iron             -4.56            7.44             -0.08            1.00             -4.56            -inf            \n",
      "cobalt           -7.15            4.85             -0.08            1.00             -7.15            -inf            \n",
      "nickel           -5.88            6.12             -0.08            1.00             -5.88            -inf            \n",
      "copper           -7.90            4.10             -0.08            1.00             -7.90            -inf            \n",
      "zinc             -7.52            4.48             -0.08            1.00             -7.52            -inf            \n",
      "--------------------\n",
      "--------------------\n",
      "ABUNDANCE PATTERN SUMMARY\n",
      "X: 0.714\n",
      "Y: 0.272\n",
      "Z: 0.013\n",
      "Z/Z_ref: 0.89\n",
      "alpha: 0.000\n",
      "dust mass fraction: 0.0\n",
      "dust-to-metal ratio: 0.0\n",
      "----------\n",
      "Element          log10(X/H)       log10(X/H)+12    [X/H]            depletion        log10(X/H)_gas   log10(X/H)_dust \n",
      "hydrogen         0.00             12.00            0.00             1.00             0.00             -inf            \n",
      "helium           -1.02            10.98            0.07             1.00             -1.02            -inf            \n",
      "lithium          -8.80            3.20             -0.08            1.00             -8.80            -inf            \n",
      "beryllium        -10.76           1.24             -0.08            1.00             -10.76           -inf            \n",
      "boron            -9.27            2.73             -0.08            1.00             -9.27            -inf            \n",
      "carbon           -3.65            8.35             -0.08            1.00             -3.65            -inf            \n",
      "nitrogen         -3.72            8.28             0.49             1.00             -3.72            -inf            \n",
      "oxygen           -3.32            8.68             -0.08            1.00             -3.32            -inf            \n",
      "fluorine         -7.64            4.36             -0.08            1.00             -7.64            -inf            \n",
      "neon             -3.99            8.01             -0.08            1.00             -3.99            -inf            \n",
      "sodium           -5.87            6.13             -0.08            1.00             -5.87            -inf            \n",
      "magnesium        -4.52            7.48             -0.08            1.00             -4.52            -inf            \n",
      "aluminium        -5.65            6.35             -0.08            1.00             -5.65            -inf            \n",
      "silicon          -4.58            7.42             -0.08            1.00             -4.58            -inf            \n",
      "phosphorus       -6.67            5.33             -0.08            1.00             -6.67            -inf            \n",
      "sulphur          -4.96            7.04             -0.08            1.00             -4.96            -inf            \n",
      "chlorine         -6.83            5.17             -0.08            1.00             -6.83            -inf            \n",
      "argon            -5.68            6.32             -0.08            1.00             -5.68            -inf            \n",
      "potassium        -7.04            4.96             -0.08            1.00             -7.04            -inf            \n",
      "calcium          -5.76            6.24             -0.08            1.00             -5.76            -inf            \n",
      "scandium         -8.92            3.08             -0.08            1.00             -8.92            -inf            \n",
      "titanium         -7.15            4.85             -0.08            1.00             -7.15            -inf            \n",
      "vanadium         -8.19            3.81             -0.08            1.00             -8.19            -inf            \n",
      "chromium         -6.46            5.54             -0.08            1.00             -6.46            -inf            \n",
      "manganese        -6.66            5.34             -0.08            1.00             -6.66            -inf            \n",
      "iron             -4.56            7.44             -0.08            1.00             -4.56            -inf            \n",
      "cobalt           -7.15            4.85             -0.08            1.00             -7.15            -inf            \n",
      "nickel           -5.88            6.12             -0.08            1.00             -5.88            -inf            \n",
      "copper           -7.90            4.10             -0.08            1.00             -7.90            -inf            \n",
      "zinc             -7.52            4.48             -0.08            1.00             -7.52            -inf            \n",
      "--------------------\n"
     ]
    }
   ],
   "source": [
    "a9a = Abundances(metallicity=0.0134, abundances={\"nitrogen_to_oxygen\": -0.4})\n",
    "print(a9a)\n",
    "\n",
    "# same as above but less PEP8 compliant\n",
    "a9b = Abundances(metallicity=0.0134, abundances={\"N/O\": -0.4})\n",
    "print(a9b)"
   ]
  },
  {
   "attachments": {},
   "cell_type": "markdown",
   "metadata": {},
   "source": [
    "Alternatively, we can use a built-in function for particular set of elements or for all elements available. For example, here we use the Dopita (2006) scaling relation to adjust Nitrogen."
   ]
  },
  {
   "cell_type": "code",
   "execution_count": 23,
   "metadata": {
    "execution": {
     "iopub.execute_input": "2024-10-17T21:22:04.197527Z",
     "iopub.status.busy": "2024-10-17T21:22:04.197150Z",
     "iopub.status.idle": "2024-10-17T21:22:04.201054Z",
     "shell.execute_reply": "2024-10-17T21:22:04.200391Z"
    }
   },
   "outputs": [
    {
     "name": "stdout",
     "output_type": "stream",
     "text": [
      "--------------------\n",
      "ABUNDANCE PATTERN SUMMARY\n",
      "X: 0.714\n",
      "Y: 0.272\n",
      "Z: 0.013\n",
      "Z/Z_ref: 0.89\n",
      "alpha: 0.000\n",
      "dust mass fraction: 0.0\n",
      "dust-to-metal ratio: 0.0\n",
      "----------\n",
      "Element          log10(X/H)       log10(X/H)+12    [X/H]            depletion        log10(X/H)_gas   log10(X/H)_dust \n",
      "hydrogen         0.00             12.00            0.00             1.00             0.00             -inf            \n",
      "helium           -1.02            10.98            0.07             1.00             -1.02            -inf            \n",
      "lithium          -8.75            3.25             -0.03            1.00             -8.75            -inf            \n",
      "beryllium        -10.71           1.29             -0.03            1.00             -10.71           -inf            \n",
      "boron            -9.22            2.78             -0.03            1.00             -9.22            -inf            \n",
      "carbon           -3.60            8.40             -0.03            1.00             -3.60            -inf            \n",
      "nitrogen         -4.36            7.64             -0.15            1.00             -4.36            -inf            \n",
      "oxygen           -3.27            8.73             -0.03            1.00             -3.27            -inf            \n",
      "fluorine         -7.59            4.41             -0.03            1.00             -7.59            -inf            \n",
      "neon             -3.94            8.06             -0.03            1.00             -3.94            -inf            \n",
      "sodium           -5.82            6.18             -0.03            1.00             -5.82            -inf            \n",
      "magnesium        -4.47            7.53             -0.03            1.00             -4.47            -inf            \n",
      "aluminium        -5.60            6.40             -0.03            1.00             -5.60            -inf            \n",
      "silicon          -4.53            7.47             -0.03            1.00             -4.53            -inf            \n",
      "phosphorus       -6.62            5.38             -0.03            1.00             -6.62            -inf            \n",
      "sulphur          -4.91            7.09             -0.03            1.00             -4.91            -inf            \n",
      "chlorine         -6.78            5.22             -0.03            1.00             -6.78            -inf            \n",
      "argon            -5.63            6.37             -0.03            1.00             -5.63            -inf            \n",
      "potassium        -6.99            5.01             -0.03            1.00             -6.99            -inf            \n",
      "calcium          -5.71            6.29             -0.03            1.00             -5.71            -inf            \n",
      "scandium         -8.87            3.13             -0.03            1.00             -8.87            -inf            \n",
      "titanium         -7.10            4.90             -0.03            1.00             -7.10            -inf            \n",
      "vanadium         -8.14            3.86             -0.03            1.00             -8.14            -inf            \n",
      "chromium         -6.41            5.59             -0.03            1.00             -6.41            -inf            \n",
      "manganese        -6.61            5.39             -0.03            1.00             -6.61            -inf            \n",
      "iron             -4.51            7.49             -0.03            1.00             -4.51            -inf            \n",
      "cobalt           -7.10            4.90             -0.03            1.00             -7.10            -inf            \n",
      "nickel           -5.83            6.17             -0.03            1.00             -5.83            -inf            \n",
      "copper           -7.85            4.15             -0.03            1.00             -7.85            -inf            \n",
      "zinc             -7.47            4.53             -0.03            1.00             -7.47            -inf            \n",
      "--------------------\n"
     ]
    }
   ],
   "source": [
    "a10 = Abundances(metallicity=0.0134, abundances={\"nitrogen\": \"Dopita2006\"})\n",
    "print(a10)"
   ]
  },
  {
   "attachments": {},
   "cell_type": "markdown",
   "metadata": {},
   "source": [
    "We can also use a model to set all scalings for all available elements."
   ]
  },
  {
   "cell_type": "code",
   "execution_count": 24,
   "metadata": {
    "execution": {
     "iopub.execute_input": "2024-10-17T21:22:04.203036Z",
     "iopub.status.busy": "2024-10-17T21:22:04.202842Z",
     "iopub.status.idle": "2024-10-17T21:22:04.206322Z",
     "shell.execute_reply": "2024-10-17T21:22:04.205779Z"
    }
   },
   "outputs": [
    {
     "name": "stdout",
     "output_type": "stream",
     "text": [
      "--------------------\n",
      "ABUNDANCE PATTERN SUMMARY\n",
      "X: 0.710\n",
      "Y: 0.275\n",
      "Z: 0.015\n",
      "Z/Z_ref: 1\n",
      "alpha: 0.000\n",
      "dust mass fraction: 0.0\n",
      "dust-to-metal ratio: 0.0\n",
      "----------\n",
      "Element          log10(X/H)       log10(X/H)+12    [X/H]            depletion        log10(X/H)_gas   log10(X/H)_dust \n",
      "hydrogen         0.00             12.00            0.00             1.00             0.00             -inf            \n",
      "helium           -1.01            10.99            0.08             1.00             -1.01            -inf            \n",
      "lithium          -8.68            3.32             0.05             1.00             -8.68            -inf            \n",
      "beryllium        -10.63           1.37             0.05             1.00             -10.63           -inf            \n",
      "boron            -9.15            2.85             0.05             1.00             -9.15            -inf            \n",
      "carbon           -3.58            8.42             0.00             1.00             -3.58            -inf            \n",
      "nitrogen         -4.21            7.79             0.00             1.00             -4.21            -inf            \n",
      "oxygen           -3.19            8.81             0.05             1.00             -3.19            -inf            \n",
      "fluorine         -7.56            4.44             0.00             1.00             -7.56            -inf            \n",
      "neon             -3.91            8.09             0.00             1.00             -3.91            -inf            \n",
      "sodium           -5.79            6.21             0.00             1.00             -5.79            -inf            \n",
      "magnesium        -4.44            7.56             0.00             1.00             -4.44            -inf            \n",
      "aluminium        -5.57            6.43             0.00             1.00             -5.57            -inf            \n",
      "silicon          -4.50            7.50             0.00             1.00             -4.50            -inf            \n",
      "phosphorus       -6.59            5.41             0.00             1.00             -6.59            -inf            \n",
      "sulphur          -4.88            7.12             0.00             1.00             -4.88            -inf            \n",
      "chlorine         -6.75            5.25             0.00             1.00             -6.75            -inf            \n",
      "argon            -5.60            6.40             0.00             1.00             -5.60            -inf            \n",
      "potassium        -6.96            5.04             0.00             1.00             -6.96            -inf            \n",
      "calcium          -5.68            6.32             0.00             1.00             -5.68            -inf            \n",
      "scandium         -8.84            3.16             0.00             1.00             -8.84            -inf            \n",
      "titanium         -7.07            4.93             0.00             1.00             -7.07            -inf            \n",
      "vanadium         -8.11            3.89             0.00             1.00             -8.11            -inf            \n",
      "chromium         -6.38            5.62             0.00             1.00             -6.38            -inf            \n",
      "manganese        -6.58            5.42             0.00             1.00             -6.58            -inf            \n",
      "iron             -4.48            7.52             0.00             1.00             -4.48            -inf            \n",
      "cobalt           -7.07            4.93             0.00             1.00             -7.07            -inf            \n",
      "nickel           -5.80            6.20             0.00             1.00             -5.80            -inf            \n",
      "copper           -7.82            4.18             0.00             1.00             -7.82            -inf            \n",
      "zinc             -7.44            4.56             0.00             1.00             -7.44            -inf            \n",
      "--------------------\n"
     ]
    }
   ],
   "source": [
    "a11 = Abundances(metallicity=0.015, abundances=\"GalacticConcordance\")\n",
    "print(a11)"
   ]
  },
  {
   "attachments": {},
   "cell_type": "markdown",
   "metadata": {},
   "source": [
    "### Scaling models\n",
    "\n",
    "Let's look in a bit more detail at some of the available scaling relationships."
   ]
  },
  {
   "attachments": {},
   "cell_type": "markdown",
   "metadata": {},
   "source": [
    "We can also access the scaling functions directly:"
   ]
  },
  {
   "cell_type": "code",
   "execution_count": 25,
   "metadata": {
    "execution": {
     "iopub.execute_input": "2024-10-17T21:22:04.208281Z",
     "iopub.status.busy": "2024-10-17T21:22:04.208089Z",
     "iopub.status.idle": "2024-10-17T21:22:04.212125Z",
     "shell.execute_reply": "2024-10-17T21:22:04.211472Z"
    }
   },
   "outputs": [
    {
     "data": {
      "text/plain": [
       "['Dopita2006', 'GalacticConcordance']"
      ]
     },
     "execution_count": 25,
     "metadata": {},
     "output_type": "execute_result"
    }
   ],
   "source": [
    "abundance_scalings.available_scalings"
   ]
  },
  {
   "cell_type": "code",
   "execution_count": 26,
   "metadata": {
    "execution": {
     "iopub.execute_input": "2024-10-17T21:22:04.214232Z",
     "iopub.status.busy": "2024-10-17T21:22:04.213870Z",
     "iopub.status.idle": "2024-10-17T21:22:04.218067Z",
     "shell.execute_reply": "2024-10-17T21:22:04.217534Z"
    }
   },
   "outputs": [
    {
     "data": {
      "text/plain": [
       "['N',\n",
       " 'C',\n",
       " 'F',\n",
       " 'Ne',\n",
       " 'Na',\n",
       " 'Mg',\n",
       " 'Al',\n",
       " 'Si',\n",
       " 'P',\n",
       " 'S',\n",
       " 'Cl',\n",
       " 'Ar',\n",
       " 'K',\n",
       " 'Ca',\n",
       " 'Sc',\n",
       " 'Ti',\n",
       " 'V',\n",
       " 'Cr',\n",
       " 'Mn',\n",
       " 'Fe',\n",
       " 'Co',\n",
       " 'Ni',\n",
       " 'Cu',\n",
       " 'Zn']"
      ]
     },
     "execution_count": 26,
     "metadata": {},
     "output_type": "execute_result"
    }
   ],
   "source": [
    "abundance_scalings.GalacticConcordance().available_elements"
   ]
  },
  {
   "cell_type": "code",
   "execution_count": 27,
   "metadata": {
    "execution": {
     "iopub.execute_input": "2024-10-17T21:22:04.220033Z",
     "iopub.status.busy": "2024-10-17T21:22:04.219657Z",
     "iopub.status.idle": "2024-10-17T21:22:04.223598Z",
     "shell.execute_reply": "2024-10-17T21:22:04.223105Z"
    }
   },
   "outputs": [
    {
     "data": {
      "text/plain": [
       "np.float64(-4.156584981878675)"
      ]
     },
     "execution_count": 27,
     "metadata": {},
     "output_type": "execute_result"
    }
   ],
   "source": [
    "abundance_scalings.GalacticConcordance().nitrogen(0.016)"
   ]
  },
  {
   "attachments": {},
   "cell_type": "markdown",
   "metadata": {},
   "source": [
    "These functions also include useful meta data:"
   ]
  },
  {
   "cell_type": "code",
   "execution_count": 28,
   "metadata": {
    "execution": {
     "iopub.execute_input": "2024-10-17T21:22:04.225427Z",
     "iopub.status.busy": "2024-10-17T21:22:04.225244Z",
     "iopub.status.idle": "2024-10-17T21:22:04.228805Z",
     "shell.execute_reply": "2024-10-17T21:22:04.228264Z"
    }
   },
   "outputs": [
    {
     "name": "stdout",
     "output_type": "stream",
     "text": [
      "https://ui.adsabs.harvard.edu/abs/2017MNRAS.466.4403N/abstract\n",
      "https://doi.org/10.1093/mnras/stw3235\n"
     ]
    }
   ],
   "source": [
    "print(abundance_scalings.GalacticConcordance().ads)\n",
    "print(abundance_scalings.GalacticConcordance().doi)"
   ]
  },
  {
   "attachments": {},
   "cell_type": "markdown",
   "metadata": {},
   "source": [
    "Let's dig a little deeper and make a plot of X/O vs. O/H for one of these scalings. "
   ]
  },
  {
   "cell_type": "code",
   "execution_count": 29,
   "metadata": {
    "execution": {
     "iopub.execute_input": "2024-10-17T21:22:04.231155Z",
     "iopub.status.busy": "2024-10-17T21:22:04.230683Z",
     "iopub.status.idle": "2024-10-17T21:22:04.523288Z",
     "shell.execute_reply": "2024-10-17T21:22:04.522626Z"
    }
   },
   "outputs": [
    {
     "data": {
      "image/png": "[encoded data removed]",
      "text/plain": [
       "<Figure size 640x480 with 1 Axes>"
      ]
     },
     "metadata": {},
     "output_type": "display_data"
    }
   ],
   "source": [
    "scaling_study_name = \"GalacticConcordance\"\n",
    "\n",
    "# create an array of metallicities equally space in log-space\n",
    "log10metallicities = np.arange(-4.0, -1.5, 0.1)\n",
    "metallicities = 10**log10metallicities\n",
    "\n",
    "# the reference oxygen abundance for GalacticConcordance, i.e. [O/H]\n",
    "reference_oxygen_abundance = -3.24\n",
    "reference_metallicity = 0.015\n",
    "\n",
    "# (O/H), assumed to scale linearly with metallicity\n",
    "oxygen_abundance = reference_oxygen_abundance + np.log10(\n",
    "    metallicities / reference_metallicity\n",
    ")\n",
    "\n",
    "scaling_study = getattr(abundance_scalings, scaling_study_name)()\n",
    "\n",
    "for element, element_name in zip(\n",
    "    scaling_study.available_elements, scaling_study.available_elements_names\n",
    "):\n",
    "    scaling = getattr(scaling_study, element_name)\n",
    "\n",
    "    abundances = np.array(\n",
    "        [scaling(metallicity) for metallicity in metallicities]\n",
    "    )\n",
    "\n",
    "    # log10(N/O) = log10(N/H) - log10(O/H)\n",
    "    x_to_oxygen_ratios = abundances - oxygen_abundance\n",
    "\n",
    "    plt.plot(oxygen_abundance + 12.0, x_to_oxygen_ratios, label=element)\n",
    "\n",
    "plt.plot(\n",
    "    [reference_oxygen_abundance + 12] * 2, [-6.0, -0.0], alpha=0.2, lw=2, c=\"k\"\n",
    ")\n",
    "\n",
    "plt.ylabel(r\"$\\log_{10}(X/O)$\")\n",
    "plt.xlabel(r\"$\\log_{10}(O/H)+12$\")\n",
    "plt.legend()\n",
    "plt.show()"
   ]
  },
  {
   "attachments": {},
   "cell_type": "markdown",
   "metadata": {},
   "source": [
    "## Plots"
   ]
  },
  {
   "attachments": {},
   "cell_type": "markdown",
   "metadata": {},
   "source": [
    "There are also a helper functions for plotting one or more abundance patterns, here we plot two abundance patterns with different alpha abundances:"
   ]
  },
  {
   "cell_type": "code",
   "execution_count": 30,
   "metadata": {
    "execution": {
     "iopub.execute_input": "2024-10-17T21:22:04.525860Z",
     "iopub.status.busy": "2024-10-17T21:22:04.525653Z",
     "iopub.status.idle": "2024-10-17T21:22:05.063992Z",
     "shell.execute_reply": "2024-10-17T21:22:05.063325Z"
    }
   },
   "outputs": [
    {
     "data": {
      "image/png": "[encoded data removed]",
      "text/plain": [
       "<Figure size 700x400 with 1 Axes>"
      ]
     },
     "metadata": {},
     "output_type": "display_data"
    },
    {
     "data": {
      "text/plain": [
       "(<Figure size 700x400 with 1 Axes>, <Axes: ylabel='$\\\\rm log_{10}(X/H)$'>)"
      ]
     },
     "execution_count": 30,
     "metadata": {},
     "output_type": "execute_result"
    }
   ],
   "source": [
    "plot_multiple_abundance_patterns(\n",
    "    [a2, a3],\n",
    "    labels=[r\"Z=0.01\", r\"Z=0.01; \\alpha = 0.6\"],\n",
    "    show=True,\n",
    "    ylim=[-7.0, -3.0],\n",
    ")"
   ]
  },
  {
   "attachments": {},
   "cell_type": "markdown",
   "metadata": {},
   "source": [
    "We can plot the abundance pattern of each component:"
   ]
  },
  {
   "cell_type": "code",
   "execution_count": 31,
   "metadata": {
    "execution": {
     "iopub.execute_input": "2024-10-17T21:22:05.066431Z",
     "iopub.status.busy": "2024-10-17T21:22:05.066040Z",
     "iopub.status.idle": "2024-10-17T21:22:05.585178Z",
     "shell.execute_reply": "2024-10-17T21:22:05.584578Z"
    }
   },
   "outputs": [
    {
     "data": {
      "image/png": "[encoded data removed]",
      "text/plain": [
       "<Figure size 700x400 with 1 Axes>"
      ]
     },
     "metadata": {},
     "output_type": "display_data"
    },
    {
     "data": {
      "text/plain": [
       "(<Figure size 700x400 with 1 Axes>, <Axes: ylabel='$\\\\rm log_{10}(X/H)$'>)"
      ]
     },
     "execution_count": 31,
     "metadata": {},
     "output_type": "execute_result"
    }
   ],
   "source": [
    "plot_abundance_pattern(\n",
    "    a7, show=True, ylim=[-7.0, -3.0], components=[\"total\", \"gas\", \"dust\"]\n",
    ")"
   ]
  }
 ],
 "metadata": {
  "language_info": {
   "codemirror_mode": {
    "name": "ipython",
    "version": 3
   },
   "file_extension": ".py",
   "mimetype": "text/x-python",
   "name": "python",
   "nbconvert_exporter": "python",
   "pygments_lexer": "ipython3",
   "version": "3.10.15"
  }
 },
 "nbformat": 4,
 "nbformat_minor": 2
}
