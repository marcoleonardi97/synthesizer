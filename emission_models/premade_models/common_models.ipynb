{
 "cells": [
  {
   "cell_type": "markdown",
   "metadata": {},
   "source": [
    "## Common Models\n",
    "\n",
    "Some models are common to all components. While these common models are the same in almost every respect these models do require an extra argument to define the \"emitter\" (``\"stellar\"``, ``\"blackhole\"``, or ``\"galaxy\"``) that they act on.\n",
    "\n",
    "### TemplateEmission\n",
    "\n",
    "A template is a simple generation model where a single template spectra is returned with some scaling applying. These can describe any emitter based on the spectra input into the template (which can either come from arrays of ``lnu`` and ``lam`` or a file). \n",
    "\n",
    "Generation from a template model requires a ``Template``, similar to the ``Grid`` required by extraction models."
   ]
  },
  {
   "cell_type": "code",
   "execution_count": 1,
   "metadata": {
    "execution": {
     "iopub.execute_input": "2024-09-03T18:47:59.801540Z",
     "iopub.status.busy": "2024-09-03T18:47:59.801069Z",
     "iopub.status.idle": "2024-09-03T18:48:01.892637Z",
     "shell.execute_reply": "2024-09-03T18:48:01.891926Z"
    }
   },
   "outputs": [
    {
     "name": "stdout",
     "output_type": "stream",
     "text": [
      "|================================= EmissionModel: template =================================|\n",
      "|-------------------------------------------------------------------------------------------|\n",
      "|  TEMPLATE (stellar)                                                                       |\n",
      "|-------------------------------------------------------------------------------------------|\n",
      "|Generation model:                                                                          |\n",
      "|  Emission generation model: <synthesizer.grid.Template object at 0x7fd3f073b340>          |\n",
      "|  Save emission: True                                                                      |\n",
      "|===========================================================================================|\n"
     ]
    }
   ],
   "source": [
    "import numpy as np\n",
    "from unyt import Hz, erg, kelvin, s\n",
    "\n",
    "from synthesizer.emission_models import TemplateEmission\n",
    "from synthesizer.emission_models.attenuation import PowerLaw\n",
    "from synthesizer.emission_models.dust.emission import Blackbody\n",
    "from synthesizer.grid import Grid, Template\n",
    "\n",
    "# Get the grid which we'll need for extraction\n",
    "grid_dir = \"../../../../tests/test_grid\"\n",
    "grid_name = \"test_grid\"\n",
    "grid = Grid(grid_name, grid_dir=grid_dir)\n",
    "\n",
    "# Make a fake template for the demo\n",
    "template = Template(\n",
    "    lam=grid.lam, lnu=np.random.rand(*grid.lam.shape) * erg / s / Hz\n",
    ")\n",
    "\n",
    "template_model = TemplateEmission(template, emitter=\"stellar\")\n",
    "print(template_model)"
   ]
  },
  {
   "cell_type": "markdown",
   "metadata": {},
   "source": [
    "### AttenuatedEmission\n",
    "\n",
    "Attenuated emission is any emission that has been attenuated by dust.\n",
    "An attenuated model takes a ``dust_curve`` (with a defined slope), an optical depth (``tau_v``, which can either be a value, array, attribute of an emitter, or a tuple containing any combination of the first 3), and a model to apply the dust attenuation to (``apply_dust_to``).\n",
    "Here we create a simple Intrinsic emission model to which we apply the dust attenuation."
   ]
  },
  {
   "cell_type": "code",
   "execution_count": 2,
   "metadata": {
    "execution": {
     "iopub.execute_input": "2024-09-03T18:48:01.895709Z",
     "iopub.status.busy": "2024-09-03T18:48:01.895221Z",
     "iopub.status.idle": "2024-09-03T18:48:01.900640Z",
     "shell.execute_reply": "2024-09-03T18:48:01.900088Z"
    }
   },
   "outputs": [
    {
     "name": "stdout",
     "output_type": "stream",
     "text": [
      "|====================================== EmissionModel: attenuated =======================================|\n",
      "|--------------------------------------------------------------------------------------------------------|\n",
      "|  ESCAPED (stellar)                                                                                     |\n",
      "|--------------------------------------------------------------------------------------------------------|\n",
      "|Extraction model:                                                                                       |\n",
      "|  Grid: test_grid                                                                                       |\n",
      "|  Extract key: transmitted                                                                              |\n",
      "|  Escape fraction: 0.9                                                                                  |\n",
      "|  Save emission: True                                                                                   |\n",
      "|--------------------------------------------------------------------------------------------------------|\n",
      "|  TRANSMITTED (stellar)                                                                                 |\n",
      "|--------------------------------------------------------------------------------------------------------|\n",
      "|Extraction model:                                                                                       |\n",
      "|  Grid: test_grid                                                                                       |\n",
      "|  Extract key: transmitted                                                                              |\n",
      "|  Escape fraction: 0.1                                                                                  |\n",
      "|  Save emission: True                                                                                   |\n",
      "|--------------------------------------------------------------------------------------------------------|\n",
      "|  NEBULAR (stellar)                                                                                     |\n",
      "|--------------------------------------------------------------------------------------------------------|\n",
      "|Extraction model:                                                                                       |\n",
      "|  Grid: test_grid                                                                                       |\n",
      "|  Extract key: nebular                                                                                  |\n",
      "|  Escape fraction: 0.1                                                                                  |\n",
      "|  Save emission: True                                                                                   |\n",
      "|--------------------------------------------------------------------------------------------------------|\n",
      "|  REPROCESSED (stellar)                                                                                 |\n",
      "|--------------------------------------------------------------------------------------------------------|\n",
      "|Combination model:                                                                                      |\n",
      "|  Combine models: nebular, transmitted                                                                  |\n",
      "|  Save emission: True                                                                                   |\n",
      "|--------------------------------------------------------------------------------------------------------|\n",
      "|  INTRINSIC (stellar)                                                                                   |\n",
      "|--------------------------------------------------------------------------------------------------------|\n",
      "|Combination model:                                                                                      |\n",
      "|  Combine models: escaped, reprocessed                                                                  |\n",
      "|  Save emission: True                                                                                   |\n",
      "|--------------------------------------------------------------------------------------------------------|\n",
      "|  ATTENUATED (stellar)                                                                                  |\n",
      "|--------------------------------------------------------------------------------------------------------|\n",
      "|Dust attenuation model:                                                                                 |\n",
      "|  Dust curve: <synthesizer.emission_models.attenuation.dust.PowerLaw object at 0x7fd3f075d360>          |\n",
      "|  Apply dust to: intrinsic                                                                              |\n",
      "|  Optical depth (tau_v): (0.5, 'tau_v')                                                                 |\n",
      "|  Save emission: True                                                                                   |\n",
      "|========================================================================================================|\n"
     ]
    }
   ],
   "source": [
    "from synthesizer.emission_models import AttenuatedEmission, IntrinsicEmission\n",
    "\n",
    "intrinsic = IntrinsicEmission(grid, fesc=0.1, fesc_ly_alpha=1.0)\n",
    "\n",
    "attenuated = AttenuatedEmission(\n",
    "    emitter=\"stellar\",\n",
    "    dust_curve=PowerLaw(slope=-1),\n",
    "    tau_v=(0.5, \"tau_v\"),\n",
    "    apply_dust_to=intrinsic,\n",
    ")\n",
    "print(attenuated)"
   ]
  },
  {
   "cell_type": "markdown",
   "metadata": {},
   "source": [
    "### DustEmission\n",
    "\n",
    "Dust emission is the reemited emission from the dust distribution due to the attenuation of another emission source. A dust emission model defines the generation of a spectra from a generator (e.g. ``Blackbody`` or ``Greybody``, see the [dust emission model docs](../dust_emission.ipynb)) and it its scaling using an energy balance approach."
   ]
  },
  {
   "cell_type": "code",
   "execution_count": 3,
   "metadata": {
    "execution": {
     "iopub.execute_input": "2024-09-03T18:48:01.903240Z",
     "iopub.status.busy": "2024-09-03T18:48:01.902826Z",
     "iopub.status.idle": "2024-09-03T18:48:01.907693Z",
     "shell.execute_reply": "2024-09-03T18:48:01.907127Z"
    }
   },
   "outputs": [
    {
     "name": "stdout",
     "output_type": "stream",
     "text": [
      "|============================================ EmissionModel: dust_emission ===========================================|\n",
      "|---------------------------------------------------------------------------------------------------------------------|\n",
      "|  ESCAPED (stellar)                                                                                                  |\n",
      "|---------------------------------------------------------------------------------------------------------------------|\n",
      "|Extraction model:                                                                                                    |\n",
      "|  Grid: test_grid                                                                                                    |\n",
      "|  Extract key: transmitted                                                                                           |\n",
      "|  Escape fraction: 0.9                                                                                               |\n",
      "|  Save emission: True                                                                                                |\n",
      "|---------------------------------------------------------------------------------------------------------------------|\n",
      "|  TRANSMITTED (stellar)                                                                                              |\n",
      "|---------------------------------------------------------------------------------------------------------------------|\n",
      "|Extraction model:                                                                                                    |\n",
      "|  Grid: test_grid                                                                                                    |\n",
      "|  Extract key: transmitted                                                                                           |\n",
      "|  Escape fraction: 0.1                                                                                               |\n",
      "|  Save emission: True                                                                                                |\n",
      "|---------------------------------------------------------------------------------------------------------------------|\n",
      "|  NEBULAR (stellar)                                                                                                  |\n",
      "|---------------------------------------------------------------------------------------------------------------------|\n",
      "|Extraction model:                                                                                                    |\n",
      "|  Grid: test_grid                                                                                                    |\n",
      "|  Extract key: nebular                                                                                               |\n",
      "|  Escape fraction: 0.1                                                                                               |\n",
      "|  Save emission: True                                                                                                |\n",
      "|---------------------------------------------------------------------------------------------------------------------|\n",
      "|  REPROCESSED (stellar)                                                                                              |\n",
      "|---------------------------------------------------------------------------------------------------------------------|\n",
      "|Combination model:                                                                                                   |\n",
      "|  Combine models: nebular, transmitted                                                                               |\n",
      "|  Save emission: True                                                                                                |\n",
      "|---------------------------------------------------------------------------------------------------------------------|\n",
      "|  INTRINSIC (stellar)                                                                                                |\n",
      "|---------------------------------------------------------------------------------------------------------------------|\n",
      "|Combination model:                                                                                                   |\n",
      "|  Combine models: escaped, reprocessed                                                                               |\n",
      "|  Save emission: True                                                                                                |\n",
      "|---------------------------------------------------------------------------------------------------------------------|\n",
      "|  ATTENUATED (stellar)                                                                                               |\n",
      "|---------------------------------------------------------------------------------------------------------------------|\n",
      "|Dust attenuation model:                                                                                              |\n",
      "|  Dust curve: <synthesizer.emission_models.attenuation.dust.PowerLaw object at 0x7fd3f075d360>                       |\n",
      "|  Apply dust to: intrinsic                                                                                           |\n",
      "|  Optical depth (tau_v): (0.5, 'tau_v')                                                                              |\n",
      "|  Save emission: True                                                                                                |\n",
      "|---------------------------------------------------------------------------------------------------------------------|\n",
      "|  DUST_EMISSION (stellar)                                                                                            |\n",
      "|---------------------------------------------------------------------------------------------------------------------|\n",
      "|Generation model:                                                                                                    |\n",
      "|  Emission generation model: <synthesizer.emission_models.dust.emission.Blackbody object at 0x7fd3f075df00>          |\n",
      "|  Dust luminosity: intrinsic - attenuated                                                                            |\n",
      "|  Save emission: True                                                                                                |\n",
      "|=====================================================================================================================|\n"
     ]
    }
   ],
   "source": [
    "from synthesizer.emission_models import DustEmission\n",
    "\n",
    "dust_model = DustEmission(\n",
    "    dust_emission_model=Blackbody(50 * kelvin),\n",
    "    dust_lum_intrinsic=intrinsic,\n",
    "    dust_lum_attenuated=attenuated,\n",
    "    emitter=\"stellar\",\n",
    ")\n",
    "print(dust_model)"
   ]
  }
 ],
 "metadata": {
  "language_info": {
   "codemirror_mode": {
    "name": "ipython",
    "version": 3
   },
   "file_extension": ".py",
   "mimetype": "text/x-python",
   "name": "python",
   "nbconvert_exporter": "python",
   "pygments_lexer": "ipython3",
   "version": "3.10.14"
  }
 },
 "nbformat": 4,
 "nbformat_minor": 2
}
