{
 "cells": [
  {
   "cell_type": "markdown",
   "metadata": {},
   "source": [
    "# Creating your own EmissionModel\n",
    "\n",
    "To create your own `EmissionModel` all you need to do is define each indiviudal emission type and relate them. This operation will define a tree-like structure, where each model links to at least one other model. \n",
    "\n",
    "In the sections below we will detail how to define each different type of emission operation, but there are a few arguments needed by an ``EmissionModel`` regardless of the operation:\n",
    "\n",
    "- A **label** which identifies the model. These must be unique within a single emission model \"tree\".\n",
    "- An emitter to act on. This is given by passing a string to the emitter argument. Currently the possible emitters are: ``\"stellar\"``, ``\"blackhole\"``, and ``\"galaxy\"``.\n"
   ]
  },
  {
   "cell_type": "code",
   "execution_count": 1,
   "metadata": {
    "execution": {
     "iopub.execute_input": "2024-07-19T10:19:18.771995Z",
     "iopub.status.busy": "2024-07-19T10:19:18.771464Z",
     "iopub.status.idle": "2024-07-19T10:19:20.884887Z",
     "shell.execute_reply": "2024-07-19T10:19:20.884179Z"
    }
   },
   "outputs": [],
   "source": [
    "from synthesizer.emission_models import EmissionModel\n",
    "from synthesizer.emission_models.attenuation import PowerLaw\n",
    "from synthesizer.emission_models.dust.emission import Blackbody\n",
    "from synthesizer.grid import Grid\n",
    "from unyt import cm, dimensionless, kelvin, km, s\n",
    "\n",
    "# Get the grid which we'll need for extraction\n",
    "grid_dir = \"../../../tests/test_grid\"\n",
    "grid_name = \"test_grid\"\n",
    "grid = Grid(grid_name, grid_dir=grid_dir)"
   ]
  },
  {
   "cell_type": "markdown",
   "metadata": {},
   "source": [
    "\n",
    "## Defining an extraction\n",
    "\n",
    "To define an extraction we simply need to pass a `Grid` to extract from and a key to extract (with the option of providing an escape fraction)."
   ]
  },
  {
   "cell_type": "code",
   "execution_count": 2,
   "metadata": {
    "execution": {
     "iopub.execute_input": "2024-07-19T10:19:20.888328Z",
     "iopub.status.busy": "2024-07-19T10:19:20.887712Z",
     "iopub.status.idle": "2024-07-19T10:19:20.891911Z",
     "shell.execute_reply": "2024-07-19T10:19:20.891229Z"
    }
   },
   "outputs": [
    {
     "name": "stdout",
     "output_type": "stream",
     "text": [
      "|==== EmissionModel: transmitted ====|\n",
      "|------------------------------------|\n",
      "|  TRANSMITTED (galaxy)              |\n",
      "|------------------------------------|\n",
      "|Extraction model:                   |\n",
      "|  Grid: test_grid                   |\n",
      "|  Extract key: transmitted          |\n",
      "|  Escape fraction: 0.3              |\n",
      "|  Save emission: True               |\n",
      "|====================================|\n"
     ]
    }
   ],
   "source": [
    "transmitted = EmissionModel(\n",
    "    \"transmitted\", grid=grid, extract=\"transmitted\", fesc=0.3\n",
    ")\n",
    "print(transmitted)"
   ]
  },
  {
   "cell_type": "markdown",
   "metadata": {},
   "source": [
    "## Defining a combination\n",
    "\n",
    "To define a combination we simply pass the models we want combined to the `combine` keyword (along with a label)."
   ]
  },
  {
   "cell_type": "code",
   "execution_count": 3,
   "metadata": {
    "execution": {
     "iopub.execute_input": "2024-07-19T10:19:20.894423Z",
     "iopub.status.busy": "2024-07-19T10:19:20.894207Z",
     "iopub.status.idle": "2024-07-19T10:19:20.903576Z",
     "shell.execute_reply": "2024-07-19T10:19:20.902995Z"
    }
   },
   "outputs": [
    {
     "name": "stdout",
     "output_type": "stream",
     "text": [
      "|================ EmissionModel: nebular ===============|\n",
      "|-------------------------------------------------------|\n",
      "|  LINECONT (galaxy)                                    |\n",
      "|-------------------------------------------------------|\n",
      "|Extraction model:                                      |\n",
      "|  Grid: test_grid                                      |\n",
      "|  Extract key: linecont                                |\n",
      "|  Escape fraction: 0.7                                 |\n",
      "|  Save emission: True                                  |\n",
      "|  Masks:                                               |\n",
      "|    - log10ages < 7 dimensionless                      |\n",
      "|-------------------------------------------------------|\n",
      "|  NEBULAR_CONTINUUM (galaxy)                           |\n",
      "|-------------------------------------------------------|\n",
      "|Extraction model:                                      |\n",
      "|  Grid: test_grid                                      |\n",
      "|  Extract key: nebular_continuum                       |\n",
      "|  Escape fraction: None                                |\n",
      "|  Save emission: True                                  |\n",
      "|  Masks:                                               |\n",
      "|    - log10ages < 7 dimensionless                      |\n",
      "|-------------------------------------------------------|\n",
      "|  NEBULAR (galaxy)                                     |\n",
      "|-------------------------------------------------------|\n",
      "|Combination model:                                     |\n",
      "|  Combine models: linecont, nebular_continuum          |\n",
      "|  Save emission: True                                  |\n",
      "|=======================================================|\n"
     ]
    }
   ],
   "source": [
    "# Define models to combine\n",
    "linecont = EmissionModel(\n",
    "    \"linecont\",\n",
    "    grid=grid,\n",
    "    extract=\"linecont\",\n",
    "    mask_attr=\"log10ages\",\n",
    "    mask_thresh=7 * dimensionless,\n",
    "    mask_op=\"<\",\n",
    "    fesc=0.7,\n",
    ")\n",
    "nebular_cont = EmissionModel(\n",
    "    \"nebular_continuum\",\n",
    "    grid=grid,\n",
    "    extract=\"nebular_continuum\",\n",
    "    mask_attr=\"log10ages\",\n",
    "    mask_thresh=7 * dimensionless,\n",
    "    mask_op=\"<\",\n",
    ")\n",
    "\n",
    "# Define the combined model\n",
    "nebular = EmissionModel(\"nebular\", combine=(linecont, nebular_cont))\n",
    "print(nebular)"
   ]
  },
  {
   "cell_type": "markdown",
   "metadata": {},
   "source": [
    "## Defining an attenuation\n",
    "\n",
    "To define an attenuated emission model we need a dust curve, the model to apply the dust to, and an optical depth (once again along with a label).\n",
    "\n",
    "Any property can also have strings passed instead of numbers. When a string is passed the spectra generator method will look for an attribute on an emitter using this string. This is only applicable for certain properties, e.g. `tau_v` and `fesc`."
   ]
  },
  {
   "cell_type": "code",
   "execution_count": 4,
   "metadata": {
    "execution": {
     "iopub.execute_input": "2024-07-19T10:19:20.906289Z",
     "iopub.status.busy": "2024-07-19T10:19:20.905901Z",
     "iopub.status.idle": "2024-07-19T10:19:20.910339Z",
     "shell.execute_reply": "2024-07-19T10:19:20.909780Z"
    }
   },
   "outputs": [
    {
     "name": "stdout",
     "output_type": "stream",
     "text": [
      "|====================================== EmissionModel: attenuated =======================================|\n",
      "|--------------------------------------------------------------------------------------------------------|\n",
      "|  LINECONT (galaxy)                                                                                     |\n",
      "|--------------------------------------------------------------------------------------------------------|\n",
      "|Extraction model:                                                                                       |\n",
      "|  Grid: test_grid                                                                                       |\n",
      "|  Extract key: linecont                                                                                 |\n",
      "|  Escape fraction: 0.7                                                                                  |\n",
      "|  Save emission: True                                                                                   |\n",
      "|  Masks:                                                                                                |\n",
      "|    - log10ages < 7 dimensionless                                                                       |\n",
      "|--------------------------------------------------------------------------------------------------------|\n",
      "|  NEBULAR_CONTINUUM (galaxy)                                                                            |\n",
      "|--------------------------------------------------------------------------------------------------------|\n",
      "|Extraction model:                                                                                       |\n",
      "|  Grid: test_grid                                                                                       |\n",
      "|  Extract key: nebular_continuum                                                                        |\n",
      "|  Escape fraction: None                                                                                 |\n",
      "|  Save emission: True                                                                                   |\n",
      "|  Masks:                                                                                                |\n",
      "|    - log10ages < 7 dimensionless                                                                       |\n",
      "|--------------------------------------------------------------------------------------------------------|\n",
      "|  NEBULAR (galaxy)                                                                                      |\n",
      "|--------------------------------------------------------------------------------------------------------|\n",
      "|Combination model:                                                                                      |\n",
      "|  Combine models: linecont, nebular_continuum                                                           |\n",
      "|  Save emission: True                                                                                   |\n",
      "|--------------------------------------------------------------------------------------------------------|\n",
      "|  ATTENUATED (galaxy)                                                                                   |\n",
      "|--------------------------------------------------------------------------------------------------------|\n",
      "|Dust attenuation model:                                                                                 |\n",
      "|  Dust curve: <synthesizer.emission_models.attenuation.dust.PowerLaw object at 0x7fcec9d3b280>          |\n",
      "|  Apply dust to: nebular                                                                                |\n",
      "|  Optical depth (tau_v): ['tau_v']                                                                      |\n",
      "|  Save emission: True                                                                                   |\n",
      "|========================================================================================================|\n"
     ]
    }
   ],
   "source": [
    "attenuated = EmissionModel(\n",
    "    \"attenuated\",\n",
    "    dust_curve=PowerLaw(slope=-1),\n",
    "    apply_dust_to=nebular,\n",
    "    tau_v=\"tau_v\",\n",
    ")\n",
    "print(attenuated)"
   ]
  },
  {
   "cell_type": "markdown",
   "metadata": {},
   "source": [
    "## Defining a generation\n",
    "\n",
    "To define a generation model we only need to provide the generator class (i.e. a ``Blackbody``)."
   ]
  },
  {
   "cell_type": "code",
   "execution_count": 5,
   "metadata": {
    "execution": {
     "iopub.execute_input": "2024-07-19T10:19:20.913008Z",
     "iopub.status.busy": "2024-07-19T10:19:20.912648Z",
     "iopub.status.idle": "2024-07-19T10:19:20.916830Z",
     "shell.execute_reply": "2024-07-19T10:19:20.916014Z"
    }
   },
   "outputs": [
    {
     "name": "stdout",
     "output_type": "stream",
     "text": [
      "|========================================= EmissionModel: blackbody_emission =========================================|\n",
      "|---------------------------------------------------------------------------------------------------------------------|\n",
      "|  BLACKBODY_EMISSION (galaxy)                                                                                        |\n",
      "|---------------------------------------------------------------------------------------------------------------------|\n",
      "|Generation model:                                                                                                    |\n",
      "|  Emission generation model: <synthesizer.emission_models.dust.emission.Blackbody object at 0x7fcf04e7b100>          |\n",
      "|  Save emission: True                                                                                                |\n",
      "|=====================================================================================================================|\n"
     ]
    }
   ],
   "source": [
    "from synthesizer.emission_models.dust.emission import Blackbody\n",
    "\n",
    "bb_emission = EmissionModel(\n",
    "    \"blackbody_emission\",\n",
    "    generator=Blackbody(50 * kelvin),\n",
    ")\n",
    "print(bb_emission)"
   ]
  },
  {
   "cell_type": "markdown",
   "metadata": {},
   "source": [
    "If we want to scale the generated emission by another emission model we can pass that as the ``lum_intrinsic_model``."
   ]
  },
  {
   "cell_type": "code",
   "execution_count": 6,
   "metadata": {
    "execution": {
     "iopub.execute_input": "2024-07-19T10:19:20.920258Z",
     "iopub.status.busy": "2024-07-19T10:19:20.919807Z",
     "iopub.status.idle": "2024-07-19T10:19:20.923964Z",
     "shell.execute_reply": "2024-07-19T10:19:20.923347Z"
    }
   },
   "outputs": [
    {
     "name": "stdout",
     "output_type": "stream",
     "text": [
      "|========================================= EmissionModel: blackbody_emission =========================================|\n",
      "|---------------------------------------------------------------------------------------------------------------------|\n",
      "|  TRANSMITTED (galaxy)                                                                                               |\n",
      "|---------------------------------------------------------------------------------------------------------------------|\n",
      "|Extraction model:                                                                                                    |\n",
      "|  Grid: test_grid                                                                                                    |\n",
      "|  Extract key: transmitted                                                                                           |\n",
      "|  Escape fraction: 0.3                                                                                               |\n",
      "|  Save emission: True                                                                                                |\n",
      "|---------------------------------------------------------------------------------------------------------------------|\n",
      "|  BLACKBODY_EMISSION (galaxy)                                                                                        |\n",
      "|---------------------------------------------------------------------------------------------------------------------|\n",
      "|Generation model:                                                                                                    |\n",
      "|  Emission generation model: <synthesizer.emission_models.dust.emission.Blackbody object at 0x7fcec9d390c0>          |\n",
      "|  Scale by: transmitted                                                                                              |\n",
      "|  Save emission: True                                                                                                |\n",
      "|=====================================================================================================================|\n"
     ]
    }
   ],
   "source": [
    "scaled_bb_emission = EmissionModel(\n",
    "    \"blackbody_emission\",\n",
    "    generator=Blackbody(50 * kelvin),\n",
    "    lum_intrinsic_model=transmitted,\n",
    ")\n",
    "print(scaled_bb_emission)"
   ]
  },
  {
   "cell_type": "markdown",
   "metadata": {},
   "source": [
    "For the special case of energy balance dust emission you can pass both the intrinsic and attenuated models to scale by the emission reprocessed by dust."
   ]
  },
  {
   "cell_type": "code",
   "execution_count": 7,
   "metadata": {
    "execution": {
     "iopub.execute_input": "2024-07-19T10:19:20.926388Z",
     "iopub.status.busy": "2024-07-19T10:19:20.926187Z",
     "iopub.status.idle": "2024-07-19T10:19:20.930882Z",
     "shell.execute_reply": "2024-07-19T10:19:20.930341Z"
    }
   },
   "outputs": [
    {
     "name": "stdout",
     "output_type": "stream",
     "text": [
      "|========================================= EmissionModel: blackbody_emission =========================================|\n",
      "|---------------------------------------------------------------------------------------------------------------------|\n",
      "|  LINECONT (galaxy)                                                                                                  |\n",
      "|---------------------------------------------------------------------------------------------------------------------|\n",
      "|Extraction model:                                                                                                    |\n",
      "|  Grid: test_grid                                                                                                    |\n",
      "|  Extract key: linecont                                                                                              |\n",
      "|  Escape fraction: 0.7                                                                                               |\n",
      "|  Save emission: True                                                                                                |\n",
      "|  Masks:                                                                                                             |\n",
      "|    - log10ages < 7 dimensionless                                                                                    |\n",
      "|---------------------------------------------------------------------------------------------------------------------|\n",
      "|  NEBULAR_CONTINUUM (galaxy)                                                                                         |\n",
      "|---------------------------------------------------------------------------------------------------------------------|\n",
      "|Extraction model:                                                                                                    |\n",
      "|  Grid: test_grid                                                                                                    |\n",
      "|  Extract key: nebular_continuum                                                                                     |\n",
      "|  Escape fraction: None                                                                                              |\n",
      "|  Save emission: True                                                                                                |\n",
      "|  Masks:                                                                                                             |\n",
      "|    - log10ages < 7 dimensionless                                                                                    |\n",
      "|---------------------------------------------------------------------------------------------------------------------|\n",
      "|  TRANSMITTED (galaxy)                                                                                               |\n",
      "|---------------------------------------------------------------------------------------------------------------------|\n",
      "|Extraction model:                                                                                                    |\n",
      "|  Grid: test_grid                                                                                                    |\n",
      "|  Extract key: transmitted                                                                                           |\n",
      "|  Escape fraction: 0.3                                                                                               |\n",
      "|  Save emission: True                                                                                                |\n",
      "|---------------------------------------------------------------------------------------------------------------------|\n",
      "|  NEBULAR (galaxy)                                                                                                   |\n",
      "|---------------------------------------------------------------------------------------------------------------------|\n",
      "|Combination model:                                                                                                   |\n",
      "|  Combine models: linecont, nebular_continuum                                                                        |\n",
      "|  Save emission: True                                                                                                |\n",
      "|---------------------------------------------------------------------------------------------------------------------|\n",
      "|  ATTENUATED (galaxy)                                                                                                |\n",
      "|---------------------------------------------------------------------------------------------------------------------|\n",
      "|Dust attenuation model:                                                                                              |\n",
      "|  Dust curve: <synthesizer.emission_models.attenuation.dust.PowerLaw object at 0x7fcec9d3b280>                       |\n",
      "|  Apply dust to: nebular                                                                                             |\n",
      "|  Optical depth (tau_v): ['tau_v']                                                                                   |\n",
      "|  Save emission: True                                                                                                |\n",
      "|---------------------------------------------------------------------------------------------------------------------|\n",
      "|  BLACKBODY_EMISSION (galaxy)                                                                                        |\n",
      "|---------------------------------------------------------------------------------------------------------------------|\n",
      "|Generation model:                                                                                                    |\n",
      "|  Emission generation model: <synthesizer.emission_models.dust.emission.Blackbody object at 0x7fcec9d38970>          |\n",
      "|  Dust luminosity: transmitted - attenuated                                                                          |\n",
      "|  Save emission: True                                                                                                |\n",
      "|=====================================================================================================================|\n"
     ]
    }
   ],
   "source": [
    "dust_emission = EmissionModel(\n",
    "    \"blackbody_emission\",\n",
    "    generator=Blackbody(50 * kelvin),\n",
    "    lum_intrinsic_model=transmitted,\n",
    "    lum_attenuated_model=attenuated,\n",
    ")\n",
    "print(dust_emission)"
   ]
  },
  {
   "cell_type": "markdown",
   "metadata": {},
   "source": [
    "## Including a mask\n",
    "\n",
    "A mask can be included in any step by passing `mask_attr`, `mask_thresh`, and `mask_op`."
   ]
  },
  {
   "cell_type": "code",
   "execution_count": 8,
   "metadata": {
    "execution": {
     "iopub.execute_input": "2024-07-19T10:19:20.933401Z",
     "iopub.status.busy": "2024-07-19T10:19:20.933003Z",
     "iopub.status.idle": "2024-07-19T10:19:20.936201Z",
     "shell.execute_reply": "2024-07-19T10:19:20.935618Z"
    }
   },
   "outputs": [],
   "source": [
    "masked_transmitted = EmissionModel(\n",
    "    \"masked_transmitted\",\n",
    "    grid=grid,\n",
    "    extract=\"transmitted\",\n",
    "    fesc=\"fesc\",\n",
    "    mask_attr=\"log10ages\",\n",
    "    mask_thresh=7 * dimensionless,\n",
    "    mask_op=\"<\",\n",
    ")"
   ]
  },
  {
   "cell_type": "markdown",
   "metadata": {},
   "source": [
    "We can also define multiple masks on a single step.\n",
    "To add more masks, use the ``add_mask`` method, as demonstrated on the [premade models](premade_models/premade_models.rst).\n",
    "These will be combined with a boolean ``and`` operation at the point of spectra generation."
   ]
  },
  {
   "cell_type": "code",
   "execution_count": 9,
   "metadata": {
    "execution": {
     "iopub.execute_input": "2024-07-19T10:19:20.938826Z",
     "iopub.status.busy": "2024-07-19T10:19:20.938443Z",
     "iopub.status.idle": "2024-07-19T10:19:20.942149Z",
     "shell.execute_reply": "2024-07-19T10:19:20.941456Z"
    }
   },
   "outputs": [
    {
     "name": "stdout",
     "output_type": "stream",
     "text": [
      "|======== EmissionModel: masked_transmitted ========|\n",
      "|---------------------------------------------------|\n",
      "|  MASKED_TRANSMITTED (galaxy)                      |\n",
      "|---------------------------------------------------|\n",
      "|Extraction model:                                  |\n",
      "|  Grid: test_grid                                  |\n",
      "|  Extract key: transmitted                         |\n",
      "|  Escape fraction: fesc                            |\n",
      "|  Save emission: True                              |\n",
      "|  Masks:                                           |\n",
      "|    - log10ages < 7 dimensionless                  |\n",
      "|    - metallicities < 0.01 dimensionless           |\n",
      "|    - log10ages < 6 dimensionless                  |\n",
      "|===================================================|\n"
     ]
    }
   ],
   "source": [
    "masked_transmitted.add_mask(\"metallicities\", \"<\", 0.01 * dimensionless)\n",
    "masked_transmitted.add_mask(\"log10ages\", \"<\", 6 * dimensionless)\n",
    "print(masked_transmitted)"
   ]
  },
  {
   "cell_type": "markdown",
   "metadata": {},
   "source": [
    "## Including related models\n",
    "\n",
    "In many instances you'll have a primary emissions spectra that you wish to calculate, plus some extra emission models that get produced along the way, but do not feature in the main \"tree\".\n",
    "To include these models, and ensure their spectra is generated by calls to ``get_spectra`` or ``get_lines`` methods, you can pass them to the ``related_models`` argument at instantiation."
   ]
  },
  {
   "cell_type": "code",
   "execution_count": 10,
   "metadata": {
    "execution": {
     "iopub.execute_input": "2024-07-19T10:19:20.944766Z",
     "iopub.status.busy": "2024-07-19T10:19:20.944286Z",
     "iopub.status.idle": "2024-07-19T10:19:20.948437Z",
     "shell.execute_reply": "2024-07-19T10:19:20.947901Z"
    }
   },
   "outputs": [
    {
     "name": "stdout",
     "output_type": "stream",
     "text": [
      "|================ EmissionModel: nebular ===============|\n",
      "|-------------------------------------------------------|\n",
      "|  LINECONT (galaxy)                                    |\n",
      "|-------------------------------------------------------|\n",
      "|Extraction model:                                      |\n",
      "|  Grid: test_grid                                      |\n",
      "|  Extract key: linecont                                |\n",
      "|  Escape fraction: 0.7                                 |\n",
      "|  Save emission: True                                  |\n",
      "|  Masks:                                               |\n",
      "|    - log10ages < 7 dimensionless                      |\n",
      "|-------------------------------------------------------|\n",
      "|  NEBULAR_CONTINUUM (galaxy)                           |\n",
      "|-------------------------------------------------------|\n",
      "|Extraction model:                                      |\n",
      "|  Grid: test_grid                                      |\n",
      "|  Extract key: nebular_continuum                       |\n",
      "|  Escape fraction: None                                |\n",
      "|  Save emission: True                                  |\n",
      "|  Masks:                                               |\n",
      "|    - log10ages < 7 dimensionless                      |\n",
      "|-------------------------------------------------------|\n",
      "|  TRANSMITTED (galaxy)                                 |\n",
      "|-------------------------------------------------------|\n",
      "|Extraction model:                                      |\n",
      "|  Grid: test_grid                                      |\n",
      "|  Extract key: transmitted                             |\n",
      "|  Escape fraction: 0.3                                 |\n",
      "|  Save emission: True                                  |\n",
      "|-------------------------------------------------------|\n",
      "|  NEBULAR (galaxy)                                     |\n",
      "|-------------------------------------------------------|\n",
      "|Combination model:                                     |\n",
      "|  Combine models: linecont, nebular_continuum          |\n",
      "|  Save emission: True                                  |\n",
      "|=======================================================|\n"
     ]
    }
   ],
   "source": [
    "# Define the combined model\n",
    "nebular = EmissionModel(\n",
    "    \"nebular\", combine=(linecont, nebular_cont), related_models=(transmitted)\n",
    ")\n",
    "print(nebular)"
   ]
  },
  {
   "cell_type": "markdown",
   "metadata": {},
   "source": [
    "## Fixing parameters\n",
    "\n",
    "When an emission model is used in a ``get_spectra`` method, any parameters the model does not define will be extracted from the emitter.\n",
    "If you would like to set any of these to fixed values you can pass a dictionary of parameters to a model at instantiation.\n",
    "\n",
    "For demonstration purposes, below we create an AGN NLR emission model with fixed NLR parameters.\n",
    "This can also be done with a setter after instantiation (see the model modification [docs](modify_models.ipynb))."
   ]
  },
  {
   "cell_type": "code",
   "execution_count": 11,
   "metadata": {
    "execution": {
     "iopub.execute_input": "2024-07-19T10:19:20.951077Z",
     "iopub.status.busy": "2024-07-19T10:19:20.950654Z",
     "iopub.status.idle": "2024-07-19T10:19:21.353675Z",
     "shell.execute_reply": "2024-07-19T10:19:21.352956Z"
    }
   },
   "outputs": [
    {
     "name": "stdout",
     "output_type": "stream",
     "text": [
      "|================= EmissionModel: nlr =================|\n",
      "|------------------------------------------------------|\n",
      "|  NLR (galaxy)                                        |\n",
      "|------------------------------------------------------|\n",
      "|Extraction model:                                     |\n",
      "|  Grid: test_grid_agn-nlr                             |\n",
      "|  Extract key: nebular                                |\n",
      "|  Escape fraction: 0.1                                |\n",
      "|  Save emission: True                                 |\n",
      "|  Fixed parameters:                                   |\n",
      "|    - ionisation_parameter_nlr: 0.01                  |\n",
      "|    - hydrogen_density_nlr: 10000.0 cm**(-3)          |\n",
      "|    - covering_fraction_nlr: 0.1                      |\n",
      "|    - velocity_dispersion_nlr: 500 km/s               |\n",
      "|======================================================|\n"
     ]
    }
   ],
   "source": [
    "# Get the NLR and BLR grids\n",
    "nlr_grid = Grid(\"test_grid_agn-nlr\", grid_dir=\"../../../tests/test_grid\")\n",
    "\n",
    "nlr = EmissionModel(\n",
    "    label=\"nlr\",\n",
    "    extract=\"nebular\",\n",
    "    grid=nlr_grid,\n",
    "    fesc=0.1,  # covering fraction\n",
    "    fixed_parameters={\n",
    "        \"ionisation_parameter_nlr\": 0.01,\n",
    "        \"hydrogen_density_nlr\": 1e4 / cm**3,\n",
    "        \"covering_fraction_nlr\": 0.1,\n",
    "        \"velocity_dispersion_nlr\": 500 * km / s,\n",
    "    },\n",
    ")\n",
    "print(nlr)"
   ]
  },
  {
   "cell_type": "markdown",
   "metadata": {},
   "source": [
    "## Using post processing functions\n",
    "\n",
    "You may want to apply some post processing to your resulting spectra that isn't offered by synthesizer.\n",
    "In these cases you can pass a list of \"post processing functions\" to the ``EmissionModel``.\n",
    "These functions will be called in the order they are passed, after all spectra have been generated. \n",
    "\n",
    "These post processing functions must take the following arguments:\n",
    "\n",
    "- A dictionary of spectra / lines, where the dictionary will be filled by key-value pairs of emission model labels and the spectra / lines they produce (``Sed``/``LineCollection``) ``{<model.label>: <spectra / lines>}``. \n",
    "- A dictionary of galaxy / component objects, where the dictionary will be ``{\"stellar\": Stars, \"blackhole\": BlackHoles, \"galaxy\": Galaxy}``.\n",
    "- An ``EmissionModel``. \n",
    "\n",
    "Each post processing function should also return the dictionary of spectra / lines with the modified values.\n",
    "\n",
    "When ``get_spectra`` is called, and all spectra have been generated, any post processing functions will be called with these arguments (in the order listed above).\n",
    "\n",
    "Below we define a **fake** function to perform some arbitrary mass scaling of the spectra. "
   ]
  },
  {
   "cell_type": "code",
   "execution_count": 12,
   "metadata": {
    "execution": {
     "iopub.execute_input": "2024-07-19T10:19:21.357038Z",
     "iopub.status.busy": "2024-07-19T10:19:21.356539Z",
     "iopub.status.idle": "2024-07-19T10:19:21.362638Z",
     "shell.execute_reply": "2024-07-19T10:19:21.362022Z"
    }
   },
   "outputs": [],
   "source": [
    "def scale_by_mass(emission, emitters, model):\n",
    "    \"\"\"\n",
    "    Scale the emission by mass.\n",
    "\n",
    "    Args:\n",
    "        emission (dict): A dictionary of emissions.\n",
    "        emitters (dict): A dictionary of emitters.\n",
    "        model (EmissionModel): The model defining the emissions.\n",
    "    \"\"\"\n",
    "    # Loop over emissions\n",
    "    for key, value in emission.values():\n",
    "        # Get model\n",
    "        this_model = model[key]\n",
    "\n",
    "        # Get the emitter\n",
    "        emitter = emitters[this_model.emitter]\n",
    "\n",
    "        # Scale the emission\n",
    "        value *= emitter.masses\n",
    "\n",
    "    return emission\n",
    "\n",
    "\n",
    "nebular = EmissionModel(\n",
    "    \"nebular\",\n",
    "    combine=(linecont, nebular_cont),\n",
    "    related_models=(transmitted),\n",
    "    post_processing=(scale_by_mass,),\n",
    ")"
   ]
  },
  {
   "cell_type": "markdown",
   "metadata": {},
   "source": [
    "# Saving or not saving the emission\n",
    "\n",
    "By default all emissions produced by a model will be attached to an emitter after generation. If you would like to instead discard a spectra (but still have it generated for making other spectra) you can pass `save=False` to the emission model at instantiation."
   ]
  },
  {
   "cell_type": "code",
   "execution_count": 13,
   "metadata": {
    "execution": {
     "iopub.execute_input": "2024-07-19T10:19:21.365493Z",
     "iopub.status.busy": "2024-07-19T10:19:21.365030Z",
     "iopub.status.idle": "2024-07-19T10:19:21.368944Z",
     "shell.execute_reply": "2024-07-19T10:19:21.368314Z"
    }
   },
   "outputs": [],
   "source": [
    "throw_away = EmissionModel(\n",
    "    \"throw_away\",\n",
    "    combine=(linecont, nebular_cont),\n",
    "    save=False,\n",
    ")"
   ]
  },
  {
   "cell_type": "markdown",
   "metadata": {},
   "source": [
    "## Putting it all together\n",
    "\n",
    "In the example below we demonstrate how to construct a complex model.\n",
    "We reconstruct the `TotalEmission` model with the [Charlot&Fall+2000](https://ui.adsabs.harvard.edu/abs/2000ApJ...539..718C/abstract) -- like attenuation operation explicitly."
   ]
  },
  {
   "cell_type": "code",
   "execution_count": 14,
   "metadata": {
    "execution": {
     "iopub.execute_input": "2024-07-19T10:19:21.371729Z",
     "iopub.status.busy": "2024-07-19T10:19:21.371334Z",
     "iopub.status.idle": "2024-07-19T10:19:21.509656Z",
     "shell.execute_reply": "2024-07-19T10:19:21.508935Z"
    }
   },
   "outputs": [
    {
     "data": {
      "image/png": "[encoded data removed]",
      "text/plain": [
       "<Figure size 600x600 with 1 Axes>"
      ]
     },
     "metadata": {},
     "output_type": "display_data"
    },
    {
     "name": "stdout",
     "output_type": "stream",
     "text": [
      "|================================================ EmissionModel: total ===============================================|\n",
      "|---------------------------------------------------------------------------------------------------------------------|\n",
      "|  LINECONT (stellar)                                                                                                 |\n",
      "|---------------------------------------------------------------------------------------------------------------------|\n",
      "|Extraction model:                                                                                                    |\n",
      "|  Grid: test_grid                                                                                                    |\n",
      "|  Extract key: linecont                                                                                              |\n",
      "|  Escape fraction: 0.7                                                                                               |\n",
      "|  Save emission: False                                                                                               |\n",
      "|  Masks:                                                                                                             |\n",
      "|    - log10ages < 7 dimensionless                                                                                    |\n",
      "|---------------------------------------------------------------------------------------------------------------------|\n",
      "|  NEBULAR_CONTINUUM (stellar)                                                                                        |\n",
      "|---------------------------------------------------------------------------------------------------------------------|\n",
      "|Extraction model:                                                                                                    |\n",
      "|  Grid: test_grid                                                                                                    |\n",
      "|  Extract key: nebular_continuum                                                                                     |\n",
      "|  Escape fraction: None                                                                                              |\n",
      "|  Save emission: False                                                                                               |\n",
      "|  Masks:                                                                                                             |\n",
      "|    - log10ages < 7 dimensionless                                                                                    |\n",
      "|---------------------------------------------------------------------------------------------------------------------|\n",
      "|  TRANSMITTED (stellar)                                                                                              |\n",
      "|---------------------------------------------------------------------------------------------------------------------|\n",
      "|Extraction model:                                                                                                    |\n",
      "|  Grid: test_grid                                                                                                    |\n",
      "|  Extract key: transmitted                                                                                           |\n",
      "|  Escape fraction: 0.3                                                                                               |\n",
      "|  Save emission: True                                                                                                |\n",
      "|---------------------------------------------------------------------------------------------------------------------|\n",
      "|  ESCAPED (stellar)                                                                                                  |\n",
      "|---------------------------------------------------------------------------------------------------------------------|\n",
      "|Extraction model:                                                                                                    |\n",
      "|  Grid: test_grid                                                                                                    |\n",
      "|  Extract key: transmitted                                                                                           |\n",
      "|  Escape fraction: 0.7                                                                                               |\n",
      "|  Save emission: True                                                                                                |\n",
      "|---------------------------------------------------------------------------------------------------------------------|\n",
      "|  NEBULAR (stellar)                                                                                                  |\n",
      "|---------------------------------------------------------------------------------------------------------------------|\n",
      "|Combination model:                                                                                                   |\n",
      "|  Combine models: linecont, nebular_continuum                                                                        |\n",
      "|  Save emission: True                                                                                                |\n",
      "|---------------------------------------------------------------------------------------------------------------------|\n",
      "|  REPROCESSED (stellar)                                                                                              |\n",
      "|---------------------------------------------------------------------------------------------------------------------|\n",
      "|Combination model:                                                                                                   |\n",
      "|  Combine models: nebular, transmitted                                                                               |\n",
      "|  Save emission: True                                                                                                |\n",
      "|---------------------------------------------------------------------------------------------------------------------|\n",
      "|  YOUNG_ATTENUATED (stellar)                                                                                         |\n",
      "|---------------------------------------------------------------------------------------------------------------------|\n",
      "|Dust attenuation model:                                                                                              |\n",
      "|  Dust curve: <class 'synthesizer.emission_models.attenuation.dust.PowerLaw'>                                        |\n",
      "|  Apply dust to: reprocessed                                                                                         |\n",
      "|  Optical depth (tau_v): ('tau_v', 0.67)                                                                             |\n",
      "|  Save emission: False                                                                                               |\n",
      "|  Masks:                                                                                                             |\n",
      "|    - log10ages < 7 dimensionless                                                                                    |\n",
      "|---------------------------------------------------------------------------------------------------------------------|\n",
      "|  OLD_ATTENUATED (stellar)                                                                                           |\n",
      "|---------------------------------------------------------------------------------------------------------------------|\n",
      "|Dust attenuation model:                                                                                              |\n",
      "|  Dust curve: <class 'synthesizer.emission_models.attenuation.dust.PowerLaw'>                                        |\n",
      "|  Apply dust to: reprocessed                                                                                         |\n",
      "|  Optical depth (tau_v): ['tau_v']                                                                                   |\n",
      "|  Save emission: False                                                                                               |\n",
      "|  Masks:                                                                                                             |\n",
      "|    - log10ages >= 7 dimensionless                                                                                   |\n",
      "|---------------------------------------------------------------------------------------------------------------------|\n",
      "|  ATTENUATED (stellar)                                                                                               |\n",
      "|---------------------------------------------------------------------------------------------------------------------|\n",
      "|Combination model:                                                                                                   |\n",
      "|  Combine models: young_attenuated, old_attenuated                                                                   |\n",
      "|  Save emission: True                                                                                                |\n",
      "|---------------------------------------------------------------------------------------------------------------------|\n",
      "|  DUST_EMISSION (stellar)                                                                                            |\n",
      "|---------------------------------------------------------------------------------------------------------------------|\n",
      "|Generation model:                                                                                                    |\n",
      "|  Emission generation model: <synthesizer.emission_models.dust.emission.Blackbody object at 0x7fcec9d7a470>          |\n",
      "|  Dust luminosity: reprocessed - attenuated                                                                          |\n",
      "|  Save emission: True                                                                                                |\n",
      "|---------------------------------------------------------------------------------------------------------------------|\n",
      "|  EMERGENT (stellar)                                                                                                 |\n",
      "|---------------------------------------------------------------------------------------------------------------------|\n",
      "|Combination model:                                                                                                   |\n",
      "|  Combine models: attenuated, escaped                                                                                |\n",
      "|  Save emission: True                                                                                                |\n",
      "|---------------------------------------------------------------------------------------------------------------------|\n",
      "|  TOTAL (stellar)                                                                                                    |\n",
      "|---------------------------------------------------------------------------------------------------------------------|\n",
      "|Combination model:                                                                                                   |\n",
      "|  Combine models: emergent, dust_emission                                                                            |\n",
      "|  Save emission: True                                                                                                |\n",
      "|=====================================================================================================================|\n"
     ]
    }
   ],
   "source": [
    "# Define the extractions\n",
    "transmitted = EmissionModel(\n",
    "    \"transmitted\",\n",
    "    grid=grid,\n",
    "    extract=\"transmitted\",\n",
    "    fesc=0.3,\n",
    "    emitter=\"stellar\",\n",
    ")\n",
    "escaped = EmissionModel(\n",
    "    \"escaped\", grid=grid, extract=\"transmitted\", fesc=0.7, emitter=\"stellar\"\n",
    ")\n",
    "linecont = EmissionModel(\n",
    "    \"linecont\",\n",
    "    grid=grid,\n",
    "    extract=\"linecont\",\n",
    "    mask_attr=\"log10ages\",\n",
    "    mask_thresh=7 * dimensionless,\n",
    "    mask_op=\"<\",\n",
    "    fesc=0.7,\n",
    "    emitter=\"stellar\",\n",
    "    save=False,\n",
    ")\n",
    "nebular_cont = EmissionModel(\n",
    "    \"nebular_continuum\",\n",
    "    grid=grid,\n",
    "    extract=\"nebular_continuum\",\n",
    "    mask_attr=\"log10ages\",\n",
    "    mask_thresh=7 * dimensionless,\n",
    "    mask_op=\"<\",\n",
    "    emitter=\"stellar\",\n",
    "    save=False,\n",
    ")\n",
    "\n",
    "# Combine the extractions\n",
    "nebular = EmissionModel(\n",
    "    \"nebular\", combine=(linecont, nebular_cont), emitter=\"stellar\"\n",
    ")\n",
    "reprocessed = EmissionModel(\n",
    "    \"reprocessed\", combine=(nebular, transmitted), emitter=\"stellar\"\n",
    ")\n",
    "\n",
    "# Apply the young and old dust attenuation\n",
    "young_attenuated = EmissionModel(\n",
    "    \"young_attenuated\",\n",
    "    dust_curve=PowerLaw,\n",
    "    apply_dust_to=reprocessed,\n",
    "    tau_v=(\"tau_v\", 0.67),\n",
    "    mask_attr=\"log10ages\",\n",
    "    mask_thresh=7 * dimensionless,\n",
    "    mask_op=\"<\",\n",
    "    emitter=\"stellar\",\n",
    "    save=False,\n",
    ")\n",
    "old_attenuated = EmissionModel(\n",
    "    \"old_attenuated\",\n",
    "    dust_curve=PowerLaw,\n",
    "    apply_dust_to=reprocessed,\n",
    "    tau_v=\"tau_v\",\n",
    "    mask_attr=\"log10ages\",\n",
    "    mask_thresh=7 * dimensionless,\n",
    "    mask_op=\">=\",\n",
    "    emitter=\"stellar\",\n",
    "    save=False,\n",
    ")\n",
    "\n",
    "# And combine them into a single attenuated spectra\n",
    "attenuated = EmissionModel(\n",
    "    \"attenuated\", combine=(young_attenuated, old_attenuated), emitter=\"stellar\"\n",
    ")\n",
    "emergent = EmissionModel(\n",
    "    \"emergent\", combine=(attenuated, escaped), emitter=\"stellar\"\n",
    ")\n",
    "\n",
    "# Create a dust emission model\n",
    "dust_emission = EmissionModel(\n",
    "    \"dust_emission\",\n",
    "    generator=Blackbody(temperature=100 * kelvin),\n",
    "    lum_intrinsic_model=reprocessed,\n",
    "    lum_attenuated_model=emergent[\"attenuated\"],\n",
    "    emitter=\"stellar\",\n",
    ")\n",
    "\n",
    "# And bring everything together into the total emission\n",
    "total = EmissionModel(\n",
    "    \"total\", combine=(emergent, dust_emission), emitter=\"stellar\"\n",
    ")\n",
    "\n",
    "total.plot_emission_tree()\n",
    "print(total)"
   ]
  }
 ],
 "metadata": {
  "language_info": {
   "codemirror_mode": {
    "name": "ipython",
    "version": 3
   },
   "file_extension": ".py",
   "mimetype": "text/x-python",
   "name": "python",
   "nbconvert_exporter": "python",
   "pygments_lexer": "ipython3",
   "version": "3.10.14"
  }
 },
 "nbformat": 4,
 "nbformat_minor": 2
}
