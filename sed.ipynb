{
 "cells": [
  {
   "attachments": {},
   "cell_type": "markdown",
   "id": "00db497b-9cf9-4547-ae44-4d80f30eb8a1",
   "metadata": {},
   "source": [
    "# The Sed object\n",
    "\n",
    "This example demonstrates the various methods associated with the `Sed` class.\n",
    "\n",
    "`Sed` objects can be extracted directly from `Grid` objects or created by `Galaxy` objects. See tutorials on those objects for more information."
   ]
  },
  {
   "cell_type": "code",
   "execution_count": 1,
   "id": "7158257d-8bab-4c83-bac6-38aa83def3bf",
   "metadata": {
    "execution": {
     "iopub.execute_input": "2023-11-06T12:28:31.534826Z",
     "iopub.status.busy": "2023-11-06T12:28:31.534578Z",
     "iopub.status.idle": "2023-11-06T12:28:34.017470Z",
     "shell.execute_reply": "2023-11-06T12:28:34.016661Z"
    }
   },
   "outputs": [],
   "source": [
    "import numpy as np\n",
    "import matplotlib.pyplot as plt\n",
    "import matplotlib as mpl\n",
    "import matplotlib.pyplot as plt\n",
    "import matplotlib.cm as cm\n",
    "import cmasher as cmr\n",
    "import os\n",
    "from unyt import Angstrom, Hz, um\n",
    "from synthesizer.grid import Grid, get_available_lines\n",
    "from synthesizer.sed import Sed\n",
    "from synthesizer.filters import FilterCollection\n",
    "from synthesizer.igm import Madau96"
   ]
  },
  {
   "attachments": {},
   "cell_type": "markdown",
   "id": "3436e527",
   "metadata": {},
   "source": [
    "Let's begin by initialising a grid:"
   ]
  },
  {
   "cell_type": "code",
   "execution_count": 2,
   "id": "dc8b164f-3d98-456f-8e21-b0d72d7a7ff8",
   "metadata": {
    "execution": {
     "iopub.execute_input": "2023-11-06T12:28:34.022499Z",
     "iopub.status.busy": "2023-11-06T12:28:34.021186Z",
     "iopub.status.idle": "2023-11-06T12:28:35.169876Z",
     "shell.execute_reply": "2023-11-06T12:28:35.169080Z"
    }
   },
   "outputs": [],
   "source": [
    "\n",
    "grid_dir =  '../../tests/test_grid/'\n",
    "grid_name = 'test_grid'\n",
    "grid = Grid(grid_name, grid_dir=grid_dir)"
   ]
  },
  {
   "attachments": {},
   "cell_type": "markdown",
   "id": "dcb82045",
   "metadata": {},
   "source": [
    "Next, let's define a target log10age and metallicity and use the built-in `Grid` method to get the grid point and then extract the spectrum for that grid point."
   ]
  },
  {
   "cell_type": "code",
   "execution_count": 3,
   "id": "35ad7190",
   "metadata": {
    "execution": {
     "iopub.execute_input": "2023-11-06T12:28:35.174120Z",
     "iopub.status.busy": "2023-11-06T12:28:35.173845Z",
     "iopub.status.idle": "2023-11-06T12:28:35.184785Z",
     "shell.execute_reply": "2023-11-06T12:28:35.184126Z"
    }
   },
   "outputs": [],
   "source": [
    "log10age = 6. # log10(age/yr)\n",
    "metallicity = 0.01 \n",
    "spectra_id = 'incident'\n",
    "grid_point = grid.get_grid_point((log10age, metallicity))\n",
    "sed = grid.get_spectra(grid_point, spectra_id=spectra_id)\n",
    "sed.lnu *= 1E8 # make the SED bigger"
   ]
  },
  {
   "attachments": {},
   "cell_type": "markdown",
   "id": "c94c977f",
   "metadata": {},
   "source": [
    "Like other `synthesizer` objects, we get some basic information about the `Sed` object by using the `print` command:"
   ]
  },
  {
   "cell_type": "code",
   "execution_count": 4,
   "id": "2b4b4452",
   "metadata": {
    "execution": {
     "iopub.execute_input": "2023-11-06T12:28:35.188033Z",
     "iopub.status.busy": "2023-11-06T12:28:35.187790Z",
     "iopub.status.idle": "2023-11-06T12:28:35.199838Z",
     "shell.execute_reply": "2023-11-06T12:28:35.199119Z"
    }
   },
   "outputs": [
    {
     "name": "stdout",
     "output_type": "stream",
     "text": [
      "----------\n",
      "SUMMARY OF SED \n",
      "Number of wavelength points: 82248 \n",
      "Wavelength range: [0.00 Å,             299742000000.00 Å] \n",
      "log10(Peak luminosity/erg/(Hz*s)):             29.56 \n",
      "log10(Bolometric luminosity/erg/s):             44.85 \n",
      "----------\n"
     ]
    }
   ],
   "source": [
    "print(sed)"
   ]
  },
  {
   "attachments": {},
   "cell_type": "markdown",
   "id": "b21fb144",
   "metadata": {},
   "source": [
    "`Sed` objects contain a wavelength grid and luminosity in the `lam` and `lnu` attributes. Both come with units making them easy to convert:"
   ]
  },
  {
   "cell_type": "code",
   "execution_count": 5,
   "id": "e2616d77",
   "metadata": {
    "execution": {
     "iopub.execute_input": "2023-11-06T12:28:35.203180Z",
     "iopub.status.busy": "2023-11-06T12:28:35.202940Z",
     "iopub.status.idle": "2023-11-06T12:28:35.207630Z",
     "shell.execute_reply": "2023-11-06T12:28:35.206914Z"
    }
   },
   "outputs": [
    {
     "name": "stdout",
     "output_type": "stream",
     "text": [
      "[1.24543e-04 1.24917e-04 1.25293e-04 ... 2.99543e+11 2.99643e+11\n",
      " 2.99742e+11] Å\n",
      "[0. 0. 0. ... 0. 0. 0.] erg/(Hz*s)\n"
     ]
    }
   ],
   "source": [
    "print(sed.lam)\n",
    "print(sed.lnu)"
   ]
  },
  {
   "attachments": {},
   "cell_type": "markdown",
   "id": "363f3759",
   "metadata": {},
   "source": [
    "Thus we can easily make a plot:"
   ]
  },
  {
   "cell_type": "code",
   "execution_count": 6,
   "id": "8c7e91fb",
   "metadata": {
    "execution": {
     "iopub.execute_input": "2023-11-06T12:28:35.210787Z",
     "iopub.status.busy": "2023-11-06T12:28:35.210550Z",
     "iopub.status.idle": "2023-11-06T12:28:35.376800Z",
     "shell.execute_reply": "2023-11-06T12:28:35.376147Z"
    }
   },
   "outputs": [
    {
     "name": "stderr",
     "output_type": "stream",
     "text": [
      "/opt/hostedtoolcache/Python/3.10.13/x64/lib/python3.10/site-packages/unyt/array.py:1813: RuntimeWarning: divide by zero encountered in log10\n",
      "  out_arr = func(np.asarray(inp), out=out_func, **kwargs)\n"
     ]
    },
    {
     "data": {
      "image/png": "[encoded data removed]",
      "text/plain": [
       "<Figure size 640x480 with 1 Axes>"
      ]
     },
     "metadata": {},
     "output_type": "display_data"
    }
   ],
   "source": [
    "plt.plot(np.log10(sed.lam), np.log10(sed.lnu))\n",
    "plt.show()"
   ]
  },
  {
   "attachments": {},
   "cell_type": "markdown",
   "id": "56dd48dc",
   "metadata": {},
   "source": [
    "### Scaling `Sed`s\n",
    "\n",
    "`Sed` objects can be easily scaled via the `*` operator. For example,"
   ]
  },
  {
   "cell_type": "code",
   "execution_count": 7,
   "id": "14fd5ac1",
   "metadata": {
    "execution": {
     "iopub.execute_input": "2023-11-06T12:28:35.380379Z",
     "iopub.status.busy": "2023-11-06T12:28:35.380084Z",
     "iopub.status.idle": "2023-11-06T12:28:35.523461Z",
     "shell.execute_reply": "2023-11-06T12:28:35.522699Z"
    }
   },
   "outputs": [
    {
     "data": {
      "image/png": "[encoded data removed]",
      "text/plain": [
       "<Figure size 640x480 with 1 Axes>"
      ]
     },
     "metadata": {},
     "output_type": "display_data"
    }
   ],
   "source": [
    "sed3 = sed * 10\n",
    "sed4 = 10 * sed \n",
    "\n",
    "plt.plot(np.log10(sed.lam), np.log10(sed.lnu))\n",
    "plt.plot(np.log10(sed3.lam), np.log10(sed3.lnu))\n",
    "plt.plot(np.log10(sed4.lam), np.log10(sed4.lnu))\n",
    "plt.show()"
   ]
  },
  {
   "attachments": {},
   "cell_type": "markdown",
   "id": "de31579b",
   "metadata": {},
   "source": [
    "### Methods"
   ]
  },
  {
   "attachments": {},
   "cell_type": "markdown",
   "id": "623b5609",
   "metadata": {},
   "source": [
    "#### get_bolometric_luminosity()\n",
    "\n",
    "This method allows us to calculate the bolometric luminosity of the sed. "
   ]
  },
  {
   "cell_type": "code",
   "execution_count": 8,
   "id": "c3f35ac3",
   "metadata": {
    "execution": {
     "iopub.execute_input": "2023-11-06T12:28:35.527378Z",
     "iopub.status.busy": "2023-11-06T12:28:35.526858Z",
     "iopub.status.idle": "2023-11-06T12:28:35.533589Z",
     "shell.execute_reply": "2023-11-06T12:28:35.532984Z"
    }
   },
   "outputs": [
    {
     "data": {
      "text/plain": [
       "unyt_quantity(7.01111209e+44, 'erg/s')"
      ]
     },
     "execution_count": 8,
     "metadata": {},
     "output_type": "execute_result"
    }
   ],
   "source": [
    "sed.measure_bolometric_luminosity()"
   ]
  },
  {
   "attachments": {},
   "cell_type": "markdown",
   "id": "1ad27966",
   "metadata": {},
   "source": [
    "By default the above simply sums up the spectrum. However, we can also integrate the spectrum instead:"
   ]
  },
  {
   "cell_type": "code",
   "execution_count": 9,
   "id": "f6d6be8d",
   "metadata": {
    "execution": {
     "iopub.execute_input": "2023-11-06T12:28:35.536909Z",
     "iopub.status.busy": "2023-11-06T12:28:35.536298Z",
     "iopub.status.idle": "2023-11-06T12:28:37.155990Z",
     "shell.execute_reply": "2023-11-06T12:28:37.155231Z"
    }
   },
   "outputs": [
    {
     "name": "stderr",
     "output_type": "stream",
     "text": [
      "/home/runner/work/synthesizer/synthesizer/synthesizer/sed.py:319: IntegrationWarning: The maximum number of subdivisions (50) has been achieved.\n",
      "  If increasing the limit yields no improvement it is advised to analyze \n",
      "  the integrand in order to determine the difficulties.  If the position of a \n",
      "  local difficulty can be determined (singularity, discontinuity) one will \n",
      "  probably gain from splitting up the interval and calling the integrator \n",
      "  on the subranges.  Perhaps a special-purpose integrator should be used.\n",
      "  integrate.quad(self._get_lnu_at_nu, 1e12, 1e16)[0] * units.luminosity\n"
     ]
    },
    {
     "data": {
      "text/plain": [
       "unyt_quantity(7.02444114e+44, 'erg/s')"
      ]
     },
     "execution_count": 9,
     "metadata": {},
     "output_type": "execute_result"
    }
   ],
   "source": [
    "sed.measure_bolometric_luminosity(method='quad')"
   ]
  },
  {
   "attachments": {},
   "cell_type": "markdown",
   "id": "c3e4ef3c",
   "metadata": {},
   "source": [
    "Under-the-hood the above uses a function to get the luminosity at a particular frequency or wavelength:"
   ]
  },
  {
   "cell_type": "code",
   "execution_count": 10,
   "id": "55afce8a",
   "metadata": {
    "execution": {
     "iopub.execute_input": "2023-11-06T12:28:37.160020Z",
     "iopub.status.busy": "2023-11-06T12:28:37.159383Z",
     "iopub.status.idle": "2023-11-06T12:28:37.166358Z",
     "shell.execute_reply": "2023-11-06T12:28:37.165621Z"
    }
   },
   "outputs": [
    {
     "data": {
      "text/plain": [
       "unyt_quantity(1.55802527e+29, 'erg/(Hz*s)')"
      ]
     },
     "execution_count": 10,
     "metadata": {},
     "output_type": "execute_result"
    }
   ],
   "source": [
    "sed.get_lnu_at_lam(1500 * Angstrom)"
   ]
  },
  {
   "cell_type": "code",
   "execution_count": 11,
   "id": "f6ba4b1d",
   "metadata": {
    "execution": {
     "iopub.execute_input": "2023-11-06T12:28:37.169411Z",
     "iopub.status.busy": "2023-11-06T12:28:37.169160Z",
     "iopub.status.idle": "2023-11-06T12:28:37.175700Z",
     "shell.execute_reply": "2023-11-06T12:28:37.174966Z"
    }
   },
   "outputs": [
    {
     "data": {
      "text/plain": [
       "unyt_quantity(1.30295797e+27, 'erg/(Hz*s)')"
      ]
     },
     "execution_count": 11,
     "metadata": {},
     "output_type": "execute_result"
    }
   ],
   "source": [
    "sed.get_lnu_at_nu(1E14 * Hz)"
   ]
  },
  {
   "cell_type": "code",
   "execution_count": 12,
   "id": "b009326a",
   "metadata": {
    "execution": {
     "iopub.execute_input": "2023-11-06T12:28:37.179141Z",
     "iopub.status.busy": "2023-11-06T12:28:37.178894Z",
     "iopub.status.idle": "2023-11-06T12:28:37.186418Z",
     "shell.execute_reply": "2023-11-06T12:28:37.185678Z"
    }
   },
   "outputs": [
    {
     "data": {
      "text/plain": [
       "unyt_quantity(4.06558265e+43, 'erg/s')"
      ]
     },
     "execution_count": 12,
     "metadata": {},
     "output_type": "execute_result"
    }
   ],
   "source": [
    "sed.measure_window_luminosity((1400.*Angstrom,1600.*Angstrom))"
   ]
  },
  {
   "cell_type": "code",
   "execution_count": 13,
   "id": "6716e968",
   "metadata": {
    "execution": {
     "iopub.execute_input": "2023-11-06T12:28:37.189602Z",
     "iopub.status.busy": "2023-11-06T12:28:37.189349Z",
     "iopub.status.idle": "2023-11-06T12:28:37.196147Z",
     "shell.execute_reply": "2023-11-06T12:28:37.195439Z"
    }
   },
   "outputs": [
    {
     "data": {
      "text/plain": [
       "unyt_quantity(4.06558265e+43, 'erg/s')"
      ]
     },
     "execution_count": 13,
     "metadata": {},
     "output_type": "execute_result"
    }
   ],
   "source": [
    "sed.measure_window_luminosity((0.14*um,0.16*um))"
   ]
  },
  {
   "cell_type": "code",
   "execution_count": 14,
   "id": "6f76d8e1",
   "metadata": {
    "execution": {
     "iopub.execute_input": "2023-11-06T12:28:37.199300Z",
     "iopub.status.busy": "2023-11-06T12:28:37.199054Z",
     "iopub.status.idle": "2023-11-06T12:28:37.209004Z",
     "shell.execute_reply": "2023-11-06T12:28:37.208293Z"
    }
   },
   "outputs": [
    {
     "data": {
      "text/plain": [
       "unyt_quantity(1.51898495e+29, 'erg/(Hz*s)')"
      ]
     },
     "execution_count": 14,
     "metadata": {},
     "output_type": "execute_result"
    }
   ],
   "source": [
    "sed.measure_window_lnu((1400.*Angstrom,1600.*Angstrom))"
   ]
  },
  {
   "cell_type": "code",
   "execution_count": 15,
   "id": "1c460d65",
   "metadata": {
    "execution": {
     "iopub.execute_input": "2023-11-06T12:28:37.212424Z",
     "iopub.status.busy": "2023-11-06T12:28:37.211843Z",
     "iopub.status.idle": "2023-11-06T12:28:37.218733Z",
     "shell.execute_reply": "2023-11-06T12:28:37.217998Z"
    }
   },
   "outputs": [
    {
     "data": {
      "text/plain": [
       "unyt_quantity(1.51898773e+29, 'erg/(Hz*s)')"
      ]
     },
     "execution_count": 15,
     "metadata": {},
     "output_type": "execute_result"
    }
   ],
   "source": [
    "sed.measure_window_lnu((1400.*Angstrom,1600.*Angstrom), method='average')"
   ]
  },
  {
   "cell_type": "code",
   "execution_count": 16,
   "id": "029d4f71",
   "metadata": {
    "execution": {
     "iopub.execute_input": "2023-11-06T12:28:37.222234Z",
     "iopub.status.busy": "2023-11-06T12:28:37.221644Z",
     "iopub.status.idle": "2023-11-06T12:28:38.839380Z",
     "shell.execute_reply": "2023-11-06T12:28:38.838593Z"
    }
   },
   "outputs": [
    {
     "name": "stderr",
     "output_type": "stream",
     "text": [
      "/home/runner/work/synthesizer/synthesizer/synthesizer/sed.py:425: IntegrationWarning: The maximum number of subdivisions (50) has been achieved.\n",
      "  If increasing the limit yields no improvement it is advised to analyze \n",
      "  the integrand in order to determine the difficulties.  If the position of a \n",
      "  local difficulty can be determined (singularity, discontinuity) one will \n",
      "  probably gain from splitting up the interval and calling the integrator \n",
      "  on the subranges.  Perhaps a special-purpose integrator should be used.\n",
      "  Lnu = integrate.quad(func, *lims)[0] / integrate.quad(inv, *lims)[0]\n"
     ]
    },
    {
     "data": {
      "text/plain": [
       "unyt_quantity(1.51911292e+29, 'erg/(Hz*s)')"
      ]
     },
     "execution_count": 16,
     "metadata": {},
     "output_type": "execute_result"
    }
   ],
   "source": [
    "sed.measure_window_lnu((1400, 1600)*Angstrom, method='quad')"
   ]
  },
  {
   "attachments": {},
   "cell_type": "markdown",
   "id": "a3e8482a",
   "metadata": {},
   "source": [
    "We can also measure a spectral break by providing two windows, e.g."
   ]
  },
  {
   "cell_type": "code",
   "execution_count": 17,
   "id": "1abf4968",
   "metadata": {
    "execution": {
     "iopub.execute_input": "2023-11-06T12:28:38.843219Z",
     "iopub.status.busy": "2023-11-06T12:28:38.842705Z",
     "iopub.status.idle": "2023-11-06T12:28:38.857273Z",
     "shell.execute_reply": "2023-11-06T12:28:38.856615Z"
    }
   },
   "outputs": [
    {
     "data": {
      "text/plain": [
       "unyt_quantity(0.85692253, '(dimensionless)')"
      ]
     },
     "execution_count": 17,
     "metadata": {},
     "output_type": "execute_result"
    }
   ],
   "source": [
    "sed.measure_break((3400, 3600) * Angstrom, (4150, 4250) * Angstrom)"
   ]
  },
  {
   "attachments": {},
   "cell_type": "markdown",
   "id": "d0accf42",
   "metadata": {},
   "source": [
    "There are also a few in-built break methods, e.g. `measure_Balmer_break()`"
   ]
  },
  {
   "cell_type": "code",
   "execution_count": 18,
   "id": "2df698f8",
   "metadata": {
    "execution": {
     "iopub.execute_input": "2023-11-06T12:28:38.860841Z",
     "iopub.status.busy": "2023-11-06T12:28:38.860244Z",
     "iopub.status.idle": "2023-11-06T12:28:38.869821Z",
     "shell.execute_reply": "2023-11-06T12:28:38.869166Z"
    }
   },
   "outputs": [
    {
     "data": {
      "text/plain": [
       "unyt_quantity(0.85692253, '(dimensionless)')"
      ]
     },
     "execution_count": 18,
     "metadata": {},
     "output_type": "execute_result"
    }
   ],
   "source": [
    "sed.measure_balmer_break()"
   ]
  },
  {
   "cell_type": "code",
   "execution_count": 19,
   "id": "38913adc",
   "metadata": {
    "execution": {
     "iopub.execute_input": "2023-11-06T12:28:38.873301Z",
     "iopub.status.busy": "2023-11-06T12:28:38.872705Z",
     "iopub.status.idle": "2023-11-06T12:28:38.882392Z",
     "shell.execute_reply": "2023-11-06T12:28:38.881712Z"
    }
   },
   "outputs": [
    {
     "data": {
      "text/plain": [
       "unyt_quantity(0.90162194, '(dimensionless)')"
      ]
     },
     "execution_count": 19,
     "metadata": {},
     "output_type": "execute_result"
    }
   ],
   "source": [
    "sed.measure_d4000()"
   ]
  },
  {
   "attachments": {},
   "cell_type": "markdown",
   "id": "45c97d43",
   "metadata": {},
   "source": [
    "We can also measure absorption line indices:"
   ]
  },
  {
   "cell_type": "code",
   "execution_count": 20,
   "id": "8a50ffc3",
   "metadata": {
    "execution": {
     "iopub.execute_input": "2023-11-06T12:28:38.885585Z",
     "iopub.status.busy": "2023-11-06T12:28:38.885336Z",
     "iopub.status.idle": "2023-11-06T12:28:38.901679Z",
     "shell.execute_reply": "2023-11-06T12:28:38.901059Z"
    }
   },
   "outputs": [
    {
     "data": {
      "text/plain": [
       "unyt_quantity(5.02853716, 'Å')"
      ]
     },
     "execution_count": 20,
     "metadata": {},
     "output_type": "execute_result"
    }
   ],
   "source": [
    "sed.measure_index((1500,1600)*Angstrom, (1400,1500)*Angstrom, (1600,1700)*Angstrom)"
   ]
  },
  {
   "attachments": {},
   "cell_type": "markdown",
   "id": "eb48725a",
   "metadata": {},
   "source": [
    "We can also measure the UV spectral slope $\\beta$:"
   ]
  },
  {
   "cell_type": "code",
   "execution_count": 21,
   "id": "1734a1ed",
   "metadata": {
    "execution": {
     "iopub.execute_input": "2023-11-06T12:28:38.906489Z",
     "iopub.status.busy": "2023-11-06T12:28:38.905046Z",
     "iopub.status.idle": "2023-11-06T12:28:38.912776Z",
     "shell.execute_reply": "2023-11-06T12:28:38.912087Z"
    }
   },
   "outputs": [
    {
     "data": {
      "text/plain": [
       "-2.9429328476042964"
      ]
     },
     "execution_count": 21,
     "metadata": {},
     "output_type": "execute_result"
    }
   ],
   "source": [
    "sed.measure_beta()"
   ]
  },
  {
   "attachments": {},
   "cell_type": "markdown",
   "id": "099b456e",
   "metadata": {},
   "source": [
    "By default this uses a single window and fits the spectrum by a power-law. However, we can also specify two windows as below, in which case the luminosity in each window is calcualted and used to infer a slope:"
   ]
  },
  {
   "cell_type": "code",
   "execution_count": 22,
   "id": "21456b92",
   "metadata": {
    "execution": {
     "iopub.execute_input": "2023-11-06T12:28:38.916260Z",
     "iopub.status.busy": "2023-11-06T12:28:38.916017Z",
     "iopub.status.idle": "2023-11-06T12:28:38.925596Z",
     "shell.execute_reply": "2023-11-06T12:28:38.924878Z"
    }
   },
   "outputs": [
    {
     "data": {
      "text/plain": [
       "-2.9495217842739283"
      ]
     },
     "execution_count": 22,
     "metadata": {},
     "output_type": "execute_result"
    }
   ],
   "source": [
    "sed.measure_beta(window=(1250,1750,2250,2750))"
   ]
  },
  {
   "attachments": {},
   "cell_type": "markdown",
   "id": "69f1be0c",
   "metadata": {},
   "source": [
    "## Observed frame SED\n",
    "\n",
    "To do this we need to provide a cosmology, using an `astropy.cosmology` object, a redshift $z$, and optionally an IGM absorption model."
   ]
  },
  {
   "cell_type": "code",
   "execution_count": 23,
   "id": "45dea364",
   "metadata": {
    "execution": {
     "iopub.execute_input": "2023-11-06T12:28:38.928617Z",
     "iopub.status.busy": "2023-11-06T12:28:38.928372Z",
     "iopub.status.idle": "2023-11-06T12:28:40.700819Z",
     "shell.execute_reply": "2023-11-06T12:28:40.699215Z"
    }
   },
   "outputs": [
    {
     "data": {
      "text/plain": [
       "unyt_array([0., 0., 0., ..., 0., 0., 0.], 'nJy')"
      ]
     },
     "execution_count": 23,
     "metadata": {},
     "output_type": "execute_result"
    }
   ],
   "source": [
    "from astropy.cosmology import Planck18 as cosmo\n",
    "z = 10.  # redshift\n",
    "sed.get_fnu(cosmo, z, igm=Madau96)  # generate observed frame spectra"
   ]
  },
  {
   "attachments": {},
   "cell_type": "markdown",
   "id": "b8b6b6fc",
   "metadata": {},
   "source": [
    "## Broadband fluxes\n",
    "\n",
    "Once we have computed the observed frame SED there is a method on an `Sed` object that allows us to calculate broadband fluxes. However, first we need to instantiate a `FilterCollection` object."
   ]
  },
  {
   "cell_type": "code",
   "execution_count": 24,
   "id": "e81e62ce",
   "metadata": {
    "execution": {
     "iopub.execute_input": "2023-11-06T12:28:40.706070Z",
     "iopub.status.busy": "2023-11-06T12:28:40.704674Z",
     "iopub.status.idle": "2023-11-06T12:28:42.766505Z",
     "shell.execute_reply": "2023-11-06T12:28:42.765677Z"
    }
   },
   "outputs": [],
   "source": [
    "filter_codes = [f'JWST/NIRCam.{f}' for f in ['F070W','F090W', 'F115W', 'F150W',\n",
    "                                             'F200W', 'F277W', 'F356W', 'F444W']]  # define a list of filter codes\n",
    "fc = FilterCollection(filter_codes, new_lam=grid.lam)"
   ]
  },
  {
   "cell_type": "code",
   "execution_count": 25,
   "id": "0405a1ad",
   "metadata": {
    "execution": {
     "iopub.execute_input": "2023-11-06T12:28:42.770883Z",
     "iopub.status.busy": "2023-11-06T12:28:42.770179Z",
     "iopub.status.idle": "2023-11-06T12:28:42.790823Z",
     "shell.execute_reply": "2023-11-06T12:28:42.790053Z"
    }
   },
   "outputs": [
    {
     "name": "stdout",
     "output_type": "stream",
     "text": [
      "JWST/NIRCam.F070W: -0.00 nJy\n",
      "JWST/NIRCam.F090W: 0.00 nJy\n",
      "JWST/NIRCam.F115W: 0.01 nJy\n",
      "JWST/NIRCam.F150W: 128.65 nJy\n",
      "JWST/NIRCam.F200W: 109.68 nJy\n",
      "JWST/NIRCam.F277W: 77.60 nJy\n",
      "JWST/NIRCam.F356W: 53.82 nJy\n",
      "JWST/NIRCam.F444W: 43.03 nJy\n"
     ]
    }
   ],
   "source": [
    "# measure broadband fluxes\n",
    "fluxes = sed.get_broadband_fluxes(fc)\n",
    "\n",
    "# print broadband fluxes\n",
    "for filter, flux in fluxes.items():\n",
    "    print(f'{filter}: {flux:.2f}')"
   ]
  },
  {
   "attachments": {},
   "cell_type": "markdown",
   "id": "38f72dcd",
   "metadata": {},
   "source": [
    "## Multiple SEDs"
   ]
  },
  {
   "attachments": {},
   "cell_type": "markdown",
   "id": "04676ea4",
   "metadata": {},
   "source": [
    "The `Sed` object can actually hold an array of seds and the methods should all work fine."
   ]
  },
  {
   "attachments": {},
   "cell_type": "markdown",
   "id": "d23f5a95",
   "metadata": {},
   "source": [
    "Let's create an `Sed` object with two seds:"
   ]
  },
  {
   "cell_type": "code",
   "execution_count": 26,
   "id": "6089f86d",
   "metadata": {
    "execution": {
     "iopub.execute_input": "2023-11-06T12:28:42.794788Z",
     "iopub.status.busy": "2023-11-06T12:28:42.794273Z",
     "iopub.status.idle": "2023-11-06T12:28:42.800805Z",
     "shell.execute_reply": "2023-11-06T12:28:42.800180Z"
    }
   },
   "outputs": [],
   "source": [
    "sed2 = Sed(sed.lam, np.array([sed.lnu, sed.lnu * 2]))"
   ]
  },
  {
   "cell_type": "code",
   "execution_count": 27,
   "id": "d842fe4d",
   "metadata": {
    "execution": {
     "iopub.execute_input": "2023-11-06T12:28:42.804317Z",
     "iopub.status.busy": "2023-11-06T12:28:42.803696Z",
     "iopub.status.idle": "2023-11-06T12:28:42.813213Z",
     "shell.execute_reply": "2023-11-06T12:28:42.812429Z"
    }
   },
   "outputs": [
    {
     "data": {
      "text/plain": [
       "unyt_array([1.51898495e+29, 3.03796989e+29], 'erg/(Hz*s)')"
      ]
     },
     "execution_count": 27,
     "metadata": {},
     "output_type": "execute_result"
    }
   ],
   "source": [
    "sed2.measure_window_lnu((1400,1600)*Angstrom)"
   ]
  },
  {
   "cell_type": "code",
   "execution_count": 28,
   "id": "97808856",
   "metadata": {
    "execution": {
     "iopub.execute_input": "2023-11-06T12:28:42.816455Z",
     "iopub.status.busy": "2023-11-06T12:28:42.815993Z",
     "iopub.status.idle": "2023-11-06T12:28:42.822168Z",
     "shell.execute_reply": "2023-11-06T12:28:42.821477Z"
    }
   },
   "outputs": [
    {
     "data": {
      "text/plain": [
       "unyt_array([1.51898773e+29, 3.03797547e+29], 'erg/(Hz*s)')"
      ]
     },
     "execution_count": 28,
     "metadata": {},
     "output_type": "execute_result"
    }
   ],
   "source": [
    "sed2.measure_window_lnu((1400,1600)*Angstrom, method='average')"
   ]
  },
  {
   "cell_type": "code",
   "execution_count": 29,
   "id": "addd3b8f",
   "metadata": {
    "execution": {
     "iopub.execute_input": "2023-11-06T12:28:42.825218Z",
     "iopub.status.busy": "2023-11-06T12:28:42.824835Z",
     "iopub.status.idle": "2023-11-06T12:28:42.831720Z",
     "shell.execute_reply": "2023-11-06T12:28:42.831017Z"
    }
   },
   "outputs": [
    {
     "data": {
      "text/plain": [
       "array([-2.94293285, -2.94293285])"
      ]
     },
     "execution_count": 29,
     "metadata": {},
     "output_type": "execute_result"
    }
   ],
   "source": [
    "sed2.measure_beta()"
   ]
  },
  {
   "cell_type": "code",
   "execution_count": 30,
   "id": "c4e3645c",
   "metadata": {
    "execution": {
     "iopub.execute_input": "2023-11-06T12:28:42.835207Z",
     "iopub.status.busy": "2023-11-06T12:28:42.834825Z",
     "iopub.status.idle": "2023-11-06T12:28:42.848490Z",
     "shell.execute_reply": "2023-11-06T12:28:42.847793Z"
    }
   },
   "outputs": [
    {
     "data": {
      "text/plain": [
       "array([-2.94952178, -2.94952178])"
      ]
     },
     "execution_count": 30,
     "metadata": {},
     "output_type": "execute_result"
    }
   ],
   "source": [
    "sed2.measure_beta(window=(1250,1750,2250,2750))"
   ]
  },
  {
   "cell_type": "code",
   "execution_count": 31,
   "id": "f5f8deed",
   "metadata": {
    "execution": {
     "iopub.execute_input": "2023-11-06T12:28:42.851471Z",
     "iopub.status.busy": "2023-11-06T12:28:42.851021Z",
     "iopub.status.idle": "2023-11-06T12:28:42.861986Z",
     "shell.execute_reply": "2023-11-06T12:28:42.861264Z"
    }
   },
   "outputs": [
    {
     "data": {
      "text/plain": [
       "unyt_array([0.85692253, 0.85692253], '(dimensionless)')"
      ]
     },
     "execution_count": 31,
     "metadata": {},
     "output_type": "execute_result"
    }
   ],
   "source": [
    "sed2.measure_balmer_break()"
   ]
  },
  {
   "cell_type": "code",
   "execution_count": 32,
   "id": "2994d5fe",
   "metadata": {
    "execution": {
     "iopub.execute_input": "2023-11-06T12:28:42.874389Z",
     "iopub.status.busy": "2023-11-06T12:28:42.874103Z",
     "iopub.status.idle": "2023-11-06T12:28:42.888278Z",
     "shell.execute_reply": "2023-11-06T12:28:42.886639Z"
    }
   },
   "outputs": [
    {
     "data": {
      "text/plain": [
       "unyt_array([5.02853716, 5.02853716], 'Å')"
      ]
     },
     "execution_count": 32,
     "metadata": {},
     "output_type": "execute_result"
    }
   ],
   "source": [
    "sed2.measure_index((1500,1600)*Angstrom, (1400,1500)*Angstrom, (1600,1700)*Angstrom)"
   ]
  },
  {
   "cell_type": "markdown",
   "id": "dde38e89",
   "metadata": {},
   "source": [
    "### Combining SEDs\n",
    "\n",
    "`Sed`s can be combined either via concatenation to produce a single `Sed` holding multiple spectra from the combined `Sed`s, or by addition to add the spectra contained in two `Sed`s. \n",
    "\n",
    "To concatenate spectra we can use `Sed.concat()`."
   ]
  },
  {
   "cell_type": "code",
   "execution_count": 33,
   "id": "fcd6961c",
   "metadata": {
    "execution": {
     "iopub.execute_input": "2023-11-06T12:28:42.891897Z",
     "iopub.status.busy": "2023-11-06T12:28:42.891290Z",
     "iopub.status.idle": "2023-11-06T12:28:42.898144Z",
     "shell.execute_reply": "2023-11-06T12:28:42.897089Z"
    }
   },
   "outputs": [
    {
     "name": "stdout",
     "output_type": "stream",
     "text": [
      "Shapes before: (82248,) (2, 82248)\n",
      "Combined shape: (3, 82248)\n"
     ]
    }
   ],
   "source": [
    "print(\"Shapes before:\", sed._lnu.shape, sed2._lnu.shape)\n",
    "sed3 = sed2.concat(sed)\n",
    "print(\"Combined shape:\", sed3._lnu.shape)"
   ]
  },
  {
   "cell_type": "markdown",
   "id": "0e94e370",
   "metadata": {},
   "source": [
    "`Sed.concat` can take an arbitrary number of `Sed` objects to combine."
   ]
  },
  {
   "cell_type": "code",
   "execution_count": 34,
   "id": "7150a36e",
   "metadata": {
    "execution": {
     "iopub.execute_input": "2023-11-06T12:28:42.901458Z",
     "iopub.status.busy": "2023-11-06T12:28:42.901209Z",
     "iopub.status.idle": "2023-11-06T12:28:42.913279Z",
     "shell.execute_reply": "2023-11-06T12:28:42.912466Z"
    }
   },
   "outputs": [
    {
     "name": "stdout",
     "output_type": "stream",
     "text": [
      "Combined shape: (8, 82248)\n"
     ]
    }
   ],
   "source": [
    "sed4 = sed2.concat(sed, sed2, sed3)\n",
    "print(\"Combined shape:\", sed4._lnu.shape)"
   ]
  },
  {
   "cell_type": "markdown",
   "id": "7ad838d6",
   "metadata": {},
   "source": [
    "If we want to add the spectra of 2 `Sed` objects we simply apply the `+` operator. However, unlike `concat`, this will only work for `Sed`s with identical shapes."
   ]
  },
  {
   "cell_type": "code",
   "execution_count": 35,
   "id": "4b03369a",
   "metadata": {
    "execution": {
     "iopub.execute_input": "2023-11-06T12:28:42.917962Z",
     "iopub.status.busy": "2023-11-06T12:28:42.916632Z",
     "iopub.status.idle": "2023-11-06T12:28:43.354484Z",
     "shell.execute_reply": "2023-11-06T12:28:43.353307Z"
    }
   },
   "outputs": [
    {
     "name": "stderr",
     "output_type": "stream",
     "text": [
      "/opt/hostedtoolcache/Python/3.10.13/x64/lib/python3.10/site-packages/unyt/array.py:1813: RuntimeWarning: divide by zero encountered in log10\n",
      "  out_arr = func(np.asarray(inp), out=out_func, **kwargs)\n"
     ]
    },
    {
     "data": {
      "image/png": "[encoded data removed]",
      "text/plain": [
       "<Figure size 640x480 with 1 Axes>"
      ]
     },
     "metadata": {},
     "output_type": "display_data"
    }
   ],
   "source": [
    "sed5 = sed + sed\n",
    "plt.plot(np.log10(sed.lam), np.log10(sed.lnu), label=\"sed\")\n",
    "plt.plot(np.log10(sed5.lam), np.log10(sed5.lnu), label=\"sed5\")\n",
    "plt.ylim(26, 30)\n",
    "plt.xlim(2, 5)\n",
    "plt.xlabel(r\"$\\rm log_{10}(\\lambda/\\AA)$\")\n",
    "plt.ylabel(r\"$\\rm log_{10}(L_{\\nu}/erg\\ s^{-1}\\ Hz^{-1} M_{\\odot}^{-1})$\")\n",
    "plt.legend()\n",
    "plt.show()\n",
    "plt.close()"
   ]
  },
  {
   "attachments": {},
   "cell_type": "markdown",
   "id": "55d3b546",
   "metadata": {},
   "source": [
    "## Resampling SEDs\n",
    "\n",
    "The `Sed` includes a method to resample an sed, e.g. to lower-resolution or to match observations."
   ]
  },
  {
   "cell_type": "code",
   "execution_count": 36,
   "id": "b2c47c14",
   "metadata": {
    "execution": {
     "iopub.execute_input": "2023-11-06T12:28:43.358585Z",
     "iopub.status.busy": "2023-11-06T12:28:43.358054Z",
     "iopub.status.idle": "2023-11-06T12:28:43.666757Z",
     "shell.execute_reply": "2023-11-06T12:28:43.665984Z"
    }
   },
   "outputs": [
    {
     "data": {
      "image/png": "[encoded data removed]",
      "text/plain": [
       "<Figure size 640x480 with 1 Axes>"
      ]
     },
     "metadata": {},
     "output_type": "display_data"
    }
   ],
   "source": [
    "sed6 = sed.get_resampled_sed(5)\n",
    "plt.plot(np.log10(sed.lam), np.log10(sed.lnu), label=\"Original\")\n",
    "plt.plot(np.log10(sed6.lam), np.log10(sed6.lnu), label=\"Resampled\")\n",
    "plt.xlim(2.2, 3.5)\n",
    "plt.ylim(27., 29.5)\n",
    "plt.xlabel(r\"$\\rm log_{10}(\\lambda/\\AA)$\")\n",
    "plt.ylabel(r\"$\\rm log_{10}(L_{\\nu}/erg\\ s^{-1}\\ Hz^{-1} M_{\\odot}^{-1})$\")\n",
    "plt.legend()\n",
    "plt.show()\n",
    "plt.close()"
   ]
  },
  {
   "cell_type": "code",
   "execution_count": 37,
   "id": "6928e926",
   "metadata": {
    "execution": {
     "iopub.execute_input": "2023-11-06T12:28:43.670366Z",
     "iopub.status.busy": "2023-11-06T12:28:43.670077Z",
     "iopub.status.idle": "2023-11-06T12:28:43.678218Z",
     "shell.execute_reply": "2023-11-06T12:28:43.677445Z"
    }
   },
   "outputs": [
    {
     "name": "stdout",
     "output_type": "stream",
     "text": [
      "[41405.76319261 20702.88159631 41405.76319261] dimensionless\n"
     ]
    }
   ],
   "source": [
    "print(sed.measure_bolometric_luminosity()/sed3.measure_bolometric_luminosity())"
   ]
  }
 ],
 "metadata": {
  "kernelspec": {
   "display_name": "synthesizer-env",
   "language": "python",
   "name": "python3"
  },
  "language_info": {
   "codemirror_mode": {
    "name": "ipython",
    "version": 3
   },
   "file_extension": ".py",
   "mimetype": "text/x-python",
   "name": "python",
   "nbconvert_exporter": "python",
   "pygments_lexer": "ipython3",
   "version": "3.10.13"
  }
 },
 "nbformat": 4,
 "nbformat_minor": 5
}
