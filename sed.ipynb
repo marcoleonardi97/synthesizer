{
 "cells": [
  {
   "attachments": {},
   "cell_type": "markdown",
   "id": "00db497b-9cf9-4547-ae44-4d80f30eb8a1",
   "metadata": {},
   "source": [
    "# The Sed object\n",
    "\n",
    "This example demonstrates the various methods associated with the `Sed` class.\n",
    "\n",
    "`Sed` objects can be extracted directly from `Grid` objects or created by `Galaxy` objects. See tutorials on those objects for more information."
   ]
  },
  {
   "cell_type": "code",
   "execution_count": 1,
   "id": "7158257d-8bab-4c83-bac6-38aa83def3bf",
   "metadata": {
    "execution": {
     "iopub.execute_input": "2024-01-17T18:13:22.297090Z",
     "iopub.status.busy": "2024-01-17T18:13:22.296625Z",
     "iopub.status.idle": "2024-01-17T18:13:24.166918Z",
     "shell.execute_reply": "2024-01-17T18:13:24.166252Z"
    }
   },
   "outputs": [],
   "source": [
    "import numpy as np\n",
    "import matplotlib.pyplot as plt\n",
    "import matplotlib as mpl\n",
    "import matplotlib.pyplot as plt\n",
    "import matplotlib.cm as cm\n",
    "import os\n",
    "from unyt import Angstrom, Hz, um, eV\n",
    "from synthesizer.grid import Grid, get_available_lines\n",
    "from synthesizer.sed import Sed\n",
    "from synthesizer.filters import FilterCollection\n",
    "from synthesizer.igm import Madau96"
   ]
  },
  {
   "attachments": {},
   "cell_type": "markdown",
   "id": "3436e527",
   "metadata": {},
   "source": [
    "Let's begin by initialising a grid:"
   ]
  },
  {
   "cell_type": "code",
   "execution_count": 2,
   "id": "dc8b164f-3d98-456f-8e21-b0d72d7a7ff8",
   "metadata": {
    "execution": {
     "iopub.execute_input": "2024-01-17T18:13:24.170189Z",
     "iopub.status.busy": "2024-01-17T18:13:24.169699Z",
     "iopub.status.idle": "2024-01-17T18:13:24.253672Z",
     "shell.execute_reply": "2024-01-17T18:13:24.253014Z"
    }
   },
   "outputs": [],
   "source": [
    "grid_dir = \"../../tests/test_grid/\"\n",
    "grid_name = \"test_grid\"\n",
    "grid = Grid(grid_name, grid_dir=grid_dir)"
   ]
  },
  {
   "attachments": {},
   "cell_type": "markdown",
   "id": "dcb82045",
   "metadata": {},
   "source": [
    "Next, let's define a target log10age and metallicity and use the built-in `Grid` method to get the grid point and then extract the spectrum for that grid point."
   ]
  },
  {
   "cell_type": "code",
   "execution_count": 3,
   "id": "35ad7190",
   "metadata": {
    "execution": {
     "iopub.execute_input": "2024-01-17T18:13:24.257000Z",
     "iopub.status.busy": "2024-01-17T18:13:24.256468Z",
     "iopub.status.idle": "2024-01-17T18:13:24.264904Z",
     "shell.execute_reply": "2024-01-17T18:13:24.264214Z"
    }
   },
   "outputs": [],
   "source": [
    "log10age = 6.0  # log10(age/yr)\n",
    "metallicity = 0.01\n",
    "spectra_id = \"incident\"\n",
    "grid_point = grid.get_grid_point((log10age, metallicity))\n",
    "sed = grid.get_spectra(grid_point, spectra_id=spectra_id)\n",
    "sed.lnu *= 1e8  # make the SED bigger"
   ]
  },
  {
   "attachments": {},
   "cell_type": "markdown",
   "id": "c94c977f",
   "metadata": {},
   "source": [
    "Like other `synthesizer` objects, we get some basic information about the `Sed` object by using the `print` command:"
   ]
  },
  {
   "cell_type": "code",
   "execution_count": 4,
   "id": "2b4b4452",
   "metadata": {
    "execution": {
     "iopub.execute_input": "2024-01-17T18:13:24.267696Z",
     "iopub.status.busy": "2024-01-17T18:13:24.267265Z",
     "iopub.status.idle": "2024-01-17T18:13:24.275471Z",
     "shell.execute_reply": "2024-01-17T18:13:24.274924Z"
    }
   },
   "outputs": [
    {
     "name": "stdout",
     "output_type": "stream",
     "text": [
      "----------\n",
      "SUMMARY OF SED \n",
      "Number of wavelength points: 8228 \n",
      "Wavelength range: [0.00 Å,             299293000000.00 Å] \n",
      "log10(Peak luminosity/erg/(Hz*s)):             29.49 \n",
      "log10(Bolometric luminosity/erg/s):36.84609876080591----------\n"
     ]
    }
   ],
   "source": [
    "print(sed)"
   ]
  },
  {
   "attachments": {},
   "cell_type": "markdown",
   "id": "b21fb144",
   "metadata": {},
   "source": [
    "`Sed` objects contain a wavelength grid and luminosity in the `lam` and `lnu` attributes. Both come with units making them easy to convert:"
   ]
  },
  {
   "cell_type": "code",
   "execution_count": 5,
   "id": "e2616d77",
   "metadata": {
    "execution": {
     "iopub.execute_input": "2024-01-17T18:13:24.278490Z",
     "iopub.status.busy": "2024-01-17T18:13:24.277794Z",
     "iopub.status.idle": "2024-01-17T18:13:24.282040Z",
     "shell.execute_reply": "2024-01-17T18:13:24.281418Z"
    }
   },
   "outputs": [
    {
     "name": "stdout",
     "output_type": "stream",
     "text": [
      "[1.29662e-04 1.33601e-04 1.37660e-04 ... 2.97304e+11 2.98297e+11\n",
      " 2.99293e+11] Å\n",
      "[0. 0. 0. ... 0. 0. 0.] erg/(Hz*s)\n"
     ]
    }
   ],
   "source": [
    "print(sed.lam)\n",
    "print(sed.lnu)"
   ]
  },
  {
   "attachments": {},
   "cell_type": "markdown",
   "id": "4e274835",
   "metadata": {},
   "source": [
    "These also have more descriptive aliases:"
   ]
  },
  {
   "cell_type": "code",
   "execution_count": 6,
   "id": "ef68fa8f",
   "metadata": {
    "execution": {
     "iopub.execute_input": "2024-01-17T18:13:24.284936Z",
     "iopub.status.busy": "2024-01-17T18:13:24.284460Z",
     "iopub.status.idle": "2024-01-17T18:13:24.288494Z",
     "shell.execute_reply": "2024-01-17T18:13:24.287871Z"
    }
   },
   "outputs": [
    {
     "name": "stdout",
     "output_type": "stream",
     "text": [
      "[1.29662e-04 1.33601e-04 1.37660e-04 ... 2.97304e+11 2.98297e+11\n",
      " 2.99293e+11] Å\n",
      "[0. 0. 0. ... 0. 0. 0.] erg/(Hz*s)\n"
     ]
    }
   ],
   "source": [
    "print(sed.wavelength)\n",
    "print(sed.luminosity_nu)"
   ]
  },
  {
   "attachments": {},
   "cell_type": "markdown",
   "id": "363f3759",
   "metadata": {},
   "source": [
    "Thus we can easily make a plot:"
   ]
  },
  {
   "cell_type": "code",
   "execution_count": 7,
   "id": "8c7e91fb",
   "metadata": {
    "execution": {
     "iopub.execute_input": "2024-01-17T18:13:24.291165Z",
     "iopub.status.busy": "2024-01-17T18:13:24.290771Z",
     "iopub.status.idle": "2024-01-17T18:13:24.422017Z",
     "shell.execute_reply": "2024-01-17T18:13:24.421417Z"
    }
   },
   "outputs": [
    {
     "name": "stderr",
     "output_type": "stream",
     "text": [
      "/opt/hostedtoolcache/Python/3.10.13/x64/lib/python3.10/site-packages/unyt/array.py:1813: RuntimeWarning: divide by zero encountered in log10\n",
      "  out_arr = func(np.asarray(inp), out=out_func, **kwargs)\n"
     ]
    },
    {
     "data": {
      "image/png": "[encoded data removed]",
      "text/plain": [
       "<Figure size 640x480 with 1 Axes>"
      ]
     },
     "metadata": {},
     "output_type": "display_data"
    }
   ],
   "source": [
    "plt.plot(np.log10(sed.lam), np.log10(sed.lnu))\n",
    "plt.show()"
   ]
  },
  {
   "attachments": {},
   "cell_type": "markdown",
   "id": "d51886ec",
   "metadata": {},
   "source": [
    "We can also get the luminosity ($L$) or spectral luminosity density per $\\AA$ ($L_{\\lambda}$): "
   ]
  },
  {
   "cell_type": "code",
   "execution_count": 8,
   "id": "ffa42ddc",
   "metadata": {
    "execution": {
     "iopub.execute_input": "2024-01-17T18:13:24.425038Z",
     "iopub.status.busy": "2024-01-17T18:13:24.424617Z",
     "iopub.status.idle": "2024-01-17T18:13:24.430826Z",
     "shell.execute_reply": "2024-01-17T18:13:24.430152Z"
    }
   },
   "outputs": [
    {
     "name": "stdout",
     "output_type": "stream",
     "text": [
      "[0. 0. 0. ... 0. 0. 0.] erg/s\n",
      "[0. 0. 0. ... 0. 0. 0.] erg/(s*Å)\n"
     ]
    }
   ],
   "source": [
    "print(sed.luminosity)\n",
    "print(sed.llam)"
   ]
  },
  {
   "attachments": {},
   "cell_type": "markdown",
   "id": "56dd48dc",
   "metadata": {},
   "source": [
    "### Scaling `Sed`s\n",
    "\n",
    "`Sed` objects can be easily scaled via the `*` operator. For example,"
   ]
  },
  {
   "cell_type": "code",
   "execution_count": 9,
   "id": "14fd5ac1",
   "metadata": {
    "execution": {
     "iopub.execute_input": "2024-01-17T18:13:24.433348Z",
     "iopub.status.busy": "2024-01-17T18:13:24.433134Z",
     "iopub.status.idle": "2024-01-17T18:13:24.543788Z",
     "shell.execute_reply": "2024-01-17T18:13:24.543101Z"
    }
   },
   "outputs": [
    {
     "data": {
      "image/png": "[encoded data removed]",
      "text/plain": [
       "<Figure size 640x480 with 1 Axes>"
      ]
     },
     "metadata": {},
     "output_type": "display_data"
    }
   ],
   "source": [
    "sed3 = sed * 10\n",
    "sed4 = 10 * sed\n",
    "\n",
    "plt.plot(np.log10(sed.lam), np.log10(sed.lnu))\n",
    "plt.plot(np.log10(sed3.lam), np.log10(sed3.lnu))\n",
    "plt.plot(np.log10(sed4.lam), np.log10(sed4.lnu))\n",
    "plt.show()"
   ]
  },
  {
   "attachments": {},
   "cell_type": "markdown",
   "id": "de31579b",
   "metadata": {},
   "source": [
    "### Methods"
   ]
  },
  {
   "attachments": {},
   "cell_type": "markdown",
   "id": "623b5609",
   "metadata": {},
   "source": [
    "#### get_bolometric_luminosity()\n",
    "\n",
    "This method allows us to calculate the bolometric luminosity of the sed. "
   ]
  },
  {
   "cell_type": "code",
   "execution_count": 10,
   "id": "c3f35ac3",
   "metadata": {
    "execution": {
     "iopub.execute_input": "2024-01-17T18:13:24.547615Z",
     "iopub.status.busy": "2024-01-17T18:13:24.547337Z",
     "iopub.status.idle": "2024-01-17T18:13:24.554832Z",
     "shell.execute_reply": "2024-01-17T18:13:24.554221Z"
    }
   },
   "outputs": [
    {
     "data": {
      "text/plain": [
       "unyt_quantity(7.01614831e+44, 'erg/s')"
      ]
     },
     "execution_count": 10,
     "metadata": {},
     "output_type": "execute_result"
    }
   ],
   "source": [
    "sed.measure_bolometric_luminosity()"
   ]
  },
  {
   "attachments": {},
   "cell_type": "markdown",
   "id": "1ad27966",
   "metadata": {},
   "source": [
    "By default the above simply sums up the spectrum. However, we can also integrate the spectrum instead:"
   ]
  },
  {
   "cell_type": "code",
   "execution_count": 11,
   "id": "f6d6be8d",
   "metadata": {
    "execution": {
     "iopub.execute_input": "2024-01-17T18:13:24.559463Z",
     "iopub.status.busy": "2024-01-17T18:13:24.558192Z",
     "iopub.status.idle": "2024-01-17T18:13:27.210288Z",
     "shell.execute_reply": "2024-01-17T18:13:27.209497Z"
    }
   },
   "outputs": [
    {
     "name": "stderr",
     "output_type": "stream",
     "text": [
      "/home/runner/work/synthesizer/synthesizer/src/synthesizer/sed.py:541: IntegrationWarning: The maximum number of subdivisions (50) has been achieved.\n",
      "  If increasing the limit yields no improvement it is advised to analyze \n",
      "  the integrand in order to determine the difficulties.  If the position of a \n",
      "  local difficulty can be determined (singularity, discontinuity) one will \n",
      "  probably gain from splitting up the interval and calling the integrator \n",
      "  on the subranges.  Perhaps a special-purpose integrator should be used.\n",
      "  integrate.quad(\n"
     ]
    },
    {
     "data": {
      "text/plain": [
       "unyt_quantity(6.94274574e+44, 'erg/s')"
      ]
     },
     "execution_count": 11,
     "metadata": {},
     "output_type": "execute_result"
    }
   ],
   "source": [
    "sed.measure_bolometric_luminosity(method=\"quad\")"
   ]
  },
  {
   "attachments": {},
   "cell_type": "markdown",
   "id": "c3e4ef3c",
   "metadata": {},
   "source": [
    "Under-the-hood the above uses a function to get the luminosity at a particular frequency or wavelength:"
   ]
  },
  {
   "cell_type": "code",
   "execution_count": 12,
   "id": "55afce8a",
   "metadata": {
    "execution": {
     "iopub.execute_input": "2024-01-17T18:13:27.213052Z",
     "iopub.status.busy": "2024-01-17T18:13:27.212657Z",
     "iopub.status.idle": "2024-01-17T18:13:27.218080Z",
     "shell.execute_reply": "2024-01-17T18:13:27.217530Z"
    }
   },
   "outputs": [
    {
     "data": {
      "text/plain": [
       "unyt_quantity(1.66123407e+29, 'erg/(Hz*s)')"
      ]
     },
     "execution_count": 12,
     "metadata": {},
     "output_type": "execute_result"
    }
   ],
   "source": [
    "sed.get_lnu_at_lam(1500 * Angstrom)"
   ]
  },
  {
   "cell_type": "code",
   "execution_count": 13,
   "id": "f6ba4b1d",
   "metadata": {
    "execution": {
     "iopub.execute_input": "2024-01-17T18:13:27.220469Z",
     "iopub.status.busy": "2024-01-17T18:13:27.220106Z",
     "iopub.status.idle": "2024-01-17T18:13:27.224966Z",
     "shell.execute_reply": "2024-01-17T18:13:27.224446Z"
    }
   },
   "outputs": [
    {
     "data": {
      "text/plain": [
       "unyt_quantity(1.5576907e+27, 'erg/(Hz*s)')"
      ]
     },
     "execution_count": 13,
     "metadata": {},
     "output_type": "execute_result"
    }
   ],
   "source": [
    "sed.get_lnu_at_nu(1e14 * Hz)"
   ]
  },
  {
   "cell_type": "code",
   "execution_count": 14,
   "id": "b009326a",
   "metadata": {
    "execution": {
     "iopub.execute_input": "2024-01-17T18:13:27.227375Z",
     "iopub.status.busy": "2024-01-17T18:13:27.227170Z",
     "iopub.status.idle": "2024-01-17T18:13:27.232615Z",
     "shell.execute_reply": "2024-01-17T18:13:27.232075Z"
    }
   },
   "outputs": [
    {
     "data": {
      "text/plain": [
       "unyt_quantity(4.04806185e+43, 'erg/s')"
      ]
     },
     "execution_count": 14,
     "metadata": {},
     "output_type": "execute_result"
    }
   ],
   "source": [
    "sed.measure_window_luminosity((1400.0 * Angstrom, 1600.0 * Angstrom))"
   ]
  },
  {
   "cell_type": "code",
   "execution_count": 15,
   "id": "6716e968",
   "metadata": {
    "execution": {
     "iopub.execute_input": "2024-01-17T18:13:27.234979Z",
     "iopub.status.busy": "2024-01-17T18:13:27.234778Z",
     "iopub.status.idle": "2024-01-17T18:13:27.239801Z",
     "shell.execute_reply": "2024-01-17T18:13:27.239164Z"
    }
   },
   "outputs": [
    {
     "data": {
      "text/plain": [
       "unyt_quantity(4.04806185e+43, 'erg/s')"
      ]
     },
     "execution_count": 15,
     "metadata": {},
     "output_type": "execute_result"
    }
   ],
   "source": [
    "sed.measure_window_luminosity((0.14 * um, 0.16 * um))"
   ]
  },
  {
   "cell_type": "code",
   "execution_count": 16,
   "id": "6f76d8e1",
   "metadata": {
    "execution": {
     "iopub.execute_input": "2024-01-17T18:13:27.242248Z",
     "iopub.status.busy": "2024-01-17T18:13:27.242047Z",
     "iopub.status.idle": "2024-01-17T18:13:27.249081Z",
     "shell.execute_reply": "2024-01-17T18:13:27.248447Z"
    }
   },
   "outputs": [
    {
     "data": {
      "text/plain": [
       "unyt_quantity(1.5142883e+29, 'erg/(Hz*s)')"
      ]
     },
     "execution_count": 16,
     "metadata": {},
     "output_type": "execute_result"
    }
   ],
   "source": [
    "sed.measure_window_lnu((1400.0 * Angstrom, 1600.0 * Angstrom))"
   ]
  },
  {
   "cell_type": "code",
   "execution_count": 17,
   "id": "1c460d65",
   "metadata": {
    "execution": {
     "iopub.execute_input": "2024-01-17T18:13:27.251547Z",
     "iopub.status.busy": "2024-01-17T18:13:27.251342Z",
     "iopub.status.idle": "2024-01-17T18:13:27.256647Z",
     "shell.execute_reply": "2024-01-17T18:13:27.256086Z"
    }
   },
   "outputs": [
    {
     "data": {
      "text/plain": [
       "unyt_quantity(1.51428348e+29, 'erg/(Hz*s)')"
      ]
     },
     "execution_count": 17,
     "metadata": {},
     "output_type": "execute_result"
    }
   ],
   "source": [
    "sed.measure_window_lnu(\n",
    "    (1400.0 * Angstrom, 1600.0 * Angstrom), method=\"average\"\n",
    ")"
   ]
  },
  {
   "cell_type": "code",
   "execution_count": 18,
   "id": "029d4f71",
   "metadata": {
    "execution": {
     "iopub.execute_input": "2024-01-17T18:13:27.258914Z",
     "iopub.status.busy": "2024-01-17T18:13:27.258723Z",
     "iopub.status.idle": "2024-01-17T18:13:27.576188Z",
     "shell.execute_reply": "2024-01-17T18:13:27.575447Z"
    }
   },
   "outputs": [
    {
     "name": "stderr",
     "output_type": "stream",
     "text": [
      "/home/runner/work/synthesizer/synthesizer/src/synthesizer/sed.py:713: IntegrationWarning: The maximum number of subdivisions (50) has been achieved.\n",
      "  If increasing the limit yields no improvement it is advised to analyze \n",
      "  the integrand in order to determine the difficulties.  If the position of a \n",
      "  local difficulty can be determined (singularity, discontinuity) one will \n",
      "  probably gain from splitting up the interval and calling the integrator \n",
      "  on the subranges.  Perhaps a special-purpose integrator should be used.\n",
      "  integrate.quad(func, *lims)[0] / integrate.quad(inv, *lims)[0]\n"
     ]
    },
    {
     "data": {
      "text/plain": [
       "unyt_quantity(1.51222303e+29, 'erg/(Hz*s)')"
      ]
     },
     "execution_count": 18,
     "metadata": {},
     "output_type": "execute_result"
    }
   ],
   "source": [
    "sed.measure_window_lnu((1400, 1600) * Angstrom, method=\"quad\")"
   ]
  },
  {
   "attachments": {},
   "cell_type": "markdown",
   "id": "a3e8482a",
   "metadata": {},
   "source": [
    "We can also measure a spectral break by providing two windows, e.g."
   ]
  },
  {
   "cell_type": "code",
   "execution_count": 19,
   "id": "1abf4968",
   "metadata": {
    "execution": {
     "iopub.execute_input": "2024-01-17T18:13:27.578998Z",
     "iopub.status.busy": "2024-01-17T18:13:27.578597Z",
     "iopub.status.idle": "2024-01-17T18:13:27.587368Z",
     "shell.execute_reply": "2024-01-17T18:13:27.586827Z"
    }
   },
   "outputs": [
    {
     "data": {
      "text/plain": [
       "unyt_quantity(0.85569664, '(dimensionless)')"
      ]
     },
     "execution_count": 19,
     "metadata": {},
     "output_type": "execute_result"
    }
   ],
   "source": [
    "sed.measure_break((3400, 3600) * Angstrom, (4150, 4250) * Angstrom)"
   ]
  },
  {
   "attachments": {},
   "cell_type": "markdown",
   "id": "d0accf42",
   "metadata": {},
   "source": [
    "There are also a few in-built break methods, e.g. `measure_Balmer_break()`"
   ]
  },
  {
   "cell_type": "code",
   "execution_count": 20,
   "id": "2df698f8",
   "metadata": {
    "execution": {
     "iopub.execute_input": "2024-01-17T18:13:27.590049Z",
     "iopub.status.busy": "2024-01-17T18:13:27.589637Z",
     "iopub.status.idle": "2024-01-17T18:13:27.595433Z",
     "shell.execute_reply": "2024-01-17T18:13:27.594797Z"
    }
   },
   "outputs": [
    {
     "data": {
      "text/plain": [
       "unyt_quantity(0.85569664, '(dimensionless)')"
      ]
     },
     "execution_count": 20,
     "metadata": {},
     "output_type": "execute_result"
    }
   ],
   "source": [
    "sed.measure_balmer_break()"
   ]
  },
  {
   "cell_type": "code",
   "execution_count": 21,
   "id": "38913adc",
   "metadata": {
    "execution": {
     "iopub.execute_input": "2024-01-17T18:13:27.598048Z",
     "iopub.status.busy": "2024-01-17T18:13:27.597647Z",
     "iopub.status.idle": "2024-01-17T18:13:27.603180Z",
     "shell.execute_reply": "2024-01-17T18:13:27.602527Z"
    }
   },
   "outputs": [
    {
     "data": {
      "text/plain": [
       "unyt_quantity(0.90143359, '(dimensionless)')"
      ]
     },
     "execution_count": 21,
     "metadata": {},
     "output_type": "execute_result"
    }
   ],
   "source": [
    "sed.measure_d4000()"
   ]
  },
  {
   "attachments": {},
   "cell_type": "markdown",
   "id": "45c97d43",
   "metadata": {},
   "source": [
    "We can also measure absorption line indices:"
   ]
  },
  {
   "cell_type": "code",
   "execution_count": 22,
   "id": "8a50ffc3",
   "metadata": {
    "execution": {
     "iopub.execute_input": "2024-01-17T18:13:27.605819Z",
     "iopub.status.busy": "2024-01-17T18:13:27.605449Z",
     "iopub.status.idle": "2024-01-17T18:13:27.611873Z",
     "shell.execute_reply": "2024-01-17T18:13:27.611235Z"
    }
   },
   "outputs": [
    {
     "data": {
      "text/plain": [
       "unyt_quantity(5.80884398, 'Å')"
      ]
     },
     "execution_count": 22,
     "metadata": {},
     "output_type": "execute_result"
    }
   ],
   "source": [
    "sed.measure_index(\n",
    "    (1500, 1600) * Angstrom, (1400, 1500) * Angstrom, (1600, 1700) * Angstrom\n",
    ")"
   ]
  },
  {
   "attachments": {},
   "cell_type": "markdown",
   "id": "eb48725a",
   "metadata": {},
   "source": [
    "We can also measure the UV spectral slope $\\beta$:"
   ]
  },
  {
   "cell_type": "code",
   "execution_count": 23,
   "id": "1734a1ed",
   "metadata": {
    "execution": {
     "iopub.execute_input": "2024-01-17T18:13:27.614511Z",
     "iopub.status.busy": "2024-01-17T18:13:27.614152Z",
     "iopub.status.idle": "2024-01-17T18:13:27.618852Z",
     "shell.execute_reply": "2024-01-17T18:13:27.618215Z"
    }
   },
   "outputs": [
    {
     "data": {
      "text/plain": [
       "-2.947290162657863"
      ]
     },
     "execution_count": 23,
     "metadata": {},
     "output_type": "execute_result"
    }
   ],
   "source": [
    "sed.measure_beta()"
   ]
  },
  {
   "attachments": {},
   "cell_type": "markdown",
   "id": "099b456e",
   "metadata": {},
   "source": [
    "By default this uses a single window and fits the spectrum by a power-law. However, we can also specify two windows as below, in which case the luminosity in each window is calcualted and used to infer a slope:"
   ]
  },
  {
   "cell_type": "code",
   "execution_count": 24,
   "id": "21456b92",
   "metadata": {
    "execution": {
     "iopub.execute_input": "2024-01-17T18:13:27.621427Z",
     "iopub.status.busy": "2024-01-17T18:13:27.621038Z",
     "iopub.status.idle": "2024-01-17T18:13:27.626918Z",
     "shell.execute_reply": "2024-01-17T18:13:27.626274Z"
    }
   },
   "outputs": [
    {
     "data": {
      "text/plain": [
       "-2.9533621846623594"
      ]
     },
     "execution_count": 24,
     "metadata": {},
     "output_type": "execute_result"
    }
   ],
   "source": [
    "sed.measure_beta(window=(1250, 1750, 2250, 2750))"
   ]
  },
  {
   "cell_type": "markdown",
   "id": "914b8124",
   "metadata": {},
   "source": [
    "We can also measure ionising photon production rates for a particular ionisation energy:"
   ]
  },
  {
   "cell_type": "code",
   "execution_count": 25,
   "id": "aba2653e",
   "metadata": {
    "execution": {
     "iopub.execute_input": "2024-01-17T18:13:27.629492Z",
     "iopub.status.busy": "2024-01-17T18:13:27.629278Z",
     "iopub.status.idle": "2024-01-17T18:13:32.786636Z",
     "shell.execute_reply": "2024-01-17T18:13:32.785950Z"
    }
   },
   "outputs": [
    {
     "name": "stderr",
     "output_type": "stream",
     "text": [
      "/home/runner/work/synthesizer/synthesizer/src/synthesizer/sed.py:1273: IntegrationWarning: The occurrence of roundoff error is detected, which prevents \n",
      "  the requested tolerance from being achieved.  The error may be \n",
      "  underestimated.\n",
      "  return integrate.quad(\n"
     ]
    },
    {
     "data": {
      "text/plain": [
       "9.821368035342914e+54"
      ]
     },
     "execution_count": 25,
     "metadata": {},
     "output_type": "execute_result"
    }
   ],
   "source": [
    "sed.calculate_ionising_photon_production_rate(\n",
    "    ionisation_energy=13.6 * eV, limit=1000\n",
    ")"
   ]
  },
  {
   "attachments": {},
   "cell_type": "markdown",
   "id": "69f1be0c",
   "metadata": {},
   "source": [
    "## Observed frame SED\n",
    "\n",
    "To do this we need to provide a cosmology, using an `astropy.cosmology` object, a redshift $z$, and optionally an IGM absorption model."
   ]
  },
  {
   "cell_type": "code",
   "execution_count": 26,
   "id": "45dea364",
   "metadata": {
    "execution": {
     "iopub.execute_input": "2024-01-17T18:13:32.789253Z",
     "iopub.status.busy": "2024-01-17T18:13:32.789026Z",
     "iopub.status.idle": "2024-01-17T18:13:32.897198Z",
     "shell.execute_reply": "2024-01-17T18:13:32.896542Z"
    }
   },
   "outputs": [
    {
     "data": {
      "text/plain": [
       "unyt_array([0., 0., 0., ..., 0., 0., 0.], 'nJy')"
      ]
     },
     "execution_count": 26,
     "metadata": {},
     "output_type": "execute_result"
    }
   ],
   "source": [
    "from astropy.cosmology import Planck18 as cosmo\n",
    "\n",
    "z = 10.0  # redshift\n",
    "sed.get_fnu(cosmo, z, igm=Madau96)  # generate observed frame spectra"
   ]
  },
  {
   "attachments": {},
   "cell_type": "markdown",
   "id": "b8b6b6fc",
   "metadata": {},
   "source": [
    "## Photometry\n",
    "\n",
    "Once we have computed the observed frame SED there is a method on an `Sed` object that allows us to calculate observed photometry (the same is of course true for rest frame photometry). However, first we need to instantiate a `FilterCollection` object."
   ]
  },
  {
   "cell_type": "code",
   "execution_count": 27,
   "id": "e81e62ce",
   "metadata": {
    "execution": {
     "iopub.execute_input": "2024-01-17T18:13:32.900386Z",
     "iopub.status.busy": "2024-01-17T18:13:32.900128Z",
     "iopub.status.idle": "2024-01-17T18:13:35.823437Z",
     "shell.execute_reply": "2024-01-17T18:13:35.822787Z"
    }
   },
   "outputs": [],
   "source": [
    "filter_codes = [\n",
    "    f\"JWST/NIRCam.{f}\"\n",
    "    for f in [\n",
    "        \"F070W\",\n",
    "        \"F090W\",\n",
    "        \"F115W\",\n",
    "        \"F150W\",\n",
    "        \"F200W\",\n",
    "        \"F277W\",\n",
    "        \"F356W\",\n",
    "        \"F444W\",\n",
    "    ]\n",
    "]  # define a list of filter codes\n",
    "fc = FilterCollection(filter_codes, new_lam=grid.lam)"
   ]
  },
  {
   "cell_type": "code",
   "execution_count": 28,
   "id": "0405a1ad",
   "metadata": {
    "execution": {
     "iopub.execute_input": "2024-01-17T18:13:35.826573Z",
     "iopub.status.busy": "2024-01-17T18:13:35.826178Z",
     "iopub.status.idle": "2024-01-17T18:13:35.835782Z",
     "shell.execute_reply": "2024-01-17T18:13:35.835249Z"
    }
   },
   "outputs": [
    {
     "name": "stdout",
     "output_type": "stream",
     "text": [
      "----------------------------------------------------------------\n",
      "|                     OBSERVED PHOTOMETRY                      |\n",
      "|------------------------------------|-------------------------|\n",
      "| JWST/NIRCam.F070W (λ = 7.04e+03 Å) | -0.00e+00 erg/(cm**2*s) |\n",
      "|------------------------------------|-------------------------|\n",
      "| JWST/NIRCam.F090W (λ = 9.02e+03 Å) |  3.51e-12 erg/(cm**2*s) |\n",
      "|------------------------------------|-------------------------|\n",
      "| JWST/NIRCam.F115W (λ = 1.15e+04 Å) |  7.62e-03 erg/(cm**2*s) |\n",
      "|------------------------------------|-------------------------|\n",
      "| JWST/NIRCam.F150W (λ = 1.50e+04 Å) |  1.30e+02 erg/(cm**2*s) |\n",
      "|------------------------------------|-------------------------|\n",
      "| JWST/NIRCam.F200W (λ = 1.99e+04 Å) |  1.10e+02 erg/(cm**2*s) |\n",
      "|------------------------------------|-------------------------|\n",
      "| JWST/NIRCam.F277W (λ = 2.76e+04 Å) |  7.76e+01 erg/(cm**2*s) |\n",
      "|------------------------------------|-------------------------|\n",
      "| JWST/NIRCam.F356W (λ = 3.57e+04 Å) |  5.38e+01 erg/(cm**2*s) |\n",
      "|------------------------------------|-------------------------|\n",
      "| JWST/NIRCam.F444W (λ = 4.40e+04 Å) |  4.30e+01 erg/(cm**2*s) |\n",
      "----------------------------------------------------------------\n",
      "\n"
     ]
    }
   ],
   "source": [
    "# Measure observed photometry\n",
    "fluxes = sed.get_photo_fluxes(fc)\n",
    "print(fluxes)"
   ]
  },
  {
   "attachments": {},
   "cell_type": "markdown",
   "id": "38f72dcd",
   "metadata": {},
   "source": [
    "## Multiple SEDs"
   ]
  },
  {
   "attachments": {},
   "cell_type": "markdown",
   "id": "04676ea4",
   "metadata": {},
   "source": [
    "The `Sed` object can actually hold an array of seds and the methods should all work fine."
   ]
  },
  {
   "attachments": {},
   "cell_type": "markdown",
   "id": "d23f5a95",
   "metadata": {},
   "source": [
    "Let's create an `Sed` object with two seds:"
   ]
  },
  {
   "cell_type": "code",
   "execution_count": 29,
   "id": "6089f86d",
   "metadata": {
    "execution": {
     "iopub.execute_input": "2024-01-17T18:13:35.838806Z",
     "iopub.status.busy": "2024-01-17T18:13:35.838390Z",
     "iopub.status.idle": "2024-01-17T18:13:35.842294Z",
     "shell.execute_reply": "2024-01-17T18:13:35.841763Z"
    }
   },
   "outputs": [],
   "source": [
    "sed2 = Sed(sed.lam, np.array([sed.lnu, sed.lnu * 2]))"
   ]
  },
  {
   "cell_type": "code",
   "execution_count": 30,
   "id": "d842fe4d",
   "metadata": {
    "execution": {
     "iopub.execute_input": "2024-01-17T18:13:35.844486Z",
     "iopub.status.busy": "2024-01-17T18:13:35.844299Z",
     "iopub.status.idle": "2024-01-17T18:13:35.850070Z",
     "shell.execute_reply": "2024-01-17T18:13:35.849525Z"
    }
   },
   "outputs": [
    {
     "data": {
      "text/plain": [
       "unyt_array([1.5142883e+29, 3.0285766e+29], 'erg/(Hz*s)')"
      ]
     },
     "execution_count": 30,
     "metadata": {},
     "output_type": "execute_result"
    }
   ],
   "source": [
    "sed2.measure_window_lnu((1400, 1600) * Angstrom)"
   ]
  },
  {
   "cell_type": "code",
   "execution_count": 31,
   "id": "97808856",
   "metadata": {
    "execution": {
     "iopub.execute_input": "2024-01-17T18:13:35.852473Z",
     "iopub.status.busy": "2024-01-17T18:13:35.852105Z",
     "iopub.status.idle": "2024-01-17T18:13:35.857060Z",
     "shell.execute_reply": "2024-01-17T18:13:35.856532Z"
    }
   },
   "outputs": [
    {
     "data": {
      "text/plain": [
       "unyt_array([1.51428348e+29, 3.02856696e+29], 'erg/(Hz*s)')"
      ]
     },
     "execution_count": 31,
     "metadata": {},
     "output_type": "execute_result"
    }
   ],
   "source": [
    "sed2.measure_window_lnu((1400, 1600) * Angstrom, method=\"average\")"
   ]
  },
  {
   "cell_type": "code",
   "execution_count": 32,
   "id": "addd3b8f",
   "metadata": {
    "execution": {
     "iopub.execute_input": "2024-01-17T18:13:35.859494Z",
     "iopub.status.busy": "2024-01-17T18:13:35.859117Z",
     "iopub.status.idle": "2024-01-17T18:13:35.864242Z",
     "shell.execute_reply": "2024-01-17T18:13:35.863719Z"
    }
   },
   "outputs": [
    {
     "data": {
      "text/plain": [
       "array([-2.94729016, -2.94729016])"
      ]
     },
     "execution_count": 32,
     "metadata": {},
     "output_type": "execute_result"
    }
   ],
   "source": [
    "sed2.measure_beta()"
   ]
  },
  {
   "cell_type": "code",
   "execution_count": 33,
   "id": "c4e3645c",
   "metadata": {
    "execution": {
     "iopub.execute_input": "2024-01-17T18:13:35.866840Z",
     "iopub.status.busy": "2024-01-17T18:13:35.866418Z",
     "iopub.status.idle": "2024-01-17T18:13:35.872347Z",
     "shell.execute_reply": "2024-01-17T18:13:35.871826Z"
    }
   },
   "outputs": [
    {
     "data": {
      "text/plain": [
       "array([-2.95336218, -2.95336218])"
      ]
     },
     "execution_count": 33,
     "metadata": {},
     "output_type": "execute_result"
    }
   ],
   "source": [
    "sed2.measure_beta(window=(1250, 1750, 2250, 2750))"
   ]
  },
  {
   "cell_type": "code",
   "execution_count": 34,
   "id": "f5f8deed",
   "metadata": {
    "execution": {
     "iopub.execute_input": "2024-01-17T18:13:35.874880Z",
     "iopub.status.busy": "2024-01-17T18:13:35.874497Z",
     "iopub.status.idle": "2024-01-17T18:13:35.880237Z",
     "shell.execute_reply": "2024-01-17T18:13:35.879730Z"
    }
   },
   "outputs": [
    {
     "data": {
      "text/plain": [
       "unyt_array([0.85569664, 0.85569664], '(dimensionless)')"
      ]
     },
     "execution_count": 34,
     "metadata": {},
     "output_type": "execute_result"
    }
   ],
   "source": [
    "sed2.measure_balmer_break()"
   ]
  },
  {
   "cell_type": "code",
   "execution_count": 35,
   "id": "2994d5fe",
   "metadata": {
    "execution": {
     "iopub.execute_input": "2024-01-17T18:13:35.882689Z",
     "iopub.status.busy": "2024-01-17T18:13:35.882319Z",
     "iopub.status.idle": "2024-01-17T18:13:35.889102Z",
     "shell.execute_reply": "2024-01-17T18:13:35.888488Z"
    }
   },
   "outputs": [
    {
     "data": {
      "text/plain": [
       "unyt_array([5.80884398, 5.80884398], 'Å')"
      ]
     },
     "execution_count": 35,
     "metadata": {},
     "output_type": "execute_result"
    }
   ],
   "source": [
    "sed2.measure_index(\n",
    "    (1500, 1600) * Angstrom, (1400, 1500) * Angstrom, (1600, 1700) * Angstrom\n",
    ")"
   ]
  },
  {
   "cell_type": "markdown",
   "id": "fa44a901",
   "metadata": {},
   "source": [
    "### Combining SEDs\n",
    "\n",
    "`Sed`s can be combined either via concatenation to produce a single `Sed` holding multiple spectra from the combined `Sed`s, or by addition to add the spectra contained in two `Sed`s. \n",
    "\n",
    "To concatenate spectra we can use `Sed.concat()`."
   ]
  },
  {
   "cell_type": "code",
   "execution_count": 36,
   "id": "35011a0b",
   "metadata": {
    "execution": {
     "iopub.execute_input": "2024-01-17T18:13:35.891724Z",
     "iopub.status.busy": "2024-01-17T18:13:35.891260Z",
     "iopub.status.idle": "2024-01-17T18:13:35.895703Z",
     "shell.execute_reply": "2024-01-17T18:13:35.895155Z"
    }
   },
   "outputs": [
    {
     "name": "stdout",
     "output_type": "stream",
     "text": [
      "Shapes before: (8228,) (2, 8228)\n",
      "Combined shape: (3, 8228)\n"
     ]
    }
   ],
   "source": [
    "print(\"Shapes before:\", sed._lnu.shape, sed2._lnu.shape)\n",
    "sed3 = sed2.concat(sed)\n",
    "print(\"Combined shape:\", sed3._lnu.shape)"
   ]
  },
  {
   "cell_type": "markdown",
   "id": "376e890e",
   "metadata": {},
   "source": [
    "`Sed.concat` can take an arbitrary number of `Sed` objects to combine."
   ]
  },
  {
   "cell_type": "code",
   "execution_count": 37,
   "id": "c29f5bca",
   "metadata": {
    "execution": {
     "iopub.execute_input": "2024-01-17T18:13:35.898153Z",
     "iopub.status.busy": "2024-01-17T18:13:35.897778Z",
     "iopub.status.idle": "2024-01-17T18:13:35.902646Z",
     "shell.execute_reply": "2024-01-17T18:13:35.902086Z"
    }
   },
   "outputs": [
    {
     "name": "stdout",
     "output_type": "stream",
     "text": [
      "Combined shape: (8, 8228)\n"
     ]
    }
   ],
   "source": [
    "sed4 = sed2.concat(sed, sed2, sed3)\n",
    "print(\"Combined shape:\", sed4._lnu.shape)"
   ]
  },
  {
   "cell_type": "markdown",
   "id": "282390b5",
   "metadata": {},
   "source": [
    "If we want to add the spectra of 2 `Sed` objects we simply apply the `+` operator. However, unlike `concat`, this will only work for `Sed`s with identical shapes."
   ]
  },
  {
   "cell_type": "code",
   "execution_count": 38,
   "id": "e68ce49b",
   "metadata": {
    "execution": {
     "iopub.execute_input": "2024-01-17T18:13:35.905322Z",
     "iopub.status.busy": "2024-01-17T18:13:35.904818Z",
     "iopub.status.idle": "2024-01-17T18:13:36.243547Z",
     "shell.execute_reply": "2024-01-17T18:13:36.242810Z"
    }
   },
   "outputs": [
    {
     "name": "stderr",
     "output_type": "stream",
     "text": [
      "/opt/hostedtoolcache/Python/3.10.13/x64/lib/python3.10/site-packages/unyt/array.py:1813: RuntimeWarning: divide by zero encountered in log10\n",
      "  out_arr = func(np.asarray(inp), out=out_func, **kwargs)\n"
     ]
    },
    {
     "data": {
      "image/png": "[encoded data removed]",
      "text/plain": [
       "<Figure size 640x480 with 1 Axes>"
      ]
     },
     "metadata": {},
     "output_type": "display_data"
    }
   ],
   "source": [
    "sed5 = sed + sed\n",
    "plt.plot(np.log10(sed.lam), np.log10(sed.lnu), label=\"sed\")\n",
    "plt.plot(np.log10(sed5.lam), np.log10(sed5.lnu), label=\"sed5\")\n",
    "plt.ylim(26, 30)\n",
    "plt.xlim(2, 5)\n",
    "plt.xlabel(r\"$\\rm log_{10}(\\lambda/\\AA)$\")\n",
    "plt.ylabel(r\"$\\rm log_{10}(L_{\\nu}/erg\\ s^{-1}\\ Hz^{-1} M_{\\odot}^{-1})$\")\n",
    "plt.legend()\n",
    "plt.show()\n",
    "plt.close()"
   ]
  },
  {
   "attachments": {},
   "cell_type": "markdown",
   "id": "55d3b546",
   "metadata": {},
   "source": [
    "## Resampling SEDs\n",
    "\n",
    "The `Sed` includes a method to resample an sed, e.g. to lower-resolution or to match observations."
   ]
  },
  {
   "cell_type": "code",
   "execution_count": 39,
   "id": "b2c47c14",
   "metadata": {
    "execution": {
     "iopub.execute_input": "2024-01-17T18:13:36.246553Z",
     "iopub.status.busy": "2024-01-17T18:13:36.246278Z",
     "iopub.status.idle": "2024-01-17T18:13:36.547193Z",
     "shell.execute_reply": "2024-01-17T18:13:36.546424Z"
    }
   },
   "outputs": [
    {
     "name": "stdout",
     "output_type": "stream",
     "text": [
      "\n",
      "Spectres: new_wavs contains values outside the range in spec_wavs, new_fluxes and new_errs will be filled with the value set in the 'fill' keyword argument. \n",
      "\n"
     ]
    },
    {
     "data": {
      "image/png": "[encoded data removed]",
      "text/plain": [
       "<Figure size 640x480 with 1 Axes>"
      ]
     },
     "metadata": {},
     "output_type": "display_data"
    }
   ],
   "source": [
    "sed6 = sed.get_resampled_sed(5)\n",
    "plt.plot(np.log10(sed.lam), np.log10(sed.lnu), label=\"Original\")\n",
    "plt.plot(np.log10(sed6.lam), np.log10(sed6.lnu), label=\"Resampled\")\n",
    "plt.xlim(2.2, 3.5)\n",
    "plt.ylim(27.0, 29.5)\n",
    "plt.xlabel(r\"$\\rm log_{10}(\\lambda/\\AA)$\")\n",
    "plt.ylabel(r\"$\\rm log_{10}(L_{\\nu}/erg\\ s^{-1}\\ Hz^{-1} M_{\\odot}^{-1})$\")\n",
    "plt.legend()\n",
    "plt.show()\n",
    "plt.close()"
   ]
  },
  {
   "cell_type": "code",
   "execution_count": 40,
   "id": "6928e926",
   "metadata": {
    "execution": {
     "iopub.execute_input": "2024-01-17T18:13:36.550137Z",
     "iopub.status.busy": "2024-01-17T18:13:36.549658Z",
     "iopub.status.idle": "2024-01-17T18:13:36.555855Z",
     "shell.execute_reply": "2024-01-17T18:13:36.555143Z"
    }
   },
   "outputs": [
    {
     "name": "stdout",
     "output_type": "stream",
     "text": [
      "[1.  0.5 1. ] dimensionless\n"
     ]
    }
   ],
   "source": [
    "print(\n",
    "    sed.measure_bolometric_luminosity() / sed3.measure_bolometric_luminosity()\n",
    ")"
   ]
  },
  {
   "cell_type": "markdown",
   "id": "8ff799a0",
   "metadata": {},
   "source": [
    "## Applying attenuation\n",
    "\n",
    "To apply attenuation to an `Sed` you can use the `apply_attenuation` method and pass the optical depth. An instance of a dust curve can also be provided but this defaults to a power law with slope = 1 (`synthesizer.dust.attenuation.PowerLaw(slope=1)`)."
   ]
  },
  {
   "cell_type": "code",
   "execution_count": 41,
   "id": "39e0e53c",
   "metadata": {
    "execution": {
     "iopub.execute_input": "2024-01-17T18:13:36.558727Z",
     "iopub.status.busy": "2024-01-17T18:13:36.558333Z",
     "iopub.status.idle": "2024-01-17T18:13:36.754195Z",
     "shell.execute_reply": "2024-01-17T18:13:36.753589Z"
    }
   },
   "outputs": [
    {
     "data": {
      "image/png": "[encoded data removed]",
      "text/plain": [
       "<Figure size 640x480 with 1 Axes>"
      ]
     },
     "metadata": {},
     "output_type": "display_data"
    }
   ],
   "source": [
    "sed4_att = sed4.apply_attenuation(tau_v=0.7)\n",
    "\n",
    "plt.plot(np.log10(sed4.lam), np.log10(sed4.lnu[0, :]), label=\"Incident\")\n",
    "plt.plot(\n",
    "    np.log10(sed4_att.lam), np.log10(sed4_att.lnu[0, :]), label=\"Attenuated\"\n",
    ")\n",
    "plt.xlim(2.2, 3.5)\n",
    "plt.ylim(26.0, 30.0)\n",
    "plt.xlabel(r\"$\\rm log_{10}(\\lambda/\\AA)$\")\n",
    "plt.ylabel(r\"$\\rm log_{10}(L_{\\nu}/erg\\ s^{-1}\\ Hz^{-1} M_{\\odot}^{-1})$\")\n",
    "plt.legend()\n",
    "plt.show()\n",
    "plt.close()"
   ]
  },
  {
   "cell_type": "markdown",
   "id": "669314bc",
   "metadata": {},
   "source": [
    "The only other argument `apply_attenuation` can take is a mask for applying attenuation to speicifc spectra in an `Sed` with multiple spectra (like an `Sed` containing the spectra for multiple particles for instance.)"
   ]
  },
  {
   "cell_type": "code",
   "execution_count": 42,
   "id": "0b944d48",
   "metadata": {
    "execution": {
     "iopub.execute_input": "2024-01-17T18:13:36.757026Z",
     "iopub.status.busy": "2024-01-17T18:13:36.756793Z",
     "iopub.status.idle": "2024-01-17T18:13:36.930051Z",
     "shell.execute_reply": "2024-01-17T18:13:36.929339Z"
    }
   },
   "outputs": [
    {
     "data": {
      "image/png": "[encoded data removed]",
      "text/plain": [
       "<Figure size 640x480 with 1 Axes>"
      ]
     },
     "metadata": {},
     "output_type": "display_data"
    }
   ],
   "source": [
    "sed7_att = sed4.apply_attenuation(\n",
    "    tau_v=0.7, mask=np.array([1, 0, 0, 0, 0, 0, 0, 0], dtype=bool)\n",
    ")\n",
    "\n",
    "plt.plot(np.log10(sed7_att.lam), np.log10(sed4.lnu[1, :]), label=\"Incident\")\n",
    "plt.plot(\n",
    "    np.log10(sed7_att.lam), np.log10(sed7_att.lnu[0, :]), label=\"Attenuated\"\n",
    ")\n",
    "plt.xlim(2.2, 3.5)\n",
    "plt.ylim(26.0, 30.0)\n",
    "plt.xlabel(r\"$\\rm log_{10}(\\lambda/\\AA)$\")\n",
    "plt.ylabel(r\"$\\rm log_{10}(L_{\\nu}/erg\\ s^{-1}\\ Hz^{-1} M_{\\odot}^{-1})$\")\n",
    "plt.legend()\n",
    "plt.show()\n",
    "plt.close()"
   ]
  },
  {
   "cell_type": "markdown",
   "id": "e8b1c0ab",
   "metadata": {},
   "source": [
    "## Calculating transmission\n",
    "\n",
    "If you have an attenuated SED, a natural quantity to calculate is the extinction of that spectra ($A$). This can be done either at the wavelengths of the `Sed`, an arbitrary wavelength/wavelength array, or at commonly used values (1500 and 5500 angstrom) using functions available in the `sed` module. Note that these functions return the extinction/attenuation in magnitudes. Below is a demonstration."
   ]
  },
  {
   "cell_type": "code",
   "execution_count": 43,
   "id": "6cd5cd3a",
   "metadata": {
    "execution": {
     "iopub.execute_input": "2024-01-17T18:13:36.933284Z",
     "iopub.status.busy": "2024-01-17T18:13:36.932829Z",
     "iopub.status.idle": "2024-01-17T18:13:36.941674Z",
     "shell.execute_reply": "2024-01-17T18:13:36.940964Z"
    }
   },
   "outputs": [
    {
     "name": "stdout",
     "output_type": "stream",
     "text": [
      "[       inf        inf        inf ... 0.04221877 0.04207831 0.04193828]\n",
      "0.08360170415641599\n",
      "[0.83601817 0.66881427 0.5573455  0.47772428 0.41800898]\n",
      "2.786725867509981\n",
      "0.7600168668767144\n"
     ]
    },
    {
     "name": "stderr",
     "output_type": "stream",
     "text": [
      "/opt/hostedtoolcache/Python/3.10.13/x64/lib/python3.10/site-packages/unyt/array.py:1938: RuntimeWarning: invalid value encountered in divide\n",
      "  out_arr = func(\n"
     ]
    }
   ],
   "source": [
    "from unyt import um, angstrom\n",
    "from synthesizer.sed import (\n",
    "    get_attenuation,\n",
    "    get_attenuation_at_lam,\n",
    "    get_attenuation_at_1500,\n",
    "    get_attenuation_at_5500,\n",
    ")\n",
    "\n",
    "# Get an intrinsic spectra\n",
    "grid_point = grid.get_grid_point((7, 0.01))\n",
    "int_sed = grid.get_spectra(grid_point, spectra_id=\"incident\")\n",
    "\n",
    "# Get the attenuated spectra\n",
    "att_sed = int_sed.apply_attenuation(tau_v=0.7)\n",
    "\n",
    "# Get attenuation at sed.lam\n",
    "attenuation = get_attenuation(int_sed, att_sed)\n",
    "print(attenuation[~np.isnan(attenuation)])\n",
    "\n",
    "# Get attenuation at 5 microns\n",
    "att_at_5 = get_attenuation_at_lam(5 * um, int_sed, att_sed)\n",
    "print(att_at_5)\n",
    "\n",
    "# Get attenuation at an arbitrary range of wavelengths\n",
    "att_at_range = get_attenuation_at_lam(\n",
    "    np.linspace(5000, 10000, 5) * angstrom, int_sed, att_sed\n",
    ")\n",
    "print(att_at_range)\n",
    "\n",
    "# Get attenuation at 1500 angstrom\n",
    "att_at_1500 = get_attenuation_at_1500(int_sed, att_sed)\n",
    "print(att_at_1500)\n",
    "\n",
    "# Get attenuation at 5500 angstrom\n",
    "att_at_5500 = get_attenuation_at_5500(int_sed, att_sed)\n",
    "print(att_at_5500)"
   ]
  }
 ],
 "metadata": {
  "kernelspec": {
   "display_name": "venv",
   "language": "python",
   "name": "python3"
  },
  "language_info": {
   "codemirror_mode": {
    "name": "ipython",
    "version": 3
   },
   "file_extension": ".py",
   "mimetype": "text/x-python",
   "name": "python",
   "nbconvert_exporter": "python",
   "pygments_lexer": "ipython3",
   "version": "3.10.13"
  },
  "vscode": {
   "interpreter": {
    "hash": "3fbdfee1eda89f517d14c65aaeb395605ea48cc827c54c8ae1828e532ec42817"
   }
  }
 },
 "nbformat": 4,
 "nbformat_minor": 5
}
