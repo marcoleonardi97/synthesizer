{
 "cells": [
  {
   "attachments": {},
   "cell_type": "markdown",
   "id": "00db497b-9cf9-4547-ae44-4d80f30eb8a1",
   "metadata": {},
   "source": [
    "# The Sed object\n",
    "\n",
    "This example demonstrates the various methods associated with the `Sed` class.\n",
    "\n",
    "`Sed` objects can be extracted directly from `Grid` objects or created by `Galaxy` objects. See tutorials on those objects for more information."
   ]
  },
  {
   "cell_type": "code",
   "execution_count": 1,
   "id": "7158257d-8bab-4c83-bac6-38aa83def3bf",
   "metadata": {
    "execution": {
     "iopub.execute_input": "2023-11-03T11:31:34.217680Z",
     "iopub.status.busy": "2023-11-03T11:31:34.217274Z",
     "iopub.status.idle": "2023-11-03T11:31:36.440106Z",
     "shell.execute_reply": "2023-11-03T11:31:36.439404Z"
    }
   },
   "outputs": [],
   "source": [
    "import numpy as np\n",
    "import matplotlib.pyplot as plt\n",
    "import matplotlib as mpl\n",
    "import matplotlib.pyplot as plt\n",
    "import matplotlib.cm as cm\n",
    "import cmasher as cmr\n",
    "import os\n",
    "from unyt import Angstrom, Hz, um\n",
    "from synthesizer.grid import Grid, get_available_lines\n",
    "from synthesizer.sed import Sed\n",
    "from synthesizer.filters import FilterCollection\n",
    "from synthesizer.igm import Madau96"
   ]
  },
  {
   "attachments": {},
   "cell_type": "markdown",
   "id": "3436e527",
   "metadata": {},
   "source": [
    "Let's begin by initialising a grid:"
   ]
  },
  {
   "cell_type": "code",
   "execution_count": 2,
   "id": "dc8b164f-3d98-456f-8e21-b0d72d7a7ff8",
   "metadata": {
    "execution": {
     "iopub.execute_input": "2023-11-03T11:31:36.443795Z",
     "iopub.status.busy": "2023-11-03T11:31:36.443305Z",
     "iopub.status.idle": "2023-11-03T11:31:37.462178Z",
     "shell.execute_reply": "2023-11-03T11:31:37.461528Z"
    }
   },
   "outputs": [],
   "source": [
    "\n",
    "grid_dir =  '../../tests/test_grid/'\n",
    "grid_name = 'test_grid'\n",
    "grid = Grid(grid_name, grid_dir=grid_dir)"
   ]
  },
  {
   "attachments": {},
   "cell_type": "markdown",
   "id": "dcb82045",
   "metadata": {},
   "source": [
    "Next, let's define a target log10age and metallicity and use the built-in `Grid` method to get the grid point and then extract the spectrum for that grid point."
   ]
  },
  {
   "cell_type": "code",
   "execution_count": 3,
   "id": "35ad7190",
   "metadata": {
    "execution": {
     "iopub.execute_input": "2023-11-03T11:31:37.465963Z",
     "iopub.status.busy": "2023-11-03T11:31:37.465463Z",
     "iopub.status.idle": "2023-11-03T11:31:37.477690Z",
     "shell.execute_reply": "2023-11-03T11:31:37.476787Z"
    }
   },
   "outputs": [],
   "source": [
    "log10age = 6. # log10(age/yr)\n",
    "metallicity = 0.01 \n",
    "spectra_id = 'incident'\n",
    "grid_point = grid.get_grid_point((log10age, metallicity))\n",
    "sed = grid.get_spectra(grid_point, spectra_id=spectra_id)\n",
    "sed.lnu *= 1E8 # make the SED bigger"
   ]
  },
  {
   "attachments": {},
   "cell_type": "markdown",
   "id": "c94c977f",
   "metadata": {},
   "source": [
    "Like other `synthesizer` objects, we get some basic information about the `Sed` object by using the `print` command:"
   ]
  },
  {
   "cell_type": "code",
   "execution_count": 4,
   "id": "2b4b4452",
   "metadata": {
    "execution": {
     "iopub.execute_input": "2023-11-03T11:31:37.480907Z",
     "iopub.status.busy": "2023-11-03T11:31:37.480369Z",
     "iopub.status.idle": "2023-11-03T11:31:37.491977Z",
     "shell.execute_reply": "2023-11-03T11:31:37.491370Z"
    }
   },
   "outputs": [
    {
     "name": "stdout",
     "output_type": "stream",
     "text": [
      "----------\n",
      "SUMMARY OF SED \n",
      "Number of wavelength points: 82248 \n",
      "Wavelength range: [0.00 Å,             299742000000.00 Å] \n",
      "log10(Peak luminosity/erg/(Hz*s)):             29.56 \n",
      "log10(Bolometric luminosity/erg/s):             44.85 \n",
      "----------\n"
     ]
    }
   ],
   "source": [
    "print(sed)"
   ]
  },
  {
   "attachments": {},
   "cell_type": "markdown",
   "id": "b21fb144",
   "metadata": {},
   "source": [
    "`Sed` objects contain a wavelength grid and luminosity in the `lam` and `lnu` attributes. Both come with units making them easy to convert:"
   ]
  },
  {
   "cell_type": "code",
   "execution_count": 5,
   "id": "e2616d77",
   "metadata": {
    "execution": {
     "iopub.execute_input": "2023-11-03T11:31:37.494814Z",
     "iopub.status.busy": "2023-11-03T11:31:37.494591Z",
     "iopub.status.idle": "2023-11-03T11:31:37.498704Z",
     "shell.execute_reply": "2023-11-03T11:31:37.498028Z"
    }
   },
   "outputs": [
    {
     "name": "stdout",
     "output_type": "stream",
     "text": [
      "[1.24543e-04 1.24917e-04 1.25293e-04 ... 2.99543e+11 2.99643e+11\n",
      " 2.99742e+11] Å\n",
      "[0. 0. 0. ... 0. 0. 0.] erg/(Hz*s)\n"
     ]
    }
   ],
   "source": [
    "print(sed.lam)\n",
    "print(sed.lnu)"
   ]
  },
  {
   "attachments": {},
   "cell_type": "markdown",
   "id": "363f3759",
   "metadata": {},
   "source": [
    "Thus we can easily make a plot:"
   ]
  },
  {
   "cell_type": "code",
   "execution_count": 6,
   "id": "8c7e91fb",
   "metadata": {
    "execution": {
     "iopub.execute_input": "2023-11-03T11:31:37.502039Z",
     "iopub.status.busy": "2023-11-03T11:31:37.501790Z",
     "iopub.status.idle": "2023-11-03T11:31:37.721186Z",
     "shell.execute_reply": "2023-11-03T11:31:37.720519Z"
    }
   },
   "outputs": [
    {
     "name": "stderr",
     "output_type": "stream",
     "text": [
      "/opt/hostedtoolcache/Python/3.10.13/x64/lib/python3.10/site-packages/unyt/array.py:1813: RuntimeWarning: divide by zero encountered in log10\n",
      "  out_arr = func(np.asarray(inp), out=out_func, **kwargs)\n"
     ]
    },
    {
     "data": {
      "image/png": "[encoded data removed]",
      "text/plain": [
       "<Figure size 640x480 with 1 Axes>"
      ]
     },
     "metadata": {},
     "output_type": "display_data"
    }
   ],
   "source": [
    "plt.plot(np.log10(sed.lam), np.log10(sed.lnu))\n",
    "plt.xlabel(r\"$\\rm log_{10}(\\lambda/\\AA)$\")\n",
    "plt.ylabel(r\"$\\rm log_{10}(L_{\\nu}/erg\\ s^{-1}\\ Hz^{-1} M_{\\odot}^{-1})$\")\n",
    "plt.show()\n",
    "plt.close()"
   ]
  },
  {
   "attachments": {},
   "cell_type": "markdown",
   "id": "de31579b",
   "metadata": {},
   "source": [
    "### Methods"
   ]
  },
  {
   "attachments": {},
   "cell_type": "markdown",
   "id": "623b5609",
   "metadata": {},
   "source": [
    "#### get_bolometric_luminosity()\n",
    "\n",
    "This method allows us to calculate the bolometric luminosity of the sed. "
   ]
  },
  {
   "cell_type": "code",
   "execution_count": 7,
   "id": "c3f35ac3",
   "metadata": {
    "execution": {
     "iopub.execute_input": "2023-11-03T11:31:37.724399Z",
     "iopub.status.busy": "2023-11-03T11:31:37.724153Z",
     "iopub.status.idle": "2023-11-03T11:31:37.731215Z",
     "shell.execute_reply": "2023-11-03T11:31:37.730609Z"
    }
   },
   "outputs": [
    {
     "data": {
      "text/plain": [
       "unyt_quantity(7.01111209e+44, 'erg/s')"
      ]
     },
     "execution_count": 7,
     "metadata": {},
     "output_type": "execute_result"
    }
   ],
   "source": [
    "sed.measure_bolometric_luminosity()"
   ]
  },
  {
   "attachments": {},
   "cell_type": "markdown",
   "id": "1ad27966",
   "metadata": {},
   "source": [
    "By default the above simply sums up the spectrum. However, we can also integrate the spectrum instead:"
   ]
  },
  {
   "cell_type": "code",
   "execution_count": 8,
   "id": "f6d6be8d",
   "metadata": {
    "execution": {
     "iopub.execute_input": "2023-11-03T11:31:37.734161Z",
     "iopub.status.busy": "2023-11-03T11:31:37.733903Z",
     "iopub.status.idle": "2023-11-03T11:31:39.323488Z",
     "shell.execute_reply": "2023-11-03T11:31:39.322803Z"
    }
   },
   "outputs": [
    {
     "name": "stderr",
     "output_type": "stream",
     "text": [
      "/home/runner/work/synthesizer/synthesizer/synthesizer/sed.py:286: IntegrationWarning: The maximum number of subdivisions (50) has been achieved.\n",
      "  If increasing the limit yields no improvement it is advised to analyze \n",
      "  the integrand in order to determine the difficulties.  If the position of a \n",
      "  local difficulty can be determined (singularity, discontinuity) one will \n",
      "  probably gain from splitting up the interval and calling the integrator \n",
      "  on the subranges.  Perhaps a special-purpose integrator should be used.\n",
      "  integrate.quad(self._get_lnu_at_nu, 1e12, 1e16)[0] * units.luminosity\n"
     ]
    },
    {
     "data": {
      "text/plain": [
       "unyt_quantity(7.02444114e+44, 'erg/s')"
      ]
     },
     "execution_count": 8,
     "metadata": {},
     "output_type": "execute_result"
    }
   ],
   "source": [
    "sed.measure_bolometric_luminosity(method='quad')"
   ]
  },
  {
   "attachments": {},
   "cell_type": "markdown",
   "id": "c3e4ef3c",
   "metadata": {},
   "source": [
    "Under-the-hood the above uses a function to get the luminosity at a particular frequency or wavelength:"
   ]
  },
  {
   "cell_type": "code",
   "execution_count": 9,
   "id": "55afce8a",
   "metadata": {
    "execution": {
     "iopub.execute_input": "2023-11-03T11:31:39.326501Z",
     "iopub.status.busy": "2023-11-03T11:31:39.326261Z",
     "iopub.status.idle": "2023-11-03T11:31:39.334843Z",
     "shell.execute_reply": "2023-11-03T11:31:39.334269Z"
    }
   },
   "outputs": [
    {
     "data": {
      "text/plain": [
       "unyt_quantity(1.55802527e+29, 'erg/(Hz*s)')"
      ]
     },
     "execution_count": 9,
     "metadata": {},
     "output_type": "execute_result"
    }
   ],
   "source": [
    "sed.get_lnu_at_lam(1500 * Angstrom)"
   ]
  },
  {
   "cell_type": "code",
   "execution_count": 10,
   "id": "f6ba4b1d",
   "metadata": {
    "execution": {
     "iopub.execute_input": "2023-11-03T11:31:39.337586Z",
     "iopub.status.busy": "2023-11-03T11:31:39.337355Z",
     "iopub.status.idle": "2023-11-03T11:31:39.343428Z",
     "shell.execute_reply": "2023-11-03T11:31:39.342767Z"
    }
   },
   "outputs": [
    {
     "data": {
      "text/plain": [
       "unyt_quantity(1.30295797e+27, 'erg/(Hz*s)')"
      ]
     },
     "execution_count": 10,
     "metadata": {},
     "output_type": "execute_result"
    }
   ],
   "source": [
    "sed.get_lnu_at_nu(1E14 * Hz)"
   ]
  },
  {
   "cell_type": "code",
   "execution_count": 11,
   "id": "b009326a",
   "metadata": {
    "execution": {
     "iopub.execute_input": "2023-11-03T11:31:39.346391Z",
     "iopub.status.busy": "2023-11-03T11:31:39.345888Z",
     "iopub.status.idle": "2023-11-03T11:31:39.354138Z",
     "shell.execute_reply": "2023-11-03T11:31:39.353474Z"
    }
   },
   "outputs": [
    {
     "data": {
      "text/plain": [
       "unyt_quantity(4.06558265e+43, 'erg/s')"
      ]
     },
     "execution_count": 11,
     "metadata": {},
     "output_type": "execute_result"
    }
   ],
   "source": [
    "sed.measure_window_luminosity((1400.*Angstrom,1600.*Angstrom))"
   ]
  },
  {
   "cell_type": "code",
   "execution_count": 12,
   "id": "6716e968",
   "metadata": {
    "execution": {
     "iopub.execute_input": "2023-11-03T11:31:39.357102Z",
     "iopub.status.busy": "2023-11-03T11:31:39.356874Z",
     "iopub.status.idle": "2023-11-03T11:31:39.363460Z",
     "shell.execute_reply": "2023-11-03T11:31:39.362875Z"
    }
   },
   "outputs": [
    {
     "data": {
      "text/plain": [
       "unyt_quantity(4.06558265e+43, 'erg/s')"
      ]
     },
     "execution_count": 12,
     "metadata": {},
     "output_type": "execute_result"
    }
   ],
   "source": [
    "sed.measure_window_luminosity((0.14*um,0.16*um))"
   ]
  },
  {
   "cell_type": "code",
   "execution_count": 13,
   "id": "6f76d8e1",
   "metadata": {
    "execution": {
     "iopub.execute_input": "2023-11-03T11:31:39.366380Z",
     "iopub.status.busy": "2023-11-03T11:31:39.365827Z",
     "iopub.status.idle": "2023-11-03T11:31:39.374912Z",
     "shell.execute_reply": "2023-11-03T11:31:39.374319Z"
    }
   },
   "outputs": [
    {
     "data": {
      "text/plain": [
       "unyt_quantity(1.51898495e+29, 'erg/(Hz*s)')"
      ]
     },
     "execution_count": 13,
     "metadata": {},
     "output_type": "execute_result"
    }
   ],
   "source": [
    "sed.measure_window_lnu((1400.*Angstrom,1600.*Angstrom))"
   ]
  },
  {
   "cell_type": "code",
   "execution_count": 14,
   "id": "1c460d65",
   "metadata": {
    "execution": {
     "iopub.execute_input": "2023-11-03T11:31:39.377807Z",
     "iopub.status.busy": "2023-11-03T11:31:39.377377Z",
     "iopub.status.idle": "2023-11-03T11:31:39.384288Z",
     "shell.execute_reply": "2023-11-03T11:31:39.383712Z"
    }
   },
   "outputs": [
    {
     "data": {
      "text/plain": [
       "unyt_quantity(1.51898773e+29, 'erg/(Hz*s)')"
      ]
     },
     "execution_count": 14,
     "metadata": {},
     "output_type": "execute_result"
    }
   ],
   "source": [
    "sed.measure_window_lnu((1400.*Angstrom,1600.*Angstrom), method='average')"
   ]
  },
  {
   "cell_type": "code",
   "execution_count": 15,
   "id": "029d4f71",
   "metadata": {
    "execution": {
     "iopub.execute_input": "2023-11-03T11:31:39.387116Z",
     "iopub.status.busy": "2023-11-03T11:31:39.386674Z",
     "iopub.status.idle": "2023-11-03T11:31:40.975478Z",
     "shell.execute_reply": "2023-11-03T11:31:40.974817Z"
    }
   },
   "outputs": [
    {
     "name": "stderr",
     "output_type": "stream",
     "text": [
      "/home/runner/work/synthesizer/synthesizer/synthesizer/sed.py:392: IntegrationWarning: The maximum number of subdivisions (50) has been achieved.\n",
      "  If increasing the limit yields no improvement it is advised to analyze \n",
      "  the integrand in order to determine the difficulties.  If the position of a \n",
      "  local difficulty can be determined (singularity, discontinuity) one will \n",
      "  probably gain from splitting up the interval and calling the integrator \n",
      "  on the subranges.  Perhaps a special-purpose integrator should be used.\n",
      "  Lnu = integrate.quad(func, *lims)[0] / integrate.quad(inv, *lims)[0]\n"
     ]
    },
    {
     "data": {
      "text/plain": [
       "unyt_quantity(1.51911292e+29, 'erg/(Hz*s)')"
      ]
     },
     "execution_count": 15,
     "metadata": {},
     "output_type": "execute_result"
    }
   ],
   "source": [
    "sed.measure_window_lnu((1400, 1600)*Angstrom, method='quad')"
   ]
  },
  {
   "attachments": {},
   "cell_type": "markdown",
   "id": "a3e8482a",
   "metadata": {},
   "source": [
    "We can also measure a spectral break by providing two windows, e.g."
   ]
  },
  {
   "cell_type": "code",
   "execution_count": 16,
   "id": "1abf4968",
   "metadata": {
    "execution": {
     "iopub.execute_input": "2023-11-03T11:31:40.978567Z",
     "iopub.status.busy": "2023-11-03T11:31:40.978335Z",
     "iopub.status.idle": "2023-11-03T11:31:40.991227Z",
     "shell.execute_reply": "2023-11-03T11:31:40.990642Z"
    }
   },
   "outputs": [
    {
     "data": {
      "text/plain": [
       "unyt_quantity(0.85692253, '(dimensionless)')"
      ]
     },
     "execution_count": 16,
     "metadata": {},
     "output_type": "execute_result"
    }
   ],
   "source": [
    "sed.measure_break((3400, 3600) * Angstrom, (4150, 4250) * Angstrom)"
   ]
  },
  {
   "attachments": {},
   "cell_type": "markdown",
   "id": "d0accf42",
   "metadata": {},
   "source": [
    "There are also a few in-built break methods, e.g. `measure_Balmer_break()`"
   ]
  },
  {
   "cell_type": "code",
   "execution_count": 17,
   "id": "2df698f8",
   "metadata": {
    "execution": {
     "iopub.execute_input": "2023-11-03T11:31:40.994510Z",
     "iopub.status.busy": "2023-11-03T11:31:40.993924Z",
     "iopub.status.idle": "2023-11-03T11:31:41.004182Z",
     "shell.execute_reply": "2023-11-03T11:31:41.003612Z"
    }
   },
   "outputs": [
    {
     "data": {
      "text/plain": [
       "unyt_quantity(0.85692253, '(dimensionless)')"
      ]
     },
     "execution_count": 17,
     "metadata": {},
     "output_type": "execute_result"
    }
   ],
   "source": [
    "sed.measure_balmer_break()"
   ]
  },
  {
   "cell_type": "code",
   "execution_count": 18,
   "id": "38913adc",
   "metadata": {
    "execution": {
     "iopub.execute_input": "2023-11-03T11:31:41.007195Z",
     "iopub.status.busy": "2023-11-03T11:31:41.006664Z",
     "iopub.status.idle": "2023-11-03T11:31:41.016903Z",
     "shell.execute_reply": "2023-11-03T11:31:41.016241Z"
    }
   },
   "outputs": [
    {
     "data": {
      "text/plain": [
       "unyt_quantity(0.90162194, '(dimensionless)')"
      ]
     },
     "execution_count": 18,
     "metadata": {},
     "output_type": "execute_result"
    }
   ],
   "source": [
    "sed.measure_d4000()"
   ]
  },
  {
   "attachments": {},
   "cell_type": "markdown",
   "id": "45c97d43",
   "metadata": {},
   "source": [
    "We can also measure absorption line indices:"
   ]
  },
  {
   "cell_type": "code",
   "execution_count": 19,
   "id": "8a50ffc3",
   "metadata": {
    "execution": {
     "iopub.execute_input": "2023-11-03T11:31:41.020090Z",
     "iopub.status.busy": "2023-11-03T11:31:41.019543Z",
     "iopub.status.idle": "2023-11-03T11:31:41.034507Z",
     "shell.execute_reply": "2023-11-03T11:31:41.033903Z"
    }
   },
   "outputs": [
    {
     "data": {
      "text/plain": [
       "unyt_quantity(5.02853716, 'Å')"
      ]
     },
     "execution_count": 19,
     "metadata": {},
     "output_type": "execute_result"
    }
   ],
   "source": [
    "sed.measure_index((1500,1600)*Angstrom, (1400,1500)*Angstrom, (1600,1700)*Angstrom)"
   ]
  },
  {
   "attachments": {},
   "cell_type": "markdown",
   "id": "eb48725a",
   "metadata": {},
   "source": [
    "We can also measure the UV spectral slope $\\beta$:"
   ]
  },
  {
   "cell_type": "code",
   "execution_count": 20,
   "id": "1734a1ed",
   "metadata": {
    "execution": {
     "iopub.execute_input": "2023-11-03T11:31:41.037537Z",
     "iopub.status.busy": "2023-11-03T11:31:41.037083Z",
     "iopub.status.idle": "2023-11-03T11:31:41.045393Z",
     "shell.execute_reply": "2023-11-03T11:31:41.044750Z"
    }
   },
   "outputs": [
    {
     "data": {
      "text/plain": [
       "-2.9429328476042964"
      ]
     },
     "execution_count": 20,
     "metadata": {},
     "output_type": "execute_result"
    }
   ],
   "source": [
    "sed.measure_beta()"
   ]
  },
  {
   "attachments": {},
   "cell_type": "markdown",
   "id": "099b456e",
   "metadata": {},
   "source": [
    "By default this uses a single window and fits the spectrum by a power-law. However, we can also specify two windows as below, in which case the luminosity in each window is calcualted and used to infer a slope:"
   ]
  },
  {
   "cell_type": "code",
   "execution_count": 21,
   "id": "21456b92",
   "metadata": {
    "execution": {
     "iopub.execute_input": "2023-11-03T11:31:41.048595Z",
     "iopub.status.busy": "2023-11-03T11:31:41.048366Z",
     "iopub.status.idle": "2023-11-03T11:31:41.057827Z",
     "shell.execute_reply": "2023-11-03T11:31:41.057243Z"
    }
   },
   "outputs": [
    {
     "data": {
      "text/plain": [
       "-2.9495217842739283"
      ]
     },
     "execution_count": 21,
     "metadata": {},
     "output_type": "execute_result"
    }
   ],
   "source": [
    "sed.measure_beta(window=(1250,1750,2250,2750))"
   ]
  },
  {
   "attachments": {},
   "cell_type": "markdown",
   "id": "69f1be0c",
   "metadata": {},
   "source": [
    "## Observed frame SED\n",
    "\n",
    "To do this we need to provide a cosmology, using an `astropy.cosmology` object, a redshift $z$, and optionally an IGM absorption model."
   ]
  },
  {
   "cell_type": "code",
   "execution_count": 22,
   "id": "45dea364",
   "metadata": {
    "execution": {
     "iopub.execute_input": "2023-11-03T11:31:41.060883Z",
     "iopub.status.busy": "2023-11-03T11:31:41.060447Z",
     "iopub.status.idle": "2023-11-03T11:31:42.705306Z",
     "shell.execute_reply": "2023-11-03T11:31:42.704567Z"
    }
   },
   "outputs": [
    {
     "data": {
      "text/plain": [
       "unyt_array([0., 0., 0., ..., 0., 0., 0.], 'nJy')"
      ]
     },
     "execution_count": 22,
     "metadata": {},
     "output_type": "execute_result"
    }
   ],
   "source": [
    "from astropy.cosmology import Planck18 as cosmo\n",
    "z = 10.  # redshift\n",
    "sed.get_fnu(cosmo, z, igm=Madau96)  # generate observed frame spectra"
   ]
  },
  {
   "attachments": {},
   "cell_type": "markdown",
   "id": "b8b6b6fc",
   "metadata": {},
   "source": [
    "## Broadband fluxes\n",
    "\n",
    "Once we have computed the observed frame SED there is a method on an `Sed` object that allows us to calculate broadband fluxes. However, first we need to instantiate a `FilterCollection` object."
   ]
  },
  {
   "cell_type": "code",
   "execution_count": 23,
   "id": "e81e62ce",
   "metadata": {
    "execution": {
     "iopub.execute_input": "2023-11-03T11:31:42.708464Z",
     "iopub.status.busy": "2023-11-03T11:31:42.708226Z",
     "iopub.status.idle": "2023-11-03T11:31:45.139590Z",
     "shell.execute_reply": "2023-11-03T11:31:45.137809Z"
    }
   },
   "outputs": [],
   "source": [
    "filter_codes = [f'JWST/NIRCam.{f}' for f in ['F070W','F090W', 'F115W', 'F150W',\n",
    "                                             'F200W', 'F277W', 'F356W', 'F444W']]  # define a list of filter codes\n",
    "fc = FilterCollection(filter_codes, new_lam=grid.lam)"
   ]
  },
  {
   "cell_type": "code",
   "execution_count": 24,
   "id": "0405a1ad",
   "metadata": {
    "execution": {
     "iopub.execute_input": "2023-11-03T11:31:45.143592Z",
     "iopub.status.busy": "2023-11-03T11:31:45.143107Z",
     "iopub.status.idle": "2023-11-03T11:31:45.162577Z",
     "shell.execute_reply": "2023-11-03T11:31:45.161646Z"
    }
   },
   "outputs": [
    {
     "name": "stdout",
     "output_type": "stream",
     "text": [
      "JWST/NIRCam.F070W: -0.00 nJy\n",
      "JWST/NIRCam.F090W: 0.00 nJy\n",
      "JWST/NIRCam.F115W: 0.01 nJy\n",
      "JWST/NIRCam.F150W: 128.65 nJy\n",
      "JWST/NIRCam.F200W: 109.68 nJy\n",
      "JWST/NIRCam.F277W: 77.60 nJy\n",
      "JWST/NIRCam.F356W: 53.82 nJy\n",
      "JWST/NIRCam.F444W: 43.03 nJy\n"
     ]
    }
   ],
   "source": [
    "# measure broadband fluxes\n",
    "fluxes = sed.get_broadband_fluxes(fc)\n",
    "\n",
    "# print broadband fluxes\n",
    "for filter, flux in fluxes.items():\n",
    "    print(f'{filter}: {flux:.2f}')"
   ]
  },
  {
   "attachments": {},
   "cell_type": "markdown",
   "id": "38f72dcd",
   "metadata": {},
   "source": [
    "## Multiple SEDs"
   ]
  },
  {
   "attachments": {},
   "cell_type": "markdown",
   "id": "04676ea4",
   "metadata": {},
   "source": [
    "The `Sed` object can actually hold an array of seds and the methods should all work fine."
   ]
  },
  {
   "attachments": {},
   "cell_type": "markdown",
   "id": "d23f5a95",
   "metadata": {},
   "source": [
    "Let's create an `Sed` object with two seds:"
   ]
  },
  {
   "cell_type": "code",
   "execution_count": 25,
   "id": "6089f86d",
   "metadata": {
    "execution": {
     "iopub.execute_input": "2023-11-03T11:31:45.166835Z",
     "iopub.status.busy": "2023-11-03T11:31:45.165553Z",
     "iopub.status.idle": "2023-11-03T11:31:45.173044Z",
     "shell.execute_reply": "2023-11-03T11:31:45.172445Z"
    }
   },
   "outputs": [],
   "source": [
    "sed2 = Sed(sed.lam, np.array([sed.lnu, sed.lnu * 2]))"
   ]
  },
  {
   "cell_type": "code",
   "execution_count": 26,
   "id": "d842fe4d",
   "metadata": {
    "execution": {
     "iopub.execute_input": "2023-11-03T11:31:45.176757Z",
     "iopub.status.busy": "2023-11-03T11:31:45.175497Z",
     "iopub.status.idle": "2023-11-03T11:31:45.186544Z",
     "shell.execute_reply": "2023-11-03T11:31:45.185930Z"
    }
   },
   "outputs": [
    {
     "data": {
      "text/plain": [
       "unyt_array([1.51898495e+29, 3.03796989e+29], 'erg/(Hz*s)')"
      ]
     },
     "execution_count": 26,
     "metadata": {},
     "output_type": "execute_result"
    }
   ],
   "source": [
    "sed2.measure_window_lnu((1400,1600)*Angstrom)"
   ]
  },
  {
   "cell_type": "code",
   "execution_count": 27,
   "id": "97808856",
   "metadata": {
    "execution": {
     "iopub.execute_input": "2023-11-03T11:31:45.190535Z",
     "iopub.status.busy": "2023-11-03T11:31:45.189314Z",
     "iopub.status.idle": "2023-11-03T11:31:45.197429Z",
     "shell.execute_reply": "2023-11-03T11:31:45.196843Z"
    }
   },
   "outputs": [
    {
     "data": {
      "text/plain": [
       "unyt_array([1.51898773e+29, 3.03797547e+29], 'erg/(Hz*s)')"
      ]
     },
     "execution_count": 27,
     "metadata": {},
     "output_type": "execute_result"
    }
   ],
   "source": [
    "sed2.measure_window_lnu((1400,1600)*Angstrom, method='average')"
   ]
  },
  {
   "cell_type": "code",
   "execution_count": 28,
   "id": "addd3b8f",
   "metadata": {
    "execution": {
     "iopub.execute_input": "2023-11-03T11:31:45.200528Z",
     "iopub.status.busy": "2023-11-03T11:31:45.199977Z",
     "iopub.status.idle": "2023-11-03T11:31:45.208412Z",
     "shell.execute_reply": "2023-11-03T11:31:45.207449Z"
    }
   },
   "outputs": [
    {
     "data": {
      "text/plain": [
       "array([-2.94293285, -2.94293285])"
      ]
     },
     "execution_count": 28,
     "metadata": {},
     "output_type": "execute_result"
    }
   ],
   "source": [
    "sed2.measure_beta()"
   ]
  },
  {
   "cell_type": "code",
   "execution_count": 29,
   "id": "c4e3645c",
   "metadata": {
    "execution": {
     "iopub.execute_input": "2023-11-03T11:31:45.211106Z",
     "iopub.status.busy": "2023-11-03T11:31:45.210876Z",
     "iopub.status.idle": "2023-11-03T11:31:45.223832Z",
     "shell.execute_reply": "2023-11-03T11:31:45.222291Z"
    }
   },
   "outputs": [
    {
     "data": {
      "text/plain": [
       "array([-2.94952178, -2.94952178])"
      ]
     },
     "execution_count": 29,
     "metadata": {},
     "output_type": "execute_result"
    }
   ],
   "source": [
    "sed2.measure_beta(window=(1250,1750,2250,2750))"
   ]
  },
  {
   "cell_type": "code",
   "execution_count": 30,
   "id": "f5f8deed",
   "metadata": {
    "execution": {
     "iopub.execute_input": "2023-11-03T11:31:45.226830Z",
     "iopub.status.busy": "2023-11-03T11:31:45.226299Z",
     "iopub.status.idle": "2023-11-03T11:31:45.238870Z",
     "shell.execute_reply": "2023-11-03T11:31:45.237876Z"
    }
   },
   "outputs": [
    {
     "data": {
      "text/plain": [
       "unyt_array([0.85692253, 0.85692253], '(dimensionless)')"
      ]
     },
     "execution_count": 30,
     "metadata": {},
     "output_type": "execute_result"
    }
   ],
   "source": [
    "sed2.measure_balmer_break()"
   ]
  },
  {
   "cell_type": "code",
   "execution_count": 31,
   "id": "2994d5fe",
   "metadata": {
    "execution": {
     "iopub.execute_input": "2023-11-03T11:31:45.241879Z",
     "iopub.status.busy": "2023-11-03T11:31:45.241340Z",
     "iopub.status.idle": "2023-11-03T11:31:45.255416Z",
     "shell.execute_reply": "2023-11-03T11:31:45.254769Z"
    }
   },
   "outputs": [
    {
     "data": {
      "text/plain": [
       "unyt_array([5.02853716, 5.02853716], 'Å')"
      ]
     },
     "execution_count": 31,
     "metadata": {},
     "output_type": "execute_result"
    }
   ],
   "source": [
    "sed2.measure_index((1500,1600)*Angstrom, (1400,1500)*Angstrom, (1600,1700)*Angstrom)"
   ]
  },
  {
   "cell_type": "markdown",
   "id": "019f00b9",
   "metadata": {},
   "source": [
    "### Combining SEDs\n",
    "\n",
    "`Sed`s can be combined either via concatenation to produce a single `Sed` holding multiple spectra from the combined `Sed`s, or by addition to add the spectra contained in two `Sed`s. \n",
    "\n",
    "To concatenate spectra we can use `Sed.concat()`."
   ]
  },
  {
   "cell_type": "code",
   "execution_count": 32,
   "id": "2ee13235",
   "metadata": {
    "execution": {
     "iopub.execute_input": "2023-11-03T11:31:45.258473Z",
     "iopub.status.busy": "2023-11-03T11:31:45.257908Z",
     "iopub.status.idle": "2023-11-03T11:31:45.266040Z",
     "shell.execute_reply": "2023-11-03T11:31:45.265438Z"
    }
   },
   "outputs": [
    {
     "name": "stdout",
     "output_type": "stream",
     "text": [
      "Shapes before: (82248,) (2, 82248)\n",
      "Combined shape: (3, 82248)\n"
     ]
    }
   ],
   "source": [
    "print(\"Shapes before:\", sed._lnu.shape, sed2._lnu.shape)\n",
    "sed3 = sed2.concat(sed)\n",
    "print(\"Combined shape:\", sed3._lnu.shape)"
   ]
  },
  {
   "cell_type": "markdown",
   "id": "0507f8a2",
   "metadata": {},
   "source": [
    "`Sed.concat` can take an arbitrary number of `Sed` objects to combine."
   ]
  },
  {
   "cell_type": "code",
   "execution_count": 33,
   "id": "85d154d0",
   "metadata": {
    "execution": {
     "iopub.execute_input": "2023-11-03T11:31:45.269203Z",
     "iopub.status.busy": "2023-11-03T11:31:45.268681Z",
     "iopub.status.idle": "2023-11-03T11:31:45.279632Z",
     "shell.execute_reply": "2023-11-03T11:31:45.278652Z"
    }
   },
   "outputs": [
    {
     "name": "stdout",
     "output_type": "stream",
     "text": [
      "Combined shape: (8, 82248)\n"
     ]
    }
   ],
   "source": [
    "sed4 = sed2.concat(sed, sed2, sed3)\n",
    "print(\"Combined shape:\", sed4._lnu.shape)"
   ]
  },
  {
   "cell_type": "markdown",
   "id": "06d78866",
   "metadata": {},
   "source": [
    "If we want to add the spectra of 2 `Sed` objects we simply apply the `+` operator. However, unlike `concat`, this will only work for `Sed`s with identical shapes."
   ]
  },
  {
   "cell_type": "code",
   "execution_count": 34,
   "id": "aa37ed65",
   "metadata": {
    "execution": {
     "iopub.execute_input": "2023-11-03T11:31:45.282873Z",
     "iopub.status.busy": "2023-11-03T11:31:45.282451Z",
     "iopub.status.idle": "2023-11-03T11:31:45.535038Z",
     "shell.execute_reply": "2023-11-03T11:31:45.534390Z"
    }
   },
   "outputs": [
    {
     "name": "stderr",
     "output_type": "stream",
     "text": [
      "/opt/hostedtoolcache/Python/3.10.13/x64/lib/python3.10/site-packages/unyt/array.py:1813: RuntimeWarning: divide by zero encountered in log10\n",
      "  out_arr = func(np.asarray(inp), out=out_func, **kwargs)\n"
     ]
    },
    {
     "data": {
      "image/png": "[encoded data removed]",
      "text/plain": [
       "<Figure size 640x480 with 1 Axes>"
      ]
     },
     "metadata": {},
     "output_type": "display_data"
    }
   ],
   "source": [
    "sed5 = sed + sed\n",
    "plt.plot(np.log10(sed.lam), np.log10(sed.lnu), label=\"sed\")\n",
    "plt.plot(np.log10(sed5.lam), np.log10(sed5.lnu), label=\"sed5\")\n",
    "plt.ylim(26, 30)\n",
    "plt.xlim(2, 5)\n",
    "plt.xlabel(r\"$\\rm log_{10}(\\lambda/\\AA)$\")\n",
    "plt.ylabel(r\"$\\rm log_{10}(L_{\\nu}/erg\\ s^{-1}\\ Hz^{-1} M_{\\odot}^{-1})$\")\n",
    "plt.legend()\n",
    "plt.show()\n",
    "plt.close()"
   ]
  },
  {
   "attachments": {},
   "cell_type": "markdown",
   "id": "55d3b546",
   "metadata": {},
   "source": [
    "## Resampling SEDs\n",
    "\n",
    "The `Sed` includes a method to resample an sed, e.g. to lower-resolution or to match observations."
   ]
  },
  {
   "cell_type": "code",
   "execution_count": 35,
   "id": "b2c47c14",
   "metadata": {
    "execution": {
     "iopub.execute_input": "2023-11-03T11:31:45.538487Z",
     "iopub.status.busy": "2023-11-03T11:31:45.538015Z",
     "iopub.status.idle": "2023-11-03T11:31:45.781021Z",
     "shell.execute_reply": "2023-11-03T11:31:45.780375Z"
    }
   },
   "outputs": [
    {
     "data": {
      "image/png": "[encoded data removed]",
      "text/plain": [
       "<Figure size 640x480 with 1 Axes>"
      ]
     },
     "metadata": {},
     "output_type": "display_data"
    }
   ],
   "source": [
    "sed6 = sed.get_resampled_sed(5)\n",
    "plt.plot(np.log10(sed.lam), np.log10(sed.lnu), label=\"Original\")\n",
    "plt.plot(np.log10(sed6.lam), np.log10(sed6.lnu), label=\"Resampled\")\n",
    "plt.xlim(2.2, 3.5)\n",
    "plt.ylim(27., 29.5)\n",
    "plt.xlabel(r\"$\\rm log_{10}(\\lambda/\\AA)$\")\n",
    "plt.ylabel(r\"$\\rm log_{10}(L_{\\nu}/erg\\ s^{-1}\\ Hz^{-1} M_{\\odot}^{-1})$\")\n",
    "plt.legend()\n",
    "plt.show()\n",
    "plt.close()"
   ]
  },
  {
   "cell_type": "code",
   "execution_count": 36,
   "id": "6928e926",
   "metadata": {
    "execution": {
     "iopub.execute_input": "2023-11-03T11:31:45.784439Z",
     "iopub.status.busy": "2023-11-03T11:31:45.783805Z",
     "iopub.status.idle": "2023-11-03T11:31:45.794097Z",
     "shell.execute_reply": "2023-11-03T11:31:45.793473Z"
    }
   },
   "outputs": [
    {
     "name": "stdout",
     "output_type": "stream",
     "text": [
      "[41405.76319261 20702.88159631 41405.76319261] dimensionless\n"
     ]
    }
   ],
   "source": [
    "print(sed.measure_bolometric_luminosity()/sed3.measure_bolometric_luminosity())"
   ]
  }
 ],
 "metadata": {
  "kernelspec": {
   "display_name": "synthesizer-env",
   "language": "python",
   "name": "python3"
  },
  "language_info": {
   "codemirror_mode": {
    "name": "ipython",
    "version": 3
   },
   "file_extension": ".py",
   "mimetype": "text/x-python",
   "name": "python",
   "nbconvert_exporter": "python",
   "pygments_lexer": "ipython3",
   "version": "3.10.13"
  }
 },
 "nbformat": 4,
 "nbformat_minor": 5
}
