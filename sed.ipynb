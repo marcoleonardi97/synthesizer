{
 "cells": [
  {
   "attachments": {},
   "cell_type": "markdown",
   "id": "00db497b-9cf9-4547-ae44-4d80f30eb8a1",
   "metadata": {},
   "source": [
    "# The Sed object\n",
    "\n",
    "This example demonstrates the various methods associated with the `Sed` class.\n",
    "\n",
    "`Sed` objects can be extracted directly from `Grid` objects or created by `Galaxy` objects. See tutorials on those objects for more information."
   ]
  },
  {
   "cell_type": "code",
   "execution_count": 1,
   "id": "7158257d-8bab-4c83-bac6-38aa83def3bf",
   "metadata": {
    "execution": {
     "iopub.execute_input": "2023-11-01T14:06:23.200256Z",
     "iopub.status.busy": "2023-11-01T14:06:23.199611Z",
     "iopub.status.idle": "2023-11-01T14:06:25.140755Z",
     "shell.execute_reply": "2023-11-01T14:06:25.140039Z"
    }
   },
   "outputs": [],
   "source": [
    "import numpy as np\n",
    "import matplotlib.pyplot as plt\n",
    "import matplotlib as mpl\n",
    "import matplotlib.pyplot as plt\n",
    "import matplotlib.cm as cm\n",
    "import cmasher as cmr\n",
    "import os\n",
    "from unyt import Angstrom, Hz, um\n",
    "from synthesizer.grid import Grid, get_available_lines\n",
    "from synthesizer.sed import Sed\n",
    "from synthesizer.filters import FilterCollection\n",
    "from synthesizer.igm import Madau96"
   ]
  },
  {
   "attachments": {},
   "cell_type": "markdown",
   "id": "3436e527",
   "metadata": {},
   "source": [
    "Let's begin by initialising a grid:"
   ]
  },
  {
   "cell_type": "code",
   "execution_count": 2,
   "id": "dc8b164f-3d98-456f-8e21-b0d72d7a7ff8",
   "metadata": {
    "execution": {
     "iopub.execute_input": "2023-11-01T14:06:25.144125Z",
     "iopub.status.busy": "2023-11-01T14:06:25.143689Z",
     "iopub.status.idle": "2023-11-01T14:06:25.563940Z",
     "shell.execute_reply": "2023-11-01T14:06:25.563296Z"
    }
   },
   "outputs": [],
   "source": [
    "\n",
    "grid_dir =  '../../tests/test_grid/'\n",
    "grid_name = 'test_grid'\n",
    "grid = Grid(grid_name, grid_dir=grid_dir)"
   ]
  },
  {
   "attachments": {},
   "cell_type": "markdown",
   "id": "dcb82045",
   "metadata": {},
   "source": [
    "Next, let's define a target log10age and metallicity and use the built-in `Grid` method to get the grid point and then extract the spectrum for that grid point."
   ]
  },
  {
   "cell_type": "code",
   "execution_count": 3,
   "id": "35ad7190",
   "metadata": {
    "execution": {
     "iopub.execute_input": "2023-11-01T14:06:25.567229Z",
     "iopub.status.busy": "2023-11-01T14:06:25.566724Z",
     "iopub.status.idle": "2023-11-01T14:06:25.576306Z",
     "shell.execute_reply": "2023-11-01T14:06:25.575669Z"
    }
   },
   "outputs": [],
   "source": [
    "log10age = 6. # log10(age/yr)\n",
    "metallicity = 0.01 \n",
    "spectra_id = 'incident'\n",
    "grid_point = grid.get_grid_point((log10age, metallicity))\n",
    "sed = grid.get_spectra(grid_point, spectra_id=spectra_id)\n",
    "sed.lnu *= 1E8 # make the SED bigger"
   ]
  },
  {
   "attachments": {},
   "cell_type": "markdown",
   "id": "c94c977f",
   "metadata": {},
   "source": [
    "Like other `synthesizer` objects, we get some basic information about the `Sed` object by using the `print` command:"
   ]
  },
  {
   "cell_type": "code",
   "execution_count": 4,
   "id": "2b4b4452",
   "metadata": {
    "execution": {
     "iopub.execute_input": "2023-11-01T14:06:25.579139Z",
     "iopub.status.busy": "2023-11-01T14:06:25.578939Z",
     "iopub.status.idle": "2023-11-01T14:06:25.585341Z",
     "shell.execute_reply": "2023-11-01T14:06:25.584739Z"
    }
   },
   "outputs": [
    {
     "name": "stdout",
     "output_type": "stream",
     "text": [
      "----------\n",
      "SUMMARY OF SED \n",
      "Number of wavelength points: 82248 \n",
      "Wavelength range: [0.00 Å,             299742000000.00 Å] \n",
      "log10(Peak luminosity/erg/(Hz*s)):             29.56 \n",
      "log10(Bolometric luminosity/erg/s):             44.85 \n",
      "----------\n"
     ]
    }
   ],
   "source": [
    "print(sed)"
   ]
  },
  {
   "attachments": {},
   "cell_type": "markdown",
   "id": "b21fb144",
   "metadata": {},
   "source": [
    "`Sed` objects contain a wavelength grid and luminosity in the `lam` and `lnu` attributes. Both come with units making them easy to convert:"
   ]
  },
  {
   "cell_type": "code",
   "execution_count": 5,
   "id": "e2616d77",
   "metadata": {
    "execution": {
     "iopub.execute_input": "2023-11-01T14:06:25.588288Z",
     "iopub.status.busy": "2023-11-01T14:06:25.587899Z",
     "iopub.status.idle": "2023-11-01T14:06:25.591957Z",
     "shell.execute_reply": "2023-11-01T14:06:25.591339Z"
    }
   },
   "outputs": [
    {
     "name": "stdout",
     "output_type": "stream",
     "text": [
      "[1.24543e-04 1.24917e-04 1.25293e-04 ... 2.99543e+11 2.99643e+11\n",
      " 2.99742e+11] Å\n",
      "[0. 0. 0. ... 0. 0. 0.] erg/(Hz*s)\n"
     ]
    }
   ],
   "source": [
    "print(sed.lam)\n",
    "print(sed.lnu)"
   ]
  },
  {
   "attachments": {},
   "cell_type": "markdown",
   "id": "363f3759",
   "metadata": {},
   "source": [
    "Thus we can easily make a plot:"
   ]
  },
  {
   "cell_type": "code",
   "execution_count": 6,
   "id": "8c7e91fb",
   "metadata": {
    "execution": {
     "iopub.execute_input": "2023-11-01T14:06:25.595934Z",
     "iopub.status.busy": "2023-11-01T14:06:25.595537Z",
     "iopub.status.idle": "2023-11-01T14:06:25.745523Z",
     "shell.execute_reply": "2023-11-01T14:06:25.744880Z"
    }
   },
   "outputs": [
    {
     "name": "stderr",
     "output_type": "stream",
     "text": [
      "/opt/hostedtoolcache/Python/3.10.13/x64/lib/python3.10/site-packages/unyt/array.py:1802: RuntimeWarning: divide by zero encountered in log10\n",
      "  out_arr = func(np.asarray(inp), out=out_func, **kwargs)\n"
     ]
    },
    {
     "data": {
      "text/plain": [
       "[<matplotlib.lines.Line2D at 0x7f7e4ac34d00>]"
      ]
     },
     "execution_count": 6,
     "metadata": {},
     "output_type": "execute_result"
    },
    {
     "data": {
      "image/png": "[encoded data removed]",
      "text/plain": [
       "<Figure size 640x480 with 1 Axes>"
      ]
     },
     "metadata": {},
     "output_type": "display_data"
    }
   ],
   "source": [
    "plt.plot(np.log10(sed.lam), np.log10(sed.lnu))"
   ]
  },
  {
   "attachments": {},
   "cell_type": "markdown",
   "id": "de31579b",
   "metadata": {},
   "source": [
    "### Methods"
   ]
  },
  {
   "attachments": {},
   "cell_type": "markdown",
   "id": "623b5609",
   "metadata": {},
   "source": [
    "#### get_bolometric_luminosity()\n",
    "\n",
    "This method allows us to calculate the bolometric luminosity of the sed. "
   ]
  },
  {
   "cell_type": "code",
   "execution_count": 7,
   "id": "c3f35ac3",
   "metadata": {
    "execution": {
     "iopub.execute_input": "2023-11-01T14:06:25.748952Z",
     "iopub.status.busy": "2023-11-01T14:06:25.748410Z",
     "iopub.status.idle": "2023-11-01T14:06:25.754084Z",
     "shell.execute_reply": "2023-11-01T14:06:25.753513Z"
    }
   },
   "outputs": [
    {
     "data": {
      "text/plain": [
       "unyt_quantity(7.01111209e+44, 'erg/s')"
      ]
     },
     "execution_count": 7,
     "metadata": {},
     "output_type": "execute_result"
    }
   ],
   "source": [
    "sed.measure_bolometric_luminosity()"
   ]
  },
  {
   "attachments": {},
   "cell_type": "markdown",
   "id": "1ad27966",
   "metadata": {},
   "source": [
    "By default the above simply sums up the spectrum. However, we can also integrate the spectrum instead:"
   ]
  },
  {
   "cell_type": "code",
   "execution_count": 8,
   "id": "f6d6be8d",
   "metadata": {
    "execution": {
     "iopub.execute_input": "2023-11-01T14:06:25.756865Z",
     "iopub.status.busy": "2023-11-01T14:06:25.756675Z",
     "iopub.status.idle": "2023-11-01T14:06:26.917858Z",
     "shell.execute_reply": "2023-11-01T14:06:26.917122Z"
    }
   },
   "outputs": [
    {
     "name": "stderr",
     "output_type": "stream",
     "text": [
      "/home/runner/work/synthesizer/synthesizer/synthesizer/sed.py:286: IntegrationWarning: The maximum number of subdivisions (50) has been achieved.\n",
      "  If increasing the limit yields no improvement it is advised to analyze \n",
      "  the integrand in order to determine the difficulties.  If the position of a \n",
      "  local difficulty can be determined (singularity, discontinuity) one will \n",
      "  probably gain from splitting up the interval and calling the integrator \n",
      "  on the subranges.  Perhaps a special-purpose integrator should be used.\n",
      "  bolometric_luminosity = integrate.quad(self._get_lnu_at_nu,\n"
     ]
    },
    {
     "data": {
      "text/plain": [
       "unyt_quantity(7.02444114e+44, 'erg/s')"
      ]
     },
     "execution_count": 8,
     "metadata": {},
     "output_type": "execute_result"
    }
   ],
   "source": [
    "sed.measure_bolometric_luminosity(method='quad')"
   ]
  },
  {
   "attachments": {},
   "cell_type": "markdown",
   "id": "c3e4ef3c",
   "metadata": {},
   "source": [
    "Under-the-hood the above uses a function to get the luminosity at a particular frequency or wavelength:"
   ]
  },
  {
   "cell_type": "code",
   "execution_count": 9,
   "id": "55afce8a",
   "metadata": {
    "execution": {
     "iopub.execute_input": "2023-11-01T14:06:26.920996Z",
     "iopub.status.busy": "2023-11-01T14:06:26.920784Z",
     "iopub.status.idle": "2023-11-01T14:06:26.926395Z",
     "shell.execute_reply": "2023-11-01T14:06:26.925817Z"
    }
   },
   "outputs": [
    {
     "data": {
      "text/plain": [
       "unyt_quantity(1.55802527e+29, 'erg/(Hz*s)')"
      ]
     },
     "execution_count": 9,
     "metadata": {},
     "output_type": "execute_result"
    }
   ],
   "source": [
    "sed.get_lnu_at_lam(1500 * Angstrom)"
   ]
  },
  {
   "cell_type": "code",
   "execution_count": 10,
   "id": "f6ba4b1d",
   "metadata": {
    "execution": {
     "iopub.execute_input": "2023-11-01T14:06:26.929032Z",
     "iopub.status.busy": "2023-11-01T14:06:26.928831Z",
     "iopub.status.idle": "2023-11-01T14:06:26.934182Z",
     "shell.execute_reply": "2023-11-01T14:06:26.933624Z"
    }
   },
   "outputs": [
    {
     "data": {
      "text/plain": [
       "unyt_quantity(1.30295797e+27, 'erg/(Hz*s)')"
      ]
     },
     "execution_count": 10,
     "metadata": {},
     "output_type": "execute_result"
    }
   ],
   "source": [
    "sed.get_lnu_at_nu(1E14 * Hz)"
   ]
  },
  {
   "cell_type": "code",
   "execution_count": 11,
   "id": "b009326a",
   "metadata": {
    "execution": {
     "iopub.execute_input": "2023-11-01T14:06:26.936880Z",
     "iopub.status.busy": "2023-11-01T14:06:26.936443Z",
     "iopub.status.idle": "2023-11-01T14:06:26.943745Z",
     "shell.execute_reply": "2023-11-01T14:06:26.943126Z"
    }
   },
   "outputs": [
    {
     "data": {
      "text/plain": [
       "unyt_quantity(4.06558265e+43, 'erg/s')"
      ]
     },
     "execution_count": 11,
     "metadata": {},
     "output_type": "execute_result"
    }
   ],
   "source": [
    "sed.measure_window_luminosity((1400.*Angstrom,1600.*Angstrom))"
   ]
  },
  {
   "cell_type": "code",
   "execution_count": 12,
   "id": "6716e968",
   "metadata": {
    "execution": {
     "iopub.execute_input": "2023-11-01T14:06:26.946120Z",
     "iopub.status.busy": "2023-11-01T14:06:26.945921Z",
     "iopub.status.idle": "2023-11-01T14:06:26.951515Z",
     "shell.execute_reply": "2023-11-01T14:06:26.950938Z"
    }
   },
   "outputs": [
    {
     "data": {
      "text/plain": [
       "unyt_quantity(4.06558265e+43, 'erg/s')"
      ]
     },
     "execution_count": 12,
     "metadata": {},
     "output_type": "execute_result"
    }
   ],
   "source": [
    "sed.measure_window_luminosity((0.14*um,0.16*um))"
   ]
  },
  {
   "cell_type": "code",
   "execution_count": 13,
   "id": "6f76d8e1",
   "metadata": {
    "execution": {
     "iopub.execute_input": "2023-11-01T14:06:26.953927Z",
     "iopub.status.busy": "2023-11-01T14:06:26.953732Z",
     "iopub.status.idle": "2023-11-01T14:06:26.961021Z",
     "shell.execute_reply": "2023-11-01T14:06:26.960416Z"
    }
   },
   "outputs": [
    {
     "data": {
      "text/plain": [
       "unyt_quantity(1.51898495e+29, 'erg/(Hz*s)')"
      ]
     },
     "execution_count": 13,
     "metadata": {},
     "output_type": "execute_result"
    }
   ],
   "source": [
    "sed.measure_window_lnu((1400.*Angstrom,1600.*Angstrom))"
   ]
  },
  {
   "cell_type": "code",
   "execution_count": 14,
   "id": "1c460d65",
   "metadata": {
    "execution": {
     "iopub.execute_input": "2023-11-01T14:06:26.963670Z",
     "iopub.status.busy": "2023-11-01T14:06:26.963228Z",
     "iopub.status.idle": "2023-11-01T14:06:26.968684Z",
     "shell.execute_reply": "2023-11-01T14:06:26.968122Z"
    }
   },
   "outputs": [
    {
     "data": {
      "text/plain": [
       "unyt_quantity(1.51898773e+29, 'erg/(Hz*s)')"
      ]
     },
     "execution_count": 14,
     "metadata": {},
     "output_type": "execute_result"
    }
   ],
   "source": [
    "sed.measure_window_lnu((1400.*Angstrom,1600.*Angstrom), method='average')"
   ]
  },
  {
   "cell_type": "code",
   "execution_count": 15,
   "id": "029d4f71",
   "metadata": {
    "execution": {
     "iopub.execute_input": "2023-11-01T14:06:26.971422Z",
     "iopub.status.busy": "2023-11-01T14:06:26.970868Z",
     "iopub.status.idle": "2023-11-01T14:06:28.162223Z",
     "shell.execute_reply": "2023-11-01T14:06:28.161494Z"
    }
   },
   "outputs": [
    {
     "name": "stderr",
     "output_type": "stream",
     "text": [
      "/home/runner/work/synthesizer/synthesizer/synthesizer/sed.py:389: IntegrationWarning: The maximum number of subdivisions (50) has been achieved.\n",
      "  If increasing the limit yields no improvement it is advised to analyze \n",
      "  the integrand in order to determine the difficulties.  If the position of a \n",
      "  local difficulty can be determined (singularity, discontinuity) one will \n",
      "  probably gain from splitting up the interval and calling the integrator \n",
      "  on the subranges.  Perhaps a special-purpose integrator should be used.\n",
      "  Lnu = integrate.quad(func, *lims)[0] / \\\n"
     ]
    },
    {
     "data": {
      "text/plain": [
       "unyt_quantity(1.51911292e+29, 'erg/(Hz*s)')"
      ]
     },
     "execution_count": 15,
     "metadata": {},
     "output_type": "execute_result"
    }
   ],
   "source": [
    "sed.measure_window_lnu((1400, 1600)*Angstrom, method='quad')"
   ]
  },
  {
   "attachments": {},
   "cell_type": "markdown",
   "id": "a3e8482a",
   "metadata": {},
   "source": [
    "We can also measure a spectral break by providing two windows, e.g."
   ]
  },
  {
   "cell_type": "code",
   "execution_count": 16,
   "id": "1abf4968",
   "metadata": {
    "execution": {
     "iopub.execute_input": "2023-11-01T14:06:28.165560Z",
     "iopub.status.busy": "2023-11-01T14:06:28.164823Z",
     "iopub.status.idle": "2023-11-01T14:06:28.176384Z",
     "shell.execute_reply": "2023-11-01T14:06:28.175796Z"
    }
   },
   "outputs": [
    {
     "data": {
      "text/plain": [
       "unyt_quantity(0.85692253, '(dimensionless)')"
      ]
     },
     "execution_count": 16,
     "metadata": {},
     "output_type": "execute_result"
    }
   ],
   "source": [
    "sed.measure_break((3400, 3600) * Angstrom, (4150, 4250) * Angstrom)"
   ]
  },
  {
   "attachments": {},
   "cell_type": "markdown",
   "id": "d0accf42",
   "metadata": {},
   "source": [
    "There are also a few in-built break methods, e.g. `measure_Balmer_break()`"
   ]
  },
  {
   "cell_type": "code",
   "execution_count": 17,
   "id": "2df698f8",
   "metadata": {
    "execution": {
     "iopub.execute_input": "2023-11-01T14:06:28.179117Z",
     "iopub.status.busy": "2023-11-01T14:06:28.178764Z",
     "iopub.status.idle": "2023-11-01T14:06:28.185750Z",
     "shell.execute_reply": "2023-11-01T14:06:28.185145Z"
    }
   },
   "outputs": [
    {
     "data": {
      "text/plain": [
       "unyt_quantity(0.85692253, '(dimensionless)')"
      ]
     },
     "execution_count": 17,
     "metadata": {},
     "output_type": "execute_result"
    }
   ],
   "source": [
    "sed.measure_balmer_break()"
   ]
  },
  {
   "cell_type": "code",
   "execution_count": 18,
   "id": "38913adc",
   "metadata": {
    "execution": {
     "iopub.execute_input": "2023-11-01T14:06:28.188366Z",
     "iopub.status.busy": "2023-11-01T14:06:28.188015Z",
     "iopub.status.idle": "2023-11-01T14:06:28.194892Z",
     "shell.execute_reply": "2023-11-01T14:06:28.194299Z"
    }
   },
   "outputs": [
    {
     "data": {
      "text/plain": [
       "unyt_quantity(0.90162194, '(dimensionless)')"
      ]
     },
     "execution_count": 18,
     "metadata": {},
     "output_type": "execute_result"
    }
   ],
   "source": [
    "sed.measure_d4000()"
   ]
  },
  {
   "attachments": {},
   "cell_type": "markdown",
   "id": "45c97d43",
   "metadata": {},
   "source": [
    "We can also measure absorption line indices:"
   ]
  },
  {
   "cell_type": "code",
   "execution_count": 19,
   "id": "8a50ffc3",
   "metadata": {
    "execution": {
     "iopub.execute_input": "2023-11-01T14:06:28.197541Z",
     "iopub.status.busy": "2023-11-01T14:06:28.197067Z",
     "iopub.status.idle": "2023-11-01T14:06:28.205413Z",
     "shell.execute_reply": "2023-11-01T14:06:28.204793Z"
    }
   },
   "outputs": [
    {
     "data": {
      "text/plain": [
       "unyt_quantity(5.02853716, 'Å')"
      ]
     },
     "execution_count": 19,
     "metadata": {},
     "output_type": "execute_result"
    }
   ],
   "source": [
    "sed.measure_index((1500,1600)*Angstrom, (1400,1500)*Angstrom, (1600,1700)*Angstrom)"
   ]
  },
  {
   "attachments": {},
   "cell_type": "markdown",
   "id": "eb48725a",
   "metadata": {},
   "source": [
    "We can also measure the UV spectral slope $\\beta$:"
   ]
  },
  {
   "cell_type": "code",
   "execution_count": 20,
   "id": "1734a1ed",
   "metadata": {
    "execution": {
     "iopub.execute_input": "2023-11-01T14:06:28.207870Z",
     "iopub.status.busy": "2023-11-01T14:06:28.207510Z",
     "iopub.status.idle": "2023-11-01T14:06:28.212322Z",
     "shell.execute_reply": "2023-11-01T14:06:28.211796Z"
    }
   },
   "outputs": [
    {
     "data": {
      "text/plain": [
       "-2.9429328476042964"
      ]
     },
     "execution_count": 20,
     "metadata": {},
     "output_type": "execute_result"
    }
   ],
   "source": [
    "sed.measure_beta()"
   ]
  },
  {
   "attachments": {},
   "cell_type": "markdown",
   "id": "099b456e",
   "metadata": {},
   "source": [
    "By default this uses a single window and fits the spectrum by a power-law. However, we can also specify two windows as below, in which case the luminosity in each window is calcualted and used to infer a slope:"
   ]
  },
  {
   "cell_type": "code",
   "execution_count": 21,
   "id": "21456b92",
   "metadata": {
    "execution": {
     "iopub.execute_input": "2023-11-01T14:06:28.214814Z",
     "iopub.status.busy": "2023-11-01T14:06:28.214457Z",
     "iopub.status.idle": "2023-11-01T14:06:28.222010Z",
     "shell.execute_reply": "2023-11-01T14:06:28.221392Z"
    }
   },
   "outputs": [
    {
     "data": {
      "text/plain": [
       "-2.9495217842739283"
      ]
     },
     "execution_count": 21,
     "metadata": {},
     "output_type": "execute_result"
    }
   ],
   "source": [
    "sed.measure_beta(window=(1250,1750,2250,2750))"
   ]
  },
  {
   "attachments": {},
   "cell_type": "markdown",
   "id": "69f1be0c",
   "metadata": {},
   "source": [
    "## Observed frame SED\n",
    "\n",
    "To do this we need to provide a cosmology, using an `astropy.cosmology` object, a redshift $z$, and optionally an IGM absorption model."
   ]
  },
  {
   "cell_type": "code",
   "execution_count": 22,
   "id": "45dea364",
   "metadata": {
    "execution": {
     "iopub.execute_input": "2023-11-01T14:06:28.224488Z",
     "iopub.status.busy": "2023-11-01T14:06:28.224115Z",
     "iopub.status.idle": "2023-11-01T14:06:29.889866Z",
     "shell.execute_reply": "2023-11-01T14:06:29.889144Z"
    }
   },
   "outputs": [
    {
     "data": {
      "text/plain": [
       "unyt_array([0., 0., 0., ..., 0., 0., 0.], 'nJy')"
      ]
     },
     "execution_count": 22,
     "metadata": {},
     "output_type": "execute_result"
    }
   ],
   "source": [
    "from astropy.cosmology import Planck18 as cosmo\n",
    "z = 10.  # redshift\n",
    "sed.get_fnu(cosmo, z, igm=Madau96)  # generate observed frame spectra"
   ]
  },
  {
   "attachments": {},
   "cell_type": "markdown",
   "id": "b8b6b6fc",
   "metadata": {},
   "source": [
    "## Broadband fluxes\n",
    "\n",
    "Once we have computed the observed frame SED there is a method on an `Sed` object that allows us to calculate broadband fluxes. However, first we need to instantiate a `FilterCollection` object."
   ]
  },
  {
   "cell_type": "code",
   "execution_count": 23,
   "id": "e81e62ce",
   "metadata": {
    "execution": {
     "iopub.execute_input": "2023-11-01T14:06:29.892954Z",
     "iopub.status.busy": "2023-11-01T14:06:29.892521Z",
     "iopub.status.idle": "2023-11-01T14:06:31.717236Z",
     "shell.execute_reply": "2023-11-01T14:06:31.716492Z"
    }
   },
   "outputs": [],
   "source": [
    "filter_codes = [f'JWST/NIRCam.{f}' for f in ['F070W','F090W', 'F115W', 'F150W',\n",
    "                                             'F200W', 'F277W', 'F356W', 'F444W']]  # define a list of filter codes\n",
    "fc = FilterCollection(filter_codes, new_lam=grid.lam)"
   ]
  },
  {
   "cell_type": "code",
   "execution_count": 24,
   "id": "0405a1ad",
   "metadata": {
    "execution": {
     "iopub.execute_input": "2023-11-01T14:06:31.720977Z",
     "iopub.status.busy": "2023-11-01T14:06:31.720381Z",
     "iopub.status.idle": "2023-11-01T14:06:31.735860Z",
     "shell.execute_reply": "2023-11-01T14:06:31.735283Z"
    }
   },
   "outputs": [
    {
     "name": "stdout",
     "output_type": "stream",
     "text": [
      "JWST/NIRCam.F070W: -0.00 nJy\n",
      "JWST/NIRCam.F090W: 0.00 nJy\n",
      "JWST/NIRCam.F115W: 0.01 nJy\n",
      "JWST/NIRCam.F150W: 128.65 nJy\n",
      "JWST/NIRCam.F200W: 109.68 nJy\n",
      "JWST/NIRCam.F277W: 77.60 nJy\n",
      "JWST/NIRCam.F356W: 53.82 nJy\n",
      "JWST/NIRCam.F444W: 43.03 nJy\n"
     ]
    }
   ],
   "source": [
    "# measure broadband fluxes\n",
    "fluxes = sed.get_broadband_fluxes(fc)\n",
    "\n",
    "# print broadband fluxes\n",
    "for filter, flux in fluxes.items():\n",
    "    print(f'{filter}: {flux:.2f}')"
   ]
  },
  {
   "attachments": {},
   "cell_type": "markdown",
   "id": "38f72dcd",
   "metadata": {},
   "source": [
    "## Multiple SEDs"
   ]
  },
  {
   "attachments": {},
   "cell_type": "markdown",
   "id": "04676ea4",
   "metadata": {},
   "source": [
    "The `Sed` object can actually hold an array of seds and the methods should all work fine."
   ]
  },
  {
   "attachments": {},
   "cell_type": "markdown",
   "id": "d23f5a95",
   "metadata": {},
   "source": [
    "Let's create an `Sed` object with two seds:"
   ]
  },
  {
   "cell_type": "code",
   "execution_count": 25,
   "id": "6089f86d",
   "metadata": {
    "execution": {
     "iopub.execute_input": "2023-11-01T14:06:31.738807Z",
     "iopub.status.busy": "2023-11-01T14:06:31.738265Z",
     "iopub.status.idle": "2023-11-01T14:06:31.743555Z",
     "shell.execute_reply": "2023-11-01T14:06:31.742916Z"
    }
   },
   "outputs": [],
   "source": [
    "sed2 = Sed(sed.lam, np.array([sed.lnu, sed.lnu * 2]))"
   ]
  },
  {
   "cell_type": "code",
   "execution_count": 26,
   "id": "d842fe4d",
   "metadata": {
    "execution": {
     "iopub.execute_input": "2023-11-01T14:06:31.746281Z",
     "iopub.status.busy": "2023-11-01T14:06:31.745818Z",
     "iopub.status.idle": "2023-11-01T14:06:31.753615Z",
     "shell.execute_reply": "2023-11-01T14:06:31.753095Z"
    }
   },
   "outputs": [
    {
     "data": {
      "text/plain": [
       "unyt_array([1.51898495e+29, 3.03796989e+29], 'erg/(Hz*s)')"
      ]
     },
     "execution_count": 26,
     "metadata": {},
     "output_type": "execute_result"
    }
   ],
   "source": [
    "sed2.measure_window_lnu((1400,1600)*Angstrom)"
   ]
  },
  {
   "cell_type": "code",
   "execution_count": 27,
   "id": "97808856",
   "metadata": {
    "execution": {
     "iopub.execute_input": "2023-11-01T14:06:31.755823Z",
     "iopub.status.busy": "2023-11-01T14:06:31.755630Z",
     "iopub.status.idle": "2023-11-01T14:06:31.760856Z",
     "shell.execute_reply": "2023-11-01T14:06:31.760229Z"
    }
   },
   "outputs": [
    {
     "data": {
      "text/plain": [
       "unyt_array([1.51898773e+29, 3.03797547e+29], 'erg/(Hz*s)')"
      ]
     },
     "execution_count": 27,
     "metadata": {},
     "output_type": "execute_result"
    }
   ],
   "source": [
    "sed2.measure_window_lnu((1400,1600)*Angstrom, method='average')"
   ]
  },
  {
   "cell_type": "code",
   "execution_count": 28,
   "id": "addd3b8f",
   "metadata": {
    "execution": {
     "iopub.execute_input": "2023-11-01T14:06:31.763369Z",
     "iopub.status.busy": "2023-11-01T14:06:31.763024Z",
     "iopub.status.idle": "2023-11-01T14:06:31.768608Z",
     "shell.execute_reply": "2023-11-01T14:06:31.767992Z"
    }
   },
   "outputs": [
    {
     "data": {
      "text/plain": [
       "array([-2.94293285, -2.94293285])"
      ]
     },
     "execution_count": 28,
     "metadata": {},
     "output_type": "execute_result"
    }
   ],
   "source": [
    "sed2.measure_beta()"
   ]
  },
  {
   "cell_type": "code",
   "execution_count": 29,
   "id": "c4e3645c",
   "metadata": {
    "execution": {
     "iopub.execute_input": "2023-11-01T14:06:31.771089Z",
     "iopub.status.busy": "2023-11-01T14:06:31.770650Z",
     "iopub.status.idle": "2023-11-01T14:06:31.779932Z",
     "shell.execute_reply": "2023-11-01T14:06:31.779287Z"
    }
   },
   "outputs": [
    {
     "data": {
      "text/plain": [
       "array([-2.94952178, -2.94952178])"
      ]
     },
     "execution_count": 29,
     "metadata": {},
     "output_type": "execute_result"
    }
   ],
   "source": [
    "sed2.measure_beta(window=(1250,1750,2250,2750))"
   ]
  },
  {
   "cell_type": "code",
   "execution_count": 30,
   "id": "f5f8deed",
   "metadata": {
    "execution": {
     "iopub.execute_input": "2023-11-01T14:06:31.782407Z",
     "iopub.status.busy": "2023-11-01T14:06:31.781966Z",
     "iopub.status.idle": "2023-11-01T14:06:31.790748Z",
     "shell.execute_reply": "2023-11-01T14:06:31.790109Z"
    }
   },
   "outputs": [
    {
     "data": {
      "text/plain": [
       "unyt_array([0.85692253, 0.85692253], '(dimensionless)')"
      ]
     },
     "execution_count": 30,
     "metadata": {},
     "output_type": "execute_result"
    }
   ],
   "source": [
    "sed2.measure_balmer_break()"
   ]
  },
  {
   "cell_type": "code",
   "execution_count": 31,
   "id": "2994d5fe",
   "metadata": {
    "execution": {
     "iopub.execute_input": "2023-11-01T14:06:31.793310Z",
     "iopub.status.busy": "2023-11-01T14:06:31.792932Z",
     "iopub.status.idle": "2023-11-01T14:06:31.803232Z",
     "shell.execute_reply": "2023-11-01T14:06:31.802701Z"
    }
   },
   "outputs": [
    {
     "data": {
      "text/plain": [
       "unyt_array([5.02853716, 5.02853716], 'Å')"
      ]
     },
     "execution_count": 31,
     "metadata": {},
     "output_type": "execute_result"
    }
   ],
   "source": [
    "sed2.measure_index((1500,1600)*Angstrom, (1400,1500)*Angstrom, (1600,1700)*Angstrom)"
   ]
  },
  {
   "attachments": {},
   "cell_type": "markdown",
   "id": "55d3b546",
   "metadata": {},
   "source": [
    "## Resampling SEDs\n",
    "\n",
    "The `Sed` includes a method to resample an sed, e.g. to lower-resolution or to match observations."
   ]
  },
  {
   "cell_type": "code",
   "execution_count": 32,
   "id": "b2c47c14",
   "metadata": {
    "execution": {
     "iopub.execute_input": "2023-11-01T14:06:31.805701Z",
     "iopub.status.busy": "2023-11-01T14:06:31.805331Z",
     "iopub.status.idle": "2023-11-01T14:06:31.959823Z",
     "shell.execute_reply": "2023-11-01T14:06:31.959178Z"
    }
   },
   "outputs": [
    {
     "name": "stderr",
     "output_type": "stream",
     "text": [
      "/opt/hostedtoolcache/Python/3.10.13/x64/lib/python3.10/site-packages/unyt/array.py:1802: RuntimeWarning: divide by zero encountered in log10\n",
      "  out_arr = func(np.asarray(inp), out=out_func, **kwargs)\n"
     ]
    },
    {
     "data": {
      "text/plain": [
       "(27.0, 29.5)"
      ]
     },
     "execution_count": 32,
     "metadata": {},
     "output_type": "execute_result"
    },
    {
     "data": {
      "image/png": "[encoded data removed]",
      "text/plain": [
       "<Figure size 640x480 with 1 Axes>"
      ]
     },
     "metadata": {},
     "output_type": "display_data"
    }
   ],
   "source": [
    "sed3 = sed.get_resampled_sed(5)\n",
    "plt.plot(np.log10(sed.lam), np.log10(sed.lnu))\n",
    "plt.plot(np.log10(sed3.lam), np.log10(sed3.lnu))\n",
    "plt.xlim(2.2, 3.5)\n",
    "plt.ylim(27., 29.5)"
   ]
  },
  {
   "cell_type": "code",
   "execution_count": 33,
   "id": "6928e926",
   "metadata": {
    "execution": {
     "iopub.execute_input": "2023-11-01T14:06:31.962555Z",
     "iopub.status.busy": "2023-11-01T14:06:31.962027Z",
     "iopub.status.idle": "2023-11-01T14:06:31.967316Z",
     "shell.execute_reply": "2023-11-01T14:06:31.966771Z"
    }
   },
   "outputs": [
    {
     "name": "stdout",
     "output_type": "stream",
     "text": [
      "0.9999942902721422 dimensionless\n"
     ]
    }
   ],
   "source": [
    "print(sed.measure_bolometric_luminosity()/sed3.measure_bolometric_luminosity())"
   ]
  }
 ],
 "metadata": {
  "language_info": {
   "codemirror_mode": {
    "name": "ipython",
    "version": 3
   },
   "file_extension": ".py",
   "mimetype": "text/x-python",
   "name": "python",
   "nbconvert_exporter": "python",
   "pygments_lexer": "ipython3",
   "version": "3.10.13"
  }
 },
 "nbformat": 4,
 "nbformat_minor": 5
}
