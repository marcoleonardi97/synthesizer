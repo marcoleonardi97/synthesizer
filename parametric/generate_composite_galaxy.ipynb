{
 "cells": [
  {
   "attachments": {},
   "cell_type": "markdown",
   "id": "ba211680-a2c0-4f33-a431-4ff581c251b5",
   "metadata": {},
   "source": [
    "# Generate composite galaxy\n",
    "\n",
    "Finall, in this example we're going to demonstrate how to make a composite galaxy, including with imaging. For more information on defining parametric morphology see the Imaging examples."
   ]
  },
  {
   "cell_type": "code",
   "execution_count": 1,
   "id": "2a773383-be4c-49d8-9baf-a04d84dba68b",
   "metadata": {
    "execution": {
     "iopub.execute_input": "2023-11-14T23:04:59.374159Z",
     "iopub.status.busy": "2023-11-14T23:04:59.373586Z",
     "iopub.status.idle": "2023-11-14T23:05:01.360344Z",
     "shell.execute_reply": "2023-11-14T23:05:01.359764Z"
    }
   },
   "outputs": [],
   "source": [
    "from unyt import yr, Myr, kpc, mas\n",
    "import matplotlib.pyplot as plt\n",
    "import numpy as np\n",
    "from synthesizer.grid import Grid\n",
    "from synthesizer.parametric.morphology import Sersic2D\n",
    "from synthesizer.parametric import SFH, ZDist, Stars\n",
    "from synthesizer.parametric.galaxy import Galaxy\n",
    "from synthesizer.filters import UVJ"
   ]
  },
  {
   "attachments": {},
   "cell_type": "markdown",
   "id": "903fea3f",
   "metadata": {},
   "source": [
    "Let's begin by defining the geometry of the images:"
   ]
  },
  {
   "cell_type": "code",
   "execution_count": 2,
   "id": "fa6d1c47-e456-43c4-ae77-e3c8811b636d",
   "metadata": {
    "execution": {
     "iopub.execute_input": "2023-11-14T23:05:01.363374Z",
     "iopub.status.busy": "2023-11-14T23:05:01.363108Z",
     "iopub.status.idle": "2023-11-14T23:05:01.366486Z",
     "shell.execute_reply": "2023-11-14T23:05:01.365948Z"
    }
   },
   "outputs": [],
   "source": [
    "# Define geometry of the images\n",
    "resolution = 0.05 * kpc  # resolution in kpc\n",
    "fov = resolution.value * 50 * kpc"
   ]
  },
  {
   "attachments": {},
   "cell_type": "markdown",
   "id": "3eb9117b",
   "metadata": {},
   "source": [
    "And initialising the `Grid` object:"
   ]
  },
  {
   "cell_type": "code",
   "execution_count": 3,
   "id": "3ae48d36",
   "metadata": {
    "execution": {
     "iopub.execute_input": "2023-11-14T23:05:01.369110Z",
     "iopub.status.busy": "2023-11-14T23:05:01.368615Z",
     "iopub.status.idle": "2023-11-14T23:05:02.249352Z",
     "shell.execute_reply": "2023-11-14T23:05:02.248613Z"
    }
   },
   "outputs": [],
   "source": [
    "grid_dir = '../../../tests/test_grid'\n",
    "grid_name = 'test_grid'\n",
    "grid = Grid(grid_name, grid_dir=grid_dir, new_lam=np.logspace(3, 4.2, 1000))"
   ]
  },
  {
   "attachments": {},
   "cell_type": "markdown",
   "id": "68b78fad",
   "metadata": {},
   "source": [
    "And initialising a `FilterCollection`, in this case the rest-frame UVJ filters."
   ]
  },
  {
   "cell_type": "code",
   "execution_count": 4,
   "id": "2662abe8",
   "metadata": {
    "execution": {
     "iopub.execute_input": "2023-11-14T23:05:02.252715Z",
     "iopub.status.busy": "2023-11-14T23:05:02.252096Z",
     "iopub.status.idle": "2023-11-14T23:05:02.259466Z",
     "shell.execute_reply": "2023-11-14T23:05:02.258954Z"
    }
   },
   "outputs": [],
   "source": [
    "filters = UVJ(new_lam=grid.lam)"
   ]
  },
  {
   "attachments": {},
   "cell_type": "markdown",
   "id": "86fd926d-fe81-4b44-9b18-56b0e05f2fc7",
   "metadata": {},
   "source": [
    "## Disk\n",
    "\n",
    "Let's now build the disk component of our composite galaxy."
   ]
  },
  {
   "attachments": {},
   "cell_type": "markdown",
   "id": "e97b95bd",
   "metadata": {},
   "source": [
    "Starting by defining the morphology:"
   ]
  },
  {
   "cell_type": "code",
   "execution_count": 5,
   "id": "d9ccb893-b4e6-40cc-9559-48aaed45bf6f",
   "metadata": {
    "execution": {
     "iopub.execute_input": "2023-11-14T23:05:02.262263Z",
     "iopub.status.busy": "2023-11-14T23:05:02.261682Z",
     "iopub.status.idle": "2023-11-14T23:05:02.265440Z",
     "shell.execute_reply": "2023-11-14T23:05:02.264910Z"
    }
   },
   "outputs": [],
   "source": [
    "morph = Sersic2D(r_eff_kpc=1. * kpc, n= 1., ellip=0.5, theta=35.)"
   ]
  },
  {
   "cell_type": "markdown",
   "id": "0315f5ba-8b69-4c11-bf9d-ea1acb28c741",
   "metadata": {},
   "source": [
    "Define the parameters of the star formation and metal enrichment histories"
   ]
  },
  {
   "cell_type": "code",
   "execution_count": 6,
   "id": "93205536-a548-474c-a898-77b6c5b5d121",
   "metadata": {
    "execution": {
     "iopub.execute_input": "2023-11-14T23:05:02.267774Z",
     "iopub.status.busy": "2023-11-14T23:05:02.267581Z",
     "iopub.status.idle": "2023-11-14T23:05:02.270655Z",
     "shell.execute_reply": "2023-11-14T23:05:02.270114Z"
    }
   },
   "outputs": [],
   "source": [
    "sfh_p = {'duration': 10 * Myr}\n",
    "Z_p = {'log10metallicity': -2.0}  # can also use linear metallicity e.g. {'Z': 0.01}\n",
    "stellar_mass = 10 ** 8.5"
   ]
  },
  {
   "cell_type": "markdown",
   "id": "36bb140c-76a9-48aa-b4a5-cbb21e182474",
   "metadata": {},
   "source": [
    "Define the functional form of the star formation and metal enrichment histories"
   ]
  },
  {
   "cell_type": "code",
   "execution_count": 7,
   "id": "d22e8b5b-38a3-4b51-b4ef-301c1cf332f5",
   "metadata": {
    "execution": {
     "iopub.execute_input": "2023-11-14T23:05:02.273171Z",
     "iopub.status.busy": "2023-11-14T23:05:02.272847Z",
     "iopub.status.idle": "2023-11-14T23:05:02.275908Z",
     "shell.execute_reply": "2023-11-14T23:05:02.275365Z"
    }
   },
   "outputs": [],
   "source": [
    "sfh = SFH.Constant(**sfh_p)  # constant star formation\n",
    "metal_dist = ZDist.DeltaConstant(**Z_p)  # constant metallicity"
   ]
  },
  {
   "cell_type": "markdown",
   "id": "a78f4ece-be0b-47c4-b9ee-3c6279dd6966",
   "metadata": {
    "tags": []
   },
   "source": [
    "Get the 2D star formation and metal enrichment history for the given SPS grid. This is (age, Z)."
   ]
  },
  {
   "cell_type": "code",
   "execution_count": 8,
   "id": "3908a4b6-7d7b-486c-972f-6ba9524be96e",
   "metadata": {
    "execution": {
     "iopub.execute_input": "2023-11-14T23:05:02.278250Z",
     "iopub.status.busy": "2023-11-14T23:05:02.278060Z",
     "iopub.status.idle": "2023-11-14T23:05:02.287555Z",
     "shell.execute_reply": "2023-11-14T23:05:02.286913Z"
    }
   },
   "outputs": [],
   "source": [
    "stars = Stars(\n",
    "    grid.log10age, grid.metallicity, sf_hist_func=sfh, metal_dist_func=metal_dist, initial_mass=stellar_mass, morphology=morph\n",
    ")"
   ]
  },
  {
   "attachments": {},
   "cell_type": "markdown",
   "id": "5e835351-ed22-41d7-9c97-ea2824ec10eb",
   "metadata": {},
   "source": [
    "Initialise the Galaxy object, make an image and plot it. In this case, we can make a colour image using our UVJ filters:"
   ]
  },
  {
   "cell_type": "code",
   "execution_count": 9,
   "id": "4df2837c-42be-40f2-b14e-17ec4e440a91",
   "metadata": {
    "execution": {
     "iopub.execute_input": "2023-11-14T23:05:02.289918Z",
     "iopub.status.busy": "2023-11-14T23:05:02.289717Z",
     "iopub.status.idle": "2023-11-14T23:05:02.344748Z",
     "shell.execute_reply": "2023-11-14T23:05:02.344039Z"
    }
   },
   "outputs": [
    {
     "name": "stdout",
     "output_type": "stream",
     "text": [
      "----------\n",
      "SUMMARY OF PARAMETRIC GALAXY\n",
      "⠀⠀⠀⠀⠀⠀⠀⠀⠀⠀⢀⣀⣀⡀⠒⠒⠦⣄⡀⠀⠀⠀⠀⠀⠀⠀\n",
      "        ⠀⠀⠀⠀⠀⢀⣤⣶⡾⠿⠿⠿⠿⣿⣿⣶⣦⣄⠙⠷⣤⡀⠀⠀⠀⠀\n",
      "        ⠀⠀⠀⣠⡾⠛⠉⠀⠀⠀⠀⠀⠀⠀⠈⠙⠻⣿⣷⣄⠘⢿⡄⠀⠀⠀\n",
      "        ⠀⢀⡾⠋⠀⠀⠀⠀⠀⠀⠀⠀⠐⠂⠠⢄⡀⠈⢿⣿⣧⠈⢿⡄⠀⠀\n",
      "        ⢀⠏⠀⠀⠀⢀⠄⣀⣴⣾⠿⠛⠛⠛⠷⣦⡙⢦⠀⢻⣿⡆⠘⡇⠀⠀\n",
      "        ---+-+-+-+-+-+-+-+-+-+-+-+---\n",
      "           |S|Y|N|T|H|E|S|I|Z|E|R|\n",
      "        ---+-+-+-+-+-+-+-+-+-+-+-+---\n",
      "        ⠀⠀⢸⡇⠸⣿⣷⠀⢳⡈⢿⣦⣀⣀⣀⣠⣴⣾⠟⠁⠀⠀⠀⠀⢀⡎\n",
      "        ⠀⠀⠘⣷⠀⢻⣿⣧⠀⠙⠢⠌⢉⣛⠛⠋⠉⠀⠀⠀⠀⠀⠀⣠⠎⠀\n",
      "        ⠀⠀⠀⠹⣧⡀⠻⣿⣷⣄⡀⠀⠀⠀⠀⠀⠀⠀⠀⠀⢀⣠⡾⠃⠀⠀\n",
      "        ⠀⠀⠀⠀⠈⠻⣤⡈⠻⢿⣿⣷⣦⣤⣤⣤⣤⣤⣴⡾⠛⠉⠀⠀⠀⠀\n",
      "        ⠀⠀⠀⠀⠀⠀⠈⠙⠶⢤⣈⣉⠛⠛⠛⠛⠋⠉⠀⠀⠀⠀⠀⠀⠀⠀\n",
      "        ⠀⠀⠀⠀⠀⠀⠀⠀⠀⠀⠀⠀⠉⠉⠉⠁⠀⠀⠀⠀⠀⠀⠀⠀⠀⠀\n",
      "<class 'synthesizer.parametric.galaxy.Galaxy'>\n",
      "log10(stellar mass formed/Msol):             8.5\n",
      "available SEDs: \n",
      "    Stellar:  ['incident']\n",
      "    Combined: []\n",
      "available lines: []\n",
      "available images: []\n",
      "----------\n",
      "\n"
     ]
    },
    {
     "data": {
      "image/png": "[encoded data removed]",
      "text/plain": [
       "<Figure size 640x480 with 1 Axes>"
      ]
     },
     "metadata": {},
     "output_type": "display_data"
    }
   ],
   "source": [
    "# Initialise Galaxy object\n",
    "disk = Galaxy(stars=stars)\n",
    "\n",
    "# Generate stellar spectra\n",
    "disk.stars.get_spectra_incident(grid)\n",
    "\n",
    "# Make images\n",
    "disk_img = disk.make_images(\n",
    "    resolution=resolution,\n",
    "    filters=filters,\n",
    "    sed=disk.stars.spectra[\"incident\"],\n",
    "    fov=fov,\n",
    ")\n",
    "\n",
    "print(disk)\n",
    "\n",
    "# Make and plot an rgb image\n",
    "disk_img.make_rgb_image(rgb_filters={\"R\" : 'J',\n",
    "                                   \"G\" : 'V',\n",
    "                                   \"B\" : 'U'})\n",
    "fig, ax, _ = disk_img.plot_rgb_image(show=True)"
   ]
  },
  {
   "cell_type": "markdown",
   "id": "ee40720d-c096-4093-9f25-a44773c505c4",
   "metadata": {},
   "source": [
    "## Bulge"
   ]
  },
  {
   "cell_type": "markdown",
   "id": "15192c1b",
   "metadata": {
    "tags": []
   },
   "source": [
    "Lets do the same but make a Bulge this time to combine."
   ]
  },
  {
   "cell_type": "code",
   "execution_count": 10,
   "id": "be1f5e64-3561-46df-82e2-c7d3dcc1fbf3",
   "metadata": {
    "execution": {
     "iopub.execute_input": "2023-11-14T23:05:02.347529Z",
     "iopub.status.busy": "2023-11-14T23:05:02.347324Z",
     "iopub.status.idle": "2023-11-14T23:05:02.387089Z",
     "shell.execute_reply": "2023-11-14T23:05:02.386407Z"
    }
   },
   "outputs": [
    {
     "name": "stdout",
     "output_type": "stream",
     "text": [
      "----------\n",
      "SUMMARY OF PARAMETRIC GALAXY\n",
      "⠀⠀⠀⠀⠀⠀⠀⠀⠀⠀⢀⣀⣀⡀⠒⠒⠦⣄⡀⠀⠀⠀⠀⠀⠀⠀\n",
      "        ⠀⠀⠀⠀⠀⢀⣤⣶⡾⠿⠿⠿⠿⣿⣿⣶⣦⣄⠙⠷⣤⡀⠀⠀⠀⠀\n",
      "        ⠀⠀⠀⣠⡾⠛⠉⠀⠀⠀⠀⠀⠀⠀⠈⠙⠻⣿⣷⣄⠘⢿⡄⠀⠀⠀\n",
      "        ⠀⢀⡾⠋⠀⠀⠀⠀⠀⠀⠀⠀⠐⠂⠠⢄⡀⠈⢿⣿⣧⠈⢿⡄⠀⠀\n",
      "        ⢀⠏⠀⠀⠀⢀⠄⣀⣴⣾⠿⠛⠛⠛⠷⣦⡙⢦⠀⢻⣿⡆⠘⡇⠀⠀\n",
      "        ---+-+-+-+-+-+-+-+-+-+-+-+---\n",
      "           |S|Y|N|T|H|E|S|I|Z|E|R|\n",
      "        ---+-+-+-+-+-+-+-+-+-+-+-+---\n",
      "        ⠀⠀⢸⡇⠸⣿⣷⠀⢳⡈⢿⣦⣀⣀⣀⣠⣴⣾⠟⠁⠀⠀⠀⠀⢀⡎\n",
      "        ⠀⠀⠘⣷⠀⢻⣿⣧⠀⠙⠢⠌⢉⣛⠛⠋⠉⠀⠀⠀⠀⠀⠀⣠⠎⠀\n",
      "        ⠀⠀⠀⠹⣧⡀⠻⣿⣷⣄⡀⠀⠀⠀⠀⠀⠀⠀⠀⠀⢀⣠⡾⠃⠀⠀\n",
      "        ⠀⠀⠀⠀⠈⠻⣤⡈⠻⢿⣿⣷⣦⣤⣤⣤⣤⣤⣴⡾⠛⠉⠀⠀⠀⠀\n",
      "        ⠀⠀⠀⠀⠀⠀⠈⠙⠶⢤⣈⣉⠛⠛⠛⠛⠋⠉⠀⠀⠀⠀⠀⠀⠀⠀\n",
      "        ⠀⠀⠀⠀⠀⠀⠀⠀⠀⠀⠀⠀⠉⠉⠉⠁⠀⠀⠀⠀⠀⠀⠀⠀⠀⠀\n",
      "<class 'synthesizer.parametric.galaxy.Galaxy'>\n",
      "log10(stellar mass formed/Msol):             8.5\n",
      "available SEDs: \n",
      "    Stellar:  ['incident']\n",
      "    Combined: []\n",
      "available lines: []\n",
      "available images: []\n",
      "----------\n",
      "\n"
     ]
    },
    {
     "data": {
      "image/png": "[encoded data removed]",
      "text/plain": [
       "<Figure size 640x480 with 1 Axes>"
      ]
     },
     "metadata": {},
     "output_type": "display_data"
    }
   ],
   "source": [
    "# Define bulge morphology\n",
    "morph = Sersic2D(r_eff_kpc=1. * kpc, n=4.)\n",
    "\n",
    "# Define the parameters of the star formation and metal enrichment histories\n",
    "stellar_mass = 1E10\n",
    "sfzh = Stars(\n",
    "    grid.log10age, grid.metallicity, instant_sf=10. * Myr, instant_metallicity=0.01, morphology=morph,\n",
    "    initial_mass=stellar_mass)\n",
    "\n",
    "# Get galaxy object\n",
    "bulge = Galaxy(stars=stars)\n",
    "\n",
    "# Get specrtra\n",
    "bulge.stars.get_spectra_incident(grid)\n",
    "\n",
    "# make images\n",
    "bulge_img = bulge.make_images(\n",
    "    resolution=resolution,\n",
    "    filters=filters,\n",
    "    sed=bulge.stars.spectra[\"incident\"],\n",
    "    fov=fov,\n",
    ")\n",
    "\n",
    "print(bulge)\n",
    "\n",
    "# Make and plot an rgb image\n",
    "bulge_img.make_rgb_image(rgb_filters={\"R\" : 'J',\n",
    "                                   \"G\" : 'V',\n",
    "                                   \"B\" : 'U'})\n",
    "fig, ax, _ = bulge_img.plot_rgb_image(show=True)"
   ]
  },
  {
   "cell_type": "markdown",
   "id": "223f8dd2-c2df-4bf2-b1c4-c81ee2c17b97",
   "metadata": {},
   "source": [
    "## Total\n",
    "\n",
    "Finally we can combine the disk and bulge together to make a composite galaxy."
   ]
  },
  {
   "cell_type": "code",
   "execution_count": 11,
   "id": "5ef512d4-f3c2-4df0-a457-834a3796d8cc",
   "metadata": {
    "execution": {
     "iopub.execute_input": "2023-11-14T23:05:02.389886Z",
     "iopub.status.busy": "2023-11-14T23:05:02.389686Z",
     "iopub.status.idle": "2023-11-14T23:05:02.426527Z",
     "shell.execute_reply": "2023-11-14T23:05:02.426006Z"
    }
   },
   "outputs": [
    {
     "name": "stdout",
     "output_type": "stream",
     "text": [
      "----------\n",
      "SUMMARY OF PARAMETRIC GALAXY\n",
      "⠀⠀⠀⠀⠀⠀⠀⠀⠀⠀⢀⣀⣀⡀⠒⠒⠦⣄⡀⠀⠀⠀⠀⠀⠀⠀\n",
      "        ⠀⠀⠀⠀⠀⢀⣤⣶⡾⠿⠿⠿⠿⣿⣿⣶⣦⣄⠙⠷⣤⡀⠀⠀⠀⠀\n",
      "        ⠀⠀⠀⣠⡾⠛⠉⠀⠀⠀⠀⠀⠀⠀⠈⠙⠻⣿⣷⣄⠘⢿⡄⠀⠀⠀\n",
      "        ⠀⢀⡾⠋⠀⠀⠀⠀⠀⠀⠀⠀⠐⠂⠠⢄⡀⠈⢿⣿⣧⠈⢿⡄⠀⠀\n",
      "        ⢀⠏⠀⠀⠀⢀⠄⣀⣴⣾⠿⠛⠛⠛⠷⣦⡙⢦⠀⢻⣿⡆⠘⡇⠀⠀\n",
      "        ---+-+-+-+-+-+-+-+-+-+-+-+---\n",
      "           |S|Y|N|T|H|E|S|I|Z|E|R|\n",
      "        ---+-+-+-+-+-+-+-+-+-+-+-+---\n",
      "        ⠀⠀⢸⡇⠸⣿⣷⠀⢳⡈⢿⣦⣀⣀⣀⣠⣴⣾⠟⠁⠀⠀⠀⠀⢀⡎\n",
      "        ⠀⠀⠘⣷⠀⢻⣿⣧⠀⠙⠢⠌⢉⣛⠛⠋⠉⠀⠀⠀⠀⠀⠀⣠⠎⠀\n",
      "        ⠀⠀⠀⠹⣧⡀⠻⣿⣷⣄⡀⠀⠀⠀⠀⠀⠀⠀⠀⠀⢀⣠⡾⠃⠀⠀\n",
      "        ⠀⠀⠀⠀⠈⠻⣤⡈⠻⢿⣿⣷⣦⣤⣤⣤⣤⣤⣴⡾⠛⠉⠀⠀⠀⠀\n",
      "        ⠀⠀⠀⠀⠀⠀⠈⠙⠶⢤⣈⣉⠛⠛⠛⠛⠋⠉⠀⠀⠀⠀⠀⠀⠀⠀\n",
      "        ⠀⠀⠀⠀⠀⠀⠀⠀⠀⠀⠀⠀⠉⠉⠉⠁⠀⠀⠀⠀⠀⠀⠀⠀⠀⠀\n",
      "<class 'synthesizer.parametric.galaxy.Galaxy'>\n",
      "log10(stellar mass formed/Msol):             8.801029995663981\n",
      "available SEDs: \n",
      "    Stellar:  ['incident']\n",
      "    Combined: []\n",
      "available lines: []\n",
      "available images: []\n",
      "----------\n",
      "\n"
     ]
    },
    {
     "data": {
      "image/png": "[encoded data removed]",
      "text/plain": [
       "<Figure size 640x480 with 1 Axes>"
      ]
     },
     "metadata": {},
     "output_type": "display_data"
    }
   ],
   "source": [
    "# Combine galaxy objects\n",
    "combined = disk + bulge\n",
    "\n",
    "print(combined)\n",
    "\n",
    "# Combine images\n",
    "total = disk_img + bulge_img\n",
    "\n",
    "# Make and plot an rgb image\n",
    "total.make_rgb_image(rgb_filters={\"R\" : 'J',\n",
    "                                   \"G\" : 'V',\n",
    "                                   \"B\" : 'U'})\n",
    "fig, ax, _ = total.plot_rgb_image(show=True)"
   ]
  },
  {
   "cell_type": "markdown",
   "id": "7d8cddec",
   "metadata": {
    "tags": []
   },
   "source": [
    "And plot the spectra for good measure..."
   ]
  },
  {
   "cell_type": "code",
   "execution_count": 12,
   "id": "b720c199",
   "metadata": {
    "execution": {
     "iopub.execute_input": "2023-11-14T23:05:02.429269Z",
     "iopub.status.busy": "2023-11-14T23:05:02.428862Z",
     "iopub.status.idle": "2023-11-14T23:05:02.618760Z",
     "shell.execute_reply": "2023-11-14T23:05:02.618241Z"
    }
   },
   "outputs": [
    {
     "data": {
      "image/png": "[encoded data removed]",
      "text/plain": [
       "<Figure size 640x480 with 1 Axes>"
      ]
     },
     "metadata": {},
     "output_type": "display_data"
    }
   ],
   "source": [
    "sed = disk.stars.spectra['incident']\n",
    "plt.plot(np.log10(sed.lam), np.log10(sed.lnu), lw=1, alpha=0.8, c='b',\n",
    "            label='disk')\n",
    "\n",
    "sed = bulge.stars.spectra['incident']\n",
    "plt.plot(np.log10(sed.lam), np.log10(sed.lnu), lw=1, alpha=0.8, c='r',\n",
    "            label='bulge')\n",
    "\n",
    "sed = combined.stars.spectra['incident']\n",
    "plt.plot(np.log10(sed.lam), np.log10(sed.lnu), lw=2, alpha=0.8, c='k',\n",
    "            label='combined')\n",
    "\n",
    "plt.xlim(3., 4.3)\n",
    "plt.legend(fontsize=8, labelspacing=0.0)\n",
    "plt.xlabel(r'$\\rm log_{10}(\\lambda_{obs}/\\AA)$')\n",
    "plt.ylabel(r'$\\rm log_{10}(f_{\\nu}/nJy)$')\n",
    "\n",
    "plt.show()"
   ]
  }
 ],
 "metadata": {
  "kernelspec": {
   "display_name": "synthesizer-env",
   "language": "python",
   "name": "python3"
  },
  "language_info": {
   "codemirror_mode": {
    "name": "ipython",
    "version": 3
   },
   "file_extension": ".py",
   "mimetype": "text/x-python",
   "name": "python",
   "nbconvert_exporter": "python",
   "pygments_lexer": "ipython3",
   "version": "3.10.13"
  }
 },
 "nbformat": 4,
 "nbformat_minor": 5
}
