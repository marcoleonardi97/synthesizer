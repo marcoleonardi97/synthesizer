{
 "cells": [
  {
   "attachments": {},
   "cell_type": "markdown",
   "id": "ba211680-a2c0-4f33-a431-4ff581c251b5",
   "metadata": {},
   "source": [
    "# Generate composite galaxy\n",
    "\n",
    "Finall, in this example we're going to demonstrate how to make a composite galaxy, including with imaging. For more information on defining parametric morphology see the Imaging examples."
   ]
  },
  {
   "cell_type": "code",
   "execution_count": 1,
   "id": "2a773383-be4c-49d8-9baf-a04d84dba68b",
   "metadata": {
    "execution": {
     "iopub.execute_input": "2024-01-11T15:31:23.428409Z",
     "iopub.status.busy": "2024-01-11T15:31:23.428221Z",
     "iopub.status.idle": "2024-01-11T15:31:25.239630Z",
     "shell.execute_reply": "2024-01-11T15:31:25.238977Z"
    }
   },
   "outputs": [],
   "source": [
    "from unyt import yr, Myr, kpc, mas, Msun, Angstrom, deg\n",
    "import matplotlib.pyplot as plt\n",
    "import numpy as np\n",
    "\n",
    "from synthesizer.grid import Grid\n",
    "from synthesizer.parametric.morphology import Sersic2D\n",
    "from synthesizer.parametric import SFH, ZDist, Stars\n",
    "from synthesizer.parametric.galaxy import Galaxy\n",
    "from synthesizer.filters import UVJ"
   ]
  },
  {
   "attachments": {},
   "cell_type": "markdown",
   "id": "903fea3f",
   "metadata": {},
   "source": [
    "Let's begin by defining the geometry of the images:"
   ]
  },
  {
   "cell_type": "code",
   "execution_count": 2,
   "id": "fa6d1c47-e456-43c4-ae77-e3c8811b636d",
   "metadata": {
    "execution": {
     "iopub.execute_input": "2024-01-11T15:31:25.242605Z",
     "iopub.status.busy": "2024-01-11T15:31:25.242357Z",
     "iopub.status.idle": "2024-01-11T15:31:25.245752Z",
     "shell.execute_reply": "2024-01-11T15:31:25.245186Z"
    }
   },
   "outputs": [],
   "source": [
    "# Define geometry of the images\n",
    "resolution = 0.1 * kpc  # resolution in kpc\n",
    "npix = 50\n",
    "fov = resolution * npix"
   ]
  },
  {
   "attachments": {},
   "cell_type": "markdown",
   "id": "3eb9117b",
   "metadata": {},
   "source": [
    "And initialising the `Grid` object:"
   ]
  },
  {
   "cell_type": "code",
   "execution_count": 3,
   "id": "3ae48d36",
   "metadata": {
    "execution": {
     "iopub.execute_input": "2024-01-11T15:31:25.248451Z",
     "iopub.status.busy": "2024-01-11T15:31:25.247989Z",
     "iopub.status.idle": "2024-01-11T15:31:25.579197Z",
     "shell.execute_reply": "2024-01-11T15:31:25.578471Z"
    }
   },
   "outputs": [],
   "source": [
    "grid_dir = \"../../../tests/test_grid\"\n",
    "grid_name = \"test_grid\"\n",
    "grid = Grid(grid_name, grid_dir=grid_dir, new_lam=np.logspace(3, 4.2, 1000))"
   ]
  },
  {
   "attachments": {},
   "cell_type": "markdown",
   "id": "68b78fad",
   "metadata": {},
   "source": [
    "And initialising a `FilterCollection`, in this case the rest-frame UVJ filters."
   ]
  },
  {
   "cell_type": "code",
   "execution_count": 4,
   "id": "2662abe8",
   "metadata": {
    "execution": {
     "iopub.execute_input": "2024-01-11T15:31:25.582373Z",
     "iopub.status.busy": "2024-01-11T15:31:25.581950Z",
     "iopub.status.idle": "2024-01-11T15:31:25.589142Z",
     "shell.execute_reply": "2024-01-11T15:31:25.588628Z"
    }
   },
   "outputs": [],
   "source": [
    "filters = UVJ(new_lam=grid.lam)"
   ]
  },
  {
   "attachments": {},
   "cell_type": "markdown",
   "id": "86fd926d-fe81-4b44-9b18-56b0e05f2fc7",
   "metadata": {},
   "source": [
    "## Disk\n",
    "\n",
    "Let's now build the disk component of our composite galaxy."
   ]
  },
  {
   "attachments": {},
   "cell_type": "markdown",
   "id": "e97b95bd",
   "metadata": {},
   "source": [
    "Starting by defining the morphology:"
   ]
  },
  {
   "cell_type": "code",
   "execution_count": 5,
   "id": "d9ccb893-b4e6-40cc-9559-48aaed45bf6f",
   "metadata": {
    "execution": {
     "iopub.execute_input": "2024-01-11T15:31:25.591864Z",
     "iopub.status.busy": "2024-01-11T15:31:25.591499Z",
     "iopub.status.idle": "2024-01-11T15:31:25.595084Z",
     "shell.execute_reply": "2024-01-11T15:31:25.594511Z"
    }
   },
   "outputs": [],
   "source": [
    "morph = Sersic2D(\n",
    "    r_eff=1.0 * kpc, sersic_index=1.0, ellipticity=0.5, theta=35.0\n",
    ")"
   ]
  },
  {
   "cell_type": "markdown",
   "id": "0315f5ba-8b69-4c11-bf9d-ea1acb28c741",
   "metadata": {},
   "source": [
    "Define the parameters of the star formation and metal enrichment histories"
   ]
  },
  {
   "cell_type": "code",
   "execution_count": 6,
   "id": "93205536-a548-474c-a898-77b6c5b5d121",
   "metadata": {
    "execution": {
     "iopub.execute_input": "2024-01-11T15:31:25.597622Z",
     "iopub.status.busy": "2024-01-11T15:31:25.597270Z",
     "iopub.status.idle": "2024-01-11T15:31:25.600489Z",
     "shell.execute_reply": "2024-01-11T15:31:25.599948Z"
    }
   },
   "outputs": [],
   "source": [
    "sfh_p = {\"duration\": 10 * Myr}\n",
    "Z_p = {\n",
    "    \"log10metallicity\": -2.0\n",
    "}  # can also use linear metallicity e.g. {'Z': 0.01}\n",
    "stellar_mass = 10**9.5"
   ]
  },
  {
   "cell_type": "markdown",
   "id": "36bb140c-76a9-48aa-b4a5-cbb21e182474",
   "metadata": {},
   "source": [
    "Define the functional form of the star formation and metal enrichment histories"
   ]
  },
  {
   "cell_type": "code",
   "execution_count": 7,
   "id": "d22e8b5b-38a3-4b51-b4ef-301c1cf332f5",
   "metadata": {
    "execution": {
     "iopub.execute_input": "2024-01-11T15:31:25.602902Z",
     "iopub.status.busy": "2024-01-11T15:31:25.602558Z",
     "iopub.status.idle": "2024-01-11T15:31:25.605774Z",
     "shell.execute_reply": "2024-01-11T15:31:25.605120Z"
    }
   },
   "outputs": [],
   "source": [
    "sfh = SFH.Constant(**sfh_p)  # constant star formation\n",
    "metal_dist = ZDist.DeltaConstant(**Z_p)  # constant metallicity"
   ]
  },
  {
   "cell_type": "markdown",
   "id": "a78f4ece-be0b-47c4-b9ee-3c6279dd6966",
   "metadata": {
    "tags": []
   },
   "source": [
    "Get the 2D star formation and metal enrichment history for the given SPS grid. This is (age, Z)."
   ]
  },
  {
   "cell_type": "code",
   "execution_count": 8,
   "id": "3908a4b6-7d7b-486c-972f-6ba9524be96e",
   "metadata": {
    "execution": {
     "iopub.execute_input": "2024-01-11T15:31:25.608391Z",
     "iopub.status.busy": "2024-01-11T15:31:25.607881Z",
     "iopub.status.idle": "2024-01-11T15:31:25.617718Z",
     "shell.execute_reply": "2024-01-11T15:31:25.617075Z"
    }
   },
   "outputs": [],
   "source": [
    "stars = Stars(\n",
    "    grid.log10age,\n",
    "    grid.metallicity,\n",
    "    sf_hist=sfh,\n",
    "    metal_dist=metal_dist,\n",
    "    initial_mass=stellar_mass,\n",
    "    morphology=morph,\n",
    ")"
   ]
  },
  {
   "attachments": {},
   "cell_type": "markdown",
   "id": "5e835351-ed22-41d7-9c97-ea2824ec10eb",
   "metadata": {},
   "source": [
    "Initialise the Galaxy object, make an image and plot it. In this case, we can make a colour image using our UVJ filters:"
   ]
  },
  {
   "cell_type": "code",
   "execution_count": 9,
   "id": "4df2837c-42be-40f2-b14e-17ec4e440a91",
   "metadata": {
    "execution": {
     "iopub.execute_input": "2024-01-11T15:31:25.620134Z",
     "iopub.status.busy": "2024-01-11T15:31:25.619940Z",
     "iopub.status.idle": "2024-01-11T15:31:25.673595Z",
     "shell.execute_reply": "2024-01-11T15:31:25.672929Z"
    }
   },
   "outputs": [
    {
     "name": "stdout",
     "output_type": "stream",
     "text": [
      "-------------------------------------------------------------------------------\n",
      "                            SUMMARY OF PARAMETRIC GALAXY                           \n",
      "                           ⠀⠀⠀⠀⠀⠀⠀⠀⠀⠀⢀⣀⣀⡀⠒⠒⠦⣄⡀⠀⠀⠀⠀⠀⠀⠀                          \n",
      "                           ⠀⠀⠀⠀⠀⢀⣤⣶⡾⠿⠿⠿⠿⣿⣿⣶⣦⣄⠙⠷⣤⡀⠀⠀⠀⠀                          \n",
      "                           ⠀⠀⠀⣠⡾⠛⠉⠀⠀⠀⠀⠀⠀⠀⠈⠙⠻⣿⣷⣄⠘⢿⡄⠀⠀⠀                          \n",
      "                           ⠀⢀⡾⠋⠀⠀⠀⠀⠀⠀⠀⠀⠐⠂⠠⢄⡀⠈⢿⣿⣧⠈⢿⡄⠀⠀                          \n",
      "                           ⢀⠏⠀⠀⠀⢀⠄⣀⣴⣾⠿⠛⠛⠛⠷⣦⡙⢦⠀⢻⣿⡆⠘⡇⠀⠀                          \n",
      "                           ⠀⠀⠀+-+-+-+-+-+-+-+-+-+-+-+⡇⠀⠀                           \n",
      "                           ⠀⠀⠀|S|Y|N|T|H|E|S|I|Z|E|R|⠃⠀⠀                           \n",
      "                           ⠀⠀⢰+-+-+-+-+-+-+-+-+-+-+-+⠀⠀⠀                           \n",
      "                           ⠀⠀⢸⡇⠸⣿⣷⠀⢳⡈⢿⣦⣀⣀⣀⣠⣴⣾⠟⠁⠀⠀⠀⠀⢀⡎                          \n",
      "                           ⠀⠀⠘⣷⠀⢻⣿⣧⠀⠙⠢⠌⢉⣛⠛⠋⠉⠀⠀⠀⠀⠀⠀⣠⠎⠀                          \n",
      "                           ⠀⠀⠀⠹⣧⡀⠻⣿⣷⣄⡀⠀⠀⠀⠀⠀⠀⠀⠀⠀⢀⣠⡾⠃⠀⠀                          \n",
      "                           ⠀⠀⠀⠀⠈⠻⣤⡈⠻⢿⣿⣷⣦⣤⣤⣤⣤⣤⣴⡾⠛⠉⠀⠀⠀⠀                          \n",
      "                           ⠀⠀⠀⠀⠀⠀⠈⠙⠶⢤⣈⣉⠛⠛⠛⠛⠋⠉⠀⠀⠀⠀⠀⠀⠀⠀                          \n",
      "                           ⠀⠀⠀⠀⠀⠀⠀⠀⠀⠀⠀⠀⠉⠉⠉⠁⠀⠀⠀⠀⠀⠀⠀⠀⠀⠀                          \n",
      "                                                                               \n",
      "\n",
      "<class 'synthesizer.parametric.galaxy.Galaxy'>\n",
      "log10(stellar mass formed/Msol):             9.5\n",
      "available SEDs: \n",
      "    Stellar:  [incident]\n",
      "    Black Holes:  []\n",
      "    Combined: []\n",
      "available lines: []\n",
      "available images: []\n",
      "-------------------------------------------------------------------------------\n",
      "\n"
     ]
    },
    {
     "data": {
      "image/png": "[encoded data removed]",
      "text/plain": [
       "<Figure size 640x480 with 1 Axes>"
      ]
     },
     "metadata": {},
     "output_type": "display_data"
    }
   ],
   "source": [
    "# Initialise Galaxy object\n",
    "disk = Galaxy(stars=stars)\n",
    "\n",
    "# Generate stellar spectra\n",
    "disk.stars.get_spectra_incident(grid)\n",
    "\n",
    "# Make images\n",
    "disk_img = disk.make_images(\n",
    "    resolution=resolution,\n",
    "    filters=filters,\n",
    "    stellar_spectra_type=\"incident\",\n",
    "    fov=fov,\n",
    ")\n",
    "\n",
    "print(disk)\n",
    "\n",
    "# Make and plot an rgb image\n",
    "disk_img.make_rgb_image(rgb_filters={\"R\": \"J\", \"G\": \"V\", \"B\": \"U\"})\n",
    "fig, ax, _ = disk_img.plot_rgb_image(show=True)"
   ]
  },
  {
   "cell_type": "markdown",
   "id": "ee40720d-c096-4093-9f25-a44773c505c4",
   "metadata": {},
   "source": [
    "## Bulge"
   ]
  },
  {
   "cell_type": "markdown",
   "id": "15192c1b",
   "metadata": {
    "tags": []
   },
   "source": [
    "Lets do the same but make a Bulge this time to combine."
   ]
  },
  {
   "cell_type": "code",
   "execution_count": 10,
   "id": "be1f5e64-3561-46df-82e2-c7d3dcc1fbf3",
   "metadata": {
    "execution": {
     "iopub.execute_input": "2024-01-11T15:31:25.677122Z",
     "iopub.status.busy": "2024-01-11T15:31:25.676886Z",
     "iopub.status.idle": "2024-01-11T15:31:25.726025Z",
     "shell.execute_reply": "2024-01-11T15:31:25.725374Z"
    }
   },
   "outputs": [
    {
     "data": {
      "image/png": "[encoded data removed]",
      "text/plain": [
       "<Figure size 640x480 with 1 Axes>"
      ]
     },
     "metadata": {},
     "output_type": "display_data"
    }
   ],
   "source": [
    "# Define bulge morphology\n",
    "morph = Sersic2D(r_eff=0.5 * kpc, sersic_index=4.0)\n",
    "\n",
    "# Define the parameters of the star formation and metal enrichment histories\n",
    "stellar_mass = 10**8.5\n",
    "stars = Stars(\n",
    "    grid.log10age,\n",
    "    grid.metallicity,\n",
    "    sf_hist=10.0 * Myr,\n",
    "    metal_dist=0.01,\n",
    "    morphology=morph,\n",
    "    initial_mass=stellar_mass,\n",
    ")\n",
    "\n",
    "# Get galaxy object\n",
    "bulge = Galaxy(stars=stars)\n",
    "\n",
    "# Get specrtra\n",
    "bulge.stars.get_spectra_incident(grid)\n",
    "\n",
    "# make images\n",
    "bulge_img = bulge.make_images(\n",
    "    resolution=resolution,\n",
    "    filters=filters,\n",
    "    stellar_spectra_type=\"incident\",\n",
    "    npix=npix,\n",
    ")\n",
    "\n",
    "# Make and plot an rgb image\n",
    "bulge_img.make_rgb_image(rgb_filters={\"R\": \"J\", \"G\": \"V\", \"B\": \"U\"})\n",
    "fig, ax, _ = bulge_img.plot_rgb_image(show=True)"
   ]
  },
  {
   "cell_type": "markdown",
   "id": "223f8dd2-c2df-4bf2-b1c4-c81ee2c17b97",
   "metadata": {},
   "source": [
    "## Total\n",
    "\n",
    "Finally we can combine the disk and bulge together to make a composite galaxy."
   ]
  },
  {
   "cell_type": "code",
   "execution_count": 11,
   "id": "5ef512d4-f3c2-4df0-a457-834a3796d8cc",
   "metadata": {
    "execution": {
     "iopub.execute_input": "2024-01-11T15:31:25.729499Z",
     "iopub.status.busy": "2024-01-11T15:31:25.728869Z",
     "iopub.status.idle": "2024-01-11T15:31:25.775636Z",
     "shell.execute_reply": "2024-01-11T15:31:25.774992Z"
    }
   },
   "outputs": [
    {
     "name": "stdout",
     "output_type": "stream",
     "text": [
      "-------------------------------------------------------------------------------\n",
      "                            SUMMARY OF PARAMETRIC GALAXY                           \n",
      "                           ⠀⠀⠀⠀⠀⠀⠀⠀⠀⠀⢀⣀⣀⡀⠒⠒⠦⣄⡀⠀⠀⠀⠀⠀⠀⠀                          \n",
      "                           ⠀⠀⠀⠀⠀⢀⣤⣶⡾⠿⠿⠿⠿⣿⣿⣶⣦⣄⠙⠷⣤⡀⠀⠀⠀⠀                          \n",
      "                           ⠀⠀⠀⣠⡾⠛⠉⠀⠀⠀⠀⠀⠀⠀⠈⠙⠻⣿⣷⣄⠘⢿⡄⠀⠀⠀                          \n",
      "                           ⠀⢀⡾⠋⠀⠀⠀⠀⠀⠀⠀⠀⠐⠂⠠⢄⡀⠈⢿⣿⣧⠈⢿⡄⠀⠀                          \n",
      "                           ⢀⠏⠀⠀⠀⢀⠄⣀⣴⣾⠿⠛⠛⠛⠷⣦⡙⢦⠀⢻⣿⡆⠘⡇⠀⠀                          \n",
      "                           ⠀⠀⠀+-+-+-+-+-+-+-+-+-+-+-+⡇⠀⠀                           \n",
      "                           ⠀⠀⠀|S|Y|N|T|H|E|S|I|Z|E|R|⠃⠀⠀                           \n",
      "                           ⠀⠀⢰+-+-+-+-+-+-+-+-+-+-+-+⠀⠀⠀                           \n",
      "                           ⠀⠀⢸⡇⠸⣿⣷⠀⢳⡈⢿⣦⣀⣀⣀⣠⣴⣾⠟⠁⠀⠀⠀⠀⢀⡎                          \n",
      "                           ⠀⠀⠘⣷⠀⢻⣿⣧⠀⠙⠢⠌⢉⣛⠛⠋⠉⠀⠀⠀⠀⠀⠀⣠⠎⠀                          \n",
      "                           ⠀⠀⠀⠹⣧⡀⠻⣿⣷⣄⡀⠀⠀⠀⠀⠀⠀⠀⠀⠀⢀⣠⡾⠃⠀⠀                          \n",
      "                           ⠀⠀⠀⠀⠈⠻⣤⡈⠻⢿⣿⣷⣦⣤⣤⣤⣤⣤⣴⡾⠛⠉⠀⠀⠀⠀                          \n",
      "                           ⠀⠀⠀⠀⠀⠀⠈⠙⠶⢤⣈⣉⠛⠛⠛⠛⠋⠉⠀⠀⠀⠀⠀⠀⠀⠀                          \n",
      "                           ⠀⠀⠀⠀⠀⠀⠀⠀⠀⠀⠀⠀⠉⠉⠉⠁⠀⠀⠀⠀⠀⠀⠀⠀⠀⠀                          \n",
      "                                                                               \n",
      "\n",
      "<class 'synthesizer.parametric.galaxy.Galaxy'>\n",
      "log10(stellar mass formed/Msol):             9.541392685158225\n",
      "available SEDs: \n",
      "    Stellar:  [incident]\n",
      "    Black Holes:  []\n",
      "    Combined: []\n",
      "available lines: []\n",
      "available images: []\n",
      "-------------------------------------------------------------------------------\n",
      "\n"
     ]
    },
    {
     "data": {
      "image/png": "[encoded data removed]",
      "text/plain": [
       "<Figure size 640x480 with 1 Axes>"
      ]
     },
     "metadata": {},
     "output_type": "display_data"
    }
   ],
   "source": [
    "# Combine galaxy objects\n",
    "combined = disk + bulge\n",
    "\n",
    "print(combined)\n",
    "\n",
    "# Combine images\n",
    "total = disk_img + bulge_img\n",
    "\n",
    "# Make and plot an rgb image\n",
    "total.make_rgb_image(rgb_filters={\"R\": \"J\", \"G\": \"V\", \"B\": \"U\"})\n",
    "fig, ax, _ = total.plot_rgb_image(show=True)"
   ]
  },
  {
   "cell_type": "markdown",
   "id": "7d8cddec",
   "metadata": {
    "tags": []
   },
   "source": [
    "And plot the spectra for good measure..."
   ]
  },
  {
   "cell_type": "code",
   "execution_count": 12,
   "id": "b720c199",
   "metadata": {
    "execution": {
     "iopub.execute_input": "2024-01-11T15:31:25.779004Z",
     "iopub.status.busy": "2024-01-11T15:31:25.778398Z",
     "iopub.status.idle": "2024-01-11T15:31:26.010394Z",
     "shell.execute_reply": "2024-01-11T15:31:26.009695Z"
    }
   },
   "outputs": [
    {
     "data": {
      "image/png": "[encoded data removed]",
      "text/plain": [
       "<Figure size 640x480 with 1 Axes>"
      ]
     },
     "metadata": {},
     "output_type": "display_data"
    }
   ],
   "source": [
    "sed = disk.stars.spectra[\"incident\"]\n",
    "plt.plot(\n",
    "    np.log10(sed.lam), np.log10(sed.lnu), lw=1, alpha=0.8, c=\"b\", label=\"disk\"\n",
    ")\n",
    "\n",
    "sed = bulge.stars.spectra[\"incident\"]\n",
    "plt.plot(\n",
    "    np.log10(sed.lam), np.log10(sed.lnu), lw=1, alpha=0.8, c=\"r\", label=\"bulge\"\n",
    ")\n",
    "\n",
    "sed = combined.stars.spectra[\"incident\"]\n",
    "plt.plot(\n",
    "    np.log10(sed.lam),\n",
    "    np.log10(sed.lnu),\n",
    "    lw=2,\n",
    "    alpha=0.8,\n",
    "    c=\"k\",\n",
    "    label=\"combined\",\n",
    ")\n",
    "\n",
    "plt.xlim(3.0, 4.3)\n",
    "plt.legend(fontsize=8, labelspacing=0.0)\n",
    "plt.xlabel(r\"$\\rm log_{10}(\\lambda_{obs}/\\AA)$\")\n",
    "plt.ylabel(r\"$\\rm log_{10}(f_{\\nu}/nJy)$\")\n",
    "\n",
    "plt.show()"
   ]
  }
 ],
 "metadata": {
  "kernelspec": {
   "display_name": "venv",
   "language": "python",
   "name": "python3"
  },
  "language_info": {
   "codemirror_mode": {
    "name": "ipython",
    "version": 3
   },
   "file_extension": ".py",
   "mimetype": "text/x-python",
   "name": "python",
   "nbconvert_exporter": "python",
   "pygments_lexer": "ipython3",
   "version": "3.10.13"
  },
  "vscode": {
   "interpreter": {
    "hash": "3fbdfee1eda89f517d14c65aaeb395605ea48cc827c54c8ae1828e532ec42817"
   }
  }
 },
 "nbformat": 4,
 "nbformat_minor": 5
}
