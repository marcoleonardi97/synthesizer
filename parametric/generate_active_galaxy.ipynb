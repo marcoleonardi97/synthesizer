{
 "cells": [
  {
   "attachments": {},
   "cell_type": "markdown",
   "id": "ba211680-a2c0-4f33-a431-4ff581c251b5",
   "metadata": {},
   "source": [
    "# Generate composite galaxy\n",
    "\n",
    "Finall, in this example we're going to demonstrate how to make a composite galaxy, including with imaging. For more information on defining parametric morphology see the Imaging examples."
   ]
  },
  {
   "cell_type": "code",
   "execution_count": 1,
   "id": "2a773383-be4c-49d8-9baf-a04d84dba68b",
   "metadata": {
    "execution": {
     "iopub.execute_input": "2023-12-01T15:44:00.022708Z",
     "iopub.status.busy": "2023-12-01T15:44:00.022518Z",
     "iopub.status.idle": "2023-12-01T15:44:01.920868Z",
     "shell.execute_reply": "2023-12-01T15:44:01.920269Z"
    }
   },
   "outputs": [],
   "source": [
    "from unyt import yr, Myr, kpc, mas, Msun, Angstrom, deg, K\n",
    "import matplotlib.pyplot as plt\n",
    "import numpy as np\n",
    "from synthesizer.grid import Grid\n",
    "from synthesizer.dust.attenuation import PowerLaw\n",
    "from synthesizer.dust.emission import Greybody\n",
    "from synthesizer.parametric.morphology import Sersic2D, PointSource\n",
    "from synthesizer.parametric import SFH, ZDist, Stars\n",
    "from synthesizer.parametric.galaxy import Galaxy\n",
    "from synthesizer.blackholes import UnifiedAGN\n",
    "from synthesizer.parametric import BlackHoles\n",
    "from synthesizer.sed import plot_spectra\n",
    "from synthesizer.filters import UVJ"
   ]
  },
  {
   "attachments": {},
   "cell_type": "markdown",
   "id": "903fea3f",
   "metadata": {},
   "source": [
    "Let's begin by defining the geometry of the images:"
   ]
  },
  {
   "cell_type": "code",
   "execution_count": 2,
   "id": "fa6d1c47-e456-43c4-ae77-e3c8811b636d",
   "metadata": {
    "execution": {
     "iopub.execute_input": "2023-12-01T15:44:01.923883Z",
     "iopub.status.busy": "2023-12-01T15:44:01.923487Z",
     "iopub.status.idle": "2023-12-01T15:44:01.926801Z",
     "shell.execute_reply": "2023-12-01T15:44:01.926208Z"
    }
   },
   "outputs": [],
   "source": [
    "# Define geometry of the images\n",
    "resolution = 0.1 * kpc  # resolution in kpc\n",
    "npix = 50\n",
    "fov = resolution * npix"
   ]
  },
  {
   "attachments": {},
   "cell_type": "markdown",
   "id": "aa60e956",
   "metadata": {},
   "source": [
    "Define the `grid_dir`:"
   ]
  },
  {
   "cell_type": "code",
   "execution_count": 3,
   "id": "7e358ca5",
   "metadata": {
    "execution": {
     "iopub.execute_input": "2023-12-01T15:44:01.929397Z",
     "iopub.status.busy": "2023-12-01T15:44:01.928955Z",
     "iopub.status.idle": "2023-12-01T15:44:01.932009Z",
     "shell.execute_reply": "2023-12-01T15:44:01.931384Z"
    }
   },
   "outputs": [],
   "source": [
    "grid_dir = '../../../tests/test_grid'"
   ]
  },
  {
   "attachments": {},
   "cell_type": "markdown",
   "id": "86aca282",
   "metadata": {},
   "source": [
    "### Diffuse ISM dust\n",
    "\n",
    "Later on we're going to apply \"diffuse\" (ISM) dust attenuation to both the stars and blackholes so let's define these now. Note, these could be different for each component."
   ]
  },
  {
   "cell_type": "code",
   "execution_count": 4,
   "id": "a4a3d684",
   "metadata": {
    "execution": {
     "iopub.execute_input": "2023-12-01T15:44:01.934721Z",
     "iopub.status.busy": "2023-12-01T15:44:01.934338Z",
     "iopub.status.idle": "2023-12-01T15:44:01.937589Z",
     "shell.execute_reply": "2023-12-01T15:44:01.937055Z"
    }
   },
   "outputs": [],
   "source": [
    "tau_v = 0.5\n",
    "# dust curve slope\n",
    "alpha = -1.0\n",
    "dust_curve = PowerLaw(slope=alpha)\n",
    "dust_emission_model = Greybody(30*K,1.2)"
   ]
  },
  {
   "cell_type": "code",
   "execution_count": null,
   "id": "7e3c9927",
   "metadata": {},
   "outputs": [],
   "source": []
  },
  {
   "attachments": {},
   "cell_type": "markdown",
   "id": "86fd926d-fe81-4b44-9b18-56b0e05f2fc7",
   "metadata": {},
   "source": [
    "## The Stars\n",
    "\n",
    "Let's first build the stellar component of our galaxy, including setting the morphology so we can make an image later."
   ]
  },
  {
   "attachments": {},
   "cell_type": "markdown",
   "id": "89ccc344",
   "metadata": {},
   "source": [
    "First define the grid. We need this to create our star formation and metal enrichment history."
   ]
  },
  {
   "cell_type": "code",
   "execution_count": 5,
   "id": "3ae48d36",
   "metadata": {
    "execution": {
     "iopub.execute_input": "2023-12-01T15:44:01.940382Z",
     "iopub.status.busy": "2023-12-01T15:44:01.939973Z",
     "iopub.status.idle": "2023-12-01T15:44:02.018405Z",
     "shell.execute_reply": "2023-12-01T15:44:02.017777Z"
    }
   },
   "outputs": [],
   "source": [
    "grid_name = 'test_grid'\n",
    "grid = Grid(grid_name, grid_dir=grid_dir)"
   ]
  },
  {
   "attachments": {},
   "cell_type": "markdown",
   "id": "884544c5",
   "metadata": {},
   "source": [
    "Let's define our star formation and metal enrichment history:"
   ]
  },
  {
   "cell_type": "code",
   "execution_count": 6,
   "id": "93205536-a548-474c-a898-77b6c5b5d121",
   "metadata": {
    "execution": {
     "iopub.execute_input": "2023-12-01T15:44:02.021381Z",
     "iopub.status.busy": "2023-12-01T15:44:02.021115Z",
     "iopub.status.idle": "2023-12-01T15:44:02.025260Z",
     "shell.execute_reply": "2023-12-01T15:44:02.024708Z"
    }
   },
   "outputs": [],
   "source": [
    "sfh_p = {'duration': 10 * Myr}\n",
    "Z_p = {'log10metallicity': -2.0}  # can also use linear metallicity e.g. {'Z': 0.01}\n",
    "stellar_mass = 10 ** 9.5\n",
    "sfh = SFH.Constant(**sfh_p)  # constant star formation\n",
    "metal_dist = ZDist.DeltaConstant(**Z_p)  # constant metallicity"
   ]
  },
  {
   "attachments": {},
   "cell_type": "markdown",
   "id": "868f01f9",
   "metadata": {},
   "source": [
    "Next, let's define the morphology:"
   ]
  },
  {
   "cell_type": "code",
   "execution_count": 7,
   "id": "d9ccb893-b4e6-40cc-9559-48aaed45bf6f",
   "metadata": {
    "execution": {
     "iopub.execute_input": "2023-12-01T15:44:02.027904Z",
     "iopub.status.busy": "2023-12-01T15:44:02.027462Z",
     "iopub.status.idle": "2023-12-01T15:44:02.031200Z",
     "shell.execute_reply": "2023-12-01T15:44:02.030589Z"
    }
   },
   "outputs": [],
   "source": [
    "morph = Sersic2D(r_eff=1.*kpc, sersic_index=1., ellipticity=0.5, theta=35.)"
   ]
  },
  {
   "attachments": {},
   "cell_type": "markdown",
   "id": "3acd583f",
   "metadata": {},
   "source": [
    "Now let's initialise our stars object:"
   ]
  },
  {
   "cell_type": "code",
   "execution_count": 8,
   "id": "5472bae9",
   "metadata": {
    "execution": {
     "iopub.execute_input": "2023-12-01T15:44:02.033836Z",
     "iopub.status.busy": "2023-12-01T15:44:02.033374Z",
     "iopub.status.idle": "2023-12-01T15:44:02.043359Z",
     "shell.execute_reply": "2023-12-01T15:44:02.042705Z"
    }
   },
   "outputs": [],
   "source": [
    "# Get the 2D star formation and metal enrichment history for the given SPS grid. This is (age, Z).\n",
    "stars = Stars(\n",
    "    grid.log10age, grid.metallicity, sf_hist=sfh, metal_dist=metal_dist, initial_mass=stellar_mass, morphology=morph\n",
    ")"
   ]
  },
  {
   "attachments": {},
   "cell_type": "markdown",
   "id": "2139bf48",
   "metadata": {},
   "source": [
    "Now generate the stellar spectra:"
   ]
  },
  {
   "cell_type": "code",
   "execution_count": 9,
   "id": "cbdb421a",
   "metadata": {
    "execution": {
     "iopub.execute_input": "2023-12-01T15:44:02.045863Z",
     "iopub.status.busy": "2023-12-01T15:44:02.045524Z",
     "iopub.status.idle": "2023-12-01T15:44:02.059996Z",
     "shell.execute_reply": "2023-12-01T15:44:02.059346Z"
    }
   },
   "outputs": [
    {
     "data": {
      "text/plain": [
       "<synthesizer.sed.Sed at 0x7f12a4a4b6a0>"
      ]
     },
     "execution_count": 9,
     "metadata": {},
     "output_type": "execute_result"
    }
   ],
   "source": [
    "stars.get_spectra_pacman(grid, tau_v=tau_v, alpha=alpha)"
   ]
  },
  {
   "attachments": {},
   "cell_type": "markdown",
   "id": "c5dae235",
   "metadata": {},
   "source": [
    "## The blackholes"
   ]
  },
  {
   "attachments": {},
   "cell_type": "markdown",
   "id": "03a8d537",
   "metadata": {},
   "source": [
    "Let's define the properties of our blackholes. We don't need to define the morphology since blackholes automatically assume a `PointSource` geometry."
   ]
  },
  {
   "cell_type": "code",
   "execution_count": 10,
   "id": "3908a4b6-7d7b-486c-972f-6ba9524be96e",
   "metadata": {
    "execution": {
     "iopub.execute_input": "2023-12-01T15:44:02.062778Z",
     "iopub.status.busy": "2023-12-01T15:44:02.062361Z",
     "iopub.status.idle": "2023-12-01T15:44:02.072988Z",
     "shell.execute_reply": "2023-12-01T15:44:02.072476Z"
    }
   },
   "outputs": [],
   "source": [
    "black_hole = BlackHoles(mass=1E8*Msun, inclination=15*deg, accretion_rate=1.*Msun/yr, metallicity=0.01)"
   ]
  },
  {
   "attachments": {},
   "cell_type": "markdown",
   "id": "5fe09c51",
   "metadata": {},
   "source": [
    "Next, let's define the emission model and generate the spectra."
   ]
  },
  {
   "cell_type": "code",
   "execution_count": 11,
   "id": "0bea91e3",
   "metadata": {
    "execution": {
     "iopub.execute_input": "2023-12-01T15:44:02.075659Z",
     "iopub.status.busy": "2023-12-01T15:44:02.075287Z",
     "iopub.status.idle": "2023-12-01T15:44:02.264160Z",
     "shell.execute_reply": "2023-12-01T15:44:02.263418Z"
    }
   },
   "outputs": [
    {
     "name": "stderr",
     "output_type": "stream",
     "text": [
      "/opt/hostedtoolcache/Python/3.10.13/x64/lib/python3.10/site-packages/unyt/array.py:1813: RuntimeWarning: overflow encountered in exp\n",
      "  out_arr = func(np.asarray(inp), out=out_func, **kwargs)\n"
     ]
    },
    {
     "data": {
      "text/plain": [
       "{'disc_incident': <synthesizer.sed.Sed at 0x7f125938ce50>,\n",
       " 'disc_transmitted': <synthesizer.sed.Sed at 0x7f125938d300>,\n",
       " 'disc_escaped': <synthesizer.sed.Sed at 0x7f125938d360>,\n",
       " 'disc': <synthesizer.sed.Sed at 0x7f125938cca0>,\n",
       " 'blr': <synthesizer.sed.Sed at 0x7f125938de70>,\n",
       " 'nlr': <synthesizer.sed.Sed at 0x7f125938ded0>,\n",
       " 'torus': <synthesizer.sed.Sed at 0x7f125938cee0>,\n",
       " 'intrinsic': <synthesizer.sed.Sed at 0x7f125938dd20>,\n",
       " 'emergent': <synthesizer.sed.Sed at 0x7f1259343b20>,\n",
       " 'dust': <synthesizer.sed.Sed at 0x7f12a4a4b8e0>,\n",
       " 'total': <synthesizer.sed.Sed at 0x7f12a4a4b910>}"
      ]
     },
     "execution_count": 11,
     "metadata": {},
     "output_type": "execute_result"
    }
   ],
   "source": [
    "emission_model = UnifiedAGN(disc_model='test_grid_agn', photoionisation_model='', grid_dir=grid_dir)\n",
    "\n",
    "# get the spectra assuming this emission model\n",
    "black_hole.get_spectra(emission_model, tau_v=tau_v, dust_curve=dust_curve, dust_emission_model=dust_emission_model)"
   ]
  },
  {
   "attachments": {},
   "cell_type": "markdown",
   "id": "bc6a6b46",
   "metadata": {},
   "source": [
    "## The Galaxy"
   ]
  },
  {
   "attachments": {},
   "cell_type": "markdown",
   "id": "5e835351-ed22-41d7-9c97-ea2824ec10eb",
   "metadata": {},
   "source": [
    "Initialise the Galaxy object, make an image and plot it. In this case, we can make a colour image using our UVJ filters:"
   ]
  },
  {
   "cell_type": "code",
   "execution_count": 12,
   "id": "4df2837c-42be-40f2-b14e-17ec4e440a91",
   "metadata": {
    "execution": {
     "iopub.execute_input": "2023-12-01T15:44:02.267236Z",
     "iopub.status.busy": "2023-12-01T15:44:02.266798Z",
     "iopub.status.idle": "2023-12-01T15:44:02.270705Z",
     "shell.execute_reply": "2023-12-01T15:44:02.270059Z"
    }
   },
   "outputs": [
    {
     "name": "stdout",
     "output_type": "stream",
     "text": [
      "-------------------------------------------------------------------------------\n",
      "                            SUMMARY OF PARAMETRIC GALAXY                           \n",
      "                           ⠀⠀⠀⠀⠀⠀⠀⠀⠀⠀⢀⣀⣀⡀⠒⠒⠦⣄⡀⠀⠀⠀⠀⠀⠀⠀                          \n",
      "                           ⠀⠀⠀⠀⠀⢀⣤⣶⡾⠿⠿⠿⠿⣿⣿⣶⣦⣄⠙⠷⣤⡀⠀⠀⠀⠀                          \n",
      "                           ⠀⠀⠀⣠⡾⠛⠉⠀⠀⠀⠀⠀⠀⠀⠈⠙⠻⣿⣷⣄⠘⢿⡄⠀⠀⠀                          \n",
      "                           ⠀⢀⡾⠋⠀⠀⠀⠀⠀⠀⠀⠀⠐⠂⠠⢄⡀⠈⢿⣿⣧⠈⢿⡄⠀⠀                          \n",
      "                           ⢀⠏⠀⠀⠀⢀⠄⣀⣴⣾⠿⠛⠛⠛⠷⣦⡙⢦⠀⢻⣿⡆⠘⡇⠀⠀                          \n",
      "                           ⠀⠀⠀+-+-+-+-+-+-+-+-+-+-+-+⡇⠀⠀                           \n",
      "                           ⠀⠀⠀|S|Y|N|T|H|E|S|I|Z|E|R|⠃⠀⠀                           \n",
      "                           ⠀⠀⢰+-+-+-+-+-+-+-+-+-+-+-+⠀⠀⠀                           \n",
      "                           ⠀⠀⢸⡇⠸⣿⣷⠀⢳⡈⢿⣦⣀⣀⣀⣠⣴⣾⠟⠁⠀⠀⠀⠀⢀⡎                          \n",
      "                           ⠀⠀⠘⣷⠀⢻⣿⣧⠀⠙⠢⠌⢉⣛⠛⠋⠉⠀⠀⠀⠀⠀⠀⣠⠎⠀                          \n",
      "                           ⠀⠀⠀⠹⣧⡀⠻⣿⣷⣄⡀⠀⠀⠀⠀⠀⠀⠀⠀⠀⢀⣠⡾⠃⠀⠀                          \n",
      "                           ⠀⠀⠀⠀⠈⠻⣤⡈⠻⢿⣿⣷⣦⣤⣤⣤⣤⣤⣴⡾⠛⠉⠀⠀⠀⠀                          \n",
      "                           ⠀⠀⠀⠀⠀⠀⠈⠙⠶⢤⣈⣉⠛⠛⠛⠛⠋⠉⠀⠀⠀⠀⠀⠀⠀⠀                          \n",
      "                           ⠀⠀⠀⠀⠀⠀⠀⠀⠀⠀⠀⠀⠉⠉⠉⠁⠀⠀⠀⠀⠀⠀⠀⠀⠀⠀                          \n",
      "                                                                               \n",
      "\n",
      "<class 'synthesizer.parametric.galaxy.Galaxy'>\n",
      "log10(stellar mass formed/Msol):             9.5\n",
      "available SEDs: \n",
      "    Stellar:  [incident, transmitted, nebular, reprocessed, intrinsic, \n",
      "               emergent]\n",
      "    Combined: []\n",
      "available lines: []\n",
      "available images: []\n",
      "-------------------------------------------------------------------------------\n",
      "\n"
     ]
    }
   ],
   "source": [
    "# Initialise Galaxy object\n",
    "galaxy = Galaxy(stars=stars, black_holes=black_hole)\n",
    "print(galaxy)"
   ]
  },
  {
   "cell_type": "code",
   "execution_count": 13,
   "id": "b227cd24",
   "metadata": {
    "execution": {
     "iopub.execute_input": "2023-12-01T15:44:02.273184Z",
     "iopub.status.busy": "2023-12-01T15:44:02.272820Z",
     "iopub.status.idle": "2023-12-01T15:44:02.276925Z",
     "shell.execute_reply": "2023-12-01T15:44:02.276290Z"
    }
   },
   "outputs": [],
   "source": [
    "galaxy.spectra = {}\n",
    "galaxy.spectra['black_holes'] = galaxy.black_holes.spectra['total']\n",
    "galaxy.spectra['stars'] = galaxy.stars.spectra['attenuated']\n",
    "galaxy.spectra['total'] = galaxy.spectra['stars'] + galaxy.spectra['black_holes']"
   ]
  },
  {
   "attachments": {},
   "cell_type": "markdown",
   "id": "14650033",
   "metadata": {},
   "source": [
    "### Spectra"
   ]
  },
  {
   "attachments": {},
   "cell_type": "markdown",
   "id": "4373f52a",
   "metadata": {},
   "source": [
    "We can use the `plot_spectra` function to make a quick spectrum of the galaxy. "
   ]
  },
  {
   "cell_type": "code",
   "execution_count": 14,
   "id": "064cb20a",
   "metadata": {
    "execution": {
     "iopub.execute_input": "2023-12-01T15:44:02.279582Z",
     "iopub.status.busy": "2023-12-01T15:44:02.279283Z",
     "iopub.status.idle": "2023-12-01T15:44:02.867723Z",
     "shell.execute_reply": "2023-12-01T15:44:02.867060Z"
    }
   },
   "outputs": [
    {
     "data": {
      "text/plain": [
       "(<Figure size 350x500 with 1 Axes>,\n",
       " <Axes: xlabel='$\\\\lambda/[\\\\mathrm{Å}]$', ylabel='$L_{\\\\nu}/[\\\\mathrm{erg\\\\ / \\\\ (Hz \\\\ s)}]$'>)"
      ]
     },
     "execution_count": 14,
     "metadata": {},
     "output_type": "execute_result"
    },
    {
     "data": {
      "image/png": "[encoded data removed]",
      "text/plain": [
       "<Figure size 350x500 with 1 Axes>"
      ]
     },
     "metadata": {},
     "output_type": "display_data"
    }
   ],
   "source": [
    "plot_spectra(galaxy.spectra)"
   ]
  },
  {
   "attachments": {},
   "cell_type": "markdown",
   "id": "b7c90101",
   "metadata": {},
   "source": [
    "### Images"
   ]
  },
  {
   "attachments": {},
   "cell_type": "markdown",
   "id": "e898e354",
   "metadata": {},
   "source": [
    "Let's define some filters."
   ]
  },
  {
   "cell_type": "code",
   "execution_count": 15,
   "id": "dd0a9b76",
   "metadata": {
    "execution": {
     "iopub.execute_input": "2023-12-01T15:44:02.870606Z",
     "iopub.status.busy": "2023-12-01T15:44:02.870373Z",
     "iopub.status.idle": "2023-12-01T15:44:02.877086Z",
     "shell.execute_reply": "2023-12-01T15:44:02.876515Z"
    }
   },
   "outputs": [],
   "source": [
    "filters = UVJ(new_lam=grid.lam)"
   ]
  },
  {
   "attachments": {},
   "cell_type": "markdown",
   "id": "94a5750a",
   "metadata": {},
   "source": [
    "Let's look at the total spectra."
   ]
  },
  {
   "attachments": {},
   "cell_type": "markdown",
   "id": "b0667dcf",
   "metadata": {},
   "source": [
    "Now let's make some images."
   ]
  },
  {
   "cell_type": "code",
   "execution_count": 16,
   "id": "3d55eef8",
   "metadata": {
    "execution": {
     "iopub.execute_input": "2023-12-01T15:44:02.879891Z",
     "iopub.status.busy": "2023-12-01T15:44:02.879481Z",
     "iopub.status.idle": "2023-12-01T15:44:02.928741Z",
     "shell.execute_reply": "2023-12-01T15:44:02.928008Z"
    }
   },
   "outputs": [
    {
     "name": "stdout",
     "output_type": "stream",
     "text": [
      "-------------------------------------------------------------------------------\n",
      "                            SUMMARY OF PARAMETRIC GALAXY                           \n",
      "                           ⠀⠀⠀⠀⠀⠀⠀⠀⠀⠀⢀⣀⣀⡀⠒⠒⠦⣄⡀⠀⠀⠀⠀⠀⠀⠀                          \n",
      "                           ⠀⠀⠀⠀⠀⢀⣤⣶⡾⠿⠿⠿⠿⣿⣿⣶⣦⣄⠙⠷⣤⡀⠀⠀⠀⠀                          \n",
      "                           ⠀⠀⠀⣠⡾⠛⠉⠀⠀⠀⠀⠀⠀⠀⠈⠙⠻⣿⣷⣄⠘⢿⡄⠀⠀⠀                          \n",
      "                           ⠀⢀⡾⠋⠀⠀⠀⠀⠀⠀⠀⠀⠐⠂⠠⢄⡀⠈⢿⣿⣧⠈⢿⡄⠀⠀                          \n",
      "                           ⢀⠏⠀⠀⠀⢀⠄⣀⣴⣾⠿⠛⠛⠛⠷⣦⡙⢦⠀⢻⣿⡆⠘⡇⠀⠀                          \n",
      "                           ⠀⠀⠀+-+-+-+-+-+-+-+-+-+-+-+⡇⠀⠀                           \n",
      "                           ⠀⠀⠀|S|Y|N|T|H|E|S|I|Z|E|R|⠃⠀⠀                           \n",
      "                           ⠀⠀⢰+-+-+-+-+-+-+-+-+-+-+-+⠀⠀⠀                           \n",
      "                           ⠀⠀⢸⡇⠸⣿⣷⠀⢳⡈⢿⣦⣀⣀⣀⣠⣴⣾⠟⠁⠀⠀⠀⠀⢀⡎                          \n",
      "                           ⠀⠀⠘⣷⠀⢻⣿⣧⠀⠙⠢⠌⢉⣛⠛⠋⠉⠀⠀⠀⠀⠀⠀⣠⠎⠀                          \n",
      "                           ⠀⠀⠀⠹⣧⡀⠻⣿⣷⣄⡀⠀⠀⠀⠀⠀⠀⠀⠀⠀⢀⣠⡾⠃⠀⠀                          \n",
      "                           ⠀⠀⠀⠀⠈⠻⣤⡈⠻⢿⣿⣷⣦⣤⣤⣤⣤⣤⣴⡾⠛⠉⠀⠀⠀⠀                          \n",
      "                           ⠀⠀⠀⠀⠀⠀⠈⠙⠶⢤⣈⣉⠛⠛⠛⠛⠋⠉⠀⠀⠀⠀⠀⠀⠀⠀                          \n",
      "                           ⠀⠀⠀⠀⠀⠀⠀⠀⠀⠀⠀⠀⠉⠉⠉⠁⠀⠀⠀⠀⠀⠀⠀⠀⠀⠀                          \n",
      "                                                                               \n",
      "\n",
      "<class 'synthesizer.parametric.galaxy.Galaxy'>\n",
      "log10(stellar mass formed/Msol):             9.5\n",
      "available SEDs: \n",
      "    Stellar:  [incident, transmitted, nebular, reprocessed, intrinsic, \n",
      "               emergent]\n",
      "    Combined: [black_holes, stars, total]\n",
      "available lines: []\n",
      "available images: []\n",
      "-------------------------------------------------------------------------------\n",
      "\n"
     ]
    },
    {
     "data": {
      "image/png": "[encoded data removed]",
      "text/plain": [
       "<Figure size 640x480 with 1 Axes>"
      ]
     },
     "metadata": {},
     "output_type": "display_data"
    }
   ],
   "source": [
    "\n",
    "# Make images\n",
    "img = galaxy.make_images(\n",
    "    resolution=resolution,\n",
    "    filters=filters,\n",
    "    sed=galaxy.stars.spectra[\"incident\"],\n",
    "    # npix=npix,\n",
    "    fov=fov,\n",
    ")\n",
    "\n",
    "print(galaxy)\n",
    "\n",
    "# Make and plot an rgb image\n",
    "img.make_rgb_image(rgb_filters={\"R\" : 'J',\n",
    "                                \"G\" : 'V',\n",
    "                                \"B\" : 'U'})\n",
    "fig, ax, _ = img.plot_rgb_image(show=True)"
   ]
  }
 ],
 "metadata": {
  "kernelspec": {
   "display_name": "venv",
   "language": "python",
   "name": "python3"
  },
  "language_info": {
   "codemirror_mode": {
    "name": "ipython",
    "version": 3
   },
   "file_extension": ".py",
   "mimetype": "text/x-python",
   "name": "python",
   "nbconvert_exporter": "python",
   "pygments_lexer": "ipython3",
   "version": "3.10.13"
  },
  "vscode": {
   "interpreter": {
    "hash": "3fbdfee1eda89f517d14c65aaeb395605ea48cc827c54c8ae1828e532ec42817"
   }
  }
 },
 "nbformat": 4,
 "nbformat_minor": 5
}
