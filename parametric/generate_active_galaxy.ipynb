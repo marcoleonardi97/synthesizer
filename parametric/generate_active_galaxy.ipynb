{
 "cells": [
  {
   "attachments": {},
   "cell_type": "markdown",
   "id": "ba211680-a2c0-4f33-a431-4ff581c251b5",
   "metadata": {},
   "source": [
    "# Generate composite galaxy\n",
    "\n",
    "Finall, in this example we're going to demonstrate how to make a composite galaxy, including with imaging. For more information on defining parametric morphology see the Imaging examples."
   ]
  },
  {
   "cell_type": "code",
   "execution_count": 1,
   "id": "2a773383-be4c-49d8-9baf-a04d84dba68b",
   "metadata": {
    "execution": {
     "iopub.execute_input": "2023-12-01T08:55:06.529042Z",
     "iopub.status.busy": "2023-12-01T08:55:06.528853Z",
     "iopub.status.idle": "2023-12-01T08:55:08.488462Z",
     "shell.execute_reply": "2023-12-01T08:55:08.487754Z"
    }
   },
   "outputs": [],
   "source": [
    "from unyt import yr, Myr, kpc, mas, Msun, Angstrom, deg\n",
    "import matplotlib.pyplot as plt\n",
    "import numpy as np\n",
    "from synthesizer.grid import Grid\n",
    "from synthesizer.parametric.morphology import Sersic2D, PointSource\n",
    "from synthesizer.parametric import SFH, ZDist, Stars\n",
    "from synthesizer.parametric.galaxy import Galaxy\n",
    "from synthesizer.blackholes import UnifiedAGN\n",
    "from synthesizer.parametric import BlackHoles\n",
    "from synthesizer.sed import plot_spectra\n",
    "from synthesizer.filters import UVJ"
   ]
  },
  {
   "attachments": {},
   "cell_type": "markdown",
   "id": "903fea3f",
   "metadata": {},
   "source": [
    "Let's begin by defining the geometry of the images:"
   ]
  },
  {
   "cell_type": "code",
   "execution_count": 2,
   "id": "fa6d1c47-e456-43c4-ae77-e3c8811b636d",
   "metadata": {
    "execution": {
     "iopub.execute_input": "2023-12-01T08:55:08.491833Z",
     "iopub.status.busy": "2023-12-01T08:55:08.491380Z",
     "iopub.status.idle": "2023-12-01T08:55:08.495435Z",
     "shell.execute_reply": "2023-12-01T08:55:08.494826Z"
    }
   },
   "outputs": [],
   "source": [
    "# Define geometry of the images\n",
    "resolution = 0.1 * kpc  # resolution in kpc\n",
    "npix = 50\n",
    "fov = resolution * npix"
   ]
  },
  {
   "attachments": {},
   "cell_type": "markdown",
   "id": "aa60e956",
   "metadata": {},
   "source": [
    "Define the `grid_dir`:"
   ]
  },
  {
   "cell_type": "code",
   "execution_count": 3,
   "id": "7e358ca5",
   "metadata": {
    "execution": {
     "iopub.execute_input": "2023-12-01T08:55:08.498189Z",
     "iopub.status.busy": "2023-12-01T08:55:08.497775Z",
     "iopub.status.idle": "2023-12-01T08:55:08.501021Z",
     "shell.execute_reply": "2023-12-01T08:55:08.500410Z"
    }
   },
   "outputs": [],
   "source": [
    "grid_dir = '../../../tests/test_grid'"
   ]
  },
  {
   "attachments": {},
   "cell_type": "markdown",
   "id": "86fd926d-fe81-4b44-9b18-56b0e05f2fc7",
   "metadata": {},
   "source": [
    "## The Stars\n",
    "\n",
    "Let's first build the stellar component of our galaxy, including setting the morphology so we can make an image later."
   ]
  },
  {
   "attachments": {},
   "cell_type": "markdown",
   "id": "89ccc344",
   "metadata": {},
   "source": [
    "First define the grid. We need this to create our star formation and metal enrichment history."
   ]
  },
  {
   "cell_type": "code",
   "execution_count": 4,
   "id": "3ae48d36",
   "metadata": {
    "execution": {
     "iopub.execute_input": "2023-12-01T08:55:08.504127Z",
     "iopub.status.busy": "2023-12-01T08:55:08.503670Z",
     "iopub.status.idle": "2023-12-01T08:55:08.585873Z",
     "shell.execute_reply": "2023-12-01T08:55:08.585195Z"
    }
   },
   "outputs": [],
   "source": [
    "grid_name = 'test_grid'\n",
    "grid = Grid(grid_name, grid_dir=grid_dir)"
   ]
  },
  {
   "attachments": {},
   "cell_type": "markdown",
   "id": "884544c5",
   "metadata": {},
   "source": [
    "Let's define our star formation and metal enrichment history:"
   ]
  },
  {
   "cell_type": "code",
   "execution_count": 5,
   "id": "93205536-a548-474c-a898-77b6c5b5d121",
   "metadata": {
    "execution": {
     "iopub.execute_input": "2023-12-01T08:55:08.589174Z",
     "iopub.status.busy": "2023-12-01T08:55:08.588719Z",
     "iopub.status.idle": "2023-12-01T08:55:08.593231Z",
     "shell.execute_reply": "2023-12-01T08:55:08.592600Z"
    }
   },
   "outputs": [],
   "source": [
    "sfh_p = {'duration': 10 * Myr}\n",
    "Z_p = {'log10metallicity': -2.0}  # can also use linear metallicity e.g. {'Z': 0.01}\n",
    "stellar_mass = 10 ** 9.5\n",
    "sfh = SFH.Constant(**sfh_p)  # constant star formation\n",
    "metal_dist = ZDist.DeltaConstant(**Z_p)  # constant metallicity"
   ]
  },
  {
   "attachments": {},
   "cell_type": "markdown",
   "id": "868f01f9",
   "metadata": {},
   "source": [
    "Next, let's define the morphology:"
   ]
  },
  {
   "cell_type": "code",
   "execution_count": 6,
   "id": "d9ccb893-b4e6-40cc-9559-48aaed45bf6f",
   "metadata": {
    "execution": {
     "iopub.execute_input": "2023-12-01T08:55:08.595761Z",
     "iopub.status.busy": "2023-12-01T08:55:08.595419Z",
     "iopub.status.idle": "2023-12-01T08:55:08.598972Z",
     "shell.execute_reply": "2023-12-01T08:55:08.598367Z"
    }
   },
   "outputs": [],
   "source": [
    "morph = Sersic2D(r_eff=1.*kpc, sersic_index=1., ellipticity=0.5, theta=35.)"
   ]
  },
  {
   "attachments": {},
   "cell_type": "markdown",
   "id": "3acd583f",
   "metadata": {},
   "source": [
    "Now let's initialise our stars object:"
   ]
  },
  {
   "cell_type": "code",
   "execution_count": 7,
   "id": "5472bae9",
   "metadata": {
    "execution": {
     "iopub.execute_input": "2023-12-01T08:55:08.601777Z",
     "iopub.status.busy": "2023-12-01T08:55:08.601410Z",
     "iopub.status.idle": "2023-12-01T08:55:08.609966Z",
     "shell.execute_reply": "2023-12-01T08:55:08.609351Z"
    }
   },
   "outputs": [],
   "source": [
    "# Get the 2D star formation and metal enrichment history for the given SPS grid. This is (age, Z).\n",
    "stars = Stars(\n",
    "    grid.log10age, grid.metallicity, sf_hist=sfh, metal_dist=metal_dist, initial_mass=stellar_mass, morphology=morph\n",
    ")"
   ]
  },
  {
   "attachments": {},
   "cell_type": "markdown",
   "id": "2139bf48",
   "metadata": {},
   "source": [
    "Now generate the stellar spectra:"
   ]
  },
  {
   "cell_type": "code",
   "execution_count": 8,
   "id": "cbdb421a",
   "metadata": {
    "execution": {
     "iopub.execute_input": "2023-12-01T08:55:08.612700Z",
     "iopub.status.busy": "2023-12-01T08:55:08.612202Z",
     "iopub.status.idle": "2023-12-01T08:55:08.624284Z",
     "shell.execute_reply": "2023-12-01T08:55:08.623707Z"
    }
   },
   "outputs": [
    {
     "data": {
      "text/plain": [
       "<synthesizer.sed.Sed at 0x7f80dc603ac0>"
      ]
     },
     "execution_count": 8,
     "metadata": {},
     "output_type": "execute_result"
    }
   ],
   "source": [
    "stars.get_spectra_pacman(grid, tau_v = 0.5, alpha=-1)"
   ]
  },
  {
   "attachments": {},
   "cell_type": "markdown",
   "id": "c5dae235",
   "metadata": {},
   "source": [
    "## The blackholes"
   ]
  },
  {
   "attachments": {},
   "cell_type": "markdown",
   "id": "03a8d537",
   "metadata": {},
   "source": [
    "Let's define the properties of our blackholes. We don't need to define the morphology since blackholes automatically assume a `PointSource` geometry."
   ]
  },
  {
   "cell_type": "code",
   "execution_count": 9,
   "id": "3908a4b6-7d7b-486c-972f-6ba9524be96e",
   "metadata": {
    "execution": {
     "iopub.execute_input": "2023-12-01T08:55:08.627062Z",
     "iopub.status.busy": "2023-12-01T08:55:08.626713Z",
     "iopub.status.idle": "2023-12-01T08:55:08.638555Z",
     "shell.execute_reply": "2023-12-01T08:55:08.637941Z"
    }
   },
   "outputs": [],
   "source": [
    "black_hole = BlackHoles(mass=1E8*Msun, inclination=15*deg, accretion_rate=1.*Msun/yr, metallicity=0.01)"
   ]
  },
  {
   "attachments": {},
   "cell_type": "markdown",
   "id": "5fe09c51",
   "metadata": {},
   "source": [
    "Next, let's define the emission model and generate the spectra."
   ]
  },
  {
   "cell_type": "code",
   "execution_count": 10,
   "id": "0bea91e3",
   "metadata": {
    "execution": {
     "iopub.execute_input": "2023-12-01T08:55:08.641531Z",
     "iopub.status.busy": "2023-12-01T08:55:08.641134Z",
     "iopub.status.idle": "2023-12-01T08:55:08.809102Z",
     "shell.execute_reply": "2023-12-01T08:55:08.808430Z"
    }
   },
   "outputs": [
    {
     "name": "stderr",
     "output_type": "stream",
     "text": [
      "/opt/hostedtoolcache/Python/3.10.13/x64/lib/python3.10/site-packages/unyt/array.py:1813: RuntimeWarning: overflow encountered in exp\n",
      "  out_arr = func(np.asarray(inp), out=out_func, **kwargs)\n"
     ]
    },
    {
     "data": {
      "text/plain": [
       "{'disc_incident': <synthesizer.sed.Sed at 0x7f8090f41f00>,\n",
       " 'disc_transmitted': <synthesizer.sed.Sed at 0x7f80dc600b80>,\n",
       " 'disc_escaped': <synthesizer.sed.Sed at 0x7f8090eeae30>,\n",
       " 'disc': <synthesizer.sed.Sed at 0x7f8090eeac20>,\n",
       " 'blr': <synthesizer.sed.Sed at 0x7f8090eeb4c0>,\n",
       " 'nlr': <synthesizer.sed.Sed at 0x7f8090eeae90>,\n",
       " 'torus': <synthesizer.sed.Sed at 0x7f8090eeb0d0>,\n",
       " 'total': <synthesizer.sed.Sed at 0x7f80dc603af0>}"
      ]
     },
     "execution_count": 10,
     "metadata": {},
     "output_type": "execute_result"
    }
   ],
   "source": [
    "emission_model = UnifiedAGN(disc_model='test_grid_agn', photoionisation_model='', grid_dir=grid_dir)\n",
    "\n",
    "# get the spectra assuming this emission model\n",
    "black_hole.get_spectra(emission_model)"
   ]
  },
  {
   "attachments": {},
   "cell_type": "markdown",
   "id": "bc6a6b46",
   "metadata": {},
   "source": [
    "## The Galaxy"
   ]
  },
  {
   "attachments": {},
   "cell_type": "markdown",
   "id": "5e835351-ed22-41d7-9c97-ea2824ec10eb",
   "metadata": {},
   "source": [
    "Initialise the Galaxy object, make an image and plot it. In this case, we can make a colour image using our UVJ filters:"
   ]
  },
  {
   "cell_type": "code",
   "execution_count": 11,
   "id": "4df2837c-42be-40f2-b14e-17ec4e440a91",
   "metadata": {
    "execution": {
     "iopub.execute_input": "2023-12-01T08:55:08.811813Z",
     "iopub.status.busy": "2023-12-01T08:55:08.811610Z",
     "iopub.status.idle": "2023-12-01T08:55:08.815237Z",
     "shell.execute_reply": "2023-12-01T08:55:08.814583Z"
    }
   },
   "outputs": [
    {
     "name": "stdout",
     "output_type": "stream",
     "text": [
      "-------------------------------------------------------------------------------\n",
      "                            SUMMARY OF PARAMETRIC GALAXY                           \n",
      "                           ⠀⠀⠀⠀⠀⠀⠀⠀⠀⠀⢀⣀⣀⡀⠒⠒⠦⣄⡀⠀⠀⠀⠀⠀⠀⠀                          \n",
      "                           ⠀⠀⠀⠀⠀⢀⣤⣶⡾⠿⠿⠿⠿⣿⣿⣶⣦⣄⠙⠷⣤⡀⠀⠀⠀⠀                          \n",
      "                           ⠀⠀⠀⣠⡾⠛⠉⠀⠀⠀⠀⠀⠀⠀⠈⠙⠻⣿⣷⣄⠘⢿⡄⠀⠀⠀                          \n",
      "                           ⠀⢀⡾⠋⠀⠀⠀⠀⠀⠀⠀⠀⠐⠂⠠⢄⡀⠈⢿⣿⣧⠈⢿⡄⠀⠀                          \n",
      "                           ⢀⠏⠀⠀⠀⢀⠄⣀⣴⣾⠿⠛⠛⠛⠷⣦⡙⢦⠀⢻⣿⡆⠘⡇⠀⠀                          \n",
      "                           ⠀⠀⠀+-+-+-+-+-+-+-+-+-+-+-+⡇⠀⠀                           \n",
      "                           ⠀⠀⠀|S|Y|N|T|H|E|S|I|Z|E|R|⠃⠀⠀                           \n",
      "                           ⠀⠀⢰+-+-+-+-+-+-+-+-+-+-+-+⠀⠀⠀                           \n",
      "                           ⠀⠀⢸⡇⠸⣿⣷⠀⢳⡈⢿⣦⣀⣀⣀⣠⣴⣾⠟⠁⠀⠀⠀⠀⢀⡎                          \n",
      "                           ⠀⠀⠘⣷⠀⢻⣿⣧⠀⠙⠢⠌⢉⣛⠛⠋⠉⠀⠀⠀⠀⠀⠀⣠⠎⠀                          \n",
      "                           ⠀⠀⠀⠹⣧⡀⠻⣿⣷⣄⡀⠀⠀⠀⠀⠀⠀⠀⠀⠀⢀⣠⡾⠃⠀⠀                          \n",
      "                           ⠀⠀⠀⠀⠈⠻⣤⡈⠻⢿⣿⣷⣦⣤⣤⣤⣤⣤⣴⡾⠛⠉⠀⠀⠀⠀                          \n",
      "                           ⠀⠀⠀⠀⠀⠀⠈⠙⠶⢤⣈⣉⠛⠛⠛⠛⠋⠉⠀⠀⠀⠀⠀⠀⠀⠀                          \n",
      "                           ⠀⠀⠀⠀⠀⠀⠀⠀⠀⠀⠀⠀⠉⠉⠉⠁⠀⠀⠀⠀⠀⠀⠀⠀⠀⠀                          \n",
      "                                                                               \n",
      "\n",
      "<class 'synthesizer.parametric.galaxy.Galaxy'>\n",
      "log10(stellar mass formed/Msol):             9.5\n",
      "available SEDs: \n",
      "    Stellar:  [incident, transmitted, nebular, reprocessed, intrinsic, \n",
      "               emergent]\n",
      "    Combined: []\n",
      "available lines: []\n",
      "available images: []\n",
      "-------------------------------------------------------------------------------\n",
      "\n"
     ]
    }
   ],
   "source": [
    "# Initialise Galaxy object\n",
    "galaxy = Galaxy(stars=stars, black_holes=black_hole)\n",
    "print(galaxy)"
   ]
  },
  {
   "cell_type": "code",
   "execution_count": 12,
   "id": "b227cd24",
   "metadata": {
    "execution": {
     "iopub.execute_input": "2023-12-01T08:55:08.817418Z",
     "iopub.status.busy": "2023-12-01T08:55:08.817219Z",
     "iopub.status.idle": "2023-12-01T08:55:08.820866Z",
     "shell.execute_reply": "2023-12-01T08:55:08.820330Z"
    }
   },
   "outputs": [],
   "source": [
    "galaxy.spectra = {}\n",
    "galaxy.spectra['black_holes'] = galaxy.black_holes.spectra['total']\n",
    "galaxy.spectra['stars'] = galaxy.stars.spectra['attenuated']\n",
    "galaxy.spectra['total'] = galaxy.spectra['stars'] + galaxy.spectra['black_holes']"
   ]
  },
  {
   "attachments": {},
   "cell_type": "markdown",
   "id": "14650033",
   "metadata": {},
   "source": [
    "### Spectra"
   ]
  },
  {
   "attachments": {},
   "cell_type": "markdown",
   "id": "4373f52a",
   "metadata": {},
   "source": [
    "We can use the `plot_spectra` function to make a quick spectrum of the galaxy. "
   ]
  },
  {
   "cell_type": "code",
   "execution_count": 13,
   "id": "064cb20a",
   "metadata": {
    "execution": {
     "iopub.execute_input": "2023-12-01T08:55:08.823334Z",
     "iopub.status.busy": "2023-12-01T08:55:08.823097Z",
     "iopub.status.idle": "2023-12-01T08:55:09.471316Z",
     "shell.execute_reply": "2023-12-01T08:55:09.470616Z"
    }
   },
   "outputs": [
    {
     "data": {
      "text/plain": [
       "(<Figure size 350x500 with 1 Axes>,\n",
       " <Axes: xlabel='$\\\\lambda/[\\\\mathrm{Å}]$', ylabel='$L_{\\\\nu}/[\\\\mathrm{erg\\\\ / \\\\ (Hz \\\\ s)}]$'>)"
      ]
     },
     "execution_count": 13,
     "metadata": {},
     "output_type": "execute_result"
    },
    {
     "data": {
      "image/png": "[encoded data removed]",
      "text/plain": [
       "<Figure size 350x500 with 1 Axes>"
      ]
     },
     "metadata": {},
     "output_type": "display_data"
    }
   ],
   "source": [
    "plot_spectra(galaxy.spectra)"
   ]
  },
  {
   "cell_type": "code",
   "execution_count": null,
   "id": "8cd0f9fa",
   "metadata": {},
   "outputs": [],
   "source": []
  },
  {
   "attachments": {},
   "cell_type": "markdown",
   "id": "b7c90101",
   "metadata": {},
   "source": [
    "### Images"
   ]
  },
  {
   "attachments": {},
   "cell_type": "markdown",
   "id": "e898e354",
   "metadata": {},
   "source": [
    "Let's define some filters."
   ]
  },
  {
   "cell_type": "code",
   "execution_count": 14,
   "id": "dd0a9b76",
   "metadata": {
    "execution": {
     "iopub.execute_input": "2023-12-01T08:55:09.474210Z",
     "iopub.status.busy": "2023-12-01T08:55:09.474004Z",
     "iopub.status.idle": "2023-12-01T08:55:09.480229Z",
     "shell.execute_reply": "2023-12-01T08:55:09.479690Z"
    }
   },
   "outputs": [],
   "source": [
    "filters = UVJ(new_lam=grid.lam)"
   ]
  },
  {
   "attachments": {},
   "cell_type": "markdown",
   "id": "94a5750a",
   "metadata": {},
   "source": [
    "Let's look at the total spectra."
   ]
  },
  {
   "attachments": {},
   "cell_type": "markdown",
   "id": "b0667dcf",
   "metadata": {},
   "source": [
    "Now let's make some images."
   ]
  },
  {
   "cell_type": "code",
   "execution_count": 15,
   "id": "3d55eef8",
   "metadata": {
    "execution": {
     "iopub.execute_input": "2023-12-01T08:55:09.482825Z",
     "iopub.status.busy": "2023-12-01T08:55:09.482465Z",
     "iopub.status.idle": "2023-12-01T08:55:09.523117Z",
     "shell.execute_reply": "2023-12-01T08:55:09.522418Z"
    }
   },
   "outputs": [
    {
     "name": "stdout",
     "output_type": "stream",
     "text": [
      "-------------------------------------------------------------------------------\n",
      "                            SUMMARY OF PARAMETRIC GALAXY                           \n",
      "                           ⠀⠀⠀⠀⠀⠀⠀⠀⠀⠀⢀⣀⣀⡀⠒⠒⠦⣄⡀⠀⠀⠀⠀⠀⠀⠀                          \n",
      "                           ⠀⠀⠀⠀⠀⢀⣤⣶⡾⠿⠿⠿⠿⣿⣿⣶⣦⣄⠙⠷⣤⡀⠀⠀⠀⠀                          \n",
      "                           ⠀⠀⠀⣠⡾⠛⠉⠀⠀⠀⠀⠀⠀⠀⠈⠙⠻⣿⣷⣄⠘⢿⡄⠀⠀⠀                          \n",
      "                           ⠀⢀⡾⠋⠀⠀⠀⠀⠀⠀⠀⠀⠐⠂⠠⢄⡀⠈⢿⣿⣧⠈⢿⡄⠀⠀                          \n",
      "                           ⢀⠏⠀⠀⠀⢀⠄⣀⣴⣾⠿⠛⠛⠛⠷⣦⡙⢦⠀⢻⣿⡆⠘⡇⠀⠀                          \n",
      "                           ⠀⠀⠀+-+-+-+-+-+-+-+-+-+-+-+⡇⠀⠀                           \n",
      "                           ⠀⠀⠀|S|Y|N|T|H|E|S|I|Z|E|R|⠃⠀⠀                           \n",
      "                           ⠀⠀⢰+-+-+-+-+-+-+-+-+-+-+-+⠀⠀⠀                           \n",
      "                           ⠀⠀⢸⡇⠸⣿⣷⠀⢳⡈⢿⣦⣀⣀⣀⣠⣴⣾⠟⠁⠀⠀⠀⠀⢀⡎                          \n",
      "                           ⠀⠀⠘⣷⠀⢻⣿⣧⠀⠙⠢⠌⢉⣛⠛⠋⠉⠀⠀⠀⠀⠀⠀⣠⠎⠀                          \n",
      "                           ⠀⠀⠀⠹⣧⡀⠻⣿⣷⣄⡀⠀⠀⠀⠀⠀⠀⠀⠀⠀⢀⣠⡾⠃⠀⠀                          \n",
      "                           ⠀⠀⠀⠀⠈⠻⣤⡈⠻⢿⣿⣷⣦⣤⣤⣤⣤⣤⣴⡾⠛⠉⠀⠀⠀⠀                          \n",
      "                           ⠀⠀⠀⠀⠀⠀⠈⠙⠶⢤⣈⣉⠛⠛⠛⠛⠋⠉⠀⠀⠀⠀⠀⠀⠀⠀                          \n",
      "                           ⠀⠀⠀⠀⠀⠀⠀⠀⠀⠀⠀⠀⠉⠉⠉⠁⠀⠀⠀⠀⠀⠀⠀⠀⠀⠀                          \n",
      "                                                                               \n",
      "\n",
      "<class 'synthesizer.parametric.galaxy.Galaxy'>\n",
      "log10(stellar mass formed/Msol):             9.5\n",
      "available SEDs: \n",
      "    Stellar:  [incident, transmitted, nebular, reprocessed, intrinsic, \n",
      "               emergent]\n",
      "    Combined: [black_holes, stars, total]\n",
      "available lines: []\n",
      "available images: []\n",
      "-------------------------------------------------------------------------------\n",
      "\n"
     ]
    },
    {
     "data": {
      "image/png": "[encoded data removed]",
      "text/plain": [
       "<Figure size 640x480 with 1 Axes>"
      ]
     },
     "metadata": {},
     "output_type": "display_data"
    }
   ],
   "source": [
    "\n",
    "# Make images\n",
    "img = galaxy.make_images(\n",
    "    resolution=resolution,\n",
    "    filters=filters,\n",
    "    sed=galaxy.stars.spectra[\"incident\"],\n",
    "    # npix=npix,\n",
    "    fov=fov,\n",
    ")\n",
    "\n",
    "print(galaxy)\n",
    "\n",
    "# Make and plot an rgb image\n",
    "img.make_rgb_image(rgb_filters={\"R\" : 'J',\n",
    "                                \"G\" : 'V',\n",
    "                                \"B\" : 'U'})\n",
    "fig, ax, _ = img.plot_rgb_image(show=True)"
   ]
  }
 ],
 "metadata": {
  "kernelspec": {
   "display_name": "venv",
   "language": "python",
   "name": "python3"
  },
  "language_info": {
   "codemirror_mode": {
    "name": "ipython",
    "version": 3
   },
   "file_extension": ".py",
   "mimetype": "text/x-python",
   "name": "python",
   "nbconvert_exporter": "python",
   "pygments_lexer": "ipython3",
   "version": "3.10.13"
  },
  "vscode": {
   "interpreter": {
    "hash": "3fbdfee1eda89f517d14c65aaeb395605ea48cc827c54c8ae1828e532ec42817"
   }
  }
 },
 "nbformat": 4,
 "nbformat_minor": 5
}
