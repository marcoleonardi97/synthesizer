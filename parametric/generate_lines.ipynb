{
 "cells": [
  {
   "attachments": {},
   "cell_type": "markdown",
   "metadata": {},
   "source": [
    "# Generating Lines from a Parametric Galaxy\n",
    "\n",
    "In this tutorial we're going to generate emission line predictions for a parametric galaxy. For more information on lines see the grid/lines tutorial.\n"
   ]
  },
  {
   "cell_type": "code",
   "execution_count": 1,
   "metadata": {
    "execution": {
     "iopub.execute_input": "2024-02-06T15:26:59.359007Z",
     "iopub.status.busy": "2024-02-06T15:26:59.358809Z",
     "iopub.status.idle": "2024-02-06T15:27:01.196672Z",
     "shell.execute_reply": "2024-02-06T15:27:01.196015Z"
    }
   },
   "outputs": [],
   "source": [
    "import os\n",
    "from unyt import yr, Myr\n",
    "from synthesizer.units import Units\n",
    "from synthesizer.grid import Grid\n",
    "from synthesizer.parametric import SFH, ZDist, Stars\n",
    "from synthesizer.parametric.galaxy import Galaxy"
   ]
  },
  {
   "attachments": {},
   "cell_type": "markdown",
   "metadata": {},
   "source": [
    "Begin by defining and initialising the grid. By setting `read_spectra` to `False` we can avoid reading in the spectra reducing the memory footprint."
   ]
  },
  {
   "cell_type": "code",
   "execution_count": 2,
   "metadata": {
    "execution": {
     "iopub.execute_input": "2024-02-06T15:27:01.200003Z",
     "iopub.status.busy": "2024-02-06T15:27:01.199476Z",
     "iopub.status.idle": "2024-02-06T15:27:01.235574Z",
     "shell.execute_reply": "2024-02-06T15:27:01.234910Z"
    }
   },
   "outputs": [],
   "source": [
    "grid_name = \"test_grid\"\n",
    "grid_dir = \"../../../tests/test_grid/\"\n",
    "grid = Grid(grid_name, grid_dir=grid_dir, read_spectra=False)"
   ]
  },
  {
   "attachments": {},
   "cell_type": "markdown",
   "metadata": {},
   "source": [
    "Let's now build a galaxy following the other tutorials:"
   ]
  },
  {
   "cell_type": "code",
   "execution_count": 3,
   "metadata": {
    "execution": {
     "iopub.execute_input": "2024-02-06T15:27:01.238052Z",
     "iopub.status.busy": "2024-02-06T15:27:01.237848Z",
     "iopub.status.idle": "2024-02-06T15:27:01.248723Z",
     "shell.execute_reply": "2024-02-06T15:27:01.248085Z"
    }
   },
   "outputs": [
    {
     "name": "stdout",
     "output_type": "stream",
     "text": [
      "-------------------------------------------------------------------------------\n",
      "                            SUMMARY OF PARAMETRIC GALAXY                           \n",
      "                           ⠀⠀⠀⠀⠀⠀⠀⠀⠀⠀⢀⣀⣀⡀⠒⠒⠦⣄⡀⠀⠀⠀⠀⠀⠀⠀                          \n",
      "                           ⠀⠀⠀⠀⠀⢀⣤⣶⡾⠿⠿⠿⠿⣿⣿⣶⣦⣄⠙⠷⣤⡀⠀⠀⠀⠀                          \n",
      "                           ⠀⠀⠀⣠⡾⠛⠉⠀⠀⠀⠀⠀⠀⠀⠈⠙⠻⣿⣷⣄⠘⢿⡄⠀⠀⠀                          \n",
      "                           ⠀⢀⡾⠋⠀⠀⠀⠀⠀⠀⠀⠀⠐⠂⠠⢄⡀⠈⢿⣿⣧⠈⢿⡄⠀⠀                          \n",
      "                           ⢀⠏⠀⠀⠀⢀⠄⣀⣴⣾⠿⠛⠛⠛⠷⣦⡙⢦⠀⢻⣿⡆⠘⡇⠀⠀                          \n",
      "                           ⠀⠀⠀+-+-+-+-+-+-+-+-+-+-+-+⡇⠀⠀                           \n",
      "                           ⠀⠀⠀|S|Y|N|T|H|E|S|I|Z|E|R|⠃⠀⠀                           \n",
      "                           ⠀⠀⢰+-+-+-+-+-+-+-+-+-+-+-+⠀⠀⠀                           \n",
      "                           ⠀⠀⢸⡇⠸⣿⣷⠀⢳⡈⢿⣦⣀⣀⣀⣠⣴⣾⠟⠁⠀⠀⠀⠀⢀⡎                          \n",
      "                           ⠀⠀⠘⣷⠀⢻⣿⣧⠀⠙⠢⠌⢉⣛⠛⠋⠉⠀⠀⠀⠀⠀⠀⣠⠎⠀                          \n",
      "                           ⠀⠀⠀⠹⣧⡀⠻⣿⣷⣄⡀⠀⠀⠀⠀⠀⠀⠀⠀⠀⢀⣠⡾⠃⠀⠀                          \n",
      "                           ⠀⠀⠀⠀⠈⠻⣤⡈⠻⢿⣿⣷⣦⣤⣤⣤⣤⣤⣴⡾⠛⠉⠀⠀⠀⠀                          \n",
      "                           ⠀⠀⠀⠀⠀⠀⠈⠙⠶⢤⣈⣉⠛⠛⠛⠛⠋⠉⠀⠀⠀⠀⠀⠀⠀⠀                          \n",
      "                           ⠀⠀⠀⠀⠀⠀⠀⠀⠀⠀⠀⠀⠉⠉⠉⠁⠀⠀⠀⠀⠀⠀⠀⠀⠀⠀                          \n",
      "                                                                               \n",
      "\n",
      "<class 'synthesizer.parametric.galaxy.Galaxy'>\n",
      "log10(stellar mass formed/Msol):             8.5\n",
      "available SEDs: \n",
      "    Stellar:  []\n",
      "    Black Holes:  []\n",
      "    Combined: []\n",
      "available lines: []\n",
      "available images: []\n",
      "-------------------------------------------------------------------------------\n",
      "\n"
     ]
    }
   ],
   "source": [
    "# define the functional form of the star formation and metal enrichment histories\n",
    "sfh = SFH.Constant(duration=100 * Myr)  # constant star formation\n",
    "metal_dist = ZDist.DeltaConstant(log10metallicity=-2.0)  # constant metallicity\n",
    "\n",
    "# get the 2D star formation and metal enrichment history for the given SPS grid. This is (age, Z).\n",
    "stars = Stars(\n",
    "    grid.log10age,\n",
    "    grid.metallicity,\n",
    "    sf_hist=sfh,\n",
    "    metal_dist=metal_dist,\n",
    "    initial_mass=10**8.5,\n",
    ")\n",
    "\n",
    "# create the Galaxy object\n",
    "galaxy = Galaxy(stars)\n",
    "\n",
    "# print a summary of the Galaxy object\n",
    "print(galaxy)"
   ]
  },
  {
   "attachments": {},
   "cell_type": "markdown",
   "metadata": {},
   "source": [
    "Let's define a list of lines that we're interested in. Note that we can provide multiples which are automatically summed."
   ]
  },
  {
   "cell_type": "code",
   "execution_count": 4,
   "metadata": {
    "execution": {
     "iopub.execute_input": "2024-02-06T15:27:01.251276Z",
     "iopub.status.busy": "2024-02-06T15:27:01.250867Z",
     "iopub.status.idle": "2024-02-06T15:27:01.253905Z",
     "shell.execute_reply": "2024-02-06T15:27:01.253365Z"
    }
   },
   "outputs": [],
   "source": [
    "line_ids = [\n",
    "    \"H 1 4862.69A\",\n",
    "    \"O 3 4958.91A\",\n",
    "    \"O 3 5006.84A\",\n",
    "    [\"O 3 4958.91A\", \"O 3 5006.84A\"],\n",
    "]"
   ]
  },
  {
   "attachments": {},
   "cell_type": "markdown",
   "metadata": {},
   "source": [
    "Next, let's get the intrinsic line properties:"
   ]
  },
  {
   "cell_type": "code",
   "execution_count": 5,
   "metadata": {
    "execution": {
     "iopub.execute_input": "2024-02-06T15:27:01.256401Z",
     "iopub.status.busy": "2024-02-06T15:27:01.256019Z",
     "iopub.status.idle": "2024-02-06T15:27:01.267087Z",
     "shell.execute_reply": "2024-02-06T15:27:01.266452Z"
    }
   },
   "outputs": [],
   "source": [
    "lines = galaxy.stars.get_line_intrinsic(grid, line_ids)"
   ]
  },
  {
   "attachments": {},
   "cell_type": "markdown",
   "metadata": {},
   "source": [
    "This produces a LineCollection object which has some useful methods and information."
   ]
  },
  {
   "cell_type": "code",
   "execution_count": 6,
   "metadata": {
    "execution": {
     "iopub.execute_input": "2024-02-06T15:27:01.269711Z",
     "iopub.status.busy": "2024-02-06T15:27:01.269341Z",
     "iopub.status.idle": "2024-02-06T15:27:01.272572Z",
     "shell.execute_reply": "2024-02-06T15:27:01.271934Z"
    }
   },
   "outputs": [
    {
     "name": "stdout",
     "output_type": "stream",
     "text": [
      "----------\n",
      "LINE COLLECTION\n",
      "lines: ['H 1 4862.69A', 'O 3 4958.91A', 'O 3 5006.84A', 'O 3 4958.91A,O 3 5006.84A']\n",
      "available ratios: ('BalmerDecrement', 'N2', 'S2', 'O1', 'R2', 'R3', 'R23', 'O32', 'Ne3O2')\n",
      "available diagrams: ('OHNO', 'BPT-NII', 'VO78-SII', 'VO78-OI')\n",
      "----------\n"
     ]
    }
   ],
   "source": [
    "print(lines)"
   ]
  },
  {
   "attachments": {},
   "cell_type": "markdown",
   "metadata": {},
   "source": [
    "Those lines are now associated with the `Galaxy` object, revealed by using the print function:"
   ]
  },
  {
   "cell_type": "code",
   "execution_count": 7,
   "metadata": {
    "execution": {
     "iopub.execute_input": "2024-02-06T15:27:01.274919Z",
     "iopub.status.busy": "2024-02-06T15:27:01.274722Z",
     "iopub.status.idle": "2024-02-06T15:27:01.278138Z",
     "shell.execute_reply": "2024-02-06T15:27:01.277503Z"
    }
   },
   "outputs": [
    {
     "name": "stdout",
     "output_type": "stream",
     "text": [
      "-------------------------------------------------------------------------------\n",
      "                            SUMMARY OF PARAMETRIC GALAXY                           \n",
      "                           ⠀⠀⠀⠀⠀⠀⠀⠀⠀⠀⢀⣀⣀⡀⠒⠒⠦⣄⡀⠀⠀⠀⠀⠀⠀⠀                          \n",
      "                           ⠀⠀⠀⠀⠀⢀⣤⣶⡾⠿⠿⠿⠿⣿⣿⣶⣦⣄⠙⠷⣤⡀⠀⠀⠀⠀                          \n",
      "                           ⠀⠀⠀⣠⡾⠛⠉⠀⠀⠀⠀⠀⠀⠀⠈⠙⠻⣿⣷⣄⠘⢿⡄⠀⠀⠀                          \n",
      "                           ⠀⢀⡾⠋⠀⠀⠀⠀⠀⠀⠀⠀⠐⠂⠠⢄⡀⠈⢿⣿⣧⠈⢿⡄⠀⠀                          \n",
      "                           ⢀⠏⠀⠀⠀⢀⠄⣀⣴⣾⠿⠛⠛⠛⠷⣦⡙⢦⠀⢻⣿⡆⠘⡇⠀⠀                          \n",
      "                           ⠀⠀⠀+-+-+-+-+-+-+-+-+-+-+-+⡇⠀⠀                           \n",
      "                           ⠀⠀⠀|S|Y|N|T|H|E|S|I|Z|E|R|⠃⠀⠀                           \n",
      "                           ⠀⠀⢰+-+-+-+-+-+-+-+-+-+-+-+⠀⠀⠀                           \n",
      "                           ⠀⠀⢸⡇⠸⣿⣷⠀⢳⡈⢿⣦⣀⣀⣀⣠⣴⣾⠟⠁⠀⠀⠀⠀⢀⡎                          \n",
      "                           ⠀⠀⠘⣷⠀⢻⣿⣧⠀⠙⠢⠌⢉⣛⠛⠋⠉⠀⠀⠀⠀⠀⠀⣠⠎⠀                          \n",
      "                           ⠀⠀⠀⠹⣧⡀⠻⣿⣷⣄⡀⠀⠀⠀⠀⠀⠀⠀⠀⠀⢀⣠⡾⠃⠀⠀                          \n",
      "                           ⠀⠀⠀⠀⠈⠻⣤⡈⠻⢿⣿⣷⣦⣤⣤⣤⣤⣤⣴⡾⠛⠉⠀⠀⠀⠀                          \n",
      "                           ⠀⠀⠀⠀⠀⠀⠈⠙⠶⢤⣈⣉⠛⠛⠛⠛⠋⠉⠀⠀⠀⠀⠀⠀⠀⠀                          \n",
      "                           ⠀⠀⠀⠀⠀⠀⠀⠀⠀⠀⠀⠀⠉⠉⠉⠁⠀⠀⠀⠀⠀⠀⠀⠀⠀⠀                          \n",
      "                                                                               \n",
      "\n",
      "<class 'synthesizer.parametric.galaxy.Galaxy'>\n",
      "log10(stellar mass formed/Msol):             8.5\n",
      "available SEDs: \n",
      "    Stellar:  []\n",
      "    Black Holes:  []\n",
      "    Combined: []\n",
      "available lines: [intrinsic]\n",
      "available images: []\n",
      "-------------------------------------------------------------------------------\n",
      "\n"
     ]
    }
   ],
   "source": [
    "print(galaxy)"
   ]
  },
  {
   "cell_type": "markdown",
   "metadata": {},
   "source": [
    "Next, lets get the attenuated line properties:"
   ]
  },
  {
   "cell_type": "code",
   "execution_count": 8,
   "metadata": {
    "execution": {
     "iopub.execute_input": "2024-02-06T15:27:01.280835Z",
     "iopub.status.busy": "2024-02-06T15:27:01.280366Z",
     "iopub.status.idle": "2024-02-06T15:27:01.284779Z",
     "shell.execute_reply": "2024-02-06T15:27:01.284132Z"
    }
   },
   "outputs": [
    {
     "name": "stdout",
     "output_type": "stream",
     "text": [
      "----------\n",
      "LINE COLLECTION\n",
      "lines: ['H 1 4862.69A', 'O 3 4958.91A', 'O 3 5006.84A', 'O 3 4958.91A,O 3 5006.84A']\n",
      "available ratios: ('BalmerDecrement', 'N2', 'S2', 'O1', 'R2', 'R3', 'R23', 'O32', 'Ne3O2')\n",
      "available diagrams: ('OHNO', 'BPT-NII', 'VO78-SII', 'VO78-OI')\n",
      "----------\n"
     ]
    }
   ],
   "source": [
    "lines_att = galaxy.stars.get_line_attenuated(\n",
    "    grid, line_ids, fesc=0.0, tau_v_BC=0.0, tau_v_ISM=0.5\n",
    ")\n",
    "print(lines_att)"
   ]
  }
 ],
 "metadata": {
  "kernelspec": {
   "display_name": "synthesizer-env",
   "language": "python",
   "name": "python3"
  },
  "language_info": {
   "codemirror_mode": {
    "name": "ipython",
    "version": 3
   },
   "file_extension": ".py",
   "mimetype": "text/x-python",
   "name": "python",
   "nbconvert_exporter": "python",
   "pygments_lexer": "ipython3",
   "version": "3.10.13"
  }
 },
 "nbformat": 4,
 "nbformat_minor": 2
}
