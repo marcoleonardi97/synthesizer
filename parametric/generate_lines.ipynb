{
 "cells": [
  {
   "attachments": {},
   "cell_type": "markdown",
   "metadata": {},
   "source": [
    "# Generating Lines from a Parametric Galaxy\n",
    "\n",
    "In this tutorial we're going to generate emission line predictions for a parametric galaxy. For more information on lines see the grid/lines tutorial.\n"
   ]
  },
  {
   "cell_type": "code",
   "execution_count": 1,
   "metadata": {
    "execution": {
     "iopub.execute_input": "2024-02-06T15:16:34.086870Z",
     "iopub.status.busy": "2024-02-06T15:16:34.086640Z",
     "iopub.status.idle": "2024-02-06T15:16:35.953465Z",
     "shell.execute_reply": "2024-02-06T15:16:35.952837Z"
    }
   },
   "outputs": [],
   "source": [
    "import os\n",
    "from unyt import yr, Myr\n",
    "from synthesizer.units import Units\n",
    "from synthesizer.grid import Grid\n",
    "from synthesizer.parametric import SFH, ZDist, Stars\n",
    "from synthesizer.parametric.galaxy import Galaxy"
   ]
  },
  {
   "attachments": {},
   "cell_type": "markdown",
   "metadata": {},
   "source": [
    "Begin by defining and initialising the grid. By setting `read_spectra` to `False` we can avoid reading in the spectra reducing the memory footprint."
   ]
  },
  {
   "cell_type": "code",
   "execution_count": 2,
   "metadata": {
    "execution": {
     "iopub.execute_input": "2024-02-06T15:16:35.956736Z",
     "iopub.status.busy": "2024-02-06T15:16:35.956285Z",
     "iopub.status.idle": "2024-02-06T15:16:35.993613Z",
     "shell.execute_reply": "2024-02-06T15:16:35.993001Z"
    }
   },
   "outputs": [],
   "source": [
    "grid_name = \"test_grid\"\n",
    "grid_dir = \"../../../tests/test_grid/\"\n",
    "grid = Grid(grid_name, grid_dir=grid_dir, read_spectra=False)"
   ]
  },
  {
   "attachments": {},
   "cell_type": "markdown",
   "metadata": {},
   "source": [
    "Let's now build a galaxy following the other tutorials:"
   ]
  },
  {
   "cell_type": "code",
   "execution_count": 3,
   "metadata": {
    "execution": {
     "iopub.execute_input": "2024-02-06T15:16:35.996264Z",
     "iopub.status.busy": "2024-02-06T15:16:35.996066Z",
     "iopub.status.idle": "2024-02-06T15:16:36.006952Z",
     "shell.execute_reply": "2024-02-06T15:16:36.006291Z"
    }
   },
   "outputs": [
    {
     "name": "stdout",
     "output_type": "stream",
     "text": [
      "-------------------------------------------------------------------------------\n",
      "                            SUMMARY OF PARAMETRIC GALAXY                           \n",
      "                           ⠀⠀⠀⠀⠀⠀⠀⠀⠀⠀⢀⣀⣀⡀⠒⠒⠦⣄⡀⠀⠀⠀⠀⠀⠀⠀                          \n",
      "                           ⠀⠀⠀⠀⠀⢀⣤⣶⡾⠿⠿⠿⠿⣿⣿⣶⣦⣄⠙⠷⣤⡀⠀⠀⠀⠀                          \n",
      "                           ⠀⠀⠀⣠⡾⠛⠉⠀⠀⠀⠀⠀⠀⠀⠈⠙⠻⣿⣷⣄⠘⢿⡄⠀⠀⠀                          \n",
      "                           ⠀⢀⡾⠋⠀⠀⠀⠀⠀⠀⠀⠀⠐⠂⠠⢄⡀⠈⢿⣿⣧⠈⢿⡄⠀⠀                          \n",
      "                           ⢀⠏⠀⠀⠀⢀⠄⣀⣴⣾⠿⠛⠛⠛⠷⣦⡙⢦⠀⢻⣿⡆⠘⡇⠀⠀                          \n",
      "                           ⠀⠀⠀+-+-+-+-+-+-+-+-+-+-+-+⡇⠀⠀                           \n",
      "                           ⠀⠀⠀|S|Y|N|T|H|E|S|I|Z|E|R|⠃⠀⠀                           \n",
      "                           ⠀⠀⢰+-+-+-+-+-+-+-+-+-+-+-+⠀⠀⠀                           \n",
      "                           ⠀⠀⢸⡇⠸⣿⣷⠀⢳⡈⢿⣦⣀⣀⣀⣠⣴⣾⠟⠁⠀⠀⠀⠀⢀⡎                          \n",
      "                           ⠀⠀⠘⣷⠀⢻⣿⣧⠀⠙⠢⠌⢉⣛⠛⠋⠉⠀⠀⠀⠀⠀⠀⣠⠎⠀                          \n",
      "                           ⠀⠀⠀⠹⣧⡀⠻⣿⣷⣄⡀⠀⠀⠀⠀⠀⠀⠀⠀⠀⢀⣠⡾⠃⠀⠀                          \n",
      "                           ⠀⠀⠀⠀⠈⠻⣤⡈⠻⢿⣿⣷⣦⣤⣤⣤⣤⣤⣴⡾⠛⠉⠀⠀⠀⠀                          \n",
      "                           ⠀⠀⠀⠀⠀⠀⠈⠙⠶⢤⣈⣉⠛⠛⠛⠛⠋⠉⠀⠀⠀⠀⠀⠀⠀⠀                          \n",
      "                           ⠀⠀⠀⠀⠀⠀⠀⠀⠀⠀⠀⠀⠉⠉⠉⠁⠀⠀⠀⠀⠀⠀⠀⠀⠀⠀                          \n",
      "                                                                               \n",
      "\n",
      "<class 'synthesizer.parametric.galaxy.Galaxy'>\n",
      "log10(stellar mass formed/Msol):             8.5\n",
      "available SEDs: \n",
      "    Stellar:  []\n",
      "    Black Holes:  []\n",
      "    Combined: []\n",
      "available lines: []\n",
      "available images: []\n",
      "-------------------------------------------------------------------------------\n",
      "\n"
     ]
    }
   ],
   "source": [
    "# define the functional form of the star formation and metal enrichment histories\n",
    "sfh = SFH.Constant(duration=100 * Myr)  # constant star formation\n",
    "metal_dist = ZDist.DeltaConstant(log10metallicity=-2.0)  # constant metallicity\n",
    "\n",
    "# get the 2D star formation and metal enrichment history for the given SPS grid. This is (age, Z).\n",
    "stars = Stars(\n",
    "    grid.log10age,\n",
    "    grid.metallicity,\n",
    "    sf_hist=sfh,\n",
    "    metal_dist=metal_dist,\n",
    "    initial_mass=10**8.5,\n",
    ")\n",
    "\n",
    "# create the Galaxy object\n",
    "galaxy = Galaxy(stars)\n",
    "\n",
    "# print a summary of the Galaxy object\n",
    "print(galaxy)"
   ]
  },
  {
   "attachments": {},
   "cell_type": "markdown",
   "metadata": {},
   "source": [
    "Let's define a list of lines that we're interested in. Note that we can provide multiples which are automatically summed."
   ]
  },
  {
   "cell_type": "code",
   "execution_count": 4,
   "metadata": {
    "execution": {
     "iopub.execute_input": "2024-02-06T15:16:36.009514Z",
     "iopub.status.busy": "2024-02-06T15:16:36.009160Z",
     "iopub.status.idle": "2024-02-06T15:16:36.012014Z",
     "shell.execute_reply": "2024-02-06T15:16:36.011465Z"
    }
   },
   "outputs": [],
   "source": [
    "line_ids = [\n",
    "    \"H 1 4862.69A\",\n",
    "    \"O 3 4958.91A\",\n",
    "    \"O 3 5006.84A\",\n",
    "    [\"O 3 4958.91A\", \"O 3 5006.84A\"],\n",
    "]"
   ]
  },
  {
   "attachments": {},
   "cell_type": "markdown",
   "metadata": {},
   "source": [
    "Next, let's get the intrinsic line properties:"
   ]
  },
  {
   "cell_type": "code",
   "execution_count": 5,
   "metadata": {
    "execution": {
     "iopub.execute_input": "2024-02-06T15:16:36.014580Z",
     "iopub.status.busy": "2024-02-06T15:16:36.014203Z",
     "iopub.status.idle": "2024-02-06T15:16:36.026406Z",
     "shell.execute_reply": "2024-02-06T15:16:36.025880Z"
    }
   },
   "outputs": [],
   "source": [
    "lines = galaxy.stars.get_line_intrinsic(grid, line_ids)"
   ]
  },
  {
   "attachments": {},
   "cell_type": "markdown",
   "metadata": {},
   "source": [
    "This produces a LineCollection object which has some useful methods and information."
   ]
  },
  {
   "cell_type": "code",
   "execution_count": 6,
   "metadata": {
    "execution": {
     "iopub.execute_input": "2024-02-06T15:16:36.028864Z",
     "iopub.status.busy": "2024-02-06T15:16:36.028503Z",
     "iopub.status.idle": "2024-02-06T15:16:36.031802Z",
     "shell.execute_reply": "2024-02-06T15:16:36.031169Z"
    }
   },
   "outputs": [
    {
     "name": "stdout",
     "output_type": "stream",
     "text": [
      "----------\n",
      "LINE COLLECTION\n",
      "lines: ['H 1 4862.69A', 'O 3 4958.91A', 'O 3 5006.84A', 'O 3 4958.91A,O 3 5006.84A']\n",
      "available ratios: ('BalmerDecrement', 'N2', 'S2', 'O1', 'R2', 'R3', 'R23', 'O32', 'Ne3O2')\n",
      "available diagrams: ('OHNO', 'BPT-NII', 'VO78-SII', 'VO78-OI')\n",
      "----------\n"
     ]
    }
   ],
   "source": [
    "print(lines)"
   ]
  },
  {
   "attachments": {},
   "cell_type": "markdown",
   "metadata": {},
   "source": [
    "Those lines are now associated with the `Galaxy` object, revealed by using the print function:"
   ]
  },
  {
   "cell_type": "code",
   "execution_count": 7,
   "metadata": {
    "execution": {
     "iopub.execute_input": "2024-02-06T15:16:36.034500Z",
     "iopub.status.busy": "2024-02-06T15:16:36.033995Z",
     "iopub.status.idle": "2024-02-06T15:16:36.037439Z",
     "shell.execute_reply": "2024-02-06T15:16:36.036809Z"
    }
   },
   "outputs": [
    {
     "name": "stdout",
     "output_type": "stream",
     "text": [
      "-------------------------------------------------------------------------------\n",
      "                            SUMMARY OF PARAMETRIC GALAXY                           \n",
      "                           ⠀⠀⠀⠀⠀⠀⠀⠀⠀⠀⢀⣀⣀⡀⠒⠒⠦⣄⡀⠀⠀⠀⠀⠀⠀⠀                          \n",
      "                           ⠀⠀⠀⠀⠀⢀⣤⣶⡾⠿⠿⠿⠿⣿⣿⣶⣦⣄⠙⠷⣤⡀⠀⠀⠀⠀                          \n",
      "                           ⠀⠀⠀⣠⡾⠛⠉⠀⠀⠀⠀⠀⠀⠀⠈⠙⠻⣿⣷⣄⠘⢿⡄⠀⠀⠀                          \n",
      "                           ⠀⢀⡾⠋⠀⠀⠀⠀⠀⠀⠀⠀⠐⠂⠠⢄⡀⠈⢿⣿⣧⠈⢿⡄⠀⠀                          \n",
      "                           ⢀⠏⠀⠀⠀⢀⠄⣀⣴⣾⠿⠛⠛⠛⠷⣦⡙⢦⠀⢻⣿⡆⠘⡇⠀⠀                          \n",
      "                           ⠀⠀⠀+-+-+-+-+-+-+-+-+-+-+-+⡇⠀⠀                           \n",
      "                           ⠀⠀⠀|S|Y|N|T|H|E|S|I|Z|E|R|⠃⠀⠀                           \n",
      "                           ⠀⠀⢰+-+-+-+-+-+-+-+-+-+-+-+⠀⠀⠀                           \n",
      "                           ⠀⠀⢸⡇⠸⣿⣷⠀⢳⡈⢿⣦⣀⣀⣀⣠⣴⣾⠟⠁⠀⠀⠀⠀⢀⡎                          \n",
      "                           ⠀⠀⠘⣷⠀⢻⣿⣧⠀⠙⠢⠌⢉⣛⠛⠋⠉⠀⠀⠀⠀⠀⠀⣠⠎⠀                          \n",
      "                           ⠀⠀⠀⠹⣧⡀⠻⣿⣷⣄⡀⠀⠀⠀⠀⠀⠀⠀⠀⠀⢀⣠⡾⠃⠀⠀                          \n",
      "                           ⠀⠀⠀⠀⠈⠻⣤⡈⠻⢿⣿⣷⣦⣤⣤⣤⣤⣤⣴⡾⠛⠉⠀⠀⠀⠀                          \n",
      "                           ⠀⠀⠀⠀⠀⠀⠈⠙⠶⢤⣈⣉⠛⠛⠛⠛⠋⠉⠀⠀⠀⠀⠀⠀⠀⠀                          \n",
      "                           ⠀⠀⠀⠀⠀⠀⠀⠀⠀⠀⠀⠀⠉⠉⠉⠁⠀⠀⠀⠀⠀⠀⠀⠀⠀⠀                          \n",
      "                                                                               \n",
      "\n",
      "<class 'synthesizer.parametric.galaxy.Galaxy'>\n",
      "log10(stellar mass formed/Msol):             8.5\n",
      "available SEDs: \n",
      "    Stellar:  []\n",
      "    Black Holes:  []\n",
      "    Combined: []\n",
      "available lines: [intrinsic]\n",
      "available images: []\n",
      "-------------------------------------------------------------------------------\n",
      "\n"
     ]
    }
   ],
   "source": [
    "print(galaxy)"
   ]
  },
  {
   "cell_type": "markdown",
   "metadata": {},
   "source": [
    "Next, lets get the attenuated line properties:"
   ]
  },
  {
   "cell_type": "code",
   "execution_count": 8,
   "metadata": {
    "execution": {
     "iopub.execute_input": "2024-02-06T15:16:36.039954Z",
     "iopub.status.busy": "2024-02-06T15:16:36.039578Z",
     "iopub.status.idle": "2024-02-06T15:16:36.044071Z",
     "shell.execute_reply": "2024-02-06T15:16:36.043433Z"
    }
   },
   "outputs": [
    {
     "name": "stdout",
     "output_type": "stream",
     "text": [
      "----------\n",
      "LINE COLLECTION\n",
      "lines: ['H 1 4862.69A', 'O 3 4958.91A', 'O 3 5006.84A', 'O 3 4958.91A,O 3 5006.84A']\n",
      "available ratios: ('BalmerDecrement', 'N2', 'S2', 'O1', 'R2', 'R3', 'R23', 'O32', 'Ne3O2')\n",
      "available diagrams: ('OHNO', 'BPT-NII', 'VO78-SII', 'VO78-OI')\n",
      "----------\n"
     ]
    }
   ],
   "source": [
    "lines_att = galaxy.stars.get_line_attenuated(\n",
    "    grid, line_ids, fesc=0.0, tau_v_BC=0.0, tau_v_ISM=0.5\n",
    ")\n",
    "print(lines_att)"
   ]
  }
 ],
 "metadata": {
  "kernelspec": {
   "display_name": "synthesizer-env",
   "language": "python",
   "name": "python3"
  },
  "language_info": {
   "codemirror_mode": {
    "name": "ipython",
    "version": 3
   },
   "file_extension": ".py",
   "mimetype": "text/x-python",
   "name": "python",
   "nbconvert_exporter": "python",
   "pygments_lexer": "ipython3",
   "version": "3.10.13"
  }
 },
 "nbformat": 4,
 "nbformat_minor": 2
}
