{
 "cells": [
  {
   "attachments": {},
   "cell_type": "markdown",
   "metadata": {},
   "source": [
    "# Generating Lines from a Parametric Galaxy\n",
    "\n",
    "In this tutorial we're going to generate emission line predictions for a parametric galaxy. For more information on lines see the grid/lines tutorial.\n"
   ]
  },
  {
   "cell_type": "code",
   "execution_count": 1,
   "metadata": {
    "execution": {
     "iopub.execute_input": "2024-05-08T08:26:32.088544Z",
     "iopub.status.busy": "2024-05-08T08:26:32.088348Z",
     "iopub.status.idle": "2024-05-08T08:26:33.925522Z",
     "shell.execute_reply": "2024-05-08T08:26:33.924786Z"
    }
   },
   "outputs": [],
   "source": [
    "import synthesizer.line_ratios as line_ratios\n",
    "from synthesizer.grid import Grid\n",
    "from synthesizer.parametric import SFH, Stars, ZDist\n",
    "from synthesizer.parametric.galaxy import Galaxy\n",
    "from unyt import Myr"
   ]
  },
  {
   "attachments": {},
   "cell_type": "markdown",
   "metadata": {},
   "source": [
    "Begin by defining and initialising the grid. By setting `read_spectra` to `False` we can avoid reading in the spectra reducing the memory footprint."
   ]
  },
  {
   "cell_type": "code",
   "execution_count": 2,
   "metadata": {
    "execution": {
     "iopub.execute_input": "2024-05-08T08:26:33.929115Z",
     "iopub.status.busy": "2024-05-08T08:26:33.928558Z",
     "iopub.status.idle": "2024-05-08T08:26:34.044271Z",
     "shell.execute_reply": "2024-05-08T08:26:34.043525Z"
    }
   },
   "outputs": [],
   "source": [
    "grid_name = \"test_grid\"\n",
    "grid_dir = \"../../../tests/test_grid/\"\n",
    "grid = Grid(grid_name, grid_dir=grid_dir, read_spectra=False)"
   ]
  },
  {
   "attachments": {},
   "cell_type": "markdown",
   "metadata": {},
   "source": [
    "Let's now build a galaxy following the other tutorials:"
   ]
  },
  {
   "cell_type": "code",
   "execution_count": 3,
   "metadata": {
    "execution": {
     "iopub.execute_input": "2024-05-08T08:26:34.047991Z",
     "iopub.status.busy": "2024-05-08T08:26:34.047513Z",
     "iopub.status.idle": "2024-05-08T08:26:34.058111Z",
     "shell.execute_reply": "2024-05-08T08:26:34.057424Z"
    }
   },
   "outputs": [
    {
     "name": "stdout",
     "output_type": "stream",
     "text": [
      "-------------------------------------------------------------------------------\n",
      "                            SUMMARY OF PARAMETRIC GALAXY                           \n",
      "                           ⠀⠀⠀⠀⠀⠀⠀⠀⠀⠀⢀⣀⣀⡀⠒⠒⠦⣄⡀⠀⠀⠀⠀⠀⠀⠀                          \n",
      "                           ⠀⠀⠀⠀⠀⢀⣤⣶⡾⠿⠿⠿⠿⣿⣿⣶⣦⣄⠙⠷⣤⡀⠀⠀⠀⠀                          \n",
      "                           ⠀⠀⠀⣠⡾⠛⠉⠀⠀⠀⠀⠀⠀⠀⠈⠙⠻⣿⣷⣄⠘⢿⡄⠀⠀⠀                          \n",
      "                           ⠀⢀⡾⠋⠀⠀⠀⠀⠀⠀⠀⠀⠐⠂⠠⢄⡀⠈⢿⣿⣧⠈⢿⡄⠀⠀                          \n",
      "                           ⢀⠏⠀⠀⠀⢀⠄⣀⣴⣾⠿⠛⠛⠛⠷⣦⡙⢦⠀⢻⣿⡆⠘⡇⠀⠀                          \n",
      "                           ⠀⠀⠀+-+-+-+-+-+-+-+-+-+-+-+⡇⠀⠀                           \n",
      "                           ⠀⠀⠀|S|Y|N|T|H|E|S|I|Z|E|R|⠃⠀⠀                           \n",
      "                           ⠀⠀⢰+-+-+-+-+-+-+-+-+-+-+-+⠀⠀⠀                           \n",
      "                           ⠀⠀⢸⡇⠸⣿⣷⠀⢳⡈⢿⣦⣀⣀⣀⣠⣴⣾⠟⠁⠀⠀⠀⠀⢀⡎                          \n",
      "                           ⠀⠀⠘⣷⠀⢻⣿⣧⠀⠙⠢⠌⢉⣛⠛⠋⠉⠀⠀⠀⠀⠀⠀⣠⠎⠀                          \n",
      "                           ⠀⠀⠀⠹⣧⡀⠻⣿⣷⣄⡀⠀⠀⠀⠀⠀⠀⠀⠀⠀⢀⣠⡾⠃⠀⠀                          \n",
      "                           ⠀⠀⠀⠀⠈⠻⣤⡈⠻⢿⣿⣷⣦⣤⣤⣤⣤⣤⣴⡾⠛⠉⠀⠀⠀⠀                          \n",
      "                           ⠀⠀⠀⠀⠀⠀⠈⠙⠶⢤⣈⣉⠛⠛⠛⠛⠋⠉⠀⠀⠀⠀⠀⠀⠀⠀                          \n",
      "                           ⠀⠀⠀⠀⠀⠀⠀⠀⠀⠀⠀⠀⠉⠉⠉⠁⠀⠀⠀⠀⠀⠀⠀⠀⠀⠀                          \n",
      "                                                                               \n",
      "\n",
      "<class 'synthesizer.parametric.galaxy.Galaxy'>\n",
      "log10(stellar mass formed/Msol):             8.5\n",
      "available SEDs: \n",
      "    Stellar:  []\n",
      "    Black Holes:  []\n",
      "    Combined: []\n",
      "available lines: []\n",
      "available images: []\n",
      "-------------------------------------------------------------------------------\n",
      "\n"
     ]
    }
   ],
   "source": [
    "# Define the functional form of the star formation and metal\n",
    "# enrichment histories\n",
    "\n",
    "# Constant star formation\n",
    "sfh = SFH.Constant(duration=100 * Myr)\n",
    "\n",
    "# Constant metallicity\n",
    "metal_dist = ZDist.DeltaConstant(log10metallicity=-2.0)\n",
    "\n",
    "# Get the 2D star formation and metal enrichment history\n",
    "# for the given SPS grid. This is (age, Z).\n",
    "stars = Stars(\n",
    "    grid.log10age,\n",
    "    grid.metallicity,\n",
    "    sf_hist=sfh,\n",
    "    metal_dist=metal_dist,\n",
    "    initial_mass=10**8.5,\n",
    ")\n",
    "\n",
    "# Create the Galaxy object\n",
    "galaxy = Galaxy(stars)\n",
    "\n",
    "# Print a summary of the Galaxy object\n",
    "print(galaxy)"
   ]
  },
  {
   "attachments": {},
   "cell_type": "markdown",
   "metadata": {},
   "source": [
    "Let's define a list of lines that we're interested in. Note that we can provide multiples which are automatically summed as if they were blended."
   ]
  },
  {
   "cell_type": "code",
   "execution_count": 4,
   "metadata": {
    "execution": {
     "iopub.execute_input": "2024-05-08T08:26:34.060930Z",
     "iopub.status.busy": "2024-05-08T08:26:34.060495Z",
     "iopub.status.idle": "2024-05-08T08:26:34.064275Z",
     "shell.execute_reply": "2024-05-08T08:26:34.063643Z"
    }
   },
   "outputs": [],
   "source": [
    "line_ids = [\n",
    "    line_ratios.Hb,  # \"H 1 4861.32A\"\n",
    "    line_ratios.O3b,  # \"O 3 4958.91A\"\n",
    "    line_ratios.O3r,  # \"O 3 5006.84A\"\n",
    "    line_ratios.O3,  # [\"O 3 4958.91A\", \"O 3 5006.84A\"]\n",
    "    line_ratios.O3\n",
    "    + \",\"\n",
    "    + line_ratios.Hb,  # [\"O 3 4958.91A\", \"O 3 5006.84A\", \"H 1 4861.32A\"]\n",
    "]"
   ]
  },
  {
   "attachments": {},
   "cell_type": "markdown",
   "metadata": {},
   "source": [
    "Next, let's get the intrinsic line properties:"
   ]
  },
  {
   "cell_type": "code",
   "execution_count": 5,
   "metadata": {
    "execution": {
     "iopub.execute_input": "2024-05-08T08:26:34.066828Z",
     "iopub.status.busy": "2024-05-08T08:26:34.066488Z",
     "iopub.status.idle": "2024-05-08T08:26:34.085709Z",
     "shell.execute_reply": "2024-05-08T08:26:34.085090Z"
    }
   },
   "outputs": [],
   "source": [
    "lines = galaxy.stars.get_line_intrinsic(grid, line_ids)"
   ]
  },
  {
   "attachments": {},
   "cell_type": "markdown",
   "metadata": {},
   "source": [
    "This produces a LineCollection object which has some useful methods and information."
   ]
  },
  {
   "cell_type": "code",
   "execution_count": 6,
   "metadata": {
    "execution": {
     "iopub.execute_input": "2024-05-08T08:26:34.088456Z",
     "iopub.status.busy": "2024-05-08T08:26:34.088154Z",
     "iopub.status.idle": "2024-05-08T08:26:34.091403Z",
     "shell.execute_reply": "2024-05-08T08:26:34.090764Z"
    }
   },
   "outputs": [
    {
     "name": "stdout",
     "output_type": "stream",
     "text": [
      "----------\n",
      "LINE COLLECTION\n",
      "number of lines: 5\n",
      "lines: ['H 1 4861.32A' 'O 3 4958.91A,O 3 5006.84A,H 1 4861.32A' 'O 3 4958.91A'\n",
      " 'O 3 4958.91A,O 3 5006.84A' 'O 3 5006.84A']\n",
      "available ratios: ['R3']\n",
      "available diagrams: []\n",
      "----------\n"
     ]
    }
   ],
   "source": [
    "print(lines)"
   ]
  },
  {
   "attachments": {},
   "cell_type": "markdown",
   "metadata": {},
   "source": [
    "Let's now examine individual lines (or doublets):"
   ]
  },
  {
   "cell_type": "code",
   "execution_count": 7,
   "metadata": {
    "execution": {
     "iopub.execute_input": "2024-05-08T08:26:34.093994Z",
     "iopub.status.busy": "2024-05-08T08:26:34.093620Z",
     "iopub.status.idle": "2024-05-08T08:26:34.098271Z",
     "shell.execute_reply": "2024-05-08T08:26:34.097643Z"
    }
   },
   "outputs": [
    {
     "name": "stdout",
     "output_type": "stream",
     "text": [
      "----------\n",
      "SUMMARY OF H 1 4861.32A\n",
      "wavelength: 4861.3 Å\n",
      "Npart: 1\n",
      "<log10(luminosity/erg/s)>: 41.55\n",
      "<equivalent width>: 98 Å\n",
      "----------\n",
      "----------\n",
      "SUMMARY OF O 3 4958.91A,O 3 5006.84A,H 1 4861.32A\n",
      "wavelength: 4942.4 Å\n",
      "Npart: 1\n",
      "<log10(luminosity/erg/s)>: 42.44\n",
      "<equivalent width>: 694 Å\n",
      "----------\n",
      "----------\n",
      "SUMMARY OF O 3 4958.91A\n",
      "wavelength: 4958.9 Å\n",
      "Npart: 1\n",
      "<log10(luminosity/erg/s)>: 41.77\n",
      "<equivalent width>: 145 Å\n",
      "----------\n",
      "----------\n",
      "SUMMARY OF O 3 4958.91A,O 3 5006.84A\n",
      "wavelength: 4982.9 Å\n",
      "Npart: 1\n",
      "<log10(luminosity/erg/s)>: 42.37\n",
      "<equivalent width>: 584 Å\n",
      "----------\n",
      "----------\n",
      "SUMMARY OF O 3 5006.84A\n",
      "wavelength: 5006.8 Å\n",
      "Npart: 1\n",
      "<log10(luminosity/erg/s)>: 42.25\n",
      "<equivalent width>: 443 Å\n",
      "----------\n"
     ]
    }
   ],
   "source": [
    "for line in lines:\n",
    "    print(line)"
   ]
  },
  {
   "attachments": {},
   "cell_type": "markdown",
   "metadata": {},
   "source": [
    "Those lines are now associated with the `Galaxy` object, revealed by using the print function:"
   ]
  },
  {
   "cell_type": "code",
   "execution_count": 8,
   "metadata": {
    "execution": {
     "iopub.execute_input": "2024-05-08T08:26:34.100811Z",
     "iopub.status.busy": "2024-05-08T08:26:34.100435Z",
     "iopub.status.idle": "2024-05-08T08:26:34.103624Z",
     "shell.execute_reply": "2024-05-08T08:26:34.102969Z"
    }
   },
   "outputs": [
    {
     "name": "stdout",
     "output_type": "stream",
     "text": [
      "-------------------------------------------------------------------------------\n",
      "                            SUMMARY OF PARAMETRIC GALAXY                           \n",
      "                           ⠀⠀⠀⠀⠀⠀⠀⠀⠀⠀⢀⣀⣀⡀⠒⠒⠦⣄⡀⠀⠀⠀⠀⠀⠀⠀                          \n",
      "                           ⠀⠀⠀⠀⠀⢀⣤⣶⡾⠿⠿⠿⠿⣿⣿⣶⣦⣄⠙⠷⣤⡀⠀⠀⠀⠀                          \n",
      "                           ⠀⠀⠀⣠⡾⠛⠉⠀⠀⠀⠀⠀⠀⠀⠈⠙⠻⣿⣷⣄⠘⢿⡄⠀⠀⠀                          \n",
      "                           ⠀⢀⡾⠋⠀⠀⠀⠀⠀⠀⠀⠀⠐⠂⠠⢄⡀⠈⢿⣿⣧⠈⢿⡄⠀⠀                          \n",
      "                           ⢀⠏⠀⠀⠀⢀⠄⣀⣴⣾⠿⠛⠛⠛⠷⣦⡙⢦⠀⢻⣿⡆⠘⡇⠀⠀                          \n",
      "                           ⠀⠀⠀+-+-+-+-+-+-+-+-+-+-+-+⡇⠀⠀                           \n",
      "                           ⠀⠀⠀|S|Y|N|T|H|E|S|I|Z|E|R|⠃⠀⠀                           \n",
      "                           ⠀⠀⢰+-+-+-+-+-+-+-+-+-+-+-+⠀⠀⠀                           \n",
      "                           ⠀⠀⢸⡇⠸⣿⣷⠀⢳⡈⢿⣦⣀⣀⣀⣠⣴⣾⠟⠁⠀⠀⠀⠀⢀⡎                          \n",
      "                           ⠀⠀⠘⣷⠀⢻⣿⣧⠀⠙⠢⠌⢉⣛⠛⠋⠉⠀⠀⠀⠀⠀⠀⣠⠎⠀                          \n",
      "                           ⠀⠀⠀⠹⣧⡀⠻⣿⣷⣄⡀⠀⠀⠀⠀⠀⠀⠀⠀⠀⢀⣠⡾⠃⠀⠀                          \n",
      "                           ⠀⠀⠀⠀⠈⠻⣤⡈⠻⢿⣿⣷⣦⣤⣤⣤⣤⣤⣴⡾⠛⠉⠀⠀⠀⠀                          \n",
      "                           ⠀⠀⠀⠀⠀⠀⠈⠙⠶⢤⣈⣉⠛⠛⠛⠛⠋⠉⠀⠀⠀⠀⠀⠀⠀⠀                          \n",
      "                           ⠀⠀⠀⠀⠀⠀⠀⠀⠀⠀⠀⠀⠉⠉⠉⠁⠀⠀⠀⠀⠀⠀⠀⠀⠀⠀                          \n",
      "                                                                               \n",
      "\n",
      "<class 'synthesizer.parametric.galaxy.Galaxy'>\n",
      "log10(stellar mass formed/Msol):             8.5\n",
      "available SEDs: \n",
      "    Stellar:  []\n",
      "    Black Holes:  []\n",
      "    Combined: []\n",
      "available lines: [intrinsic]\n",
      "available images: []\n",
      "-------------------------------------------------------------------------------\n",
      "\n"
     ]
    }
   ],
   "source": [
    "print(galaxy)"
   ]
  },
  {
   "cell_type": "markdown",
   "metadata": {},
   "source": [
    "Next, lets get the attenuated line properties:"
   ]
  },
  {
   "cell_type": "code",
   "execution_count": 9,
   "metadata": {
    "execution": {
     "iopub.execute_input": "2024-05-08T08:26:34.106144Z",
     "iopub.status.busy": "2024-05-08T08:26:34.105778Z",
     "iopub.status.idle": "2024-05-08T08:26:34.110759Z",
     "shell.execute_reply": "2024-05-08T08:26:34.110101Z"
    }
   },
   "outputs": [
    {
     "name": "stdout",
     "output_type": "stream",
     "text": [
      "----------\n",
      "LINE COLLECTION\n",
      "number of lines: 5\n",
      "lines: ['H 1 4861.32A' 'O 3 4958.91A,O 3 5006.84A,H 1 4861.32A' 'O 3 4958.91A'\n",
      " 'O 3 4958.91A,O 3 5006.84A' 'O 3 5006.84A']\n",
      "available ratios: ['R3']\n",
      "available diagrams: []\n",
      "----------\n"
     ]
    }
   ],
   "source": [
    "lines_att = galaxy.stars.get_line_attenuated(\n",
    "    grid, line_ids, fesc=0.0, tau_v_nebular=0.0, tau_v_stellar=0.5\n",
    ")\n",
    "print(lines_att)"
   ]
  }
 ],
 "metadata": {
  "kernelspec": {
   "display_name": "venv",
   "language": "python",
   "name": "python3"
  },
  "language_info": {
   "codemirror_mode": {
    "name": "ipython",
    "version": 3
   },
   "file_extension": ".py",
   "mimetype": "text/x-python",
   "name": "python",
   "nbconvert_exporter": "python",
   "pygments_lexer": "ipython3",
   "version": "3.10.14"
  },
  "vscode": {
   "interpreter": {
    "hash": "3fbdfee1eda89f517d14c65aaeb395605ea48cc827c54c8ae1828e532ec42817"
   }
  }
 },
 "nbformat": 4,
 "nbformat_minor": 2
}
