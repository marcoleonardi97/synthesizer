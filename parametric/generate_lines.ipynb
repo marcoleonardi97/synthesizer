{
 "cells": [
  {
   "attachments": {},
   "cell_type": "markdown",
   "metadata": {},
   "source": [
    "# Generating Lines from a Parametric Galaxy\n",
    "\n",
    "In this tutorial we're going to generate emission line predictions for a parametric galaxy. For more information on lines see the grid/lines tutorial.\n"
   ]
  },
  {
   "cell_type": "code",
   "execution_count": 1,
   "metadata": {
    "execution": {
     "iopub.execute_input": "2023-12-05T09:47:30.065675Z",
     "iopub.status.busy": "2023-12-05T09:47:30.065497Z",
     "iopub.status.idle": "2023-12-05T09:47:32.086377Z",
     "shell.execute_reply": "2023-12-05T09:47:32.085763Z"
    }
   },
   "outputs": [],
   "source": [
    "import os\n",
    "from unyt import yr, Myr\n",
    "from synthesizer.units import Units\n",
    "from synthesizer.grid import Grid\n",
    "from synthesizer.parametric import SFH, ZDist, Stars\n",
    "from synthesizer.parametric.galaxy import Galaxy"
   ]
  },
  {
   "attachments": {},
   "cell_type": "markdown",
   "metadata": {},
   "source": [
    "Begin by defining and initialising the grid. By setting `read_spectra` to `False` we can avoid reading in the spectra reducing the memory footprint."
   ]
  },
  {
   "cell_type": "code",
   "execution_count": 2,
   "metadata": {
    "execution": {
     "iopub.execute_input": "2023-12-05T09:47:32.089635Z",
     "iopub.status.busy": "2023-12-05T09:47:32.089130Z",
     "iopub.status.idle": "2023-12-05T09:47:32.125477Z",
     "shell.execute_reply": "2023-12-05T09:47:32.124902Z"
    }
   },
   "outputs": [],
   "source": [
    "grid_name = \"test_grid\"\n",
    "grid_dir = \"../../../tests/test_grid/\"\n",
    "grid = Grid(grid_name, grid_dir=grid_dir, read_spectra=False)"
   ]
  },
  {
   "attachments": {},
   "cell_type": "markdown",
   "metadata": {},
   "source": [
    "Let's now build a galaxy following the other tutorials:"
   ]
  },
  {
   "cell_type": "code",
   "execution_count": 3,
   "metadata": {
    "execution": {
     "iopub.execute_input": "2023-12-05T09:47:32.128443Z",
     "iopub.status.busy": "2023-12-05T09:47:32.128038Z",
     "iopub.status.idle": "2023-12-05T09:47:32.138189Z",
     "shell.execute_reply": "2023-12-05T09:47:32.137559Z"
    }
   },
   "outputs": [
    {
     "name": "stdout",
     "output_type": "stream",
     "text": [
      "-------------------------------------------------------------------------------\n",
      "                            SUMMARY OF PARAMETRIC GALAXY                           \n",
      "                           ⠀⠀⠀⠀⠀⠀⠀⠀⠀⠀⢀⣀⣀⡀⠒⠒⠦⣄⡀⠀⠀⠀⠀⠀⠀⠀                          \n",
      "                           ⠀⠀⠀⠀⠀⢀⣤⣶⡾⠿⠿⠿⠿⣿⣿⣶⣦⣄⠙⠷⣤⡀⠀⠀⠀⠀                          \n",
      "                           ⠀⠀⠀⣠⡾⠛⠉⠀⠀⠀⠀⠀⠀⠀⠈⠙⠻⣿⣷⣄⠘⢿⡄⠀⠀⠀                          \n",
      "                           ⠀⢀⡾⠋⠀⠀⠀⠀⠀⠀⠀⠀⠐⠂⠠⢄⡀⠈⢿⣿⣧⠈⢿⡄⠀⠀                          \n",
      "                           ⢀⠏⠀⠀⠀⢀⠄⣀⣴⣾⠿⠛⠛⠛⠷⣦⡙⢦⠀⢻⣿⡆⠘⡇⠀⠀                          \n",
      "                           ⠀⠀⠀+-+-+-+-+-+-+-+-+-+-+-+⡇⠀⠀                           \n",
      "                           ⠀⠀⠀|S|Y|N|T|H|E|S|I|Z|E|R|⠃⠀⠀                           \n",
      "                           ⠀⠀⢰+-+-+-+-+-+-+-+-+-+-+-+⠀⠀⠀                           \n",
      "                           ⠀⠀⢸⡇⠸⣿⣷⠀⢳⡈⢿⣦⣀⣀⣀⣠⣴⣾⠟⠁⠀⠀⠀⠀⢀⡎                          \n",
      "                           ⠀⠀⠘⣷⠀⢻⣿⣧⠀⠙⠢⠌⢉⣛⠛⠋⠉⠀⠀⠀⠀⠀⠀⣠⠎⠀                          \n",
      "                           ⠀⠀⠀⠹⣧⡀⠻⣿⣷⣄⡀⠀⠀⠀⠀⠀⠀⠀⠀⠀⢀⣠⡾⠃⠀⠀                          \n",
      "                           ⠀⠀⠀⠀⠈⠻⣤⡈⠻⢿⣿⣷⣦⣤⣤⣤⣤⣤⣴⡾⠛⠉⠀⠀⠀⠀                          \n",
      "                           ⠀⠀⠀⠀⠀⠀⠈⠙⠶⢤⣈⣉⠛⠛⠛⠛⠋⠉⠀⠀⠀⠀⠀⠀⠀⠀                          \n",
      "                           ⠀⠀⠀⠀⠀⠀⠀⠀⠀⠀⠀⠀⠉⠉⠉⠁⠀⠀⠀⠀⠀⠀⠀⠀⠀⠀                          \n",
      "                                                                               \n",
      "\n",
      "<class 'synthesizer.parametric.galaxy.Galaxy'>\n",
      "log10(stellar mass formed/Msol):             8.5\n",
      "available SEDs: \n",
      "    Stellar:  []\n",
      "    Combined: []\n",
      "available lines: []\n",
      "available images: []\n",
      "-------------------------------------------------------------------------------\n",
      "\n"
     ]
    }
   ],
   "source": [
    "# define the functional form of the star formation and metal enrichment histories\n",
    "sfh = SFH.Constant(duration=100 * Myr)  # constant star formation\n",
    "metal_dist = ZDist.DeltaConstant(log10metallicity=-2.0)  # constant metallicity\n",
    "\n",
    "# get the 2D star formation and metal enrichment history for the given SPS grid. This is (age, Z).\n",
    "stars = Stars(grid.log10age, grid.metallicity, sf_hist=sfh, metal_dist=metal_dist, initial_mass=10**8.5)\n",
    "\n",
    "# create the Galaxy object\n",
    "galaxy = Galaxy(stars)\n",
    "\n",
    "# print a summary of the Galaxy object\n",
    "print(galaxy)"
   ]
  },
  {
   "attachments": {},
   "cell_type": "markdown",
   "metadata": {},
   "source": [
    "Let's define a list of lines that we're interested in. Note that we can provide multiples which are automatically summed."
   ]
  },
  {
   "cell_type": "code",
   "execution_count": 4,
   "metadata": {
    "execution": {
     "iopub.execute_input": "2023-12-05T09:47:32.140789Z",
     "iopub.status.busy": "2023-12-05T09:47:32.140396Z",
     "iopub.status.idle": "2023-12-05T09:47:32.143471Z",
     "shell.execute_reply": "2023-12-05T09:47:32.142897Z"
    }
   },
   "outputs": [],
   "source": [
    "line_ids = ['H 1 4862.69A', 'O 3 4958.91A', 'O 3 5006.84A', ['O 3 4958.91A', 'O 3 5006.84A']]"
   ]
  },
  {
   "attachments": {},
   "cell_type": "markdown",
   "metadata": {},
   "source": [
    "Next, let's get the intrinsic line properties:"
   ]
  },
  {
   "cell_type": "code",
   "execution_count": 5,
   "metadata": {
    "execution": {
     "iopub.execute_input": "2023-12-05T09:47:32.145992Z",
     "iopub.status.busy": "2023-12-05T09:47:32.145613Z",
     "iopub.status.idle": "2023-12-05T09:47:32.156735Z",
     "shell.execute_reply": "2023-12-05T09:47:32.156223Z"
    }
   },
   "outputs": [],
   "source": [
    "lines = galaxy.stars.get_line_intrinsic(grid, line_ids)"
   ]
  },
  {
   "attachments": {},
   "cell_type": "markdown",
   "metadata": {},
   "source": [
    "This produces a LineCollection object which has some useful methods and information."
   ]
  },
  {
   "cell_type": "code",
   "execution_count": 6,
   "metadata": {
    "execution": {
     "iopub.execute_input": "2023-12-05T09:47:32.159315Z",
     "iopub.status.busy": "2023-12-05T09:47:32.158927Z",
     "iopub.status.idle": "2023-12-05T09:47:32.162217Z",
     "shell.execute_reply": "2023-12-05T09:47:32.161564Z"
    }
   },
   "outputs": [
    {
     "name": "stdout",
     "output_type": "stream",
     "text": [
      "----------\n",
      "LINE COLLECTION\n",
      "lines: ['H 1 4862.69A', 'O 3 4958.91A', 'O 3 5006.84A', 'O 3 4958.91A,O 3 5006.84A']\n",
      "available ratios: ('BalmerDecrement', 'N2', 'S2', 'O1', 'R2', 'R3', 'R23', 'O32', 'Ne3O2')\n",
      "available diagrams: ('OHNO', 'BPT-NII')\n",
      "----------\n"
     ]
    }
   ],
   "source": [
    "print(lines)"
   ]
  },
  {
   "attachments": {},
   "cell_type": "markdown",
   "metadata": {},
   "source": [
    "Those lines are now associated with the `Galaxy` object, revealed by using the print function:"
   ]
  },
  {
   "cell_type": "code",
   "execution_count": 7,
   "metadata": {
    "execution": {
     "iopub.execute_input": "2023-12-05T09:47:32.164897Z",
     "iopub.status.busy": "2023-12-05T09:47:32.164522Z",
     "iopub.status.idle": "2023-12-05T09:47:32.167875Z",
     "shell.execute_reply": "2023-12-05T09:47:32.167286Z"
    }
   },
   "outputs": [
    {
     "name": "stdout",
     "output_type": "stream",
     "text": [
      "-------------------------------------------------------------------------------\n",
      "                            SUMMARY OF PARAMETRIC GALAXY                           \n",
      "                           ⠀⠀⠀⠀⠀⠀⠀⠀⠀⠀⢀⣀⣀⡀⠒⠒⠦⣄⡀⠀⠀⠀⠀⠀⠀⠀                          \n",
      "                           ⠀⠀⠀⠀⠀⢀⣤⣶⡾⠿⠿⠿⠿⣿⣿⣶⣦⣄⠙⠷⣤⡀⠀⠀⠀⠀                          \n",
      "                           ⠀⠀⠀⣠⡾⠛⠉⠀⠀⠀⠀⠀⠀⠀⠈⠙⠻⣿⣷⣄⠘⢿⡄⠀⠀⠀                          \n",
      "                           ⠀⢀⡾⠋⠀⠀⠀⠀⠀⠀⠀⠀⠐⠂⠠⢄⡀⠈⢿⣿⣧⠈⢿⡄⠀⠀                          \n",
      "                           ⢀⠏⠀⠀⠀⢀⠄⣀⣴⣾⠿⠛⠛⠛⠷⣦⡙⢦⠀⢻⣿⡆⠘⡇⠀⠀                          \n",
      "                           ⠀⠀⠀+-+-+-+-+-+-+-+-+-+-+-+⡇⠀⠀                           \n",
      "                           ⠀⠀⠀|S|Y|N|T|H|E|S|I|Z|E|R|⠃⠀⠀                           \n",
      "                           ⠀⠀⢰+-+-+-+-+-+-+-+-+-+-+-+⠀⠀⠀                           \n",
      "                           ⠀⠀⢸⡇⠸⣿⣷⠀⢳⡈⢿⣦⣀⣀⣀⣠⣴⣾⠟⠁⠀⠀⠀⠀⢀⡎                          \n",
      "                           ⠀⠀⠘⣷⠀⢻⣿⣧⠀⠙⠢⠌⢉⣛⠛⠋⠉⠀⠀⠀⠀⠀⠀⣠⠎⠀                          \n",
      "                           ⠀⠀⠀⠹⣧⡀⠻⣿⣷⣄⡀⠀⠀⠀⠀⠀⠀⠀⠀⠀⢀⣠⡾⠃⠀⠀                          \n",
      "                           ⠀⠀⠀⠀⠈⠻⣤⡈⠻⢿⣿⣷⣦⣤⣤⣤⣤⣤⣴⡾⠛⠉⠀⠀⠀⠀                          \n",
      "                           ⠀⠀⠀⠀⠀⠀⠈⠙⠶⢤⣈⣉⠛⠛⠛⠛⠋⠉⠀⠀⠀⠀⠀⠀⠀⠀                          \n",
      "                           ⠀⠀⠀⠀⠀⠀⠀⠀⠀⠀⠀⠀⠉⠉⠉⠁⠀⠀⠀⠀⠀⠀⠀⠀⠀⠀                          \n",
      "                                                                               \n",
      "\n",
      "<class 'synthesizer.parametric.galaxy.Galaxy'>\n",
      "log10(stellar mass formed/Msol):             8.5\n",
      "available SEDs: \n",
      "    Stellar:  []\n",
      "    Combined: []\n",
      "available lines: [intrinsic]\n",
      "available images: []\n",
      "-------------------------------------------------------------------------------\n",
      "\n"
     ]
    }
   ],
   "source": [
    "print(galaxy)"
   ]
  },
  {
   "cell_type": "markdown",
   "metadata": {},
   "source": [
    "Next, lets get the attenuated line properties:"
   ]
  },
  {
   "cell_type": "code",
   "execution_count": 8,
   "metadata": {
    "execution": {
     "iopub.execute_input": "2023-12-05T09:47:32.171927Z",
     "iopub.status.busy": "2023-12-05T09:47:32.171510Z",
     "iopub.status.idle": "2023-12-05T09:47:32.175901Z",
     "shell.execute_reply": "2023-12-05T09:47:32.175250Z"
    }
   },
   "outputs": [
    {
     "name": "stdout",
     "output_type": "stream",
     "text": [
      "----------\n",
      "LINE COLLECTION\n",
      "lines: ['H 1 4862.69A', 'O 3 4958.91A', 'O 3 5006.84A', 'O 3 4958.91A,O 3 5006.84A']\n",
      "available ratios: ('BalmerDecrement', 'N2', 'S2', 'O1', 'R2', 'R3', 'R23', 'O32', 'Ne3O2')\n",
      "available diagrams: ('OHNO', 'BPT-NII')\n",
      "----------\n"
     ]
    }
   ],
   "source": [
    "lines_att = galaxy.stars.get_line_attenuated(grid, line_ids, fesc=0.0, tau_v_BC=0., tau_v_ISM=0.5)\n",
    "print (lines_att)"
   ]
  }
 ],
 "metadata": {
  "kernelspec": {
   "display_name": "synthesizer-env",
   "language": "python",
   "name": "python3"
  },
  "language_info": {
   "codemirror_mode": {
    "name": "ipython",
    "version": 3
   },
   "file_extension": ".py",
   "mimetype": "text/x-python",
   "name": "python",
   "nbconvert_exporter": "python",
   "pygments_lexer": "ipython3",
   "version": "3.10.13"
  }
 },
 "nbformat": 4,
 "nbformat_minor": 2
}
