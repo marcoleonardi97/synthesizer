{
 "cells": [
  {
   "attachments": {},
   "cell_type": "markdown",
   "metadata": {},
   "source": [
    "# Making a Parametric Stellar Population\n",
    "\n",
    "The core element of the parametric modelling in `Synthesizer` is the `parametric.Stars` object. This contains everything necessary to describe a stellar population including:\n",
    "\n",
    "- A 2D SFZH grid containing the stellar mass formed in stellar age and metallicity bins.\n",
    "\n",
    "- A `Morphology` object describing it's distribution (optional but required for imaging).\n",
    "\n",
    "- The axes of the SFZH grid.\n",
    "\n",
    "- The total initial stellar mass.\n",
    "\n",
    "And if calculated by the user (see the parametric `Sed` [docs](generate_sed.ipynb)):\n",
    "\n",
    "- The stellar spectra.\n",
    "\n",
    "- Line luminosities.\n",
    "\n",
    "There are a number of different methods to define a parametric stellar population (from here on a `Stars` object). In what follows we will focus on user defined values/arrays but note that each different method could instead use simulated data (e.g. from Semi Analytic Models) rather than user defined values.\n",
    "\n",
    "The possible ways of defining a `Stars` object are (the age and metallicity axis of the SFZH must always be supplied):\n",
    "\n",
    "- Explictly providing the SFZH grid itself. Note that this will mean all other definitions below are ignored.\n",
    "\n",
    "- Providing singular age and metallicity values to define an \"instantaneous\" SFZH, i.e. one where all the stellar mass is in a single age and metallicity bin.\n",
    "\n",
    "- Providing arrays which contain the SFH and metallicity distribution in terms of stellar mass formed.\n",
    "\n",
    "- Providing SFH and metallcity distribution functions (from `parametric.sf_hist` and `parametric.metal_dist`). These will be used internally to compute the arrays from the previous point.\n",
    "\n",
    "- Any combination of the above.\n",
    "\n",
    "Below we simply import some packages and objects we'll need."
   ]
  },
  {
   "cell_type": "code",
   "execution_count": 1,
   "metadata": {
    "execution": {
     "iopub.execute_input": "2024-05-08T08:26:47.665746Z",
     "iopub.status.busy": "2024-05-08T08:26:47.665553Z",
     "iopub.status.idle": "2024-05-08T08:26:49.503705Z",
     "shell.execute_reply": "2024-05-08T08:26:49.503108Z"
    }
   },
   "outputs": [],
   "source": [
    "import numpy as np\n",
    "from synthesizer.parametric import SFH, Stars, ZDist\n",
    "from unyt import Myr"
   ]
  },
  {
   "cell_type": "markdown",
   "metadata": {},
   "source": [
    "## Defining an instantaneous SFZH\n",
    "\n",
    "To define an instantaneous SFZH we need only to provide the age and metallicity of the SFZH bin, alongside the SFZH axis arrays and the total initial mass of the `Stars` object. Note that the `log10ages` and `log10metallicites`/`metallicities` will likely come from a `Grid` object in most workflows (see the `Grid` [docs](../grids/grids_example.ipynb))."
   ]
  },
  {
   "cell_type": "code",
   "execution_count": 2,
   "metadata": {
    "execution": {
     "iopub.execute_input": "2024-05-08T08:26:49.507187Z",
     "iopub.status.busy": "2024-05-08T08:26:49.506544Z",
     "iopub.status.idle": "2024-05-08T08:26:49.511235Z",
     "shell.execute_reply": "2024-05-08T08:26:49.510704Z"
    }
   },
   "outputs": [],
   "source": [
    "# Create the SFZH axis arrays\n",
    "log10ages = np.arange(6.0, 10.5, 0.1)  # log10(age/yr)\n",
    "log10metallicities = np.arange(-5.0, -1.5, 0.25)\n",
    "metallicities = 10**log10metallicities\n",
    "\n",
    "# Get the instantaneous Stars\n",
    "inst_stars = Stars(\n",
    "    log10ages,\n",
    "    metallicities,\n",
    "    sf_hist=100 * Myr,\n",
    "    metal_dist=10**-3,\n",
    "    initial_mass=10**9,\n",
    ")"
   ]
  },
  {
   "cell_type": "markdown",
   "metadata": {},
   "source": [
    "To see the created SFZH you can print some basic statistics by printing the `Stars` object."
   ]
  },
  {
   "cell_type": "code",
   "execution_count": 3,
   "metadata": {
    "execution": {
     "iopub.execute_input": "2024-05-08T08:26:49.513988Z",
     "iopub.status.busy": "2024-05-08T08:26:49.513523Z",
     "iopub.status.idle": "2024-05-08T08:26:49.521693Z",
     "shell.execute_reply": "2024-05-08T08:26:49.521141Z"
    }
   },
   "outputs": [
    {
     "name": "stdout",
     "output_type": "stream",
     "text": [
      "----------\n",
      "SUMMARY OF BINNED SFZH\n",
      "median age: 100.00 Myr\n",
      "mean age: 100.00 Myr\n",
      "mean metallicity: 0.0010\n",
      "----------\n",
      "\n"
     ]
    }
   ],
   "source": [
    "print(inst_stars)"
   ]
  },
  {
   "cell_type": "markdown",
   "metadata": {},
   "source": [
    "Or to probe the SFZH you can plot it using the provided helper function."
   ]
  },
  {
   "cell_type": "code",
   "execution_count": 4,
   "metadata": {
    "execution": {
     "iopub.execute_input": "2024-05-08T08:26:49.524194Z",
     "iopub.status.busy": "2024-05-08T08:26:49.523802Z",
     "iopub.status.idle": "2024-05-08T08:26:49.707230Z",
     "shell.execute_reply": "2024-05-08T08:26:49.706556Z"
    }
   },
   "outputs": [
    {
     "data": {
      "image/png": "[encoded data removed]",
      "text/plain": [
       "<Figure size 350x350 with 3 Axes>"
      ]
     },
     "metadata": {},
     "output_type": "display_data"
    }
   ],
   "source": [
    "fig, ax = inst_stars.plot_sfzh(show=True)"
   ]
  },
  {
   "cell_type": "markdown",
   "metadata": {},
   "source": [
    "## Defining SFZH from arrays\n",
    "\n",
    "Of course, most of the time you won't want an instantaneous SFZH but instead a distribution. One way to achieve this is to pass arrays describing the SFH and metallicity distribution. This is particularly useful if you have data explictly describing the ages and metallicities of a stellar population. However, here we'll demonstrate this with entirely unphysical arrays."
   ]
  },
  {
   "cell_type": "code",
   "execution_count": 5,
   "metadata": {
    "execution": {
     "iopub.execute_input": "2024-05-08T08:26:49.710048Z",
     "iopub.status.busy": "2024-05-08T08:26:49.709827Z",
     "iopub.status.idle": "2024-05-08T08:26:49.950458Z",
     "shell.execute_reply": "2024-05-08T08:26:49.949765Z"
    }
   },
   "outputs": [
    {
     "name": "stdout",
     "output_type": "stream",
     "text": [
      "----------\n",
      "SUMMARY OF BINNED SFZH\n",
      "median age: 19.95 Myr\n",
      "mean age: 28.74 Myr\n",
      "mean metallicity: 0.0003\n",
      "----------\n",
      "\n"
     ]
    },
    {
     "data": {
      "image/png": "[encoded data removed]",
      "text/plain": [
       "<Figure size 350x350 with 3 Axes>"
      ]
     },
     "metadata": {},
     "output_type": "display_data"
    }
   ],
   "source": [
    "# Create arrays for SFH and ZDist\n",
    "sf_hist = np.zeros_like(log10ages)\n",
    "metal_dist = np.zeros_like(metallicities)\n",
    "sf_hist[10:15] = 1\n",
    "sf_hist[15:20] = 0.5\n",
    "metal_dist[5:6] = 1\n",
    "metal_dist[6:8] = 0.5\n",
    "\n",
    "# Get the Stars\n",
    "arr_stars = Stars(\n",
    "    log10ages,\n",
    "    metallicities,\n",
    "    sf_hist=sf_hist,\n",
    "    metal_dist=metal_dist,\n",
    "    initial_mass=10**9,\n",
    ")\n",
    "print(arr_stars)\n",
    "fig, ax = arr_stars.plot_sfzh(show=True)"
   ]
  },
  {
   "cell_type": "markdown",
   "metadata": {},
   "source": [
    "## Defining SFZH using functions\n",
    "\n",
    "You won't always have explict arrays to describe the age and metallicity distributions. For these situations `Synthesizer` provides a suite of functions to describe the SFH and metallicity distribution. \n",
    "\n",
    "SFH parametrisations can be found in the `SFH` module, while metallicity distribution parametrisations can be found in the `ZDist` module. To see a full list of available parametrisations just print the `parametrisations` list from these modules`."
   ]
  },
  {
   "cell_type": "code",
   "execution_count": 6,
   "metadata": {
    "execution": {
     "iopub.execute_input": "2024-05-08T08:26:49.953605Z",
     "iopub.status.busy": "2024-05-08T08:26:49.953130Z",
     "iopub.status.idle": "2024-05-08T08:26:49.956714Z",
     "shell.execute_reply": "2024-05-08T08:26:49.956041Z"
    }
   },
   "outputs": [
    {
     "name": "stdout",
     "output_type": "stream",
     "text": [
      "('Constant', 'ExponentialTruncatedExponential', 'LogNormal', 'ExponentiallyyDeclining', 'DelayedExponentiallyDeclining', 'DoublePowerLaw')\n",
      "('DeltaConstant', 'Normal')\n"
     ]
    }
   ],
   "source": [
    "print(SFH.parametrisations)\n",
    "print(ZDist.parametrisations)"
   ]
  },
  {
   "cell_type": "markdown",
   "metadata": {},
   "source": [
    "To use one of these parametrisations you have to first define an instance of a parametrisation and then pass it to the `Stars` object at instantiation. Below we demonstrate a few examples using different parametrisations.\n",
    "\n",
    "### Constant SFH and metallicity delta function"
   ]
  },
  {
   "cell_type": "code",
   "execution_count": 7,
   "metadata": {
    "execution": {
     "iopub.execute_input": "2024-05-08T08:26:49.959491Z",
     "iopub.status.busy": "2024-05-08T08:26:49.959068Z",
     "iopub.status.idle": "2024-05-08T08:26:50.154894Z",
     "shell.execute_reply": "2024-05-08T08:26:50.154248Z"
    }
   },
   "outputs": [
    {
     "name": "stdout",
     "output_type": "stream",
     "text": [
      "----------\n",
      "SUMMARY OF PARAMETERISED METAL ENRICHMENT HISTORY\n",
      "<class 'synthesizer.parametric.metal_dist.DeltaConstant'>\n",
      "metallicity: None\n",
      "log10metallicity: -2.5\n",
      "----------\n",
      "\n",
      "----------\n",
      "SUMMARY OF PARAMETERISED STAR FORMATION HISTORY\n",
      "<class 'synthesizer.parametric.sf_hist.Constant'>\n",
      "duration: 100 Myr\n",
      "median age: 50.00 Myr\n",
      "mean age: 50.00 Myr\n",
      "----------\n",
      "\n",
      "----------\n",
      "SUMMARY OF BINNED SFZH\n",
      "median age: 50.12 Myr\n",
      "mean age: 50.01 Myr\n",
      "mean metallicity: 0.0032\n",
      "----------\n",
      "\n"
     ]
    },
    {
     "data": {
      "image/png": "[encoded data removed]",
      "text/plain": [
       "<Figure size 350x350 with 3 Axes>"
      ]
     },
     "metadata": {},
     "output_type": "display_data"
    }
   ],
   "source": [
    "# Define a delta function for metallicity\n",
    "metal_dist = ZDist.DeltaConstant(log10metallicity=-2.5)\n",
    "print(metal_dist)\n",
    "\n",
    "# Define a constant SFH\n",
    "sfh = SFH.Constant(duration=100 * Myr)\n",
    "print(sfh)\n",
    "\n",
    "# Create the Stars object\n",
    "const_stars = Stars(\n",
    "    log10ages,\n",
    "    metallicities,\n",
    "    sf_hist=sfh,\n",
    "    metal_dist=metal_dist,\n",
    "    initial_mass=10**9,\n",
    ")\n",
    "print(const_stars)\n",
    "fig, ax = const_stars.plot_sfzh(show=True)"
   ]
  },
  {
   "attachments": {},
   "cell_type": "markdown",
   "metadata": {},
   "source": [
    "### Truncated exponential SFH and normal metallicity"
   ]
  },
  {
   "cell_type": "code",
   "execution_count": 8,
   "metadata": {
    "execution": {
     "iopub.execute_input": "2024-05-08T08:26:50.157654Z",
     "iopub.status.busy": "2024-05-08T08:26:50.157428Z",
     "iopub.status.idle": "2024-05-08T08:26:50.356078Z",
     "shell.execute_reply": "2024-05-08T08:26:50.355471Z"
    }
   },
   "outputs": [
    {
     "name": "stdout",
     "output_type": "stream",
     "text": [
      "----------\n",
      "SUMMARY OF PARAMETERISED METAL ENRICHMENT HISTORY\n",
      "<class 'synthesizer.parametric.metal_dist.Normal'>\n",
      "mean: 0.0005\n",
      "sigma: 0.001\n",
      "----------\n",
      "\n"
     ]
    },
    {
     "name": "stdout",
     "output_type": "stream",
     "text": [
      "----------\n",
      "SUMMARY OF PARAMETERISED STAR FORMATION HISTORY\n",
      "<class 'synthesizer.parametric.sf_hist.TruncatedExponential'>\n",
      "tau: 100 Myr\n",
      "max_age: 200 Myr\n",
      "median age: 56.00 Myr\n",
      "mean age: 68.20 Myr\n",
      "----------\n",
      "\n",
      "----------\n",
      "SUMMARY OF BINNED SFZH\n",
      "median age: 63.10 Myr\n",
      "mean age: 68.54 Myr\n",
      "mean metallicity: 0.0010\n",
      "----------\n",
      "\n"
     ]
    },
    {
     "data": {
      "image/png": "[encoded data removed]",
      "text/plain": [
       "<Figure size 350x350 with 3 Axes>"
      ]
     },
     "metadata": {},
     "output_type": "display_data"
    }
   ],
   "source": [
    "# Define a delta function for metallicity\n",
    "Z_p = {\"Z\": 0.01}\n",
    "metal_dist = ZDist.Normal(mean=0.0005, sigma=0.001)\n",
    "print(metal_dist)\n",
    "\n",
    "# Define an exponential SFH\n",
    "sfh = SFH.TruncatedExponential(tau=100 * Myr, max_age=200 * Myr)\n",
    "print(sfh)\n",
    "\n",
    "# Create the Stars object\n",
    "exp_stars = Stars(\n",
    "    log10ages,\n",
    "    metallicities,\n",
    "    sf_hist=sfh,\n",
    "    metal_dist=metal_dist,\n",
    "    initial_mass=10**9.5,\n",
    ")\n",
    "print(exp_stars)\n",
    "fig, ax = exp_stars.plot_sfzh(show=True)"
   ]
  },
  {
   "cell_type": "markdown",
   "metadata": {},
   "source": [
    "### Log normal SFH and instantaneous metallicity\n",
    "\n",
    "Remember we can combine any type of SFH and metallicity distribution inputs. Here we'll use a SFH function and an instantaneous metallicity (analogus to a delta function)."
   ]
  },
  {
   "cell_type": "code",
   "execution_count": 9,
   "metadata": {
    "execution": {
     "iopub.execute_input": "2024-05-08T08:26:50.358996Z",
     "iopub.status.busy": "2024-05-08T08:26:50.358482Z",
     "iopub.status.idle": "2024-05-08T08:26:50.564041Z",
     "shell.execute_reply": "2024-05-08T08:26:50.563298Z"
    }
   },
   "outputs": [
    {
     "name": "stdout",
     "output_type": "stream",
     "text": [
      "----------\n",
      "SUMMARY OF PARAMETERISED STAR FORMATION HISTORY\n",
      "<class 'synthesizer.parametric.sf_hist.LogNormal'>\n",
      "tau: 10\n",
      "peak_age: 100 Myr\n",
      "max_age: 500 Myr\n",
      "median age: 248.00 Myr\n",
      "mean age: 248.01 Myr\n",
      "----------\n",
      "\n",
      "----------\n",
      "SUMMARY OF BINNED SFZH\n",
      "median age: 251.19 Myr\n",
      "mean age: 248.46 Myr\n",
      "mean metallicity: 0.0056\n",
      "----------\n",
      "\n"
     ]
    },
    {
     "data": {
      "image/png": "[encoded data removed]",
      "text/plain": [
       "<Figure size 350x350 with 3 Axes>"
      ]
     },
     "metadata": {},
     "output_type": "display_data"
    }
   ],
   "source": [
    "# Define an exponential SFH\n",
    "sfh = SFH.LogNormal(tau=10, max_age=500 * Myr, peak_age=100 * Myr)\n",
    "print(sfh)\n",
    "\n",
    "# Create the Stars object\n",
    "logn_stars = Stars(\n",
    "    log10ages,\n",
    "    metallicities,\n",
    "    sf_hist=sfh,\n",
    "    metal_dist=0.005,\n",
    "    initial_mass=10**9,\n",
    ")\n",
    "print(logn_stars)\n",
    "fig, ax = logn_stars.plot_sfzh(show=True)"
   ]
  },
  {
   "cell_type": "markdown",
   "metadata": {},
   "source": [
    "### Defining your own parametrisations\n",
    "\n",
    "If `Synthesizer` doesn't already include a parametrisation you need, you can add a custom parametrisation by defining a new class.\n",
    "\n",
    "The important requirements of a custom functions are:\n",
    "\n",
    "- They inherit the `Common` parent class.\n",
    "\n",
    "- They instantiate the parent class (`SFH/ZDist.Common`) with the model parameters and a meaningful name.\n",
    "\n",
    "- They implement a private `_sfr` method which takes a single age and returns a single SFR weight in the `SFH` case, or they implement a `_weight` method which take a single metallicity and return a single metallicity weight in the `ZDist` case.\n",
    "\n",
    "- The `SFH` methods should perform their calculations in years.\n",
    "\n",
    "Below we demonstrate how to define a custom function using existing SFH and metallicity distribution functions for demonstration purposes."
   ]
  },
  {
   "cell_type": "code",
   "execution_count": 10,
   "metadata": {
    "execution": {
     "iopub.execute_input": "2024-05-08T08:26:50.567030Z",
     "iopub.status.busy": "2024-05-08T08:26:50.566797Z",
     "iopub.status.idle": "2024-05-08T08:26:50.767580Z",
     "shell.execute_reply": "2024-05-08T08:26:50.766864Z"
    }
   },
   "outputs": [
    {
     "name": "stdout",
     "output_type": "stream",
     "text": [
      "----------\n",
      "SUMMARY OF PARAMETERISED METAL ENRICHMENT HISTORY\n",
      "<class '__main__.Normal'>\n",
      "mean: 0.05\n",
      "sigma: 0.001\n",
      "----------\n",
      "\n",
      "----------\n",
      "SUMMARY OF PARAMETERISED STAR FORMATION HISTORY\n",
      "<class '__main__.Constant'>\n",
      "duration: 500 Myr\n",
      "median age: 250.00 Myr\n",
      "mean age: 250.00 Myr\n",
      "----------\n",
      "\n",
      "----------\n",
      "SUMMARY OF BINNED SFZH\n",
      "median age: 251.19 Myr\n",
      "mean age: 250.00 Myr\n",
      "mean metallicity: 0.0100\n",
      "----------\n",
      "\n"
     ]
    },
    {
     "data": {
      "image/png": "[encoded data removed]",
      "text/plain": [
       "<Figure size 350x350 with 3 Axes>"
      ]
     },
     "metadata": {},
     "output_type": "display_data"
    }
   ],
   "source": [
    "class Normal(ZDist.Common):\n",
    "    \"\"\"\n",
    "    A normally distributed metallicity distribution.\n",
    "\n",
    "    Attributes:\n",
    "        mean (float)\n",
    "            The mean of the normal distribution.\n",
    "        sigma (float)\n",
    "            The standard deviation of the normal distribution.\n",
    "    \"\"\"\n",
    "\n",
    "    def __init__(self, mean, sigma):\n",
    "        \"\"\"\n",
    "        Initialise the metallicity distribution and parent.\n",
    "\n",
    "        Either metallicity or log10metallicity must be provided.\n",
    "\n",
    "        Args:\n",
    "            mean (float)\n",
    "                The mean of the normal distribution.\n",
    "            sigma (float)\n",
    "                The standard deviation of the normal distribution.\n",
    "        \"\"\"\n",
    "\n",
    "        # Instantiate the parent\n",
    "        ZDist.Common.__init__(\n",
    "            self,\n",
    "            name=\"Normal\",\n",
    "            mean=mean,\n",
    "            sigma=sigma,\n",
    "        )\n",
    "\n",
    "        # Define this models parameters\n",
    "        self.mean = mean\n",
    "        self.sigma = sigma\n",
    "\n",
    "    def _weight(self, metal):\n",
    "        \"\"\"\n",
    "        Return the distribution at a metallicity.\n",
    "\n",
    "        Args:\n",
    "            metal (float)\n",
    "                The (linear) metallicity at which to evaluate the distribution.\n",
    "\n",
    "        Returns:\n",
    "            float\n",
    "                The weight of the metallicity distribution at metal.\n",
    "        \"\"\"\n",
    "        norm = 1 / (self.sigma * np.sqrt(2 * np.pi))\n",
    "        exponent = ((metal - self.mean) / self.sigma) ** 2\n",
    "        return norm * np.exp(-0.5 * exponent)\n",
    "\n",
    "\n",
    "class Constant(SFH.Common):\n",
    "    \"\"\"\n",
    "    A constant star formation history.\n",
    "\n",
    "    The SFR is defined such that:\n",
    "        sfr = 1; t<=duration\n",
    "        sfr = 0; t>duration\n",
    "\n",
    "    Attributes:\n",
    "        duration (float)\n",
    "            The duration of the period of constant star formation.\n",
    "    \"\"\"\n",
    "\n",
    "    def __init__(self, duration):\n",
    "        \"\"\"\n",
    "        Initialise the parent and this parametrisation of the SFH.\n",
    "\n",
    "        Args:\n",
    "            duration (unyt_quantity)\n",
    "                The duration of the period of constant star formation.\n",
    "        \"\"\"\n",
    "\n",
    "        # Initialise the parent\n",
    "        SFH.Common.__init__(self, name=\"Constant\", duration=duration)\n",
    "\n",
    "        # Set the model parameters\n",
    "        self.duration = duration.to(\"yr\").value\n",
    "\n",
    "    def _sfr(self, age):\n",
    "        \"\"\"\n",
    "        Get the amount SFR weight in a single age bin.\n",
    "\n",
    "        Args:\n",
    "            age (float)\n",
    "                The age (in years) at which to evaluate the SFR.\n",
    "        \"\"\"\n",
    "\n",
    "        # Set the SFR based on the duration.\n",
    "        if age <= self.duration:\n",
    "            return 1.0\n",
    "        return 0.0\n",
    "\n",
    "\n",
    "# Define a scaled delta function for metallicity\n",
    "metal_dist = Normal(mean=0.05, sigma=0.001)\n",
    "print(metal_dist)\n",
    "\n",
    "# Define an exponential SFH\n",
    "sfh = Constant(duration=500 * Myr)\n",
    "print(sfh)\n",
    "\n",
    "# Create the Stars object\n",
    "custom_stars = Stars(\n",
    "    log10ages,\n",
    "    metallicities,\n",
    "    sf_hist=sfh,\n",
    "    metal_dist=metal_dist,\n",
    "    initial_mass=10**9,\n",
    ")\n",
    "print(custom_stars)\n",
    "fig, ax = custom_stars.plot_sfzh(show=True)"
   ]
  },
  {
   "attachments": {},
   "cell_type": "markdown",
   "metadata": {},
   "source": [
    "## Combining `Stars`\n",
    "\n",
    "We can also combine individual `Stars` objects together to produce more complicated star formation and metal enrichment histories by simply adding them."
   ]
  },
  {
   "cell_type": "code",
   "execution_count": 11,
   "metadata": {
    "execution": {
     "iopub.execute_input": "2024-05-08T08:26:50.770554Z",
     "iopub.status.busy": "2024-05-08T08:26:50.770033Z",
     "iopub.status.idle": "2024-05-08T08:26:50.901982Z",
     "shell.execute_reply": "2024-05-08T08:26:50.901272Z"
    }
   },
   "outputs": [
    {
     "name": "stdout",
     "output_type": "stream",
     "text": [
      "----------\n",
      "SUMMARY OF BINNED SFZH\n",
      "median age: 63.10 Myr\n",
      "mean age: 110.85 Myr\n",
      "mean metallicity: 0.0031\n",
      "----------\n",
      "\n"
     ]
    },
    {
     "data": {
      "image/png": "[encoded data removed]",
      "text/plain": [
       "<Figure size 350x350 with 3 Axes>"
      ]
     },
     "metadata": {},
     "output_type": "display_data"
    }
   ],
   "source": [
    "combined = arr_stars + const_stars + exp_stars + logn_stars + custom_stars\n",
    "print(combined)\n",
    "fig, ax = combined.plot_sfzh()"
   ]
  }
 ],
 "metadata": {
  "language_info": {
   "codemirror_mode": {
    "name": "ipython",
    "version": 3
   },
   "file_extension": ".py",
   "mimetype": "text/x-python",
   "name": "python",
   "nbconvert_exporter": "python",
   "pygments_lexer": "ipython3",
   "version": "3.10.14"
  }
 },
 "nbformat": 4,
 "nbformat_minor": 2
}
