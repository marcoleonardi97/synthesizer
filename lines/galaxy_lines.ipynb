{
 "cells": [
  {
   "cell_type": "markdown",
   "metadata": {},
   "source": [
    "## Lines from `Galaxy` objects\n",
    "\n",
    "To generate lines from components of a `Galaxy` (i.e. parametric or particle based stars or black holes) `synthesizer` provides ``get_lines`` methods on component and galaxy objects.\n",
    "These methods are analogous to those on a grid, and return a `LineCollection` containing the requested lines (which can either be singular, doublets, triplets, or more)."
   ]
  },
  {
   "cell_type": "code",
   "execution_count": 1,
   "metadata": {
    "execution": {
     "iopub.execute_input": "2024-07-30T14:54:49.049348Z",
     "iopub.status.busy": "2024-07-30T14:54:49.049147Z",
     "iopub.status.idle": "2024-07-30T14:54:51.315863Z",
     "shell.execute_reply": "2024-07-30T14:54:51.315119Z"
    }
   },
   "outputs": [
    {
     "name": "stdout",
     "output_type": "stream",
     "text": [
      "----------\n",
      "LINE COLLECTION\n",
      "number of lines: 3\n",
      "lines: ['H 1 4861.32A' 'O 3 4958.91A' 'O 3 5006.84A']\n",
      "available ratios: ['R3']\n",
      "available diagrams: []\n",
      "----------\n"
     ]
    },
    {
     "name": "stderr",
     "output_type": "stream",
     "text": [
      "/opt/hostedtoolcache/Python/3.10.14/x64/lib/python3.10/site-packages/unyt/array.py:1824: RuntimeWarning: overflow encountered in exp\n",
      "  out_arr = func(np.asarray(inp), out=out_func, **kwargs)\n",
      "/opt/hostedtoolcache/Python/3.10.14/x64/lib/python3.10/site-packages/unyt/array.py:1949: RuntimeWarning: invalid value encountered in divide\n",
      "  out_arr = func(\n"
     ]
    }
   ],
   "source": [
    "import synthesizer.line_ratios as line_ratios\n",
    "from synthesizer.emission_models import BimodalPacmanEmission\n",
    "from synthesizer.emission_models.attenuation import PowerLaw\n",
    "from synthesizer.emission_models.dust.emission import Blackbody\n",
    "from synthesizer.grid import Grid\n",
    "from synthesizer.parametric import SFH, Stars, ZDist\n",
    "from unyt import Myr, kelvin\n",
    "\n",
    "# Get a grid\n",
    "grid_dir = \"../../../tests/test_grid\"\n",
    "grid_name = \"test_grid\"\n",
    "grid = Grid(grid_name, grid_dir=grid_dir)\n",
    "\n",
    "# Make a parametric galaxy\n",
    "stellar_mass = 10**12\n",
    "sfh = SFH.Constant(duration=100 * Myr)\n",
    "metal_dist = ZDist.Normal(mean=0.01, sigma=0.05)\n",
    "stars = Stars(\n",
    "    grid.log10age,\n",
    "    grid.metallicity,\n",
    "    sf_hist=sfh,\n",
    "    metal_dist=metal_dist,\n",
    "    initial_mass=stellar_mass,\n",
    ")\n",
    "\n",
    "# Set up the emission model\n",
    "model = BimodalPacmanEmission(\n",
    "    grid=grid,\n",
    "    tau_v_ism=0.5,\n",
    "    tau_v_birth=0.7,\n",
    "    dust_curve_ism=PowerLaw(slope=-1.3),\n",
    "    dust_curve_birth=PowerLaw(slope=-0.7),\n",
    "    dust_emission_ism=Blackbody(temperature=100 * kelvin),\n",
    "    dust_emission_birth=Blackbody(temperature=30 * kelvin),\n",
    "    fesc=0.2,\n",
    "    fesc_ly_alpha=0.9,\n",
    ")\n",
    "\n",
    "# To get the dust emission at a line we need to first run the\n",
    "# spectra generation\n",
    "stars.get_spectra(model)\n",
    "\n",
    "# Get the lines\n",
    "lines = stars.get_lines(\n",
    "    (line_ratios.Hb, line_ratios.O3r, line_ratios.O3b), model\n",
    ")\n",
    "\n",
    "print(stars.lines[\"emergent\"])"
   ]
  },
  {
   "cell_type": "markdown",
   "metadata": {},
   "source": [
    "In the case of a particle based galaxy you can either get the integrated line emission (``get_lines``) or per--particle line emission (``get_particle_lines``)."
   ]
  },
  {
   "cell_type": "code",
   "execution_count": 2,
   "metadata": {
    "execution": {
     "iopub.execute_input": "2024-07-30T14:54:51.319353Z",
     "iopub.status.busy": "2024-07-30T14:54:51.318810Z",
     "iopub.status.idle": "2024-07-30T14:54:52.232538Z",
     "shell.execute_reply": "2024-07-30T14:54:52.231935Z"
    }
   },
   "outputs": [
    {
     "name": "stderr",
     "output_type": "stream",
     "text": [
      "/opt/hostedtoolcache/Python/3.10.14/x64/lib/python3.10/site-packages/unyt/array.py:1949: RuntimeWarning: invalid value encountered in divide\n",
      "  out_arr = func(\n",
      "/opt/hostedtoolcache/Python/3.10.14/x64/lib/python3.10/site-packages/unyt/array.py:1824: RuntimeWarning: overflow encountered in exp\n",
      "  out_arr = func(np.asarray(inp), out=out_func, **kwargs)\n"
     ]
    },
    {
     "name": "stdout",
     "output_type": "stream",
     "text": [
      "----------\n",
      "LINE COLLECTION\n",
      "number of lines: 3\n",
      "lines: ['H 1 4861.32A' 'O 3 4958.91A' 'O 3 5006.84A']\n",
      "available ratios: ['R3']\n",
      "available diagrams: []\n",
      "----------\n"
     ]
    },
    {
     "name": "stdout",
     "output_type": "stream",
     "text": [
      "----------\n",
      "LINE COLLECTION\n",
      "number of lines: 3\n",
      "lines: ['H 1 4861.32A' 'O 3 4958.91A' 'O 3 5006.84A']\n",
      "available ratios: ['R3']\n",
      "available diagrams: []\n",
      "----------\n"
     ]
    }
   ],
   "source": [
    "from synthesizer.emission_models import PacmanEmission\n",
    "from synthesizer.load_data.load_camels import load_CAMELS_IllustrisTNG\n",
    "\n",
    "# Get the stars from a particle based galaxy\n",
    "stars = load_CAMELS_IllustrisTNG(\n",
    "    \"../../../tests/data/\",\n",
    "    snap_name=\"camels_snap.hdf5\",\n",
    "    group_name=\"camels_subhalo.hdf5\",\n",
    "    physical=True,\n",
    ")[0].stars\n",
    "\n",
    "# Set up the emission model\n",
    "model = PacmanEmission(\n",
    "    grid=grid,\n",
    "    tau_v=0.7,\n",
    "    dust_curve=PowerLaw(slope=-1.3),\n",
    "    dust_emission=Blackbody(temperature=50 * kelvin),\n",
    "    fesc=0.2,\n",
    "    fesc_ly_alpha=0.9,\n",
    ")\n",
    "\n",
    "# Get the spectra and lines\n",
    "stars.get_spectra(model)\n",
    "stars.get_lines((line_ratios.Hb, line_ratios.O3r, line_ratios.O3b), model)\n",
    "print(stars.lines[\"emergent\"])\n",
    "\n",
    "stars.get_particle_spectra(model)\n",
    "stars.get_particle_lines(\n",
    "    (line_ratios.Hb, line_ratios.O3r, line_ratios.O3b), model\n",
    ")\n",
    "print(stars.particle_lines[\"emergent\"])"
   ]
  }
 ],
 "metadata": {
  "language_info": {
   "codemirror_mode": {
    "name": "ipython",
    "version": 3
   },
   "file_extension": ".py",
   "mimetype": "text/x-python",
   "name": "python",
   "nbconvert_exporter": "python",
   "pygments_lexer": "ipython3",
   "version": "3.10.14"
  }
 },
 "nbformat": 4,
 "nbformat_minor": 2
}
