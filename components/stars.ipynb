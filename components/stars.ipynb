{
 "cells": [
  {
   "cell_type": "markdown",
   "metadata": {},
   "source": [
    "# Stars"
   ]
  },
  {
   "cell_type": "markdown",
   "metadata": {},
   "source": [
    "## Particle Stars\n",
    "\n",
    "A `particle.Stars`object is the core object in synthesizer for modelling stellar distributions described by discrete particles (e.g. in hydrodynamical simulations).\n",
    "\n",
    "To initialise one you need equal length arrays describing the ages, metallicities and initial masses of your star particles. These can then be provided directly to the Stars object on initialisation. In the example below, we make some mock data (with units) and load these into a particle ``Stars`` object:"
   ]
  },
  {
   "cell_type": "code",
   "execution_count": 1,
   "metadata": {
    "execution": {
     "iopub.execute_input": "2024-08-20T12:55:41.573398Z",
     "iopub.status.busy": "2024-08-20T12:55:41.572660Z",
     "iopub.status.idle": "2024-08-20T12:55:43.474194Z",
     "shell.execute_reply": "2024-08-20T12:55:43.473472Z"
    }
   },
   "outputs": [],
   "source": [
    "import numpy as np\n",
    "from unyt import Msun, Myr\n",
    "\n",
    "from synthesizer.particle import Stars\n",
    "\n",
    "N = 100\n",
    "ages = np.random.rand(N) * 100 * Myr\n",
    "metallicities = np.random.rand(N) / 100\n",
    "initial_masses = np.ones(N) * 1e6 * Msun\n",
    "\n",
    "stars = Stars(\n",
    "    initial_masses=initial_masses,\n",
    "    ages=ages,\n",
    "    metallicities=metallicities,\n",
    ")"
   ]
  },
  {
   "cell_type": "markdown",
   "metadata": {},
   "source": [
    "The provided ages, metallicities and initial masses of the star particles describe the star formation and metal enrichment (SFZH) history. Some basic statistics of this object can be viewed by:"
   ]
  },
  {
   "cell_type": "code",
   "execution_count": 2,
   "metadata": {
    "execution": {
     "iopub.execute_input": "2024-08-20T12:55:43.477828Z",
     "iopub.status.busy": "2024-08-20T12:55:43.477114Z",
     "iopub.status.idle": "2024-08-20T12:55:43.482160Z",
     "shell.execute_reply": "2024-08-20T12:55:43.481472Z"
    }
   },
   "outputs": [
    {
     "name": "stdout",
     "output_type": "stream",
     "text": [
      "+------------------------------------------------------------------------------+\n",
      "|                                    STARS                                     |\n",
      "+-----------------------+------------------------------------------------------+\n",
      "| Attribute             | Value                                                |\n",
      "+-----------------------+------------------------------------------------------+\n",
      "| nparticles            | 100                                                  |\n",
      "+-----------------------+------------------------------------------------------+\n",
      "| metallicity_floor     | 1.00e-05                                             |\n",
      "+-----------------------+------------------------------------------------------+\n",
      "| name                  | 'Stars'                                              |\n",
      "+-----------------------+------------------------------------------------------+\n",
      "| resampled             | False                                                |\n",
      "+-----------------------+------------------------------------------------------+\n",
      "| nstars                | 100                                                  |\n",
      "+-----------------------+------------------------------------------------------+\n",
      "| ages (100,)           | 6.80e+04 yr -> 9.96e+07 yr (Mean: 5.20e+07 yr)       |\n",
      "+-----------------------+------------------------------------------------------+\n",
      "| metallicities (100,)  | 6.02e-06 -> 9.88e-03 (Mean: 4.74e-03)                |\n",
      "+-----------------------+------------------------------------------------------+\n",
      "| initial_masses (100,) | 1.00e+06 Msun -> 1.00e+06 Msun (Mean: 1.00e+06 Msun) |\n",
      "+-----------------------+------------------------------------------------------+\n"
     ]
    }
   ],
   "source": [
    "print(stars)"
   ]
  },
  {
   "cell_type": "markdown",
   "metadata": {},
   "source": [
    "This can be visualised in synthesizer using a `Grid` object (see [here](../grids/grids.rst)), to assign these to SFZH bins."
   ]
  },
  {
   "cell_type": "code",
   "execution_count": 3,
   "metadata": {
    "execution": {
     "iopub.execute_input": "2024-08-20T12:55:43.485157Z",
     "iopub.status.busy": "2024-08-20T12:55:43.484603Z",
     "iopub.status.idle": "2024-08-20T12:55:43.995686Z",
     "shell.execute_reply": "2024-08-20T12:55:43.994993Z"
    }
   },
   "outputs": [
    {
     "data": {
      "image/png": "[encoded data removed]",
      "text/plain": [
       "<Figure size 350x350 with 3 Axes>"
      ]
     },
     "metadata": {},
     "output_type": "display_data"
    },
    {
     "data": {
      "text/plain": [
       "(<Figure size 350x350 with 3 Axes>,\n",
       " <Axes: xlabel='$\\\\log_{10}(\\\\mathrm{age}/\\\\mathrm{yr})$', ylabel='$\\\\log_{10}Z$'>)"
      ]
     },
     "execution_count": 3,
     "metadata": {},
     "output_type": "execute_result"
    }
   ],
   "source": [
    "from synthesizer.grid import Grid\n",
    "\n",
    "grid_dir = \"../../../tests/test_grid\"\n",
    "grid_name = \"test_grid\"\n",
    "\n",
    "grid = Grid(grid_name, grid_dir=grid_dir)\n",
    "\n",
    "stars.plot_sfzh(grid)"
   ]
  },
  {
   "cell_type": "markdown",
   "metadata": {},
   "source": [
    "By providing a `Grid` to the `Stars` object one can generate the stellar emission.\n",
    "This can include the integrated SED (see `Sed` [docs](../sed/sed.rst)), line emission (see `line` [docs](../lines/lines.rst)), as well as the per--particle SED and line luminosity / equivalent widths.\n",
    "\n",
    "### Optional arguments\n",
    "\n",
    "Any component can take arbitrary extra arguments. Some of these are pre-defined kwargs (e.g. ``coordinates``, ``redshift``, ``current_masses`` etc.), but any additional ``**kwargs`` will be unpacked and attached to the component instances (here a ``Stars`` instance). This is particularly useful when working with emission models that require component level attributes (e.g. particle specific optical depths)."
   ]
  },
  {
   "cell_type": "code",
   "execution_count": 4,
   "metadata": {
    "execution": {
     "iopub.execute_input": "2024-08-20T12:55:43.998572Z",
     "iopub.status.busy": "2024-08-20T12:55:43.998129Z",
     "iopub.status.idle": "2024-08-20T12:55:44.005978Z",
     "shell.execute_reply": "2024-08-20T12:55:44.005261Z"
    }
   },
   "outputs": [
    {
     "name": "stdout",
     "output_type": "stream",
     "text": [
      "+------------------------------------------------------------------------------+\n",
      "|                                    STARS                                     |\n",
      "+-----------------------+------------------------------------------------------+\n",
      "| Attribute             | Value                                                |\n",
      "+-----------------------+------------------------------------------------------+\n",
      "| redshift              | 5                                                    |\n",
      "+-----------------------+------------------------------------------------------+\n",
      "| nparticles            | 100                                                  |\n",
      "+-----------------------+------------------------------------------------------+\n",
      "| metallicity_floor     | 1.00e-05                                             |\n",
      "+-----------------------+------------------------------------------------------+\n",
      "| name                  | 'Stars'                                              |\n",
      "+-----------------------+------------------------------------------------------+\n",
      "| resampled             | False                                                |\n",
      "+-----------------------+------------------------------------------------------+\n",
      "| nstars                | 100                                                  |\n",
      "+-----------------------+------------------------------------------------------+\n",
      "| coordinates (100, 3)  | 5.00e+01 Mpc -> 5.00e+01 Mpc (Mean: 5.00e+01 Mpc)    |\n",
      "+-----------------------+------------------------------------------------------+\n",
      "| masses (100,)         | 9.70e+03 Msun -> 9.97e+05 Msun (Mean: 5.27e+05 Msun) |\n",
      "+-----------------------+------------------------------------------------------+\n",
      "| centre                | [50 50 50] Mpc                                       |\n",
      "+-----------------------+------------------------------------------------------+\n",
      "| tau_v (100,)          | 2.80e-03 -> 9.94e-01 (Mean: 5.05e-01)                |\n",
      "+-----------------------+------------------------------------------------------+\n",
      "| ages (100,)           | 6.80e+04 yr -> 9.96e+07 yr (Mean: 5.20e+07 yr)       |\n",
      "+-----------------------+------------------------------------------------------+\n",
      "| metallicities (100,)  | 6.02e-06 -> 9.88e-03 (Mean: 4.74e-03)                |\n",
      "+-----------------------+------------------------------------------------------+\n",
      "| initial_masses (100,) | 1.00e+06 Msun -> 1.00e+06 Msun (Mean: 1.00e+06 Msun) |\n",
      "+-----------------------+------------------------------------------------------+\n",
      "| current_masses (100,) | 9.70e+03 Msun -> 9.97e+05 Msun (Mean: 5.27e+05 Msun) |\n",
      "+-----------------------+------------------------------------------------------+\n"
     ]
    }
   ],
   "source": [
    "tau_v = np.random.rand(N)\n",
    "coordinates = np.random.normal(50, 0.005, (N, 3))\n",
    "centre = np.array([50, 50, 50])\n",
    "redshift = 5\n",
    "\n",
    "stars = Stars(\n",
    "    initial_masses=initial_masses,\n",
    "    ages=ages,\n",
    "    metallicities=metallicities,\n",
    "    # Pre defined Quantitys\n",
    "    coordinates=coordinates,\n",
    "    centre=centre,\n",
    "    # Optional argument\n",
    "    redshift=redshift,\n",
    "    current_masses=initial_masses - (np.random.rand(N) * 1e6 * Msun),\n",
    "    # Arbitrary kwarg for modelling\n",
    "    tau_v=tau_v,\n",
    ")\n",
    "print(stars)"
   ]
  },
  {
   "cell_type": "markdown",
   "metadata": {},
   "source": [
    "### Computing characteristics radii\n",
    "\n",
    "Characteristic radii can be computed for the stellar particle distribution. We can either calculate the half-mass radius."
   ]
  },
  {
   "cell_type": "code",
   "execution_count": 5,
   "metadata": {
    "execution": {
     "iopub.execute_input": "2024-08-20T12:55:44.009109Z",
     "iopub.status.busy": "2024-08-20T12:55:44.008638Z",
     "iopub.status.idle": "2024-08-20T12:55:44.012635Z",
     "shell.execute_reply": "2024-08-20T12:55:44.011929Z"
    }
   },
   "outputs": [
    {
     "name": "stdout",
     "output_type": "stream",
     "text": [
      "0.008070714359015248 Mpc\n"
     ]
    }
   ],
   "source": [
    "r = stars.get_half_mass_radius()\n",
    "print(r)"
   ]
  },
  {
   "cell_type": "markdown",
   "metadata": {},
   "source": [
    "Or use an aribtrary attribute for the radius weight. Here we'll use the optical depth for a \"half tau_V radius\"."
   ]
  },
  {
   "cell_type": "code",
   "execution_count": 6,
   "metadata": {
    "execution": {
     "iopub.execute_input": "2024-08-20T12:55:44.015839Z",
     "iopub.status.busy": "2024-08-20T12:55:44.015354Z",
     "iopub.status.idle": "2024-08-20T12:55:44.019646Z",
     "shell.execute_reply": "2024-08-20T12:55:44.018996Z"
    }
   },
   "outputs": [
    {
     "name": "stdout",
     "output_type": "stream",
     "text": [
      "0.007891892841889956 Mpc\n"
     ]
    }
   ],
   "source": [
    "r = stars.get_attr_radius(\"tau_v\")\n",
    "print(r)"
   ]
  },
  {
   "cell_type": "markdown",
   "metadata": {},
   "source": [
    "We can also compute radii for different fractions by passing the fraction we want to calculate a radius for."
   ]
  },
  {
   "cell_type": "code",
   "execution_count": 7,
   "metadata": {
    "execution": {
     "iopub.execute_input": "2024-08-20T12:55:44.022555Z",
     "iopub.status.busy": "2024-08-20T12:55:44.022153Z",
     "iopub.status.idle": "2024-08-20T12:55:44.026600Z",
     "shell.execute_reply": "2024-08-20T12:55:44.025909Z"
    }
   },
   "outputs": [
    {
     "name": "stdout",
     "output_type": "stream",
     "text": [
      "0.005848540233350333 Mpc 0.011606999878333095 Mpc\n"
     ]
    }
   ],
   "source": [
    "r20 = stars.get_attr_radius(\"masses\", frac=0.2)\n",
    "r80 = stars.get_attr_radius(\"masses\", frac=0.8)\n",
    "print(r20, r80)"
   ]
  },
  {
   "cell_type": "markdown",
   "metadata": {},
   "source": [
    "We can also calculate characteristic light radii from photometry. See the [photometry](../photometry/galaxy_phot.ipynb) documentation for more details."
   ]
  },
  {
   "attachments": {},
   "cell_type": "markdown",
   "metadata": {},
   "source": [
    "## Parametric Stars\n",
    "\n",
    "The core element of the parametric modelling in synthesizer is the `parametric.Stars` object. This contains everything necessary to describe a stellar population including:\n",
    "\n",
    "- A 2D SFZH grid containing the stellar mass formed in stellar age and metallicity bins.\n",
    "\n",
    "- A `Morphology` object describing it's distribution (optional but required for imaging).\n",
    "\n",
    "- The axes of the SFZH grid.\n",
    "\n",
    "- The total initial stellar mass.\n",
    "\n",
    "And if calculated by the user:\n",
    "\n",
    "- The [stellar spectra](../spectra/stars.ipynb).\n",
    "\n",
    "- [Line luminosities](../lines/lines.rst).\n",
    "\n",
    "There are a number of different methods to define a parametric stellar population (from here on a `Stars` object). In what follows we will focus on user defined values/arrays but note that each different method could instead use simulated data (e.g. from Semi Analytic Models) rather than user defined values.\n",
    "\n",
    "The possible ways of defining a `Stars` object are (the age and metallicity axis of the SFZH must always be supplied):\n",
    "\n",
    "- Explictly providing the SFZH grid itself. Note that this will mean all other definitions below are ignored.\n",
    "\n",
    "- Providing singular age and metallicity values to define an \"instantaneous\" SFZH, i.e. one where all the stellar mass is in a single age and metallicity bin.\n",
    "\n",
    "- Providing arrays which contain the SFH and metallicity distribution in terms of stellar mass formed.\n",
    "\n",
    "- Providing SFH and metallcity distribution functions (from `parametric.sf_hist` and `parametric.metal_dist`). These will be used internally to compute the arrays from the previous point.\n",
    "\n",
    "- Any combination of the above.\n",
    "\n",
    "Below we simply import some packages and objects we'll need."
   ]
  },
  {
   "cell_type": "code",
   "execution_count": 8,
   "metadata": {
    "execution": {
     "iopub.execute_input": "2024-08-20T12:55:44.029563Z",
     "iopub.status.busy": "2024-08-20T12:55:44.029075Z",
     "iopub.status.idle": "2024-08-20T12:55:44.032406Z",
     "shell.execute_reply": "2024-08-20T12:55:44.031851Z"
    }
   },
   "outputs": [],
   "source": [
    "import numpy as np\n",
    "from unyt import Myr\n",
    "\n",
    "from synthesizer.parametric import SFH, Stars, ZDist"
   ]
  },
  {
   "cell_type": "markdown",
   "metadata": {},
   "source": [
    "### Defining an instantaneous SFZH\n",
    "\n",
    "To define an instantaneous SFZH we need only to provide the age and metallicity of the SFZH bin, alongside the SFZH axis arrays and the total initial mass of the `Stars` object. Note that the `log10ages` and `log10metallicites`/`metallicities` will likely come from a `Grid` object in most workflows (see the `Grid` [docs](../grids/grids.rst))."
   ]
  },
  {
   "cell_type": "code",
   "execution_count": 9,
   "metadata": {
    "execution": {
     "iopub.execute_input": "2024-08-20T12:55:44.035218Z",
     "iopub.status.busy": "2024-08-20T12:55:44.034771Z",
     "iopub.status.idle": "2024-08-20T12:55:44.039311Z",
     "shell.execute_reply": "2024-08-20T12:55:44.038745Z"
    }
   },
   "outputs": [],
   "source": [
    "# Create the SFZH axis arrays\n",
    "log10ages = np.arange(6.0, 10.5, 0.1)  # log10(age/yr)\n",
    "log10metallicities = np.arange(-5.0, -1.5, 0.25)\n",
    "metallicities = 10**log10metallicities\n",
    "\n",
    "# Get the instantaneous Stars\n",
    "inst_stars = Stars(\n",
    "    log10ages,\n",
    "    metallicities,\n",
    "    sf_hist=100 * Myr,\n",
    "    metal_dist=10**-3,\n",
    "    initial_mass=10**9,\n",
    ")"
   ]
  },
  {
   "cell_type": "markdown",
   "metadata": {},
   "source": [
    "To see the created SFZH you can print some basic statistics by printing the `Stars` object."
   ]
  },
  {
   "cell_type": "code",
   "execution_count": 10,
   "metadata": {
    "execution": {
     "iopub.execute_input": "2024-08-20T12:55:44.041980Z",
     "iopub.status.busy": "2024-08-20T12:55:44.041727Z",
     "iopub.status.idle": "2024-08-20T12:55:44.046446Z",
     "shell.execute_reply": "2024-08-20T12:55:44.045745Z"
    }
   },
   "outputs": [
    {
     "name": "stdout",
     "output_type": "stream",
     "text": [
      "+---------------------------------------------------------------------------+\n",
      "|                                   STARS                                   |\n",
      "+--------------------------+------------------------------------------------+\n",
      "| Attribute                | Value                                          |\n",
      "+--------------------------+------------------------------------------------+\n",
      "| metallicity_grid_type    | 'log10Z'                                       |\n",
      "+--------------------------+------------------------------------------------+\n",
      "| log10ages_lims           | [6.0,  10.399999999999984, ]                   |\n",
      "+--------------------------+------------------------------------------------+\n",
      "| metallicities_lims       | [1e-05,  0.01778279410038923, ]                |\n",
      "+--------------------------+------------------------------------------------+\n",
      "| log10metallicities_lims  | [-5.0,  -1.75, ]                               |\n",
      "+--------------------------+------------------------------------------------+\n",
      "| ages (45,)               | 1.00e+06 yr -> 2.51e+10 yr (Mean: 2.71e+09 yr) |\n",
      "+--------------------------+------------------------------------------------+\n",
      "| metallicities (14,)      | 1.00e-05 -> 1.78e-02 (Mean: 2.90e-03)          |\n",
      "+--------------------------+------------------------------------------------+\n",
      "| log10ages (45,)          | 6.00e+00 -> 1.04e+01 (Mean: 8.20e+00)          |\n",
      "+--------------------------+------------------------------------------------+\n",
      "| log10metallicities (14,) | -5.00e+00 -> -1.75e+00 (Mean: -3.38e+00)       |\n",
      "+--------------------------+------------------------------------------------+\n",
      "| sf_hist (45,)            | 0.00e+00 -> 1.00e+09 (Mean: 2.22e+07)          |\n",
      "+--------------------------+------------------------------------------------+\n",
      "| metal_dist (14,)         | 0.00e+00 -> 1.00e+09 (Mean: 7.14e+07)          |\n",
      "+--------------------------+------------------------------------------------+\n",
      "| initial_mass             | 999999999.9999999 Msun                         |\n",
      "+--------------------------+------------------------------------------------+\n",
      "| sfzh (45, 14)            | 0.00e+00 -> 1.00e+09 (Mean: 1.59e+06)          |\n",
      "+--------------------------+------------------------------------------------+\n"
     ]
    }
   ],
   "source": [
    "print(inst_stars)"
   ]
  },
  {
   "cell_type": "markdown",
   "metadata": {},
   "source": [
    "Or to probe the SFZH you can plot it using the provided helper function."
   ]
  },
  {
   "cell_type": "code",
   "execution_count": 11,
   "metadata": {
    "execution": {
     "iopub.execute_input": "2024-08-20T12:55:44.049064Z",
     "iopub.status.busy": "2024-08-20T12:55:44.048812Z",
     "iopub.status.idle": "2024-08-20T12:55:44.268297Z",
     "shell.execute_reply": "2024-08-20T12:55:44.267659Z"
    }
   },
   "outputs": [
    {
     "data": {
      "image/png": "[encoded data removed]",
      "text/plain": [
       "<Figure size 350x350 with 3 Axes>"
      ]
     },
     "metadata": {},
     "output_type": "display_data"
    }
   ],
   "source": [
    "fig, ax = inst_stars.plot_sfzh(show=True)"
   ]
  },
  {
   "cell_type": "markdown",
   "metadata": {},
   "source": [
    "### Defining a SFZH from arrays\n",
    "\n",
    "Of course, most of the time you won't want an instantaneous SFZH but instead a distribution. One way to achieve this is to pass arrays describing the SFH and metallicity distribution. This is particularly useful if you have data explictly describing the ages and metallicities of a stellar population. However, here we'll demonstrate this with entirely unphysical arrays."
   ]
  },
  {
   "cell_type": "code",
   "execution_count": 12,
   "metadata": {
    "execution": {
     "iopub.execute_input": "2024-08-20T12:55:44.271208Z",
     "iopub.status.busy": "2024-08-20T12:55:44.270967Z",
     "iopub.status.idle": "2024-08-20T12:55:44.394503Z",
     "shell.execute_reply": "2024-08-20T12:55:44.393773Z"
    }
   },
   "outputs": [
    {
     "name": "stdout",
     "output_type": "stream",
     "text": [
      "+---------------------------------------------------------------------------+\n",
      "|                                   STARS                                   |\n",
      "+--------------------------+------------------------------------------------+\n",
      "| Attribute                | Value                                          |\n",
      "+--------------------------+------------------------------------------------+\n",
      "| metallicity_grid_type    | 'log10Z'                                       |\n",
      "+--------------------------+------------------------------------------------+\n",
      "| log10ages_lims           | [6.0,  10.399999999999984, ]                   |\n",
      "+--------------------------+------------------------------------------------+\n",
      "| metallicities_lims       | [1e-05,  0.01778279410038923, ]                |\n",
      "+--------------------------+------------------------------------------------+\n",
      "| log10metallicities_lims  | [-5.0,  -1.75, ]                               |\n",
      "+--------------------------+------------------------------------------------+\n",
      "| ages (45,)               | 1.00e+06 yr -> 2.51e+10 yr (Mean: 2.71e+09 yr) |\n",
      "+--------------------------+------------------------------------------------+\n",
      "| metallicities (14,)      | 1.00e-05 -> 1.78e-02 (Mean: 2.90e-03)          |\n",
      "+--------------------------+------------------------------------------------+\n",
      "| log10ages (45,)          | 6.00e+00 -> 1.04e+01 (Mean: 8.20e+00)          |\n",
      "+--------------------------+------------------------------------------------+\n",
      "| log10metallicities (14,) | -5.00e+00 -> -1.75e+00 (Mean: -3.38e+00)       |\n",
      "+--------------------------+------------------------------------------------+\n",
      "| sf_hist (45,)            | 0.00e+00 -> 1.00e+00 (Mean: 1.67e-01)          |\n",
      "+--------------------------+------------------------------------------------+\n",
      "| metal_dist (14,)         | 0.00e+00 -> 1.00e+00 (Mean: 1.43e-01)          |\n",
      "+--------------------------+------------------------------------------------+\n",
      "| initial_mass             | 999999999.9999999 Msun                         |\n",
      "+--------------------------+------------------------------------------------+\n",
      "| sfzh (45, 14)            | 0.00e+00 -> 6.67e+07 (Mean: 1.59e+06)          |\n",
      "+--------------------------+------------------------------------------------+\n"
     ]
    },
    {
     "data": {
      "image/png": "[encoded data removed]",
      "text/plain": [
       "<Figure size 350x350 with 3 Axes>"
      ]
     },
     "metadata": {},
     "output_type": "display_data"
    }
   ],
   "source": [
    "# Create arrays for SFH and ZDist\n",
    "sf_hist = np.zeros_like(log10ages)\n",
    "metal_dist = np.zeros_like(metallicities)\n",
    "sf_hist[10:15] = 1\n",
    "sf_hist[15:20] = 0.5\n",
    "metal_dist[5:6] = 1\n",
    "metal_dist[6:8] = 0.5\n",
    "\n",
    "# Get the Stars\n",
    "arr_stars = Stars(\n",
    "    log10ages,\n",
    "    metallicities,\n",
    "    sf_hist=sf_hist,\n",
    "    metal_dist=metal_dist,\n",
    "    initial_mass=10**9,\n",
    ")\n",
    "print(arr_stars)\n",
    "fig, ax = arr_stars.plot_sfzh(show=True)"
   ]
  },
  {
   "cell_type": "markdown",
   "metadata": {},
   "source": [
    "### Defining a SFZH using functions\n",
    "\n",
    "You won't always have explict arrays to describe the age and metallicity distributions. For these situations synthesizer provides a suite of functions to describe the SFH and metallicity distribution. \n",
    "\n",
    "SFH parametrisations can be found in the `SFH` module, while metallicity distribution parametrisations can be found in the `ZDist` module. To see a full list of available parametrisations just print the `parametrisations` list from these modules`."
   ]
  },
  {
   "cell_type": "code",
   "execution_count": 13,
   "metadata": {
    "execution": {
     "iopub.execute_input": "2024-08-20T12:55:44.397498Z",
     "iopub.status.busy": "2024-08-20T12:55:44.397071Z",
     "iopub.status.idle": "2024-08-20T12:55:44.400624Z",
     "shell.execute_reply": "2024-08-20T12:55:44.399942Z"
    }
   },
   "outputs": [
    {
     "name": "stdout",
     "output_type": "stream",
     "text": [
      "('Constant', 'Gaussian', 'Exponential', 'TruncatedExponential', 'DecliningExponential', 'DelayedExponentialLogNormal', 'DoublePowerLaw')\n",
      "('DeltaConstant', 'Normal')\n"
     ]
    }
   ],
   "source": [
    "print(SFH.parametrisations)\n",
    "print(ZDist.parametrisations)"
   ]
  },
  {
   "cell_type": "markdown",
   "metadata": {},
   "source": [
    "To use one of these parametrisations you have to first define an instance of a parametrisation and then pass it to the `Stars` object at instantiation. Below we demonstrate an example using a delta function for the metallicity distribution, and a constant SFH. Note that you can combine any type of SFH and metallicity distribution inputs."
   ]
  },
  {
   "cell_type": "code",
   "execution_count": 14,
   "metadata": {
    "execution": {
     "iopub.execute_input": "2024-08-20T12:55:44.403527Z",
     "iopub.status.busy": "2024-08-20T12:55:44.403031Z",
     "iopub.status.idle": "2024-08-20T12:55:44.584458Z",
     "shell.execute_reply": "2024-08-20T12:55:44.583765Z"
    }
   },
   "outputs": [
    {
     "name": "stdout",
     "output_type": "stream",
     "text": [
      "----------\n",
      "SUMMARY OF PARAMETERISED METAL ENRICHMENT HISTORY\n",
      "<class 'synthesizer.parametric.metal_dist.DeltaConstant'>\n",
      "metallicity: None\n",
      "log10metallicity: -2.5\n",
      "----------\n",
      "\n",
      "----------\n",
      "SUMMARY OF PARAMETERISED STAR FORMATION HISTORY\n",
      "<class 'synthesizer.parametric.sf_hist.Constant'>\n",
      "min_age: 0 yr\n",
      "max_age: 100 Myr\n",
      "median age: 50.00 Myr\n",
      "mean age: 50.00 Myr\n",
      "----------\n",
      "\n",
      "+-------------------------------------------------------------------------------------------------------+\n",
      "|                                                 STARS                                                 |\n",
      "+--------------------------+----------------------------------------------------------------------------+\n",
      "| Attribute                | Value                                                                      |\n",
      "+--------------------------+----------------------------------------------------------------------------+\n",
      "| sf_hist_func             | <synthesizer.parametric.sf_hist.Constant object at 0x7fbff8c28910>         |\n",
      "+--------------------------+----------------------------------------------------------------------------+\n",
      "| metal_dist_func          | <synthesizer.parametric.metal_dist.DeltaConstant object at 0x7fbff8d7dc00> |\n",
      "+--------------------------+----------------------------------------------------------------------------+\n",
      "| metallicity_grid_type    | 'log10Z'                                                                   |\n",
      "+--------------------------+----------------------------------------------------------------------------+\n",
      "| log10ages_lims           | [6.0,  10.399999999999984, ]                                               |\n",
      "+--------------------------+----------------------------------------------------------------------------+\n",
      "| metallicities_lims       | [1e-05,  0.01778279410038923, ]                                            |\n",
      "+--------------------------+----------------------------------------------------------------------------+\n",
      "| log10metallicities_lims  | [-5.0,  -1.75, ]                                                           |\n",
      "+--------------------------+----------------------------------------------------------------------------+\n",
      "| ages (45,)               | 1.00e+06 yr -> 2.51e+10 yr (Mean: 2.71e+09 yr)                             |\n",
      "+--------------------------+----------------------------------------------------------------------------+\n",
      "| metallicities (14,)      | 1.00e-05 -> 1.78e-02 (Mean: 2.90e-03)                                      |\n",
      "+--------------------------+----------------------------------------------------------------------------+\n",
      "| log10ages (45,)          | 6.00e+00 -> 1.04e+01 (Mean: 8.20e+00)                                      |\n",
      "+--------------------------+----------------------------------------------------------------------------+\n",
      "| log10metallicities (14,) | -5.00e+00 -> -1.75e+00 (Mean: -3.38e+00)                                   |\n",
      "+--------------------------+----------------------------------------------------------------------------+\n",
      "| sf_hist (45,)            | 0.00e+00 -> 1.85e+08 (Mean: 2.22e+07)                                      |\n",
      "+--------------------------+----------------------------------------------------------------------------+\n",
      "| metal_dist (14,)         | 0.00e+00 -> 1.00e+09 (Mean: 7.14e+07)                                      |\n",
      "+--------------------------+----------------------------------------------------------------------------+\n",
      "| initial_mass             | 999999999.9999999 Msun                                                     |\n",
      "+--------------------------+----------------------------------------------------------------------------+\n",
      "| sfzh (45, 14)            | 0.00e+00 -> 1.85e+08 (Mean: 1.59e+06)                                      |\n",
      "+--------------------------+----------------------------------------------------------------------------+\n"
     ]
    },
    {
     "data": {
      "image/png": "[encoded data removed]",
      "text/plain": [
       "<Figure size 350x350 with 3 Axes>"
      ]
     },
     "metadata": {},
     "output_type": "display_data"
    }
   ],
   "source": [
    "# Define a delta function for metallicity\n",
    "metal_dist = ZDist.DeltaConstant(log10metallicity=-2.5)\n",
    "print(metal_dist)\n",
    "\n",
    "# Define a constant SFH\n",
    "sfh = SFH.Constant(100 * Myr)\n",
    "print(sfh)\n",
    "\n",
    "# Create the Stars object\n",
    "const_stars = Stars(\n",
    "    log10ages,\n",
    "    metallicities,\n",
    "    sf_hist=sfh,\n",
    "    metal_dist=metal_dist,\n",
    "    initial_mass=10**9,\n",
    ")\n",
    "print(const_stars)\n",
    "fig, ax = const_stars.plot_sfzh(show=True)"
   ]
  },
  {
   "cell_type": "markdown",
   "metadata": {},
   "source": [
    "### Combining `Stars`\n",
    "\n",
    "We can also combine individual `Stars` objects together to produce more complicated star formation and metal enrichment histories by simply adding them."
   ]
  },
  {
   "cell_type": "code",
   "execution_count": 15,
   "metadata": {
    "execution": {
     "iopub.execute_input": "2024-08-20T12:55:44.587515Z",
     "iopub.status.busy": "2024-08-20T12:55:44.586999Z",
     "iopub.status.idle": "2024-08-20T12:55:44.724456Z",
     "shell.execute_reply": "2024-08-20T12:55:44.723686Z"
    }
   },
   "outputs": [
    {
     "name": "stdout",
     "output_type": "stream",
     "text": [
      "+---------------------------------------------------------------------------+\n",
      "|                                   STARS                                   |\n",
      "+--------------------------+------------------------------------------------+\n",
      "| Attribute                | Value                                          |\n",
      "+--------------------------+------------------------------------------------+\n",
      "| metallicity_grid_type    | 'log10Z'                                       |\n",
      "+--------------------------+------------------------------------------------+\n",
      "| log10ages_lims           | [6.0,  10.399999999999984, ]                   |\n",
      "+--------------------------+------------------------------------------------+\n",
      "| metallicities_lims       | [1e-05,  0.01778279410038923, ]                |\n",
      "+--------------------------+------------------------------------------------+\n",
      "| log10metallicities_lims  | [-5.0,  -1.75, ]                               |\n",
      "+--------------------------+------------------------------------------------+\n",
      "| ages (45,)               | 1.00e+06 yr -> 2.51e+10 yr (Mean: 2.71e+09 yr) |\n",
      "+--------------------------+------------------------------------------------+\n",
      "| metallicities (14,)      | 1.00e-05 -> 1.78e-02 (Mean: 2.90e-03)          |\n",
      "+--------------------------+------------------------------------------------+\n",
      "| log10ages (45,)          | 6.00e+00 -> 1.04e+01 (Mean: 8.20e+00)          |\n",
      "+--------------------------+------------------------------------------------+\n",
      "| log10metallicities (14,) | -5.00e+00 -> -1.75e+00 (Mean: -3.38e+00)       |\n",
      "+--------------------------+------------------------------------------------+\n",
      "| sf_hist (45,)            | 0.00e+00 -> 1.02e+09 (Mean: 1.37e+08)          |\n",
      "+--------------------------+------------------------------------------------+\n",
      "| metal_dist (14,)         | 0.00e+00 -> 4.16e+09 (Mean: 4.40e+08)          |\n",
      "+--------------------------+------------------------------------------------+\n",
      "| initial_mass             | 0.9999999999999999 Msun                        |\n",
      "+--------------------------+------------------------------------------------+\n",
      "| sfzh (45, 14)            | 0.00e+00 -> 7.68e+08 (Mean: 9.78e+06)          |\n",
      "+--------------------------+------------------------------------------------+\n"
     ]
    },
    {
     "data": {
      "image/png": "[encoded data removed]",
      "text/plain": [
       "<Figure size 350x350 with 3 Axes>"
      ]
     },
     "metadata": {},
     "output_type": "display_data"
    }
   ],
   "source": [
    "# Create an exponential Stars object\n",
    "exp_stars = Stars(\n",
    "    log10ages,\n",
    "    metallicities,\n",
    "    sf_hist=sfh,\n",
    "    metal_dist=metal_dist,\n",
    "    initial_mass=10**9.5,\n",
    ")\n",
    "\n",
    "# Create a log-normal Stars object\n",
    "logn_stars = Stars(\n",
    "    log10ages,\n",
    "    metallicities,\n",
    "    sf_hist=sfh,\n",
    "    metal_dist=0.005,\n",
    "    initial_mass=10**9,\n",
    ")\n",
    "\n",
    "combined = arr_stars + const_stars + exp_stars + logn_stars\n",
    "print(combined)\n",
    "\n",
    "fig, ax = combined.plot_sfzh()"
   ]
  },
  {
   "cell_type": "markdown",
   "metadata": {},
   "source": [
    "#### Defining your own parametrisations\n",
    "\n",
    "If synthesizer doesn't already include a parametrisation you need, you can add a custom parametrisation by defining a new class.\n",
    "\n",
    "The important requirements of a custom function are:\n",
    "\n",
    "- They inherit the `Common` parent class.\n",
    "\n",
    "- They instantiate the parent class (`SFH/ZDist.Common`) with the model parameters and a meaningful name.\n",
    "\n",
    "- They implement a private `_sfr` method which takes a single age and returns a single SFR weight in the `SFH` case, or they implement a `_weight` method which takes a single metallicity and returns a single metallicity weight in the `ZDist` case.\n",
    "\n",
    "- The `SFH` methods should perform their calculations in *years*.\n",
    "\n",
    "Below we demonstrate how to define a custom function using existing SFH and metallicity distribution functions for demonstration purposes."
   ]
  },
  {
   "cell_type": "code",
   "execution_count": 16,
   "metadata": {
    "execution": {
     "iopub.execute_input": "2024-08-20T12:55:44.727469Z",
     "iopub.status.busy": "2024-08-20T12:55:44.727065Z",
     "iopub.status.idle": "2024-08-20T12:55:44.889749Z",
     "shell.execute_reply": "2024-08-20T12:55:44.889038Z"
    }
   },
   "outputs": [
    {
     "name": "stdout",
     "output_type": "stream",
     "text": [
      "----------\n",
      "SUMMARY OF PARAMETERISED METAL ENRICHMENT HISTORY\n",
      "<class '__main__.Normal'>\n",
      "mean: 0.05\n",
      "sigma: 0.001\n",
      "----------\n",
      "\n",
      "----------\n",
      "SUMMARY OF PARAMETERISED STAR FORMATION HISTORY\n",
      "<class '__main__.Constant'>\n",
      "duration: 500 Myr\n",
      "median age: 250.00 Myr\n",
      "mean age: 250.00 Myr\n",
      "----------\n",
      "\n",
      "+---------------------------------------------------------------------------+\n",
      "|                                   STARS                                   |\n",
      "+--------------------------+------------------------------------------------+\n",
      "| Attribute                | Value                                          |\n",
      "+--------------------------+------------------------------------------------+\n",
      "| sf_hist_func             | <__main__.Constant object at 0x7fbff892fbb0>   |\n",
      "+--------------------------+------------------------------------------------+\n",
      "| metal_dist_func          | <__main__.Normal object at 0x7fbff892fc10>     |\n",
      "+--------------------------+------------------------------------------------+\n",
      "| metallicity_grid_type    | 'log10Z'                                       |\n",
      "+--------------------------+------------------------------------------------+\n",
      "| log10ages_lims           | [6.0,  10.399999999999984, ]                   |\n",
      "+--------------------------+------------------------------------------------+\n",
      "| metallicities_lims       | [1e-05,  0.01778279410038923, ]                |\n",
      "+--------------------------+------------------------------------------------+\n",
      "| log10metallicities_lims  | [-5.0,  -1.75, ]                               |\n",
      "+--------------------------+------------------------------------------------+\n",
      "| ages (45,)               | 1.00e+06 yr -> 2.51e+10 yr (Mean: 2.71e+09 yr) |\n",
      "+--------------------------+------------------------------------------------+\n",
      "| metallicities (14,)      | 1.00e-05 -> 1.78e-02 (Mean: 2.90e-03)          |\n",
      "+--------------------------+------------------------------------------------+\n",
      "| log10ages (45,)          | 6.00e+00 -> 1.04e+01 (Mean: 8.20e+00)          |\n",
      "+--------------------------+------------------------------------------------+\n",
      "| log10metallicities (14,) | -5.00e+00 -> -1.75e+00 (Mean: -3.38e+00)       |\n",
      "+--------------------------+------------------------------------------------+\n",
      "| sf_hist (45,)            | 0.00e+00 -> 1.85e+08 (Mean: 2.22e+07)          |\n",
      "+--------------------------+------------------------------------------------+\n",
      "| metal_dist (14,)         | 0.00e+00 -> 1.00e+09 (Mean: 7.14e+07)          |\n",
      "+--------------------------+------------------------------------------------+\n",
      "| initial_mass             | 999999999.9999999 Msun                         |\n",
      "+--------------------------+------------------------------------------------+\n",
      "| sfzh (45, 14)            | 0.00e+00 -> 1.85e+08 (Mean: 1.59e+06)          |\n",
      "+--------------------------+------------------------------------------------+\n"
     ]
    },
    {
     "data": {
      "image/png": "[encoded data removed]",
      "text/plain": [
       "<Figure size 350x350 with 3 Axes>"
      ]
     },
     "metadata": {},
     "output_type": "display_data"
    }
   ],
   "source": [
    "class Normal(ZDist.Common):\n",
    "    \"\"\"\n",
    "    A normally distributed metallicity distribution.\n",
    "\n",
    "    Attributes:\n",
    "        mean (float)\n",
    "            The mean of the normal distribution.\n",
    "        sigma (float)\n",
    "            The standard deviation of the normal distribution.\n",
    "    \"\"\"\n",
    "\n",
    "    def __init__(self, mean, sigma):\n",
    "        \"\"\"\n",
    "        Initialise the metallicity distribution and parent.\n",
    "\n",
    "        Either metallicity or log10metallicity must be provided.\n",
    "\n",
    "        Args:\n",
    "            mean (float)\n",
    "                The mean of the normal distribution.\n",
    "            sigma (float)\n",
    "                The standard deviation of the normal distribution.\n",
    "        \"\"\"\n",
    "\n",
    "        # Instantiate the parent\n",
    "        ZDist.Common.__init__(\n",
    "            self,\n",
    "            name=\"Normal\",\n",
    "            mean=mean,\n",
    "            sigma=sigma,\n",
    "        )\n",
    "\n",
    "        # Define this models parameters\n",
    "        self.mean = mean\n",
    "        self.sigma = sigma\n",
    "\n",
    "    def _weight(self, metal):\n",
    "        \"\"\"\n",
    "        Return the distribution at a metallicity.\n",
    "\n",
    "        Args:\n",
    "            metal (float)\n",
    "                The (linear) metallicity at which to evaluate the distribution.\n",
    "\n",
    "        Returns:\n",
    "            float\n",
    "                The weight of the metallicity distribution at metal.\n",
    "        \"\"\"\n",
    "        norm = 1 / (self.sigma * np.sqrt(2 * np.pi))\n",
    "        exponent = ((metal - self.mean) / self.sigma) ** 2\n",
    "        return norm * np.exp(-0.5 * exponent)\n",
    "\n",
    "\n",
    "class Constant(SFH.Common):\n",
    "    \"\"\"\n",
    "    A constant star formation history.\n",
    "\n",
    "    The SFR is defined such that:\n",
    "        sfr = 1; t<=duration\n",
    "        sfr = 0; t>duration\n",
    "\n",
    "    Attributes:\n",
    "        duration (float)\n",
    "            The duration of the period of constant star formation.\n",
    "    \"\"\"\n",
    "\n",
    "    def __init__(self, duration):\n",
    "        \"\"\"\n",
    "        Initialise the parent and this parametrisation of the SFH.\n",
    "\n",
    "        Args:\n",
    "            duration (unyt_quantity)\n",
    "                The duration of the period of constant star formation.\n",
    "        \"\"\"\n",
    "\n",
    "        # Initialise the parent\n",
    "        SFH.Common.__init__(self, name=\"Constant\", duration=duration)\n",
    "\n",
    "        # Set the model parameters\n",
    "        self.duration = duration.to(\"yr\").value\n",
    "\n",
    "    def _sfr(self, age):\n",
    "        \"\"\"\n",
    "        Get the amount SFR weight in a single age bin.\n",
    "\n",
    "        Args:\n",
    "            age (float)\n",
    "                The age (in years) at which to evaluate the SFR.\n",
    "        \"\"\"\n",
    "\n",
    "        # Set the SFR based on the duration.\n",
    "        if age <= self.duration:\n",
    "            return 1.0\n",
    "        return 0.0\n",
    "\n",
    "\n",
    "# Define a scaled delta function for metallicity\n",
    "metal_dist = Normal(mean=0.05, sigma=0.001)\n",
    "print(metal_dist)\n",
    "\n",
    "# Define an exponential SFH\n",
    "sfh = Constant(duration=500 * Myr)\n",
    "print(sfh)\n",
    "\n",
    "# Create the Stars object\n",
    "custom_stars = Stars(\n",
    "    log10ages,\n",
    "    metallicities,\n",
    "    sf_hist=sfh,\n",
    "    metal_dist=metal_dist,\n",
    "    initial_mass=10**9,\n",
    ")\n",
    "print(custom_stars)\n",
    "fig, ax = custom_stars.plot_sfzh(show=True)"
   ]
  }
 ],
 "metadata": {
  "language_info": {
   "codemirror_mode": {
    "name": "ipython",
    "version": 3
   },
   "file_extension": ".py",
   "mimetype": "text/x-python",
   "name": "python",
   "nbconvert_exporter": "python",
   "pygments_lexer": "ipython3",
   "version": "3.10.14"
  }
 },
 "nbformat": 4,
 "nbformat_minor": 2
}
