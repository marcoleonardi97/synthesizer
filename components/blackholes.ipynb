{
 "cells": [
  {
   "cell_type": "markdown",
   "id": "659dcb3a-891b-4271-9073-d02efbeb14d5",
   "metadata": {},
   "source": [
    "# Blackholes\n",
    "\n",
    "Synthesizer has a collection of routines for modelling the emission of black holes (i.e. AGN).\n",
    "When coupled with a `Galaxy` object it also allows users to combine with the emission from other galaxy components (i.e. stellar emission).\n",
    "\n",
    "Unlike stellar emission the division between a `particle` and a `parametric` `BlackHoles`/`BlackHole` object is not well defined; we explain below the differences in different use cases."
   ]
  },
  {
   "cell_type": "markdown",
   "id": "f94e0a00",
   "metadata": {},
   "source": [
    "## Parametric Blackholes\n",
    "\n",
    "If you are only interested in exploring the parameter space of AGN emission without simulation data to forward model you can use a `parametric.BlackHole`. There are some specific differences compared to `particle.BlackHole` objects to keep in mind:\n",
    "\n",
    "- A `parametric.BlackHole` can only ever describe a singular black hole. \n",
    "\n",
    "- A `parametric.BlackHole`'s \"position\" (i.e. if making an image) is described by a `PointSource` morphology object rather than coordinates.\n",
    "\n",
    "- A `parametric.BlackHole` exists in isolation, i.e. it does not interface directly with other parametric components."
   ]
  },
  {
   "cell_type": "code",
   "execution_count": 1,
   "id": "399caf89",
   "metadata": {
    "execution": {
     "iopub.execute_input": "2024-09-25T09:11:07.034652Z",
     "iopub.status.busy": "2024-09-25T09:11:07.034455Z",
     "iopub.status.idle": "2024-09-25T09:11:08.780253Z",
     "shell.execute_reply": "2024-09-25T09:11:08.779535Z"
    }
   },
   "outputs": [],
   "source": [
    "import numpy as np\n",
    "from unyt import Msun, deg, yr\n",
    "\n",
    "from synthesizer import galaxy\n",
    "from synthesizer.parametric import BlackHole\n",
    "\n",
    "# Set a random number seed to ensure consistent results\n",
    "np.random.seed(42)"
   ]
  },
  {
   "cell_type": "markdown",
   "id": "5fed6a84",
   "metadata": {},
   "source": [
    "First we need to initialise our `BlackHole` object with the parameters that will be needed to compute spectra."
   ]
  },
  {
   "cell_type": "code",
   "execution_count": 2,
   "id": "69c13ec2",
   "metadata": {
    "execution": {
     "iopub.execute_input": "2024-09-25T09:11:08.782892Z",
     "iopub.status.busy": "2024-09-25T09:11:08.782602Z",
     "iopub.status.idle": "2024-09-25T09:11:08.791504Z",
     "shell.execute_reply": "2024-09-25T09:11:08.790950Z"
    }
   },
   "outputs": [],
   "source": [
    "blackhole = BlackHole(\n",
    "    mass=1e8 * Msun,\n",
    "    inclination=60 * deg,\n",
    "    accretion_rate=1 * Msun / yr,\n",
    "    metallicity=0.01,\n",
    ")"
   ]
  },
  {
   "cell_type": "markdown",
   "id": "8d280233",
   "metadata": {},
   "source": [
    "Like other synthesizer objects we can get more information using the `print` command."
   ]
  },
  {
   "cell_type": "code",
   "execution_count": 3,
   "id": "08c6675c",
   "metadata": {
    "execution": {
     "iopub.execute_input": "2024-09-25T09:11:08.793435Z",
     "iopub.status.busy": "2024-09-25T09:11:08.793211Z",
     "iopub.status.idle": "2024-09-25T09:11:08.797946Z",
     "shell.execute_reply": "2024-09-25T09:11:08.797398Z"
    }
   },
   "outputs": [
    {
     "name": "stdout",
     "output_type": "stream",
     "text": [
      "+-----------------------------------------------------------------------------------------------------+\n",
      "|                                             BLACK HOLES                                             |\n",
      "+--------------------------+--------------------------------------------------------------------------+\n",
      "| Attribute                | Value                                                                    |\n",
      "+--------------------------+--------------------------------------------------------------------------+\n",
      "| epsilon                  | 0.10                                                                     |\n",
      "+--------------------------+--------------------------------------------------------------------------+\n",
      "| accretion_rate_eddington | 0.45                                                                     |\n",
      "+--------------------------+--------------------------------------------------------------------------+\n",
      "| metallicity              | 0.01                                                                     |\n",
      "+--------------------------+--------------------------------------------------------------------------+\n",
      "| ionisation_parameter_blr | 0.10                                                                     |\n",
      "+--------------------------+--------------------------------------------------------------------------+\n",
      "| covering_fraction_blr    | 0.10                                                                     |\n",
      "+--------------------------+--------------------------------------------------------------------------+\n",
      "| ionisation_parameter_nlr | 0.01                                                                     |\n",
      "+--------------------------+--------------------------------------------------------------------------+\n",
      "| covering_fraction_nlr    | 0.10                                                                     |\n",
      "+--------------------------+--------------------------------------------------------------------------+\n",
      "| eddington_ratio          | 0.45                                                                     |\n",
      "+--------------------------+--------------------------------------------------------------------------+\n",
      "| cosine_inclination       | 0.50                                                                     |\n",
      "+--------------------------+--------------------------------------------------------------------------+\n",
      "| morphology               | <synthesizer.parametric.morphology.PointSource object at 0x7f268cdc27d0> |\n",
      "+--------------------------+--------------------------------------------------------------------------+\n",
      "| mass                     | 100000000.0 Msun                                                         |\n",
      "+--------------------------+--------------------------------------------------------------------------+\n",
      "| accretion_rate           | 1.0 Msun/yr                                                              |\n",
      "+--------------------------+--------------------------------------------------------------------------+\n",
      "| bolometric_luminosity    | 5.6629751681288276e+45 erg/s                                             |\n",
      "+--------------------------+--------------------------------------------------------------------------+\n",
      "| hydrogen_density_blr     | 1000000000.0 cm**(-3)                                                    |\n",
      "+--------------------------+--------------------------------------------------------------------------+\n",
      "| velocity_dispersion_blr  | 2000 km/s                                                                |\n",
      "+--------------------------+--------------------------------------------------------------------------+\n",
      "| hydrogen_density_nlr     | 10000.0 cm**(-3)                                                         |\n",
      "+--------------------------+--------------------------------------------------------------------------+\n",
      "| velocity_dispersion_nlr  | 500 km/s                                                                 |\n",
      "+--------------------------+--------------------------------------------------------------------------+\n",
      "| inclination              | 60 degree                                                                |\n",
      "+--------------------------+--------------------------------------------------------------------------+\n",
      "| theta_torus              | 10 degree                                                                |\n",
      "+--------------------------+--------------------------------------------------------------------------+\n",
      "| torus_fraction           | 0.1111111111111111                                                       |\n",
      "+--------------------------+--------------------------------------------------------------------------+\n",
      "| _torus_edgeon_cond       | 70 degree                                                                |\n",
      "+--------------------------+--------------------------------------------------------------------------+\n",
      "| bb_temperature           | 223999.99999999997 K                                                     |\n",
      "+--------------------------+--------------------------------------------------------------------------+\n",
      "| eddington_luminosity     | 1.2570000000000002e+46 erg/s                                             |\n",
      "+--------------------------+--------------------------------------------------------------------------+\n"
     ]
    }
   ],
   "source": [
    "print(blackhole)"
   ]
  },
  {
   "cell_type": "markdown",
   "id": "9af26293",
   "metadata": {},
   "source": [
    "## Particle blackholes"
   ]
  },
  {
   "attachments": {},
   "cell_type": "markdown",
   "id": "8327fd4d",
   "metadata": {},
   "source": [
    "### Creating Particle Blackholes\n",
    "\n",
    "Before generating some simple observational quantities from physical properties we first need to create a `BlackHoles` object. This object can be found in `synthesizer/particle/blackholes.py`. "
   ]
  },
  {
   "cell_type": "code",
   "execution_count": 4,
   "id": "f00db3a1",
   "metadata": {
    "execution": {
     "iopub.execute_input": "2024-09-25T09:11:08.799962Z",
     "iopub.status.busy": "2024-09-25T09:11:08.799769Z",
     "iopub.status.idle": "2024-09-25T09:11:08.802725Z",
     "shell.execute_reply": "2024-09-25T09:11:08.802174Z"
    }
   },
   "outputs": [],
   "source": [
    "from synthesizer.particle import BlackHoles, Gas"
   ]
  },
  {
   "cell_type": "markdown",
   "id": "326cb123",
   "metadata": {},
   "source": [
    "Lets create an instance of `BlackHoles` containing 4 fake black holes.\n",
    "To do so we can provide a number of optional keyword arguments, but for now lets just provide their masses, metallicities, coordinates and accretion rates (the parameters required for spectra calculation).\n",
    "Note that `masses` and `accretion_rates` are positional arguments, and must therefore always be provided for `particle.BlackHoles`, while `parametric.BlackHole`s have more flexibility."
   ]
  },
  {
   "cell_type": "code",
   "execution_count": 5,
   "id": "79c4459f-4b18-43dd-922f-f20ad58bbfd6",
   "metadata": {
    "execution": {
     "iopub.execute_input": "2024-09-25T09:11:08.804641Z",
     "iopub.status.busy": "2024-09-25T09:11:08.804450Z",
     "iopub.status.idle": "2024-09-25T09:11:08.809472Z",
     "shell.execute_reply": "2024-09-25T09:11:08.808906Z"
    }
   },
   "outputs": [],
   "source": [
    "# Make fake properties\n",
    "n = 4\n",
    "masses = 10 ** np.random.uniform(low=7, high=9, size=n)  # Msun\n",
    "coordinates = np.random.normal(0, 1.5, (n, 3))  # cMpc\n",
    "accretion_rates = 10 ** np.random.uniform(\n",
    "    low=-2, high=1, size=n\n",
    ")  # Msun  # Msun / yr\n",
    "metallicities = np.full(n, 0.01)\n",
    "\n",
    "# And get the black holes object\n",
    "bh = BlackHoles(\n",
    "    masses=masses,\n",
    "    coordinates=coordinates,\n",
    "    accretion_rates=accretion_rates,\n",
    "    metallicities=metallicities,\n",
    ")"
   ]
  },
  {
   "attachments": {},
   "cell_type": "markdown",
   "id": "155a2514",
   "metadata": {},
   "source": [
    "For some emission models we require an inclination. This could, in principle, be calculated from the simulation and passed at instantiation, but for now we can use an in-built method to generate random inclinations."
   ]
  },
  {
   "cell_type": "code",
   "execution_count": 6,
   "id": "ed4a9c3b",
   "metadata": {
    "execution": {
     "iopub.execute_input": "2024-09-25T09:11:08.811549Z",
     "iopub.status.busy": "2024-09-25T09:11:08.811152Z",
     "iopub.status.idle": "2024-09-25T09:11:08.814853Z",
     "shell.execute_reply": "2024-09-25T09:11:08.814341Z"
    }
   },
   "outputs": [
    {
     "name": "stdout",
     "output_type": "stream",
     "text": [
      "[41.04629858 70.66583653 17.97064039 46.28109946] degree\n"
     ]
    }
   ],
   "source": [
    "bh.calculate_random_inclination()\n",
    "print(bh.inclination)"
   ]
  },
  {
   "attachments": {},
   "cell_type": "markdown",
   "id": "33201117",
   "metadata": {},
   "source": [
    "#### Blackhole properties"
   ]
  },
  {
   "attachments": {},
   "cell_type": "markdown",
   "id": "84687e7f",
   "metadata": {},
   "source": [
    "On initialisation a handful of properties will automatically be calculated if their prerequisites are met.\n",
    "For example, if `masses` and `accretion_rates` are provided, `bolometric_luminosities` are automatically calculated using, $$L_{\\rm \\bullet, bol} = \\epsilon_{r}\\dot{M}_{\\bullet}c^{2}.$$\n",
    "Note that the radiative efficency (`epsilon`) defaults to 0.1, but can be passed as an array with a value for each particle. "
   ]
  },
  {
   "cell_type": "code",
   "execution_count": 7,
   "id": "75ff6769",
   "metadata": {
    "execution": {
     "iopub.execute_input": "2024-09-25T09:11:08.817103Z",
     "iopub.status.busy": "2024-09-25T09:11:08.816667Z",
     "iopub.status.idle": "2024-09-25T09:11:08.826729Z",
     "shell.execute_reply": "2024-09-25T09:11:08.826087Z"
    }
   },
   "outputs": [
    {
     "data": {
      "text/plain": [
       "unyt_array([3.87796015e+45, 1.48431556e+44, 4.26067691e+44, 7.11426744e+44], 'erg/s')"
      ]
     },
     "execution_count": 7,
     "metadata": {},
     "output_type": "execute_result"
    }
   ],
   "source": [
    "bh.bolometric_luminosities"
   ]
  },
  {
   "cell_type": "markdown",
   "id": "bebe89a3",
   "metadata": {},
   "source": [
    "Here are some more examples of calculated properties."
   ]
  },
  {
   "cell_type": "code",
   "execution_count": 8,
   "id": "8e5a8bd4",
   "metadata": {
    "execution": {
     "iopub.execute_input": "2024-09-25T09:11:08.828808Z",
     "iopub.status.busy": "2024-09-25T09:11:08.828459Z",
     "iopub.status.idle": "2024-09-25T09:11:08.832349Z",
     "shell.execute_reply": "2024-09-25T09:11:08.831717Z"
    }
   },
   "outputs": [
    {
     "name": "stdout",
     "output_type": "stream",
     "text": [
      "[0.54977859 0.00148171 0.01164543 0.03593171]\n",
      "[0.54977859 0.00148171 0.01164543 0.03593171]\n",
      "[7.05367613e+45 1.00176047e+47 3.65866934e+46 1.97994099e+46] erg/s\n"
     ]
    }
   ],
   "source": [
    "print(bh.eddington_ratio)\n",
    "print(bh.accretion_rate_eddington)\n",
    "print(bh.eddington_luminosity)"
   ]
  },
  {
   "cell_type": "markdown",
   "id": "c9463358",
   "metadata": {},
   "source": [
    "As with most synthesizer objects a summary of the object can be printed using `print`."
   ]
  },
  {
   "cell_type": "code",
   "execution_count": 9,
   "id": "0d17f748",
   "metadata": {
    "execution": {
     "iopub.execute_input": "2024-09-25T09:11:08.834327Z",
     "iopub.status.busy": "2024-09-25T09:11:08.834122Z",
     "iopub.status.idle": "2024-09-25T09:11:08.842523Z",
     "shell.execute_reply": "2024-09-25T09:11:08.841953Z"
    }
   },
   "outputs": [
    {
     "name": "stdout",
     "output_type": "stream",
     "text": [
      "+------------------------------------------------------------------------------------------------+\n",
      "|                                          BLACK HOLES                                           |\n",
      "+--------------------------------+---------------------------------------------------------------+\n",
      "| Attribute                      | Value                                                         |\n",
      "+--------------------------------+---------------------------------------------------------------+\n",
      "| nparticles                     | 4                                                             |\n",
      "+--------------------------------+---------------------------------------------------------------+\n",
      "| metallicity_floor              | 1.00e-05                                                      |\n",
      "+--------------------------------+---------------------------------------------------------------+\n",
      "| name                           | 'Black Holes'                                                 |\n",
      "+--------------------------------+---------------------------------------------------------------+\n",
      "| ionisation_parameter_blr       | 0.10                                                          |\n",
      "+--------------------------------+---------------------------------------------------------------+\n",
      "| covering_fraction_blr          | 0.10                                                          |\n",
      "+--------------------------------+---------------------------------------------------------------+\n",
      "| ionisation_parameter_nlr       | 0.01                                                          |\n",
      "+--------------------------------+---------------------------------------------------------------+\n",
      "| covering_fraction_nlr          | 0.10                                                          |\n",
      "+--------------------------------+---------------------------------------------------------------+\n",
      "| nbh                            | 4                                                             |\n",
      "+--------------------------------+---------------------------------------------------------------+\n",
      "| coordinates (4, 3)             | -2.87e+00 Mpc -> 2.37e+00 Mpc (Mean: -3.67e-01 Mpc)           |\n",
      "+--------------------------------+---------------------------------------------------------------+\n",
      "| masses (4,)                    | 5.61e+07 Msun -> 7.97e+08 Msun (Mean: 3.25e+08 Msun)          |\n",
      "+--------------------------------+---------------------------------------------------------------+\n",
      "| mass (4,)                      | 5.61e+07 Msun -> 7.97e+08 Msun (Mean: 3.25e+08 Msun)          |\n",
      "+--------------------------------+---------------------------------------------------------------+\n",
      "| accretion_rate (4,)            | 2.62e-02 Msun/yr -> 6.85e-01 Msun/yr (Mean: 2.28e-01 Msun/yr) |\n",
      "+--------------------------------+---------------------------------------------------------------+\n",
      "| epsilon                        | [0.1]                                                         |\n",
      "+--------------------------------+---------------------------------------------------------------+\n",
      "| accretion_rate_eddington (4,)  | 1.48e-03 -> 5.50e-01 (Mean: 1.50e-01)                         |\n",
      "+--------------------------------+---------------------------------------------------------------+\n",
      "| bolometric_luminosity (4,)     | 1.48e+44 erg/s -> 3.88e+45 erg/s (Mean: 1.29e+45 erg/s)       |\n",
      "+--------------------------------+---------------------------------------------------------------+\n",
      "| metallicity (4,)               | 1.00e-02 -> 1.00e-02 (Mean: 1.00e-02)                         |\n",
      "+--------------------------------+---------------------------------------------------------------+\n",
      "| hydrogen_density_blr           | 1000000000.0 cm**(-3)                                         |\n",
      "+--------------------------------+---------------------------------------------------------------+\n",
      "| velocity_dispersion_blr        | 2000 km/s                                                     |\n",
      "+--------------------------------+---------------------------------------------------------------+\n",
      "| hydrogen_density_nlr           | 10000.0 cm**(-3)                                              |\n",
      "+--------------------------------+---------------------------------------------------------------+\n",
      "| velocity_dispersion_nlr        | 500 km/s                                                      |\n",
      "+--------------------------------+---------------------------------------------------------------+\n",
      "| inclination (4,)               | 1.80e+01 degree -> 7.07e+01 degree (Mean: 4.40e+01 degree)    |\n",
      "+--------------------------------+---------------------------------------------------------------+\n",
      "| theta_torus                    | 10 degree                                                     |\n",
      "+--------------------------------+---------------------------------------------------------------+\n",
      "| torus_fraction                 | 0.1111111111111111                                            |\n",
      "+--------------------------------+---------------------------------------------------------------+\n",
      "| _torus_edgeon_cond             | 10.0 degree                                                   |\n",
      "+--------------------------------+---------------------------------------------------------------+\n",
      "| bb_temperature (4,)            | 3.19e+04 K -> 2.72e+05 K (Mean: 1.20e+05 K)                   |\n",
      "+--------------------------------+---------------------------------------------------------------+\n",
      "| eddington_luminosity (4,)      | 7.05e+45 erg/s -> 1.00e+47 erg/s (Mean: 4.09e+46 erg/s)       |\n",
      "+--------------------------------+---------------------------------------------------------------+\n",
      "| eddington_ratio (4,)           | 1.48e-03 -> 5.50e-01 (Mean: 1.50e-01)                         |\n",
      "+--------------------------------+---------------------------------------------------------------+\n",
      "| cosine_inclination (4,)        | 3.31e-01 -> 9.51e-01 (Mean: 6.82e-01)                         |\n",
      "+--------------------------------+---------------------------------------------------------------+\n",
      "| accretion_rates (4,)           | 2.62e-02 Msun/yr -> 6.85e-01 Msun/yr (Mean: 2.28e-01 Msun/yr) |\n",
      "+--------------------------------+---------------------------------------------------------------+\n",
      "| metallicities (4,)             | 1.00e-02 -> 1.00e-02 (Mean: 1.00e-02)                         |\n",
      "+--------------------------------+---------------------------------------------------------------+\n",
      "| inclinations                   | 0.0 degree                                                    |\n",
      "+--------------------------------+---------------------------------------------------------------+\n",
      "| epsilons                       | [0.1]                                                         |\n",
      "+--------------------------------+---------------------------------------------------------------+\n",
      "| bb_temperatures (4,)           | 3.19e+04 K -> 2.72e+05 K (Mean: 1.20e+05 K)                   |\n",
      "+--------------------------------+---------------------------------------------------------------+\n",
      "| bolometric_luminosities (4,)   | 1.48e+44 erg/s -> 3.88e+45 erg/s (Mean: 1.29e+45 erg/s)       |\n",
      "+--------------------------------+---------------------------------------------------------------+\n",
      "| accretion_rates_eddington (4,) | 1.48e-03 -> 5.50e-01 (Mean: 1.50e-01)                         |\n",
      "+--------------------------------+---------------------------------------------------------------+\n",
      "| eddington_ratios (4,)          | 1.48e-03 -> 5.50e-01 (Mean: 1.50e-01)                         |\n",
      "+--------------------------------+---------------------------------------------------------------+\n"
     ]
    }
   ],
   "source": [
    "print(bh)"
   ]
  },
  {
   "cell_type": "markdown",
   "id": "2f86e685",
   "metadata": {},
   "source": [
    "#### Calculating black hole metallicity\n",
    "\n",
    "If we want to calculate emission from the black hole and its surroundings we need to know the metallicity of the gas surrounding the black hole.\n",
    "In the example above we could have passed an array of metallicities at instantiation, but most of the time we will not know ahead of time what these values should be.\n",
    "Instead, we can use the gas surrounding the black hole to calculate what this metallicity is. To do this we need to first create a `Galaxy` with both a `Gas` component and `BlackHoles`, again using fake data."
   ]
  },
  {
   "cell_type": "code",
   "execution_count": 10,
   "id": "e384907e",
   "metadata": {
    "execution": {
     "iopub.execute_input": "2024-09-25T09:11:08.844390Z",
     "iopub.status.busy": "2024-09-25T09:11:08.844168Z",
     "iopub.status.idle": "2024-09-25T09:11:08.849539Z",
     "shell.execute_reply": "2024-09-25T09:11:08.848990Z"
    }
   },
   "outputs": [
    {
     "name": "stderr",
     "output_type": "stream",
     "text": [
      "/tmp/ipykernel_3026/2976668452.py:9: RuntimeWarning: Neither dust mass nor dust to metal ratio provided. Assuming dust to metal ratio = 0.3\n",
      "  gas = Gas(\n",
      "/home/runner/work/synthesizer/synthesizer/src/synthesizer/particle/galaxy.py:120: RuntimeWarning: Star forming gas particle mask not provided, setting sf_gas_mass and sf_gas_metallicity to `None`\n",
      "  self.calculate_integrated_gas_properties()\n"
     ]
    }
   ],
   "source": [
    "# Make fake gas properties\n",
    "ngas = 200\n",
    "ms = np.full(ngas, 10**6.5)  # Msun\n",
    "pos = np.random.normal(0, 1.5, (ngas, 3))  # cMpc\n",
    "hsml = np.full(ngas, 0.75)  # cMpc\n",
    "metals = np.full(ngas, 0.01)\n",
    "\n",
    "# And make the gas object\n",
    "gas = Gas(\n",
    "    masses=ms, metallicities=metals, coordinates=pos, smoothing_lengths=hsml\n",
    ")\n",
    "\n",
    "# And now create the galaxy\n",
    "galaxy = galaxy(stars=None, gas=gas, black_holes=bh)"
   ]
  },
  {
   "cell_type": "markdown",
   "id": "02dc7334",
   "metadata": {},
   "source": [
    "Now we have the galaxy we can use `galaxy.calculate_black_hole_metallicity()` to calculate the black holes' metallicity.\n",
    "This method will find all gas particles with smoothing lengths that intersect the black hole and calculate the mass--weighted average of their metallicity.\n",
    "If a black hole does not find any gas neighbours then a default metallicity is set instead.\n",
    "This defaults to solar metallicity (0.012) but can be overwritten by passing a new `default_metallicity` as shown below."
   ]
  },
  {
   "cell_type": "code",
   "execution_count": 11,
   "id": "42abc9ec",
   "metadata": {
    "execution": {
     "iopub.execute_input": "2024-09-25T09:11:08.851472Z",
     "iopub.status.busy": "2024-09-25T09:11:08.851273Z",
     "iopub.status.idle": "2024-09-25T09:11:08.855236Z",
     "shell.execute_reply": "2024-09-25T09:11:08.854715Z"
    }
   },
   "outputs": [
    {
     "name": "stdout",
     "output_type": "stream",
     "text": [
      "Z_BH = [0.01 0.01 0.01 0.07]\n"
     ]
    }
   ],
   "source": [
    "galaxy.calculate_black_hole_metallicity(default_metallicity=0.07)\n",
    "print(\"Z_BH =\", galaxy.black_holes.metallicities)"
   ]
  }
 ],
 "metadata": {
  "language_info": {
   "codemirror_mode": {
    "name": "ipython",
    "version": 3
   },
   "file_extension": ".py",
   "mimetype": "text/x-python",
   "name": "python",
   "nbconvert_exporter": "python",
   "pygments_lexer": "ipython3",
   "version": "3.10.15"
  }
 },
 "nbformat": 4,
 "nbformat_minor": 5
}
