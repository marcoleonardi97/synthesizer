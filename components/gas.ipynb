{
 "cells": [
  {
   "cell_type": "markdown",
   "metadata": {},
   "source": [
    "# Gas\n",
    "\n",
    "A Gas component contains all information about the gaseous medium in a galaxy.\n",
    "Below we provide examples of particle ``Gas`` objects, and how to initialise and interact with them. \n",
    "\n",
    "We do not define a parametric Gas component in the current version of synthesizer.\n",
    "\n",
    "\n",
    "## Particle Gas\n",
    "\n",
    "To initialise a ``Gas`` object you always need to provide the particle masses and metallicities along with units.\n",
    "The toy example below shows how to initialise a ``Gas`` object with 1000 particles."
   ]
  },
  {
   "cell_type": "code",
   "execution_count": 1,
   "metadata": {
    "execution": {
     "iopub.execute_input": "2024-08-16T13:05:36.231713Z",
     "iopub.status.busy": "2024-08-16T13:05:36.231519Z",
     "iopub.status.idle": "2024-08-16T13:05:38.072646Z",
     "shell.execute_reply": "2024-08-16T13:05:38.071889Z"
    }
   },
   "outputs": [
    {
     "name": "stdout",
     "output_type": "stream",
     "text": [
      "+------------------------------------------------------------------------------+\n",
      "|                                     GAS                                      |\n",
      "+-----------------------+------------------------------------------------------+\n",
      "| Attribute             | Value                                                |\n",
      "+-----------------------+------------------------------------------------------+\n",
      "| nparticles            | 1000                                                 |\n",
      "+-----------------------+------------------------------------------------------+\n",
      "| metallicity_floor     | 1.00e-05                                             |\n",
      "+-----------------------+------------------------------------------------------+\n",
      "| name                  | 'Gas'                                                |\n",
      "+-----------------------+------------------------------------------------------+\n",
      "| dust_to_metal_ratio   | 0.30                                                 |\n",
      "+-----------------------+------------------------------------------------------+\n",
      "| masses (1000,)        | 1.00e+06 Msun -> 1.00e+06 Msun (Mean: 1.00e+06 Msun) |\n",
      "+-----------------------+------------------------------------------------------+\n",
      "| metallicities (1000,) | 1.69e-05 -> 2.00e-02 (Mean: 1.02e-02)                |\n",
      "+-----------------------+------------------------------------------------------+\n",
      "| dust_masses (1000,)   | 5.07e+00 Msun -> 6.00e+03 Msun (Mean: 3.05e+03 Msun) |\n",
      "+-----------------------+------------------------------------------------------+\n"
     ]
    },
    {
     "name": "stderr",
     "output_type": "stream",
     "text": [
      "/tmp/ipykernel_3078/1285897597.py:6: RuntimeWarning: Neither dust mass nor dust to metal ratio provided. Assuming dust to metal ratio = 0.3\n",
      "  gas = Gas(\n"
     ]
    }
   ],
   "source": [
    "import numpy as np\n",
    "from unyt import Msun\n",
    "\n",
    "from synthesizer.particle import Gas\n",
    "\n",
    "gas = Gas(\n",
    "    masses=np.ones(1000) * 10**6 * Msun,\n",
    "    metallicities=np.random.rand(1000) * 0.02,\n",
    ")\n",
    "print(gas)"
   ]
  },
  {
   "cell_type": "markdown",
   "metadata": {},
   "source": [
    "Like all other components, a ``Gas`` object also supports a number of predefined kwargs including (but not limited to) ``velocities``, ``coordinates``, ``smoothing_lengths`` and ``dust_masses`` or ``dust_to_metal_ratio``. In addition, you can also provide custom kwargs to store arbitrary properties (below we'll intialise with some HII properties)."
   ]
  },
  {
   "cell_type": "code",
   "execution_count": 2,
   "metadata": {
    "execution": {
     "iopub.execute_input": "2024-08-16T13:05:38.075482Z",
     "iopub.status.busy": "2024-08-16T13:05:38.075186Z",
     "iopub.status.idle": "2024-08-16T13:05:38.082406Z",
     "shell.execute_reply": "2024-08-16T13:05:38.081843Z"
    }
   },
   "outputs": [
    {
     "name": "stdout",
     "output_type": "stream",
     "text": [
      "+--------------------------------------------------------------------------------+\n",
      "|                                      GAS                                       |\n",
      "+-------------------------+------------------------------------------------------+\n",
      "| Attribute               | Value                                                |\n",
      "+-------------------------+------------------------------------------------------+\n",
      "| nparticles              | 1000                                                 |\n",
      "+-------------------------+------------------------------------------------------+\n",
      "| metallicity_floor       | 1.00e-05                                             |\n",
      "+-------------------------+------------------------------------------------------+\n",
      "| name                    | 'Gas'                                                |\n",
      "+-------------------------+------------------------------------------------------+\n",
      "| dust_to_metal_ratio     | 0.25                                                 |\n",
      "+-------------------------+------------------------------------------------------+\n",
      "| coordinates (1000, 3)   | 5.38e-04 Mpc -> 1.00e+00 Mpc (Mean: 4.94e-01 Mpc)    |\n",
      "+-------------------------+------------------------------------------------------+\n",
      "| masses (1000,)          | 1.00e+06 Msun -> 1.00e+06 Msun (Mean: 1.00e+06 Msun) |\n",
      "+-------------------------+------------------------------------------------------+\n",
      "| centre                  | [0.49197556 0.50342788 0.49294125] Mpc               |\n",
      "+-------------------------+------------------------------------------------------+\n",
      "| metallicities (1000,)   | 1.90e-06 -> 1.99e-02 (Mean: 1.02e-02)                |\n",
      "+-------------------------+------------------------------------------------------+\n",
      "| dust_masses (1000,)     | 4.74e-01 Msun -> 4.99e+03 Msun (Mean: 2.55e+03 Msun) |\n",
      "+-------------------------+------------------------------------------------------+\n",
      "| hii_mass (1000,)        | 5.32e+00 Msun -> 1.00e+04 Msun (Mean: 4.96e+03 Msun) |\n",
      "+-------------------------+------------------------------------------------------+\n",
      "| hii_metallicity (1000,) | 5.90e-06 -> 2.00e-02 (Mean: 9.99e-03)                |\n",
      "+-------------------------+------------------------------------------------------+\n"
     ]
    }
   ],
   "source": [
    "gas = Gas(\n",
    "    masses=np.ones(1000) * 10**6 * Msun,\n",
    "    metallicities=np.random.rand(1000) * 0.02,\n",
    "    dust_to_metal_ratio=0.25,\n",
    "    coordinates=np.random.rand(1000, 3) * 1,\n",
    "    centre=np.mean(np.random.rand(1000, 3) * 1, axis=0),\n",
    "    hii_mass=np.random.rand(1000) * 1e4 * Msun.in_base(\"galactic\"),\n",
    "    hii_metallicity=np.random.rand(1000) * 0.02,\n",
    ")\n",
    "print(gas)"
   ]
  },
  {
   "cell_type": "markdown",
   "metadata": {},
   "source": [
    "Once a ``Gas`` object is initialised, it can be attached to a ``Galaxy`` object and used in LOS calculations, or to analyse the gas distribution via maps or numerous other methods.\n",
    "\n",
    "### Default dust properties\n",
    "\n",
    "You may have noticed that the original ``Gas`` object we initialised automatically populated dust properties. This is because the ``dust_to_metal_ratio`` is by default set to 0.3 if neither ``dust_masses`` nor ``dust_to_metal_ratio`` are provided.\n",
    "This default value is then used to calculate the dust masses from the gas metallicities.\n",
    "If a ``dust_to_metal_ratio`` is provided, the dust masses are calculated from the gas metallicities and the provided ratio.\n",
    "If ``dust_masses`` are provided explicitly, the dust-to-metal ratio is calculated but ignored in all future calculations."
   ]
  },
  {
   "cell_type": "markdown",
   "metadata": {},
   "source": [
    "### Computing characteristics radii\n",
    "\n",
    "Like `Stars`, characteristic radii can be computed for the gas particle distribution. We can either calculate the half-mass radius."
   ]
  },
  {
   "cell_type": "code",
   "execution_count": 3,
   "metadata": {
    "execution": {
     "iopub.execute_input": "2024-08-16T13:05:38.085081Z",
     "iopub.status.busy": "2024-08-16T13:05:38.084712Z",
     "iopub.status.idle": "2024-08-16T13:05:38.088456Z",
     "shell.execute_reply": "2024-08-16T13:05:38.087884Z"
    }
   },
   "outputs": [
    {
     "name": "stdout",
     "output_type": "stream",
     "text": [
      "0.49057882513370815 Mpc\n"
     ]
    }
   ],
   "source": [
    "r = gas.get_half_mass_radius()\n",
    "print(r)"
   ]
  },
  {
   "cell_type": "markdown",
   "metadata": {},
   "source": [
    "Or use an aribtrary attribute for the radius weight. Here we'll use the dust masses for a \"half dust mass radius\"."
   ]
  },
  {
   "cell_type": "code",
   "execution_count": 4,
   "metadata": {
    "execution": {
     "iopub.execute_input": "2024-08-16T13:05:38.090990Z",
     "iopub.status.busy": "2024-08-16T13:05:38.090609Z",
     "iopub.status.idle": "2024-08-16T13:05:38.094380Z",
     "shell.execute_reply": "2024-08-16T13:05:38.093765Z"
    }
   },
   "outputs": [
    {
     "name": "stdout",
     "output_type": "stream",
     "text": [
      "0.4896841141006288 Mpc\n"
     ]
    }
   ],
   "source": [
    "r = gas.get_attr_radius(\"dust_masses\")\n",
    "print(r)"
   ]
  },
  {
   "cell_type": "markdown",
   "metadata": {},
   "source": [
    "We can also compute radii for different fractions by passing the fraction we want to calculate a radius for."
   ]
  },
  {
   "cell_type": "code",
   "execution_count": 5,
   "metadata": {
    "execution": {
     "iopub.execute_input": "2024-08-16T13:05:38.097020Z",
     "iopub.status.busy": "2024-08-16T13:05:38.096597Z",
     "iopub.status.idle": "2024-08-16T13:05:38.100936Z",
     "shell.execute_reply": "2024-08-16T13:05:38.100276Z"
    }
   },
   "outputs": [
    {
     "name": "stdout",
     "output_type": "stream",
     "text": [
      "0.35227851731187404 Mpc 0.6015112571769954 Mpc\n"
     ]
    }
   ],
   "source": [
    "r20 = gas.get_attr_radius(\"masses\", frac=0.2)\n",
    "r80 = gas.get_attr_radius(\"masses\", frac=0.8)\n",
    "print(r20, r80)"
   ]
  }
 ],
 "metadata": {
  "language_info": {
   "codemirror_mode": {
    "name": "ipython",
    "version": 3
   },
   "file_extension": ".py",
   "mimetype": "text/x-python",
   "name": "python",
   "nbconvert_exporter": "python",
   "pygments_lexer": "ipython3",
   "version": "3.10.14"
  }
 },
 "nbformat": 4,
 "nbformat_minor": 2
}
