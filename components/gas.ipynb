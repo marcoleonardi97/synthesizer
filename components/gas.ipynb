{
 "cells": [
  {
   "cell_type": "markdown",
   "metadata": {},
   "source": [
    "# Gas\n",
    "\n",
    "A Gas component contains all information about the gaseous medium in a galaxy.\n",
    "Below we provide examples of particle ``Gas`` objects, and how to initialise and interact with them. \n",
    "\n",
    "We do not define a parametric Gas component in the current version of synthesizer.\n",
    "\n",
    "\n",
    "## Particle Gas\n",
    "\n",
    "To initialise a ``Gas`` object you always need to provide the particle masses and metallicities along with units.\n",
    "The toy example below shows how to initialise a ``Gas`` object with 1000 particles."
   ]
  },
  {
   "cell_type": "code",
   "execution_count": 1,
   "metadata": {
    "execution": {
     "iopub.execute_input": "2024-10-09T10:02:14.929182Z",
     "iopub.status.busy": "2024-10-09T10:02:14.928984Z",
     "iopub.status.idle": "2024-10-09T10:02:16.712879Z",
     "shell.execute_reply": "2024-10-09T10:02:16.712108Z"
    }
   },
   "outputs": [
    {
     "name": "stdout",
     "output_type": "stream",
     "text": [
      "+------------------------------------------------------------------------------+\n",
      "|                                     GAS                                      |\n",
      "+-----------------------+------------------------------------------------------+\n",
      "| Attribute             | Value                                                |\n",
      "+-----------------------+------------------------------------------------------+\n",
      "| nparticles            | 1000                                                 |\n",
      "+-----------------------+------------------------------------------------------+\n",
      "| metallicity_floor     | 1.00e-05                                             |\n",
      "+-----------------------+------------------------------------------------------+\n",
      "| name                  | 'Gas'                                                |\n",
      "+-----------------------+------------------------------------------------------+\n",
      "| dust_to_metal_ratio   | 0.30                                                 |\n",
      "+-----------------------+------------------------------------------------------+\n",
      "| masses (1000,)        | 1.00e+06 Msun -> 1.00e+06 Msun (Mean: 1.00e+06 Msun) |\n",
      "+-----------------------+------------------------------------------------------+\n",
      "| metallicities (1000,) | 5.30e-05 -> 2.00e-02 (Mean: 1.01e-02)                |\n",
      "+-----------------------+------------------------------------------------------+\n",
      "| dust_masses (1000,)   | 1.59e+01 Msun -> 6.00e+03 Msun (Mean: 3.03e+03 Msun) |\n",
      "+-----------------------+------------------------------------------------------+\n"
     ]
    },
    {
     "name": "stderr",
     "output_type": "stream",
     "text": [
      "/home/runner/work/synthesizer/synthesizer/src/synthesizer/units.py:667: RuntimeWarning: Neither dust mass nor dust to metal ratio provided. Assuming dust to metal ratio = 0.3\n",
      "  return func(*args, **kwargs)\n"
     ]
    }
   ],
   "source": [
    "import numpy as np\n",
    "from unyt import Msun, Mpc\n",
    "\n",
    "from synthesizer.particle import Gas\n",
    "\n",
    "gas = Gas(\n",
    "    masses=np.ones(1000) * 10**6 * Msun,\n",
    "    metallicities=np.random.rand(1000) * 0.02,\n",
    ")\n",
    "print(gas)"
   ]
  },
  {
   "cell_type": "markdown",
   "metadata": {},
   "source": [
    "Like all other components, a ``Gas`` object also supports a number of predefined kwargs including (but not limited to) ``velocities``, ``coordinates``, ``smoothing_lengths`` and ``dust_masses`` or ``dust_to_metal_ratio``. In addition, you can also provide custom kwargs to store arbitrary properties (below we'll intialise with some HII properties)."
   ]
  },
  {
   "cell_type": "code",
   "execution_count": 2,
   "metadata": {
    "execution": {
     "iopub.execute_input": "2024-10-09T10:02:16.715351Z",
     "iopub.status.busy": "2024-10-09T10:02:16.714781Z",
     "iopub.status.idle": "2024-10-09T10:02:16.721835Z",
     "shell.execute_reply": "2024-10-09T10:02:16.721193Z"
    }
   },
   "outputs": [
    {
     "name": "stdout",
     "output_type": "stream",
     "text": [
      "+--------------------------------------------------------------------------------+\n",
      "|                                      GAS                                       |\n",
      "+-------------------------+------------------------------------------------------+\n",
      "| Attribute               | Value                                                |\n",
      "+-------------------------+------------------------------------------------------+\n",
      "| nparticles              | 1000                                                 |\n",
      "+-------------------------+------------------------------------------------------+\n",
      "| metallicity_floor       | 1.00e-05                                             |\n",
      "+-------------------------+------------------------------------------------------+\n",
      "| name                    | 'Gas'                                                |\n",
      "+-------------------------+------------------------------------------------------+\n",
      "| dust_to_metal_ratio     | 0.25                                                 |\n",
      "+-------------------------+------------------------------------------------------+\n",
      "| coordinates (1000, 3)   | 3.48e-04 Mpc -> 9.99e-01 Mpc (Mean: 4.95e-01 Mpc)    |\n",
      "+-------------------------+------------------------------------------------------+\n",
      "| masses (1000,)          | 1.00e+06 Msun -> 1.00e+06 Msun (Mean: 1.00e+06 Msun) |\n",
      "+-------------------------+------------------------------------------------------+\n",
      "| centre                  | [0.4843602  0.50361907 0.50029341] Mpc               |\n",
      "+-------------------------+------------------------------------------------------+\n",
      "| metallicities (1000,)   | 1.10e-05 -> 2.00e-02 (Mean: 1.00e-02)                |\n",
      "+-------------------------+------------------------------------------------------+\n",
      "| dust_masses (1000,)     | 2.75e+00 Msun -> 5.00e+03 Msun (Mean: 2.50e+03 Msun) |\n",
      "+-------------------------+------------------------------------------------------+\n",
      "| hii_mass (1000,)        | 1.62e+30 kg -> 1.99e+34 kg (Mean: 1.01e+34 kg)       |\n",
      "+-------------------------+------------------------------------------------------+\n",
      "| hii_metallicity (1000,) | 8.08e-06 -> 2.00e-02 (Mean: 9.89e-03)                |\n",
      "+-------------------------+------------------------------------------------------+\n"
     ]
    }
   ],
   "source": [
    "gas = Gas(\n",
    "    masses=np.ones(1000) * 10**6 * Msun,\n",
    "    metallicities=np.random.rand(1000) * 0.02,\n",
    "    dust_to_metal_ratio=0.25,\n",
    "    coordinates=np.random.rand(1000, 3) * 1 * Mpc,\n",
    "    centre=np.mean(np.random.rand(1000, 3) * 1, axis=0) * Mpc,\n",
    "    hii_mass=np.random.rand(1000) * 1e4 * Msun,\n",
    "    hii_metallicity=np.random.rand(1000) * 0.02,\n",
    ")\n",
    "print(gas)"
   ]
  },
  {
   "cell_type": "markdown",
   "metadata": {},
   "source": [
    "Once a ``Gas`` object is initialised, it can be attached to a ``Galaxy`` object and used in LOS calculations, or to analyse the gas distribution via maps or numerous other methods.\n",
    "\n",
    "### Default dust properties\n",
    "\n",
    "You may have noticed that the original ``Gas`` object we initialised automatically populated dust properties. This is because the ``dust_to_metal_ratio`` is by default set to 0.3 if neither ``dust_masses`` nor ``dust_to_metal_ratio`` are provided.\n",
    "This default value is then used to calculate the dust masses from the gas metallicities.\n",
    "If a ``dust_to_metal_ratio`` is provided, the dust masses are calculated from the gas metallicities and the provided ratio.\n",
    "If ``dust_masses`` are provided explicitly, the dust-to-metal ratio is calculated but ignored in all future calculations."
   ]
  },
  {
   "cell_type": "markdown",
   "metadata": {},
   "source": [
    "### Computing characteristics radii\n",
    "\n",
    "Like `Stars`, characteristic radii can be computed for the gas particle distribution. We can either calculate the half-mass radius."
   ]
  },
  {
   "cell_type": "code",
   "execution_count": 3,
   "metadata": {
    "execution": {
     "iopub.execute_input": "2024-10-09T10:02:16.723995Z",
     "iopub.status.busy": "2024-10-09T10:02:16.723632Z",
     "iopub.status.idle": "2024-10-09T10:02:16.727409Z",
     "shell.execute_reply": "2024-10-09T10:02:16.726897Z"
    }
   },
   "outputs": [
    {
     "name": "stdout",
     "output_type": "stream",
     "text": [
      "0.49447332465298843 Mpc\n"
     ]
    }
   ],
   "source": [
    "r = gas.get_half_mass_radius()\n",
    "print(r)"
   ]
  },
  {
   "cell_type": "markdown",
   "metadata": {},
   "source": [
    "Or use an aribtrary attribute for the radius weight. Here we'll use the dust masses for a \"half dust mass radius\"."
   ]
  },
  {
   "cell_type": "code",
   "execution_count": 4,
   "metadata": {
    "execution": {
     "iopub.execute_input": "2024-10-09T10:02:16.729643Z",
     "iopub.status.busy": "2024-10-09T10:02:16.729246Z",
     "iopub.status.idle": "2024-10-09T10:02:16.732610Z",
     "shell.execute_reply": "2024-10-09T10:02:16.732082Z"
    }
   },
   "outputs": [
    {
     "name": "stdout",
     "output_type": "stream",
     "text": [
      "0.4971284455676443 Mpc\n"
     ]
    }
   ],
   "source": [
    "r = gas.get_attr_radius(\"dust_masses\")\n",
    "print(r)"
   ]
  },
  {
   "cell_type": "markdown",
   "metadata": {},
   "source": [
    "We can also compute radii for different fractions by passing the fraction we want to calculate a radius for."
   ]
  },
  {
   "cell_type": "code",
   "execution_count": 5,
   "metadata": {
    "execution": {
     "iopub.execute_input": "2024-10-09T10:02:16.734685Z",
     "iopub.status.busy": "2024-10-09T10:02:16.734295Z",
     "iopub.status.idle": "2024-10-09T10:02:16.738535Z",
     "shell.execute_reply": "2024-10-09T10:02:16.738005Z"
    }
   },
   "outputs": [
    {
     "name": "stdout",
     "output_type": "stream",
     "text": [
      "0.36469359924614003 Mpc 0.6079840177671183 Mpc\n"
     ]
    }
   ],
   "source": [
    "r20 = gas.get_attr_radius(\"masses\", frac=0.2)\n",
    "r80 = gas.get_attr_radius(\"masses\", frac=0.8)\n",
    "print(r20, r80)"
   ]
  }
 ],
 "metadata": {
  "language_info": {
   "codemirror_mode": {
    "name": "ipython",
    "version": 3
   },
   "file_extension": ".py",
   "mimetype": "text/x-python",
   "name": "python",
   "nbconvert_exporter": "python",
   "pygments_lexer": "ipython3",
   "version": "3.10.15"
  }
 },
 "nbformat": 4,
 "nbformat_minor": 2
}
