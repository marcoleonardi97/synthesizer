{
 "cells": [
  {
   "cell_type": "markdown",
   "metadata": {},
   "source": [
    "# Gas\n",
    "\n",
    "A Gas component contains all information about the gaseous medium in a galaxy.\n",
    "Below we provide examples of particle ``Gas`` objects, and how to initialise and interact with them. \n",
    "\n",
    "We do not define a parametric Gas component in the current version of synthesizer.\n",
    "\n",
    "\n",
    "## Particle Gas\n",
    "\n",
    "To initialise a ``Gas`` object you always need to provide the particle masses and metallicities along with units.\n",
    "The toy example below shows how to initialise a ``Gas`` object with 1000 particles."
   ]
  },
  {
   "cell_type": "code",
   "execution_count": 1,
   "metadata": {
    "execution": {
     "iopub.execute_input": "2024-10-16T19:41:51.808848Z",
     "iopub.status.busy": "2024-10-16T19:41:51.808450Z",
     "iopub.status.idle": "2024-10-16T19:41:53.593692Z",
     "shell.execute_reply": "2024-10-16T19:41:53.592929Z"
    }
   },
   "outputs": [
    {
     "name": "stdout",
     "output_type": "stream",
     "text": [
      "+-----------------------------------------------------------------------------------+\n",
      "|                                        GAS                                        |\n",
      "+----------------------------+------------------------------------------------------+\n",
      "| Attribute                  | Value                                                |\n",
      "+----------------------------+------------------------------------------------------+\n",
      "| nparticles                 | 1000                                                 |\n",
      "+----------------------------+------------------------------------------------------+\n",
      "| metallicity_floor          | 1.00e-05                                             |\n",
      "+----------------------------+------------------------------------------------------+\n",
      "| name                       | 'Gas'                                                |\n",
      "+----------------------------+------------------------------------------------------+\n",
      "| dust_to_metal_ratio        | 0.30                                                 |\n",
      "+----------------------------+------------------------------------------------------+\n",
      "| masses (1000,)             | 1.00e+06 Msun -> 1.00e+06 Msun (Mean: 1.00e+06 Msun) |\n",
      "+----------------------------+------------------------------------------------------+\n",
      "| metallicities (1000,)      | 3.49e-05 -> 2.00e-02 (Mean: 9.84e-03)                |\n",
      "+----------------------------+------------------------------------------------------+\n",
      "| dust_masses (1000,)        | 1.05e+01 Msun -> 5.99e+03 Msun (Mean: 2.95e+03 Msun) |\n",
      "+----------------------------+------------------------------------------------------+\n",
      "| log10metallicities (1000,) | -4.46e+00 -> -1.70e+00 (Mean: -2.14e+00)             |\n",
      "+----------------------------+------------------------------------------------------+\n"
     ]
    },
    {
     "name": "stderr",
     "output_type": "stream",
     "text": [
      "/home/runner/work/synthesizer/synthesizer/src/synthesizer/units.py:667: RuntimeWarning: Neither dust mass nor dust to metal ratio provided. Assuming dust to metal ratio = 0.3\n",
      "  return func(*args, **kwargs)\n",
      "/home/runner/work/synthesizer/synthesizer/src/synthesizer/utils/ascii_table.py:67: FutureWarning: The `particle_photo_fluxes` attribute is deprecated. Use `particle_photo_fnu` instead. Will be removed in v1.0.0\n",
      "  self.attributes[name] = getattr(obj, name)\n",
      "/home/runner/work/synthesizer/synthesizer/src/synthesizer/utils/ascii_table.py:67: FutureWarning: The `particle_photo_luminosities` attribute is deprecated. Use `particle_photo_lnu` instead. Will be removed in v1.0.0\n",
      "  self.attributes[name] = getattr(obj, name)\n"
     ]
    }
   ],
   "source": [
    "import numpy as np\n",
    "from unyt import Msun, Mpc\n",
    "\n",
    "from synthesizer.particle import Gas\n",
    "\n",
    "gas = Gas(\n",
    "    masses=np.ones(1000) * 10**6 * Msun,\n",
    "    metallicities=np.random.rand(1000) * 0.02,\n",
    ")\n",
    "print(gas)"
   ]
  },
  {
   "cell_type": "markdown",
   "metadata": {},
   "source": [
    "Like all other components, a ``Gas`` object also supports a number of predefined kwargs including (but not limited to) ``velocities``, ``coordinates``, ``smoothing_lengths`` and ``dust_masses`` or ``dust_to_metal_ratio``. In addition, you can also provide custom kwargs to store arbitrary properties (below we'll intialise with some HII properties)."
   ]
  },
  {
   "cell_type": "code",
   "execution_count": 2,
   "metadata": {
    "execution": {
     "iopub.execute_input": "2024-10-16T19:41:53.596274Z",
     "iopub.status.busy": "2024-10-16T19:41:53.595711Z",
     "iopub.status.idle": "2024-10-16T19:41:53.602961Z",
     "shell.execute_reply": "2024-10-16T19:41:53.602408Z"
    }
   },
   "outputs": [
    {
     "name": "stdout",
     "output_type": "stream",
     "text": [
      "+---------------------------------------------------------------------------------------+\n",
      "|                                          GAS                                          |\n",
      "+--------------------------------+------------------------------------------------------+\n",
      "| Attribute                      | Value                                                |\n",
      "+--------------------------------+------------------------------------------------------+\n",
      "| nparticles                     | 1000                                                 |\n",
      "+--------------------------------+------------------------------------------------------+\n",
      "| metallicity_floor              | 1.00e-05                                             |\n",
      "+--------------------------------+------------------------------------------------------+\n",
      "| name                           | 'Gas'                                                |\n",
      "+--------------------------------+------------------------------------------------------+\n",
      "| dust_to_metal_ratio            | 0.25                                                 |\n",
      "+--------------------------------+------------------------------------------------------+\n",
      "| coordinates (1000, 3)          | 4.14e-04 Mpc -> 1.00e+00 Mpc (Mean: 5.09e-01 Mpc)    |\n",
      "+--------------------------------+------------------------------------------------------+\n",
      "| masses (1000,)                 | 1.00e+06 Msun -> 1.00e+06 Msun (Mean: 1.00e+06 Msun) |\n",
      "+--------------------------------+------------------------------------------------------+\n",
      "| centre                         | [0.49855949 0.51173542 0.51393027] Mpc               |\n",
      "+--------------------------------+------------------------------------------------------+\n",
      "| metallicities (1000,)          | 6.69e-06 -> 2.00e-02 (Mean: 1.01e-02)                |\n",
      "+--------------------------------+------------------------------------------------------+\n",
      "| dust_masses (1000,)            | 1.67e+00 Msun -> 5.00e+03 Msun (Mean: 2.53e+03 Msun) |\n",
      "+--------------------------------+------------------------------------------------------+\n",
      "| hii_mass (1000,)               | 2.00e+30 kg -> 1.98e+34 kg (Mean: 1.00e+34 kg)       |\n",
      "+--------------------------------+------------------------------------------------------+\n",
      "| hii_metallicity (1000,)        | 1.64e-05 -> 2.00e-02 (Mean: 9.95e-03)                |\n",
      "+--------------------------------+------------------------------------------------------+\n",
      "| centered_coordinates (1000, 3) | -5.13e-01 Mpc -> 5.01e-01 Mpc (Mean: 6.96e-04 Mpc)   |\n",
      "+--------------------------------+------------------------------------------------------+\n",
      "| log10metallicities (1000,)     | -5.17e+00 -> -1.70e+00 (Mean: -2.11e+00)             |\n",
      "+--------------------------------+------------------------------------------------------+\n"
     ]
    }
   ],
   "source": [
    "gas = Gas(\n",
    "    masses=np.ones(1000) * 10**6 * Msun,\n",
    "    metallicities=np.random.rand(1000) * 0.02,\n",
    "    dust_to_metal_ratio=0.25,\n",
    "    coordinates=np.random.rand(1000, 3) * 1 * Mpc,\n",
    "    centre=np.mean(np.random.rand(1000, 3) * 1, axis=0) * Mpc,\n",
    "    hii_mass=np.random.rand(1000) * 1e4 * Msun,\n",
    "    hii_metallicity=np.random.rand(1000) * 0.02,\n",
    ")\n",
    "print(gas)"
   ]
  },
  {
   "cell_type": "markdown",
   "metadata": {},
   "source": [
    "Once a ``Gas`` object is initialised, it can be attached to a ``Galaxy`` object and used in LOS calculations, or to analyse the gas distribution via maps or numerous other methods.\n",
    "\n",
    "### Default dust properties\n",
    "\n",
    "You may have noticed that the original ``Gas`` object we initialised automatically populated dust properties. This is because the ``dust_to_metal_ratio`` is by default set to 0.3 if neither ``dust_masses`` nor ``dust_to_metal_ratio`` are provided.\n",
    "This default value is then used to calculate the dust masses from the gas metallicities.\n",
    "If a ``dust_to_metal_ratio`` is provided, the dust masses are calculated from the gas metallicities and the provided ratio.\n",
    "If ``dust_masses`` are provided explicitly, the dust-to-metal ratio is calculated but ignored in all future calculations."
   ]
  },
  {
   "cell_type": "markdown",
   "metadata": {},
   "source": [
    "### Computing characteristics radii\n",
    "\n",
    "Like `Stars`, characteristic radii can be computed for the gas particle distribution. We can either calculate the half-mass radius."
   ]
  },
  {
   "cell_type": "code",
   "execution_count": 3,
   "metadata": {
    "execution": {
     "iopub.execute_input": "2024-10-16T19:41:53.605201Z",
     "iopub.status.busy": "2024-10-16T19:41:53.604783Z",
     "iopub.status.idle": "2024-10-16T19:41:53.608728Z",
     "shell.execute_reply": "2024-10-16T19:41:53.608183Z"
    }
   },
   "outputs": [
    {
     "name": "stdout",
     "output_type": "stream",
     "text": [
      "0.4846981033015741 Mpc\n"
     ]
    }
   ],
   "source": [
    "r = gas.get_half_mass_radius()\n",
    "print(r)"
   ]
  },
  {
   "cell_type": "markdown",
   "metadata": {},
   "source": [
    "Or use an aribtrary attribute for the radius weight. Here we'll use the dust masses for a \"half dust mass radius\"."
   ]
  },
  {
   "cell_type": "code",
   "execution_count": 4,
   "metadata": {
    "execution": {
     "iopub.execute_input": "2024-10-16T19:41:53.610965Z",
     "iopub.status.busy": "2024-10-16T19:41:53.610440Z",
     "iopub.status.idle": "2024-10-16T19:41:53.614271Z",
     "shell.execute_reply": "2024-10-16T19:41:53.613757Z"
    }
   },
   "outputs": [
    {
     "name": "stdout",
     "output_type": "stream",
     "text": [
      "0.4860377037252799 Mpc\n"
     ]
    }
   ],
   "source": [
    "r = gas.get_attr_radius(\"dust_masses\")\n",
    "print(r)"
   ]
  },
  {
   "cell_type": "markdown",
   "metadata": {},
   "source": [
    "We can also compute radii for different fractions by passing the fraction we want to calculate a radius for."
   ]
  },
  {
   "cell_type": "code",
   "execution_count": 5,
   "metadata": {
    "execution": {
     "iopub.execute_input": "2024-10-16T19:41:53.616542Z",
     "iopub.status.busy": "2024-10-16T19:41:53.616115Z",
     "iopub.status.idle": "2024-10-16T19:41:53.620377Z",
     "shell.execute_reply": "2024-10-16T19:41:53.619870Z"
    }
   },
   "outputs": [
    {
     "name": "stdout",
     "output_type": "stream",
     "text": [
      "0.36625457566678443 Mpc 0.5856499967223364 Mpc\n"
     ]
    }
   ],
   "source": [
    "r20 = gas.get_attr_radius(\"masses\", frac=0.2)\n",
    "r80 = gas.get_attr_radius(\"masses\", frac=0.8)\n",
    "print(r20, r80)"
   ]
  }
 ],
 "metadata": {
  "language_info": {
   "codemirror_mode": {
    "name": "ipython",
    "version": 3
   },
   "file_extension": ".py",
   "mimetype": "text/x-python",
   "name": "python",
   "nbconvert_exporter": "python",
   "pygments_lexer": "ipython3",
   "version": "3.10.15"
  }
 },
 "nbformat": 4,
 "nbformat_minor": 2
}
