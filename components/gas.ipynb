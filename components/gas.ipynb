{
 "cells": [
  {
   "cell_type": "markdown",
   "metadata": {},
   "source": [
    "# Gas\n",
    "\n",
    "A Gas component contains all information about the gaseous medium in a galaxy.\n",
    "Below we provide examples of particle ``Gas`` objects, and how to initialise and interact with them. \n",
    "\n",
    "We do not define a parametric Gas component in the current version of synthesizer.\n",
    "\n",
    "\n",
    "## Particle Gas\n",
    "\n",
    "To initialise a ``Gas`` object you always need to provide the particle masses and metallicities along with units.\n",
    "The toy example below shows how to initialise a ``Gas`` object with 1000 particles."
   ]
  },
  {
   "cell_type": "code",
   "execution_count": 1,
   "metadata": {
    "execution": {
     "iopub.execute_input": "2024-09-27T08:48:33.544199Z",
     "iopub.status.busy": "2024-09-27T08:48:33.544006Z",
     "iopub.status.idle": "2024-09-27T08:48:35.328052Z",
     "shell.execute_reply": "2024-09-27T08:48:35.327299Z"
    }
   },
   "outputs": [
    {
     "name": "stdout",
     "output_type": "stream",
     "text": [
      "+------------------------------------------------------------------------------+\n",
      "|                                     GAS                                      |\n",
      "+-----------------------+------------------------------------------------------+\n",
      "| Attribute             | Value                                                |\n",
      "+-----------------------+------------------------------------------------------+\n",
      "| nparticles            | 1000                                                 |\n",
      "+-----------------------+------------------------------------------------------+\n",
      "| metallicity_floor     | 1.00e-05                                             |\n",
      "+-----------------------+------------------------------------------------------+\n",
      "| name                  | 'Gas'                                                |\n",
      "+-----------------------+------------------------------------------------------+\n",
      "| dust_to_metal_ratio   | 0.30                                                 |\n",
      "+-----------------------+------------------------------------------------------+\n",
      "| masses (1000,)        | 1.00e+06 Msun -> 1.00e+06 Msun (Mean: 1.00e+06 Msun) |\n",
      "+-----------------------+------------------------------------------------------+\n",
      "| metallicities (1000,) | 9.14e-06 -> 2.00e-02 (Mean: 9.99e-03)                |\n",
      "+-----------------------+------------------------------------------------------+\n",
      "| dust_masses (1000,)   | 2.74e+00 Msun -> 5.99e+03 Msun (Mean: 3.00e+03 Msun) |\n",
      "+-----------------------+------------------------------------------------------+\n"
     ]
    },
    {
     "name": "stderr",
     "output_type": "stream",
     "text": [
      "/tmp/ipykernel_3140/1285897597.py:6: RuntimeWarning: Neither dust mass nor dust to metal ratio provided. Assuming dust to metal ratio = 0.3\n",
      "  gas = Gas(\n"
     ]
    }
   ],
   "source": [
    "import numpy as np\n",
    "from unyt import Msun\n",
    "\n",
    "from synthesizer.particle import Gas\n",
    "\n",
    "gas = Gas(\n",
    "    masses=np.ones(1000) * 10**6 * Msun,\n",
    "    metallicities=np.random.rand(1000) * 0.02,\n",
    ")\n",
    "print(gas)"
   ]
  },
  {
   "cell_type": "markdown",
   "metadata": {},
   "source": [
    "Like all other components, a ``Gas`` object also supports a number of predefined kwargs including (but not limited to) ``velocities``, ``coordinates``, ``smoothing_lengths`` and ``dust_masses`` or ``dust_to_metal_ratio``. In addition, you can also provide custom kwargs to store arbitrary properties (below we'll intialise with some HII properties)."
   ]
  },
  {
   "cell_type": "code",
   "execution_count": 2,
   "metadata": {
    "execution": {
     "iopub.execute_input": "2024-09-27T08:48:35.330583Z",
     "iopub.status.busy": "2024-09-27T08:48:35.330104Z",
     "iopub.status.idle": "2024-09-27T08:48:35.336736Z",
     "shell.execute_reply": "2024-09-27T08:48:35.336170Z"
    }
   },
   "outputs": [
    {
     "name": "stdout",
     "output_type": "stream",
     "text": [
      "+--------------------------------------------------------------------------------+\n",
      "|                                      GAS                                       |\n",
      "+-------------------------+------------------------------------------------------+\n",
      "| Attribute               | Value                                                |\n",
      "+-------------------------+------------------------------------------------------+\n",
      "| nparticles              | 1000                                                 |\n",
      "+-------------------------+------------------------------------------------------+\n",
      "| metallicity_floor       | 1.00e-05                                             |\n",
      "+-------------------------+------------------------------------------------------+\n",
      "| name                    | 'Gas'                                                |\n",
      "+-------------------------+------------------------------------------------------+\n",
      "| dust_to_metal_ratio     | 0.25                                                 |\n",
      "+-------------------------+------------------------------------------------------+\n",
      "| coordinates (1000, 3)   | 1.03e-04 Mpc -> 9.99e-01 Mpc (Mean: 5.09e-01 Mpc)    |\n",
      "+-------------------------+------------------------------------------------------+\n",
      "| masses (1000,)          | 1.00e+06 Msun -> 1.00e+06 Msun (Mean: 1.00e+06 Msun) |\n",
      "+-------------------------+------------------------------------------------------+\n",
      "| centre                  | [0.51190655 0.50645508 0.50925101] Mpc               |\n",
      "+-------------------------+------------------------------------------------------+\n",
      "| metallicities (1000,)   | 2.58e-05 -> 2.00e-02 (Mean: 1.03e-02)                |\n",
      "+-------------------------+------------------------------------------------------+\n",
      "| dust_masses (1000,)     | 6.46e+00 Msun -> 5.00e+03 Msun (Mean: 2.59e+03 Msun) |\n",
      "+-------------------------+------------------------------------------------------+\n",
      "| hii_mass (1000,)        | 9.29e+00 Msun -> 1.00e+04 Msun (Mean: 4.95e+03 Msun) |\n",
      "+-------------------------+------------------------------------------------------+\n",
      "| hii_metallicity (1000,) | 3.00e-05 -> 2.00e-02 (Mean: 9.91e-03)                |\n",
      "+-------------------------+------------------------------------------------------+\n"
     ]
    }
   ],
   "source": [
    "gas = Gas(\n",
    "    masses=np.ones(1000) * 10**6 * Msun,\n",
    "    metallicities=np.random.rand(1000) * 0.02,\n",
    "    dust_to_metal_ratio=0.25,\n",
    "    coordinates=np.random.rand(1000, 3) * 1,\n",
    "    centre=np.mean(np.random.rand(1000, 3) * 1, axis=0),\n",
    "    hii_mass=np.random.rand(1000) * 1e4 * Msun.in_base(\"galactic\"),\n",
    "    hii_metallicity=np.random.rand(1000) * 0.02,\n",
    ")\n",
    "print(gas)"
   ]
  },
  {
   "cell_type": "markdown",
   "metadata": {},
   "source": [
    "Once a ``Gas`` object is initialised, it can be attached to a ``Galaxy`` object and used in LOS calculations, or to analyse the gas distribution via maps or numerous other methods.\n",
    "\n",
    "### Default dust properties\n",
    "\n",
    "You may have noticed that the original ``Gas`` object we initialised automatically populated dust properties. This is because the ``dust_to_metal_ratio`` is by default set to 0.3 if neither ``dust_masses`` nor ``dust_to_metal_ratio`` are provided.\n",
    "This default value is then used to calculate the dust masses from the gas metallicities.\n",
    "If a ``dust_to_metal_ratio`` is provided, the dust masses are calculated from the gas metallicities and the provided ratio.\n",
    "If ``dust_masses`` are provided explicitly, the dust-to-metal ratio is calculated but ignored in all future calculations."
   ]
  },
  {
   "cell_type": "markdown",
   "metadata": {},
   "source": [
    "### Computing characteristics radii\n",
    "\n",
    "Like `Stars`, characteristic radii can be computed for the gas particle distribution. We can either calculate the half-mass radius."
   ]
  },
  {
   "cell_type": "code",
   "execution_count": 3,
   "metadata": {
    "execution": {
     "iopub.execute_input": "2024-09-27T08:48:35.339029Z",
     "iopub.status.busy": "2024-09-27T08:48:35.338660Z",
     "iopub.status.idle": "2024-09-27T08:48:35.342333Z",
     "shell.execute_reply": "2024-09-27T08:48:35.341802Z"
    }
   },
   "outputs": [
    {
     "name": "stdout",
     "output_type": "stream",
     "text": [
      "0.48741316141352264 Mpc\n"
     ]
    }
   ],
   "source": [
    "r = gas.get_half_mass_radius()\n",
    "print(r)"
   ]
  },
  {
   "cell_type": "markdown",
   "metadata": {},
   "source": [
    "Or use an aribtrary attribute for the radius weight. Here we'll use the dust masses for a \"half dust mass radius\"."
   ]
  },
  {
   "cell_type": "code",
   "execution_count": 4,
   "metadata": {
    "execution": {
     "iopub.execute_input": "2024-09-27T08:48:35.344375Z",
     "iopub.status.busy": "2024-09-27T08:48:35.343985Z",
     "iopub.status.idle": "2024-09-27T08:48:35.347375Z",
     "shell.execute_reply": "2024-09-27T08:48:35.346845Z"
    }
   },
   "outputs": [
    {
     "name": "stdout",
     "output_type": "stream",
     "text": [
      "0.4895159118589185 Mpc\n"
     ]
    }
   ],
   "source": [
    "r = gas.get_attr_radius(\"dust_masses\")\n",
    "print(r)"
   ]
  },
  {
   "cell_type": "markdown",
   "metadata": {},
   "source": [
    "We can also compute radii for different fractions by passing the fraction we want to calculate a radius for."
   ]
  },
  {
   "cell_type": "code",
   "execution_count": 5,
   "metadata": {
    "execution": {
     "iopub.execute_input": "2024-09-27T08:48:35.349505Z",
     "iopub.status.busy": "2024-09-27T08:48:35.349126Z",
     "iopub.status.idle": "2024-09-27T08:48:35.353352Z",
     "shell.execute_reply": "2024-09-27T08:48:35.352720Z"
    }
   },
   "outputs": [
    {
     "name": "stdout",
     "output_type": "stream",
     "text": [
      "0.3601336366456548 Mpc 0.5837148326663736 Mpc\n"
     ]
    }
   ],
   "source": [
    "r20 = gas.get_attr_radius(\"masses\", frac=0.2)\n",
    "r80 = gas.get_attr_radius(\"masses\", frac=0.8)\n",
    "print(r20, r80)"
   ]
  }
 ],
 "metadata": {
  "language_info": {
   "codemirror_mode": {
    "name": "ipython",
    "version": 3
   },
   "file_extension": ".py",
   "mimetype": "text/x-python",
   "name": "python",
   "nbconvert_exporter": "python",
   "pygments_lexer": "ipython3",
   "version": "3.10.15"
  }
 },
 "nbformat": 4,
 "nbformat_minor": 2
}
