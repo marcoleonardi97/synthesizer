{
 "cells": [
  {
   "cell_type": "markdown",
   "metadata": {},
   "source": [
    "# Gas\n",
    "\n",
    "A Gas component contains all information about the gaseous medium in a galaxy.\n",
    "Below we provide examples of particle ``Gas`` objects, and how to initialise and interact with them. \n",
    "\n",
    "We do not define a parametric Gas component in the current version of synthesizer.\n",
    "\n",
    "\n",
    "## Particle Gas\n",
    "\n",
    "To initialise a ``Gas`` object you always need to provide the particle masses and metallicities along with units.\n",
    "The toy example below shows how to initialise a ``Gas`` object with 1000 particles."
   ]
  },
  {
   "cell_type": "code",
   "execution_count": 1,
   "metadata": {
    "execution": {
     "iopub.execute_input": "2024-10-15T07:27:01.479699Z",
     "iopub.status.busy": "2024-10-15T07:27:01.479488Z",
     "iopub.status.idle": "2024-10-15T07:27:03.271504Z",
     "shell.execute_reply": "2024-10-15T07:27:03.270765Z"
    }
   },
   "outputs": [
    {
     "name": "stdout",
     "output_type": "stream",
     "text": [
      "+-----------------------------------------------------------------------------------+\n",
      "|                                        GAS                                        |\n",
      "+----------------------------+------------------------------------------------------+\n",
      "| Attribute                  | Value                                                |\n",
      "+----------------------------+------------------------------------------------------+\n",
      "| nparticles                 | 1000                                                 |\n",
      "+----------------------------+------------------------------------------------------+\n",
      "| metallicity_floor          | 1.00e-05                                             |\n",
      "+----------------------------+------------------------------------------------------+\n",
      "| name                       | 'Gas'                                                |\n",
      "+----------------------------+------------------------------------------------------+\n",
      "| dust_to_metal_ratio        | 0.30                                                 |\n",
      "+----------------------------+------------------------------------------------------+\n",
      "| masses (1000,)             | 1.00e+06 Msun -> 1.00e+06 Msun (Mean: 1.00e+06 Msun) |\n",
      "+----------------------------+------------------------------------------------------+\n",
      "| metallicities (1000,)      | 8.02e-07 -> 1.99e-02 (Mean: 9.43e-03)                |\n",
      "+----------------------------+------------------------------------------------------+\n",
      "| dust_masses (1000,)        | 2.41e-01 Msun -> 5.97e+03 Msun (Mean: 2.83e+03 Msun) |\n",
      "+----------------------------+------------------------------------------------------+\n",
      "| log10metallicities (1000,) | -6.10e+00 -> -1.70e+00 (Mean: -2.17e+00)             |\n",
      "+----------------------------+------------------------------------------------------+\n"
     ]
    },
    {
     "name": "stderr",
     "output_type": "stream",
     "text": [
      "/home/runner/work/synthesizer/synthesizer/src/synthesizer/units.py:667: RuntimeWarning: Neither dust mass nor dust to metal ratio provided. Assuming dust to metal ratio = 0.3\n",
      "  return func(*args, **kwargs)\n",
      "/home/runner/work/synthesizer/synthesizer/src/synthesizer/utils/ascii_table.py:67: FutureWarning: The `particle_photo_fluxes` attribute is deprecated. Use `particle_photo_fnu` instead. Will be removed in v1.0.0\n",
      "  self.attributes[name] = getattr(obj, name)\n",
      "/home/runner/work/synthesizer/synthesizer/src/synthesizer/utils/ascii_table.py:67: FutureWarning: The `particle_photo_luminosities` attribute is deprecated. Use `particle_photo_lnu` instead. Will be removed in v1.0.0\n",
      "  self.attributes[name] = getattr(obj, name)\n"
     ]
    }
   ],
   "source": [
    "import numpy as np\n",
    "from unyt import Msun, Mpc\n",
    "\n",
    "from synthesizer.particle import Gas\n",
    "\n",
    "gas = Gas(\n",
    "    masses=np.ones(1000) * 10**6 * Msun,\n",
    "    metallicities=np.random.rand(1000) * 0.02,\n",
    ")\n",
    "print(gas)"
   ]
  },
  {
   "cell_type": "markdown",
   "metadata": {},
   "source": [
    "Like all other components, a ``Gas`` object also supports a number of predefined kwargs including (but not limited to) ``velocities``, ``coordinates``, ``smoothing_lengths`` and ``dust_masses`` or ``dust_to_metal_ratio``. In addition, you can also provide custom kwargs to store arbitrary properties (below we'll intialise with some HII properties)."
   ]
  },
  {
   "cell_type": "code",
   "execution_count": 2,
   "metadata": {
    "execution": {
     "iopub.execute_input": "2024-10-15T07:27:03.273950Z",
     "iopub.status.busy": "2024-10-15T07:27:03.273644Z",
     "iopub.status.idle": "2024-10-15T07:27:03.281334Z",
     "shell.execute_reply": "2024-10-15T07:27:03.280668Z"
    }
   },
   "outputs": [
    {
     "name": "stdout",
     "output_type": "stream",
     "text": [
      "+---------------------------------------------------------------------------------------+\n",
      "|                                          GAS                                          |\n",
      "+--------------------------------+------------------------------------------------------+\n",
      "| Attribute                      | Value                                                |\n",
      "+--------------------------------+------------------------------------------------------+\n",
      "| nparticles                     | 1000                                                 |\n",
      "+--------------------------------+------------------------------------------------------+\n",
      "| metallicity_floor              | 1.00e-05                                             |\n",
      "+--------------------------------+------------------------------------------------------+\n",
      "| name                           | 'Gas'                                                |\n",
      "+--------------------------------+------------------------------------------------------+\n",
      "| dust_to_metal_ratio            | 0.25                                                 |\n",
      "+--------------------------------+------------------------------------------------------+\n",
      "| coordinates (1000, 3)          | 8.00e-05 Mpc -> 1.00e+00 Mpc (Mean: 5.02e-01 Mpc)    |\n",
      "+--------------------------------+------------------------------------------------------+\n",
      "| masses (1000,)                 | 1.00e+06 Msun -> 1.00e+06 Msun (Mean: 1.00e+06 Msun) |\n",
      "+--------------------------------+------------------------------------------------------+\n",
      "| centre                         | [0.49437939 0.49708098 0.49008642] Mpc               |\n",
      "+--------------------------------+------------------------------------------------------+\n",
      "| metallicities (1000,)          | 5.11e-07 -> 2.00e-02 (Mean: 9.87e-03)                |\n",
      "+--------------------------------+------------------------------------------------------+\n",
      "| dust_masses (1000,)            | 1.28e-01 Msun -> 5.00e+03 Msun (Mean: 2.47e+03 Msun) |\n",
      "+--------------------------------+------------------------------------------------------+\n",
      "| hii_mass (1000,)               | 2.06e+31 kg -> 1.98e+34 kg (Mean: 1.02e+34 kg)       |\n",
      "+--------------------------------+------------------------------------------------------+\n",
      "| hii_metallicity (1000,)        | 1.00e-06 -> 2.00e-02 (Mean: 1.01e-02)                |\n",
      "+--------------------------------+------------------------------------------------------+\n",
      "| centered_coordinates (1000, 3) | -4.97e-01 Mpc -> 5.09e-01 Mpc (Mean: 7.73e-03 Mpc)   |\n",
      "+--------------------------------+------------------------------------------------------+\n",
      "| log10metallicities (1000,)     | -6.29e+00 -> -1.70e+00 (Mean: -2.15e+00)             |\n",
      "+--------------------------------+------------------------------------------------------+\n"
     ]
    }
   ],
   "source": [
    "gas = Gas(\n",
    "    masses=np.ones(1000) * 10**6 * Msun,\n",
    "    metallicities=np.random.rand(1000) * 0.02,\n",
    "    dust_to_metal_ratio=0.25,\n",
    "    coordinates=np.random.rand(1000, 3) * 1 * Mpc,\n",
    "    centre=np.mean(np.random.rand(1000, 3) * 1, axis=0) * Mpc,\n",
    "    hii_mass=np.random.rand(1000) * 1e4 * Msun,\n",
    "    hii_metallicity=np.random.rand(1000) * 0.02,\n",
    ")\n",
    "print(gas)"
   ]
  },
  {
   "cell_type": "markdown",
   "metadata": {},
   "source": [
    "Once a ``Gas`` object is initialised, it can be attached to a ``Galaxy`` object and used in LOS calculations, or to analyse the gas distribution via maps or numerous other methods.\n",
    "\n",
    "### Default dust properties\n",
    "\n",
    "You may have noticed that the original ``Gas`` object we initialised automatically populated dust properties. This is because the ``dust_to_metal_ratio`` is by default set to 0.3 if neither ``dust_masses`` nor ``dust_to_metal_ratio`` are provided.\n",
    "This default value is then used to calculate the dust masses from the gas metallicities.\n",
    "If a ``dust_to_metal_ratio`` is provided, the dust masses are calculated from the gas metallicities and the provided ratio.\n",
    "If ``dust_masses`` are provided explicitly, the dust-to-metal ratio is calculated but ignored in all future calculations."
   ]
  },
  {
   "cell_type": "markdown",
   "metadata": {},
   "source": [
    "### Computing characteristics radii\n",
    "\n",
    "Like `Stars`, characteristic radii can be computed for the gas particle distribution. We can either calculate the half-mass radius."
   ]
  },
  {
   "cell_type": "code",
   "execution_count": 3,
   "metadata": {
    "execution": {
     "iopub.execute_input": "2024-10-15T07:27:03.283380Z",
     "iopub.status.busy": "2024-10-15T07:27:03.283182Z",
     "iopub.status.idle": "2024-10-15T07:27:03.286918Z",
     "shell.execute_reply": "2024-10-15T07:27:03.286403Z"
    }
   },
   "outputs": [
    {
     "name": "stdout",
     "output_type": "stream",
     "text": [
      "0.5006793571067523 Mpc\n"
     ]
    }
   ],
   "source": [
    "r = gas.get_half_mass_radius()\n",
    "print(r)"
   ]
  },
  {
   "cell_type": "markdown",
   "metadata": {},
   "source": [
    "Or use an aribtrary attribute for the radius weight. Here we'll use the dust masses for a \"half dust mass radius\"."
   ]
  },
  {
   "cell_type": "code",
   "execution_count": 4,
   "metadata": {
    "execution": {
     "iopub.execute_input": "2024-10-15T07:27:03.288793Z",
     "iopub.status.busy": "2024-10-15T07:27:03.288613Z",
     "iopub.status.idle": "2024-10-15T07:27:03.292013Z",
     "shell.execute_reply": "2024-10-15T07:27:03.291478Z"
    }
   },
   "outputs": [
    {
     "name": "stdout",
     "output_type": "stream",
     "text": [
      "0.510649299993744 Mpc\n"
     ]
    }
   ],
   "source": [
    "r = gas.get_attr_radius(\"dust_masses\")\n",
    "print(r)"
   ]
  },
  {
   "cell_type": "markdown",
   "metadata": {},
   "source": [
    "We can also compute radii for different fractions by passing the fraction we want to calculate a radius for."
   ]
  },
  {
   "cell_type": "code",
   "execution_count": 5,
   "metadata": {
    "execution": {
     "iopub.execute_input": "2024-10-15T07:27:03.294020Z",
     "iopub.status.busy": "2024-10-15T07:27:03.293657Z",
     "iopub.status.idle": "2024-10-15T07:27:03.297590Z",
     "shell.execute_reply": "2024-10-15T07:27:03.297066Z"
    }
   },
   "outputs": [
    {
     "name": "stdout",
     "output_type": "stream",
     "text": [
      "0.3645311625054772 Mpc 0.6123397263615533 Mpc\n"
     ]
    }
   ],
   "source": [
    "r20 = gas.get_attr_radius(\"masses\", frac=0.2)\n",
    "r80 = gas.get_attr_radius(\"masses\", frac=0.8)\n",
    "print(r20, r80)"
   ]
  }
 ],
 "metadata": {
  "language_info": {
   "codemirror_mode": {
    "name": "ipython",
    "version": 3
   },
   "file_extension": ".py",
   "mimetype": "text/x-python",
   "name": "python",
   "nbconvert_exporter": "python",
   "pygments_lexer": "ipython3",
   "version": "3.10.15"
  }
 },
 "nbformat": 4,
 "nbformat_minor": 2
}
