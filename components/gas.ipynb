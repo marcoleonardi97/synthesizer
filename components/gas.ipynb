{
 "cells": [
  {
   "cell_type": "markdown",
   "metadata": {},
   "source": [
    "# Gas\n",
    "\n",
    "A Gas component contains all information about the gaseous medium in a galaxy.\n",
    "Below we provide examples of particle ``Gas`` objects, and how to initialise and interact with them. \n",
    "\n",
    "We do not define a parametric Gas component in the current version of synthesizer.\n",
    "\n",
    "\n",
    "## Particle Gas\n",
    "\n",
    "To initialise a ``Gas`` object you always need to provide the particle masses and metallicities along with units.\n",
    "The toy example below shows how to initialise a ``Gas`` object with 1000 particles."
   ]
  },
  {
   "cell_type": "code",
   "execution_count": 1,
   "metadata": {
    "execution": {
     "iopub.execute_input": "2024-07-22T16:48:29.967802Z",
     "iopub.status.busy": "2024-07-22T16:48:29.967607Z",
     "iopub.status.idle": "2024-07-22T16:48:31.828571Z",
     "shell.execute_reply": "2024-07-22T16:48:31.827794Z"
    }
   },
   "outputs": [
    {
     "name": "stdout",
     "output_type": "stream",
     "text": [
      "+-----------------------------------------------------------------------------------+\n",
      "|                                        GAS                                        |\n",
      "+----------------------------+------------------------------------------------------+\n",
      "| Attribute                  | Value                                                |\n",
      "+----------------------------+------------------------------------------------------+\n",
      "| nparticles                 | 1000                                                 |\n",
      "+----------------------------+------------------------------------------------------+\n",
      "| metallicity_floor          | 1.00e-05                                             |\n",
      "+----------------------------+------------------------------------------------------+\n",
      "| dust_to_metal_ratio        | 0.30                                                 |\n",
      "+----------------------------+------------------------------------------------------+\n",
      "| masses (1000,)             | 1.00e+06 Msun -> 1.00e+06 Msun (Mean: 1.00e+06 Msun) |\n",
      "+----------------------------+------------------------------------------------------+\n",
      "| metallicities (1000,)      | 6.27e-06 -> 1.99e-02 (Mean: 1.02e-02)                |\n",
      "+----------------------------+------------------------------------------------------+\n",
      "| log10metallicities (1000,) | -5.20e+00 -> -1.70e+00 (Mean: -2.12e+00)             |\n",
      "+----------------------------+------------------------------------------------------+\n",
      "| dust_masses (1000,)        | 1.88e+00 Msun -> 5.98e+03 Msun (Mean: 3.05e+03 Msun) |\n",
      "+----------------------------+------------------------------------------------------+\n"
     ]
    },
    {
     "name": "stderr",
     "output_type": "stream",
     "text": [
      "/tmp/ipykernel_3099/2323525186.py:5: RuntimeWarning: Neither dust mass nor dust to metal ratio provided. Assuming dust to metal ratio = 0.3\n",
      "  gas = Gas(\n"
     ]
    }
   ],
   "source": [
    "import numpy as np\n",
    "from synthesizer.particle import Gas\n",
    "from unyt import Msun\n",
    "\n",
    "gas = Gas(\n",
    "    masses=np.ones(1000) * 10**6 * Msun,\n",
    "    metallicities=np.random.rand(1000) * 0.02,\n",
    ")\n",
    "print(gas)"
   ]
  },
  {
   "cell_type": "markdown",
   "metadata": {},
   "source": [
    "Like all other components, a ``Gas`` object also supports a number of predefined kwargs including (but not limited to) ``velocities``, ``coordinates``, ``smoothing_lengths`` and ``dust_masses`` or ``dust_to_metal_ratio``. In addition, you can also provide custom kwargs to store arbitrary properties (below we'll intialise with some HII properties)."
   ]
  },
  {
   "cell_type": "code",
   "execution_count": 2,
   "metadata": {
    "execution": {
     "iopub.execute_input": "2024-07-22T16:48:31.831786Z",
     "iopub.status.busy": "2024-07-22T16:48:31.831302Z",
     "iopub.status.idle": "2024-07-22T16:48:31.839172Z",
     "shell.execute_reply": "2024-07-22T16:48:31.838503Z"
    }
   },
   "outputs": [
    {
     "name": "stdout",
     "output_type": "stream",
     "text": [
      "+-----------------------------------------------------------------------------------+\n",
      "|                                        GAS                                        |\n",
      "+----------------------------+------------------------------------------------------+\n",
      "| Attribute                  | Value                                                |\n",
      "+----------------------------+------------------------------------------------------+\n",
      "| nparticles                 | 1000                                                 |\n",
      "+----------------------------+------------------------------------------------------+\n",
      "| metallicity_floor          | 1.00e-05                                             |\n",
      "+----------------------------+------------------------------------------------------+\n",
      "| dust_to_metal_ratio        | 0.25                                                 |\n",
      "+----------------------------+------------------------------------------------------+\n",
      "| coordinates (1000, 3)      | 1.54e-05 Mpc -> 9.99e-01 Mpc (Mean: 5.01e-01 Mpc)    |\n",
      "+----------------------------+------------------------------------------------------+\n",
      "| masses (1000,)             | 1.00e+06 Msun -> 1.00e+06 Msun (Mean: 1.00e+06 Msun) |\n",
      "+----------------------------+------------------------------------------------------+\n",
      "| centre                     | [0.49240631 0.48696489 0.5024901 ] Mpc               |\n",
      "+----------------------------+------------------------------------------------------+\n",
      "| metallicities (1000,)      | 7.85e-05 -> 2.00e-02 (Mean: 1.01e-02)                |\n",
      "+----------------------------+------------------------------------------------------+\n",
      "| log10metallicities (1000,) | -4.11e+00 -> -1.70e+00 (Mean: -2.13e+00)             |\n",
      "+----------------------------+------------------------------------------------------+\n",
      "| dust_masses (1000,)        | 1.96e+01 Msun -> 5.00e+03 Msun (Mean: 2.53e+03 Msun) |\n",
      "+----------------------------+------------------------------------------------------+\n",
      "| hii_mass (1000,)           | 1.58e+01 Msun -> 9.96e+03 Msun (Mean: 4.88e+03 Msun) |\n",
      "+----------------------------+------------------------------------------------------+\n",
      "| hii_metallicity (1000,)    | 7.89e-06 -> 2.00e-02 (Mean: 9.58e-03)                |\n",
      "+----------------------------+------------------------------------------------------+\n"
     ]
    }
   ],
   "source": [
    "gas = Gas(\n",
    "    masses=np.ones(1000) * 10**6 * Msun,\n",
    "    metallicities=np.random.rand(1000) * 0.02,\n",
    "    dust_to_metal_ratio=0.25,\n",
    "    coordinates=np.random.rand(1000, 3) * 1,\n",
    "    centre=np.mean(np.random.rand(1000, 3) * 1, axis=0),\n",
    "    hii_mass=np.random.rand(1000) * 1e4 * Msun.in_base(\"galactic\"),\n",
    "    hii_metallicity=np.random.rand(1000) * 0.02,\n",
    ")\n",
    "print(gas)"
   ]
  },
  {
   "cell_type": "markdown",
   "metadata": {},
   "source": [
    "Once a ``Gas`` object is initialised, it can be attached to a ``Galaxy`` object and used in LOS calculations, or to analyse the gas distribution via maps or numerous other methods.\n",
    "\n",
    "### Default dust properties\n",
    "\n",
    "You may have noticed that the original ``Gas`` object we initialised automatically populated dust properties. This is because the ``dust_to_metal_ratio`` is by default set to 0.3 if neither ``dust_masses`` nor ``dust_to_metal_ratio`` are provided.\n",
    "This default value is then used to calculate the dust masses from the gas metallicities.\n",
    "If a ``dust_to_metal_ratio`` is provided, the dust masses are calculated from the gas metallicities and the provided ratio.\n",
    "If ``dust_masses`` are provided explicitly, the dust-to-metal ratio is calculated but ignored in all future calculations."
   ]
  },
  {
   "cell_type": "markdown",
   "metadata": {},
   "source": [
    "### Computing characteristics radii\n",
    "\n",
    "Like `Stars`, characteristic radii can be computed for the gas particle distribution. We can either calculate the half-mass radius."
   ]
  },
  {
   "cell_type": "code",
   "execution_count": 3,
   "metadata": {
    "execution": {
     "iopub.execute_input": "2024-07-22T16:48:31.841674Z",
     "iopub.status.busy": "2024-07-22T16:48:31.841470Z",
     "iopub.status.idle": "2024-07-22T16:48:31.845449Z",
     "shell.execute_reply": "2024-07-22T16:48:31.844801Z"
    }
   },
   "outputs": [
    {
     "name": "stdout",
     "output_type": "stream",
     "text": [
      "0.48755696743805954 Mpc\n"
     ]
    }
   ],
   "source": [
    "r = gas.get_half_mass_radius()\n",
    "print(r)"
   ]
  },
  {
   "cell_type": "markdown",
   "metadata": {},
   "source": [
    "Or use an aribtrary attribute for the radius weight. Here we'll use the dust masses for a \"half dust mass radius\"."
   ]
  },
  {
   "cell_type": "code",
   "execution_count": 4,
   "metadata": {
    "execution": {
     "iopub.execute_input": "2024-07-22T16:48:31.847900Z",
     "iopub.status.busy": "2024-07-22T16:48:31.847516Z",
     "iopub.status.idle": "2024-07-22T16:48:31.851111Z",
     "shell.execute_reply": "2024-07-22T16:48:31.850499Z"
    }
   },
   "outputs": [
    {
     "name": "stdout",
     "output_type": "stream",
     "text": [
      "0.488324782625557 Mpc\n"
     ]
    }
   ],
   "source": [
    "r = gas.get_attr_radius(\"dust_masses\")\n",
    "print(r)"
   ]
  },
  {
   "cell_type": "markdown",
   "metadata": {},
   "source": [
    "We can also compute radii for different fractions by passing the fraction we want to calculate a radius for."
   ]
  },
  {
   "cell_type": "code",
   "execution_count": 5,
   "metadata": {
    "execution": {
     "iopub.execute_input": "2024-07-22T16:48:31.853612Z",
     "iopub.status.busy": "2024-07-22T16:48:31.853267Z",
     "iopub.status.idle": "2024-07-22T16:48:31.857490Z",
     "shell.execute_reply": "2024-07-22T16:48:31.856845Z"
    }
   },
   "outputs": [
    {
     "name": "stdout",
     "output_type": "stream",
     "text": [
      "0.35881162134310984 Mpc 0.5983095226837092 Mpc\n"
     ]
    }
   ],
   "source": [
    "r20 = gas.get_attr_radius(\"masses\", frac=0.2)\n",
    "r80 = gas.get_attr_radius(\"masses\", frac=0.8)\n",
    "print(r20, r80)"
   ]
  }
 ],
 "metadata": {
  "language_info": {
   "codemirror_mode": {
    "name": "ipython",
    "version": 3
   },
   "file_extension": ".py",
   "mimetype": "text/x-python",
   "name": "python",
   "nbconvert_exporter": "python",
   "pygments_lexer": "ipython3",
   "version": "3.10.14"
  }
 },
 "nbformat": 4,
 "nbformat_minor": 2
}
