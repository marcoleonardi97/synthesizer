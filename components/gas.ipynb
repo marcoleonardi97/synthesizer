{
 "cells": [
  {
   "cell_type": "markdown",
   "metadata": {},
   "source": [
    "# Gas\n",
    "\n",
    "A Gas component contains all information about the gaseous medium in a galaxy.\n",
    "Below we provide examples of particle ``Gas`` objects, and how to initialise and interact with them. \n",
    "\n",
    "We do not define a parametric Gas component in the current version of synthesizer.\n",
    "\n",
    "\n",
    "## Particle Gas\n",
    "\n",
    "To initialise a ``Gas`` object you always need to provide the particle masses and metallicities along with units.\n",
    "The toy example below shows how to initialise a ``Gas`` object with 1000 particles."
   ]
  },
  {
   "cell_type": "code",
   "execution_count": 1,
   "metadata": {
    "execution": {
     "iopub.execute_input": "2024-08-12T13:40:57.098267Z",
     "iopub.status.busy": "2024-08-12T13:40:57.098066Z",
     "iopub.status.idle": "2024-08-12T13:40:59.050613Z",
     "shell.execute_reply": "2024-08-12T13:40:59.049894Z"
    }
   },
   "outputs": [
    {
     "name": "stdout",
     "output_type": "stream",
     "text": [
      "+------------------------------------------------------------------------------+\n",
      "|                                     GAS                                      |\n",
      "+-----------------------+------------------------------------------------------+\n",
      "| Attribute             | Value                                                |\n",
      "+-----------------------+------------------------------------------------------+\n",
      "| nparticles            | 1000                                                 |\n",
      "+-----------------------+------------------------------------------------------+\n",
      "| metallicity_floor     | 1.00e-05                                             |\n",
      "+-----------------------+------------------------------------------------------+\n",
      "| name                  | 'Gas'                                                |\n",
      "+-----------------------+------------------------------------------------------+\n",
      "| dust_to_metal_ratio   | 0.30                                                 |\n",
      "+-----------------------+------------------------------------------------------+\n",
      "| masses (1000,)        | 1.00e+06 Msun -> 1.00e+06 Msun (Mean: 1.00e+06 Msun) |\n",
      "+-----------------------+------------------------------------------------------+\n",
      "| metallicities (1000,) | 1.11e-05 -> 2.00e-02 (Mean: 9.86e-03)                |\n",
      "+-----------------------+------------------------------------------------------+\n",
      "| dust_masses (1000,)   | 3.32e+00 Msun -> 5.99e+03 Msun (Mean: 2.96e+03 Msun) |\n",
      "+-----------------------+------------------------------------------------------+\n"
     ]
    },
    {
     "name": "stderr",
     "output_type": "stream",
     "text": [
      "/tmp/ipykernel_3137/2323525186.py:5: RuntimeWarning: Neither dust mass nor dust to metal ratio provided. Assuming dust to metal ratio = 0.3\n",
      "  gas = Gas(\n"
     ]
    }
   ],
   "source": [
    "import numpy as np\n",
    "from synthesizer.particle import Gas\n",
    "from unyt import Msun\n",
    "\n",
    "gas = Gas(\n",
    "    masses=np.ones(1000) * 10**6 * Msun,\n",
    "    metallicities=np.random.rand(1000) * 0.02,\n",
    ")\n",
    "print(gas)"
   ]
  },
  {
   "cell_type": "markdown",
   "metadata": {},
   "source": [
    "Like all other components, a ``Gas`` object also supports a number of predefined kwargs including (but not limited to) ``velocities``, ``coordinates``, ``smoothing_lengths`` and ``dust_masses`` or ``dust_to_metal_ratio``. In addition, you can also provide custom kwargs to store arbitrary properties (below we'll intialise with some HII properties)."
   ]
  },
  {
   "cell_type": "code",
   "execution_count": 2,
   "metadata": {
    "execution": {
     "iopub.execute_input": "2024-08-12T13:40:59.054203Z",
     "iopub.status.busy": "2024-08-12T13:40:59.053489Z",
     "iopub.status.idle": "2024-08-12T13:40:59.060762Z",
     "shell.execute_reply": "2024-08-12T13:40:59.060186Z"
    }
   },
   "outputs": [
    {
     "name": "stdout",
     "output_type": "stream",
     "text": [
      "+--------------------------------------------------------------------------------+\n",
      "|                                      GAS                                       |\n",
      "+-------------------------+------------------------------------------------------+\n",
      "| Attribute               | Value                                                |\n",
      "+-------------------------+------------------------------------------------------+\n",
      "| nparticles              | 1000                                                 |\n",
      "+-------------------------+------------------------------------------------------+\n",
      "| metallicity_floor       | 1.00e-05                                             |\n",
      "+-------------------------+------------------------------------------------------+\n",
      "| name                    | 'Gas'                                                |\n",
      "+-------------------------+------------------------------------------------------+\n",
      "| dust_to_metal_ratio     | 0.25                                                 |\n",
      "+-------------------------+------------------------------------------------------+\n",
      "| coordinates (1000, 3)   | 7.26e-04 Mpc -> 9.99e-01 Mpc (Mean: 4.98e-01 Mpc)    |\n",
      "+-------------------------+------------------------------------------------------+\n",
      "| masses (1000,)          | 1.00e+06 Msun -> 1.00e+06 Msun (Mean: 1.00e+06 Msun) |\n",
      "+-------------------------+------------------------------------------------------+\n",
      "| centre                  | [0.50560066 0.51452391 0.50599059] Mpc               |\n",
      "+-------------------------+------------------------------------------------------+\n",
      "| metallicities (1000,)   | 1.32e-05 -> 2.00e-02 (Mean: 9.87e-03)                |\n",
      "+-------------------------+------------------------------------------------------+\n",
      "| dust_masses (1000,)     | 3.29e+00 Msun -> 5.00e+03 Msun (Mean: 2.47e+03 Msun) |\n",
      "+-------------------------+------------------------------------------------------+\n",
      "| hii_mass (1000,)        | 4.90e+00 Msun -> 1.00e+04 Msun (Mean: 5.09e+03 Msun) |\n",
      "+-------------------------+------------------------------------------------------+\n",
      "| hii_metallicity (1000,) | 2.04e-05 -> 1.99e-02 (Mean: 1.04e-02)                |\n",
      "+-------------------------+------------------------------------------------------+\n"
     ]
    }
   ],
   "source": [
    "gas = Gas(\n",
    "    masses=np.ones(1000) * 10**6 * Msun,\n",
    "    metallicities=np.random.rand(1000) * 0.02,\n",
    "    dust_to_metal_ratio=0.25,\n",
    "    coordinates=np.random.rand(1000, 3) * 1,\n",
    "    centre=np.mean(np.random.rand(1000, 3) * 1, axis=0),\n",
    "    hii_mass=np.random.rand(1000) * 1e4 * Msun.in_base(\"galactic\"),\n",
    "    hii_metallicity=np.random.rand(1000) * 0.02,\n",
    ")\n",
    "print(gas)"
   ]
  },
  {
   "cell_type": "markdown",
   "metadata": {},
   "source": [
    "Once a ``Gas`` object is initialised, it can be attached to a ``Galaxy`` object and used in LOS calculations, or to analyse the gas distribution via maps or numerous other methods.\n",
    "\n",
    "### Default dust properties\n",
    "\n",
    "You may have noticed that the original ``Gas`` object we initialised automatically populated dust properties. This is because the ``dust_to_metal_ratio`` is by default set to 0.3 if neither ``dust_masses`` nor ``dust_to_metal_ratio`` are provided.\n",
    "This default value is then used to calculate the dust masses from the gas metallicities.\n",
    "If a ``dust_to_metal_ratio`` is provided, the dust masses are calculated from the gas metallicities and the provided ratio.\n",
    "If ``dust_masses`` are provided explicitly, the dust-to-metal ratio is calculated but ignored in all future calculations."
   ]
  },
  {
   "cell_type": "markdown",
   "metadata": {},
   "source": [
    "### Computing characteristics radii\n",
    "\n",
    "Like `Stars`, characteristic radii can be computed for the gas particle distribution. We can either calculate the half-mass radius."
   ]
  },
  {
   "cell_type": "code",
   "execution_count": 3,
   "metadata": {
    "execution": {
     "iopub.execute_input": "2024-08-12T13:40:59.063734Z",
     "iopub.status.busy": "2024-08-12T13:40:59.063529Z",
     "iopub.status.idle": "2024-08-12T13:40:59.067529Z",
     "shell.execute_reply": "2024-08-12T13:40:59.066895Z"
    }
   },
   "outputs": [
    {
     "name": "stdout",
     "output_type": "stream",
     "text": [
      "0.48944248626048653 Mpc\n"
     ]
    }
   ],
   "source": [
    "r = gas.get_half_mass_radius()\n",
    "print(r)"
   ]
  },
  {
   "cell_type": "markdown",
   "metadata": {},
   "source": [
    "Or use an aribtrary attribute for the radius weight. Here we'll use the dust masses for a \"half dust mass radius\"."
   ]
  },
  {
   "cell_type": "code",
   "execution_count": 4,
   "metadata": {
    "execution": {
     "iopub.execute_input": "2024-08-12T13:40:59.070544Z",
     "iopub.status.busy": "2024-08-12T13:40:59.070132Z",
     "iopub.status.idle": "2024-08-12T13:40:59.073999Z",
     "shell.execute_reply": "2024-08-12T13:40:59.073307Z"
    }
   },
   "outputs": [
    {
     "name": "stdout",
     "output_type": "stream",
     "text": [
      "0.4904241720645134 Mpc\n"
     ]
    }
   ],
   "source": [
    "r = gas.get_attr_radius(\"dust_masses\")\n",
    "print(r)"
   ]
  },
  {
   "cell_type": "markdown",
   "metadata": {},
   "source": [
    "We can also compute radii for different fractions by passing the fraction we want to calculate a radius for."
   ]
  },
  {
   "cell_type": "code",
   "execution_count": 5,
   "metadata": {
    "execution": {
     "iopub.execute_input": "2024-08-12T13:40:59.076669Z",
     "iopub.status.busy": "2024-08-12T13:40:59.076275Z",
     "iopub.status.idle": "2024-08-12T13:40:59.080607Z",
     "shell.execute_reply": "2024-08-12T13:40:59.079939Z"
    }
   },
   "outputs": [
    {
     "name": "stdout",
     "output_type": "stream",
     "text": [
      "0.35155374927498384 Mpc 0.6028214047302227 Mpc\n"
     ]
    }
   ],
   "source": [
    "r20 = gas.get_attr_radius(\"masses\", frac=0.2)\n",
    "r80 = gas.get_attr_radius(\"masses\", frac=0.8)\n",
    "print(r20, r80)"
   ]
  }
 ],
 "metadata": {
  "language_info": {
   "codemirror_mode": {
    "name": "ipython",
    "version": 3
   },
   "file_extension": ".py",
   "mimetype": "text/x-python",
   "name": "python",
   "nbconvert_exporter": "python",
   "pygments_lexer": "ipython3",
   "version": "3.10.14"
  }
 },
 "nbformat": 4,
 "nbformat_minor": 2
}
