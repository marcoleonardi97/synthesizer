{
 "cells": [
  {
   "cell_type": "markdown",
   "metadata": {},
   "source": [
    "# Gas\n",
    "\n",
    "A Gas component contains all information about the gaseous medium in a galaxy.\n",
    "Below we provide examples of particle ``Gas`` objects, and how to initialise and interact with them. \n",
    "\n",
    "We do not define a parametric Gas component in the current version of synthesizer.\n",
    "\n",
    "\n",
    "## Particle Gas\n",
    "\n",
    "To initialise a ``Gas`` object you always need to provide the particle masses and metallicities along with units.\n",
    "The toy example below shows how to initialise a ``Gas`` object with 1000 particles."
   ]
  },
  {
   "cell_type": "code",
   "execution_count": 1,
   "metadata": {
    "execution": {
     "iopub.execute_input": "2024-07-15T12:50:48.294609Z",
     "iopub.status.busy": "2024-07-15T12:50:48.294408Z",
     "iopub.status.idle": "2024-07-15T12:50:50.189157Z",
     "shell.execute_reply": "2024-07-15T12:50:50.188407Z"
    }
   },
   "outputs": [
    {
     "name": "stdout",
     "output_type": "stream",
     "text": [
      "+-----------------------------------------------------------------------------------+\n",
      "|                                        GAS                                        |\n",
      "+----------------------------+------------------------------------------------------+\n",
      "| Attribute                  | Value                                                |\n",
      "+----------------------------+------------------------------------------------------+\n",
      "| nparticles                 | 1000                                                 |\n",
      "+----------------------------+------------------------------------------------------+\n",
      "| metallicity_floor          | 1.00e-05                                             |\n",
      "+----------------------------+------------------------------------------------------+\n",
      "| dust_to_metal_ratio        | 0.30                                                 |\n",
      "+----------------------------+------------------------------------------------------+\n",
      "| masses (1000,)             | 1.00e+06 Msun -> 1.00e+06 Msun (Mean: 1.00e+06 Msun) |\n",
      "+----------------------------+------------------------------------------------------+\n",
      "| metallicities (1000,)      | 4.25e-05 -> 2.00e-02 (Mean: 9.99e-03)                |\n",
      "+----------------------------+------------------------------------------------------+\n",
      "| log10metallicities (1000,) | -4.37e+00 -> -1.70e+00 (Mean: -2.14e+00)             |\n",
      "+----------------------------+------------------------------------------------------+\n",
      "| dust_masses (1000,)        | 1.28e+01 Msun -> 5.99e+03 Msun (Mean: 3.00e+03 Msun) |\n",
      "+----------------------------+------------------------------------------------------+\n"
     ]
    },
    {
     "name": "stderr",
     "output_type": "stream",
     "text": [
      "/tmp/ipykernel_3153/2323525186.py:5: RuntimeWarning: Neither dust mass nor dust to metal ratio provided. Assuming dust to metal ratio = 0.3\n",
      "  gas = Gas(\n"
     ]
    }
   ],
   "source": [
    "import numpy as np\n",
    "from synthesizer.particle import Gas\n",
    "from unyt import Msun\n",
    "\n",
    "gas = Gas(\n",
    "    masses=np.ones(1000) * 10**6 * Msun,\n",
    "    metallicities=np.random.rand(1000) * 0.02,\n",
    ")\n",
    "print(gas)"
   ]
  },
  {
   "cell_type": "markdown",
   "metadata": {},
   "source": [
    "Like all other components, a ``Gas`` object also supports a number of predefined kwargs including (but not limited to) ``velocities``, ``coordinates``, ``smoothing_lengths`` and ``dust_masses`` or ``dust_to_metal_ratio``. In addition, you can also provide custom kwargs to store arbitrary properties (below we'll intialise with some HII properties)."
   ]
  },
  {
   "cell_type": "code",
   "execution_count": 2,
   "metadata": {
    "execution": {
     "iopub.execute_input": "2024-07-15T12:50:50.192323Z",
     "iopub.status.busy": "2024-07-15T12:50:50.191712Z",
     "iopub.status.idle": "2024-07-15T12:50:50.198240Z",
     "shell.execute_reply": "2024-07-15T12:50:50.197727Z"
    }
   },
   "outputs": [
    {
     "name": "stdout",
     "output_type": "stream",
     "text": [
      "+-----------------------------------------------------------------------------------+\n",
      "|                                        GAS                                        |\n",
      "+----------------------------+------------------------------------------------------+\n",
      "| Attribute                  | Value                                                |\n",
      "+----------------------------+------------------------------------------------------+\n",
      "| nparticles                 | 1000                                                 |\n",
      "+----------------------------+------------------------------------------------------+\n",
      "| metallicity_floor          | 1.00e-05                                             |\n",
      "+----------------------------+------------------------------------------------------+\n",
      "| dust_to_metal_ratio        | 0.25                                                 |\n",
      "+----------------------------+------------------------------------------------------+\n",
      "| masses (1000,)             | 1.00e+06 Msun -> 1.00e+06 Msun (Mean: 1.00e+06 Msun) |\n",
      "+----------------------------+------------------------------------------------------+\n",
      "| metallicities (1000,)      | 2.83e-06 -> 2.00e-02 (Mean: 9.82e-03)                |\n",
      "+----------------------------+------------------------------------------------------+\n",
      "| log10metallicities (1000,) | -5.55e+00 -> -1.70e+00 (Mean: -2.15e+00)             |\n",
      "+----------------------------+------------------------------------------------------+\n",
      "| dust_masses (1000,)        | 7.08e-01 Msun -> 4.99e+03 Msun (Mean: 2.46e+03 Msun) |\n",
      "+----------------------------+------------------------------------------------------+\n",
      "| hii_mass (1000,)           | 2.50e+01 Msun -> 9.98e+03 Msun (Mean: 4.90e+03 Msun) |\n",
      "+----------------------------+------------------------------------------------------+\n",
      "| hii_metallicity (1000,)    | 1.93e-05 -> 2.00e-02 (Mean: 1.01e-02)                |\n",
      "+----------------------------+------------------------------------------------------+\n"
     ]
    }
   ],
   "source": [
    "gas = Gas(\n",
    "    masses=np.ones(1000) * 10**6 * Msun,\n",
    "    metallicities=np.random.rand(1000) * 0.02,\n",
    "    dust_to_metal_ratio=0.25,\n",
    "    hii_mass=np.random.rand(1000) * 1e4 * Msun.in_base(\"galactic\"),\n",
    "    hii_metallicity=np.random.rand(1000) * 0.02,\n",
    ")\n",
    "print(gas)"
   ]
  },
  {
   "cell_type": "markdown",
   "metadata": {},
   "source": [
    "Once a ``Gas`` object is initialised, it can be attached to a ``Galaxy`` object and used in LOS calculations, or to analyse the gas distribution via maps or numerous other methods.\n",
    "\n",
    "### Default dust properties\n",
    "\n",
    "You may have noticed that the original ``Gas`` object we initialised automatically populated dust properties. This is because the ``dust_to_metal_ratio`` is by default set to 0.3 if neither ``dust_masses`` nor ``dust_to_metal_ratio`` are provided.\n",
    "This default value is then used to calculate the dust masses from the gas metallicities.\n",
    "If a ``dust_to_metal_ratio`` is provided, the dust masses are calculated from the gas metallicities and the provided ratio.\n",
    "If ``dust_masses`` are provided explicitly, the dust-to-metal ratio is calculated but ignored in all future calculations."
   ]
  }
 ],
 "metadata": {
  "language_info": {
   "codemirror_mode": {
    "name": "ipython",
    "version": 3
   },
   "file_extension": ".py",
   "mimetype": "text/x-python",
   "name": "python",
   "nbconvert_exporter": "python",
   "pygments_lexer": "ipython3",
   "version": "3.10.14"
  }
 },
 "nbformat": 4,
 "nbformat_minor": 2
}
