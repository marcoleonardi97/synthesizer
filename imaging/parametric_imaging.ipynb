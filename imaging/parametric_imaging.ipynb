{
 "cells": [
  {
   "cell_type": "markdown",
   "id": "6614bc4e",
   "metadata": {},
   "source": [
    "# Creating Images From Parametric Galaxies\n",
    "\n",
    "In this example we show how to create images of parametric galaxies. We first create an SED using the parametric `Stars` functionality to create a parametric galaxy's SED, derive the spectra from the SPS grid and then make images using the Synthesizer Imaging submodule.\n",
    "\n",
    "## The setup"
   ]
  },
  {
   "cell_type": "code",
   "execution_count": 1,
   "id": "69b83031",
   "metadata": {
    "execution": {
     "iopub.execute_input": "2024-02-06T16:41:16.132666Z",
     "iopub.status.busy": "2024-02-06T16:41:16.132265Z",
     "iopub.status.idle": "2024-02-06T16:41:17.997991Z",
     "shell.execute_reply": "2024-02-06T16:41:17.997341Z"
    }
   },
   "outputs": [],
   "source": [
    "import os\n",
    "import time\n",
    "import numpy as np\n",
    "import matplotlib as mpl\n",
    "import matplotlib.colors as cm\n",
    "import matplotlib.pyplot as plt\n",
    "import matplotlib.gridspec as gridspec\n",
    "from unyt import yr, Myr, kpc, mas, nJy, degree\n",
    "from astropy.cosmology import Planck18 as cosmo\n",
    "\n",
    "from synthesizer.filters import UVJ\n",
    "from synthesizer.parametric.galaxy import Galaxy\n",
    "from synthesizer.parametric import SFH, ZDist, Stars\n",
    "from synthesizer.parametric.morphology import Sersic2D\n",
    "from synthesizer.grid import Grid\n",
    "from synthesizer.imaging.images import ParametricImage\n",
    "\n",
    "\n",
    "plt.rcParams[\"font.family\"] = \"DeJavu Serif\"\n",
    "plt.rcParams[\"font.serif\"] = [\"Times New Roman\"]\n",
    "\n",
    "# Set the seed\n",
    "np.random.seed(42)"
   ]
  },
  {
   "cell_type": "markdown",
   "id": "32b603d7",
   "metadata": {},
   "source": [
    "The first port of call is initilaising the SPS grid. Here we use a simple test grid with limited properties."
   ]
  },
  {
   "cell_type": "code",
   "execution_count": 2,
   "id": "515efc2b",
   "metadata": {
    "execution": {
     "iopub.execute_input": "2024-02-06T16:41:18.001162Z",
     "iopub.status.busy": "2024-02-06T16:41:18.000686Z",
     "iopub.status.idle": "2024-02-06T16:41:18.284305Z",
     "shell.execute_reply": "2024-02-06T16:41:18.283648Z"
    }
   },
   "outputs": [],
   "source": [
    "# Define the grid\n",
    "grid_name = \"test_grid\"\n",
    "grid_dir = \"../../../tests/test_grid/\"\n",
    "grid = Grid(grid_name, grid_dir=grid_dir, new_lam=np.logspace(2, 5, 600))"
   ]
  },
  {
   "cell_type": "markdown",
   "id": "37085558",
   "metadata": {},
   "source": [
    "And we are going to need a set of filters in which to make an image. Here we will use the UVJ function to automatically define a set of UVJ top-hat filters."
   ]
  },
  {
   "cell_type": "code",
   "execution_count": 3,
   "id": "2d959518",
   "metadata": {
    "execution": {
     "iopub.execute_input": "2024-02-06T16:41:18.287336Z",
     "iopub.status.busy": "2024-02-06T16:41:18.287085Z",
     "iopub.status.idle": "2024-02-06T16:41:18.294324Z",
     "shell.execute_reply": "2024-02-06T16:41:18.293834Z"
    }
   },
   "outputs": [],
   "source": [
    "# Get a UVJ filter set\n",
    "filters = UVJ(new_lam=grid.lam)"
   ]
  },
  {
   "cell_type": "markdown",
   "id": "2d2dd349",
   "metadata": {},
   "source": [
    "## Creating the fake galaxy\n",
    "\n",
    "Now we have intialised the grid we can define the SFZH properties and generate the parametric `Stars` object. First we need to define the SFH and metallicity distribution. There are a number of ways to do this, but for this example we'll use the `SFH` and `ZDist` classes to define a funtional form for each."
   ]
  },
  {
   "cell_type": "code",
   "execution_count": 4,
   "id": "675f579c",
   "metadata": {
    "execution": {
     "iopub.execute_input": "2024-02-06T16:41:18.296915Z",
     "iopub.status.busy": "2024-02-06T16:41:18.296547Z",
     "iopub.status.idle": "2024-02-06T16:41:18.299830Z",
     "shell.execute_reply": "2024-02-06T16:41:18.299246Z"
    }
   },
   "outputs": [],
   "source": [
    "# Define the SFH and metallicity distribution\n",
    "metal_dist = ZDist.DeltaConstant(metallicity=0.01)\n",
    "sfh_p = {\"duration\": 100 * Myr}\n",
    "sfh = SFH.Constant(duration=100 * Myr)"
   ]
  },
  {
   "cell_type": "markdown",
   "id": "63c51016",
   "metadata": {},
   "source": [
    "Next, we need to define the morphology of the stellar distribution for our galaxy. Here we will use a Sersic profile which is defined by the effective radius (`r_eff_kpc` if the image will be in physical cartesian units or `r_eff_mas` if the image will be in angular coordinates)<a name=\"cite_ref-1\"></a>[<sup>[1]</sup>](#cite_note-1), the Sersic index (`n`), the ellipticity (`ellip`) and the rotation angle (`theta`). Both the effective radius and rotation angle must be defined with _unyt_ units.\n",
    "\n",
    "<a name=\"cite_note-1\"></a>1. [^](#cite_ref-1) The morphology class can convert between cartesian and angular coordinates if a cosmology object and redshift of the galaxy is provided."
   ]
  },
  {
   "cell_type": "code",
   "execution_count": 5,
   "id": "eb170592",
   "metadata": {
    "execution": {
     "iopub.execute_input": "2024-02-06T16:41:18.302413Z",
     "iopub.status.busy": "2024-02-06T16:41:18.302044Z",
     "iopub.status.idle": "2024-02-06T16:41:18.306858Z",
     "shell.execute_reply": "2024-02-06T16:41:18.306215Z"
    }
   },
   "outputs": [
    {
     "name": "stdout",
     "output_type": "stream",
     "text": [
      "Morphology computed, took: 0.0009198188781738281\n"
     ]
    }
   ],
   "source": [
    "morph_start = time.time()\n",
    "\n",
    "# Define the morphology using a simple effective radius and slope\n",
    "morph = Sersic2D(\n",
    "    r_eff=2.5 * kpc, sersic_index=1.0, ellipticity=0.4, theta=1 * degree\n",
    ")\n",
    "\n",
    "print(\"Morphology computed, took:\", time.time() - morph_start)"
   ]
  },
  {
   "cell_type": "markdown",
   "id": "ccbe8400",
   "metadata": {},
   "source": [
    "Finally, we can pass the SFH and metallicity distribution functions and morphology model to the `Stars` object and get our stellar component."
   ]
  },
  {
   "cell_type": "code",
   "execution_count": 6,
   "id": "ee796a15",
   "metadata": {
    "execution": {
     "iopub.execute_input": "2024-02-06T16:41:18.309384Z",
     "iopub.status.busy": "2024-02-06T16:41:18.308994Z",
     "iopub.status.idle": "2024-02-06T16:41:18.322438Z",
     "shell.execute_reply": "2024-02-06T16:41:18.321901Z"
    }
   },
   "outputs": [
    {
     "name": "stdout",
     "output_type": "stream",
     "text": [
      "----------\n",
      "SUMMARY OF BINNED SFZH\n",
      "median age: 50.12 Myr\n",
      "mean age: 50.01 Myr\n",
      "mean metallicity: 0.0100\n",
      "----------\n",
      "\n"
     ]
    }
   ],
   "source": [
    "stars = Stars(\n",
    "    grid.log10age,\n",
    "    grid.metallicity,\n",
    "    sf_hist=sfh,\n",
    "    metal_dist=metal_dist,\n",
    "    morphology=morph,\n",
    "    initial_mass=10**9,\n",
    ")\n",
    "print(stars)"
   ]
  },
  {
   "cell_type": "markdown",
   "id": "f2ba3aa8",
   "metadata": {},
   "source": [
    "With the stellar component defined we can easily intialise the parametric galaxy."
   ]
  },
  {
   "cell_type": "code",
   "execution_count": 7,
   "id": "e1f854c4",
   "metadata": {
    "execution": {
     "iopub.execute_input": "2024-02-06T16:41:18.325030Z",
     "iopub.status.busy": "2024-02-06T16:41:18.324670Z",
     "iopub.status.idle": "2024-02-06T16:41:18.328675Z",
     "shell.execute_reply": "2024-02-06T16:41:18.328052Z"
    }
   },
   "outputs": [
    {
     "name": "stdout",
     "output_type": "stream",
     "text": [
      "Galaxy created, took: 6.103515625e-05\n",
      "-------------------------------------------------------------------------------\n",
      "                            SUMMARY OF PARAMETRIC GALAXY                           \n",
      "                           ⠀⠀⠀⠀⠀⠀⠀⠀⠀⠀⢀⣀⣀⡀⠒⠒⠦⣄⡀⠀⠀⠀⠀⠀⠀⠀                          \n",
      "                           ⠀⠀⠀⠀⠀⢀⣤⣶⡾⠿⠿⠿⠿⣿⣿⣶⣦⣄⠙⠷⣤⡀⠀⠀⠀⠀                          \n",
      "                           ⠀⠀⠀⣠⡾⠛⠉⠀⠀⠀⠀⠀⠀⠀⠈⠙⠻⣿⣷⣄⠘⢿⡄⠀⠀⠀                          \n",
      "                           ⠀⢀⡾⠋⠀⠀⠀⠀⠀⠀⠀⠀⠐⠂⠠⢄⡀⠈⢿⣿⣧⠈⢿⡄⠀⠀                          \n",
      "                           ⢀⠏⠀⠀⠀⢀⠄⣀⣴⣾⠿⠛⠛⠛⠷⣦⡙⢦⠀⢻⣿⡆⠘⡇⠀⠀                          \n",
      "                           ⠀⠀⠀+-+-+-+-+-+-+-+-+-+-+-+⡇⠀⠀                           \n",
      "                           ⠀⠀⠀|S|Y|N|T|H|E|S|I|Z|E|R|⠃⠀⠀                           \n",
      "                           ⠀⠀⢰+-+-+-+-+-+-+-+-+-+-+-+⠀⠀⠀                           \n",
      "                           ⠀⠀⢸⡇⠸⣿⣷⠀⢳⡈⢿⣦⣀⣀⣀⣠⣴⣾⠟⠁⠀⠀⠀⠀⢀⡎                          \n",
      "                           ⠀⠀⠘⣷⠀⢻⣿⣧⠀⠙⠢⠌⢉⣛⠛⠋⠉⠀⠀⠀⠀⠀⠀⣠⠎⠀                          \n",
      "                           ⠀⠀⠀⠹⣧⡀⠻⣿⣷⣄⡀⠀⠀⠀⠀⠀⠀⠀⠀⠀⢀⣠⡾⠃⠀⠀                          \n",
      "                           ⠀⠀⠀⠀⠈⠻⣤⡈⠻⢿⣿⣷⣦⣤⣤⣤⣤⣤⣴⡾⠛⠉⠀⠀⠀⠀                          \n",
      "                           ⠀⠀⠀⠀⠀⠀⠈⠙⠶⢤⣈⣉⠛⠛⠛⠛⠋⠉⠀⠀⠀⠀⠀⠀⠀⠀                          \n",
      "                           ⠀⠀⠀⠀⠀⠀⠀⠀⠀⠀⠀⠀⠉⠉⠉⠁⠀⠀⠀⠀⠀⠀⠀⠀⠀⠀                          \n",
      "                                                                               \n",
      "\n",
      "<class 'synthesizer.parametric.galaxy.Galaxy'>\n",
      "log10(stellar mass formed/Msol):             9.0\n",
      "available SEDs: \n",
      "    Stellar:  []\n",
      "    Black Holes:  []\n",
      "    Combined: []\n",
      "available lines: []\n",
      "available images: []\n",
      "-------------------------------------------------------------------------------\n",
      "\n"
     ]
    }
   ],
   "source": [
    "galaxy_start = time.time()\n",
    "\n",
    "# Initialise a parametric Galaxy\n",
    "galaxy = Galaxy(stars)\n",
    "\n",
    "print(\"Galaxy created, took:\", time.time() - galaxy_start)\n",
    "\n",
    "print(galaxy)"
   ]
  },
  {
   "cell_type": "markdown",
   "id": "695afe1f",
   "metadata": {},
   "source": [
    "And with that galaxy created we can compute the spectra using one of the `galaxy.stars.get_spectra_*` helper methods. Here we compute an integrated intrinsic spectra."
   ]
  },
  {
   "cell_type": "code",
   "execution_count": 8,
   "id": "65c86f5c",
   "metadata": {
    "execution": {
     "iopub.execute_input": "2024-02-06T16:41:18.331289Z",
     "iopub.status.busy": "2024-02-06T16:41:18.330825Z",
     "iopub.status.idle": "2024-02-06T16:41:18.335755Z",
     "shell.execute_reply": "2024-02-06T16:41:18.335209Z"
    }
   },
   "outputs": [
    {
     "name": "stdout",
     "output_type": "stream",
     "text": [
      "Spectra created, took: 0.0016896724700927734\n"
     ]
    }
   ],
   "source": [
    "spectra_start = time.time()\n",
    "\n",
    "# Generate stellar spectra\n",
    "sed = galaxy.stars.get_spectra_reprocessed(grid)\n",
    "\n",
    "print(\"Spectra created, took:\", time.time() - spectra_start)"
   ]
  },
  {
   "cell_type": "markdown",
   "id": "68767eb6",
   "metadata": {},
   "source": [
    "## Creating the image\n",
    "\n",
    "To make an image we first need to define the properties of that image including the resolution and FOV. Note that we could also define the number of pixels instead of one of these, any 2 of `resolution`, `fov`, or `npix` can be defined but the former 2 must come with associated units."
   ]
  },
  {
   "cell_type": "code",
   "execution_count": 9,
   "id": "b292bcda",
   "metadata": {
    "execution": {
     "iopub.execute_input": "2024-02-06T16:41:18.338382Z",
     "iopub.status.busy": "2024-02-06T16:41:18.338010Z",
     "iopub.status.idle": "2024-02-06T16:41:18.341631Z",
     "shell.execute_reply": "2024-02-06T16:41:18.340987Z"
    }
   },
   "outputs": [
    {
     "name": "stdout",
     "output_type": "stream",
     "text": [
      "Image width is 30.00 kpc with 0.12 kpc resolution\n"
     ]
    }
   ],
   "source": [
    "# Define geometry of the images\n",
    "fov = 30 * kpc\n",
    "resolution = fov / 250\n",
    "\n",
    "print(\n",
    "    \"Image width is %.2f kpc with %.2f kpc resolution\"\n",
    "    % (fov.value, resolution.value)\n",
    ")"
   ]
  },
  {
   "cell_type": "markdown",
   "id": "b454af4f",
   "metadata": {},
   "source": [
    "Now we have all we need to make an image in each filter. To do so we can utilise the `Galaxy.make_image` helper function where we simply pass in the filters and image properties defined above."
   ]
  },
  {
   "cell_type": "code",
   "execution_count": 10,
   "id": "8f334aa5",
   "metadata": {
    "execution": {
     "iopub.execute_input": "2024-02-06T16:41:18.344220Z",
     "iopub.status.busy": "2024-02-06T16:41:18.343859Z",
     "iopub.status.idle": "2024-02-06T16:41:18.352542Z",
     "shell.execute_reply": "2024-02-06T16:41:18.351908Z"
    }
   },
   "outputs": [
    {
     "name": "stdout",
     "output_type": "stream",
     "text": [
      "Images took: 0.0051801204681396484\n"
     ]
    }
   ],
   "source": [
    "img_start = time.time()\n",
    "\n",
    "img = galaxy.make_images(\n",
    "    resolution=resolution,\n",
    "    filters=filters,\n",
    "    stellar_spectra_type=\"incident\",\n",
    "    fov=fov,\n",
    ")\n",
    "\n",
    "print(\"Images took:\", time.time() - img_start)"
   ]
  },
  {
   "cell_type": "markdown",
   "id": "bca9c217",
   "metadata": {},
   "source": [
    "Lets make an RGB image and look at the galaxy we have made."
   ]
  },
  {
   "cell_type": "code",
   "execution_count": 11,
   "id": "ac15d07c",
   "metadata": {
    "execution": {
     "iopub.execute_input": "2024-02-06T16:41:18.354939Z",
     "iopub.status.busy": "2024-02-06T16:41:18.354703Z",
     "iopub.status.idle": "2024-02-06T16:41:18.411394Z",
     "shell.execute_reply": "2024-02-06T16:41:18.410591Z"
    }
   },
   "outputs": [
    {
     "data": {
      "image/png": "[encoded data removed]",
      "text/plain": [
       "<Figure size 640x480 with 1 Axes>"
      ]
     },
     "metadata": {},
     "output_type": "display_data"
    }
   ],
   "source": [
    "# Make and plot an rgb image\n",
    "img.make_rgb_image(\n",
    "    rgb_filters={\"R\": \"J\", \"G\": \"V\", \"B\": \"U\"},\n",
    ")\n",
    "fig, ax, _ = img.plot_rgb_image(show=True)"
   ]
  },
  {
   "cell_type": "markdown",
   "id": "ae0caa3f",
   "metadata": {},
   "source": [
    "Similarly to the particle images, you can apply PSFs and noise to Parametric images. The process is identical that the method used for particle imaging. For details see the [particle imaging documentation](particle_imaging.ipynb).\n",
    "\n",
    "## Adding different morphologies together\n",
    "\n",
    "The galaxy image we created above is very simple, too simple in fact. Real galaxies have different distinct components. To account for this with a parametric galaxy we can create a second galaxy to describe the bulge, since we made a very disky system above. To do so we need to create another fake galaxies with a modified SFZH and morphology, and calculate its spectra."
   ]
  },
  {
   "cell_type": "code",
   "execution_count": 12,
   "id": "be8f6445",
   "metadata": {
    "execution": {
     "iopub.execute_input": "2024-02-06T16:41:18.416063Z",
     "iopub.status.busy": "2024-02-06T16:41:18.414868Z",
     "iopub.status.idle": "2024-02-06T16:41:18.436750Z",
     "shell.execute_reply": "2024-02-06T16:41:18.436110Z"
    }
   },
   "outputs": [
    {
     "name": "stdout",
     "output_type": "stream",
     "text": [
      "Morphology computed, took: 0.0006890296936035156\n",
      "----------\n",
      "SUMMARY OF BINNED SFZH\n",
      "median age: 199.53 Myr\n",
      "mean age: 181.62 Myr\n",
      "mean metallicity: 0.0200\n",
      "----------\n",
      "\n",
      "Bulge created, took: 7.843971252441406e-05\n",
      "-------------------------------------------------------------------------------\n",
      "                            SUMMARY OF PARAMETRIC GALAXY                           \n",
      "                           ⠀⠀⠀⠀⠀⠀⠀⠀⠀⠀⢀⣀⣀⡀⠒⠒⠦⣄⡀⠀⠀⠀⠀⠀⠀⠀                          \n",
      "                           ⠀⠀⠀⠀⠀⢀⣤⣶⡾⠿⠿⠿⠿⣿⣿⣶⣦⣄⠙⠷⣤⡀⠀⠀⠀⠀                          \n",
      "                           ⠀⠀⠀⣠⡾⠛⠉⠀⠀⠀⠀⠀⠀⠀⠈⠙⠻⣿⣷⣄⠘⢿⡄⠀⠀⠀                          \n",
      "                           ⠀⢀⡾⠋⠀⠀⠀⠀⠀⠀⠀⠀⠐⠂⠠⢄⡀⠈⢿⣿⣧⠈⢿⡄⠀⠀                          \n",
      "                           ⢀⠏⠀⠀⠀⢀⠄⣀⣴⣾⠿⠛⠛⠛⠷⣦⡙⢦⠀⢻⣿⡆⠘⡇⠀⠀                          \n",
      "                           ⠀⠀⠀+-+-+-+-+-+-+-+-+-+-+-+⡇⠀⠀                           \n",
      "                           ⠀⠀⠀|S|Y|N|T|H|E|S|I|Z|E|R|⠃⠀⠀                           \n",
      "                           ⠀⠀⢰+-+-+-+-+-+-+-+-+-+-+-+⠀⠀⠀                           \n",
      "                           ⠀⠀⢸⡇⠸⣿⣷⠀⢳⡈⢿⣦⣀⣀⣀⣠⣴⣾⠟⠁⠀⠀⠀⠀⢀⡎                          \n",
      "                           ⠀⠀⠘⣷⠀⢻⣿⣧⠀⠙⠢⠌⢉⣛⠛⠋⠉⠀⠀⠀⠀⠀⠀⣠⠎⠀                          \n",
      "                           ⠀⠀⠀⠹⣧⡀⠻⣿⣷⣄⡀⠀⠀⠀⠀⠀⠀⠀⠀⠀⢀⣠⡾⠃⠀⠀                          \n",
      "                           ⠀⠀⠀⠀⠈⠻⣤⡈⠻⢿⣿⣷⣦⣤⣤⣤⣤⣤⣴⡾⠛⠉⠀⠀⠀⠀                          \n",
      "                           ⠀⠀⠀⠀⠀⠀⠈⠙⠶⢤⣈⣉⠛⠛⠛⠛⠋⠉⠀⠀⠀⠀⠀⠀⠀⠀                          \n",
      "                           ⠀⠀⠀⠀⠀⠀⠀⠀⠀⠀⠀⠀⠉⠉⠉⠁⠀⠀⠀⠀⠀⠀⠀⠀⠀⠀                          \n",
      "                                                                               \n",
      "\n",
      "<class 'synthesizer.parametric.galaxy.Galaxy'>\n",
      "log10(stellar mass formed/Msol):             9.5\n",
      "available SEDs: \n",
      "    Stellar:  []\n",
      "    Black Holes:  []\n",
      "    Combined: []\n",
      "available lines: []\n",
      "available images: []\n",
      "-------------------------------------------------------------------------------\n",
      "\n",
      "Spectra created, took: 0.001043558120727539\n"
     ]
    }
   ],
   "source": [
    "# Rename the image\n",
    "disk_img = img\n",
    "\n",
    "# Define the SFH and metallicity distribution\n",
    "metal_dist = ZDist.DeltaConstant(metallicity=0.02)\n",
    "sfh_p = {\"peak_age\": 200 * Myr, \"max_age\": 500 * Myr, \"tau\": 0.5}\n",
    "sfh = SFH.LogNormal(**sfh_p)  # constant star formation\n",
    "\n",
    "morph_start = time.time()\n",
    "\n",
    "# Define the morphology using a simple effective radius and slope\n",
    "morph = Sersic2D(r_eff=2.5 * kpc, sersic_index=4.0, ellipticity=0, theta=0)\n",
    "\n",
    "print(\"Morphology computed, took:\", time.time() - morph_start)\n",
    "\n",
    "# Create the Stars object\n",
    "stars = Stars(\n",
    "    grid.log10age,\n",
    "    grid.metallicity,\n",
    "    sf_hist=sfh,\n",
    "    metal_dist=metal_dist,\n",
    "    morphology=morph,\n",
    "    initial_mass=10**9.5,\n",
    ")\n",
    "print(stars)\n",
    "\n",
    "galaxy_start = time.time()\n",
    "\n",
    "# Initialise a parametric Galaxy\n",
    "bulge = Galaxy(stars)\n",
    "\n",
    "print(\"Bulge created, took:\", time.time() - galaxy_start)\n",
    "\n",
    "print(bulge)\n",
    "\n",
    "spectra_start = time.time()\n",
    "\n",
    "# Generate stellar spectra\n",
    "bulge_sed = bulge.stars.get_spectra_reprocessed(grid)\n",
    "\n",
    "print(\"Spectra created, took:\", time.time() - spectra_start)"
   ]
  },
  {
   "cell_type": "markdown",
   "id": "e7616cdb",
   "metadata": {},
   "source": [
    "With the bulge created we can make an image of it in isolation, but this time we will use the lower level imaging methods to demonstrate their usage. We can then plot them using the helper method for individual filter images, for more details on this method see the [particle imaging documentation](particle_imaging.ipynb)."
   ]
  },
  {
   "cell_type": "code",
   "execution_count": 13,
   "id": "096ec3a9",
   "metadata": {
    "execution": {
     "iopub.execute_input": "2024-02-06T16:41:18.442514Z",
     "iopub.status.busy": "2024-02-06T16:41:18.441368Z",
     "iopub.status.idle": "2024-02-06T16:41:18.491042Z",
     "shell.execute_reply": "2024-02-06T16:41:18.490394Z"
    }
   },
   "outputs": [
    {
     "data": {
      "image/png": "[encoded data removed]",
      "text/plain": [
       "<Figure size 350x350 with 1 Axes>"
      ]
     },
     "metadata": {},
     "output_type": "display_data"
    },
    {
     "name": "stdout",
     "output_type": "stream",
     "text": [
      "Images took: 0.04121065139770508\n"
     ]
    }
   ],
   "source": [
    "img_start = time.time()\n",
    "\n",
    "# Intialise the Parametric image object\n",
    "bulge_img = ParametricImage(\n",
    "    morphology=bulge.stars.morphology,\n",
    "    resolution=resolution,\n",
    "    filters=filters,\n",
    "    sed=galaxy.stars.spectra[\"intrinsic\"],\n",
    "    fov=fov,\n",
    ")\n",
    "\n",
    "# Compute the photometric images\n",
    "bulge_imgs = bulge_img.get_imgs()\n",
    "\n",
    "# Lets set up a simple normalisation across all images\n",
    "vmax = 0\n",
    "for bimg in bulge_imgs.values():\n",
    "    up = np.percentile(bimg, 99.9)\n",
    "    if up > vmax:\n",
    "        vmax = up\n",
    "\n",
    "# Get the plot\n",
    "fig, ax = bulge_img.plot_image(\n",
    "    img_type=\"standard\", show=True, vmin=0, vmax=vmax, scaling_func=np.arcsinh\n",
    ")\n",
    "plt.close(fig)\n",
    "\n",
    "print(\"Images took:\", time.time() - img_start)"
   ]
  },
  {
   "cell_type": "markdown",
   "id": "d3895494",
   "metadata": {},
   "source": [
    "Now we need to combine the disk and bulge together into a single image. To do this we simply add together the two image objects. \n",
    "\n",
    "Note that the resulting image object only retains the attributes of the left hand image in the addition, some cannot differ between the two (`resolution`, `fov`, `npix`, etc.) but others may and some are certain to. Where they are guaranteed to differ they are replaced by `None`. This means the resulting image from the addition can be plotted, PSFs and noise added, be used for analysis, or added to other images but information is lost in this process. However, the original image objects are stored in a dictionary called `combined_imgs` so they can be accessed from the new image."
   ]
  },
  {
   "cell_type": "code",
   "execution_count": 14,
   "id": "9ede39d9",
   "metadata": {
    "execution": {
     "iopub.execute_input": "2024-02-06T16:41:18.495578Z",
     "iopub.status.busy": "2024-02-06T16:41:18.494404Z",
     "iopub.status.idle": "2024-02-06T16:41:18.568678Z",
     "shell.execute_reply": "2024-02-06T16:41:18.568020Z"
    }
   },
   "outputs": [
    {
     "data": {
      "image/png": "[encoded data removed]",
      "text/plain": [
       "<Figure size 640x480 with 1 Axes>"
      ]
     },
     "metadata": {},
     "output_type": "display_data"
    }
   ],
   "source": [
    "# Combine the images\n",
    "new_img = disk_img + bulge_img\n",
    "\n",
    "# And make a plot\n",
    "new_img.make_rgb_image(\n",
    "    rgb_filters={\"R\": \"J\", \"G\": \"V\", \"B\": \"U\"}, scaling_func=np.arcsinh\n",
    ")\n",
    "fig, ax, _ = new_img.plot_rgb_image(show=True)"
   ]
  }
 ],
 "metadata": {
  "kernelspec": {
   "display_name": "venv",
   "language": "python",
   "name": "python3"
  },
  "language_info": {
   "codemirror_mode": {
    "name": "ipython",
    "version": 3
   },
   "file_extension": ".py",
   "mimetype": "text/x-python",
   "name": "python",
   "nbconvert_exporter": "python",
   "pygments_lexer": "ipython3",
   "version": "3.10.13"
  },
  "vscode": {
   "interpreter": {
    "hash": "3fbdfee1eda89f517d14c65aaeb395605ea48cc827c54c8ae1828e532ec42817"
   }
  }
 },
 "nbformat": 4,
 "nbformat_minor": 5
}
