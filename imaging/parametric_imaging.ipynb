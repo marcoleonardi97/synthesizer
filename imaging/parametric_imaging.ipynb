{
 "cells": [
  {
   "cell_type": "markdown",
   "id": "6614bc4e",
   "metadata": {},
   "source": [
    "# Creating Images From Parametric Galaxies\n",
    "\n",
    "In this example we show how to create images of parametric galaxies. To make images, we first need to get photometry from an `Sed` on a galaxy. For further details on an `Sed` see the [`Sed` docs](../sed.ipynb) and for galaxies see the [galaxy docs](../galaxies/galaxies.rst).\n",
    "\n",
    "## The setup"
   ]
  },
  {
   "cell_type": "code",
   "execution_count": 1,
   "id": "69b83031",
   "metadata": {
    "execution": {
     "iopub.execute_input": "2024-05-13T12:04:49.450695Z",
     "iopub.status.busy": "2024-05-13T12:04:49.450494Z",
     "iopub.status.idle": "2024-05-13T12:04:51.301371Z",
     "shell.execute_reply": "2024-05-13T12:04:51.300607Z"
    }
   },
   "outputs": [],
   "source": [
    "import time\n",
    "\n",
    "import matplotlib.pyplot as plt\n",
    "import numpy as np\n",
    "from astropy.cosmology import Planck18 as cosmo\n",
    "from synthesizer.filters import UVJ\n",
    "from synthesizer.grid import Grid\n",
    "from synthesizer.imaging import ImageCollection\n",
    "from synthesizer.parametric import SFH, Stars, ZDist\n",
    "from synthesizer.parametric.galaxy import Galaxy\n",
    "from synthesizer.parametric.morphology import Sersic2D\n",
    "from unyt import Myr, degree, kpc\n",
    "\n",
    "plt.rcParams[\"font.family\"] = \"DeJavu Serif\"\n",
    "plt.rcParams[\"font.serif\"] = [\"Times New Roman\"]\n",
    "\n",
    "# Set the seed\n",
    "np.random.seed(42)"
   ]
  },
  {
   "cell_type": "markdown",
   "id": "32b603d7",
   "metadata": {},
   "source": [
    "The first port of call is initilaising the SPS grid. Here we use a simple test grid with limited properties."
   ]
  },
  {
   "cell_type": "code",
   "execution_count": 2,
   "id": "515efc2b",
   "metadata": {
    "execution": {
     "iopub.execute_input": "2024-05-13T12:04:51.304748Z",
     "iopub.status.busy": "2024-05-13T12:04:51.304397Z",
     "iopub.status.idle": "2024-05-13T12:04:51.691642Z",
     "shell.execute_reply": "2024-05-13T12:04:51.690990Z"
    }
   },
   "outputs": [],
   "source": [
    "# Define the grid\n",
    "grid_name = \"test_grid\"\n",
    "grid_dir = \"../../../tests/test_grid/\"\n",
    "grid = Grid(grid_name, grid_dir=grid_dir, new_lam=np.logspace(2, 5, 600))"
   ]
  },
  {
   "cell_type": "markdown",
   "id": "37085558",
   "metadata": {},
   "source": [
    "And we are going to need a set of filters in which to make an image. Here we will use the UVJ function to automatically define a set of UVJ top-hat filters."
   ]
  },
  {
   "cell_type": "code",
   "execution_count": 3,
   "id": "2d959518",
   "metadata": {
    "execution": {
     "iopub.execute_input": "2024-05-13T12:04:51.694876Z",
     "iopub.status.busy": "2024-05-13T12:04:51.694440Z",
     "iopub.status.idle": "2024-05-13T12:04:51.703115Z",
     "shell.execute_reply": "2024-05-13T12:04:51.702548Z"
    }
   },
   "outputs": [],
   "source": [
    "# Get a UVJ filter set\n",
    "filters = UVJ(new_lam=grid.lam)"
   ]
  },
  {
   "cell_type": "markdown",
   "id": "2d2dd349",
   "metadata": {},
   "source": [
    "## Creating the fake galaxy\n",
    "\n",
    "Now we have intialised the grid we can define the SFZH properties and generate the parametric `Stars` object. First we need to define the SFH and metallicity distribution. There are a number of ways to do this, but for this example we'll use the `SFH` and `ZDist` classes to define a funtional form for each."
   ]
  },
  {
   "cell_type": "code",
   "execution_count": 4,
   "id": "675f579c",
   "metadata": {
    "execution": {
     "iopub.execute_input": "2024-05-13T12:04:51.705830Z",
     "iopub.status.busy": "2024-05-13T12:04:51.705453Z",
     "iopub.status.idle": "2024-05-13T12:04:51.708911Z",
     "shell.execute_reply": "2024-05-13T12:04:51.708283Z"
    }
   },
   "outputs": [],
   "source": [
    "# Define the SFH and metallicity distribution\n",
    "metal_dist = ZDist.DeltaConstant(metallicity=0.01)\n",
    "sfh_p = {\"duration\": 100 * Myr}\n",
    "sfh = SFH.Constant(duration=100 * Myr)"
   ]
  },
  {
   "cell_type": "markdown",
   "id": "63c51016",
   "metadata": {},
   "source": [
    "Next, we need to define the morphology of the stellar distribution for our galaxy. Here we will use a Sersic profile which is defined by the effective radius (`r_eff_kpc` if the image will be in physical cartesian units or `r_eff_mas` if the image will be in angular coordinates), the Sersic index (`n`), the ellipticity (`ellip`) and the rotation angle (`theta`). Both the effective radius and rotation angle must be defined with _unyt_ units. The morphology class can convert between cartesian and angular coordinates but only if a cosmology object and redshift of the galaxy is provided."
   ]
  },
  {
   "cell_type": "code",
   "execution_count": 5,
   "id": "eb170592",
   "metadata": {
    "execution": {
     "iopub.execute_input": "2024-05-13T12:04:51.711722Z",
     "iopub.status.busy": "2024-05-13T12:04:51.711347Z",
     "iopub.status.idle": "2024-05-13T12:04:51.716392Z",
     "shell.execute_reply": "2024-05-13T12:04:51.715718Z"
    }
   },
   "outputs": [
    {
     "name": "stdout",
     "output_type": "stream",
     "text": [
      "Morphology computed, took: 0.000993490219116211\n"
     ]
    }
   ],
   "source": [
    "morph_start = time.time()\n",
    "\n",
    "# Define the morphology using a simple effective radius and slope\n",
    "morph = Sersic2D(\n",
    "    r_eff=5 * kpc, sersic_index=1.0, ellipticity=0.4, theta=1 * degree\n",
    ")\n",
    "\n",
    "print(\"Morphology computed, took:\", time.time() - morph_start)"
   ]
  },
  {
   "cell_type": "markdown",
   "id": "7019019e",
   "metadata": {},
   "source": [
    "Finally, we can pass the SFH and metallicity distribution functions and morphology model to the `Stars` object and get our stellar component."
   ]
  },
  {
   "cell_type": "code",
   "execution_count": 6,
   "id": "1452d523",
   "metadata": {
    "execution": {
     "iopub.execute_input": "2024-05-13T12:04:51.719033Z",
     "iopub.status.busy": "2024-05-13T12:04:51.718838Z",
     "iopub.status.idle": "2024-05-13T12:04:51.733372Z",
     "shell.execute_reply": "2024-05-13T12:04:51.732777Z"
    }
   },
   "outputs": [
    {
     "name": "stdout",
     "output_type": "stream",
     "text": [
      "----------\n",
      "SUMMARY OF BINNED SFZH\n",
      "median age: 50.12 Myr\n",
      "mean age: 50.01 Myr\n",
      "mean metallicity: 0.0100\n",
      "----------\n",
      "\n"
     ]
    }
   ],
   "source": [
    "stars = Stars(\n",
    "    grid.log10age,\n",
    "    grid.metallicity,\n",
    "    sf_hist=sfh,\n",
    "    metal_dist=metal_dist,\n",
    "    morphology=morph,\n",
    "    initial_mass=10**9.5,\n",
    ")\n",
    "print(stars)"
   ]
  },
  {
   "cell_type": "markdown",
   "id": "f2ba3aa8",
   "metadata": {},
   "source": [
    "With the stellar component defined we can easily intialise the parametric galaxy."
   ]
  },
  {
   "cell_type": "code",
   "execution_count": 7,
   "id": "e1f854c4",
   "metadata": {
    "execution": {
     "iopub.execute_input": "2024-05-13T12:04:51.735955Z",
     "iopub.status.busy": "2024-05-13T12:04:51.735599Z",
     "iopub.status.idle": "2024-05-13T12:04:51.739303Z",
     "shell.execute_reply": "2024-05-13T12:04:51.738652Z"
    }
   },
   "outputs": [
    {
     "name": "stdout",
     "output_type": "stream",
     "text": [
      "Galaxy created, took: 6.604194641113281e-05\n",
      "-------------------------------------------------------------------------------\n",
      "                            SUMMARY OF PARAMETRIC GALAXY                           \n",
      "                           ⠀⠀⠀⠀⠀⠀⠀⠀⠀⠀⢀⣀⣀⡀⠒⠒⠦⣄⡀⠀⠀⠀⠀⠀⠀⠀                          \n",
      "                           ⠀⠀⠀⠀⠀⢀⣤⣶⡾⠿⠿⠿⠿⣿⣿⣶⣦⣄⠙⠷⣤⡀⠀⠀⠀⠀                          \n",
      "                           ⠀⠀⠀⣠⡾⠛⠉⠀⠀⠀⠀⠀⠀⠀⠈⠙⠻⣿⣷⣄⠘⢿⡄⠀⠀⠀                          \n",
      "                           ⠀⢀⡾⠋⠀⠀⠀⠀⠀⠀⠀⠀⠐⠂⠠⢄⡀⠈⢿⣿⣧⠈⢿⡄⠀⠀                          \n",
      "                           ⢀⠏⠀⠀⠀⢀⠄⣀⣴⣾⠿⠛⠛⠛⠷⣦⡙⢦⠀⢻⣿⡆⠘⡇⠀⠀                          \n",
      "                           ⠀⠀⠀+-+-+-+-+-+-+-+-+-+-+-+⡇⠀⠀                           \n",
      "                           ⠀⠀⠀|S|Y|N|T|H|E|S|I|Z|E|R|⠃⠀⠀                           \n",
      "                           ⠀⠀⢰+-+-+-+-+-+-+-+-+-+-+-+⠀⠀⠀                           \n",
      "                           ⠀⠀⢸⡇⠸⣿⣷⠀⢳⡈⢿⣦⣀⣀⣀⣠⣴⣾⠟⠁⠀⠀⠀⠀⢀⡎                          \n",
      "                           ⠀⠀⠘⣷⠀⢻⣿⣧⠀⠙⠢⠌⢉⣛⠛⠋⠉⠀⠀⠀⠀⠀⠀⣠⠎⠀                          \n",
      "                           ⠀⠀⠀⠹⣧⡀⠻⣿⣷⣄⡀⠀⠀⠀⠀⠀⠀⠀⠀⠀⢀⣠⡾⠃⠀⠀                          \n",
      "                           ⠀⠀⠀⠀⠈⠻⣤⡈⠻⢿⣿⣷⣦⣤⣤⣤⣤⣤⣴⡾⠛⠉⠀⠀⠀⠀                          \n",
      "                           ⠀⠀⠀⠀⠀⠀⠈⠙⠶⢤⣈⣉⠛⠛⠛⠛⠋⠉⠀⠀⠀⠀⠀⠀⠀⠀                          \n",
      "                           ⠀⠀⠀⠀⠀⠀⠀⠀⠀⠀⠀⠀⠉⠉⠉⠁⠀⠀⠀⠀⠀⠀⠀⠀⠀⠀                          \n",
      "                                                                               \n",
      "\n",
      "<class 'synthesizer.parametric.galaxy.Galaxy'>\n",
      "log10(stellar mass formed/Msol):             9.5\n",
      "available SEDs: \n",
      "    Stellar:  []\n",
      "    Black Holes:  []\n",
      "    Combined: []\n",
      "available lines: []\n",
      "available images: []\n",
      "-------------------------------------------------------------------------------\n",
      "\n"
     ]
    }
   ],
   "source": [
    "galaxy_start = time.time()\n",
    "\n",
    "# Initialise a parametric Galaxy with a redshift\n",
    "galaxy = Galaxy(stars, redshift=5)\n",
    "\n",
    "print(\"Galaxy created, took:\", time.time() - galaxy_start)\n",
    "\n",
    "print(galaxy)"
   ]
  },
  {
   "cell_type": "markdown",
   "id": "695afe1f",
   "metadata": {},
   "source": [
    "And with that galaxy created we can compute the spectra using one of the `galaxy.stars.get_spectra_*` helper methods. Here we compute an integrated intrinsic spectra and then convert the spectra to fluxes."
   ]
  },
  {
   "cell_type": "code",
   "execution_count": 8,
   "id": "65c86f5c",
   "metadata": {
    "execution": {
     "iopub.execute_input": "2024-05-13T12:04:51.741886Z",
     "iopub.status.busy": "2024-05-13T12:04:51.741511Z",
     "iopub.status.idle": "2024-05-13T12:04:51.755785Z",
     "shell.execute_reply": "2024-05-13T12:04:51.755269Z"
    }
   },
   "outputs": [
    {
     "name": "stdout",
     "output_type": "stream",
     "text": [
      "Spectra created, took: 0.011025667190551758\n"
     ]
    }
   ],
   "source": [
    "spectra_start = time.time()\n",
    "\n",
    "# Generate stellar spectra\n",
    "sed = galaxy.stars.get_spectra_reprocessed(grid)\n",
    "\n",
    "# Convert to fluxes\n",
    "galaxy.get_observed_spectra(cosmo)\n",
    "\n",
    "print(\"Spectra created, took:\", time.time() - spectra_start)"
   ]
  },
  {
   "cell_type": "markdown",
   "id": "9884d4ef",
   "metadata": {},
   "source": [
    "And then we can calculate the flux in our filters we defined earlier, ready to be passed to the imaging."
   ]
  },
  {
   "cell_type": "code",
   "execution_count": 9,
   "id": "9cc8fda5",
   "metadata": {
    "execution": {
     "iopub.execute_input": "2024-05-13T12:04:51.758148Z",
     "iopub.status.busy": "2024-05-13T12:04:51.757950Z",
     "iopub.status.idle": "2024-05-13T12:04:51.764723Z",
     "shell.execute_reply": "2024-05-13T12:04:51.764084Z"
    }
   },
   "outputs": [
    {
     "name": "stdout",
     "output_type": "stream",
     "text": [
      "Photometry calculated, took: 0.0035452842712402344\n"
     ]
    }
   ],
   "source": [
    "phot_start = time.time()\n",
    "\n",
    "# Generate stellar photometry\n",
    "galaxy.stars.spectra[\"intrinsic\"].get_photo_fluxes(filters)\n",
    "\n",
    "print(\"Photometry calculated, took:\", time.time() - phot_start)"
   ]
  },
  {
   "cell_type": "markdown",
   "id": "68767eb6",
   "metadata": {},
   "source": [
    "## Creating the image\n",
    "\n",
    "To make an image we first need to define the properties of that image including the resolution and FOV. Note that we could also define the number of pixels instead of the FOV, but one of `fov`, or `npix` must be defined, and `resolution` and `fov` must always be given with units."
   ]
  },
  {
   "cell_type": "code",
   "execution_count": 10,
   "id": "b292bcda",
   "metadata": {
    "execution": {
     "iopub.execute_input": "2024-05-13T12:04:51.767073Z",
     "iopub.status.busy": "2024-05-13T12:04:51.766875Z",
     "iopub.status.idle": "2024-05-13T12:04:51.770853Z",
     "shell.execute_reply": "2024-05-13T12:04:51.770223Z"
    }
   },
   "outputs": [
    {
     "name": "stdout",
     "output_type": "stream",
     "text": [
      "Image width is 30.00 kpc with 0.12 kpc resolution\n"
     ]
    }
   ],
   "source": [
    "# Define geometry of the images\n",
    "fov = 30 * kpc\n",
    "resolution = fov / 250\n",
    "\n",
    "print(\n",
    "    \"Image width is %.2f kpc with %.2f kpc resolution\"\n",
    "    % (fov.value, resolution.value)\n",
    ")"
   ]
  },
  {
   "cell_type": "markdown",
   "id": "b454af4f",
   "metadata": {},
   "source": [
    "Now we have all we need to make an image in each filter. To do so we can utilise the `get_imgs_flux` (or `get_imgs_luminosity` for luminosity images) helper method on a `Galaxy` where we simply pass image properties defined above and the type of photometry we want to use (e.g. `\"incident\"`, `\"intrinsic\"`, or `\"attenuated\"`). \n",
    "\n",
    "Note, that photometry must have already been generated for the requested `stellar_photometry` type.\n"
   ]
  },
  {
   "cell_type": "code",
   "execution_count": 11,
   "id": "8f334aa5",
   "metadata": {
    "execution": {
     "iopub.execute_input": "2024-05-13T12:04:51.773483Z",
     "iopub.status.busy": "2024-05-13T12:04:51.773071Z",
     "iopub.status.idle": "2024-05-13T12:04:51.781048Z",
     "shell.execute_reply": "2024-05-13T12:04:51.780485Z"
    }
   },
   "outputs": [
    {
     "name": "stdout",
     "output_type": "stream",
     "text": [
      "Images took: 0.004537343978881836\n"
     ]
    }
   ],
   "source": [
    "img_start = time.time()\n",
    "\n",
    "img = galaxy.get_images_flux(\n",
    "    resolution=resolution,\n",
    "    stellar_photometry=\"intrinsic\",\n",
    "    fov=fov,\n",
    ")\n",
    "\n",
    "print(\"Images took:\", time.time() - img_start)"
   ]
  },
  {
   "cell_type": "markdown",
   "id": "bca9c217",
   "metadata": {},
   "source": [
    "Lets make an RGB image and look at the galaxy we have made."
   ]
  },
  {
   "cell_type": "code",
   "execution_count": 12,
   "id": "ac15d07c",
   "metadata": {
    "execution": {
     "iopub.execute_input": "2024-05-13T12:04:51.783723Z",
     "iopub.status.busy": "2024-05-13T12:04:51.783345Z",
     "iopub.status.idle": "2024-05-13T12:04:51.843404Z",
     "shell.execute_reply": "2024-05-13T12:04:51.842668Z"
    }
   },
   "outputs": [
    {
     "data": {
      "image/png": "[encoded data removed]",
      "text/plain": [
       "<Figure size 640x480 with 1 Axes>"
      ]
     },
     "metadata": {},
     "output_type": "display_data"
    }
   ],
   "source": [
    "# Make and plot an rgb image\n",
    "img.make_rgb_image(\n",
    "    rgb_filters={\"R\": \"J\", \"G\": \"V\", \"B\": \"U\"},\n",
    ")\n",
    "fig, ax, _ = img.plot_rgb_image(show=True)"
   ]
  },
  {
   "cell_type": "markdown",
   "id": "ae0caa3f",
   "metadata": {},
   "source": [
    "Similarly to the particle images, you can apply PSFs and noise to Parametric images. The process is identical that the method used for particle imaging. For details see the [particle imaging documentation](particle_imaging.ipynb).\n",
    "\n",
    "## Adding different morphologies together\n",
    "\n",
    "The galaxy image we created above is very simple, too simple in fact. Real galaxies have different distinct components. To account for this with a parametric galaxy we can create a second galaxy to describe the bulge, since we made a very disky system above. To do so we need to create another fake galaxies with a modified SFZH and morphology, and calculate its spectra and photometry."
   ]
  },
  {
   "cell_type": "code",
   "execution_count": 13,
   "id": "be8f6445",
   "metadata": {
    "execution": {
     "iopub.execute_input": "2024-05-13T12:04:51.846961Z",
     "iopub.status.busy": "2024-05-13T12:04:51.846713Z",
     "iopub.status.idle": "2024-05-13T12:04:51.880162Z",
     "shell.execute_reply": "2024-05-13T12:04:51.879528Z"
    }
   },
   "outputs": [
    {
     "name": "stdout",
     "output_type": "stream",
     "text": [
      "Morphology computed, took: 0.0007174015045166016\n",
      "----------\n",
      "SUMMARY OF BINNED SFZH\n",
      "median age: 199.53 Myr\n",
      "mean age: 181.62 Myr\n",
      "mean metallicity: 0.0200\n",
      "----------\n",
      "\n",
      "Bulge created, took: 8.368492126464844e-05\n",
      "Spectra created, took: 0.011916160583496094\n",
      "Photometry calculated, took: 0.001692056655883789\n"
     ]
    }
   ],
   "source": [
    "# Rename the image\n",
    "disk_imgs = img\n",
    "\n",
    "# Define the SFH and metallicity distribution\n",
    "metal_dist = ZDist.DeltaConstant(metallicity=0.02)\n",
    "sfh_p = {\"peak_age\": 200 * Myr, \"max_age\": 500 * Myr, \"tau\": 0.5}\n",
    "sfh = SFH.LogNormal(**sfh_p)  # constant star formation\n",
    "\n",
    "morph_start = time.time()\n",
    "\n",
    "# Define the morphology using a simple effective radius and slope\n",
    "morph = Sersic2D(r_eff=2.5 * kpc, sersic_index=4.0, ellipticity=0, theta=0)\n",
    "\n",
    "print(\"Morphology computed, took:\", time.time() - morph_start)\n",
    "\n",
    "# Create the Stars object\n",
    "stars = Stars(\n",
    "    grid.log10age,\n",
    "    grid.metallicity,\n",
    "    sf_hist=sfh,\n",
    "    metal_dist=metal_dist,\n",
    "    morphology=morph,\n",
    "    initial_mass=10**9,\n",
    ")\n",
    "print(stars)\n",
    "\n",
    "galaxy_start = time.time()\n",
    "\n",
    "# Initialise a parametric Galaxy\n",
    "bulge = Galaxy(stars, redshift=5)\n",
    "\n",
    "print(\"Bulge created, took:\", time.time() - galaxy_start)\n",
    "\n",
    "spectra_start = time.time()\n",
    "\n",
    "# Generate stellar spectra\n",
    "bulge_sed = bulge.stars.get_spectra_reprocessed(grid)\n",
    "\n",
    "# Convert to fluxes\n",
    "bulge.get_observed_spectra(cosmo)\n",
    "\n",
    "print(\"Spectra created, took:\", time.time() - spectra_start)\n",
    "\n",
    "phot_start = time.time()\n",
    "\n",
    "# Generate stellar photometry\n",
    "bulge.stars.spectra[\"intrinsic\"].get_photo_fluxes(filters)\n",
    "\n",
    "print(\"Photometry calculated, took:\", time.time() - phot_start)"
   ]
  },
  {
   "cell_type": "markdown",
   "id": "e7616cdb",
   "metadata": {},
   "source": [
    "With the bulge created we can make an image of it in isolation, but this time we will use the lower level imaging methods to demonstrate their usage. We can then plot them using the helper method for individual filter images, for more details on this method see the [particle imaging documentation](particle_imaging.ipynb)."
   ]
  },
  {
   "cell_type": "code",
   "execution_count": 14,
   "id": "096ec3a9",
   "metadata": {
    "execution": {
     "iopub.execute_input": "2024-05-13T12:04:51.883366Z",
     "iopub.status.busy": "2024-05-13T12:04:51.882939Z",
     "iopub.status.idle": "2024-05-13T12:04:51.984429Z",
     "shell.execute_reply": "2024-05-13T12:04:51.983775Z"
    }
   },
   "outputs": [
    {
     "data": {
      "image/png": "[encoded data removed]",
      "text/plain": [
       "<Figure size 1400x350 with 3 Axes>"
      ]
     },
     "metadata": {},
     "output_type": "display_data"
    },
    {
     "name": "stdout",
     "output_type": "stream",
     "text": [
      "Images took: 0.09514188766479492\n"
     ]
    }
   ],
   "source": [
    "img_start = time.time()\n",
    "\n",
    "# Intialise the Parametric image object\n",
    "bulge_imgs = ImageCollection(\n",
    "    resolution=resolution,\n",
    "    fov=fov,\n",
    ")\n",
    "\n",
    "# Compute the photometric images\n",
    "bulge_imgs.get_imgs_smoothed(\n",
    "    photometry=bulge.stars.spectra[\"intrinsic\"].photo_fluxes,\n",
    "    density_grid=bulge.stars.morphology.get_density_grid(\n",
    "        bulge_imgs.resolution,\n",
    "        bulge_imgs.npix,\n",
    "    ),\n",
    ")\n",
    "\n",
    "# Lets set up a simple normalisation across all images\n",
    "vmax = 0\n",
    "for bimg in bulge_imgs.imgs.values():\n",
    "    up = np.percentile(bimg.arr, 99.9)\n",
    "    if up > vmax:\n",
    "        vmax = up\n",
    "\n",
    "# Get the plot\n",
    "fig, ax = bulge_imgs.plot_images(\n",
    "    show=True, vmin=0, vmax=vmax, scaling_func=np.arcsinh\n",
    ")\n",
    "plt.close(fig)\n",
    "\n",
    "print(\"Images took:\", time.time() - img_start)"
   ]
  },
  {
   "cell_type": "markdown",
   "id": "d3895494",
   "metadata": {},
   "source": [
    "Now we need to combine the disk and bulge together into a single image. To do this we simply add together the two `ImageCollection` objects. "
   ]
  },
  {
   "cell_type": "code",
   "execution_count": 15,
   "id": "9ede39d9",
   "metadata": {
    "execution": {
     "iopub.execute_input": "2024-05-13T12:04:51.987962Z",
     "iopub.status.busy": "2024-05-13T12:04:51.987266Z",
     "iopub.status.idle": "2024-05-13T12:04:52.044579Z",
     "shell.execute_reply": "2024-05-13T12:04:52.043897Z"
    }
   },
   "outputs": [
    {
     "data": {
      "image/png": "[encoded data removed]",
      "text/plain": [
       "<Figure size 640x480 with 1 Axes>"
      ]
     },
     "metadata": {},
     "output_type": "display_data"
    }
   ],
   "source": [
    "# Combine the images\n",
    "new_img = disk_imgs + bulge_imgs\n",
    "\n",
    "# And make a plot\n",
    "new_img.make_rgb_image(\n",
    "    rgb_filters={\"R\": \"J\", \"G\": \"V\", \"B\": \"U\"},\n",
    ")\n",
    "fig, ax, _ = new_img.plot_rgb_image(show=True)"
   ]
  },
  {
   "cell_type": "code",
   "execution_count": 16,
   "id": "b8f9494e",
   "metadata": {
    "execution": {
     "iopub.execute_input": "2024-05-13T12:04:52.048096Z",
     "iopub.status.busy": "2024-05-13T12:04:52.047661Z",
     "iopub.status.idle": "2024-05-13T12:04:52.240385Z",
     "shell.execute_reply": "2024-05-13T12:04:52.239707Z"
    }
   },
   "outputs": [
    {
     "data": {
      "image/png": "[encoded data removed]",
      "text/plain": [
       "<Figure size 800x800 with 1 Axes>"
      ]
     },
     "metadata": {},
     "output_type": "display_data"
    }
   ],
   "source": [
    "fig, ax = new_img.imgs[\"U\"].plot_unknown_pleasures()\n",
    "plt.show()"
   ]
  }
 ],
 "metadata": {
  "kernelspec": {
   "display_name": "venv",
   "language": "python",
   "name": "python3"
  },
  "language_info": {
   "codemirror_mode": {
    "name": "ipython",
    "version": 3
   },
   "file_extension": ".py",
   "mimetype": "text/x-python",
   "name": "python",
   "nbconvert_exporter": "python",
   "pygments_lexer": "ipython3",
   "version": "3.10.14"
  },
  "vscode": {
   "interpreter": {
    "hash": "3fbdfee1eda89f517d14c65aaeb395605ea48cc827c54c8ae1828e532ec42817"
   }
  }
 },
 "nbformat": 4,
 "nbformat_minor": 5
}
