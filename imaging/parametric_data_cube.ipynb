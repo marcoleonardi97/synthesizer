{
 "cells": [
  {
   "cell_type": "markdown",
   "metadata": {},
   "source": [
    "# Creating Spectral Data Cubes from a Parametric Galaxy\n",
    "\n",
    "In this example we show how to create a spectral data cube from a parametric galaxy. For this we'll generate a disk and a bulge morphology and make spectral data cubes for each individual component before combining them. Feel free to skip over the setup to get to the spectral data cube synthesis as the process is well documented elsewhere (e.g. the composite galaxy [docs](../parametric/generate_composite_galaxy.ipynb)).\n",
    "\n",
    "## The setup"
   ]
  },
  {
   "cell_type": "code",
   "execution_count": 1,
   "metadata": {
    "execution": {
     "iopub.execute_input": "2024-03-26T11:21:55.046237Z",
     "iopub.status.busy": "2024-03-26T11:21:55.045666Z",
     "iopub.status.idle": "2024-03-26T11:21:56.939280Z",
     "shell.execute_reply": "2024-03-26T11:21:56.938538Z"
    }
   },
   "outputs": [],
   "source": [
    "import time\n",
    "\n",
    "import matplotlib.pyplot as plt\n",
    "import numpy as np\n",
    "from synthesizer.grid import Grid\n",
    "from synthesizer.imaging import SpectralCube\n",
    "from synthesizer.parametric import SFH, Stars, ZDist\n",
    "from synthesizer.parametric.galaxy import Galaxy\n",
    "from synthesizer.parametric.morphology import Sersic2D\n",
    "from unyt import Myr, degree, kpc\n",
    "\n",
    "plt.rcParams[\"font.family\"] = \"DeJavu Serif\"\n",
    "plt.rcParams[\"font.serif\"] = [\"Times New Roman\"]\n",
    "\n",
    "# Set the seed\n",
    "np.random.seed(42)"
   ]
  },
  {
   "cell_type": "markdown",
   "metadata": {},
   "source": [
    "As always we first need a `Grid` object from which to extract spectra."
   ]
  },
  {
   "cell_type": "code",
   "execution_count": 2,
   "metadata": {
    "execution": {
     "iopub.execute_input": "2024-03-26T11:21:56.942494Z",
     "iopub.status.busy": "2024-03-26T11:21:56.941990Z",
     "iopub.status.idle": "2024-03-26T11:21:57.231381Z",
     "shell.execute_reply": "2024-03-26T11:21:57.230717Z"
    }
   },
   "outputs": [],
   "source": [
    "# Define the grid\n",
    "grid_name = \"test_grid\"\n",
    "grid_dir = \"../../../tests/test_grid/\"\n",
    "grid = Grid(grid_name, grid_dir=grid_dir, new_lam=np.logspace(2, 5, 600))"
   ]
  },
  {
   "cell_type": "markdown",
   "metadata": {},
   "source": [
    "We now need to create our parametric model for the disk and bulge stellar distributions and create `Galaxy` objects using those models."
   ]
  },
  {
   "cell_type": "code",
   "execution_count": 3,
   "metadata": {
    "execution": {
     "iopub.execute_input": "2024-03-26T11:21:57.234813Z",
     "iopub.status.busy": "2024-03-26T11:21:57.234231Z",
     "iopub.status.idle": "2024-03-26T11:21:57.253776Z",
     "shell.execute_reply": "2024-03-26T11:21:57.253062Z"
    }
   },
   "outputs": [
    {
     "name": "stdout",
     "output_type": "stream",
     "text": [
      "Galaxies created, took: 0.013281822204589844\n"
     ]
    }
   ],
   "source": [
    "gal_start = time.time()\n",
    "\n",
    "# Define the SFH and metallicity distribution\n",
    "metal_dist = ZDist.Normal(mean=0.015, sigma=0.005)\n",
    "sfh = SFH.Constant(duration=200 * Myr)\n",
    "\n",
    "# Define the morphology using a simple effective radius and slope\n",
    "morph = Sersic2D(\n",
    "    r_eff=1 * kpc,\n",
    "    sersic_index=1.0,\n",
    "    ellipticity=0,\n",
    "    theta=0 * degree,\n",
    ")\n",
    "\n",
    "# Create the Stars object\n",
    "stars = Stars(\n",
    "    grid.log10age,\n",
    "    grid.metallicity,\n",
    "    sf_hist=sfh,\n",
    "    metal_dist=metal_dist,\n",
    "    morphology=morph,\n",
    "    initial_mass=10**9.0,\n",
    ")\n",
    "\n",
    "# Initialise a parametric Galaxy for the bulge\n",
    "bulge = Galaxy(stars, redshift=3)\n",
    "\n",
    "# Define the SFH and metallicity distribution\n",
    "metal_dist = ZDist.Normal(mean=0.01, sigma=0.005)\n",
    "sfh = SFH.Constant(duration=100 * Myr)\n",
    "\n",
    "# Define the morphology using a simple effective radius and slope\n",
    "morph = Sersic2D(\n",
    "    r_eff=5 * kpc,\n",
    "    sersic_index=1.0,\n",
    "    ellipticity=0.4,\n",
    "    theta=1 * degree,\n",
    ")\n",
    "\n",
    "# Create the Stars object\n",
    "stars = Stars(\n",
    "    grid.log10age,\n",
    "    grid.metallicity,\n",
    "    sf_hist=sfh,\n",
    "    metal_dist=metal_dist,\n",
    "    morphology=morph,\n",
    "    initial_mass=10**9.5,\n",
    ")\n",
    "\n",
    "# Initialise a parametric Galaxy for the disk\n",
    "disk = Galaxy(stars, redshift=3)\n",
    "\n",
    "print(\"Galaxies created, took:\", time.time() - gal_start)"
   ]
  },
  {
   "cell_type": "markdown",
   "metadata": {},
   "source": [
    "With our galaxy morphologies made we can get the spectra for each."
   ]
  },
  {
   "cell_type": "code",
   "execution_count": 4,
   "metadata": {
    "execution": {
     "iopub.execute_input": "2024-03-26T11:21:57.256755Z",
     "iopub.status.busy": "2024-03-26T11:21:57.256348Z",
     "iopub.status.idle": "2024-03-26T11:21:57.266076Z",
     "shell.execute_reply": "2024-03-26T11:21:57.265460Z"
    }
   },
   "outputs": [
    {
     "name": "stdout",
     "output_type": "stream",
     "text": [
      "Spectra created, took: 0.006132364273071289\n"
     ]
    }
   ],
   "source": [
    "spectra_start = time.time()\n",
    "\n",
    "# Generate stellar spectra\n",
    "bulge_sed = bulge.stars.get_spectra_reprocessed(grid)\n",
    "disk_sed = disk.stars.get_spectra_reprocessed(grid)\n",
    "\n",
    "print(\"Spectra created, took:\", time.time() - spectra_start)"
   ]
  },
  {
   "cell_type": "markdown",
   "metadata": {},
   "source": [
    "## Spectral Data Cube Creation\n",
    "\n",
    "We now have most of the ingredients we need to generate a spectral data cube from our galaxy. The missing ingredients are the wavelength array of our spectral data cube and its resolution and FOV. We'll define these below and move on to making the spectral data cube."
   ]
  },
  {
   "cell_type": "code",
   "execution_count": 5,
   "metadata": {
    "execution": {
     "iopub.execute_input": "2024-03-26T11:21:57.268936Z",
     "iopub.status.busy": "2024-03-26T11:21:57.268538Z",
     "iopub.status.idle": "2024-03-26T11:21:57.272926Z",
     "shell.execute_reply": "2024-03-26T11:21:57.272269Z"
    }
   },
   "outputs": [
    {
     "name": "stdout",
     "output_type": "stream",
     "text": [
      "Data cube spatial width is 30.00 kpc with a 0.15 kpc spaxel resolution\n"
     ]
    }
   ],
   "source": [
    "# Define the width of the image\n",
    "width = 30 * kpc\n",
    "\n",
    "# Define image resolution (here we arbitrarily set it to 100 pixels\n",
    "# along an axis)\n",
    "resolution = width / 200\n",
    "\n",
    "# Define the wavelength array\n",
    "lam = np.linspace(10**3, 10**4.5, 1000)\n",
    "\n",
    "print(\n",
    "    \"Data cube spatial width is %.2f kpc with a %.2f kpc spaxel resolution\"\n",
    "    % (width.value, resolution.value)\n",
    ")"
   ]
  },
  {
   "cell_type": "markdown",
   "metadata": {},
   "source": [
    "Finally we can create each individual spectral cube and then add them together to get the final galaxy spectral data cube. To make the spectral cubes we have to pass the `Sed` objects we made, the quantity we want to populate the spectral cube with, and the density grid defined by each morphology. The possible quantities are `\"lnu\"`, `\"luminosity\"` or `\"llam\"` for rest frame luminosities, or `\"fnu\"`, `\"flam\"` or `\"flux\"` for fluxes (the latter 3 require `get_fnu` or `get_fnu0` to have been called). We will make a cube populated with `\"flux\"`."
   ]
  },
  {
   "cell_type": "code",
   "execution_count": 6,
   "metadata": {
    "execution": {
     "iopub.execute_input": "2024-03-26T11:21:57.275747Z",
     "iopub.status.busy": "2024-03-26T11:21:57.275254Z",
     "iopub.status.idle": "2024-03-26T11:21:57.531764Z",
     "shell.execute_reply": "2024-03-26T11:21:57.531084Z"
    }
   },
   "outputs": [
    {
     "name": "stdout",
     "output_type": "stream",
     "text": [
      "Spectral data cube created, took: 0.2514314651489258\n"
     ]
    }
   ],
   "source": [
    "cube_start = time.time()\n",
    "\n",
    "# Get the data cubes\n",
    "bulge_cube = SpectralCube(resolution=resolution, lam=lam, fov=width)\n",
    "disk_cube = SpectralCube(resolution=resolution, lam=lam, fov=width)\n",
    "\n",
    "# And get the cube itself\n",
    "bulge_cube.get_data_cube_smoothed(\n",
    "    bulge_sed,\n",
    "    quantity=\"lnu\",\n",
    "    density_grid=bulge.stars.morphology.get_density_grid(\n",
    "        bulge_cube.resolution, bulge_cube.npix\n",
    "    ),\n",
    ")\n",
    "disk_cube.get_data_cube_smoothed(\n",
    "    disk_sed,\n",
    "    quantity=\"lnu\",\n",
    "    density_grid=disk.stars.morphology.get_density_grid(\n",
    "        disk_cube.resolution, disk_cube.npix\n",
    "    ),\n",
    ")\n",
    "\n",
    "# Combine each individual component\n",
    "cube = bulge_cube + disk_cube\n",
    "\n",
    "print(\"Spectral data cube created, took:\", time.time() - cube_start)"
   ]
  },
  {
   "cell_type": "markdown",
   "metadata": {},
   "source": [
    "Now we have our parametric spectral data cube. We can see what we've made by making an animation."
   ]
  },
  {
   "cell_type": "code",
   "execution_count": 7,
   "metadata": {
    "execution": {
     "iopub.execute_input": "2024-03-26T11:21:57.534492Z",
     "iopub.status.busy": "2024-03-26T11:21:57.534239Z",
     "iopub.status.idle": "2024-03-26T11:21:58.087454Z",
     "shell.execute_reply": "2024-03-26T11:21:58.086735Z"
    }
   },
   "outputs": [
    {
     "data": {
      "image/png": "[encoded data removed]",
      "text/plain": [
       "<Figure size 600x800 with 2 Axes>"
      ]
     },
     "metadata": {},
     "output_type": "display_data"
    }
   ],
   "source": [
    "# Animate the data cube\n",
    "ani = cube.animate_data_cube(fps=240, show=True)"
   ]
  },
  {
   "cell_type": "markdown",
   "metadata": {},
   "source": [
    "### Galaxy helper method\n",
    "\n",
    "If you don't want to use the low level `SpectralCube` object we also include a helper method on a galaxy."
   ]
  },
  {
   "cell_type": "code",
   "execution_count": 8,
   "metadata": {
    "execution": {
     "iopub.execute_input": "2024-03-26T11:21:58.090373Z",
     "iopub.status.busy": "2024-03-26T11:21:58.089968Z",
     "iopub.status.idle": "2024-03-26T11:21:58.347373Z",
     "shell.execute_reply": "2024-03-26T11:21:58.346655Z"
    }
   },
   "outputs": [],
   "source": [
    "bulge_cube = bulge.get_data_cube(\n",
    "    resolution, width, lam, stellar_spectra=\"intrinsic\", quantity=\"luminosity\"\n",
    ")\n",
    "disk_cube = disk.get_data_cube(\n",
    "    resolution, width, lam, stellar_spectra=\"intrinsic\", quantity=\"luminosity\"\n",
    ")\n",
    "cube = bulge_cube + disk_cube"
   ]
  }
 ],
 "metadata": {
  "kernelspec": {
   "display_name": "synthesizer-env",
   "language": "python",
   "name": "python3"
  },
  "language_info": {
   "codemirror_mode": {
    "name": "ipython",
    "version": 3
   },
   "file_extension": ".py",
   "mimetype": "text/x-python",
   "name": "python",
   "nbconvert_exporter": "python",
   "pygments_lexer": "ipython3",
   "version": "3.10.13"
  }
 },
 "nbformat": 4,
 "nbformat_minor": 2
}
