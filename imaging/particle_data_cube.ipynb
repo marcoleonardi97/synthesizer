{
 "cells": [
  {
   "cell_type": "markdown",
   "metadata": {},
   "source": [
    "# Spectral Data Cubes from Galaxy Particle distributions\n",
    "\n",
    "In this example we show how to create a spectral data cube from particle data.\n",
    "\n",
    "We first load some demo CAMELS data and a grid, as demonstrated elsewhere in the documentation."
   ]
  },
  {
   "cell_type": "code",
   "execution_count": 1,
   "metadata": {
    "execution": {
     "iopub.execute_input": "2024-08-14T16:20:54.212474Z",
     "iopub.status.busy": "2024-08-14T16:20:54.212272Z",
     "iopub.status.idle": "2024-08-14T16:20:56.536544Z",
     "shell.execute_reply": "2024-08-14T16:20:56.535797Z"
    }
   },
   "outputs": [
    {
     "name": "stderr",
     "output_type": "stream",
     "text": [
      "/opt/hostedtoolcache/Python/3.10.14/x64/lib/python3.10/site-packages/unyt/array.py:1949: RuntimeWarning: invalid value encountered in divide\n",
      "  out_arr = func(\n"
     ]
    },
    {
     "data": {
      "text/plain": [
       "unyt_array([[0.        , 0.        , 0.        , ..., 0.02570152, 0.02568315,\n",
       "        0.02566689],\n",
       "       [0.        , 0.        , 0.        , ..., 0.09018937, 0.09009201,\n",
       "        0.08998405],\n",
       "       [0.        , 0.        , 0.        , ..., 0.05237102, 0.05232978,\n",
       "        0.05229302],\n",
       "       ...,\n",
       "       [0.        , 0.        , 0.        , ..., 0.01562533, 0.01562236,\n",
       "        0.01562355],\n",
       "       [0.        , 0.        , 0.        , ..., 0.02447035, 0.02447084,\n",
       "        0.02446969],\n",
       "       [0.        , 0.        , 0.        , ..., 0.01539927, 0.01539437,\n",
       "        0.01539597]], 'nJy')"
      ]
     },
     "execution_count": 1,
     "metadata": {},
     "output_type": "execute_result"
    }
   ],
   "source": [
    "import time\n",
    "\n",
    "import numpy as np\n",
    "from astropy.cosmology import Planck18 as cosmo\n",
    "from synthesizer.emission_models import IntrinsicEmission\n",
    "from synthesizer.grid import Grid\n",
    "from synthesizer.imaging import SpectralCube\n",
    "from synthesizer.kernel_functions import Kernel\n",
    "from synthesizer.load_data.load_camels import load_CAMELS_IllustrisTNG\n",
    "from unyt import kpc\n",
    "\n",
    "# Define the grid\n",
    "grid_name = \"test_grid\"\n",
    "grid_dir = \"../../../tests/test_grid/\"\n",
    "grid = Grid(grid_name, grid_dir=grid_dir)\n",
    "\n",
    "# Create galaxy object\n",
    "gal = load_CAMELS_IllustrisTNG(\n",
    "    \"../../../tests/data/\",\n",
    "    snap_name=\"camels_snap.hdf5\",\n",
    "    group_name=\"camels_subhalo.hdf5\",\n",
    "    physical=True,\n",
    ")[0]\n",
    "\n",
    "# Calculate the stellar rest frame SEDs for all particles in erg / s / Hz\n",
    "model = IntrinsicEmission(grid, fesc=0.1)\n",
    "sed = gal.stars.get_particle_spectra(model)\n",
    "\n",
    "# Calculate the observed SED in nJy\n",
    "sed.get_fnu(cosmo, gal.redshift)"
   ]
  },
  {
   "cell_type": "markdown",
   "metadata": {},
   "source": [
    "## Spectral Data Cube Creation\n",
    "\n",
    "We now have most of the ingredients we need to generate a spectral data cube from our galaxy. The only parts that are missing are the wavelength array of our spectral data cube, its resolution and FOV, and a kernel for smoothing particles over. We'll define these below and move on to making the spectral data cube."
   ]
  },
  {
   "cell_type": "code",
   "execution_count": 2,
   "metadata": {
    "execution": {
     "iopub.execute_input": "2024-08-14T16:20:56.539534Z",
     "iopub.status.busy": "2024-08-14T16:20:56.539209Z",
     "iopub.status.idle": "2024-08-14T16:20:57.082266Z",
     "shell.execute_reply": "2024-08-14T16:20:57.081610Z"
    }
   },
   "outputs": [
    {
     "name": "stdout",
     "output_type": "stream",
     "text": [
      "Data cube spatial width is 30.00 kpc with a 0.15 kpc spaxel resolution\n"
     ]
    }
   ],
   "source": [
    "# Define the width of the image\n",
    "width = 30 * kpc\n",
    "\n",
    "# Define image resolution (here we arbitrarily set it to 100\n",
    "# pixels along an axis)\n",
    "resolution = width / 200\n",
    "\n",
    "# Define the wavelength array\n",
    "lam = np.linspace(10**3.5, 10**4.5, 1000)\n",
    "\n",
    "print(\n",
    "    \"Data cube spatial width is %.2f kpc with a %.2f kpc spaxel resolution\"\n",
    "    % (width.value, resolution.value)\n",
    ")\n",
    "\n",
    "# Get the SPH kernel\n",
    "kernel = Kernel()\n",
    "kernel_data = kernel.get_kernel()"
   ]
  },
  {
   "cell_type": "markdown",
   "metadata": {},
   "source": [
    "Synthesizer allows you to make either a \"2D histogram\" data cube, where particles are sorted into individual pixels, or data cubes where particles are smoothed over their SPH kernels. We'll focus on the latter, but to do the former you simply call `get_data_cube_hist` with an `sed`, `coordinates` and the `Sed` quantity you want to populate the data cube with.\n",
    "\n",
    "To make a smoothed data cube we first instantiate the `SpectralCube`, and then call `get_data_cube_smoothed`, which takes a `sed`, `coordinates`, `smoothing_lengths`, a `kernel`, the threshold of the `kernel`, and the `Sed` quantity you want to populate the data cube with. The possible quantities are `\"lnu\"`, `\"luminosity\"` or `\"llam\"` for rest frame luminosities, or `\"fnu\"`, `\"flam\"` or `\"flux\"` for fluxes (the latter 3 require `get_fnu` or `get_fnu0` to have been called). We will make a cube populated with `\"fnu\"`, i.e. the spectral flux density."
   ]
  },
  {
   "cell_type": "code",
   "execution_count": 3,
   "metadata": {
    "execution": {
     "iopub.execute_input": "2024-08-14T16:20:57.085226Z",
     "iopub.status.busy": "2024-08-14T16:20:57.084790Z",
     "iopub.status.idle": "2024-08-14T16:20:57.953050Z",
     "shell.execute_reply": "2024-08-14T16:20:57.952335Z"
    }
   },
   "outputs": [
    {
     "name": "stdout",
     "output_type": "stream",
     "text": [
      "Spectral data cube created, took: 0.8638391494750977\n"
     ]
    }
   ],
   "source": [
    "cube_start = time.time()\n",
    "\n",
    "# Get the data cube\n",
    "cube = SpectralCube(resolution=resolution, lam=lam, fov=width)\n",
    "\n",
    "# And get the cube itself\n",
    "cube.get_data_cube_smoothed(\n",
    "    sed,\n",
    "    coordinates=gal.stars.coordinates,\n",
    "    smoothing_lengths=gal.stars.smoothing_lengths,\n",
    "    kernel=kernel_data,\n",
    "    kernel_threshold=1,\n",
    "    quantity=\"fnu\",\n",
    ")\n",
    "\n",
    "print(\"Spectral data cube created, took:\", time.time() - cube_start)"
   ]
  },
  {
   "cell_type": "markdown",
   "metadata": {},
   "source": [
    "And that's it. We now have a spectral data cube to analyse. We can visualise the data cube by making an animation. "
   ]
  },
  {
   "cell_type": "code",
   "execution_count": 4,
   "metadata": {
    "execution": {
     "iopub.execute_input": "2024-08-14T16:20:57.955723Z",
     "iopub.status.busy": "2024-08-14T16:20:57.955497Z",
     "iopub.status.idle": "2024-08-14T16:20:58.539665Z",
     "shell.execute_reply": "2024-08-14T16:20:58.539063Z"
    }
   },
   "outputs": [
    {
     "data": {
      "image/png": "[encoded data removed]",
      "text/plain": [
       "<Figure size 600x800 with 2 Axes>"
      ]
     },
     "metadata": {},
     "output_type": "display_data"
    }
   ],
   "source": [
    "# Animate the data cube\n",
    "ani = cube.animate_data_cube(fps=240, show=True)"
   ]
  },
  {
   "cell_type": "markdown",
   "metadata": {},
   "source": [
    "### Galaxy helper method\n",
    "\n",
    "If you don't want to use the low level `SpectralCube` object we also include a helper method on a galaxy."
   ]
  },
  {
   "cell_type": "code",
   "execution_count": 5,
   "metadata": {
    "execution": {
     "iopub.execute_input": "2024-08-14T16:20:58.542361Z",
     "iopub.status.busy": "2024-08-14T16:20:58.542104Z",
     "iopub.status.idle": "2024-08-14T16:20:58.680092Z",
     "shell.execute_reply": "2024-08-14T16:20:58.679431Z"
    }
   },
   "outputs": [],
   "source": [
    "cube = gal.get_data_cube(\n",
    "    resolution,\n",
    "    width,\n",
    "    lam,\n",
    "    cube_type=\"hist\",\n",
    "    stellar_spectra=\"intrinsic\",\n",
    "    kernel=kernel,\n",
    "    kernel_threshold=1,\n",
    "    quantity=\"flux\",\n",
    ")"
   ]
  }
 ],
 "metadata": {
  "language_info": {
   "codemirror_mode": {
    "name": "ipython",
    "version": 3
   },
   "file_extension": ".py",
   "mimetype": "text/x-python",
   "name": "python",
   "nbconvert_exporter": "python",
   "pygments_lexer": "ipython3",
   "version": "3.10.14"
  }
 },
 "nbformat": 4,
 "nbformat_minor": 2
}
