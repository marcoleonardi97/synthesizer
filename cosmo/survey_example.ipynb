{
 "cells": [
  {
   "cell_type": "markdown",
   "id": "e710ea94-6c16-4975-9757-6b1abdb8bd1e",
   "metadata": {},
   "source": [
    "# CAMELS survey example"
   ]
  },
  {
   "cell_type": "code",
   "execution_count": 1,
   "id": "df49b24f-cca8-4ad3-b0ff-163cc95ab98a",
   "metadata": {
    "execution": {
     "iopub.execute_input": "2024-01-18T15:06:29.571626Z",
     "iopub.status.busy": "2024-01-18T15:06:29.570980Z",
     "iopub.status.idle": "2024-01-18T15:06:31.647545Z",
     "shell.execute_reply": "2024-01-18T15:06:31.646879Z"
    }
   },
   "outputs": [],
   "source": [
    "import numpy as np\n",
    "import matplotlib.pyplot as plt\n",
    "\n",
    "from synthesizer.grid import Grid\n",
    "from synthesizer.load_data.load_camels import load_CAMELS_IllustrisTNG\n",
    "from synthesizer.filters import UVJ\n",
    "from synthesizer.survey import Survey"
   ]
  },
  {
   "cell_type": "code",
   "execution_count": 2,
   "id": "e0887305-6aa1-444d-901a-59b70045ea58",
   "metadata": {
    "execution": {
     "iopub.execute_input": "2024-01-18T15:06:31.650854Z",
     "iopub.status.busy": "2024-01-18T15:06:31.650388Z",
     "iopub.status.idle": "2024-01-18T15:06:31.738956Z",
     "shell.execute_reply": "2024-01-18T15:06:31.738280Z"
    }
   },
   "outputs": [],
   "source": [
    "grid_dir = \"../../../tests/test_grid\"\n",
    "grid_name = \"test_grid\"\n",
    "grid = Grid(grid_name, grid_dir=grid_dir)"
   ]
  },
  {
   "cell_type": "code",
   "execution_count": 3,
   "id": "c00ed28c-6bdb-4206-aa3d-87cb4b4dd052",
   "metadata": {
    "execution": {
     "iopub.execute_input": "2024-01-18T15:06:31.742438Z",
     "iopub.status.busy": "2024-01-18T15:06:31.741928Z",
     "iopub.status.idle": "2024-01-18T15:06:31.775870Z",
     "shell.execute_reply": "2024-01-18T15:06:31.775070Z"
    }
   },
   "outputs": [
    {
     "name": "stderr",
     "output_type": "stream",
     "text": [
      "/opt/hostedtoolcache/Python/3.10.13/x64/lib/python3.10/site-packages/unyt/array.py:1938: RuntimeWarning: invalid value encountered in divide\n",
      "  out_arr = func(\n"
     ]
    }
   ],
   "source": [
    "gals = load_CAMELS_IllustrisTNG(\n",
    "    \"../../../tests/data/\",\n",
    "    snap_name=\"camels_snap.hdf5\",\n",
    "    fof_name=\"camels_subhalo.hdf5\",\n",
    ")\n",
    "\n",
    "mstar = np.log10(\n",
    "    np.array([np.sum(_g.stars.initial_masses) for _g in gals]) * 1e10\n",
    ")"
   ]
  },
  {
   "cell_type": "markdown",
   "id": "cac2913b-7b08-4647-b17d-b2de447def8d",
   "metadata": {},
   "source": [
    "Set up a filter collection object (UVJ default)"
   ]
  },
  {
   "cell_type": "code",
   "execution_count": 4,
   "id": "37f908be-4363-4f05-b095-21568e400453",
   "metadata": {
    "execution": {
     "iopub.execute_input": "2024-01-18T15:06:31.779013Z",
     "iopub.status.busy": "2024-01-18T15:06:31.778528Z",
     "iopub.status.idle": "2024-01-18T15:06:31.788076Z",
     "shell.execute_reply": "2024-01-18T15:06:31.787368Z"
    }
   },
   "outputs": [],
   "source": [
    "fc = UVJ(new_lam=grid.lam)"
   ]
  },
  {
   "cell_type": "markdown",
   "id": "49f9cd8c-77f0-44c9-9d53-56a5e94892a4",
   "metadata": {},
   "source": [
    "Convert gals to an array"
   ]
  },
  {
   "cell_type": "code",
   "execution_count": 5,
   "id": "a048faba-30dd-4261-b93c-c2024adbd738",
   "metadata": {
    "execution": {
     "iopub.execute_input": "2024-01-18T15:06:31.791518Z",
     "iopub.status.busy": "2024-01-18T15:06:31.791004Z",
     "iopub.status.idle": "2024-01-18T15:06:31.794741Z",
     "shell.execute_reply": "2024-01-18T15:06:31.794060Z"
    }
   },
   "outputs": [],
   "source": [
    "gals = np.array(gals)"
   ]
  },
  {
   "cell_type": "markdown",
   "id": "ec2f5438-9279-4b1d-9adc-6a0c5bbee8da",
   "metadata": {},
   "source": [
    "Create an empty Survey object"
   ]
  },
  {
   "cell_type": "code",
   "execution_count": 6,
   "id": "216d229b-722d-44b9-8759-b1c2e472332e",
   "metadata": {
    "execution": {
     "iopub.execute_input": "2024-01-18T15:06:31.798209Z",
     "iopub.status.busy": "2024-01-18T15:06:31.797673Z",
     "iopub.status.idle": "2024-01-18T15:06:31.801017Z",
     "shell.execute_reply": "2024-01-18T15:06:31.800415Z"
    }
   },
   "outputs": [],
   "source": [
    "survey = Survey(super_resolution_factor=1)"
   ]
  },
  {
   "cell_type": "markdown",
   "id": "276a3ad3-86f8-45c6-908f-a7ca0b5813de",
   "metadata": {},
   "source": [
    "Let's add the filters to an instrument in the survey"
   ]
  },
  {
   "cell_type": "code",
   "execution_count": 7,
   "id": "85f8862f-eac0-44bf-bc6f-77c7c81b8cf5",
   "metadata": {
    "execution": {
     "iopub.execute_input": "2024-01-18T15:06:31.803758Z",
     "iopub.status.busy": "2024-01-18T15:06:31.803336Z",
     "iopub.status.idle": "2024-01-18T15:06:31.806731Z",
     "shell.execute_reply": "2024-01-18T15:06:31.806059Z"
    }
   },
   "outputs": [],
   "source": [
    "survey.add_photometric_instrument(filters=fc, label=\"UVJ\")"
   ]
  },
  {
   "cell_type": "markdown",
   "id": "cb4d4425-cae8-43cd-9194-96c15dd3a7b7",
   "metadata": {},
   "source": [
    "Store the galaxies in the survey"
   ]
  },
  {
   "cell_type": "code",
   "execution_count": 8,
   "id": "c8b968d2-293e-491f-a615-80ce2667cbac",
   "metadata": {
    "execution": {
     "iopub.execute_input": "2024-01-18T15:06:31.809857Z",
     "iopub.status.busy": "2024-01-18T15:06:31.809597Z",
     "iopub.status.idle": "2024-01-18T15:06:31.812808Z",
     "shell.execute_reply": "2024-01-18T15:06:31.812185Z"
    }
   },
   "outputs": [],
   "source": [
    "survey.add_galaxies(gals)"
   ]
  },
  {
   "cell_type": "markdown",
   "id": "5b350abb-a971-4843-8003-e824acccb0d5",
   "metadata": {},
   "source": [
    "Get the SEDs\n",
    "\n",
    "TODO: fix"
   ]
  },
  {
   "cell_type": "code",
   "execution_count": 9,
   "id": "6813c9c0-58bf-42a8-b142-607b2e9956b1",
   "metadata": {
    "execution": {
     "iopub.execute_input": "2024-01-18T15:06:31.815543Z",
     "iopub.status.busy": "2024-01-18T15:06:31.815356Z",
     "iopub.status.idle": "2024-01-18T15:06:31.817998Z",
     "shell.execute_reply": "2024-01-18T15:06:31.817366Z"
    }
   },
   "outputs": [],
   "source": [
    "# survey.get_integrated_stellar_spectra(grid)\n",
    "\n",
    "# # survey.get_integrated_spectra_screen(tau_v=0.33)\n",
    "\n",
    "# survey.get_integrated_spectra_charlot_fall_00(grid, tau_v_ISM=0.33, tau_v_BC=0.67)\n",
    "\n",
    "# survey.seds"
   ]
  },
  {
   "cell_type": "markdown",
   "id": "8422caec-f45a-43e2-b364-e9901bf483f7",
   "metadata": {},
   "source": [
    "Compute the photometry in UVJ filters"
   ]
  },
  {
   "cell_type": "code",
   "execution_count": 10,
   "id": "6eb60434-3383-411e-83e9-d8943d167013",
   "metadata": {
    "execution": {
     "iopub.execute_input": "2024-01-18T15:06:31.820973Z",
     "iopub.status.busy": "2024-01-18T15:06:31.820598Z",
     "iopub.status.idle": "2024-01-18T15:06:31.823885Z",
     "shell.execute_reply": "2024-01-18T15:06:31.823297Z"
    }
   },
   "outputs": [],
   "source": [
    "# fig, (ax1, ax2, ax3) = plt.subplots(1, 3, figsize=(10, 3))\n",
    "\n",
    "# for spectra_type, c in zip(['incident', 'attenuated'],\n",
    "#                            [mstar, 'grey']):\n",
    "#     survey.get_photometry(spectra_type=spectra_type)\n",
    "#     _UVJ = survey.photometry\n",
    "\n",
    "#     UV = _UVJ['U'] / _UVJ['V']\n",
    "#     VJ = _UVJ['V'] / _UVJ['J']\n",
    "\n",
    "#     bins = np.linspace(35, 44, 20)\n",
    "#     ax1.hist(np.log10(_UVJ['U'].value), label=spectra_type,\n",
    "#              histtype='step', bins=bins)\n",
    "#     ax2.hist(np.log10(_UVJ['V'].value), label=spectra_type,\n",
    "#              histtype='step', bins=bins)\n",
    "#     # ax3.hist(np.log10(_UVJ['J'].value), label=spectra_type,\n",
    "#     #          histtype='step', bins=bins)\n",
    "\n",
    "# ax1.legend()\n",
    "# ax1.set_xlabel('U')\n",
    "# ax2.set_xlabel('V')\n",
    "# ax3.set_xlabel('J')"
   ]
  },
  {
   "cell_type": "code",
   "execution_count": null,
   "id": "aae61950-1ea3-406f-b27b-f9fcb817a5a8",
   "metadata": {},
   "outputs": [],
   "source": []
  }
 ],
 "metadata": {
  "language_info": {
   "codemirror_mode": {
    "name": "ipython",
    "version": 3
   },
   "file_extension": ".py",
   "mimetype": "text/x-python",
   "name": "python",
   "nbconvert_exporter": "python",
   "pygments_lexer": "ipython3",
   "version": "3.10.13"
  }
 },
 "nbformat": 4,
 "nbformat_minor": 5
}
