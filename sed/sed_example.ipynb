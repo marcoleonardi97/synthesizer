{
 "cells": [
  {
   "attachments": {},
   "cell_type": "markdown",
   "id": "00db497b-9cf9-4547-ae44-4d80f30eb8a1",
   "metadata": {},
   "source": [
    "# The Sed object\n",
    "\n",
    "This example demonstrates the various methods associated with the `Sed` class.\n",
    "\n",
    "`Sed` objects can be extracted directly from [Grid objects](../grids/grids.rst) or created by [Galaxy objects](../galaxy/galaxy.rst).\n",
    "\n",
    "We start by loading some modules and initialising a grid:"
   ]
  },
  {
   "cell_type": "code",
   "execution_count": 1,
   "id": "7158257d-8bab-4c83-bac6-38aa83def3bf",
   "metadata": {
    "execution": {
     "iopub.execute_input": "2024-09-10T15:28:39.737890Z",
     "iopub.status.busy": "2024-09-10T15:28:39.737496Z",
     "iopub.status.idle": "2024-09-10T15:28:41.902785Z",
     "shell.execute_reply": "2024-09-10T15:28:41.902103Z"
    }
   },
   "outputs": [],
   "source": [
    "import matplotlib.pyplot as plt\n",
    "import numpy as np\n",
    "from unyt import Angstrom, eV, um\n",
    "\n",
    "from synthesizer.emission_models.attenuation.igm import Madau96\n",
    "from synthesizer.filters import FilterCollection\n",
    "from synthesizer.grid import Grid\n",
    "from synthesizer.sed import Sed, plot_spectra_as_rainbow\n",
    "\n",
    "grid_dir = \"../../../tests/test_grid/\"\n",
    "grid_name = \"test_grid\"\n",
    "grid = Grid(grid_name, grid_dir=grid_dir)"
   ]
  },
  {
   "attachments": {},
   "cell_type": "markdown",
   "id": "dcb82045",
   "metadata": {},
   "source": [
    "Next, let's extract the spectra at a given point in our grid.\n",
    "We first define a target age and metallicity, obtain the index of the grid at these values, then extract the spectra.\n",
    "This will be in the form of an ``Sed`` object."
   ]
  },
  {
   "cell_type": "code",
   "execution_count": 2,
   "id": "35ad7190",
   "metadata": {
    "execution": {
     "iopub.execute_input": "2024-09-10T15:28:41.905984Z",
     "iopub.status.busy": "2024-09-10T15:28:41.905482Z",
     "iopub.status.idle": "2024-09-10T15:28:41.915010Z",
     "shell.execute_reply": "2024-09-10T15:28:41.914455Z"
    }
   },
   "outputs": [
    {
     "name": "stdout",
     "output_type": "stream",
     "text": [
      "+-------------------------------------------------------------------------------+\n",
      "|                                      SED                                      |\n",
      "+-------------+-----------------------------------------------------------------+\n",
      "| Attribute   | Value                                                           |\n",
      "+-------------+-----------------------------------------------------------------+\n",
      "| redshift    | 0                                                               |\n",
      "+-------------+-----------------------------------------------------------------+\n",
      "| lam (9244,) | 1.30e-04 Å -> 2.99e+11 Å (Mean: 9.73e+09 Å)                     |\n",
      "+-------------+-----------------------------------------------------------------+\n",
      "| nu (9244,)  | 1.00e+07 Hz -> 2.31e+22 Hz (Mean: 8.51e+19 Hz)                  |\n",
      "+-------------+-----------------------------------------------------------------+\n",
      "| lnu (9244,) | 0.00e+00 erg/(Hz*s) -> 3.10e+29 erg/(Hz*s) (Mean: 9.16e+27 erg) |\n",
      "+-------------+-----------------------------------------------------------------+\n"
     ]
    }
   ],
   "source": [
    "log10age = 6.0  # log10(age/yr)\n",
    "metallicity = 0.01\n",
    "spectra_id = \"incident\"\n",
    "grid_point = grid.get_grid_point((log10age, metallicity))\n",
    "sed = grid.get_spectra(grid_point, spectra_id=spectra_id)\n",
    "sed.lnu *= 1e8  # multiply initial stellar mass\n",
    "\n",
    "print(sed)"
   ]
  },
  {
   "attachments": {},
   "cell_type": "markdown",
   "id": "b21fb144",
   "metadata": {},
   "source": [
    "`Sed` objects contain a wavelength grid and luminosity in the `lam` and `lnu` attributes. Both come with units making them easy to convert:"
   ]
  },
  {
   "cell_type": "code",
   "execution_count": 3,
   "id": "e2616d77",
   "metadata": {
    "execution": {
     "iopub.execute_input": "2024-09-10T15:28:41.917575Z",
     "iopub.status.busy": "2024-09-10T15:28:41.917161Z",
     "iopub.status.idle": "2024-09-10T15:28:41.921212Z",
     "shell.execute_reply": "2024-09-10T15:28:41.920588Z"
    }
   },
   "outputs": [
    {
     "name": "stdout",
     "output_type": "stream",
     "text": [
      "[1.29662e-04 1.33601e-04 1.37660e-04 ... 2.97304e+11 2.98297e+11\n",
      " 2.99293e+11] Å\n",
      "[0. 0. 0. ... 0. 0. 0.] erg/(Hz*s)\n"
     ]
    }
   ],
   "source": [
    "print(sed.lam)\n",
    "print(sed.lnu)"
   ]
  },
  {
   "attachments": {},
   "cell_type": "markdown",
   "id": "4e274835",
   "metadata": {},
   "source": [
    "These also have more descriptive aliases:"
   ]
  },
  {
   "cell_type": "code",
   "execution_count": 4,
   "id": "ef68fa8f",
   "metadata": {
    "execution": {
     "iopub.execute_input": "2024-09-10T15:28:41.923826Z",
     "iopub.status.busy": "2024-09-10T15:28:41.923519Z",
     "iopub.status.idle": "2024-09-10T15:28:41.927229Z",
     "shell.execute_reply": "2024-09-10T15:28:41.926575Z"
    }
   },
   "outputs": [
    {
     "name": "stdout",
     "output_type": "stream",
     "text": [
      "[1.29662e-04 1.33601e-04 1.37660e-04 ... 2.97304e+11 2.98297e+11\n",
      " 2.99293e+11] Å\n",
      "[0. 0. 0. ... 0. 0. 0.] erg/(Hz*s)\n"
     ]
    }
   ],
   "source": [
    "print(sed.wavelength)\n",
    "print(sed.luminosity_nu)"
   ]
  },
  {
   "attachments": {},
   "cell_type": "markdown",
   "id": "363f3759",
   "metadata": {},
   "source": [
    "Thus we can easily make a plot:"
   ]
  },
  {
   "cell_type": "code",
   "execution_count": 5,
   "id": "8c7e91fb",
   "metadata": {
    "execution": {
     "iopub.execute_input": "2024-09-10T15:28:41.929865Z",
     "iopub.status.busy": "2024-09-10T15:28:41.929487Z",
     "iopub.status.idle": "2024-09-10T15:28:42.018029Z",
     "shell.execute_reply": "2024-09-10T15:28:42.017246Z"
    }
   },
   "outputs": [
    {
     "name": "stderr",
     "output_type": "stream",
     "text": [
      "/opt/hostedtoolcache/Python/3.10.14/x64/lib/python3.10/site-packages/unyt/array.py:1824: RuntimeWarning: divide by zero encountered in log10\n",
      "  out_arr = func(np.asarray(inp), out=out_func, **kwargs)\n"
     ]
    },
    {
     "data": {
      "image/png": "[encoded data removed]",
      "text/plain": [
       "<Figure size 640x480 with 1 Axes>"
      ]
     },
     "metadata": {},
     "output_type": "display_data"
    }
   ],
   "source": [
    "plt.plot(np.log10(sed.lam), np.log10(sed.lnu))\n",
    "plt.show()"
   ]
  },
  {
   "attachments": {},
   "cell_type": "markdown",
   "id": "d1b375d6",
   "metadata": {},
   "source": [
    "We can also also visualise the spectrum as a rainbow."
   ]
  },
  {
   "cell_type": "code",
   "execution_count": 6,
   "id": "b375546d",
   "metadata": {
    "execution": {
     "iopub.execute_input": "2024-09-10T15:28:42.020771Z",
     "iopub.status.busy": "2024-09-10T15:28:42.020372Z",
     "iopub.status.idle": "2024-09-10T15:28:42.118052Z",
     "shell.execute_reply": "2024-09-10T15:28:42.117341Z"
    }
   },
   "outputs": [
    {
     "data": {
      "image/png": "[encoded data removed]",
      "text/plain": [
       "<Figure size 500x50 with 1 Axes>"
      ]
     },
     "metadata": {},
     "output_type": "display_data"
    }
   ],
   "source": [
    "fig, ax = plot_spectra_as_rainbow(sed)\n",
    "plt.show()"
   ]
  },
  {
   "attachments": {},
   "cell_type": "markdown",
   "id": "d51886ec",
   "metadata": {},
   "source": [
    "We can also get the luminosity ($L$) or spectral luminosity density per $\\AA$ ($L_{\\lambda}$): "
   ]
  },
  {
   "cell_type": "code",
   "execution_count": 7,
   "id": "ffa42ddc",
   "metadata": {
    "execution": {
     "iopub.execute_input": "2024-09-10T15:28:42.120825Z",
     "iopub.status.busy": "2024-09-10T15:28:42.120626Z",
     "iopub.status.idle": "2024-09-10T15:28:42.126993Z",
     "shell.execute_reply": "2024-09-10T15:28:42.126438Z"
    }
   },
   "outputs": [
    {
     "name": "stdout",
     "output_type": "stream",
     "text": [
      "[0. 0. 0. ... 0. 0. 0.] erg/s\n",
      "[0. 0. 0. ... 0. 0. 0.] erg/(s*Å)\n"
     ]
    }
   ],
   "source": [
    "print(sed.luminosity)\n",
    "print(sed.llam)"
   ]
  },
  {
   "attachments": {},
   "cell_type": "markdown",
   "id": "56dd48dc",
   "metadata": {},
   "source": [
    "``Sed`` objects can be easily scaled via the `*` operator. For example,"
   ]
  },
  {
   "cell_type": "code",
   "execution_count": 8,
   "id": "14fd5ac1",
   "metadata": {
    "execution": {
     "iopub.execute_input": "2024-09-10T15:28:42.129556Z",
     "iopub.status.busy": "2024-09-10T15:28:42.129188Z",
     "iopub.status.idle": "2024-09-10T15:28:42.206148Z",
     "shell.execute_reply": "2024-09-10T15:28:42.205439Z"
    }
   },
   "outputs": [
    {
     "data": {
      "image/png": "[encoded data removed]",
      "text/plain": [
       "<Figure size 640x480 with 1 Axes>"
      ]
     },
     "metadata": {},
     "output_type": "display_data"
    }
   ],
   "source": [
    "sed_x_10 = sed * 10\n",
    "\n",
    "plt.plot(np.log10(sed.lam), np.log10(sed.lnu))\n",
    "plt.plot(np.log10(sed_x_10.lam), np.log10(sed_x_10.lnu))\n",
    "plt.show()"
   ]
  },
  {
   "attachments": {},
   "cell_type": "markdown",
   "id": "623b5609",
   "metadata": {},
   "source": [
    "## Methods\n",
    "\n",
    "There are a number of helper methods on ``Sed`` for calculating common derived properties. We provide some examples below.\n",
    "\n",
    "We can calculate the integrated bolometric luminosity of the Sed:"
   ]
  },
  {
   "cell_type": "code",
   "execution_count": 9,
   "id": "c3f35ac3",
   "metadata": {
    "execution": {
     "iopub.execute_input": "2024-09-10T15:28:42.208771Z",
     "iopub.status.busy": "2024-09-10T15:28:42.208547Z",
     "iopub.status.idle": "2024-09-10T15:28:42.213753Z",
     "shell.execute_reply": "2024-09-10T15:28:42.213166Z"
    }
   },
   "outputs": [
    {
     "data": {
      "text/plain": [
       "unyt_quantity(7.01614828e+44, 'erg/s')"
      ]
     },
     "execution_count": 9,
     "metadata": {},
     "output_type": "execute_result"
    }
   ],
   "source": [
    "sed.measure_bolometric_luminosity()"
   ]
  },
  {
   "attachments": {},
   "cell_type": "markdown",
   "id": "1ad27966",
   "metadata": {},
   "source": [
    "By default any spectra integration will use a trapezoid method. It's also possible to use the simpson rule."
   ]
  },
  {
   "cell_type": "code",
   "execution_count": 10,
   "id": "f6d6be8d",
   "metadata": {
    "execution": {
     "iopub.execute_input": "2024-09-10T15:28:42.216336Z",
     "iopub.status.busy": "2024-09-10T15:28:42.215925Z",
     "iopub.status.idle": "2024-09-10T15:28:42.220450Z",
     "shell.execute_reply": "2024-09-10T15:28:42.219825Z"
    }
   },
   "outputs": [
    {
     "data": {
      "text/plain": [
       "unyt_quantity(7.01614828e+44, 'erg/s')"
      ]
     },
     "execution_count": 10,
     "metadata": {},
     "output_type": "execute_result"
    }
   ],
   "source": [
    "sed.measure_bolometric_luminosity(integration_method=\"simps\")"
   ]
  },
  {
   "cell_type": "markdown",
   "id": "7571d960",
   "metadata": {},
   "source": [
    "You can also get the luminosity or `lnu` in a particular window by passing the wavelengths defining the limits of the window."
   ]
  },
  {
   "cell_type": "code",
   "execution_count": 11,
   "id": "b009326a",
   "metadata": {
    "execution": {
     "iopub.execute_input": "2024-09-10T15:28:42.222880Z",
     "iopub.status.busy": "2024-09-10T15:28:42.222676Z",
     "iopub.status.idle": "2024-09-10T15:28:42.227517Z",
     "shell.execute_reply": "2024-09-10T15:28:42.226973Z"
    }
   },
   "outputs": [
    {
     "data": {
      "text/plain": [
       "unyt_quantity(5.64110958e-09, 'erg/s')"
      ]
     },
     "execution_count": 11,
     "metadata": {},
     "output_type": "execute_result"
    }
   ],
   "source": [
    "sed.measure_window_luminosity((1400.0 * Angstrom, 1600.0 * Angstrom))"
   ]
  },
  {
   "cell_type": "markdown",
   "id": "bff9b81e",
   "metadata": {},
   "source": [
    "Notice how units were provided with this window. These are required but also allow you to use an arbitrary unit system."
   ]
  },
  {
   "cell_type": "code",
   "execution_count": 12,
   "id": "6716e968",
   "metadata": {
    "execution": {
     "iopub.execute_input": "2024-09-10T15:28:42.229959Z",
     "iopub.status.busy": "2024-09-10T15:28:42.229760Z",
     "iopub.status.idle": "2024-09-10T15:28:42.234620Z",
     "shell.execute_reply": "2024-09-10T15:28:42.233933Z"
    }
   },
   "outputs": [
    {
     "data": {
      "text/plain": [
       "unyt_quantity(5.64110958e-09, 'erg/s')"
      ]
     },
     "execution_count": 12,
     "metadata": {},
     "output_type": "execute_result"
    }
   ],
   "source": [
    "sed.measure_window_luminosity((0.14 * um, 0.16 * um))"
   ]
  },
  {
   "cell_type": "code",
   "execution_count": 13,
   "id": "6f76d8e1",
   "metadata": {
    "execution": {
     "iopub.execute_input": "2024-09-10T15:28:42.237152Z",
     "iopub.status.busy": "2024-09-10T15:28:42.236792Z",
     "iopub.status.idle": "2024-09-10T15:28:42.242610Z",
     "shell.execute_reply": "2024-09-10T15:28:42.241961Z"
    }
   },
   "outputs": [
    {
     "data": {
      "text/plain": [
       "unyt_quantity(0.48790352, 'erg/(Hz*s)')"
      ]
     },
     "execution_count": 13,
     "metadata": {},
     "output_type": "execute_result"
    }
   ],
   "source": [
    "sed.measure_window_lnu((1400.0 * Angstrom, 1600.0 * Angstrom))"
   ]
  },
  {
   "cell_type": "markdown",
   "id": "0f8c6f48",
   "metadata": {},
   "source": [
    "As for the bolometric luminosity, there are multiple integration methods that can be used for calculating the window.\n",
    "By default synthesizer will use the trapezoid method (`\"trapz\"`), but you can also take a simple average."
   ]
  },
  {
   "cell_type": "code",
   "execution_count": 14,
   "id": "1c460d65",
   "metadata": {
    "execution": {
     "iopub.execute_input": "2024-09-10T15:28:42.245283Z",
     "iopub.status.busy": "2024-09-10T15:28:42.244907Z",
     "iopub.status.idle": "2024-09-10T15:28:42.249782Z",
     "shell.execute_reply": "2024-09-10T15:28:42.249237Z"
    }
   },
   "outputs": [
    {
     "data": {
      "text/plain": [
       "unyt_quantity(0.48790196, 'erg/(Hz*s)')"
      ]
     },
     "execution_count": 14,
     "metadata": {},
     "output_type": "execute_result"
    }
   ],
   "source": [
    "sed.measure_window_lnu(\n",
    "    (1400.0 * Angstrom, 1600.0 * Angstrom), integration_method=\"average\"\n",
    ")"
   ]
  },
  {
   "attachments": {},
   "cell_type": "markdown",
   "id": "a3e8482a",
   "metadata": {},
   "source": [
    "We can measure a spectral break by providing two windows:"
   ]
  },
  {
   "cell_type": "code",
   "execution_count": 15,
   "id": "1abf4968",
   "metadata": {
    "execution": {
     "iopub.execute_input": "2024-09-10T15:28:42.252355Z",
     "iopub.status.busy": "2024-09-10T15:28:42.251989Z",
     "iopub.status.idle": "2024-09-10T15:28:42.258148Z",
     "shell.execute_reply": "2024-09-10T15:28:42.257481Z"
    }
   },
   "outputs": [
    {
     "data": {
      "text/plain": [
       "np.float64(0.8556966386986626)"
      ]
     },
     "execution_count": 15,
     "metadata": {},
     "output_type": "execute_result"
    }
   ],
   "source": [
    "sed.measure_break((3400, 3600) * Angstrom, (4150, 4250) * Angstrom)"
   ]
  },
  {
   "attachments": {},
   "cell_type": "markdown",
   "id": "d0accf42",
   "metadata": {},
   "source": [
    "There are also a few in-built break methods, e.g. `measure_Balmer_break()`"
   ]
  },
  {
   "cell_type": "code",
   "execution_count": 16,
   "id": "2df698f8",
   "metadata": {
    "execution": {
     "iopub.execute_input": "2024-09-10T15:28:42.260908Z",
     "iopub.status.busy": "2024-09-10T15:28:42.260321Z",
     "iopub.status.idle": "2024-09-10T15:28:42.266005Z",
     "shell.execute_reply": "2024-09-10T15:28:42.265370Z"
    }
   },
   "outputs": [
    {
     "data": {
      "text/plain": [
       "np.float64(0.8556966386986626)"
      ]
     },
     "execution_count": 16,
     "metadata": {},
     "output_type": "execute_result"
    }
   ],
   "source": [
    "sed.measure_balmer_break()"
   ]
  },
  {
   "cell_type": "code",
   "execution_count": 17,
   "id": "38913adc",
   "metadata": {
    "execution": {
     "iopub.execute_input": "2024-09-10T15:28:42.268217Z",
     "iopub.status.busy": "2024-09-10T15:28:42.268015Z",
     "iopub.status.idle": "2024-09-10T15:28:42.273432Z",
     "shell.execute_reply": "2024-09-10T15:28:42.272756Z"
    }
   },
   "outputs": [
    {
     "data": {
      "text/plain": [
       "np.float64(0.9014335946523935)"
      ]
     },
     "execution_count": 17,
     "metadata": {},
     "output_type": "execute_result"
    }
   ],
   "source": [
    "sed.measure_d4000()"
   ]
  },
  {
   "attachments": {},
   "cell_type": "markdown",
   "id": "45c97d43",
   "metadata": {},
   "source": [
    "We can also measure absorption line indices, and spectral slopes (e.g. the UV spectral slope $\\beta$):"
   ]
  },
  {
   "cell_type": "code",
   "execution_count": 18,
   "id": "8a50ffc3",
   "metadata": {
    "execution": {
     "iopub.execute_input": "2024-09-10T15:28:42.276119Z",
     "iopub.status.busy": "2024-09-10T15:28:42.275737Z",
     "iopub.status.idle": "2024-09-10T15:28:42.283430Z",
     "shell.execute_reply": "2024-09-10T15:28:42.282905Z"
    }
   },
   "outputs": [
    {
     "data": {
      "text/plain": [
       "unyt_quantity(5.80884398, 'Å')"
      ]
     },
     "execution_count": 18,
     "metadata": {},
     "output_type": "execute_result"
    }
   ],
   "source": [
    "sed.measure_index(\n",
    "    (1500, 1600) * Angstrom, (1400, 1500) * Angstrom, (1600, 1700) * Angstrom\n",
    ")"
   ]
  },
  {
   "cell_type": "code",
   "execution_count": 19,
   "id": "1734a1ed",
   "metadata": {
    "execution": {
     "iopub.execute_input": "2024-09-10T15:28:42.285868Z",
     "iopub.status.busy": "2024-09-10T15:28:42.285508Z",
     "iopub.status.idle": "2024-09-10T15:28:42.291284Z",
     "shell.execute_reply": "2024-09-10T15:28:42.290631Z"
    }
   },
   "outputs": [
    {
     "data": {
      "text/plain": [
       "np.float64(-2.947290162657862)"
      ]
     },
     "execution_count": 19,
     "metadata": {},
     "output_type": "execute_result"
    }
   ],
   "source": [
    "sed.measure_beta()"
   ]
  },
  {
   "attachments": {},
   "cell_type": "markdown",
   "id": "099b456e",
   "metadata": {},
   "source": [
    "By default this uses a single window and fits the spectrum by a power-law. However, we can also specify two windows as below, in which case the luminosity in each window is calcualted and used to infer a slope:"
   ]
  },
  {
   "cell_type": "code",
   "execution_count": 20,
   "id": "21456b92",
   "metadata": {
    "execution": {
     "iopub.execute_input": "2024-09-10T15:28:42.293646Z",
     "iopub.status.busy": "2024-09-10T15:28:42.293447Z",
     "iopub.status.idle": "2024-09-10T15:28:42.299414Z",
     "shell.execute_reply": "2024-09-10T15:28:42.298767Z"
    }
   },
   "outputs": [
    {
     "data": {
      "text/plain": [
       "np.float64(-2.9533621846623612)"
      ]
     },
     "execution_count": 20,
     "metadata": {},
     "output_type": "execute_result"
    }
   ],
   "source": [
    "sed.measure_beta(window=(1250, 1750, 2250, 2750))"
   ]
  },
  {
   "cell_type": "markdown",
   "id": "914b8124",
   "metadata": {},
   "source": [
    "Finally, we can also measure ionising photon production rates at a particular ionisation energy:"
   ]
  },
  {
   "cell_type": "code",
   "execution_count": 21,
   "id": "aba2653e",
   "metadata": {
    "execution": {
     "iopub.execute_input": "2024-09-10T15:28:42.302191Z",
     "iopub.status.busy": "2024-09-10T15:28:42.301992Z",
     "iopub.status.idle": "2024-09-10T15:28:42.318887Z",
     "shell.execute_reply": "2024-09-10T15:28:42.318216Z"
    }
   },
   "outputs": [
    {
     "data": {
      "text/plain": [
       "unyt_quantity(3.16440898e+25, '1/s')"
      ]
     },
     "execution_count": 21,
     "metadata": {},
     "output_type": "execute_result"
    }
   ],
   "source": [
    "sed.calculate_ionising_photon_production_rate(\n",
    "    ionisation_energy=13.6 * eV, limit=1000\n",
    ")"
   ]
  },
  {
   "attachments": {},
   "cell_type": "markdown",
   "id": "69f1be0c",
   "metadata": {},
   "source": [
    "## Observed frame SED\n",
    "\n",
    "By default ``Sed`` objects are defined in the rest frame. \n",
    "To move an SED to the observer frame we need to provide a cosmology, using an `astropy.cosmology` object, a redshift $z$, and optionally an IGM absorption model (see [here](../attenuation/igm.ipynb) for details)."
   ]
  },
  {
   "cell_type": "code",
   "execution_count": 22,
   "id": "45dea364",
   "metadata": {
    "execution": {
     "iopub.execute_input": "2024-09-10T15:28:42.321703Z",
     "iopub.status.busy": "2024-09-10T15:28:42.321318Z",
     "iopub.status.idle": "2024-09-10T15:28:42.530549Z",
     "shell.execute_reply": "2024-09-10T15:28:42.529758Z"
    }
   },
   "outputs": [
    {
     "name": "stderr",
     "output_type": "stream",
     "text": [
      "/opt/hostedtoolcache/Python/3.10.14/x64/lib/python3.10/site-packages/unyt/array.py:1824: RuntimeWarning: divide by zero encountered in log10\n",
      "  out_arr = func(np.asarray(inp), out=out_func, **kwargs)\n"
     ]
    },
    {
     "data": {
      "image/png": "[encoded data removed]",
      "text/plain": [
       "<Figure size 640x480 with 1 Axes>"
      ]
     },
     "metadata": {},
     "output_type": "display_data"
    }
   ],
   "source": [
    "from astropy.cosmology import Planck18 as cosmo\n",
    "\n",
    "z = 3.0  # redshift\n",
    "sed.get_fnu(cosmo, z, igm=Madau96)  # generate observed frame spectra\n",
    "\n",
    "plt.plot(np.log10(sed.obslam), np.log10(sed.fnu))\n",
    "plt.show()"
   ]
  },
  {
   "attachments": {},
   "cell_type": "markdown",
   "id": "b8b6b6fc",
   "metadata": {},
   "source": [
    "## Photometry\n",
    "\n",
    "Once we have computed the observed frame SED there is a method on an `Sed` object that allows us to calculate observed photometry (the same is of course true for rest frame photometry). However, first we need to instantiate a `FilterCollection` object (see [Filters](../filters/filters.rst) for details):"
   ]
  },
  {
   "cell_type": "code",
   "execution_count": 23,
   "id": "e81e62ce",
   "metadata": {
    "execution": {
     "iopub.execute_input": "2024-09-10T15:28:42.533515Z",
     "iopub.status.busy": "2024-09-10T15:28:42.533033Z",
     "iopub.status.idle": "2024-09-10T15:28:43.945329Z",
     "shell.execute_reply": "2024-09-10T15:28:43.944624Z"
    }
   },
   "outputs": [
    {
     "name": "stdout",
     "output_type": "stream",
     "text": [
      "------------------------------------------------------------------\n",
      "|                       PHOTOMETRY (FLUX)                        |\n",
      "|------------------------------------|---------------------------|\n",
      "| JWST/NIRCam.F070W (λ = 7.04e+03 Å) | 0.00e+00 erg/(Hz*cm**2*s) |\n",
      "|------------------------------------|---------------------------|\n",
      "| JWST/NIRCam.F090W (λ = 9.02e+03 Å) | 0.00e+00 erg/(Hz*cm**2*s) |\n",
      "|------------------------------------|---------------------------|\n",
      "| JWST/NIRCam.F115W (λ = 1.15e+04 Å) | 0.00e+00 erg/(Hz*cm**2*s) |\n",
      "|------------------------------------|---------------------------|\n",
      "| JWST/NIRCam.F150W (λ = 1.50e+04 Å) | 0.00e+00 erg/(Hz*cm**2*s) |\n",
      "|------------------------------------|---------------------------|\n",
      "| JWST/NIRCam.F200W (λ = 1.99e+04 Å) | 0.00e+00 erg/(Hz*cm**2*s) |\n",
      "|------------------------------------|---------------------------|\n",
      "| JWST/NIRCam.F277W (λ = 2.76e+04 Å) | 0.00e+00 erg/(Hz*cm**2*s) |\n",
      "|------------------------------------|---------------------------|\n",
      "| JWST/NIRCam.F356W (λ = 3.57e+04 Å) | 0.00e+00 erg/(Hz*cm**2*s) |\n",
      "|------------------------------------|---------------------------|\n",
      "| JWST/NIRCam.F444W (λ = 4.40e+04 Å) | 0.00e+00 erg/(Hz*cm**2*s) |\n",
      "------------------------------------------------------------------\n",
      "\n"
     ]
    },
    {
     "name": "stderr",
     "output_type": "stream",
     "text": [
      "/home/runner/work/synthesizer/synthesizer/src/synthesizer/sed.py:977: RuntimeWarning: JWST/NIRCam.F070W outside of emission array.\n",
      "  bb_flux = f.apply_filter(self._fnu, nu=self._obsnu)\n",
      "/home/runner/work/synthesizer/synthesizer/src/synthesizer/sed.py:977: RuntimeWarning: JWST/NIRCam.F090W outside of emission array.\n",
      "  bb_flux = f.apply_filter(self._fnu, nu=self._obsnu)\n",
      "/home/runner/work/synthesizer/synthesizer/src/synthesizer/sed.py:977: RuntimeWarning: JWST/NIRCam.F115W outside of emission array.\n",
      "  bb_flux = f.apply_filter(self._fnu, nu=self._obsnu)\n",
      "/home/runner/work/synthesizer/synthesizer/src/synthesizer/sed.py:977: RuntimeWarning: JWST/NIRCam.F150W outside of emission array.\n",
      "  bb_flux = f.apply_filter(self._fnu, nu=self._obsnu)\n",
      "/home/runner/work/synthesizer/synthesizer/src/synthesizer/sed.py:977: RuntimeWarning: JWST/NIRCam.F200W outside of emission array.\n",
      "  bb_flux = f.apply_filter(self._fnu, nu=self._obsnu)\n",
      "/home/runner/work/synthesizer/synthesizer/src/synthesizer/sed.py:977: RuntimeWarning: JWST/NIRCam.F277W outside of emission array.\n",
      "  bb_flux = f.apply_filter(self._fnu, nu=self._obsnu)\n",
      "/home/runner/work/synthesizer/synthesizer/src/synthesizer/sed.py:977: RuntimeWarning: JWST/NIRCam.F356W outside of emission array.\n",
      "  bb_flux = f.apply_filter(self._fnu, nu=self._obsnu)\n",
      "/home/runner/work/synthesizer/synthesizer/src/synthesizer/sed.py:977: RuntimeWarning: JWST/NIRCam.F444W outside of emission array.\n",
      "  bb_flux = f.apply_filter(self._fnu, nu=self._obsnu)\n"
     ]
    }
   ],
   "source": [
    "filter_codes = [\n",
    "    f\"JWST/NIRCam.{f}\"\n",
    "    for f in [\n",
    "        \"F070W\",\n",
    "        \"F090W\",\n",
    "        \"F115W\",\n",
    "        \"F150W\",\n",
    "        \"F200W\",\n",
    "        \"F277W\",\n",
    "        \"F356W\",\n",
    "        \"F444W\",\n",
    "    ]\n",
    "]  # define a list of filter codes\n",
    "fc = FilterCollection(filter_codes, new_lam=grid.lam)\n",
    "\n",
    "# Measure observed photometry\n",
    "fluxes = sed.get_photo_fnu(fc)\n",
    "print(fluxes)"
   ]
  },
  {
   "attachments": {},
   "cell_type": "markdown",
   "id": "38f72dcd",
   "metadata": {},
   "source": [
    "## Multiple SEDs"
   ]
  },
  {
   "attachments": {},
   "cell_type": "markdown",
   "id": "04676ea4",
   "metadata": {},
   "source": [
    "An ``Sed`` object can be composed of multiple SEDs ,if their dimensions are identical (i.e. same wavelength resolution).\n",
    "\n",
    "To demonstrate, let's create an `Sed` object with two seds:"
   ]
  },
  {
   "cell_type": "code",
   "execution_count": 24,
   "id": "6089f86d",
   "metadata": {
    "execution": {
     "iopub.execute_input": "2024-09-10T15:28:43.948405Z",
     "iopub.status.busy": "2024-09-10T15:28:43.948010Z",
     "iopub.status.idle": "2024-09-10T15:28:43.959817Z",
     "shell.execute_reply": "2024-09-10T15:28:43.959309Z"
    }
   },
   "outputs": [
    {
     "data": {
      "text/plain": [
       "unyt_array([5.80884398, 5.80884398], 'Å')"
      ]
     },
     "execution_count": 24,
     "metadata": {},
     "output_type": "execute_result"
    }
   ],
   "source": [
    "sed2 = Sed(sed.lam, np.array([sed.lnu, sed.lnu * 2]))\n",
    "\n",
    "sed2.measure_window_lnu((1400, 1600) * Angstrom)\n",
    "sed2.measure_beta()\n",
    "sed2.measure_beta(window=(1250, 1750, 2250, 2750))\n",
    "sed2.measure_balmer_break()\n",
    "sed2.measure_index(\n",
    "    (1500, 1600) * Angstrom, (1400, 1500) * Angstrom, (1600, 1700) * Angstrom\n",
    ")"
   ]
  },
  {
   "cell_type": "markdown",
   "id": "fa44a901",
   "metadata": {},
   "source": [
    "## Combining SEDs\n",
    "\n",
    "``Sed`` objects can be combined either via concatenation, to produce a single ``Sed`` holding multiple spectra, or by addition, to add the spectra contained in the input ``Sed`` objects. \n",
    "\n",
    "To concatenate spectra we use ``Sed.concat()``. \n",
    "`Sed.concat` can take an arbitrary number of `Sed` objects to combine."
   ]
  },
  {
   "cell_type": "code",
   "execution_count": 25,
   "id": "35011a0b",
   "metadata": {
    "execution": {
     "iopub.execute_input": "2024-09-10T15:28:43.962214Z",
     "iopub.status.busy": "2024-09-10T15:28:43.962008Z",
     "iopub.status.idle": "2024-09-10T15:28:43.967041Z",
     "shell.execute_reply": "2024-09-10T15:28:43.966493Z"
    }
   },
   "outputs": [
    {
     "name": "stdout",
     "output_type": "stream",
     "text": [
      "Shapes before: (9244,) (2, 9244)\n",
      "Combined shape: (3, 9244)\n",
      "Combined shape: (8, 9244)\n"
     ]
    }
   ],
   "source": [
    "print(\"Shapes before:\", sed._lnu.shape, sed2._lnu.shape)\n",
    "sed3 = sed2.concat(sed)\n",
    "print(\"Combined shape:\", sed3._lnu.shape)\n",
    "\n",
    "sed4 = sed2.concat(sed, sed2, sed3)\n",
    "print(\"Combined shape:\", sed4._lnu.shape)"
   ]
  },
  {
   "cell_type": "markdown",
   "id": "282390b5",
   "metadata": {},
   "source": [
    "If we want to add the spectra of two ``Sed`` objects together, we simply apply the `+` operator.\n",
    "However, unlike `concat`, this will only work for ``Sed``s with identical shapes."
   ]
  },
  {
   "cell_type": "code",
   "execution_count": 26,
   "id": "e68ce49b",
   "metadata": {
    "execution": {
     "iopub.execute_input": "2024-09-10T15:28:43.969546Z",
     "iopub.status.busy": "2024-09-10T15:28:43.969348Z",
     "iopub.status.idle": "2024-09-10T15:28:44.214273Z",
     "shell.execute_reply": "2024-09-10T15:28:44.213524Z"
    }
   },
   "outputs": [
    {
     "data": {
      "image/png": "[encoded data removed]",
      "text/plain": [
       "<Figure size 640x480 with 1 Axes>"
      ]
     },
     "metadata": {},
     "output_type": "display_data"
    }
   ],
   "source": [
    "sed_add = sed + sed\n",
    "plt.plot(np.log10(sed.lam), np.log10(sed.lnu), label=\"sed\")\n",
    "plt.plot(np.log10(sed_add.lam), np.log10(sed_add.lnu), label=\"sed5\")\n",
    "plt.ylim(26, 30)\n",
    "plt.xlim(2, 5)\n",
    "plt.xlabel(r\"$\\rm log_{10}(\\lambda/\\AA)$\")\n",
    "plt.ylabel(r\"$\\rm log_{10}(L_{\\nu}/erg\\ s^{-1}\\ Hz^{-1} M_{\\odot}^{-1})$\")\n",
    "plt.legend()\n",
    "plt.show()\n",
    "plt.close()"
   ]
  },
  {
   "attachments": {},
   "cell_type": "markdown",
   "id": "55d3b546",
   "metadata": {},
   "source": [
    "## Resampling SEDs\n",
    "\n",
    "The `Sed` includes a method to resample an sed, e.g. to lower-resolution or to match some target resolution (e.g. from observations)."
   ]
  },
  {
   "cell_type": "code",
   "execution_count": 27,
   "id": "b2c47c14",
   "metadata": {
    "execution": {
     "iopub.execute_input": "2024-09-10T15:28:44.217371Z",
     "iopub.status.busy": "2024-09-10T15:28:44.216927Z",
     "iopub.status.idle": "2024-09-10T15:28:44.404191Z",
     "shell.execute_reply": "2024-09-10T15:28:44.403458Z"
    }
   },
   "outputs": [
    {
     "name": "stderr",
     "output_type": "stream",
     "text": [
      "/opt/hostedtoolcache/Python/3.10.14/x64/lib/python3.10/site-packages/spectres/spectral_resampling.py:104: RuntimeWarning: Spectres: new_wavs contains values outside the range in spec_wavs, new_fluxes and new_errs will be filled with the value set in the 'fill' keyword argument (by default 0).\n",
      "  warnings.warn(\n"
     ]
    },
    {
     "data": {
      "image/png": "[encoded data removed]",
      "text/plain": [
       "<Figure size 640x480 with 1 Axes>"
      ]
     },
     "metadata": {},
     "output_type": "display_data"
    }
   ],
   "source": [
    "sed_resampled = sed.get_resampled_sed(5)\n",
    "plt.plot(np.log10(sed.lam), np.log10(sed.lnu), label=\"Original\")\n",
    "plt.plot(\n",
    "    np.log10(sed_resampled.lam), np.log10(sed_resampled.lnu), label=\"Resampled\"\n",
    ")\n",
    "plt.xlim(2.2, 3.5)\n",
    "plt.ylim(27.0, 29.5)\n",
    "plt.xlabel(r\"$\\rm log_{10}(\\lambda/\\AA)$\")\n",
    "plt.ylabel(r\"$\\rm log_{10}(L_{\\nu}/erg\\ s^{-1}\\ Hz^{-1} M_{\\odot}^{-1})$\")\n",
    "plt.legend()\n",
    "plt.show()\n",
    "plt.close()"
   ]
  },
  {
   "cell_type": "code",
   "execution_count": 28,
   "id": "6928e926",
   "metadata": {
    "execution": {
     "iopub.execute_input": "2024-09-10T15:28:44.407040Z",
     "iopub.status.busy": "2024-09-10T15:28:44.406628Z",
     "iopub.status.idle": "2024-09-10T15:28:44.411646Z",
     "shell.execute_reply": "2024-09-10T15:28:44.411080Z"
    }
   },
   "outputs": [
    {
     "name": "stdout",
     "output_type": "stream",
     "text": [
      "[3.10366345e+29 1.55183173e+29 3.10366345e+29] dimensionless\n"
     ]
    }
   ],
   "source": [
    "print(\n",
    "    sed.measure_bolometric_luminosity() / sed3.measure_bolometric_luminosity()\n",
    ")"
   ]
  },
  {
   "cell_type": "markdown",
   "id": "8ff799a0",
   "metadata": {},
   "source": [
    "## Applying attenuation\n",
    "\n",
    "To apply attenuation to an `Sed` you can use the `apply_attenuation` method and pass the optical depth and a dust curve (see [Attenuation](../attenuation/dust_attenuation.ipynb) for more details on dust curves)."
   ]
  },
  {
   "cell_type": "code",
   "execution_count": 29,
   "id": "39e0e53c",
   "metadata": {
    "execution": {
     "iopub.execute_input": "2024-09-10T15:28:44.414618Z",
     "iopub.status.busy": "2024-09-10T15:28:44.414191Z",
     "iopub.status.idle": "2024-09-10T15:28:44.559104Z",
     "shell.execute_reply": "2024-09-10T15:28:44.558353Z"
    }
   },
   "outputs": [
    {
     "data": {
      "image/png": "[encoded data removed]",
      "text/plain": [
       "<Figure size 640x480 with 1 Axes>"
      ]
     },
     "metadata": {},
     "output_type": "display_data"
    }
   ],
   "source": [
    "from synthesizer.emission_models.attenuation import PowerLaw\n",
    "\n",
    "sed4_att = sed4.apply_attenuation(tau_v=0.7, dust_curve=PowerLaw(-1.0))\n",
    "\n",
    "plt.plot(np.log10(sed4.lam), np.log10(sed4.lnu[0, :]), label=\"Incident\")\n",
    "plt.plot(\n",
    "    np.log10(sed4_att.lam), np.log10(sed4_att.lnu[0, :]), label=\"Attenuated\"\n",
    ")\n",
    "plt.xlim(2.2, 3.5)\n",
    "plt.ylim(26.0, 30.0)\n",
    "plt.xlabel(r\"$\\rm log_{10}(\\lambda/\\AA)$\")\n",
    "plt.ylabel(r\"$\\rm log_{10}(L_{\\nu}/erg\\ s^{-1}\\ Hz^{-1} M_{\\odot}^{-1})$\")\n",
    "plt.legend()\n",
    "plt.show()\n",
    "plt.close()"
   ]
  },
  {
   "cell_type": "markdown",
   "id": "669314bc",
   "metadata": {},
   "source": [
    "``apply_attenuation`` can also accept a ``mask``, which applies attenuation to specific spectra in a multidimensional ``Sed`` (like an `Sed` containing the spectra for multiple particles, for instance.)"
   ]
  },
  {
   "cell_type": "code",
   "execution_count": 30,
   "id": "0b944d48",
   "metadata": {
    "execution": {
     "iopub.execute_input": "2024-09-10T15:28:44.562545Z",
     "iopub.status.busy": "2024-09-10T15:28:44.561953Z",
     "iopub.status.idle": "2024-09-10T15:28:44.708369Z",
     "shell.execute_reply": "2024-09-10T15:28:44.707617Z"
    }
   },
   "outputs": [
    {
     "data": {
      "image/png": "[encoded data removed]",
      "text/plain": [
       "<Figure size 640x480 with 1 Axes>"
      ]
     },
     "metadata": {},
     "output_type": "display_data"
    }
   ],
   "source": [
    "sed0_att = sed4.apply_attenuation(\n",
    "    tau_v=0.7,\n",
    "    dust_curve=PowerLaw(-1.0),\n",
    "    mask=np.array([0, 1, 0, 0, 0, 0, 0, 0], dtype=bool),\n",
    ")\n",
    "\n",
    "plt.plot(np.log10(sed4.lam), np.log10(sed4.lnu[1, :]), label=\"Incident\")\n",
    "plt.plot(np.log10(sed4.lam), np.log10(sed0_att.lnu[0, :]), label=\"Attenuated\")\n",
    "plt.xlim(2.2, 3.5)\n",
    "plt.ylim(26.0, 30.0)\n",
    "plt.xlabel(r\"$\\rm log_{10}(\\lambda/\\AA)$\")\n",
    "plt.ylabel(r\"$\\rm log_{10}(L_{\\nu}/erg\\ s^{-1}\\ Hz^{-1} M_{\\odot}^{-1})$\")\n",
    "plt.legend()\n",
    "plt.show()\n",
    "plt.close()"
   ]
  },
  {
   "cell_type": "markdown",
   "id": "c3bfc369",
   "metadata": {},
   "source": [
    "## Calculating transmission\n",
    "\n",
    "If you have an attenuated SED, a natural quantity to calculate is the extinction of that spectra ($A$). This can be done either at the wavelengths of the `Sed`, an arbitrary wavelength/wavelength array, or at commonly used values (1500 and 5500 angstrom) using functions available in the `sed` module. Note that these functions return the extinction/attenuation in magnitudes. Below is a demonstration."
   ]
  },
  {
   "cell_type": "code",
   "execution_count": 31,
   "id": "eaa22e89",
   "metadata": {
    "execution": {
     "iopub.execute_input": "2024-09-10T15:28:44.711360Z",
     "iopub.status.busy": "2024-09-10T15:28:44.710841Z",
     "iopub.status.idle": "2024-09-10T15:28:44.718179Z",
     "shell.execute_reply": "2024-09-10T15:28:44.717576Z"
    }
   },
   "outputs": [
    {
     "name": "stderr",
     "output_type": "stream",
     "text": [
      "/opt/hostedtoolcache/Python/3.10.14/x64/lib/python3.10/site-packages/unyt/array.py:1949: RuntimeWarning: invalid value encountered in divide\n",
      "  out_arr = func(\n"
     ]
    }
   ],
   "source": [
    "from unyt import angstrom, um\n",
    "\n",
    "from synthesizer.sed import (\n",
    "    get_attenuation,\n",
    "    get_attenuation_at_1500,\n",
    "    get_attenuation_at_5500,\n",
    "    get_attenuation_at_lam,\n",
    ")\n",
    "\n",
    "# Get an intrinsic spectra\n",
    "grid_point = grid.get_grid_point((7, 0.01))\n",
    "int_sed = grid.get_spectra(grid_point, spectra_id=\"incident\")\n",
    "\n",
    "# Apply an attenuation curve\n",
    "att_sed = int_sed.apply_attenuation(tau_v=0.7, dust_curve=PowerLaw(-1.0))\n",
    "\n",
    "# Get attenuation at sed.lam\n",
    "attenuation = get_attenuation(int_sed, att_sed)\n",
    "\n",
    "# Get attenuation at 5 microns\n",
    "att_at_5 = get_attenuation_at_lam(5 * um, int_sed, att_sed)\n",
    "\n",
    "# Get attenuation at an arbitrary range of wavelengths\n",
    "att_at_range = get_attenuation_at_lam(\n",
    "    np.linspace(5000, 10000, 5) * angstrom, int_sed, att_sed\n",
    ")\n",
    "\n",
    "# Get attenuation at 1500 angstrom\n",
    "att_at_1500 = get_attenuation_at_1500(int_sed, att_sed)\n",
    "\n",
    "# Get attenuation at 5500 angstrom\n",
    "att_at_5500 = get_attenuation_at_5500(int_sed, att_sed)"
   ]
  }
 ],
 "metadata": {
  "language_info": {
   "codemirror_mode": {
    "name": "ipython",
    "version": 3
   },
   "file_extension": ".py",
   "mimetype": "text/x-python",
   "name": "python",
   "nbconvert_exporter": "python",
   "pygments_lexer": "ipython3",
   "version": "3.10.14"
  }
 },
 "nbformat": 4,
 "nbformat_minor": 5
}
