{
 "cells": [
  {
   "attachments": {},
   "cell_type": "markdown",
   "id": "659dcb3a-891b-4271-9073-d02efbeb14d5",
   "metadata": {},
   "source": [
    "# Grids\n",
    "\n",
    "This example allows us to explore a HDF5 grid file, and load the corresponding Grid object. We first load some common modules."
   ]
  },
  {
   "cell_type": "code",
   "execution_count": 1,
   "id": "79c4459f-4b18-43dd-922f-f20ad58bbfd6",
   "metadata": {
    "execution": {
     "iopub.execute_input": "2024-06-12T11:06:50.315859Z",
     "iopub.status.busy": "2024-06-12T11:06:50.315654Z",
     "iopub.status.idle": "2024-06-12T11:06:50.716041Z",
     "shell.execute_reply": "2024-06-12T11:06:50.715437Z"
    }
   },
   "outputs": [],
   "source": [
    "import matplotlib.pyplot as plt\n",
    "import numpy as np"
   ]
  },
  {
   "cell_type": "markdown",
   "id": "f77a08bf-109c-4b51-97dc-6c2fc200c6a1",
   "metadata": {},
   "source": [
    "We can then import the `Grid` object from synthesizer."
   ]
  },
  {
   "cell_type": "code",
   "execution_count": 2,
   "id": "d4c139d9-a589-425f-9a69-736b82f96e65",
   "metadata": {
    "execution": {
     "iopub.execute_input": "2024-06-12T11:06:50.719043Z",
     "iopub.status.busy": "2024-06-12T11:06:50.718739Z",
     "iopub.status.idle": "2024-06-12T11:06:52.225221Z",
     "shell.execute_reply": "2024-06-12T11:06:52.224611Z"
    }
   },
   "outputs": [],
   "source": [
    "from synthesizer.grid import Grid"
   ]
  },
  {
   "cell_type": "markdown",
   "id": "0d593e25-4783-4c38-b346-4c30d07d7482",
   "metadata": {},
   "source": [
    "This object takes the location of the grids on your system (`grid_dir`) and the name of the grid you wish to load `grid_name`). here we load a simple test grid provided with the module (hence the relative path)."
   ]
  },
  {
   "cell_type": "code",
   "execution_count": 3,
   "id": "8a9b1038-a78b-4c5d-8d04-c6f0cebda0a9",
   "metadata": {
    "execution": {
     "iopub.execute_input": "2024-06-12T11:06:52.228238Z",
     "iopub.status.busy": "2024-06-12T11:06:52.227929Z",
     "iopub.status.idle": "2024-06-12T11:06:52.392829Z",
     "shell.execute_reply": "2024-06-12T11:06:52.392140Z"
    }
   },
   "outputs": [
    {
     "name": "stdout",
     "output_type": "stream",
     "text": [
      "------------------------------\n",
      "SUMMARY OF GRID\n",
      "log10age: [ 6.   6.1  6.2  6.3  6.4  6.5  6.6  6.7  6.8  6.9  7.   7.1  7.2  7.3\n",
      "  7.4  7.5  7.6  7.7  7.8  7.9  8.   8.1  8.2  8.3  8.4  8.5  8.6  8.7\n",
      "  8.8  8.9  9.   9.1  9.2  9.3  9.4  9.5  9.6  9.7  9.8  9.9 10.  10.1\n",
      " 10.2 10.3 10.4 10.5 10.6 10.7 10.8 10.9 11. ] \n",
      "metallicity: [1.0e-05 1.0e-04 1.0e-03 2.0e-03 3.0e-03 4.0e-03 6.0e-03 8.0e-03 1.0e-02\n",
      " 1.4e-02 2.0e-02 3.0e-02 4.0e-02] \n",
      "CMB: None \n",
      "T_floor: 100 \n",
      "abundance_scalings_carbon: GalacticConcordance \n",
      "abundance_scalings_nitrogen: GalacticConcordance \n",
      "alpha: 0.0 \n",
      "axes: ['log10age' 'metallicity'] \n",
      "axes_alternative: ['log10ages' 'metallicities'] \n",
      "cloudy_version: c23.01 \n",
      "constant_density: True \n",
      "cosmic_rays: True \n",
      "depletion_model: Jenkins2009_Gunasekera2021 \n",
      "depletion_scale: 0.5 \n",
      "geometry: spherical \n",
      "grains: Orion \n",
      "hydrogen_density: 1000.0 \n",
      "incident_axes: ['log10age' 'metallicity'] \n",
      "ionisation_parameter_model: ref \n",
      "iterate_to_convergence: True \n",
      "log10age: [ 6.   6.1  6.2  6.3  6.4  6.5  6.6  6.7  6.8  6.9  7.   7.1  7.2  7.3\n",
      "  7.4  7.5  7.6  7.7  7.8  7.9  8.   8.1  8.2  8.3  8.4  8.5  8.6  8.7\n",
      "  8.8  8.9  9.   9.1  9.2  9.3  9.4  9.5  9.6  9.7  9.8  9.9 10.  10.1\n",
      " 10.2 10.3 10.4 10.5 10.6 10.7 10.8 10.9 11. ] \n",
      "metallicity: [1.0e-05 1.0e-04 1.0e-03 2.0e-03 3.0e-03 4.0e-03 6.0e-03 8.0e-03 1.0e-02\n",
      " 1.4e-02 2.0e-02 3.0e-02 4.0e-02] \n",
      "output_cont: True \n",
      "output_linelist: linelist-standard.dat \n",
      "parameter_file: c23.01-sps \n",
      "radius: 0.01 \n",
      "reference_abundance: GalacticConcordance \n",
      "reference_ionisation_parameter: 0.01 \n",
      "reference_log10age: 6.0 \n",
      "reference_log10age_index: 0 \n",
      "reference_metallicity: 0.01 \n",
      "reference_metallicity_index: 8 \n",
      "resolution: 1.0 \n",
      "stop_T: 500 \n",
      "stop_efrac: -2 \n",
      "turbulence: 100 \n",
      "z: 0.0 \n",
      "available lines: ['Al 2 1670.79A', 'Ar 3 7135.79A', 'Ar 3 7751.11A', 'Ar 4 2853.66A', 'C 1 1657.91A', 'C 1 1992.01A', 'C 1 2582.90A', 'C 2 1334.53A', 'C 2 1335.66A', 'C 2 1335.71A', 'C 2 2325.40A', 'C 2 2326.93A', 'C 3 1906.68A', 'C 3 1908.73A', 'C 4 1548.19A', 'C 4 1550.77A', 'Ca 2 7291.47A', 'Ca 2 7323.89A', 'Cl 2 8578.70A', 'Fe 2 1.25668m', 'Fe 2 1.27877m', 'Fe 2 1.29427m', 'Fe 2 1.32055m', 'Fe 2 1.32777m', 'Fe 2 1.37181m', 'Fe 2 1.53348m', 'Fe 2 1.59948m', 'Fe 2 1.64355m', 'Fe 2 1.66377m', 'Fe 2 1.67688m', 'Fe 2 1.71113m', 'Fe 2 1.74494m', 'Fe 2 1.79711m', 'Fe 2 1.80002m', 'Fe 2 1.80940m', 'Fe 2 1.89541m', 'Fe 2 1.95361m', 'Fe 2 2395.63A', 'Fe 2 2399.24A', 'Fe 2 2406.66A', 'Fe 2 2410.52A', 'Fe 2 2598.37A', 'Fe 2 2607.09A', 'Fe 2 2611.87A', 'Fe 2 2613.82A', 'Fe 2 2625.67A', 'Fe 2 2628.29A', 'Fe 2 2631.05A', 'Fe 2 2631.32A', 'Fe 2 4243.97A', 'Fe 2 4276.84A', 'Fe 2 4287.39A', 'Fe 2 4319.62A', 'Fe 2 4346.86A', 'Fe 2 4352.79A', 'Fe 2 4358.37A', 'Fe 2 4359.33A', 'Fe 2 4413.78A', 'Fe 2 4416.27A', 'Fe 2 4452.10A', 'Fe 2 4474.90A', 'Fe 2 4814.54A', 'Fe 2 4874.50A', 'Fe 2 4889.62A', 'Fe 2 4905.35A', 'Fe 2 4923.92A', 'Fe 2 4947.39A', 'Fe 2 4973.40A', 'Fe 2 5005.52A', 'Fe 2 5018.44A', 'Fe 2 5020.25A', 'Fe 2 5049.30A', 'Fe 2 5072.41A', 'Fe 2 5111.64A', 'Fe 2 5158.01A', 'Fe 2 5158.79A', 'Fe 2 5169.03A', 'Fe 2 5184.80A', 'Fe 2 5261.63A', 'Fe 2 5273.36A', 'Fe 2 5284.10A', 'Fe 2 5333.66A', 'Fe 2 5376.47A', 'Fe 2 5412.67A', 'Fe 2 5433.15A', 'Fe 2 5527.36A', 'Fe 2 6516.08A', 'Fe 2 7155.17A', 'Fe 2 7172.00A', 'Fe 2 7388.17A', 'Fe 2 7452.56A', 'Fe 2 8616.95A', 'Fe 2 8891.93A', 'Fe 2 9051.95A', 'Fe 2 9226.63A', 'Fe 2 9267.56A', 'Fe 2 9399.04A', 'Fe 2 9470.94A', 'Fe 3 4658.05A', 'Fe 3 4985.87A', 'Fe 3 5270.40A', 'Fe 4 2829.36A', 'Fe 4 2835.74A', 'Fe 4 3094.96A', 'Fe 5 3891.28A', 'Fe 6 3662.50A', 'Fe 6 5176.04A', 'Fe 7 3586.32A', 'Fe 7 3758.92A', 'Fe 7 5720.71A', 'Fe 7 6086.97A', 'H 1 1.00494m', 'H 1 1.09381m', 'H 1 1.28181m', 'H 1 1.87510m', 'H 1 1215.67A', 'H 1 2.16553m', 'H 1 3734.37A', 'H 1 3750.15A', 'H 1 3770.63A', 'H 1 3797.90A', 'H 1 3835.38A', 'H 1 3889.05A', 'H 1 3970.07A', 'H 1 4101.73A', 'H 1 4340.46A', 'H 1 4861.32A', 'H 1 6562.80A', 'H 1 9229.02A', 'H 1 9545.97A', 'He 1 1.08291m', 'He 1 1.08303m', 'He 1 3187.74A', 'He 1 3888.64A', 'He 1 5875.61A', 'He 1 5875.64A', 'He 1 6678.15A', 'He 2 1025.27A', 'He 2 1084.94A', 'He 2 1215.13A', 'He 2 1640.41A', 'He 2 4685.68A', 'Mg 2 2795.53A', 'Mg 2 2802.71A', 'Mg 5 2782.76A', 'Mg 6 1806.00A', 'Mg 7 2628.89A', 'N 2 6548.05A', 'N 2 6583.45A', 'N 3 1749.67A', 'N 4 1486.50A', 'N 5 1238.82A', 'N 5 1242.80A', 'Ne 3 3868.76A', 'Ne 3 3967.47A', 'Ne 4 1601.45A', 'Ne 5 3345.82A', 'Ne 5 3425.88A', 'Ni 2 1.19102m', 'Ni 2 1.93877m', 'Ni 2 6666.80A', 'Ni 2 7377.83A', 'Ni 2 7411.61A', 'O 1 1.12863m', 'O 1 1.12864m', 'O 1 1.12869m', 'O 1 1.12870m', 'O 1 1.12873m', 'O 1 1302.17A', 'O 1 1304.86A', 'O 1 1306.03A', 'O 1 1641.31A', 'O 1 6300.30A', 'O 1 6363.78A', 'O 1 8446.25A', 'O 1 8446.36A', 'O 1 8446.76A', 'O 2 3726.03A', 'O 2 3728.81A', 'O 3 1660.81A', 'O 3 1666.15A', 'O 3 2320.95A', 'O 3 4363.21A', 'O 3 4958.91A', 'O 3 5006.84A', 'O 4 1399.78A', 'O 4 1401.16A', 'O 4 1404.81A', 'O 4 1407.38A', 'O 5 1218.34A', 'O 6 1031.91A', 'O 6 1037.61A', 'S 2 1.02867m', 'S 2 1.03205m', 'S 2 1.03364m', 'S 2 4068.60A', 'S 2 4076.35A', 'S 2 6716.44A', 'S 2 6730.82A', 'S 3 9068.62A', 'S 3 9530.62A', 'Si 2 1179.59A', 'Si 2 1260.42A', 'Si 2 1264.74A', 'Si 2 1265.00A', 'Si 2 1526.71A', 'Si 2 1533.43A', 'Si 3 1206.50A', 'Si 3 1882.71A', 'Si 3 1892.03A', 'Si 4 1393.75A', 'Si 4 1402.77A', 'Si 6 1.96247m', 'Si 7 2.48071m', 'Si 7 2146.64A']\n",
      "available spectra: ['incident', 'linecont', 'nebular', 'transmitted', 'total', 'nebular_continuum']\n",
      "------------------------------\n",
      "\n"
     ]
    }
   ],
   "source": [
    "grid_dir = \"../../../tests/test_grid\"\n",
    "grid_name = \"test_grid\"\n",
    "\n",
    "grid = Grid(grid_name, grid_dir=grid_dir)\n",
    "print(grid)"
   ]
  },
  {
   "cell_type": "markdown",
   "id": "4e761cc1",
   "metadata": {},
   "source": [
    "A `Grid` can also take various arguments to limit the size of the grid by isolating the `Grid` to a region of interest. This is particularly useful when making a large number of spectra from a high resolution `Grid` where the memory footprint can become large.\n",
    "\n",
    "### Passing a wavelength array\n",
    "\n",
    "If you only care about a grid of specific wavelength values you can pass this array and the `Grid` will automatically be interpolated onto the new wavelength array using `spectres`."
   ]
  },
  {
   "cell_type": "code",
   "execution_count": 4,
   "id": "d9006245",
   "metadata": {
    "execution": {
     "iopub.execute_input": "2024-06-12T11:06:52.395998Z",
     "iopub.status.busy": "2024-06-12T11:06:52.395568Z",
     "iopub.status.idle": "2024-06-12T11:06:52.864496Z",
     "shell.execute_reply": "2024-06-12T11:06:52.863815Z"
    }
   },
   "outputs": [
    {
     "name": "stdout",
     "output_type": "stream",
     "text": [
      "(51, 13, 1000)\n"
     ]
    }
   ],
   "source": [
    "# Define a new set of wavelengths\n",
    "new_lams = np.logspace(2, 5, 1000)\n",
    "\n",
    "# Create a new grid\n",
    "grid = Grid(grid_name, grid_dir=grid_dir, new_lam=new_lams)\n",
    "print(grid.shape)"
   ]
  },
  {
   "cell_type": "markdown",
   "id": "67d20f67",
   "metadata": {},
   "source": [
    "# Passing wavelength limits\n",
    "\n",
    "If you don't want to modify the underlying grid resolution but only care about a specific wavelength range you can pass limits to truncate the grid at."
   ]
  },
  {
   "cell_type": "code",
   "execution_count": 5,
   "id": "30039ef3",
   "metadata": {
    "execution": {
     "iopub.execute_input": "2024-06-12T11:06:52.867577Z",
     "iopub.status.busy": "2024-06-12T11:06:52.867045Z",
     "iopub.status.idle": "2024-06-12T11:06:53.042482Z",
     "shell.execute_reply": "2024-06-12T11:06:53.041811Z"
    }
   },
   "outputs": [
    {
     "name": "stdout",
     "output_type": "stream",
     "text": [
      "(51, 13, 691)\n"
     ]
    }
   ],
   "source": [
    "# Create a new grid\n",
    "grid = Grid(grid_name, grid_dir=grid_dir, lam_lims=(10**3, 10**4))\n",
    "print(grid.shape)"
   ]
  },
  {
   "cell_type": "markdown",
   "id": "ab95e88f",
   "metadata": {},
   "source": [
    "You can also pass a `FilterCollection` to isolate the grid to the filter curves you care about. For more details see the the [filter docs](../filters.ipynb)."
   ]
  },
  {
   "cell_type": "markdown",
   "id": "ae701e97-14bb-4abc-95ad-782751c5259f",
   "metadata": {},
   "source": [
    "## Plot a single grid point\n",
    "\n",
    "We can plot the spectra at the location of a single point in our grid. First, we choose some age and metallicity"
   ]
  },
  {
   "cell_type": "code",
   "execution_count": 6,
   "id": "decbb271-c6e2-4e72-b992-b6e5bbb7d039",
   "metadata": {
    "execution": {
     "iopub.execute_input": "2024-06-12T11:06:53.045558Z",
     "iopub.status.busy": "2024-06-12T11:06:53.045102Z",
     "iopub.status.idle": "2024-06-12T11:06:53.201346Z",
     "shell.execute_reply": "2024-06-12T11:06:53.200726Z"
    }
   },
   "outputs": [],
   "source": [
    "# Return to the unmodified grid\n",
    "grid = Grid(grid_name, grid_dir=grid_dir)\n",
    "\n",
    "log10age = 6.0  # log10(age/yr)\n",
    "Z = 0.01  # metallicity"
   ]
  },
  {
   "cell_type": "markdown",
   "id": "0e51fb94-f892-4d56-9424-5432709fa937",
   "metadata": {},
   "source": [
    "We then get the index location of that grid point for this age and metallicity"
   ]
  },
  {
   "cell_type": "code",
   "execution_count": 7,
   "id": "b95a6646-917b-431e-b2d1-72d08dee0f9d",
   "metadata": {
    "execution": {
     "iopub.execute_input": "2024-06-12T11:06:53.204567Z",
     "iopub.status.busy": "2024-06-12T11:06:53.204332Z",
     "iopub.status.idle": "2024-06-12T11:06:53.207781Z",
     "shell.execute_reply": "2024-06-12T11:06:53.207184Z"
    }
   },
   "outputs": [],
   "source": [
    "grid_point = grid.get_grid_point((log10age, Z))"
   ]
  },
  {
   "cell_type": "markdown",
   "id": "8704a652-2145-4d24-af2a-b81e23853daf",
   "metadata": {},
   "source": [
    "We can then loop over the available spectra (contained in `grid.spec_names`) and plot"
   ]
  },
  {
   "cell_type": "code",
   "execution_count": 8,
   "id": "423dea3a-1a67-4f21-b26c-99008ebb8860",
   "metadata": {
    "execution": {
     "iopub.execute_input": "2024-06-12T11:06:53.210519Z",
     "iopub.status.busy": "2024-06-12T11:06:53.210110Z",
     "iopub.status.idle": "2024-06-12T11:06:53.585849Z",
     "shell.execute_reply": "2024-06-12T11:06:53.585181Z"
    }
   },
   "outputs": [
    {
     "name": "stderr",
     "output_type": "stream",
     "text": [
      "/opt/hostedtoolcache/Python/3.10.14/x64/lib/python3.10/site-packages/unyt/array.py:1824: RuntimeWarning: divide by zero encountered in log10\n",
      "  out_arr = func(np.asarray(inp), out=out_func, **kwargs)\n"
     ]
    },
    {
     "data": {
      "text/plain": [
       "Text(0, 0.5, '$\\\\rm log_{10}(L_{\\\\nu}/erg\\\\ s^{-1}\\\\ Hz^{-1} M_{\\\\odot}^{-1})$')"
      ]
     },
     "execution_count": 8,
     "metadata": {},
     "output_type": "execute_result"
    },
    {
     "data": {
      "image/png": "[encoded data removed]",
      "text/plain": [
       "<Figure size 640x480 with 1 Axes>"
      ]
     },
     "metadata": {},
     "output_type": "display_data"
    }
   ],
   "source": [
    "for spectra_id in grid.available_spectra:\n",
    "    # get Sed object\n",
    "    sed = grid.get_spectra(grid_point, spectra_id=spectra_id)\n",
    "    plt.plot(\n",
    "        np.log10(sed.lam), np.log10(sed.lnu), lw=1, alpha=0.8, label=spectra_id\n",
    "    )\n",
    "\n",
    "plt.legend(fontsize=8, labelspacing=0.0)\n",
    "plt.xlabel(r\"$\\rm log_{10}(\\lambda/\\AA)$\")\n",
    "plt.ylabel(r\"$\\rm log_{10}(L_{\\nu}/erg\\ s^{-1}\\ Hz^{-1} M_{\\odot}^{-1})$\")"
   ]
  },
  {
   "cell_type": "markdown",
   "id": "7a1625be-deef-4730-bf48-a30422507224",
   "metadata": {},
   "source": [
    "## Plot ionising luminosities\n",
    "\n",
    "We can also plot properties over the entire age and metallicity grid, such as the ionising luminosity. \n",
    "\n",
    "In the examples below we plot ionising luminosities for HI and HeII"
   ]
  },
  {
   "cell_type": "code",
   "execution_count": 9,
   "id": "eb8088ad-e7ef-4600-941d-0c8b01c59a5d",
   "metadata": {
    "execution": {
     "iopub.execute_input": "2024-06-12T11:06:53.588619Z",
     "iopub.status.busy": "2024-06-12T11:06:53.588393Z",
     "iopub.status.idle": "2024-06-12T11:06:53.996871Z",
     "shell.execute_reply": "2024-06-12T11:06:53.996109Z"
    }
   },
   "outputs": [
    {
     "data": {
      "image/png": "[encoded data removed]",
      "text/plain": [
       "<Figure size 350x403.846 with 2 Axes>"
      ]
     },
     "metadata": {},
     "output_type": "display_data"
    }
   ],
   "source": [
    "fig, ax = grid.plot_specific_ionising_lum(ion=\"HI\")"
   ]
  },
  {
   "cell_type": "code",
   "execution_count": 10,
   "id": "3ac8ca54-9707-4125-9715-d878a0ed5e27",
   "metadata": {
    "execution": {
     "iopub.execute_input": "2024-06-12T11:06:54.001603Z",
     "iopub.status.busy": "2024-06-12T11:06:54.000466Z",
     "iopub.status.idle": "2024-06-12T11:06:54.313304Z",
     "shell.execute_reply": "2024-06-12T11:06:54.312625Z"
    }
   },
   "outputs": [
    {
     "data": {
      "image/png": "[encoded data removed]",
      "text/plain": [
       "<Figure size 350x403.846 with 2 Axes>"
      ]
     },
     "metadata": {},
     "output_type": "display_data"
    }
   ],
   "source": [
    "fig, ax = grid.plot_specific_ionising_lum(ion=\"HeII\")"
   ]
  },
  {
   "cell_type": "markdown",
   "id": "5df5b437-a1d1-4c86-98fc-c1d63e22bc81",
   "metadata": {},
   "source": [
    "## 3D grids\n",
    "\n",
    "This functionality is currently in development - come back soon!"
   ]
  },
  {
   "cell_type": "code",
   "execution_count": 11,
   "id": "d3c28490-b793-4a8e-a33e-426fd3609fa8",
   "metadata": {
    "execution": {
     "iopub.execute_input": "2024-06-12T11:06:54.316996Z",
     "iopub.status.busy": "2024-06-12T11:06:54.316278Z",
     "iopub.status.idle": "2024-06-12T11:06:54.320258Z",
     "shell.execute_reply": "2024-06-12T11:06:54.319601Z"
    }
   },
   "outputs": [],
   "source": [
    "# grid_name = 'test_grid3D'\n",
    "\n",
    "# grid = Grid(grid_name, grid_dir=grid_dir)\n",
    "# print(grid)"
   ]
  },
  {
   "cell_type": "markdown",
   "id": "c3c32247-626e-48ce-b51a-7a1f3174bdc8",
   "metadata": {},
   "source": [
    "## Resampling Grids\n",
    "\n",
    "If you want to resample a grid after istantiation you can apply the `intrep_spectra` method."
   ]
  },
  {
   "cell_type": "code",
   "execution_count": 12,
   "id": "fa0f7d5d",
   "metadata": {
    "execution": {
     "iopub.execute_input": "2024-06-12T11:06:54.323210Z",
     "iopub.status.busy": "2024-06-12T11:06:54.322968Z",
     "iopub.status.idle": "2024-06-12T11:06:55.087315Z",
     "shell.execute_reply": "2024-06-12T11:06:55.086693Z"
    }
   },
   "outputs": [
    {
     "name": "stdout",
     "output_type": "stream",
     "text": [
      "The old grid had dimensions: (51, 13, 9244)\n"
     ]
    },
    {
     "name": "stdout",
     "output_type": "stream",
     "text": [
      "The interpolated grid has dimensions: (51, 13, 10000)\n"
     ]
    }
   ],
   "source": [
    "# Define a new set of wavelengths\n",
    "new_lams = np.logspace(2, 5, 10000)\n",
    "\n",
    "print(\"The old grid had dimensions:\", grid.spectra[\"incident\"].shape)\n",
    "\n",
    "# Get the grid interpolated onto the new wavelength array\n",
    "grid.interp_spectra(new_lam=new_lams)\n",
    "\n",
    "print(\"The interpolated grid has dimensions:\", grid.spectra[\"incident\"].shape)"
   ]
  },
  {
   "cell_type": "markdown",
   "id": "e094b8c5",
   "metadata": {},
   "source": [
    "Note that this will overwrite the spectra and wavelengths read from the file. To get them back a separate `Grid` can be instatiated without the modified wavelength array."
   ]
  },
  {
   "cell_type": "markdown",
   "id": "10bbb357",
   "metadata": {},
   "source": [
    "## Converting a `Grid` into an `Sed`\n",
    "\n",
    "Any of the spectra arrays stored within a `Grid` can be returned as `Sed` objects (see the `Sed` [docs](../sed.ipynb)). This enables all of the analysis methods provide on an Sed to be used on the whole spectra grid. To do this we simply call `get_sed` with the spectra type we want to extract and then use any of the included methods."
   ]
  },
  {
   "cell_type": "code",
   "execution_count": 13,
   "id": "2ef7ddad",
   "metadata": {
    "execution": {
     "iopub.execute_input": "2024-06-12T11:06:55.090319Z",
     "iopub.status.busy": "2024-06-12T11:06:55.089890Z",
     "iopub.status.idle": "2024-06-12T11:06:55.265231Z",
     "shell.execute_reply": "2024-06-12T11:06:55.264584Z"
    }
   },
   "outputs": [
    {
     "data": {
      "text/plain": [
       "unyt_array([[0.08518092, 0.04107345, 0.03848784, 0.03598645, 0.16612903],\n",
       "       [0.05080407, 0.05062285, 0.04784261, 0.06253009, 0.06164604],\n",
       "       [0.06468213, 0.06470033, 0.06267823, 0.05629725, 0.0420861 ],\n",
       "       [0.07813083, 0.06881685, 0.0617963 , 0.06000003, 0.04734562],\n",
       "       [0.09209187, 0.07461474, 0.06562301, 0.05503354, 0.05379628]], '(dimensionless)')"
      ]
     },
     "execution_count": 13,
     "metadata": {},
     "output_type": "execute_result"
    }
   ],
   "source": [
    "# Get the sed object\n",
    "sed = grid.get_sed(spectra_type=\"incident\")\n",
    "\n",
    "# Measure the balmer break for all spectra in the grid (limiting the output)\n",
    "sed.measure_balmer_break()[5:10, 5:10]"
   ]
  },
  {
   "cell_type": "markdown",
   "id": "4c159d2a",
   "metadata": {},
   "source": [
    "## Unifying a `Grid` with a `FilterCollection`\n",
    "\n",
    "It's important when working with a `Grid` and any `Filter` objects (see the filter [docs](../filters.ipynb)) to have a single wavelength array shared between the two to ensure filter transmission curves are applied correctly. Additionally, when focused on photometry in certain filters focus a `Grid`'s spectral range to that of the filters in question can drastically reduce the memory footprint of a calculation. \n",
    "\n",
    "To ensure the former and enable the latter a `Grid` provides the `unify_with_filters` method. This method will take a `FilterCollection` as an arguement and interpolate the `Grid` spectra onto the filters' wavelength array. You can also initialise a `Grid` by passing the filter collection via the `filters` keyword argument at instantiation.\n",
    "\n",
    "We demonstrate this below using a set of `UVJ` filters. "
   ]
  },
  {
   "cell_type": "code",
   "execution_count": 14,
   "id": "8ab7e7b1",
   "metadata": {
    "execution": {
     "iopub.execute_input": "2024-06-12T11:06:55.268371Z",
     "iopub.status.busy": "2024-06-12T11:06:55.267903Z",
     "iopub.status.idle": "2024-06-12T11:06:57.794497Z",
     "shell.execute_reply": "2024-06-12T11:06:57.793904Z"
    }
   },
   "outputs": [
    {
     "name": "stdout",
     "output_type": "stream",
     "text": [
      "Calculated wavelength array: \n",
      "min = 3.31e+03 Angstrom\n",
      "max = 1.33e+04 Angstrom\n",
      "FilterCollection.lam.size = 75014\n",
      "Shape before: (51, 13, 10000)\n",
      "Shape after: (51, 13, 2010)\n"
     ]
    }
   ],
   "source": [
    "from synthesizer.filters import UVJ\n",
    "\n",
    "# Get the filter collection\n",
    "fc = UVJ()\n",
    "\n",
    "print(\"Shape before:\", grid.spectra[\"incident\"].shape)\n",
    "\n",
    "# Unify the grid with this filter collection\n",
    "grid.unify_with_filters(fc)\n",
    "\n",
    "print(\"Shape after:\", grid.spectra[\"incident\"].shape)\n",
    "\n",
    "# Or you can get the grid interpolated onto the filter wavelength\n",
    "# at the point of initialisation\n",
    "grid = Grid(grid_name, grid_dir=grid_dir, filters=fc)"
   ]
  }
 ],
 "metadata": {
  "kernelspec": {
   "display_name": "synthesizer-env",
   "language": "python",
   "name": "python3"
  },
  "language_info": {
   "codemirror_mode": {
    "name": "ipython",
    "version": 3
   },
   "file_extension": ".py",
   "mimetype": "text/x-python",
   "name": "python",
   "nbconvert_exporter": "python",
   "pygments_lexer": "ipython3",
   "version": "3.10.14"
  }
 },
 "nbformat": 4,
 "nbformat_minor": 5
}
