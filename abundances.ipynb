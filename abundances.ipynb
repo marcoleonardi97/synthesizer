{
 "cells": [
  {
   "attachments": {},
   "cell_type": "markdown",
   "metadata": {},
   "source": [
    "# Abundances\n",
    "\n",
    "`synthesizer` can be used to generate abundance patterns, in total and for gas and dust individually, for a given metallicity, alpha ehancement, and arbitrary element scalings.\n",
    "\n",
    "At present this functionality is only utilised when creating cloudy input scripts. These scripts are used to calculate nebular line and continuum emission for a given incident spectral energy distribution and gas abundance pattern."
   ]
  },
  {
   "cell_type": "code",
   "execution_count": 1,
   "metadata": {
    "execution": {
     "iopub.execute_input": "2024-02-14T10:58:19.943954Z",
     "iopub.status.busy": "2024-02-14T10:58:19.943755Z",
     "iopub.status.idle": "2024-02-14T10:58:21.866370Z",
     "shell.execute_reply": "2024-02-14T10:58:21.865631Z"
    }
   },
   "outputs": [],
   "source": [
    "import numpy as np\n",
    "from synthesizer.abundances import (\n",
    "    Abundances,\n",
    "    abundance_scalings,\n",
    "    solar_abundance_patterns,\n",
    "    depletion_models,\n",
    "    plot_abundance_pattern,\n",
    "    plot_multiple_abundance_patterns,\n",
    ")"
   ]
  },
  {
   "attachments": {},
   "cell_type": "markdown",
   "metadata": {},
   "source": [
    "by default initialising `Abundances` creates a solar abundance pattern with no depletion. The default solar abundance pattern is Asplund et al. (2009), though this can be changed if desired. "
   ]
  },
  {
   "cell_type": "code",
   "execution_count": 2,
   "metadata": {
    "execution": {
     "iopub.execute_input": "2024-02-14T10:58:21.870273Z",
     "iopub.status.busy": "2024-02-14T10:58:21.869707Z",
     "iopub.status.idle": "2024-02-14T10:58:21.873161Z",
     "shell.execute_reply": "2024-02-14T10:58:21.872548Z"
    }
   },
   "outputs": [],
   "source": [
    "a0 = Abundances()"
   ]
  },
  {
   "attachments": {},
   "cell_type": "markdown",
   "metadata": {},
   "source": [
    "like most `synthesizer` objects we can explore the important attributes of an object by using `print()`:"
   ]
  },
  {
   "cell_type": "code",
   "execution_count": 3,
   "metadata": {
    "execution": {
     "iopub.execute_input": "2024-02-14T10:58:21.876060Z",
     "iopub.status.busy": "2024-02-14T10:58:21.875613Z",
     "iopub.status.idle": "2024-02-14T10:58:21.880003Z",
     "shell.execute_reply": "2024-02-14T10:58:21.879282Z"
    }
   },
   "outputs": [
    {
     "name": "stdout",
     "output_type": "stream",
     "text": [
      "--------------------\n",
      "ABUNDANCE PATTERN SUMMARY\n",
      "X: 0.714\n",
      "Y: 0.272\n",
      "Z: 0.013\n",
      "Z/Z_sol: 1\n",
      "alpha: 0.000\n",
      "dust mass fraction: 0.0\n",
      "dust-to-metal ratio: 0.0\n",
      "----------\n",
      "Element          log10(X/H)       log10(X/H)+12    [X/H]            depletion        log10(X/H)_gas   log10(X/H)_dust \n",
      "Hydrogen         0.00             12.00            0.00             1.00             0.00             -inf            \n",
      "Helium           -1.02            10.98            0.05             1.00             -1.02            -inf            \n",
      "Lithium          -10.94           1.06             0.01             1.00             -10.94           -inf            \n",
      "Beryllium        -10.61           1.39             0.01             1.00             -10.61           -inf            \n",
      "Boron            -9.29            2.71             0.01             1.00             -9.29            -inf            \n",
      "Carbon           -3.56            8.44             0.01             1.00             -3.56            -inf            \n",
      "Nitrogen         -4.16            7.84             0.01             1.00             -4.16            -inf            \n",
      "Oxygen           -3.30            8.70             0.01             1.00             -3.30            -inf            \n",
      "Fluorine         -7.43            4.57             0.01             1.00             -7.43            -inf            \n",
      "Neon             -4.06            7.94             0.01             1.00             -4.06            -inf            \n",
      "Sodium           -5.06            6.94             0.01             1.00             -5.06            -inf            \n",
      "Magnesium        -4.39            7.61             0.01             1.00             -4.39            -inf            \n",
      "Aluminium        -5.54            6.46             0.01             1.00             -5.54            -inf            \n",
      "Silicon          -4.48            7.52             0.01             1.00             -4.48            -inf            \n",
      "Phosphorus       -6.58            5.42             0.01             1.00             -6.58            -inf            \n",
      "Sulphur          -4.87            7.13             0.01             1.00             -4.87            -inf            \n",
      "Chlorine         -6.49            5.51             0.01             1.00             -6.49            -inf            \n",
      "Argon            -5.59            6.41             0.01             1.00             -5.59            -inf            \n",
      "Potassium        -6.96            5.04             0.01             1.00             -6.96            -inf            \n",
      "Calcium          -5.65            6.35             0.01             1.00             -5.65            -inf            \n",
      "Scandium         -8.84            3.16             0.01             1.00             -8.84            -inf            \n",
      "Titanium         -7.04            4.96             0.01             1.00             -7.04            -inf            \n",
      "Vanadium         -8.06            3.94             0.01             1.00             -8.06            -inf            \n",
      "Chromium         -6.35            5.65             0.01             1.00             -6.35            -inf            \n",
      "Manganese        -6.56            5.44             0.01             1.00             -6.56            -inf            \n",
      "Iron             -4.49            7.51             0.01             1.00             -4.49            -inf            \n",
      "Cobalt           -7.00            5.00             0.01             1.00             -7.00            -inf            \n",
      "Nickel           -5.77            6.23             0.01             1.00             -5.77            -inf            \n",
      "Copper           -7.80            4.20             0.01             1.00             -7.80            -inf            \n",
      "Zinc             -7.43            4.57             0.01             1.00             -7.43            -inf            \n",
      "--------------------\n"
     ]
    }
   ],
   "source": [
    "print(a0)"
   ]
  },
  {
   "attachments": {},
   "cell_type": "markdown",
   "metadata": {},
   "source": [
    "You can access the logarithmic abundances ($\\log_{10}(N_X/N_H)$) of an element like this:"
   ]
  },
  {
   "cell_type": "code",
   "execution_count": 4,
   "metadata": {
    "execution": {
     "iopub.execute_input": "2024-02-14T10:58:21.978718Z",
     "iopub.status.busy": "2024-02-14T10:58:21.978244Z",
     "iopub.status.idle": "2024-02-14T10:58:21.982084Z",
     "shell.execute_reply": "2024-02-14T10:58:21.981393Z"
    }
   },
   "outputs": [
    {
     "name": "stdout",
     "output_type": "stream",
     "text": [
      "log10(O/H): -3.30\n",
      "log10(O/H): -3.30\n"
     ]
    }
   ],
   "source": [
    "print(f\"log10(O/H): {a0.total['O']:.2f}\")\n",
    "print(f\"log10(O/H): {a0['O']:.2f}\")"
   ]
  },
  {
   "attachments": {},
   "cell_type": "markdown",
   "metadata": {},
   "source": [
    "### Solar abundance pattern\n",
    "\n",
    "As noted, there are several Solar abundance patterns built into `synthesizer`. These can be accessed from `synthesizer.abundances.SolarAbundances`:"
   ]
  },
  {
   "cell_type": "code",
   "execution_count": 5,
   "metadata": {
    "execution": {
     "iopub.execute_input": "2024-02-14T10:58:21.984872Z",
     "iopub.status.busy": "2024-02-14T10:58:21.984395Z",
     "iopub.status.idle": "2024-02-14T10:58:21.990521Z",
     "shell.execute_reply": "2024-02-14T10:58:21.989889Z"
    }
   },
   "outputs": [
    {
     "data": {
      "text/plain": [
       "['Asplund2009', 'Gutkin2016']"
      ]
     },
     "execution_count": 5,
     "metadata": {},
     "output_type": "execute_result"
    }
   ],
   "source": [
    "solar_abundance_patterns.available_patterns"
   ]
  },
  {
   "cell_type": "code",
   "execution_count": 6,
   "metadata": {
    "execution": {
     "iopub.execute_input": "2024-02-14T10:58:21.993260Z",
     "iopub.status.busy": "2024-02-14T10:58:21.992891Z",
     "iopub.status.idle": "2024-02-14T10:58:21.997597Z",
     "shell.execute_reply": "2024-02-14T10:58:21.996936Z"
    }
   },
   "outputs": [
    {
     "data": {
      "text/plain": [
       "{'H': 0.0,\n",
       " 'He': -1.07,\n",
       " 'Li': -10.95,\n",
       " 'Be': -10.62,\n",
       " 'B': -9.3,\n",
       " 'C': -3.57,\n",
       " 'N': -4.17,\n",
       " 'O': -3.31,\n",
       " 'F': -7.44,\n",
       " 'Ne': -4.07,\n",
       " 'Na': -5.07,\n",
       " 'Mg': -4.4,\n",
       " 'Al': -5.55,\n",
       " 'Si': -4.49,\n",
       " 'P': -6.59,\n",
       " 'S': -4.88,\n",
       " 'Cl': -6.5,\n",
       " 'Ar': -5.6,\n",
       " 'K': -6.97,\n",
       " 'Ca': -5.66,\n",
       " 'Sc': -8.85,\n",
       " 'Ti': -7.05,\n",
       " 'V': -8.07,\n",
       " 'Cr': -6.36,\n",
       " 'Mn': -6.57,\n",
       " 'Fe': -4.5,\n",
       " 'Co': -7.01,\n",
       " 'Ni': -5.78,\n",
       " 'Cu': -7.81,\n",
       " 'Zn': -7.44}"
      ]
     },
     "execution_count": 6,
     "metadata": {},
     "output_type": "execute_result"
    }
   ],
   "source": [
    "solar = solar_abundance_patterns.Asplund2009\n",
    "solar.ads\n",
    "solar.abundance"
   ]
  },
  {
   "cell_type": "code",
   "execution_count": 7,
   "metadata": {
    "execution": {
     "iopub.execute_input": "2024-02-14T10:58:22.000227Z",
     "iopub.status.busy": "2024-02-14T10:58:21.999789Z",
     "iopub.status.idle": "2024-02-14T10:58:22.004211Z",
     "shell.execute_reply": "2024-02-14T10:58:22.003578Z"
    }
   },
   "outputs": [
    {
     "name": "stdout",
     "output_type": "stream",
     "text": [
      "--------------------\n",
      "ABUNDANCE PATTERN SUMMARY\n",
      "X: 0.709\n",
      "Y: 0.276\n",
      "Z: 0.015\n",
      "Z/Z_sol: 1\n",
      "alpha: 0.000\n",
      "dust mass fraction: 0.0\n",
      "dust-to-metal ratio: 0.0\n",
      "----------\n",
      "Element          log10(X/H)       log10(X/H)+12    [X/H]            depletion        log10(X/H)_gas   log10(X/H)_dust \n",
      "Hydrogen         0.00             12.00            0.00             1.00             0.00             -inf            \n",
      "Helium           -1.01            10.99            -0.00            1.00             -1.01            -inf            \n",
      "Lithium          -10.99           1.01             0.00             1.00             -10.99           -inf            \n",
      "Beryllium        -10.63           1.37             0.00             1.00             -10.63           -inf            \n",
      "Boron            -9.47            2.53             0.00             1.00             -9.47            -inf            \n",
      "Carbon           -3.53            8.47             0.00             1.00             -3.53            -inf            \n",
      "Nitrogen         -4.32            7.68             0.00             1.00             -4.32            -inf            \n",
      "Oxygen           -3.17            8.83             0.00             1.00             -3.17            -inf            \n",
      "Fluorine         -7.44            4.56             0.00             1.00             -7.44            -inf            \n",
      "Neon             -4.01            7.99             0.00             1.00             -4.01            -inf            \n",
      "Sodium           -5.70            6.30             0.00             1.00             -5.70            -inf            \n",
      "Magnesium        -4.45            7.55             0.00             1.00             -4.45            -inf            \n",
      "Aluminium        -5.56            6.44             0.00             1.00             -5.56            -inf            \n",
      "Silicon          -4.48            7.52             0.00             1.00             -4.48            -inf            \n",
      "Phosphorus       -6.57            5.43             0.00             1.00             -6.57            -inf            \n",
      "Sulphur          -4.87            7.13             0.00             1.00             -4.87            -inf            \n",
      "Chlorine         -6.53            5.47             0.00             1.00             -6.53            -inf            \n",
      "Argon            -5.63            6.37             0.00             1.00             -5.63            -inf            \n",
      "Potassium        -6.92            5.08             0.00             1.00             -6.92            -inf            \n",
      "Calcium          -5.67            6.33             0.00             1.00             -5.67            -inf            \n",
      "Scandium         -8.86            3.14             0.00             1.00             -8.86            -inf            \n",
      "Titanium         -7.01            4.99             0.00             1.00             -7.01            -inf            \n",
      "Vanadium         -8.03            3.97             0.00             1.00             -8.03            -inf            \n",
      "Chromium         -6.36            5.64             0.00             1.00             -6.36            -inf            \n",
      "Manganese        -6.64            5.36             0.00             1.00             -6.64            -inf            \n",
      "Iron             -4.51            7.49             0.00             1.00             -4.51            -inf            \n",
      "Cobalt           -7.11            4.89             0.00             1.00             -7.11            -inf            \n",
      "Nickel           -5.78            6.22             0.00             1.00             -5.78            -inf            \n",
      "Copper           -7.82            4.18             0.00             1.00             -7.82            -inf            \n",
      "Zinc             -7.43            4.57             0.00             1.00             -7.43            -inf            \n",
      "--------------------\n"
     ]
    }
   ],
   "source": [
    "a1 = Abundances(solar=solar_abundance_patterns.Gutkin2016)\n",
    "print(a1)"
   ]
  },
  {
   "attachments": {},
   "cell_type": "markdown",
   "metadata": {},
   "source": [
    "Solar abundance classes can also be called using a string representation of the name."
   ]
  },
  {
   "cell_type": "code",
   "execution_count": 8,
   "metadata": {
    "execution": {
     "iopub.execute_input": "2024-02-14T10:58:22.006918Z",
     "iopub.status.busy": "2024-02-14T10:58:22.006500Z",
     "iopub.status.idle": "2024-02-14T10:58:22.010518Z",
     "shell.execute_reply": "2024-02-14T10:58:22.009876Z"
    }
   },
   "outputs": [
    {
     "name": "stdout",
     "output_type": "stream",
     "text": [
      "--------------------\n",
      "ABUNDANCE PATTERN SUMMARY\n",
      "X: 0.709\n",
      "Y: 0.276\n",
      "Z: 0.015\n",
      "Z/Z_sol: 1\n",
      "alpha: 0.000\n",
      "dust mass fraction: 0.0\n",
      "dust-to-metal ratio: 0.0\n",
      "----------\n",
      "Element          log10(X/H)       log10(X/H)+12    [X/H]            depletion        log10(X/H)_gas   log10(X/H)_dust \n",
      "Hydrogen         0.00             12.00            0.00             1.00             0.00             -inf            \n",
      "Helium           -1.01            10.99            -0.00            1.00             -1.01            -inf            \n",
      "Lithium          -10.99           1.01             0.00             1.00             -10.99           -inf            \n",
      "Beryllium        -10.63           1.37             0.00             1.00             -10.63           -inf            \n",
      "Boron            -9.47            2.53             0.00             1.00             -9.47            -inf            \n",
      "Carbon           -3.53            8.47             0.00             1.00             -3.53            -inf            \n",
      "Nitrogen         -4.32            7.68             0.00             1.00             -4.32            -inf            \n",
      "Oxygen           -3.17            8.83             0.00             1.00             -3.17            -inf            \n",
      "Fluorine         -7.44            4.56             0.00             1.00             -7.44            -inf            \n",
      "Neon             -4.01            7.99             0.00             1.00             -4.01            -inf            \n",
      "Sodium           -5.70            6.30             0.00             1.00             -5.70            -inf            \n",
      "Magnesium        -4.45            7.55             0.00             1.00             -4.45            -inf            \n",
      "Aluminium        -5.56            6.44             0.00             1.00             -5.56            -inf            \n",
      "Silicon          -4.48            7.52             0.00             1.00             -4.48            -inf            \n",
      "Phosphorus       -6.57            5.43             0.00             1.00             -6.57            -inf            \n",
      "Sulphur          -4.87            7.13             0.00             1.00             -4.87            -inf            \n",
      "Chlorine         -6.53            5.47             0.00             1.00             -6.53            -inf            \n",
      "Argon            -5.63            6.37             0.00             1.00             -5.63            -inf            \n",
      "Potassium        -6.92            5.08             0.00             1.00             -6.92            -inf            \n",
      "Calcium          -5.67            6.33             0.00             1.00             -5.67            -inf            \n",
      "Scandium         -8.86            3.14             0.00             1.00             -8.86            -inf            \n",
      "Titanium         -7.01            4.99             0.00             1.00             -7.01            -inf            \n",
      "Vanadium         -8.03            3.97             0.00             1.00             -8.03            -inf            \n",
      "Chromium         -6.36            5.64             0.00             1.00             -6.36            -inf            \n",
      "Manganese        -6.64            5.36             0.00             1.00             -6.64            -inf            \n",
      "Iron             -4.51            7.49             0.00             1.00             -4.51            -inf            \n",
      "Cobalt           -7.11            4.89             0.00             1.00             -7.11            -inf            \n",
      "Nickel           -5.78            6.22             0.00             1.00             -5.78            -inf            \n",
      "Copper           -7.82            4.18             0.00             1.00             -7.82            -inf            \n",
      "Zinc             -7.43            4.57             0.00             1.00             -7.43            -inf            \n",
      "--------------------\n"
     ]
    }
   ],
   "source": [
    "a1 = Abundances(solar='Gutkin2016')\n",
    "print(a1)"
   ]
  },
  {
   "attachments": {},
   "cell_type": "markdown",
   "metadata": {},
   "source": [
    "### Metallicity\n",
    "\n",
    "We can specify a different metallicity. By default abundances are scaled from the Solar abundances provided through an optional argument (default Asplund et a. 2009). However, as we will see later, it is possible to set a different $\\alpha$-enhancement or set arbitrary element scalings."
   ]
  },
  {
   "cell_type": "code",
   "execution_count": 9,
   "metadata": {
    "execution": {
     "iopub.execute_input": "2024-02-14T10:58:22.013256Z",
     "iopub.status.busy": "2024-02-14T10:58:22.012885Z",
     "iopub.status.idle": "2024-02-14T10:58:22.016512Z",
     "shell.execute_reply": "2024-02-14T10:58:22.015917Z"
    }
   },
   "outputs": [
    {
     "name": "stdout",
     "output_type": "stream",
     "text": [
      "--------------------\n",
      "ABUNDANCE PATTERN SUMMARY\n",
      "X: 0.724\n",
      "Y: 0.266\n",
      "Z: 0.010\n",
      "Z/Z_sol: 0.75\n",
      "alpha: 0.000\n",
      "dust mass fraction: 0.0\n",
      "dust-to-metal ratio: 0.0\n",
      "----------\n",
      "Element          log10(X/H)       log10(X/H)+12    [X/H]            depletion        log10(X/H)_gas   log10(X/H)_dust \n",
      "Hydrogen         0.00             12.00            0.00             1.00             0.00             -inf            \n",
      "Helium           -1.04            10.96            0.03             1.00             -1.04            -inf            \n",
      "Lithium          -11.07           0.93             -0.12            1.00             -11.07           -inf            \n",
      "Beryllium        -10.74           1.26             -0.12            1.00             -10.74           -inf            \n",
      "Boron            -9.42            2.58             -0.12            1.00             -9.42            -inf            \n",
      "Carbon           -3.69            8.31             -0.12            1.00             -3.69            -inf            \n",
      "Nitrogen         -4.29            7.71             -0.12            1.00             -4.29            -inf            \n",
      "Oxygen           -3.43            8.57             -0.12            1.00             -3.43            -inf            \n",
      "Fluorine         -7.56            4.44             -0.12            1.00             -7.56            -inf            \n",
      "Neon             -4.19            7.81             -0.12            1.00             -4.19            -inf            \n",
      "Sodium           -5.19            6.81             -0.12            1.00             -5.19            -inf            \n",
      "Magnesium        -4.52            7.48             -0.12            1.00             -4.52            -inf            \n",
      "Aluminium        -5.67            6.33             -0.12            1.00             -5.67            -inf            \n",
      "Silicon          -4.61            7.39             -0.12            1.00             -4.61            -inf            \n",
      "Phosphorus       -6.71            5.29             -0.12            1.00             -6.71            -inf            \n",
      "Sulphur          -5.00            7.00             -0.12            1.00             -5.00            -inf            \n",
      "Chlorine         -6.62            5.38             -0.12            1.00             -6.62            -inf            \n",
      "Argon            -5.72            6.28             -0.12            1.00             -5.72            -inf            \n",
      "Potassium        -7.09            4.91             -0.12            1.00             -7.09            -inf            \n",
      "Calcium          -5.78            6.22             -0.12            1.00             -5.78            -inf            \n",
      "Scandium         -8.97            3.03             -0.12            1.00             -8.97            -inf            \n",
      "Titanium         -7.17            4.83             -0.12            1.00             -7.17            -inf            \n",
      "Vanadium         -8.19            3.81             -0.12            1.00             -8.19            -inf            \n",
      "Chromium         -6.48            5.52             -0.12            1.00             -6.48            -inf            \n",
      "Manganese        -6.69            5.31             -0.12            1.00             -6.69            -inf            \n",
      "Iron             -4.62            7.38             -0.12            1.00             -4.62            -inf            \n",
      "Cobalt           -7.13            4.87             -0.12            1.00             -7.13            -inf            \n",
      "Nickel           -5.90            6.10             -0.12            1.00             -5.90            -inf            \n",
      "Copper           -7.93            4.07             -0.12            1.00             -7.93            -inf            \n",
      "Zinc             -7.56            4.44             -0.12            1.00             -7.56            -inf            \n",
      "--------------------\n"
     ]
    }
   ],
   "source": [
    "a2 = Abundances(metallicity=0.01)\n",
    "print(a2)"
   ]
  },
  {
   "attachments": {},
   "cell_type": "markdown",
   "metadata": {},
   "source": [
    "## $\\alpha$-enhancement\n",
    "\n",
    "We can also generate abundance patterns assuming different $\\alpha$-enhancements. In this case it is necessary to re-scale the non-$\\alpha$ elements to recover the input metallicity."
   ]
  },
  {
   "cell_type": "code",
   "execution_count": 10,
   "metadata": {
    "execution": {
     "iopub.execute_input": "2024-02-14T10:58:22.028253Z",
     "iopub.status.busy": "2024-02-14T10:58:22.027852Z",
     "iopub.status.idle": "2024-02-14T10:58:22.031948Z",
     "shell.execute_reply": "2024-02-14T10:58:22.031282Z"
    }
   },
   "outputs": [
    {
     "name": "stdout",
     "output_type": "stream",
     "text": [
      "--------------------\n",
      "ABUNDANCE PATTERN SUMMARY\n",
      "X: 0.714\n",
      "Y: 0.272\n",
      "Z: 0.013\n",
      "Z/Z_sol: 1\n",
      "alpha: 0.600\n",
      "dust mass fraction: 0.0\n",
      "dust-to-metal ratio: 0.0\n",
      "----------\n",
      "Element          log10(X/H)       log10(X/H)+12    [X/H]            depletion        log10(X/H)_gas   log10(X/H)_dust \n",
      "Hydrogen         0.00             12.00            0.00             1.00             0.00             -inf            \n",
      "Helium           -1.02            10.98            0.05             1.00             -1.02            -inf            \n",
      "Lithium          -11.41           0.59             -0.46            1.00             -11.41           -inf            \n",
      "Beryllium        -11.08           0.92             -0.46            1.00             -11.08           -inf            \n",
      "Boron            -9.76            2.24             -0.46            1.00             -9.76            -inf            \n",
      "Carbon           -4.03            7.97             -0.46            1.00             -4.03            -inf            \n",
      "Nitrogen         -4.63            7.37             -0.46            1.00             -4.63            -inf            \n",
      "Oxygen           -3.17            8.83             0.14             1.00             -3.17            -inf            \n",
      "Fluorine         -7.90            4.10             -0.46            1.00             -7.90            -inf            \n",
      "Neon             -3.93            8.07             0.14             1.00             -3.93            -inf            \n",
      "Sodium           -5.53            6.47             -0.46            1.00             -5.53            -inf            \n",
      "Magnesium        -4.26            7.74             0.14             1.00             -4.26            -inf            \n",
      "Aluminium        -6.01            5.99             -0.46            1.00             -6.01            -inf            \n",
      "Silicon          -4.35            7.65             0.14             1.00             -4.35            -inf            \n",
      "Phosphorus       -7.05            4.95             -0.46            1.00             -7.05            -inf            \n",
      "Sulphur          -4.74            7.26             0.14             1.00             -4.74            -inf            \n",
      "Chlorine         -6.96            5.04             -0.46            1.00             -6.96            -inf            \n",
      "Argon            -5.46            6.54             0.14             1.00             -5.46            -inf            \n",
      "Potassium        -7.43            4.57             -0.46            1.00             -7.43            -inf            \n",
      "Calcium          -5.52            6.48             0.14             1.00             -5.52            -inf            \n",
      "Scandium         -9.31            2.69             -0.46            1.00             -9.31            -inf            \n",
      "Titanium         -6.91            5.09             0.14             1.00             -6.91            -inf            \n",
      "Vanadium         -8.53            3.47             -0.46            1.00             -8.53            -inf            \n",
      "Chromium         -6.82            5.18             -0.46            1.00             -6.82            -inf            \n",
      "Manganese        -7.03            4.97             -0.46            1.00             -7.03            -inf            \n",
      "Iron             -4.96            7.04             -0.46            1.00             -4.96            -inf            \n",
      "Cobalt           -7.47            4.53             -0.46            1.00             -7.47            -inf            \n",
      "Nickel           -6.24            5.76             -0.46            1.00             -6.24            -inf            \n",
      "Copper           -8.27            3.73             -0.46            1.00             -8.27            -inf            \n",
      "Zinc             -7.90            4.10             -0.46            1.00             -7.90            -inf            \n",
      "--------------------\n"
     ]
    }
   ],
   "source": [
    "a3 = Abundances(alpha=0.6)\n",
    "print(a3)"
   ]
  },
  {
   "attachments": {},
   "cell_type": "markdown",
   "metadata": {},
   "source": [
    "We can print a relative solar abundance like this:"
   ]
  },
  {
   "cell_type": "code",
   "execution_count": 11,
   "metadata": {
    "execution": {
     "iopub.execute_input": "2024-02-14T10:58:22.034468Z",
     "iopub.status.busy": "2024-02-14T10:58:22.034078Z",
     "iopub.status.idle": "2024-02-14T10:58:22.037693Z",
     "shell.execute_reply": "2024-02-14T10:58:22.037084Z"
    }
   },
   "outputs": [
    {
     "name": "stdout",
     "output_type": "stream",
     "text": [
      "[O/Fe] = 0.60\n",
      "[O/Fe] = 0.60\n",
      "[B/Fe] = 0.00\n"
     ]
    }
   ],
   "source": [
    "print(f\"[O/Fe] = {a3.solar_relative_abundance('O', ref_element='Fe'):.2f}\")\n",
    "print(f\"[O/Fe] = {a3['[O/Fe]']:.2f}\")\n",
    "print(f\"[B/Fe] = {a3['[B/Fe]']:.2f}\")"
   ]
  },
  {
   "attachments": {},
   "cell_type": "markdown",
   "metadata": {},
   "source": [
    "That, is, as expected given that we set $\\alpha=0.6$."
   ]
  },
  {
   "attachments": {},
   "cell_type": "markdown",
   "metadata": {},
   "source": [
    "### Depletion\n",
    "\n",
    "To account for metals being locked up in dust, we can also specify a depletion pattern. It is possible to either provide a dictionary of values or specify one of the in-built patterns. "
   ]
  },
  {
   "cell_type": "code",
   "execution_count": 12,
   "metadata": {
    "execution": {
     "iopub.execute_input": "2024-02-14T10:58:22.040321Z",
     "iopub.status.busy": "2024-02-14T10:58:22.039957Z",
     "iopub.status.idle": "2024-02-14T10:58:22.043718Z",
     "shell.execute_reply": "2024-02-14T10:58:22.043039Z"
    }
   },
   "outputs": [
    {
     "name": "stdout",
     "output_type": "stream",
     "text": [
      "--------------------\n",
      "ABUNDANCE PATTERN SUMMARY\n",
      "X: 0.724\n",
      "Y: 0.266\n",
      "Z: 0.010\n",
      "Z/Z_sol: 0.75\n",
      "alpha: 0.000\n",
      "dust mass fraction: 2.7121636539887433e-05\n",
      "dust-to-metal ratio: 0.002712163653988743\n",
      "----------\n",
      "Element          log10(X/H)       log10(X/H)+12    [X/H]            depletion        log10(X/H)_gas   log10(X/H)_dust \n",
      "Hydrogen         0.00             12.00            0.00             1.00             0.00             -inf            \n",
      "Helium           -1.04            10.96            0.03             1.00             -1.04            -inf            \n",
      "Lithium          -11.07           0.93             -0.12            1.00             -11.07           -inf            \n",
      "Beryllium        -10.74           1.26             -0.12            1.00             -10.74           -inf            \n",
      "Boron            -9.42            2.58             -0.12            1.00             -9.42            -inf            \n",
      "Carbon           -3.69            8.31             -0.12            0.99             -3.70            -5.69           \n",
      "Nitrogen         -4.29            7.71             -0.12            1.00             -4.29            -inf            \n",
      "Oxygen           -3.43            8.57             -0.12            1.00             -3.43            -inf            \n",
      "Fluorine         -7.56            4.44             -0.12            1.00             -7.56            -inf            \n",
      "Neon             -4.19            7.81             -0.12            1.00             -4.19            -inf            \n",
      "Sodium           -5.19            6.81             -0.12            1.00             -5.19            -inf            \n",
      "Magnesium        -4.52            7.48             -0.12            1.00             -4.52            -inf            \n",
      "Aluminium        -5.67            6.33             -0.12            1.00             -5.67            -inf            \n",
      "Silicon          -4.61            7.39             -0.12            1.00             -4.61            -inf            \n",
      "Phosphorus       -6.71            5.29             -0.12            1.00             -6.71            -inf            \n",
      "Sulphur          -5.00            7.00             -0.12            1.00             -5.00            -inf            \n",
      "Chlorine         -6.62            5.38             -0.12            1.00             -6.62            -inf            \n",
      "Argon            -5.72            6.28             -0.12            1.00             -5.72            -inf            \n",
      "Potassium        -7.09            4.91             -0.12            1.00             -7.09            -inf            \n",
      "Calcium          -5.78            6.22             -0.12            1.00             -5.78            -inf            \n",
      "Scandium         -8.97            3.03             -0.12            1.00             -8.97            -inf            \n",
      "Titanium         -7.17            4.83             -0.12            1.00             -7.17            -inf            \n",
      "Vanadium         -8.19            3.81             -0.12            1.00             -8.19            -inf            \n",
      "Chromium         -6.48            5.52             -0.12            1.00             -6.48            -inf            \n",
      "Manganese        -6.69            5.31             -0.12            1.00             -6.69            -inf            \n",
      "Iron             -4.62            7.38             -0.12            0.99             -4.63            -6.62           \n",
      "Cobalt           -7.13            4.87             -0.12            1.00             -7.13            -inf            \n",
      "Nickel           -5.90            6.10             -0.12            1.00             -5.90            -inf            \n",
      "Copper           -7.93            4.07             -0.12            1.00             -7.93            -inf            \n",
      "Zinc             -7.56            4.44             -0.12            1.00             -7.56            -inf            \n",
      "--------------------\n"
     ]
    }
   ],
   "source": [
    "# assume 99% of Carbon and Iron are depleted on to dust\n",
    "depletion = {'C': 0.99, 'Fe': 0.99}\n",
    "\n",
    "# calculate the abundance patterns, now included gas and dust separately\n",
    "a4 = Abundances(metallicity=0.01, depletion=depletion)\n",
    "print(a4)"
   ]
  },
  {
   "cell_type": "code",
   "execution_count": 13,
   "metadata": {
    "execution": {
     "iopub.execute_input": "2024-02-14T10:58:22.046358Z",
     "iopub.status.busy": "2024-02-14T10:58:22.045967Z",
     "iopub.status.idle": "2024-02-14T10:58:22.049851Z",
     "shell.execute_reply": "2024-02-14T10:58:22.049202Z"
    }
   },
   "outputs": [
    {
     "name": "stdout",
     "output_type": "stream",
     "text": [
      "--------------------\n",
      "ABUNDANCE PATTERN SUMMARY\n",
      "X: 0.708\n",
      "Y: 0.276\n",
      "Z: 0.016\n",
      "Z/Z_sol: 1\n",
      "alpha: 0.000\n",
      "dust mass fraction: 0.0062629182900424815\n",
      "dust-to-metal ratio: 0.40146912115656935\n",
      "----------\n",
      "Element          log10(X/H)       log10(X/H)+12    [X/H]            depletion        log10(X/H)_gas   log10(X/H)_dust \n",
      "Hydrogen         0.00             12.00            0.00             1.00             0.00             -inf            \n",
      "Helium           -1.01            10.99            -0.00            1.00             -1.01            -inf            \n",
      "Lithium          -10.98           1.02             0.01             0.16             -11.77           -11.05          \n",
      "Beryllium        -10.62           1.38             0.01             0.60             -10.84           -11.01          \n",
      "Boron            -9.46            2.54             0.01             0.13             -10.34           -9.52           \n",
      "Carbon           -3.52            8.48             0.01             0.50             -3.82            -3.82           \n",
      "Nitrogen         -4.31            7.69             0.01             1.00             -4.31            -inf            \n",
      "Oxygen           -3.16            8.84             0.01             0.70             -3.31            -3.68           \n",
      "Fluorine         -7.43            4.57             0.01             0.30             -7.95            -7.58           \n",
      "Neon             -4.00            8.00             0.01             1.00             -4.00            -inf            \n",
      "Sodium           -5.69            6.31             0.01             0.25             -6.29            -5.81           \n",
      "Magnesium        -4.44            7.56             0.01             0.20             -5.13            -4.53           \n",
      "Aluminium        -5.55            6.45             0.01             0.02             -7.24            -5.55           \n",
      "Silicon          -4.47            7.53             0.01             0.10             -5.47            -4.51           \n",
      "Phosphorus       -6.56            5.44             0.01             0.25             -7.16            -6.68           \n",
      "Sulphur          -4.86            7.14             0.01             1.00             -4.86            -inf            \n",
      "Chlorine         -6.52            5.48             0.01             0.50             -6.82            -6.82           \n",
      "Argon            -5.62            6.38             0.01             1.00             -5.62            -inf            \n",
      "Potassium        -6.91            5.09             0.01             0.30             -7.43            -7.06           \n",
      "Calcium          -5.66            6.34             0.01             0.00             -8.18            -5.66           \n",
      "Scandium         -8.85            3.15             0.01             0.01             -11.15           -8.85           \n",
      "Titanium         -7.00            5.00             0.01             0.01             -9.09            -7.00           \n",
      "Vanadium         -8.02            3.98             0.01             0.01             -10.24           -8.02           \n",
      "Chromium         -6.35            5.65             0.01             0.01             -8.57            -6.35           \n",
      "Manganese        -6.63            5.37             0.01             0.05             -7.93            -6.65           \n",
      "Iron             -4.50            7.50             0.01             0.01             -6.50            -4.50           \n",
      "Cobalt           -7.10            4.90             0.01             0.01             -9.10            -7.10           \n",
      "Nickel           -5.77            6.23             0.01             0.04             -7.16            -5.78           \n",
      "Copper           -7.81            4.19             0.01             0.10             -8.81            -7.85           \n",
      "Zinc             -7.42            4.58             0.01             0.25             -8.02            -7.54           \n",
      "--------------------\n"
     ]
    }
   ],
   "source": [
    "a5 = Abundances(metallicity=0.0156, solar=solar_abundance_patterns.Gutkin2016, depletion_model=depletion_models.Gutkin2016)\n",
    "print(a5)"
   ]
  },
  {
   "cell_type": "code",
   "execution_count": 14,
   "metadata": {
    "execution": {
     "iopub.execute_input": "2024-02-14T10:58:22.052325Z",
     "iopub.status.busy": "2024-02-14T10:58:22.051963Z",
     "iopub.status.idle": "2024-02-14T10:58:22.055909Z",
     "shell.execute_reply": "2024-02-14T10:58:22.055294Z"
    }
   },
   "outputs": [
    {
     "name": "stdout",
     "output_type": "stream",
     "text": [
      "--------------------\n",
      "ABUNDANCE PATTERN SUMMARY\n",
      "X: 0.708\n",
      "Y: 0.276\n",
      "Z: 0.016\n",
      "Z/Z_sol: 1\n",
      "alpha: 0.000\n",
      "dust mass fraction: 0.007361330259064843\n",
      "dust-to-metal ratio: 0.4718801448118489\n",
      "----------\n",
      "Element          log10(X/H)       log10(X/H)+12    [X/H]            depletion        log10(X/H)_gas   log10(X/H)_dust \n",
      "Hydrogen         0.00             12.00            0.00             1.00             0.00             -inf            \n",
      "Helium           -1.01            10.99            -0.00            1.00             -1.01            -inf            \n",
      "Lithium          -10.98           1.02             0.01             0.16             -11.77           -11.05          \n",
      "Beryllium        -10.62           1.38             0.01             0.60             -10.84           -11.01          \n",
      "Boron            -9.46            2.54             0.01             0.13             -10.34           -9.52           \n",
      "Carbon           -3.52            8.48             0.01             0.40             -3.91            -3.74           \n",
      "Nitrogen         -4.31            7.69             0.01             1.00             -4.31            -inf            \n",
      "Oxygen           -3.16            8.84             0.01             0.60             -3.38            -3.55           \n",
      "Fluorine         -7.43            4.57             0.01             0.30             -7.95            -7.58           \n",
      "Neon             -4.00            8.00             0.01             1.00             -4.00            -inf            \n",
      "Sodium           -5.69            6.31             0.01             0.20             -6.38            -5.78           \n",
      "Magnesium        -4.44            7.56             0.01             0.20             -5.13            -4.53           \n",
      "Aluminium        -5.55            6.45             0.01             0.01             -7.55            -5.55           \n",
      "Silicon          -4.47            7.53             0.01             0.03             -5.99            -4.48           \n",
      "Phosphorus       -6.56            5.44             0.01             0.25             -7.16            -6.68           \n",
      "Sulphur          -4.86            7.14             0.01             1.00             -4.86            -inf            \n",
      "Chlorine         -6.52            5.48             0.01             0.40             -6.91            -6.74           \n",
      "Argon            -5.62            6.38             0.01             1.00             -5.62            -inf            \n",
      "Potassium        -6.91            5.09             0.01             0.30             -7.43            -7.06           \n",
      "Calcium          -5.66            6.34             0.01             0.00             -9.66            -5.66           \n",
      "Scandium         -8.85            3.15             0.01             0.01             -11.15           -8.85           \n",
      "Titanium         -7.00            5.00             0.01             0.01             -9.09            -7.00           \n",
      "Vanadium         -8.02            3.98             0.01             0.01             -10.24           -8.02           \n",
      "Chromium         -6.35            5.65             0.01             0.01             -8.57            -6.35           \n",
      "Manganese        -6.63            5.37             0.01             0.05             -7.93            -6.65           \n",
      "Iron             -4.50            7.50             0.01             0.01             -6.50            -4.50           \n",
      "Cobalt           -7.10            4.90             0.01             0.01             -9.10            -7.10           \n",
      "Nickel           -5.77            6.23             0.01             0.01             -7.77            -5.77           \n",
      "Copper           -7.81            4.19             0.01             0.10             -8.81            -7.85           \n",
      "Zinc             -7.42            4.58             0.01             0.25             -8.02            -7.54           \n",
      "--------------------\n"
     ]
    }
   ],
   "source": [
    "a6 = Abundances(metallicity=0.0156, solar=solar_abundance_patterns.Gutkin2016, depletion_model=depletion_models.CloudyClassic)\n",
    "print(a6)"
   ]
  },
  {
   "cell_type": "code",
   "execution_count": 15,
   "metadata": {
    "execution": {
     "iopub.execute_input": "2024-02-14T10:58:22.058427Z",
     "iopub.status.busy": "2024-02-14T10:58:22.057987Z",
     "iopub.status.idle": "2024-02-14T10:58:22.061940Z",
     "shell.execute_reply": "2024-02-14T10:58:22.061313Z"
    }
   },
   "outputs": [
    {
     "name": "stdout",
     "output_type": "stream",
     "text": [
      "--------------------\n",
      "ABUNDANCE PATTERN SUMMARY\n",
      "X: 0.708\n",
      "Y: 0.276\n",
      "Z: 0.016\n",
      "Z/Z_sol: 1\n",
      "alpha: 0.000\n",
      "dust mass fraction: 0.0056559939410910235\n",
      "dust-to-metal ratio: 0.3625637141725015\n",
      "----------\n",
      "Element          log10(X/H)       log10(X/H)+12    [X/H]            depletion        log10(X/H)_gas   log10(X/H)_dust \n",
      "Hydrogen         0.00             12.00            0.00             1.00             0.00             -inf            \n",
      "Helium           -1.01            10.99            -0.00            1.00             -1.01            -inf            \n",
      "Lithium          -10.98           1.02             0.01             0.15             -11.79           -11.05          \n",
      "Beryllium        -10.62           1.38             0.01             1.00             -10.62           -inf            \n",
      "Boron            -9.46            2.54             0.01             0.69             -9.62            -9.96           \n",
      "Carbon           -3.52            8.48             0.01             0.69             -3.68            -4.03           \n",
      "Nitrogen         -4.31            7.69             0.01             0.78             -4.42            -4.96           \n",
      "Oxygen           -3.16            8.84             0.01             0.75             -3.28            -3.75           \n",
      "Fluorine         -7.43            4.57             0.01             1.00             -7.43            -inf            \n",
      "Neon             -4.00            8.00             0.01             1.00             -4.00            -inf            \n",
      "Sodium           -5.69            6.31             0.01             0.01             -7.71            -5.69           \n",
      "Magnesium        -4.44            7.56             0.01             0.17             -5.21            -4.52           \n",
      "Aluminium        -5.55            6.45             0.01             0.03             -7.03            -5.56           \n",
      "Silicon          -4.47            7.53             0.01             0.16             -5.25            -4.54           \n",
      "Phosphorus       -6.56            5.44             0.01             0.66             -6.73            -7.03           \n",
      "Sulphur          -4.86            7.14             0.01             0.53             -5.13            -5.18           \n",
      "Chlorine         -6.52            5.48             0.01             0.67             -6.69            -7.00           \n",
      "Argon            -5.62            6.38             0.01             0.41             -6.01            -5.84           \n",
      "Potassium        -6.91            5.09             0.01             0.12             -7.83            -6.96           \n",
      "Calcium          -5.66            6.34             0.01             0.00             -8.33            -5.66           \n",
      "Scandium         -8.85            3.15             0.01             1.00             -8.85            -inf            \n",
      "Titanium         -7.00            5.00             0.01             0.01             -9.10            -7.00           \n",
      "Vanadium         -8.02            3.98             0.01             1.00             -8.02            -inf            \n",
      "Chromium         -6.35            5.65             0.01             0.03             -7.90            -6.36           \n",
      "Manganese        -6.63            5.37             0.01             0.05             -7.96            -6.65           \n",
      "Iron             -4.50            7.50             0.01             0.03             -6.08            -4.51           \n",
      "Cobalt           -7.10            4.90             0.01             1.00             -7.10            -inf            \n",
      "Nickel           -5.77            6.23             0.01             0.02             -7.45            -5.77           \n",
      "Copper           -7.81            4.19             0.01             0.11             -8.76            -7.86           \n",
      "Zinc             -7.42            4.58             0.01             0.57             -7.66            -7.78           \n",
      "--------------------\n"
     ]
    }
   ],
   "source": [
    "a7 = Abundances(metallicity=0.0156, solar=solar_abundance_patterns.Gutkin2016, depletion_model=depletion_models.Jenkins2009)\n",
    "print(a7)"
   ]
  },
  {
   "attachments": {},
   "cell_type": "markdown",
   "metadata": {},
   "source": [
    "When specifying an in-built pattern it's also possible to specify an optional scaling parameter depending on the particular model.\n",
    "\n",
    "Below we explore the effect of $F_{*}$ on the depletion factors for N, O, and S. "
   ]
  },
  {
   "cell_type": "code",
   "execution_count": 16,
   "metadata": {
    "execution": {
     "iopub.execute_input": "2024-02-14T10:58:22.064523Z",
     "iopub.status.busy": "2024-02-14T10:58:22.064204Z",
     "iopub.status.idle": "2024-02-14T10:58:22.068282Z",
     "shell.execute_reply": "2024-02-14T10:58:22.067666Z"
    }
   },
   "outputs": [
    {
     "name": "stdout",
     "output_type": "stream",
     "text": [
      "N -----\n",
      "0.0 0.78 -0.11\n",
      "0.5 0.78 -0.11\n",
      "1.0 0.78 -0.11\n",
      "O -----\n",
      "0.0 0.97 -0.01\n",
      "0.5 0.75 -0.13\n",
      "1.0 0.57 -0.24\n",
      "S -----\n",
      "0.0 1.46 0.17\n",
      "0.5 0.53 -0.27\n",
      "1.0 0.19 -0.71\n"
     ]
    }
   ],
   "source": [
    "\n",
    "for element in ['N','O', 'S']:\n",
    "    print(element, '-'*5)\n",
    "    for fstar in [0.0, 0.5, 1.0]:\n",
    "        depletion = depletion_models.Jenkins2009(fstar).depletion[element]\n",
    "        print(f\"{fstar} {depletion:.2f} {np.log10(depletion):.2f}\")"
   ]
  },
  {
   "attachments": {},
   "cell_type": "markdown",
   "metadata": {},
   "source": [
    "Next, we explore the effect of $F_{*}$ on the dust mass fraction and dust-to-metal ratio ($\\xi_{d}$):"
   ]
  },
  {
   "cell_type": "code",
   "execution_count": 17,
   "metadata": {
    "execution": {
     "iopub.execute_input": "2024-02-14T10:58:22.070774Z",
     "iopub.status.busy": "2024-02-14T10:58:22.070429Z",
     "iopub.status.idle": "2024-02-14T10:58:22.075166Z",
     "shell.execute_reply": "2024-02-14T10:58:22.074512Z"
    }
   },
   "outputs": [
    {
     "name": "stdout",
     "output_type": "stream",
     "text": [
      "0.0 0.0028 0.18\n",
      "0.1 0.0034 0.22\n",
      "0.25 0.0044 0.28\n",
      "0.5 0.0057 0.36\n",
      "1.0 0.0075 0.48\n"
     ]
    }
   ],
   "source": [
    "for fstar in [0.0, 0.1, 0.25, 0.5, 1.0]:\n",
    "    a = Abundances(metallicity=0.0156, solar=solar_abundance_patterns.Gutkin2016, depletion_model=depletion_models.Jenkins2009, depletion_scale=fstar)\n",
    "    print(fstar, f'{a.dust_mass_fraction:.4f}', f'{a.dust_to_metal_ratio:.2f}')\n"
   ]
  },
  {
   "attachments": {},
   "cell_type": "markdown",
   "metadata": {},
   "source": [
    "When the depletion is applied the total, gas, and dust abundance patterns are provided e.g."
   ]
  },
  {
   "cell_type": "code",
   "execution_count": 18,
   "metadata": {
    "execution": {
     "iopub.execute_input": "2024-02-14T10:58:22.077732Z",
     "iopub.status.busy": "2024-02-14T10:58:22.077288Z",
     "iopub.status.idle": "2024-02-14T10:58:22.080875Z",
     "shell.execute_reply": "2024-02-14T10:58:22.080252Z"
    }
   },
   "outputs": [
    {
     "name": "stdout",
     "output_type": "stream",
     "text": [
      "log10(C_total/H) : -3.52\n",
      "log10(C_gas/H) : -3.68\n",
      "log10(C_dust/H) : -4.03\n"
     ]
    }
   ],
   "source": [
    "print(f'log10(C_total/H) : {a7.total[\"C\"]:.2f}')\n",
    "print(f'log10(C_gas/H) : {a7.gas[\"C\"]:.2f}')\n",
    "print(f'log10(C_dust/H) : {a7.dust[\"C\"]:.2f}')"
   ]
  },
  {
   "attachments": {},
   "cell_type": "markdown",
   "metadata": {},
   "source": [
    "### Arbitrary element scaling\n",
    "\n",
    "We can also change the abundance of any specific element (or set of elements), with the abundances of other elements rescaled self-consistently to yield the correct metallicity. \n",
    "\n",
    "If the abundance is a float it is the logarithmic abundance ($\\log_{10}(X/H)$) while if it is a string it is one of the in-built functions that scale the abundance with metallicity (e.g. the model proposed by Dopita et al. 2006). Note, combining this with a non-zero `alpha` can lead to a mild inconsistency."
   ]
  },
  {
   "attachments": {},
   "cell_type": "markdown",
   "metadata": {},
   "source": [
    "Using a float:"
   ]
  },
  {
   "cell_type": "code",
   "execution_count": 19,
   "metadata": {
    "execution": {
     "iopub.execute_input": "2024-02-14T10:58:22.083449Z",
     "iopub.status.busy": "2024-02-14T10:58:22.083253Z",
     "iopub.status.idle": "2024-02-14T10:58:22.086983Z",
     "shell.execute_reply": "2024-02-14T10:58:22.086370Z"
    }
   },
   "outputs": [
    {
     "name": "stdout",
     "output_type": "stream",
     "text": [
      "--------------------\n",
      "ABUNDANCE PATTERN SUMMARY\n",
      "X: 0.714\n",
      "Y: 0.272\n",
      "Z: 0.013\n",
      "Z/Z_sol: 1\n",
      "alpha: 0.000\n",
      "dust mass fraction: 0.0\n",
      "dust-to-metal ratio: 0.0\n",
      "----------\n",
      "Element          log10(X/H)       log10(X/H)+12    [X/H]            depletion        log10(X/H)_gas   log10(X/H)_dust \n",
      "Hydrogen         0.00             12.00            0.00             1.00             0.00             -inf            \n",
      "Helium           -1.02            10.98            0.05             1.00             -1.02            -inf            \n",
      "Lithium          -10.93           1.07             0.02             1.00             -10.93           -inf            \n",
      "Beryllium        -10.60           1.40             0.02             1.00             -10.60           -inf            \n",
      "Boron            -9.28            2.72             0.02             1.00             -9.28            -inf            \n",
      "Carbon           -3.55            8.45             0.02             1.00             -3.55            -inf            \n",
      "Nitrogen         -4.50            7.50             -0.33            1.00             -4.50            -inf            \n",
      "Oxygen           -3.29            8.71             0.02             1.00             -3.29            -inf            \n",
      "Fluorine         -7.42            4.58             0.02             1.00             -7.42            -inf            \n",
      "Neon             -4.05            7.95             0.02             1.00             -4.05            -inf            \n",
      "Sodium           -5.05            6.95             0.02             1.00             -5.05            -inf            \n",
      "Magnesium        -4.38            7.62             0.02             1.00             -4.38            -inf            \n",
      "Aluminium        -5.53            6.47             0.02             1.00             -5.53            -inf            \n",
      "Silicon          -4.47            7.53             0.02             1.00             -4.47            -inf            \n",
      "Phosphorus       -6.57            5.43             0.02             1.00             -6.57            -inf            \n",
      "Sulphur          -4.86            7.14             0.02             1.00             -4.86            -inf            \n",
      "Chlorine         -6.48            5.52             0.02             1.00             -6.48            -inf            \n",
      "Argon            -5.58            6.42             0.02             1.00             -5.58            -inf            \n",
      "Potassium        -6.95            5.05             0.02             1.00             -6.95            -inf            \n",
      "Calcium          -5.64            6.36             0.02             1.00             -5.64            -inf            \n",
      "Scandium         -8.83            3.17             0.02             1.00             -8.83            -inf            \n",
      "Titanium         -7.03            4.97             0.02             1.00             -7.03            -inf            \n",
      "Vanadium         -8.05            3.95             0.02             1.00             -8.05            -inf            \n",
      "Chromium         -6.34            5.66             0.02             1.00             -6.34            -inf            \n",
      "Manganese        -6.55            5.45             0.02             1.00             -6.55            -inf            \n",
      "Iron             -4.48            7.52             0.02             1.00             -4.48            -inf            \n",
      "Cobalt           -6.99            5.01             0.02             1.00             -6.99            -inf            \n",
      "Nickel           -5.76            6.24             0.02             1.00             -5.76            -inf            \n",
      "Copper           -7.79            4.21             0.02             1.00             -7.79            -inf            \n",
      "Zinc             -7.42            4.58             0.02             1.00             -7.42            -inf            \n",
      "--------------------\n"
     ]
    }
   ],
   "source": [
    "a8 = Abundances(metallicity=0.0134, abundances={\"N\": -4.5})\n",
    "print(a8)"
   ]
  },
  {
   "attachments": {},
   "cell_type": "markdown",
   "metadata": {},
   "source": [
    "Using a specified function:"
   ]
  },
  {
   "cell_type": "code",
   "execution_count": 20,
   "metadata": {
    "execution": {
     "iopub.execute_input": "2024-02-14T10:58:22.089308Z",
     "iopub.status.busy": "2024-02-14T10:58:22.089114Z",
     "iopub.status.idle": "2024-02-14T10:58:22.092667Z",
     "shell.execute_reply": "2024-02-14T10:58:22.092024Z"
    }
   },
   "outputs": [
    {
     "name": "stdout",
     "output_type": "stream",
     "text": [
      "--------------------\n",
      "ABUNDANCE PATTERN SUMMARY\n",
      "X: 0.714\n",
      "Y: 0.272\n",
      "Z: 0.013\n",
      "Z/Z_sol: 1\n",
      "alpha: 0.000\n",
      "dust mass fraction: 0.0\n",
      "dust-to-metal ratio: 0.0\n",
      "----------\n",
      "Element          log10(X/H)       log10(X/H)+12    [X/H]            depletion        log10(X/H)_gas   log10(X/H)_dust \n",
      "Hydrogen         0.00             12.00            0.00             1.00             0.00             -inf            \n",
      "Helium           -1.02            10.98            0.05             1.00             -1.02            -inf            \n",
      "Lithium          -10.93           1.07             0.02             1.00             -10.93           -inf            \n",
      "Beryllium        -10.60           1.40             0.02             1.00             -10.60           -inf            \n",
      "Boron            -9.28            2.72             0.02             1.00             -9.28            -inf            \n",
      "Carbon           -3.55            8.45             0.02             1.00             -3.55            -inf            \n",
      "Nitrogen         -4.36            7.64             -0.19            1.00             -4.36            -inf            \n",
      "Oxygen           -3.29            8.71             0.02             1.00             -3.29            -inf            \n",
      "Fluorine         -7.42            4.58             0.02             1.00             -7.42            -inf            \n",
      "Neon             -4.05            7.95             0.02             1.00             -4.05            -inf            \n",
      "Sodium           -5.05            6.95             0.02             1.00             -5.05            -inf            \n",
      "Magnesium        -4.38            7.62             0.02             1.00             -4.38            -inf            \n",
      "Aluminium        -5.53            6.47             0.02             1.00             -5.53            -inf            \n",
      "Silicon          -4.47            7.53             0.02             1.00             -4.47            -inf            \n",
      "Phosphorus       -6.57            5.43             0.02             1.00             -6.57            -inf            \n",
      "Sulphur          -4.86            7.14             0.02             1.00             -4.86            -inf            \n",
      "Chlorine         -6.48            5.52             0.02             1.00             -6.48            -inf            \n",
      "Argon            -5.58            6.42             0.02             1.00             -5.58            -inf            \n",
      "Potassium        -6.95            5.05             0.02             1.00             -6.95            -inf            \n",
      "Calcium          -5.64            6.36             0.02             1.00             -5.64            -inf            \n",
      "Scandium         -8.83            3.17             0.02             1.00             -8.83            -inf            \n",
      "Titanium         -7.03            4.97             0.02             1.00             -7.03            -inf            \n",
      "Vanadium         -8.05            3.95             0.02             1.00             -8.05            -inf            \n",
      "Chromium         -6.34            5.66             0.02             1.00             -6.34            -inf            \n",
      "Manganese        -6.55            5.45             0.02             1.00             -6.55            -inf            \n",
      "Iron             -4.48            7.52             0.02             1.00             -4.48            -inf            \n",
      "Cobalt           -6.99            5.01             0.02             1.00             -6.99            -inf            \n",
      "Nickel           -5.76            6.24             0.02             1.00             -5.76            -inf            \n",
      "Copper           -7.79            4.21             0.02             1.00             -7.79            -inf            \n",
      "Zinc             -7.42            4.58             0.02             1.00             -7.42            -inf            \n",
      "--------------------\n"
     ]
    }
   ],
   "source": [
    "a9 = Abundances(metallicity=0.0134, abundances={\"N\": \"Dopita2006\"})\n",
    "print(a9)"
   ]
  },
  {
   "attachments": {},
   "cell_type": "markdown",
   "metadata": {},
   "source": [
    "We can also access the scaling functions directly:"
   ]
  },
  {
   "cell_type": "code",
   "execution_count": 21,
   "metadata": {
    "execution": {
     "iopub.execute_input": "2024-02-14T10:58:22.095447Z",
     "iopub.status.busy": "2024-02-14T10:58:22.095073Z",
     "iopub.status.idle": "2024-02-14T10:58:22.099322Z",
     "shell.execute_reply": "2024-02-14T10:58:22.098698Z"
    }
   },
   "outputs": [
    {
     "data": {
      "text/plain": [
       "['Dopita2006']"
      ]
     },
     "execution_count": 21,
     "metadata": {},
     "output_type": "execute_result"
    }
   ],
   "source": [
    "abundance_scalings.available_scalings"
   ]
  },
  {
   "cell_type": "code",
   "execution_count": 22,
   "metadata": {
    "execution": {
     "iopub.execute_input": "2024-02-14T10:58:22.101778Z",
     "iopub.status.busy": "2024-02-14T10:58:22.101417Z",
     "iopub.status.idle": "2024-02-14T10:58:22.105498Z",
     "shell.execute_reply": "2024-02-14T10:58:22.104973Z"
    }
   },
   "outputs": [
    {
     "data": {
      "text/plain": [
       "['N', 'C']"
      ]
     },
     "execution_count": 22,
     "metadata": {},
     "output_type": "execute_result"
    }
   ],
   "source": [
    "abundance_scalings.Dopita2006.available_elements"
   ]
  },
  {
   "cell_type": "code",
   "execution_count": 23,
   "metadata": {
    "execution": {
     "iopub.execute_input": "2024-02-14T10:58:22.107927Z",
     "iopub.status.busy": "2024-02-14T10:58:22.107548Z",
     "iopub.status.idle": "2024-02-14T10:58:22.111763Z",
     "shell.execute_reply": "2024-02-14T10:58:22.111095Z"
    }
   },
   "outputs": [
    {
     "data": {
      "text/plain": [
       "-4.221848749616356"
      ]
     },
     "execution_count": 23,
     "metadata": {},
     "output_type": "execute_result"
    }
   ],
   "source": [
    "abundance_scalings.Dopita2006.N(0.016)"
   ]
  },
  {
   "attachments": {},
   "cell_type": "markdown",
   "metadata": {},
   "source": [
    "These functions also include useful meta data:"
   ]
  },
  {
   "cell_type": "code",
   "execution_count": 24,
   "metadata": {
    "execution": {
     "iopub.execute_input": "2024-02-14T10:58:22.114541Z",
     "iopub.status.busy": "2024-02-14T10:58:22.114098Z",
     "iopub.status.idle": "2024-02-14T10:58:22.117902Z",
     "shell.execute_reply": "2024-02-14T10:58:22.117253Z"
    }
   },
   "outputs": [
    {
     "name": "stdout",
     "output_type": "stream",
     "text": [
      "https://ui.adsabs.harvard.edu/abs/2006ApJS..167..177D/abstract\n",
      "10.1086/508261\n"
     ]
    }
   ],
   "source": [
    "print(abundance_scalings.Dopita2006.ads)\n",
    "print(abundance_scalings.Dopita2006.doi)"
   ]
  },
  {
   "attachments": {},
   "cell_type": "markdown",
   "metadata": {},
   "source": [
    "## Plots"
   ]
  },
  {
   "attachments": {},
   "cell_type": "markdown",
   "metadata": {},
   "source": [
    "There are also a helper functions for plotting one or more abundance patterns, here we plot two abundance patterns with different alpha abundances:"
   ]
  },
  {
   "cell_type": "code",
   "execution_count": 25,
   "metadata": {
    "execution": {
     "iopub.execute_input": "2024-02-14T10:58:22.120495Z",
     "iopub.status.busy": "2024-02-14T10:58:22.120278Z",
     "iopub.status.idle": "2024-02-14T10:58:22.806538Z",
     "shell.execute_reply": "2024-02-14T10:58:22.805768Z"
    }
   },
   "outputs": [
    {
     "data": {
      "image/png": "[encoded data removed]",
      "text/plain": [
       "<Figure size 700x400 with 1 Axes>"
      ]
     },
     "metadata": {},
     "output_type": "display_data"
    },
    {
     "data": {
      "text/plain": [
       "(<Figure size 700x400 with 1 Axes>, <Axes: ylabel='$\\\\rm log_{10}(X/H)$'>)"
      ]
     },
     "execution_count": 25,
     "metadata": {},
     "output_type": "execute_result"
    }
   ],
   "source": [
    "plot_multiple_abundance_patterns(\n",
    "    [a2, a3],\n",
    "    labels=[r\"Z=0.01\", r\"Z=0.01; \\alpha = 0.6\"],\n",
    "    show=True,\n",
    "    ylim=[-7.0, -3.0],\n",
    ")"
   ]
  },
  {
   "attachments": {},
   "cell_type": "markdown",
   "metadata": {},
   "source": [
    "We can plot the abundance pattern of each component:"
   ]
  },
  {
   "cell_type": "code",
   "execution_count": 26,
   "metadata": {
    "execution": {
     "iopub.execute_input": "2024-02-14T10:58:22.810168Z",
     "iopub.status.busy": "2024-02-14T10:58:22.809756Z",
     "iopub.status.idle": "2024-02-14T10:58:23.466479Z",
     "shell.execute_reply": "2024-02-14T10:58:23.465727Z"
    }
   },
   "outputs": [
    {
     "data": {
      "image/png": "[encoded data removed]",
      "text/plain": [
       "<Figure size 700x400 with 1 Axes>"
      ]
     },
     "metadata": {},
     "output_type": "display_data"
    },
    {
     "data": {
      "text/plain": [
       "(<Figure size 700x400 with 1 Axes>, <Axes: ylabel='$\\\\rm log_{10}(X/H)$'>)"
      ]
     },
     "execution_count": 26,
     "metadata": {},
     "output_type": "execute_result"
    }
   ],
   "source": [
    "plot_abundance_pattern(\n",
    "    a7, show=True, ylim=[-7.0, -3.0], components=[\"total\", \"gas\", \"dust\"]\n",
    ")"
   ]
  }
 ],
 "metadata": {
  "language_info": {
   "codemirror_mode": {
    "name": "ipython",
    "version": 3
   },
   "file_extension": ".py",
   "mimetype": "text/x-python",
   "name": "python",
   "nbconvert_exporter": "python",
   "pygments_lexer": "ipython3",
   "version": "3.10.13"
  }
 },
 "nbformat": 4,
 "nbformat_minor": 2
}
