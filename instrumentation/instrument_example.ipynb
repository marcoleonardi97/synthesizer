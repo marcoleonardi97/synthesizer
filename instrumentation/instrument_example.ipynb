{
 "cells": [
  {
   "cell_type": "markdown",
   "metadata": {},
   "source": [
    "# Working with Instruments\n",
    "\n",
    "When working with multi wavelength observations (i.e. observables from a range of instruments with a range of filters, resolutions, depths etc.) we need a way to collect the diverse technical properties of instruments. This is where ``Instrument`` and ``InstrumentCollections`` come in. An ``Instrument`` contains the the techincal properties of a single instrument, e.g. NIRCam filter curves, resolution, depths, SNR, or noise maps (we'll detail the use cases for the properties below). An ``InstrumentCollection`` is a container enabling manipulation of multiple ``Instruments`` in a single object.\n",
    "\n",
    "For a ``Survey`` (see [survey docs]()) ``InstrumentCollection`` objects are an important building block of automating pipelines to generate observables.\n",
    "\n",
    "## Creating an ``Instrument``\n",
    "\n",
    "We'll focus on different use cases in the section below. First we'll cover the creation of simple ``Instrument`` instances and combining them into ``InstrumentCollections``. For this we'll just use simple ``Instruments`` defining only the filters (which would be the case if you only want to generate photometry). We'll begin by creating two filter collections, one for Webb's NIRCam instrument and the other for generic UVJ top hats.\n",
    "\n",
    "For more information on filters see the [filter docs](../filters/filters.rst)."
   ]
  },
  {
   "cell_type": "code",
   "execution_count": 1,
   "metadata": {
    "execution": {
     "iopub.execute_input": "2024-10-17T21:24:14.212717Z",
     "iopub.status.busy": "2024-10-17T21:24:14.212518Z",
     "iopub.status.idle": "2024-10-17T21:24:19.405561Z",
     "shell.execute_reply": "2024-10-17T21:24:19.404899Z"
    }
   },
   "outputs": [
    {
     "name": "stdout",
     "output_type": "stream",
     "text": [
      "Calculated wavelength array: \n",
      "min = 7.74e+03 Angstrom\n",
      "max = 5.11e+04 Angstrom\n",
      "FilterCollection.lam.size = 4763\n"
     ]
    },
    {
     "name": "stdout",
     "output_type": "stream",
     "text": [
      "Calculated wavelength array: \n",
      "min = 3.31e+03 Angstrom\n",
      "max = 1.33e+04 Angstrom\n",
      "FilterCollection.lam.size = 75014\n"
     ]
    }
   ],
   "source": [
    "from synthesizer.instruments import FilterCollection, UVJ\n",
    "\n",
    "# Get the filters\n",
    "webb_filters = FilterCollection(\n",
    "    filter_codes=[\n",
    "    f\"JWST/NIRCam.{f}\"\n",
    "    for f in [\"F090W\", \"F150W\", \"F200W\", \"F277W\", \"F356W\", \"F444W\"]\n",
    "],\n",
    ")\n",
    "uvj_filters= UVJ()"
   ]
  },
  {
   "cell_type": "markdown",
   "metadata": {},
   "source": [
    "Now that we have the filters in hand we can simply instantiate the ``Instrument`` objects with the filters and a label."
   ]
  },
  {
   "cell_type": "code",
   "execution_count": 2,
   "metadata": {
    "execution": {
     "iopub.execute_input": "2024-10-17T21:24:19.408022Z",
     "iopub.status.busy": "2024-10-17T21:24:19.407507Z",
     "iopub.status.idle": "2024-10-17T21:24:19.410887Z",
     "shell.execute_reply": "2024-10-17T21:24:19.410376Z"
    }
   },
   "outputs": [],
   "source": [
    "from synthesizer.instruments import Instrument\n",
    "\n",
    "# Instatiate the instruments\n",
    "webb_inst = Instrument(\"JWST\", filters=webb_filters)\n",
    "uvj_inst = Instrument(\"UVJ\", filters=uvj_filters)"
   ]
  },
  {
   "cell_type": "markdown",
   "metadata": {},
   "source": [
    "As with everything else in Synthesizer, if we want to see whats inside the instruments we just created we can print them to see a table."
   ]
  },
  {
   "cell_type": "code",
   "execution_count": 3,
   "metadata": {
    "execution": {
     "iopub.execute_input": "2024-10-17T21:24:19.413368Z",
     "iopub.status.busy": "2024-10-17T21:24:19.412986Z",
     "iopub.status.idle": "2024-10-17T21:24:19.416334Z",
     "shell.execute_reply": "2024-10-17T21:24:19.415824Z"
    }
   },
   "outputs": [
    {
     "name": "stdout",
     "output_type": "stream",
     "text": [
      "+------------------------------------------------------------------------------------------------------------------+\n",
      "|                                                    INSTRUMENT                                                    |\n",
      "+------------------------------------+-----------------------------------------------------------------------------+\n",
      "| Attribute                          | Value                                                                       |\n",
      "+------------------------------------+-----------------------------------------------------------------------------+\n",
      "| label                              | 'JWST'                                                                      |\n",
      "+------------------------------------+-----------------------------------------------------------------------------+\n",
      "| filters                            | <synthesizer.instruments.filters.FilterCollection object at 0x7f65009b4a90> |\n",
      "+------------------------------------+-----------------------------------------------------------------------------+\n",
      "| can_do_imaging                     | False                                                                       |\n",
      "+------------------------------------+-----------------------------------------------------------------------------+\n",
      "| can_do_noisy_imaging               | False                                                                       |\n",
      "+------------------------------------+-----------------------------------------------------------------------------+\n",
      "| can_do_noisy_resolved_spectroscopy | False                                                                       |\n",
      "+------------------------------------+-----------------------------------------------------------------------------+\n",
      "| can_do_noisy_spectroscopy          | False                                                                       |\n",
      "+------------------------------------+-----------------------------------------------------------------------------+\n",
      "| can_do_photometry                  | True                                                                        |\n",
      "+------------------------------------+-----------------------------------------------------------------------------+\n",
      "| can_do_psf_imaging                 | False                                                                       |\n",
      "+------------------------------------+-----------------------------------------------------------------------------+\n",
      "| can_do_psf_spectroscopy            | False                                                                       |\n",
      "+------------------------------------+-----------------------------------------------------------------------------+\n",
      "| can_do_resolved_spectroscopy       | False                                                                       |\n",
      "+------------------------------------+-----------------------------------------------------------------------------+\n",
      "| can_do_spectroscopy                | False                                                                       |\n",
      "+------------------------------------+-----------------------------------------------------------------------------+\n"
     ]
    }
   ],
   "source": [
    "print(webb_inst)"
   ]
  },
  {
   "cell_type": "code",
   "execution_count": 4,
   "metadata": {
    "execution": {
     "iopub.execute_input": "2024-10-17T21:24:19.418398Z",
     "iopub.status.busy": "2024-10-17T21:24:19.418026Z",
     "iopub.status.idle": "2024-10-17T21:24:19.421160Z",
     "shell.execute_reply": "2024-10-17T21:24:19.420646Z"
    }
   },
   "outputs": [
    {
     "name": "stdout",
     "output_type": "stream",
     "text": [
      "+------------------------------------------------------------------------------------------------------------------+\n",
      "|                                                    INSTRUMENT                                                    |\n",
      "+------------------------------------+-----------------------------------------------------------------------------+\n",
      "| Attribute                          | Value                                                                       |\n",
      "+------------------------------------+-----------------------------------------------------------------------------+\n",
      "| label                              | 'UVJ'                                                                       |\n",
      "+------------------------------------+-----------------------------------------------------------------------------+\n",
      "| filters                            | <synthesizer.instruments.filters.FilterCollection object at 0x7f65009b5f90> |\n",
      "+------------------------------------+-----------------------------------------------------------------------------+\n",
      "| can_do_imaging                     | False                                                                       |\n",
      "+------------------------------------+-----------------------------------------------------------------------------+\n",
      "| can_do_noisy_imaging               | False                                                                       |\n",
      "+------------------------------------+-----------------------------------------------------------------------------+\n",
      "| can_do_noisy_resolved_spectroscopy | False                                                                       |\n",
      "+------------------------------------+-----------------------------------------------------------------------------+\n",
      "| can_do_noisy_spectroscopy          | False                                                                       |\n",
      "+------------------------------------+-----------------------------------------------------------------------------+\n",
      "| can_do_photometry                  | True                                                                        |\n",
      "+------------------------------------+-----------------------------------------------------------------------------+\n",
      "| can_do_psf_imaging                 | False                                                                       |\n",
      "+------------------------------------+-----------------------------------------------------------------------------+\n",
      "| can_do_psf_spectroscopy            | False                                                                       |\n",
      "+------------------------------------+-----------------------------------------------------------------------------+\n",
      "| can_do_resolved_spectroscopy       | False                                                                       |\n",
      "+------------------------------------+-----------------------------------------------------------------------------+\n",
      "| can_do_spectroscopy                | False                                                                       |\n",
      "+------------------------------------+-----------------------------------------------------------------------------+\n"
     ]
    }
   ],
   "source": [
    "print(uvj_inst)"
   ]
  },
  {
   "cell_type": "markdown",
   "metadata": {},
   "source": [
    "You can see from these print outs that we have the label and ``FilterCollections`` we passed but also a series of flags defining what the instrument can be used for. Since we only passed `filters` we can only generate photometry from spectra with the \"default\" wavelength array (the one used by the [``Grid``](../grids/grids.rst)).\n",
    "\n",
    "## Combining ``Instruments``\n",
    "\n",
    "If we want to combine these into a single ``InstrumentCollection`` we can simply add them together (this can be done for arbitrarily many instruments)."
   ]
  },
  {
   "cell_type": "code",
   "execution_count": 5,
   "metadata": {
    "execution": {
     "iopub.execute_input": "2024-10-17T21:24:19.423140Z",
     "iopub.status.busy": "2024-10-17T21:24:19.422799Z",
     "iopub.status.idle": "2024-10-17T21:24:19.426166Z",
     "shell.execute_reply": "2024-10-17T21:24:19.425496Z"
    }
   },
   "outputs": [
    {
     "name": "stdout",
     "output_type": "stream",
     "text": [
      "+--------------------------------------+\n",
      "|        INSTRUMENT COLLECTION         |\n",
      "+-------------------+------------------+\n",
      "| Attribute         | Value            |\n",
      "+-------------------+------------------+\n",
      "| ninstruments      | 2                |\n",
      "+-------------------+------------------+\n",
      "| instrument_labels | [JWST,  UVJ, ]   |\n",
      "+-------------------+------------------+\n",
      "| instruments       | JWST: Instrument |\n",
      "|                   | UVJ: Instrument  |\n",
      "+-------------------+------------------+\n"
     ]
    }
   ],
   "source": [
    "instruments = webb_inst + uvj_inst\n",
    "print(instruments)"
   ]
  },
  {
   "cell_type": "markdown",
   "metadata": {},
   "source": [
    "Here we can see the ``ImageCollection`` contains both the instruments as expected.\n",
    "\n",
    "## Working with ``InstrumentCollections``\n",
    "\n",
    "If we want to extract a specific instrument from an ``InstrumentCollection`` we can treat it exactly as we would a dictionary by indexing with the label."
   ]
  },
  {
   "cell_type": "code",
   "execution_count": 6,
   "metadata": {
    "execution": {
     "iopub.execute_input": "2024-10-17T21:24:19.428502Z",
     "iopub.status.busy": "2024-10-17T21:24:19.427940Z",
     "iopub.status.idle": "2024-10-17T21:24:19.431326Z",
     "shell.execute_reply": "2024-10-17T21:24:19.430822Z"
    }
   },
   "outputs": [
    {
     "name": "stdout",
     "output_type": "stream",
     "text": [
      "JWST\n"
     ]
    }
   ],
   "source": [
    "print(instruments[\"JWST\"].label)"
   ]
  },
  {
   "cell_type": "markdown",
   "metadata": {},
   "source": [
    "If we want to loop through ``Instruments`` in the collection we can treat it as an iterable."
   ]
  },
  {
   "cell_type": "code",
   "execution_count": 7,
   "metadata": {
    "execution": {
     "iopub.execute_input": "2024-10-17T21:24:19.433339Z",
     "iopub.status.busy": "2024-10-17T21:24:19.432967Z",
     "iopub.status.idle": "2024-10-17T21:24:19.436067Z",
     "shell.execute_reply": "2024-10-17T21:24:19.435559Z"
    }
   },
   "outputs": [
    {
     "name": "stdout",
     "output_type": "stream",
     "text": [
      "JWST\n",
      "UVJ\n"
     ]
    }
   ],
   "source": [
    "for inst in instruments:\n",
    "    print(inst.label)"
   ]
  },
  {
   "cell_type": "markdown",
   "metadata": {},
   "source": [
    "We can write an ``InstrumentCollection`` to a HDF5 file to reload it later by calling the ``write_instruments`` method. This simply requires a filepath for where to save the ``InstrumentCollection``."
   ]
  },
  {
   "cell_type": "code",
   "execution_count": 8,
   "metadata": {
    "execution": {
     "iopub.execute_input": "2024-10-17T21:24:19.438143Z",
     "iopub.status.busy": "2024-10-17T21:24:19.437778Z",
     "iopub.status.idle": "2024-10-17T21:24:19.451093Z",
     "shell.execute_reply": "2024-10-17T21:24:19.450461Z"
    }
   },
   "outputs": [],
   "source": [
    "instruments.write_instruments(\"instruments.hdf5\")"
   ]
  },
  {
   "cell_type": "markdown",
   "metadata": {},
   "source": [
    "We can then use this file later rather than making and combining all the individual ``Instruments`` but passing the filepath to an ``InstrumentCollection`` at instantiation."
   ]
  },
  {
   "cell_type": "code",
   "execution_count": 9,
   "metadata": {
    "execution": {
     "iopub.execute_input": "2024-10-17T21:24:19.453403Z",
     "iopub.status.busy": "2024-10-17T21:24:19.453033Z",
     "iopub.status.idle": "2024-10-17T21:24:19.481417Z",
     "shell.execute_reply": "2024-10-17T21:24:19.480864Z"
    }
   },
   "outputs": [
    {
     "name": "stdout",
     "output_type": "stream",
     "text": [
      "['JWST/NIRCam.F090W' 'JWST/NIRCam.F150W' 'JWST/NIRCam.F200W'\n",
      " 'JWST/NIRCam.F277W' 'JWST/NIRCam.F356W' 'JWST/NIRCam.F444W']\n",
      "['U' 'V' 'J']\n"
     ]
    }
   ],
   "source": [
    "from synthesizer.instruments import InstrumentCollection\n",
    "\n",
    "instruments = InstrumentCollection(filepath=\"instruments.hdf5\")"
   ]
  },
  {
   "cell_type": "markdown",
   "metadata": {},
   "source": [
    "## Instrument Use Cases\n",
    "\n",
    "We've already seen the pure photometry use case where you only need to include a ``FilterCollection`` on your ``Instrument``. However, that is the tip of the iceberg. Below each section details what is needed for different observables.\n",
    "\n",
    "### Spectroscopy\n",
    "\n",
    "It's entirely possible to generate spectra for a galaxy without an ``Instrument``, instead using the ``Grid`` wavelengths (see the [spectra docs](../spectra/spectra.rst)), but if you want to match observations by a particular instrument (e.g. LSST, DESI) you'll need the specific wavelength array for that instrument."
   ]
  },
  {
   "cell_type": "code",
   "execution_count": 10,
   "metadata": {
    "execution": {
     "iopub.execute_input": "2024-10-17T21:24:19.483794Z",
     "iopub.status.busy": "2024-10-17T21:24:19.483413Z",
     "iopub.status.idle": "2024-10-17T21:24:19.491746Z",
     "shell.execute_reply": "2024-10-17T21:24:19.491201Z"
    }
   },
   "outputs": [
    {
     "name": "stdout",
     "output_type": "stream",
     "text": [
      "+----------------------------------------------------------------------------------+\n",
      "|                                    INSTRUMENT                                    |\n",
      "+------------------------------------+---------------------------------------------+\n",
      "| Attribute                          | Value                                       |\n",
      "+------------------------------------+---------------------------------------------+\n",
      "| label                              | 'LSST'                                      |\n",
      "+------------------------------------+---------------------------------------------+\n",
      "| can_do_imaging                     | False                                       |\n",
      "+------------------------------------+---------------------------------------------+\n",
      "| can_do_noisy_imaging               | False                                       |\n",
      "+------------------------------------+---------------------------------------------+\n",
      "| can_do_noisy_resolved_spectroscopy | False                                       |\n",
      "+------------------------------------+---------------------------------------------+\n",
      "| can_do_noisy_spectroscopy          | False                                       |\n",
      "+------------------------------------+---------------------------------------------+\n",
      "| can_do_photometry                  | False                                       |\n",
      "+------------------------------------+---------------------------------------------+\n",
      "| can_do_psf_imaging                 | False                                       |\n",
      "+------------------------------------+---------------------------------------------+\n",
      "| can_do_psf_spectroscopy            | False                                       |\n",
      "+------------------------------------+---------------------------------------------+\n",
      "| can_do_resolved_spectroscopy       | False                                       |\n",
      "+------------------------------------+---------------------------------------------+\n",
      "| can_do_spectroscopy                | True                                        |\n",
      "+------------------------------------+---------------------------------------------+\n",
      "| lam (100,)                         | 1.00e+03 Å -> 1.00e+04 Å (Mean: 5.50e+03 Å) |\n",
      "+------------------------------------+---------------------------------------------+\n"
     ]
    }
   ],
   "source": [
    "import numpy as np\n",
    "from unyt import angstrom\n",
    "\n",
    "\n",
    "lsst_inst = Instrument(\"LSST\", lam=np.linspace(10**3, 10**4, 100)*angstrom)\n",
    "print(lsst_inst)"
   ]
  },
  {
   "cell_type": "markdown",
   "metadata": {},
   "source": [
    "You can also include a SNR and depth in apparent magnitude to parametrise any noise contribution to the resultant spectra."
   ]
  },
  {
   "cell_type": "code",
   "execution_count": 11,
   "metadata": {
    "execution": {
     "iopub.execute_input": "2024-10-17T21:24:19.493672Z",
     "iopub.status.busy": "2024-10-17T21:24:19.493448Z",
     "iopub.status.idle": "2024-10-17T21:24:19.497183Z",
     "shell.execute_reply": "2024-10-17T21:24:19.496625Z"
    }
   },
   "outputs": [
    {
     "name": "stdout",
     "output_type": "stream",
     "text": [
      "+----------------------------------------------------------------------------------+\n",
      "|                                    INSTRUMENT                                    |\n",
      "+------------------------------------+---------------------------------------------+\n",
      "| Attribute                          | Value                                       |\n",
      "+------------------------------------+---------------------------------------------+\n",
      "| label                              | 'LSST'                                      |\n",
      "+------------------------------------+---------------------------------------------+\n",
      "| depth                              | 28                                          |\n",
      "+------------------------------------+---------------------------------------------+\n",
      "| snrs                               | 5                                           |\n",
      "+------------------------------------+---------------------------------------------+\n",
      "| can_do_imaging                     | False                                       |\n",
      "+------------------------------------+---------------------------------------------+\n",
      "| can_do_noisy_imaging               | False                                       |\n",
      "+------------------------------------+---------------------------------------------+\n",
      "| can_do_noisy_resolved_spectroscopy | False                                       |\n",
      "+------------------------------------+---------------------------------------------+\n",
      "| can_do_noisy_spectroscopy          | True                                        |\n",
      "+------------------------------------+---------------------------------------------+\n",
      "| can_do_photometry                  | False                                       |\n",
      "+------------------------------------+---------------------------------------------+\n",
      "| can_do_psf_imaging                 | False                                       |\n",
      "+------------------------------------+---------------------------------------------+\n",
      "| can_do_psf_spectroscopy            | False                                       |\n",
      "+------------------------------------+---------------------------------------------+\n",
      "| can_do_resolved_spectroscopy       | False                                       |\n",
      "+------------------------------------+---------------------------------------------+\n",
      "| can_do_spectroscopy                | True                                        |\n",
      "+------------------------------------+---------------------------------------------+\n",
      "| lam (100,)                         | 1.00e+03 Å -> 1.00e+04 Å (Mean: 5.50e+03 Å) |\n",
      "+------------------------------------+---------------------------------------------+\n"
     ]
    }
   ],
   "source": [
    "desi_inst = Instrument(\"LSST\", lam=np.linspace(10**3, 10**4, 100) * angstrom, snrs=5, depth=28)\n",
    "print(desi_inst)"
   ]
  },
  {
   "cell_type": "markdown",
   "metadata": {},
   "source": [
    "### Imaging\n",
    "\n",
    "For imaging we need to be able to first make the photometry so we need a ``FilterCollection``, but then for simple images without observational effects all we need is the resolution with units."
   ]
  },
  {
   "cell_type": "code",
   "execution_count": 12,
   "metadata": {
    "execution": {
     "iopub.execute_input": "2024-10-17T21:24:19.499277Z",
     "iopub.status.busy": "2024-10-17T21:24:19.498936Z",
     "iopub.status.idle": "2024-10-17T21:24:19.502563Z",
     "shell.execute_reply": "2024-10-17T21:24:19.501960Z"
    }
   },
   "outputs": [
    {
     "name": "stdout",
     "output_type": "stream",
     "text": [
      "+------------------------------------------------------------------------------------------------------------------+\n",
      "|                                                    INSTRUMENT                                                    |\n",
      "+------------------------------------+-----------------------------------------------------------------------------+\n",
      "| Attribute                          | Value                                                                       |\n",
      "+------------------------------------+-----------------------------------------------------------------------------+\n",
      "| label                              | 'JWST'                                                                      |\n",
      "+------------------------------------+-----------------------------------------------------------------------------+\n",
      "| filters                            | <synthesizer.instruments.filters.FilterCollection object at 0x7f65009b4a90> |\n",
      "+------------------------------------+-----------------------------------------------------------------------------+\n",
      "| can_do_imaging                     | True                                                                        |\n",
      "+------------------------------------+-----------------------------------------------------------------------------+\n",
      "| can_do_noisy_imaging               | False                                                                       |\n",
      "+------------------------------------+-----------------------------------------------------------------------------+\n",
      "| can_do_noisy_resolved_spectroscopy | False                                                                       |\n",
      "+------------------------------------+-----------------------------------------------------------------------------+\n",
      "| can_do_noisy_spectroscopy          | False                                                                       |\n",
      "+------------------------------------+-----------------------------------------------------------------------------+\n",
      "| can_do_photometry                  | True                                                                        |\n",
      "+------------------------------------+-----------------------------------------------------------------------------+\n",
      "| can_do_psf_imaging                 | False                                                                       |\n",
      "+------------------------------------+-----------------------------------------------------------------------------+\n",
      "| can_do_psf_spectroscopy            | False                                                                       |\n",
      "+------------------------------------+-----------------------------------------------------------------------------+\n",
      "| can_do_resolved_spectroscopy       | False                                                                       |\n",
      "+------------------------------------+-----------------------------------------------------------------------------+\n",
      "| can_do_spectroscopy                | False                                                                       |\n",
      "+------------------------------------+-----------------------------------------------------------------------------+\n",
      "| resolution                         | 0.1 kpc                                                                     |\n",
      "+------------------------------------+-----------------------------------------------------------------------------+\n"
     ]
    }
   ],
   "source": [
    "from unyt import kpc\n",
    "\n",
    "\n",
    "webb_inst = Instrument(\"JWST\", filters=webb_filters, resolution=0.1 * kpc)\n",
    "print(webb_inst)"
   ]
  },
  {
   "cell_type": "markdown",
   "metadata": {},
   "source": [
    "If we want to include the effects of an instruments point spread function (PSF) we can pass a dictionary of PSF arrays with one for each filter."
   ]
  },
  {
   "cell_type": "code",
   "execution_count": 13,
   "metadata": {
    "execution": {
     "iopub.execute_input": "2024-10-17T21:24:19.504498Z",
     "iopub.status.busy": "2024-10-17T21:24:19.504299Z",
     "iopub.status.idle": "2024-10-17T21:24:19.508898Z",
     "shell.execute_reply": "2024-10-17T21:24:19.508243Z"
    }
   },
   "outputs": [
    {
     "name": "stdout",
     "output_type": "stream",
     "text": [
      "+------------------------------------------------------------------------------------------------------------------+\n",
      "|                                                    INSTRUMENT                                                    |\n",
      "+------------------------------------+-----------------------------------------------------------------------------+\n",
      "| Attribute                          | Value                                                                       |\n",
      "+------------------------------------+-----------------------------------------------------------------------------+\n",
      "| label                              | 'JWST'                                                                      |\n",
      "+------------------------------------+-----------------------------------------------------------------------------+\n",
      "| filters                            | <synthesizer.instruments.filters.FilterCollection object at 0x7f65009b4a90> |\n",
      "+------------------------------------+-----------------------------------------------------------------------------+\n",
      "| can_do_imaging                     | True                                                                        |\n",
      "+------------------------------------+-----------------------------------------------------------------------------+\n",
      "| can_do_noisy_imaging               | False                                                                       |\n",
      "+------------------------------------+-----------------------------------------------------------------------------+\n",
      "| can_do_noisy_resolved_spectroscopy | False                                                                       |\n",
      "+------------------------------------+-----------------------------------------------------------------------------+\n",
      "| can_do_noisy_spectroscopy          | False                                                                       |\n",
      "+------------------------------------+-----------------------------------------------------------------------------+\n",
      "| can_do_photometry                  | True                                                                        |\n",
      "+------------------------------------+-----------------------------------------------------------------------------+\n",
      "| can_do_psf_imaging                 | True                                                                        |\n",
      "+------------------------------------+-----------------------------------------------------------------------------+\n",
      "| can_do_psf_spectroscopy            | False                                                                       |\n",
      "+------------------------------------+-----------------------------------------------------------------------------+\n",
      "| can_do_resolved_spectroscopy       | False                                                                       |\n",
      "+------------------------------------+-----------------------------------------------------------------------------+\n",
      "| can_do_spectroscopy                | False                                                                       |\n",
      "+------------------------------------+-----------------------------------------------------------------------------+\n",
      "| resolution                         | 0.1 kpc                                                                     |\n",
      "+------------------------------------+-----------------------------------------------------------------------------+\n",
      "| psfs                               | JWST/NIRCam.F090W: ndarray                                                  |\n",
      "|                                    | JWST/NIRCam.F150W: ndarray                                                  |\n",
      "|                                    | JWST/NIRCam.F200W: ndarray                                                  |\n",
      "|                                    | JWST/NIRCam.F277W: ndarray                                                  |\n",
      "|                                    | JWST/NIRCam.F356W: ndarray                                                  |\n",
      "|                                    | JWST/NIRCam.F444W: ndarray                                                  |\n",
      "+------------------------------------+-----------------------------------------------------------------------------+\n"
     ]
    }
   ],
   "source": [
    "# Generate a dictionary of FAKE PSFs, importantly with a PSF for each filter\n",
    "psfs = {f: np.ones((100,100)) for f in webb_filters.filters}\n",
    "\n",
    "webb_inst = Instrument(\"JWST\", filters=webb_filters, resolution=0.1 * kpc, psfs=psfs)\n",
    "print(webb_inst)"
   ]
  },
  {
   "cell_type": "markdown",
   "metadata": {},
   "source": [
    "If we want to include noise there's a couple of different approaches. \n",
    "\n",
    "We can either pass the depth and Signal-to-Noise Ratio (SNR) for each filter."
   ]
  },
  {
   "cell_type": "code",
   "execution_count": 14,
   "metadata": {
    "execution": {
     "iopub.execute_input": "2024-10-17T21:24:19.510810Z",
     "iopub.status.busy": "2024-10-17T21:24:19.510612Z",
     "iopub.status.idle": "2024-10-17T21:24:19.514915Z",
     "shell.execute_reply": "2024-10-17T21:24:19.514286Z"
    }
   },
   "outputs": [
    {
     "name": "stdout",
     "output_type": "stream",
     "text": [
      "+------------------------------------------------------------------------------------------------------------------+\n",
      "|                                                    INSTRUMENT                                                    |\n",
      "+------------------------------------+-----------------------------------------------------------------------------+\n",
      "| Attribute                          | Value                                                                       |\n",
      "+------------------------------------+-----------------------------------------------------------------------------+\n",
      "| label                              | 'JWST'                                                                      |\n",
      "+------------------------------------+-----------------------------------------------------------------------------+\n",
      "| filters                            | <synthesizer.instruments.filters.FilterCollection object at 0x7f65009b4a90> |\n",
      "+------------------------------------+-----------------------------------------------------------------------------+\n",
      "| can_do_imaging                     | True                                                                        |\n",
      "+------------------------------------+-----------------------------------------------------------------------------+\n",
      "| can_do_noisy_imaging               | True                                                                        |\n",
      "+------------------------------------+-----------------------------------------------------------------------------+\n",
      "| can_do_noisy_resolved_spectroscopy | False                                                                       |\n",
      "+------------------------------------+-----------------------------------------------------------------------------+\n",
      "| can_do_noisy_spectroscopy          | False                                                                       |\n",
      "+------------------------------------+-----------------------------------------------------------------------------+\n",
      "| can_do_photometry                  | True                                                                        |\n",
      "+------------------------------------+-----------------------------------------------------------------------------+\n",
      "| can_do_psf_imaging                 | True                                                                        |\n",
      "+------------------------------------+-----------------------------------------------------------------------------+\n",
      "| can_do_psf_spectroscopy            | False                                                                       |\n",
      "+------------------------------------+-----------------------------------------------------------------------------+\n",
      "| can_do_resolved_spectroscopy       | False                                                                       |\n",
      "+------------------------------------+-----------------------------------------------------------------------------+\n",
      "| can_do_spectroscopy                | False                                                                       |\n",
      "+------------------------------------+-----------------------------------------------------------------------------+\n",
      "| resolution                         | 0.1 kpc                                                                     |\n",
      "+------------------------------------+-----------------------------------------------------------------------------+\n",
      "| depth                              | JWST/NIRCam.F090W: float                                                    |\n",
      "|                                    | JWST/NIRCam.F150W: float                                                    |\n",
      "|                                    | JWST/NIRCam.F200W: float                                                    |\n",
      "|                                    | JWST/NIRCam.F277W: float                                                    |\n",
      "|                                    | JWST/NIRCam.F356W: float                                                    |\n",
      "|                                    | JWST/NIRCam.F444W: float                                                    |\n",
      "+------------------------------------+-----------------------------------------------------------------------------+\n",
      "| snrs                               | JWST/NIRCam.F090W: float                                                    |\n",
      "|                                    | JWST/NIRCam.F150W: float                                                    |\n",
      "|                                    | JWST/NIRCam.F200W: float                                                    |\n",
      "|                                    | JWST/NIRCam.F277W: float                                                    |\n",
      "|                                    | JWST/NIRCam.F356W: float                                                    |\n",
      "|                                    | JWST/NIRCam.F444W: float                                                    |\n",
      "+------------------------------------+-----------------------------------------------------------------------------+\n",
      "| psfs                               | JWST/NIRCam.F090W: ndarray                                                  |\n",
      "|                                    | JWST/NIRCam.F150W: ndarray                                                  |\n",
      "|                                    | JWST/NIRCam.F200W: ndarray                                                  |\n",
      "|                                    | JWST/NIRCam.F277W: ndarray                                                  |\n",
      "|                                    | JWST/NIRCam.F356W: ndarray                                                  |\n",
      "|                                    | JWST/NIRCam.F444W: ndarray                                                  |\n",
      "+------------------------------------+-----------------------------------------------------------------------------+\n"
     ]
    }
   ],
   "source": [
    "# Generate depths and snrs, again there must be one for each filter\n",
    "depths = {f: 28.0 for f in webb_filters.filters}\n",
    "snrs = {f: 5.0 for f in webb_filters.filters}\n",
    "\n",
    "webb_inst = Instrument(\"JWST\", filters=webb_filters, resolution=0.1 * kpc, psfs=psfs, depth=depths, snrs=snrs)\n",
    "print(webb_inst)"
   ]
  },
  {
   "cell_type": "markdown",
   "metadata": {},
   "source": [
    "If we already have noise maps for each filter we can instead pass a noise map per filter."
   ]
  },
  {
   "cell_type": "code",
   "execution_count": 15,
   "metadata": {
    "execution": {
     "iopub.execute_input": "2024-10-17T21:24:19.516795Z",
     "iopub.status.busy": "2024-10-17T21:24:19.516601Z",
     "iopub.status.idle": "2024-10-17T21:24:19.520799Z",
     "shell.execute_reply": "2024-10-17T21:24:19.520291Z"
    }
   },
   "outputs": [
    {
     "name": "stdout",
     "output_type": "stream",
     "text": [
      "+------------------------------------------------------------------------------------------------------------------+\n",
      "|                                                    INSTRUMENT                                                    |\n",
      "+------------------------------------+-----------------------------------------------------------------------------+\n",
      "| Attribute                          | Value                                                                       |\n",
      "+------------------------------------+-----------------------------------------------------------------------------+\n",
      "| label                              | 'JWST'                                                                      |\n",
      "+------------------------------------+-----------------------------------------------------------------------------+\n",
      "| filters                            | <synthesizer.instruments.filters.FilterCollection object at 0x7f65009b4a90> |\n",
      "+------------------------------------+-----------------------------------------------------------------------------+\n",
      "| can_do_imaging                     | True                                                                        |\n",
      "+------------------------------------+-----------------------------------------------------------------------------+\n",
      "| can_do_noisy_imaging               | True                                                                        |\n",
      "+------------------------------------+-----------------------------------------------------------------------------+\n",
      "| can_do_noisy_resolved_spectroscopy | False                                                                       |\n",
      "+------------------------------------+-----------------------------------------------------------------------------+\n",
      "| can_do_noisy_spectroscopy          | False                                                                       |\n",
      "+------------------------------------+-----------------------------------------------------------------------------+\n",
      "| can_do_photometry                  | True                                                                        |\n",
      "+------------------------------------+-----------------------------------------------------------------------------+\n",
      "| can_do_psf_imaging                 | False                                                                       |\n",
      "+------------------------------------+-----------------------------------------------------------------------------+\n",
      "| can_do_psf_spectroscopy            | False                                                                       |\n",
      "+------------------------------------+-----------------------------------------------------------------------------+\n",
      "| can_do_resolved_spectroscopy       | False                                                                       |\n",
      "+------------------------------------+-----------------------------------------------------------------------------+\n",
      "| can_do_spectroscopy                | False                                                                       |\n",
      "+------------------------------------+-----------------------------------------------------------------------------+\n",
      "| resolution                         | 0.1 kpc                                                                     |\n",
      "+------------------------------------+-----------------------------------------------------------------------------+\n",
      "| noise_maps                         | JWST/NIRCam.F090W: ndarray                                                  |\n",
      "|                                    | JWST/NIRCam.F150W: ndarray                                                  |\n",
      "|                                    | JWST/NIRCam.F200W: ndarray                                                  |\n",
      "|                                    | JWST/NIRCam.F277W: ndarray                                                  |\n",
      "|                                    | JWST/NIRCam.F356W: ndarray                                                  |\n",
      "|                                    | JWST/NIRCam.F444W: ndarray                                                  |\n",
      "+------------------------------------+-----------------------------------------------------------------------------+\n"
     ]
    }
   ],
   "source": [
    "# Generate FAKE noise maps, again there must be one for each filter\n",
    "noise_maps = {f: np.random.rand(100, 100) for f in webb_filters.filters}\n",
    "\n",
    "webb_inst = Instrument(\"JWST\", filters=webb_filters, resolution=0.1 * kpc, noise_maps=noise_maps)\n",
    "print(webb_inst)"
   ]
  },
  {
   "cell_type": "markdown",
   "metadata": {},
   "source": [
    "### Resolved Spectroscopy\n",
    "\n",
    "As well as producing integrated spectroscopy we can also use an ``Instrument`` for resolved spectroscopy. For this we need the wavelength array for the ``Instrument`` and the resolution of the spaxels."
   ]
  },
  {
   "cell_type": "code",
   "execution_count": 16,
   "metadata": {
    "execution": {
     "iopub.execute_input": "2024-10-17T21:24:19.522951Z",
     "iopub.status.busy": "2024-10-17T21:24:19.522587Z",
     "iopub.status.idle": "2024-10-17T21:24:19.526404Z",
     "shell.execute_reply": "2024-10-17T21:24:19.525823Z"
    }
   },
   "outputs": [
    {
     "name": "stdout",
     "output_type": "stream",
     "text": [
      "+----------------------------------------------------------------------------------+\n",
      "|                                    INSTRUMENT                                    |\n",
      "+------------------------------------+---------------------------------------------+\n",
      "| Attribute                          | Value                                       |\n",
      "+------------------------------------+---------------------------------------------+\n",
      "| label                              | 'NIRSpec'                                   |\n",
      "+------------------------------------+---------------------------------------------+\n",
      "| can_do_imaging                     | False                                       |\n",
      "+------------------------------------+---------------------------------------------+\n",
      "| can_do_noisy_imaging               | False                                       |\n",
      "+------------------------------------+---------------------------------------------+\n",
      "| can_do_noisy_resolved_spectroscopy | False                                       |\n",
      "+------------------------------------+---------------------------------------------+\n",
      "| can_do_noisy_spectroscopy          | False                                       |\n",
      "+------------------------------------+---------------------------------------------+\n",
      "| can_do_photometry                  | False                                       |\n",
      "+------------------------------------+---------------------------------------------+\n",
      "| can_do_psf_imaging                 | False                                       |\n",
      "+------------------------------------+---------------------------------------------+\n",
      "| can_do_psf_spectroscopy            | False                                       |\n",
      "+------------------------------------+---------------------------------------------+\n",
      "| can_do_resolved_spectroscopy       | True                                        |\n",
      "+------------------------------------+---------------------------------------------+\n",
      "| can_do_spectroscopy                | True                                        |\n",
      "+------------------------------------+---------------------------------------------+\n",
      "| resolution                         | 0.1 kpc                                     |\n",
      "+------------------------------------+---------------------------------------------+\n",
      "| lam (100,)                         | 1.00e+03 Å -> 1.00e+04 Å (Mean: 5.50e+03 Å) |\n",
      "+------------------------------------+---------------------------------------------+\n"
     ]
    }
   ],
   "source": [
    "nirspec = Instrument(\"NIRSpec\", lam=np.linspace(10**3, 10**4, 100)*angstrom, resolution=0.1 * kpc)\n",
    "print(nirspec)"
   ]
  },
  {
   "cell_type": "markdown",
   "metadata": {},
   "source": [
    "Like with imaging we can also pass a PSF to include its effects but here we only need one since we don't have individual filters."
   ]
  },
  {
   "cell_type": "code",
   "execution_count": 17,
   "metadata": {
    "execution": {
     "iopub.execute_input": "2024-10-17T21:24:19.529193Z",
     "iopub.status.busy": "2024-10-17T21:24:19.529003Z",
     "iopub.status.idle": "2024-10-17T21:24:19.532885Z",
     "shell.execute_reply": "2024-10-17T21:24:19.532323Z"
    }
   },
   "outputs": [
    {
     "name": "stdout",
     "output_type": "stream",
     "text": [
      "+----------------------------------------------------------------------------------+\n",
      "|                                    INSTRUMENT                                    |\n",
      "+------------------------------------+---------------------------------------------+\n",
      "| Attribute                          | Value                                       |\n",
      "+------------------------------------+---------------------------------------------+\n",
      "| label                              | 'NIRSpec'                                   |\n",
      "+------------------------------------+---------------------------------------------+\n",
      "| can_do_imaging                     | False                                       |\n",
      "+------------------------------------+---------------------------------------------+\n",
      "| can_do_noisy_imaging               | False                                       |\n",
      "+------------------------------------+---------------------------------------------+\n",
      "| can_do_noisy_resolved_spectroscopy | False                                       |\n",
      "+------------------------------------+---------------------------------------------+\n",
      "| can_do_noisy_spectroscopy          | False                                       |\n",
      "+------------------------------------+---------------------------------------------+\n",
      "| can_do_photometry                  | False                                       |\n",
      "+------------------------------------+---------------------------------------------+\n",
      "| can_do_psf_imaging                 | False                                       |\n",
      "+------------------------------------+---------------------------------------------+\n",
      "| can_do_psf_spectroscopy            | True                                        |\n",
      "+------------------------------------+---------------------------------------------+\n",
      "| can_do_resolved_spectroscopy       | True                                        |\n",
      "+------------------------------------+---------------------------------------------+\n",
      "| can_do_spectroscopy                | True                                        |\n",
      "+------------------------------------+---------------------------------------------+\n",
      "| resolution                         | 0.1 kpc                                     |\n",
      "+------------------------------------+---------------------------------------------+\n",
      "| lam (100,)                         | 1.00e+03 Å -> 1.00e+04 Å (Mean: 5.50e+03 Å) |\n",
      "+------------------------------------+---------------------------------------------+\n",
      "| psfs (100, 100)                    | 1.00e+00 -> 1.00e+00 (Mean: 1.00e+00)       |\n",
      "+------------------------------------+---------------------------------------------+\n"
     ]
    }
   ],
   "source": [
    "nirspec = Instrument(\"NIRSpec\", lam=np.linspace(10**3, 10**4, 100)*angstrom, resolution=0.1 * kpc, psfs=np.ones((100,100)))\n",
    "print(nirspec)"
   ]
  },
  {
   "cell_type": "markdown",
   "metadata": {},
   "source": [
    "We can also apply noise to the spectrum by passing the noise as a function of wavelength to the ``noise_maps`` argument."
   ]
  },
  {
   "cell_type": "code",
   "execution_count": 18,
   "metadata": {
    "execution": {
     "iopub.execute_input": "2024-10-17T21:24:19.535065Z",
     "iopub.status.busy": "2024-10-17T21:24:19.534613Z",
     "iopub.status.idle": "2024-10-17T21:24:19.539241Z",
     "shell.execute_reply": "2024-10-17T21:24:19.538696Z"
    }
   },
   "outputs": [
    {
     "name": "stdout",
     "output_type": "stream",
     "text": [
      "+----------------------------------------------------------------------------------+\n",
      "|                                    INSTRUMENT                                    |\n",
      "+------------------------------------+---------------------------------------------+\n",
      "| Attribute                          | Value                                       |\n",
      "+------------------------------------+---------------------------------------------+\n",
      "| label                              | 'NIRSpec'                                   |\n",
      "+------------------------------------+---------------------------------------------+\n",
      "| can_do_imaging                     | False                                       |\n",
      "+------------------------------------+---------------------------------------------+\n",
      "| can_do_noisy_imaging               | False                                       |\n",
      "+------------------------------------+---------------------------------------------+\n",
      "| can_do_noisy_resolved_spectroscopy | True                                        |\n",
      "+------------------------------------+---------------------------------------------+\n",
      "| can_do_noisy_spectroscopy          | True                                        |\n",
      "+------------------------------------+---------------------------------------------+\n",
      "| can_do_photometry                  | False                                       |\n",
      "+------------------------------------+---------------------------------------------+\n",
      "| can_do_psf_imaging                 | False                                       |\n",
      "+------------------------------------+---------------------------------------------+\n",
      "| can_do_psf_spectroscopy            | True                                        |\n",
      "+------------------------------------+---------------------------------------------+\n",
      "| can_do_resolved_spectroscopy       | True                                        |\n",
      "+------------------------------------+---------------------------------------------+\n",
      "| can_do_spectroscopy                | True                                        |\n",
      "+------------------------------------+---------------------------------------------+\n",
      "| resolution                         | 0.1 kpc                                     |\n",
      "+------------------------------------+---------------------------------------------+\n",
      "| lam (100,)                         | 1.00e+03 Å -> 1.00e+04 Å (Mean: 5.50e+03 Å) |\n",
      "+------------------------------------+---------------------------------------------+\n",
      "| psfs (100, 100)                    | 1.00e+00 -> 1.00e+00 (Mean: 1.00e+00)       |\n",
      "+------------------------------------+---------------------------------------------+\n",
      "| noise_maps (100, 100)              | 4.80e-05 -> 1.00e+00 (Mean: 4.99e-01)       |\n",
      "+------------------------------------+---------------------------------------------+\n"
     ]
    }
   ],
   "source": [
    "nirspec = Instrument(\"NIRSpec\", lam=np.linspace(10**3, 10**4, 100)*angstrom, resolution=0.1 * kpc, psfs=np.ones((100,100)), noise_maps=np.random.rand(100,100))\n",
    "print(nirspec)"
   ]
  }
 ],
 "metadata": {
  "language_info": {
   "codemirror_mode": {
    "name": "ipython",
    "version": 3
   },
   "file_extension": ".py",
   "mimetype": "text/x-python",
   "name": "python",
   "nbconvert_exporter": "python",
   "pygments_lexer": "ipython3",
   "version": "3.10.15"
  }
 },
 "nbformat": 4,
 "nbformat_minor": 2
}
